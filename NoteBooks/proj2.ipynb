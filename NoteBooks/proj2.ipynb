{
 "cells": [
  {
   "attachments": {},
   "cell_type": "markdown",
   "metadata": {},
   "source": [
    "# Coin MarketCap Exploration"
   ]
  },
  {
   "attachments": {},
   "cell_type": "markdown",
   "metadata": {},
   "source": [
    "Project Goal: The aim of this project is to analyse cryptocurrency data. Source Link: https://coinmarketcap.com/api/  https://coinmarketcap.com/api/documentation/v1/"
   ]
  },
  {
   "attachments": {},
   "cell_type": "markdown",
   "metadata": {},
   "source": [
    "# Import Modules"
   ]
  },
  {
   "cell_type": "code",
   "execution_count": 1,
   "metadata": {},
   "outputs": [],
   "source": [
    "import sys\n",
    "import json\n",
    "import warnings\n",
    "import numpy as np\n",
    "import pandas as pd\n",
    "from PIL import Image\n",
    "import matplotlib as mpl\n",
    "from credentials import *\n",
    "sys.path.append(sys_path_ds)\n",
    "import matplotlib.pyplot as plt\n",
    "from urllib.request import urlopen\n",
    "from DataPipelines.coinmarketcap_etl import *"
   ]
  },
  {
   "attachments": {},
   "cell_type": "markdown",
   "metadata": {},
   "source": [
    "# Options and Settings"
   ]
  },
  {
   "cell_type": "code",
   "execution_count": 2,
   "metadata": {},
   "outputs": [],
   "source": [
    "np.set_printoptions(precision=2)\n",
    "warnings.simplefilter('ignore')\n",
    "mpl.rcParams['lines.linewidth'] = 2\n",
    "mpl.rcParams['lines.linestyle'] = '--'\n",
    "pd.options.display.max_rows = 10\n",
    "pd.options.display.max_columns = 100\n",
    "pd.options.display.precision = 2\n",
    "plt.style.use(['ggplot', 'fivethirtyeight'])\n",
    "plt.rcParams['figure.figsize'] = [8, 6]\n",
    "plt.rcParams['figure.autolayout'] = True\n",
    "# print(plt.style.available)"
   ]
  },
  {
   "attachments": {},
   "cell_type": "markdown",
   "metadata": {},
   "source": [
    "# Load Image"
   ]
  },
  {
   "cell_type": "code",
   "execution_count": 3,
   "metadata": {},
   "outputs": [
    {
     "data": {
      "image/png": "[encoded data removed]",
      "text/plain": [
       "<PIL.PngImagePlugin.PngImageFile image mode=P size=900x500>"
      ]
     },
     "execution_count": 3,
     "metadata": {},
     "output_type": "execute_result"
    }
   ],
   "source": [
    "image_url = 'https://vectorlogoseek.com/wp-content/uploads/2018/12/coinmarketcap-vector-logo.png'\n",
    "Image.open(urlopen(f'{image_url}'))"
   ]
  },
  {
   "attachments": {},
   "cell_type": "markdown",
   "metadata": {},
   "source": [
    "# Extract Data"
   ]
  },
  {
   "attachments": {},
   "cell_type": "markdown",
   "metadata": {},
   "source": [
    "Fetch Json Data"
   ]
  },
  {
   "cell_type": "code",
   "execution_count": 4,
   "metadata": {},
   "outputs": [],
   "source": [
    "json_data = extract()"
   ]
  },
  {
   "attachments": {},
   "cell_type": "markdown",
   "metadata": {},
   "source": [
    "# Transform Data"
   ]
  },
  {
   "attachments": {},
   "cell_type": "markdown",
   "metadata": {},
   "source": [
    "Transform JSON data to pandas dataframe"
   ]
  },
  {
   "cell_type": "code",
   "execution_count": 5,
   "metadata": {},
   "outputs": [
    {
     "data": {
      "text/html": [
       "<div>\n",
       "<style scoped>\n",
       "    .dataframe tbody tr th:only-of-type {\n",
       "        vertical-align: middle;\n",
       "    }\n",
       "\n",
       "    .dataframe tbody tr th {\n",
       "        vertical-align: top;\n",
       "    }\n",
       "\n",
       "    .dataframe thead th {\n",
       "        text-align: right;\n",
       "    }\n",
       "</style>\n",
       "<table border=\"1\" class=\"dataframe\">\n",
       "  <thead>\n",
       "    <tr style=\"text-align: right;\">\n",
       "      <th></th>\n",
       "      <th>name</th>\n",
       "      <th>symbol</th>\n",
       "      <th>num_market_pairs</th>\n",
       "      <th>max_supply</th>\n",
       "      <th>circulating_supply</th>\n",
       "      <th>total_supply</th>\n",
       "      <th>cmc_rank</th>\n",
       "      <th>date_added</th>\n",
       "      <th>last_updated</th>\n",
       "    </tr>\n",
       "  </thead>\n",
       "  <tbody>\n",
       "    <tr>\n",
       "      <th>0</th>\n",
       "      <td>Bitcoin</td>\n",
       "      <td>BTC</td>\n",
       "      <td>10220</td>\n",
       "      <td>2.10e+07</td>\n",
       "      <td>1.94e+07</td>\n",
       "      <td>1.94e+07</td>\n",
       "      <td>1</td>\n",
       "      <td>2010-07-13</td>\n",
       "      <td>2023-05-19</td>\n",
       "    </tr>\n",
       "    <tr>\n",
       "      <th>1</th>\n",
       "      <td>Ethereum</td>\n",
       "      <td>ETH</td>\n",
       "      <td>6919</td>\n",
       "      <td>NaN</td>\n",
       "      <td>1.20e+08</td>\n",
       "      <td>1.20e+08</td>\n",
       "      <td>2</td>\n",
       "      <td>2015-08-07</td>\n",
       "      <td>2023-05-19</td>\n",
       "    </tr>\n",
       "    <tr>\n",
       "      <th>2</th>\n",
       "      <td>Tether</td>\n",
       "      <td>USDT</td>\n",
       "      <td>53749</td>\n",
       "      <td>NaN</td>\n",
       "      <td>8.29e+10</td>\n",
       "      <td>8.61e+10</td>\n",
       "      <td>3</td>\n",
       "      <td>2015-02-25</td>\n",
       "      <td>2023-05-19</td>\n",
       "    </tr>\n",
       "    <tr>\n",
       "      <th>3</th>\n",
       "      <td>BNB</td>\n",
       "      <td>BNB</td>\n",
       "      <td>1379</td>\n",
       "      <td>NaN</td>\n",
       "      <td>1.56e+08</td>\n",
       "      <td>1.56e+08</td>\n",
       "      <td>4</td>\n",
       "      <td>2017-07-25</td>\n",
       "      <td>2023-05-19</td>\n",
       "    </tr>\n",
       "    <tr>\n",
       "      <th>4</th>\n",
       "      <td>USD Coin</td>\n",
       "      <td>USDC</td>\n",
       "      <td>12547</td>\n",
       "      <td>NaN</td>\n",
       "      <td>2.96e+10</td>\n",
       "      <td>2.96e+10</td>\n",
       "      <td>5</td>\n",
       "      <td>2018-10-08</td>\n",
       "      <td>2023-05-19</td>\n",
       "    </tr>\n",
       "    <tr>\n",
       "      <th>...</th>\n",
       "      <td>...</td>\n",
       "      <td>...</td>\n",
       "      <td>...</td>\n",
       "      <td>...</td>\n",
       "      <td>...</td>\n",
       "      <td>...</td>\n",
       "      <td>...</td>\n",
       "      <td>...</td>\n",
       "      <td>...</td>\n",
       "    </tr>\n",
       "    <tr>\n",
       "      <th>4995</th>\n",
       "      <td>HbarSuite</td>\n",
       "      <td>HSUITE</td>\n",
       "      <td>4</td>\n",
       "      <td>5.00e+10</td>\n",
       "      <td>0.00e+00</td>\n",
       "      <td>5.00e+10</td>\n",
       "      <td>4997</td>\n",
       "      <td>2023-04-28</td>\n",
       "      <td>2023-05-19</td>\n",
       "    </tr>\n",
       "    <tr>\n",
       "      <th>4996</th>\n",
       "      <td>MiningNFT</td>\n",
       "      <td>MIT</td>\n",
       "      <td>1</td>\n",
       "      <td>NaN</td>\n",
       "      <td>0.00e+00</td>\n",
       "      <td>3.60e+08</td>\n",
       "      <td>4998</td>\n",
       "      <td>2022-09-29</td>\n",
       "      <td>2023-05-19</td>\n",
       "    </tr>\n",
       "    <tr>\n",
       "      <th>4997</th>\n",
       "      <td>Clay Nation</td>\n",
       "      <td>CLAY</td>\n",
       "      <td>2</td>\n",
       "      <td>2.50e+09</td>\n",
       "      <td>0.00e+00</td>\n",
       "      <td>2.50e+09</td>\n",
       "      <td>4999</td>\n",
       "      <td>2022-10-17</td>\n",
       "      <td>2023-05-19</td>\n",
       "    </tr>\n",
       "    <tr>\n",
       "      <th>4998</th>\n",
       "      <td>Ari10</td>\n",
       "      <td>Ari10</td>\n",
       "      <td>7</td>\n",
       "      <td>8.80e+08</td>\n",
       "      <td>0.00e+00</td>\n",
       "      <td>8.44e+08</td>\n",
       "      <td>5001</td>\n",
       "      <td>2021-11-05</td>\n",
       "      <td>2023-05-19</td>\n",
       "    </tr>\n",
       "    <tr>\n",
       "      <th>4999</th>\n",
       "      <td>NFTBomb</td>\n",
       "      <td>NBP</td>\n",
       "      <td>6</td>\n",
       "      <td>1.00e+09</td>\n",
       "      <td>0.00e+00</td>\n",
       "      <td>0.00e+00</td>\n",
       "      <td>5002</td>\n",
       "      <td>2021-11-15</td>\n",
       "      <td>2023-05-19</td>\n",
       "    </tr>\n",
       "  </tbody>\n",
       "</table>\n",
       "<p>5000 rows × 9 columns</p>\n",
       "</div>"
      ],
      "text/plain": [
       "             name  symbol  num_market_pairs  max_supply  circulating_supply   \n",
       "0         Bitcoin     BTC             10220    2.10e+07            1.94e+07  \\\n",
       "1        Ethereum     ETH              6919         NaN            1.20e+08   \n",
       "2          Tether    USDT             53749         NaN            8.29e+10   \n",
       "3             BNB     BNB              1379         NaN            1.56e+08   \n",
       "4        USD Coin    USDC             12547         NaN            2.96e+10   \n",
       "...           ...     ...               ...         ...                 ...   \n",
       "4995    HbarSuite  HSUITE                 4    5.00e+10            0.00e+00   \n",
       "4996    MiningNFT     MIT                 1         NaN            0.00e+00   \n",
       "4997  Clay Nation    CLAY                 2    2.50e+09            0.00e+00   \n",
       "4998        Ari10   Ari10                 7    8.80e+08            0.00e+00   \n",
       "4999      NFTBomb     NBP                 6    1.00e+09            0.00e+00   \n",
       "\n",
       "      total_supply  cmc_rank date_added last_updated  \n",
       "0         1.94e+07         1 2010-07-13   2023-05-19  \n",
       "1         1.20e+08         2 2015-08-07   2023-05-19  \n",
       "2         8.61e+10         3 2015-02-25   2023-05-19  \n",
       "3         1.56e+08         4 2017-07-25   2023-05-19  \n",
       "4         2.96e+10         5 2018-10-08   2023-05-19  \n",
       "...            ...       ...        ...          ...  \n",
       "4995      5.00e+10      4997 2023-04-28   2023-05-19  \n",
       "4996      3.60e+08      4998 2022-09-29   2023-05-19  \n",
       "4997      2.50e+09      4999 2022-10-17   2023-05-19  \n",
       "4998      8.44e+08      5001 2021-11-05   2023-05-19  \n",
       "4999      0.00e+00      5002 2021-11-15   2023-05-19  \n",
       "\n",
       "[5000 rows x 9 columns]"
      ]
     },
     "execution_count": 5,
     "metadata": {},
     "output_type": "execute_result"
    }
   ],
   "source": [
    "df = transform()\n",
    "df"
   ]
  }
 ],
 "metadata": {
  "kernelspec": {
   "display_name": "base",
   "language": "python",
   "name": "python3"
  },
  "language_info": {
   "codemirror_mode": {
    "name": "ipython",
    "version": 3
   },
   "file_extension": ".py",
   "mimetype": "text/x-python",
   "name": "python",
   "nbconvert_exporter": "python",
   "pygments_lexer": "ipython3",
   "version": "3.10.10"
  },
  "orig_nbformat": 4
 },
 "nbformat": 4,
 "nbformat_minor": 2
}
