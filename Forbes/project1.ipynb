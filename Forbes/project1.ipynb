{
 "cells": [
  {
   "cell_type": "markdown",
   "metadata": {},
   "source": [
    "# Forbes Billionaires of 2021"
   ]
  },
  {
   "cell_type": "markdown",
   "metadata": {},
   "source": [
    "# Import Libraries"
   ]
  },
  {
   "cell_type": "code",
   "execution_count": 1,
   "metadata": {},
   "outputs": [],
   "source": [
    "import numpy as np\n",
    "import pandas as pd\n",
    "import matplotlib.pyplot as plt\n",
    "import seaborn as sns\n",
    "import os\n",
    "import warnings"
   ]
  },
  {
   "cell_type": "markdown",
   "metadata": {},
   "source": [
    "# Options and Settings"
   ]
  },
  {
   "cell_type": "code",
   "execution_count": 2,
   "metadata": {},
   "outputs": [],
   "source": [
    "%matplotlib inline\n",
    "plt.style.use('ggplot')\n",
    "plt.rcParams['figure.autolayout'] = True\n",
    "plt.rcParams['figure.figsize'] = [12, 9]\n",
    "plt.rcParams['font.size'] = 12\n",
    "path = os.getcwd()                                         # get current working directory\n",
    "warnings.simplefilter('ignore')"
   ]
  },
  {
   "cell_type": "markdown",
   "metadata": {},
   "source": [
    "# Import Data"
   ]
  },
  {
   "cell_type": "code",
   "execution_count": 3,
   "metadata": {},
   "outputs": [],
   "source": [
    "filepath = os.path.join('datasets', 'Billionaire.csv')\n",
    "df = pd.read_csv(filepath)"
   ]
  },
  {
   "cell_type": "markdown",
   "metadata": {},
   "source": [
    "# Head and Tail"
   ]
  },
  {
   "cell_type": "code",
   "execution_count": 4,
   "metadata": {},
   "outputs": [
    {
     "data": {
      "text/html": [
       "<div>\n",
       "<style scoped>\n",
       "    .dataframe tbody tr th:only-of-type {\n",
       "        vertical-align: middle;\n",
       "    }\n",
       "\n",
       "    .dataframe tbody tr th {\n",
       "        vertical-align: top;\n",
       "    }\n",
       "\n",
       "    .dataframe thead th {\n",
       "        text-align: right;\n",
       "    }\n",
       "</style>\n",
       "<table border=\"1\" class=\"dataframe\">\n",
       "  <thead>\n",
       "    <tr style=\"text-align: right;\">\n",
       "      <th></th>\n",
       "      <th>Name</th>\n",
       "      <th>NetWorth</th>\n",
       "      <th>Country</th>\n",
       "      <th>Source</th>\n",
       "      <th>Rank</th>\n",
       "      <th>Age</th>\n",
       "      <th>Industry</th>\n",
       "    </tr>\n",
       "  </thead>\n",
       "  <tbody>\n",
       "    <tr>\n",
       "      <th>0</th>\n",
       "      <td>Jeff Bezos</td>\n",
       "      <td>$177 B</td>\n",
       "      <td>United States</td>\n",
       "      <td>Amazon</td>\n",
       "      <td>1</td>\n",
       "      <td>57.0</td>\n",
       "      <td>Technology</td>\n",
       "    </tr>\n",
       "    <tr>\n",
       "      <th>1</th>\n",
       "      <td>Elon Musk</td>\n",
       "      <td>$151 B</td>\n",
       "      <td>United States</td>\n",
       "      <td>Tesla, SpaceX</td>\n",
       "      <td>2</td>\n",
       "      <td>49.0</td>\n",
       "      <td>Automotive</td>\n",
       "    </tr>\n",
       "    <tr>\n",
       "      <th>2</th>\n",
       "      <td>Bernard Arnault &amp; family</td>\n",
       "      <td>$150 B</td>\n",
       "      <td>France</td>\n",
       "      <td>LVMH</td>\n",
       "      <td>3</td>\n",
       "      <td>72.0</td>\n",
       "      <td>Fashion &amp; Retail</td>\n",
       "    </tr>\n",
       "    <tr>\n",
       "      <th>3</th>\n",
       "      <td>Bill Gates</td>\n",
       "      <td>$124 B</td>\n",
       "      <td>United States</td>\n",
       "      <td>Microsoft</td>\n",
       "      <td>4</td>\n",
       "      <td>65.0</td>\n",
       "      <td>Technology</td>\n",
       "    </tr>\n",
       "    <tr>\n",
       "      <th>4</th>\n",
       "      <td>Mark Zuckerberg</td>\n",
       "      <td>$97 B</td>\n",
       "      <td>United States</td>\n",
       "      <td>Facebook</td>\n",
       "      <td>5</td>\n",
       "      <td>36.0</td>\n",
       "      <td>Technology</td>\n",
       "    </tr>\n",
       "    <tr>\n",
       "      <th>...</th>\n",
       "      <td>...</td>\n",
       "      <td>...</td>\n",
       "      <td>...</td>\n",
       "      <td>...</td>\n",
       "      <td>...</td>\n",
       "      <td>...</td>\n",
       "      <td>...</td>\n",
       "    </tr>\n",
       "    <tr>\n",
       "      <th>2750</th>\n",
       "      <td>Daniel Yong Zhang</td>\n",
       "      <td>$1 B</td>\n",
       "      <td>China</td>\n",
       "      <td>e-commerce</td>\n",
       "      <td>2674</td>\n",
       "      <td>49.0</td>\n",
       "      <td>Technology</td>\n",
       "    </tr>\n",
       "    <tr>\n",
       "      <th>2751</th>\n",
       "      <td>Zhang Yuqiang</td>\n",
       "      <td>$1 B</td>\n",
       "      <td>China</td>\n",
       "      <td>Fiberglass</td>\n",
       "      <td>2674</td>\n",
       "      <td>65.0</td>\n",
       "      <td>Manufacturing</td>\n",
       "    </tr>\n",
       "    <tr>\n",
       "      <th>2752</th>\n",
       "      <td>Zhao Meiguang</td>\n",
       "      <td>$1 B</td>\n",
       "      <td>China</td>\n",
       "      <td>gold mining</td>\n",
       "      <td>2674</td>\n",
       "      <td>58.0</td>\n",
       "      <td>Metals &amp; Mining</td>\n",
       "    </tr>\n",
       "    <tr>\n",
       "      <th>2753</th>\n",
       "      <td>Zhong Naixiong</td>\n",
       "      <td>$1 B</td>\n",
       "      <td>China</td>\n",
       "      <td>conglomerate</td>\n",
       "      <td>2674</td>\n",
       "      <td>58.0</td>\n",
       "      <td>Diversified</td>\n",
       "    </tr>\n",
       "    <tr>\n",
       "      <th>2754</th>\n",
       "      <td>Zhou Wei family</td>\n",
       "      <td>$1 B</td>\n",
       "      <td>China</td>\n",
       "      <td>Software</td>\n",
       "      <td>2674</td>\n",
       "      <td>54.0</td>\n",
       "      <td>Technology</td>\n",
       "    </tr>\n",
       "  </tbody>\n",
       "</table>\n",
       "<p>2755 rows × 7 columns</p>\n",
       "</div>"
      ],
      "text/plain": [
       "                          Name NetWorth        Country         Source  Rank  \\\n",
       "0                   Jeff Bezos   $177 B  United States         Amazon     1   \n",
       "1                    Elon Musk   $151 B  United States  Tesla, SpaceX     2   \n",
       "2     Bernard Arnault & family   $150 B         France           LVMH     3   \n",
       "3                   Bill Gates   $124 B  United States      Microsoft     4   \n",
       "4              Mark Zuckerberg    $97 B  United States       Facebook     5   \n",
       "...                        ...      ...            ...            ...   ...   \n",
       "2750         Daniel Yong Zhang     $1 B          China     e-commerce  2674   \n",
       "2751             Zhang Yuqiang     $1 B          China     Fiberglass  2674   \n",
       "2752             Zhao Meiguang     $1 B          China    gold mining  2674   \n",
       "2753            Zhong Naixiong     $1 B          China   conglomerate  2674   \n",
       "2754           Zhou Wei family     $1 B          China       Software  2674   \n",
       "\n",
       "       Age          Industry  \n",
       "0     57.0        Technology  \n",
       "1     49.0        Automotive  \n",
       "2     72.0  Fashion & Retail  \n",
       "3     65.0        Technology  \n",
       "4     36.0        Technology  \n",
       "...    ...               ...  \n",
       "2750  49.0        Technology  \n",
       "2751  65.0     Manufacturing  \n",
       "2752  58.0   Metals & Mining  \n",
       "2753  58.0       Diversified  \n",
       "2754  54.0        Technology  \n",
       "\n",
       "[2755 rows x 7 columns]"
      ]
     },
     "execution_count": 4,
     "metadata": {},
     "output_type": "execute_result"
    }
   ],
   "source": [
    "df"
   ]
  },
  {
   "cell_type": "code",
   "execution_count": 5,
   "metadata": {},
   "outputs": [
    {
     "data": {
      "text/plain": [
       "(2755, 7)"
      ]
     },
     "execution_count": 5,
     "metadata": {},
     "output_type": "execute_result"
    }
   ],
   "source": [
    "df.shape"
   ]
  },
  {
   "cell_type": "code",
   "execution_count": 6,
   "metadata": {},
   "outputs": [
    {
     "name": "stdout",
     "output_type": "stream",
     "text": [
      "<class 'pandas.core.frame.DataFrame'>\n",
      "RangeIndex: 2755 entries, 0 to 2754\n",
      "Data columns (total 7 columns):\n",
      " #   Column    Non-Null Count  Dtype  \n",
      "---  ------    --------------  -----  \n",
      " 0   Name      2755 non-null   object \n",
      " 1   NetWorth  2755 non-null   object \n",
      " 2   Country   2755 non-null   object \n",
      " 3   Source    2755 non-null   object \n",
      " 4   Rank      2755 non-null   int64  \n",
      " 5   Age       2676 non-null   float64\n",
      " 6   Industry  2755 non-null   object \n",
      "dtypes: float64(1), int64(1), object(5)\n",
      "memory usage: 150.8+ KB\n"
     ]
    }
   ],
   "source": [
    "df.info()"
   ]
  },
  {
   "cell_type": "markdown",
   "metadata": {},
   "source": [
    "# Data Cleaning"
   ]
  },
  {
   "cell_type": "code",
   "execution_count": 7,
   "metadata": {},
   "outputs": [
    {
     "data": {
      "text/html": [
       "<div>\n",
       "<style scoped>\n",
       "    .dataframe tbody tr th:only-of-type {\n",
       "        vertical-align: middle;\n",
       "    }\n",
       "\n",
       "    .dataframe tbody tr th {\n",
       "        vertical-align: top;\n",
       "    }\n",
       "\n",
       "    .dataframe thead th {\n",
       "        text-align: right;\n",
       "    }\n",
       "</style>\n",
       "<table border=\"1\" class=\"dataframe\">\n",
       "  <thead>\n",
       "    <tr style=\"text-align: right;\">\n",
       "      <th></th>\n",
       "      <th>Name</th>\n",
       "      <th>NetWorth</th>\n",
       "      <th>Country</th>\n",
       "      <th>Source</th>\n",
       "      <th>Rank</th>\n",
       "      <th>Age</th>\n",
       "      <th>Industry</th>\n",
       "    </tr>\n",
       "  </thead>\n",
       "  <tbody>\n",
       "    <tr>\n",
       "      <th>0</th>\n",
       "      <td>Jeff Bezos</td>\n",
       "      <td>177</td>\n",
       "      <td>United States</td>\n",
       "      <td>Amazon</td>\n",
       "      <td>1</td>\n",
       "      <td>57.0</td>\n",
       "      <td>Technology</td>\n",
       "    </tr>\n",
       "    <tr>\n",
       "      <th>1</th>\n",
       "      <td>Elon Musk</td>\n",
       "      <td>151</td>\n",
       "      <td>United States</td>\n",
       "      <td>Tesla, SpaceX</td>\n",
       "      <td>2</td>\n",
       "      <td>49.0</td>\n",
       "      <td>Automotive</td>\n",
       "    </tr>\n",
       "    <tr>\n",
       "      <th>2</th>\n",
       "      <td>Bernard Arnault &amp; family</td>\n",
       "      <td>150</td>\n",
       "      <td>France</td>\n",
       "      <td>LVMH</td>\n",
       "      <td>3</td>\n",
       "      <td>72.0</td>\n",
       "      <td>Fashion &amp; Retail</td>\n",
       "    </tr>\n",
       "    <tr>\n",
       "      <th>3</th>\n",
       "      <td>Bill Gates</td>\n",
       "      <td>124</td>\n",
       "      <td>United States</td>\n",
       "      <td>Microsoft</td>\n",
       "      <td>4</td>\n",
       "      <td>65.0</td>\n",
       "      <td>Technology</td>\n",
       "    </tr>\n",
       "    <tr>\n",
       "      <th>4</th>\n",
       "      <td>Mark Zuckerberg</td>\n",
       "      <td>97</td>\n",
       "      <td>United States</td>\n",
       "      <td>Facebook</td>\n",
       "      <td>5</td>\n",
       "      <td>36.0</td>\n",
       "      <td>Technology</td>\n",
       "    </tr>\n",
       "    <tr>\n",
       "      <th>...</th>\n",
       "      <td>...</td>\n",
       "      <td>...</td>\n",
       "      <td>...</td>\n",
       "      <td>...</td>\n",
       "      <td>...</td>\n",
       "      <td>...</td>\n",
       "      <td>...</td>\n",
       "    </tr>\n",
       "    <tr>\n",
       "      <th>2750</th>\n",
       "      <td>Daniel Yong Zhang</td>\n",
       "      <td>1</td>\n",
       "      <td>China</td>\n",
       "      <td>e-commerce</td>\n",
       "      <td>2674</td>\n",
       "      <td>49.0</td>\n",
       "      <td>Technology</td>\n",
       "    </tr>\n",
       "    <tr>\n",
       "      <th>2751</th>\n",
       "      <td>Zhang Yuqiang</td>\n",
       "      <td>1</td>\n",
       "      <td>China</td>\n",
       "      <td>Fiberglass</td>\n",
       "      <td>2674</td>\n",
       "      <td>65.0</td>\n",
       "      <td>Manufacturing</td>\n",
       "    </tr>\n",
       "    <tr>\n",
       "      <th>2752</th>\n",
       "      <td>Zhao Meiguang</td>\n",
       "      <td>1</td>\n",
       "      <td>China</td>\n",
       "      <td>gold mining</td>\n",
       "      <td>2674</td>\n",
       "      <td>58.0</td>\n",
       "      <td>Metals &amp; Mining</td>\n",
       "    </tr>\n",
       "    <tr>\n",
       "      <th>2753</th>\n",
       "      <td>Zhong Naixiong</td>\n",
       "      <td>1</td>\n",
       "      <td>China</td>\n",
       "      <td>conglomerate</td>\n",
       "      <td>2674</td>\n",
       "      <td>58.0</td>\n",
       "      <td>Diversified</td>\n",
       "    </tr>\n",
       "    <tr>\n",
       "      <th>2754</th>\n",
       "      <td>Zhou Wei family</td>\n",
       "      <td>1</td>\n",
       "      <td>China</td>\n",
       "      <td>Software</td>\n",
       "      <td>2674</td>\n",
       "      <td>54.0</td>\n",
       "      <td>Technology</td>\n",
       "    </tr>\n",
       "  </tbody>\n",
       "</table>\n",
       "<p>2755 rows × 7 columns</p>\n",
       "</div>"
      ],
      "text/plain": [
       "                          Name NetWorth        Country         Source  Rank  \\\n",
       "0                   Jeff Bezos      177  United States         Amazon     1   \n",
       "1                    Elon Musk      151  United States  Tesla, SpaceX     2   \n",
       "2     Bernard Arnault & family      150         France           LVMH     3   \n",
       "3                   Bill Gates      124  United States      Microsoft     4   \n",
       "4              Mark Zuckerberg       97  United States       Facebook     5   \n",
       "...                        ...      ...            ...            ...   ...   \n",
       "2750         Daniel Yong Zhang        1          China     e-commerce  2674   \n",
       "2751             Zhang Yuqiang        1          China     Fiberglass  2674   \n",
       "2752             Zhao Meiguang        1          China    gold mining  2674   \n",
       "2753            Zhong Naixiong        1          China   conglomerate  2674   \n",
       "2754           Zhou Wei family        1          China       Software  2674   \n",
       "\n",
       "       Age          Industry  \n",
       "0     57.0        Technology  \n",
       "1     49.0        Automotive  \n",
       "2     72.0  Fashion & Retail  \n",
       "3     65.0        Technology  \n",
       "4     36.0        Technology  \n",
       "...    ...               ...  \n",
       "2750  49.0        Technology  \n",
       "2751  65.0     Manufacturing  \n",
       "2752  58.0   Metals & Mining  \n",
       "2753  58.0       Diversified  \n",
       "2754  54.0        Technology  \n",
       "\n",
       "[2755 rows x 7 columns]"
      ]
     },
     "execution_count": 7,
     "metadata": {},
     "output_type": "execute_result"
    }
   ],
   "source": [
    "df['NetWorth'] = df['NetWorth'].str.lstrip('$').str.rstrip(' B')             # strip dollar and billion signs \n",
    "df"
   ]
  },
  {
   "cell_type": "markdown",
   "metadata": {},
   "source": [
    "# Missing Data Exploration"
   ]
  },
  {
   "cell_type": "code",
   "execution_count": 8,
   "metadata": {},
   "outputs": [
    {
     "data": {
      "text/plain": [
       "Name         0\n",
       "NetWorth     0\n",
       "Country      0\n",
       "Source       0\n",
       "Rank         0\n",
       "Age         79\n",
       "Industry     0\n",
       "dtype: int64"
      ]
     },
     "execution_count": 8,
     "metadata": {},
     "output_type": "execute_result"
    }
   ],
   "source": [
    "df.isna().sum()"
   ]
  },
  {
   "cell_type": "code",
   "execution_count": 9,
   "metadata": {},
   "outputs": [
    {
     "data": {
      "text/html": [
       "<div>\n",
       "<style scoped>\n",
       "    .dataframe tbody tr th:only-of-type {\n",
       "        vertical-align: middle;\n",
       "    }\n",
       "\n",
       "    .dataframe tbody tr th {\n",
       "        vertical-align: top;\n",
       "    }\n",
       "\n",
       "    .dataframe thead th {\n",
       "        text-align: right;\n",
       "    }\n",
       "</style>\n",
       "<table border=\"1\" class=\"dataframe\">\n",
       "  <thead>\n",
       "    <tr style=\"text-align: right;\">\n",
       "      <th></th>\n",
       "      <th>Name</th>\n",
       "      <th>NetWorth</th>\n",
       "      <th>Country</th>\n",
       "      <th>Source</th>\n",
       "      <th>Rank</th>\n",
       "      <th>Age</th>\n",
       "      <th>Industry</th>\n",
       "    </tr>\n",
       "  </thead>\n",
       "  <tbody>\n",
       "    <tr>\n",
       "      <th>132</th>\n",
       "      <td>Hinduja brothers</td>\n",
       "      <td>14.9</td>\n",
       "      <td>United Kingdom</td>\n",
       "      <td>diversified</td>\n",
       "      <td>133</td>\n",
       "      <td>NaN</td>\n",
       "      <td>Diversified</td>\n",
       "    </tr>\n",
       "    <tr>\n",
       "      <th>255</th>\n",
       "      <td>Lam Wai-ying</td>\n",
       "      <td>9.1</td>\n",
       "      <td>Hong Kong</td>\n",
       "      <td>smartphone screens</td>\n",
       "      <td>256</td>\n",
       "      <td>NaN</td>\n",
       "      <td>Manufacturing</td>\n",
       "    </tr>\n",
       "    <tr>\n",
       "      <th>268</th>\n",
       "      <td>Chan Tan Ching-fen</td>\n",
       "      <td>8.8</td>\n",
       "      <td>Hong Kong</td>\n",
       "      <td>real estate</td>\n",
       "      <td>269</td>\n",
       "      <td>NaN</td>\n",
       "      <td>Real Estate</td>\n",
       "    </tr>\n",
       "    <tr>\n",
       "      <th>285</th>\n",
       "      <td>Anthony von Mandl</td>\n",
       "      <td>8.7</td>\n",
       "      <td>Canada</td>\n",
       "      <td>alcoholic beverages</td>\n",
       "      <td>274</td>\n",
       "      <td>NaN</td>\n",
       "      <td>Food &amp; Beverage</td>\n",
       "    </tr>\n",
       "    <tr>\n",
       "      <th>294</th>\n",
       "      <td>Kuldip Singh &amp; Gurbachan Singh Dhingra</td>\n",
       "      <td>8.4</td>\n",
       "      <td>India</td>\n",
       "      <td>paints</td>\n",
       "      <td>294</td>\n",
       "      <td>NaN</td>\n",
       "      <td>Manufacturing</td>\n",
       "    </tr>\n",
       "    <tr>\n",
       "      <th>...</th>\n",
       "      <td>...</td>\n",
       "      <td>...</td>\n",
       "      <td>...</td>\n",
       "      <td>...</td>\n",
       "      <td>...</td>\n",
       "      <td>...</td>\n",
       "      <td>...</td>\n",
       "    </tr>\n",
       "    <tr>\n",
       "      <th>2580</th>\n",
       "      <td>Lai Baosheng</td>\n",
       "      <td>1.1</td>\n",
       "      <td>China</td>\n",
       "      <td>consumer technology</td>\n",
       "      <td>2524</td>\n",
       "      <td>NaN</td>\n",
       "      <td>Technology</td>\n",
       "    </tr>\n",
       "    <tr>\n",
       "      <th>2639</th>\n",
       "      <td>Tseng Sing-ai</td>\n",
       "      <td>1.1</td>\n",
       "      <td>Taiwan</td>\n",
       "      <td>petrochemicals</td>\n",
       "      <td>2524</td>\n",
       "      <td>NaN</td>\n",
       "      <td>Manufacturing</td>\n",
       "    </tr>\n",
       "    <tr>\n",
       "      <th>2680</th>\n",
       "      <td>Carmen Daurella Aguilera</td>\n",
       "      <td>1</td>\n",
       "      <td>Spain</td>\n",
       "      <td>Coca-Cola bottler</td>\n",
       "      <td>2674</td>\n",
       "      <td>NaN</td>\n",
       "      <td>Food &amp; Beverage</td>\n",
       "    </tr>\n",
       "    <tr>\n",
       "      <th>2714</th>\n",
       "      <td>Michael McCain</td>\n",
       "      <td>1</td>\n",
       "      <td>Canada</td>\n",
       "      <td>packaged meats</td>\n",
       "      <td>2674</td>\n",
       "      <td>NaN</td>\n",
       "      <td>Food &amp; Beverage</td>\n",
       "    </tr>\n",
       "    <tr>\n",
       "      <th>2720</th>\n",
       "      <td>Maria Pinheiro</td>\n",
       "      <td>1</td>\n",
       "      <td>Brazil</td>\n",
       "      <td>supermarkets</td>\n",
       "      <td>2674</td>\n",
       "      <td>NaN</td>\n",
       "      <td>Fashion &amp; Retail</td>\n",
       "    </tr>\n",
       "  </tbody>\n",
       "</table>\n",
       "<p>79 rows × 7 columns</p>\n",
       "</div>"
      ],
      "text/plain": [
       "                                        Name NetWorth         Country  \\\n",
       "132                         Hinduja brothers     14.9  United Kingdom   \n",
       "255                             Lam Wai-ying      9.1       Hong Kong   \n",
       "268                       Chan Tan Ching-fen      8.8       Hong Kong   \n",
       "285                        Anthony von Mandl      8.7          Canada   \n",
       "294   Kuldip Singh & Gurbachan Singh Dhingra      8.4           India   \n",
       "...                                      ...      ...             ...   \n",
       "2580                            Lai Baosheng      1.1           China   \n",
       "2639                           Tseng Sing-ai      1.1          Taiwan   \n",
       "2680                Carmen Daurella Aguilera        1           Spain   \n",
       "2714                          Michael McCain        1          Canada   \n",
       "2720                          Maria Pinheiro        1          Brazil   \n",
       "\n",
       "                   Source  Rank  Age          Industry  \n",
       "132           diversified   133  NaN       Diversified  \n",
       "255    smartphone screens   256  NaN     Manufacturing  \n",
       "268           real estate   269  NaN       Real Estate  \n",
       "285   alcoholic beverages   274  NaN   Food & Beverage  \n",
       "294                paints   294  NaN     Manufacturing  \n",
       "...                   ...   ...  ...               ...  \n",
       "2580  consumer technology  2524  NaN        Technology  \n",
       "2639       petrochemicals  2524  NaN     Manufacturing  \n",
       "2680    Coca-Cola bottler  2674  NaN   Food & Beverage  \n",
       "2714       packaged meats  2674  NaN   Food & Beverage  \n",
       "2720         supermarkets  2674  NaN  Fashion & Retail  \n",
       "\n",
       "[79 rows x 7 columns]"
      ]
     },
     "execution_count": 9,
     "metadata": {},
     "output_type": "execute_result"
    }
   ],
   "source": [
    "idx = df.index[df['Age'].isna()]                                        # 79 billionaires have their ages missing\n",
    "df.iloc[idx]"
   ]
  },
  {
   "cell_type": "code",
   "execution_count": 10,
   "metadata": {},
   "outputs": [
    {
     "data": {
      "text/html": [
       "<div>\n",
       "<style scoped>\n",
       "    .dataframe tbody tr th:only-of-type {\n",
       "        vertical-align: middle;\n",
       "    }\n",
       "\n",
       "    .dataframe tbody tr th {\n",
       "        vertical-align: top;\n",
       "    }\n",
       "\n",
       "    .dataframe thead th {\n",
       "        text-align: right;\n",
       "    }\n",
       "</style>\n",
       "<table border=\"1\" class=\"dataframe\">\n",
       "  <thead>\n",
       "    <tr style=\"text-align: right;\">\n",
       "      <th></th>\n",
       "      <th>Name</th>\n",
       "      <th>NetWorth</th>\n",
       "      <th>Country</th>\n",
       "      <th>Source</th>\n",
       "      <th>Rank</th>\n",
       "      <th>Industry</th>\n",
       "    </tr>\n",
       "  </thead>\n",
       "  <tbody>\n",
       "    <tr>\n",
       "      <th>0</th>\n",
       "      <td>Jeff Bezos</td>\n",
       "      <td>177</td>\n",
       "      <td>United States</td>\n",
       "      <td>Amazon</td>\n",
       "      <td>1</td>\n",
       "      <td>Technology</td>\n",
       "    </tr>\n",
       "    <tr>\n",
       "      <th>1</th>\n",
       "      <td>Elon Musk</td>\n",
       "      <td>151</td>\n",
       "      <td>United States</td>\n",
       "      <td>Tesla, SpaceX</td>\n",
       "      <td>2</td>\n",
       "      <td>Automotive</td>\n",
       "    </tr>\n",
       "    <tr>\n",
       "      <th>2</th>\n",
       "      <td>Bernard Arnault &amp; family</td>\n",
       "      <td>150</td>\n",
       "      <td>France</td>\n",
       "      <td>LVMH</td>\n",
       "      <td>3</td>\n",
       "      <td>Fashion &amp; Retail</td>\n",
       "    </tr>\n",
       "    <tr>\n",
       "      <th>3</th>\n",
       "      <td>Bill Gates</td>\n",
       "      <td>124</td>\n",
       "      <td>United States</td>\n",
       "      <td>Microsoft</td>\n",
       "      <td>4</td>\n",
       "      <td>Technology</td>\n",
       "    </tr>\n",
       "    <tr>\n",
       "      <th>4</th>\n",
       "      <td>Mark Zuckerberg</td>\n",
       "      <td>97</td>\n",
       "      <td>United States</td>\n",
       "      <td>Facebook</td>\n",
       "      <td>5</td>\n",
       "      <td>Technology</td>\n",
       "    </tr>\n",
       "  </tbody>\n",
       "</table>\n",
       "</div>"
      ],
      "text/plain": [
       "                       Name NetWorth        Country         Source  Rank  \\\n",
       "0                Jeff Bezos      177  United States         Amazon     1   \n",
       "1                 Elon Musk      151  United States  Tesla, SpaceX     2   \n",
       "2  Bernard Arnault & family      150         France           LVMH     3   \n",
       "3                Bill Gates      124  United States      Microsoft     4   \n",
       "4           Mark Zuckerberg       97  United States       Facebook     5   \n",
       "\n",
       "           Industry  \n",
       "0        Technology  \n",
       "1        Automotive  \n",
       "2  Fashion & Retail  \n",
       "3        Technology  \n",
       "4        Technology  "
      ]
     },
     "execution_count": 10,
     "metadata": {},
     "output_type": "execute_result"
    }
   ],
   "source": [
    "df1 = df[['Name', 'NetWorth', 'Country', 'Source', 'Rank', 'Industry']]\n",
    "df1.head()"
   ]
  },
  {
   "cell_type": "markdown",
   "metadata": {},
   "source": [
    "# Change Data Types"
   ]
  },
  {
   "cell_type": "code",
   "execution_count": 11,
   "metadata": {},
   "outputs": [
    {
     "name": "stdout",
     "output_type": "stream",
     "text": [
      "<class 'pandas.core.frame.DataFrame'>\n",
      "RangeIndex: 2755 entries, 0 to 2754\n",
      "Data columns (total 6 columns):\n",
      " #   Column    Non-Null Count  Dtype   \n",
      "---  ------    --------------  -----   \n",
      " 0   Name      2755 non-null   category\n",
      " 1   NetWorth  2755 non-null   float64 \n",
      " 2   Country   2755 non-null   category\n",
      " 3   Source    2755 non-null   category\n",
      " 4   Rank      2755 non-null   category\n",
      " 5   Industry  2755 non-null   category\n",
      "dtypes: category(5), float64(1)\n",
      "memory usage: 182.0 KB\n"
     ]
    }
   ],
   "source": [
    "df1[['Name', 'Country', 'Source', 'Rank', 'Industry']] = df1[['Name', 'Country', 'Source', 'Rank', 'Industry']].astype('category')\n",
    "df1['NetWorth'] = df1['NetWorth'].astype(float)\n",
    "df1.info()"
   ]
  },
  {
   "cell_type": "code",
   "execution_count": 12,
   "metadata": {},
   "outputs": [
    {
     "data": {
      "text/plain": [
       "(2755, 6)"
      ]
     },
     "execution_count": 12,
     "metadata": {},
     "output_type": "execute_result"
    }
   ],
   "source": [
    "df1.shape"
   ]
  },
  {
   "cell_type": "code",
   "execution_count": 13,
   "metadata": {},
   "outputs": [
    {
     "name": "stdout",
     "output_type": "stream",
     "text": [
      "<class 'pandas.core.frame.DataFrame'>\n",
      "RangeIndex: 2755 entries, 0 to 2754\n",
      "Data columns (total 6 columns):\n",
      " #   Column    Non-Null Count  Dtype   \n",
      "---  ------    --------------  -----   \n",
      " 0   Name      2755 non-null   category\n",
      " 1   NetWorth  2755 non-null   float64 \n",
      " 2   Country   2755 non-null   category\n",
      " 3   Source    2755 non-null   category\n",
      " 4   Rank      2755 non-null   category\n",
      " 5   Industry  2755 non-null   category\n",
      "dtypes: category(5), float64(1)\n",
      "memory usage: 182.0 KB\n"
     ]
    }
   ],
   "source": [
    "df1.info()"
   ]
  },
  {
   "cell_type": "markdown",
   "metadata": {},
   "source": [
    "# Exploratory Data Analysis"
   ]
  },
  {
   "cell_type": "code",
   "execution_count": 14,
   "metadata": {},
   "outputs": [
    {
     "data": {
      "text/plain": [
       "<seaborn.axisgrid.FacetGrid at 0x1fc3cf6ceb0>"
      ]
     },
     "execution_count": 14,
     "metadata": {},
     "output_type": "execute_result"
    },
    {
     "data": {
      "image/png": "[encoded data removed]",
      "text/plain": [
       "<Figure size 360x360 with 1 Axes>"
      ]
     },
     "metadata": {},
     "output_type": "display_data"
    }
   ],
   "source": [
    "sns.displot(df1, x='NetWorth', kind='kde')     # net worth in billions right skewed - most billionaires have networth <= $25 billion                  "
   ]
  },
  {
   "cell_type": "code",
   "execution_count": 15,
   "metadata": {},
   "outputs": [
    {
     "data": {
      "text/plain": [
       "<seaborn.axisgrid.FacetGrid at 0x1fc424c67f0>"
      ]
     },
     "execution_count": 15,
     "metadata": {},
     "output_type": "execute_result"
    },
    {
     "data": {
      "image/png": "[encoded data removed]",
      "text/plain": [
       "<Figure size 568.95x360 with 1 Axes>"
      ]
     },
     "metadata": {},
     "output_type": "display_data"
    }
   ],
   "source": [
    "sns.displot(df1, x='NetWorth', kind='kde', hue='Industry')                      # KDE by industry "
   ]
  },
  {
   "cell_type": "markdown",
   "metadata": {},
   "source": [
    "# Grouping and Aggregation"
   ]
  },
  {
   "cell_type": "code",
   "execution_count": 16,
   "metadata": {},
   "outputs": [
    {
     "data": {
      "text/html": [
       "<div>\n",
       "<style scoped>\n",
       "    .dataframe tbody tr th:only-of-type {\n",
       "        vertical-align: middle;\n",
       "    }\n",
       "\n",
       "    .dataframe tbody tr th {\n",
       "        vertical-align: top;\n",
       "    }\n",
       "\n",
       "    .dataframe thead th {\n",
       "        text-align: right;\n",
       "    }\n",
       "</style>\n",
       "<table border=\"1\" class=\"dataframe\">\n",
       "  <thead>\n",
       "    <tr style=\"text-align: right;\">\n",
       "      <th></th>\n",
       "      <th>min</th>\n",
       "      <th>mean</th>\n",
       "      <th>max</th>\n",
       "      <th>total</th>\n",
       "    </tr>\n",
       "    <tr>\n",
       "      <th>Country</th>\n",
       "      <th></th>\n",
       "      <th></th>\n",
       "      <th></th>\n",
       "      <th></th>\n",
       "    </tr>\n",
       "  </thead>\n",
       "  <tbody>\n",
       "    <tr>\n",
       "      <th>Algeria</th>\n",
       "      <td>4.8</td>\n",
       "      <td>4.800000</td>\n",
       "      <td>4.8</td>\n",
       "      <td>4.8</td>\n",
       "    </tr>\n",
       "    <tr>\n",
       "      <th>Argentina</th>\n",
       "      <td>1.3</td>\n",
       "      <td>3.060000</td>\n",
       "      <td>6.1</td>\n",
       "      <td>15.3</td>\n",
       "    </tr>\n",
       "    <tr>\n",
       "      <th>Australia</th>\n",
       "      <td>1.0</td>\n",
       "      <td>4.125000</td>\n",
       "      <td>23.6</td>\n",
       "      <td>181.5</td>\n",
       "    </tr>\n",
       "    <tr>\n",
       "      <th>Austria</th>\n",
       "      <td>1.1</td>\n",
       "      <td>5.225000</td>\n",
       "      <td>26.9</td>\n",
       "      <td>62.7</td>\n",
       "    </tr>\n",
       "    <tr>\n",
       "      <th>Belgium</th>\n",
       "      <td>1.1</td>\n",
       "      <td>4.200000</td>\n",
       "      <td>10.0</td>\n",
       "      <td>12.6</td>\n",
       "    </tr>\n",
       "    <tr>\n",
       "      <th>...</th>\n",
       "      <td>...</td>\n",
       "      <td>...</td>\n",
       "      <td>...</td>\n",
       "      <td>...</td>\n",
       "    </tr>\n",
       "    <tr>\n",
       "      <th>United Kingdom</th>\n",
       "      <td>1.0</td>\n",
       "      <td>3.819643</td>\n",
       "      <td>17.0</td>\n",
       "      <td>213.9</td>\n",
       "    </tr>\n",
       "    <tr>\n",
       "      <th>United States</th>\n",
       "      <td>1.0</td>\n",
       "      <td>6.075138</td>\n",
       "      <td>177.0</td>\n",
       "      <td>4398.4</td>\n",
       "    </tr>\n",
       "    <tr>\n",
       "      <th>Venezuela</th>\n",
       "      <td>3.2</td>\n",
       "      <td>3.200000</td>\n",
       "      <td>3.2</td>\n",
       "      <td>3.2</td>\n",
       "    </tr>\n",
       "    <tr>\n",
       "      <th>Vietnam</th>\n",
       "      <td>1.2</td>\n",
       "      <td>2.783333</td>\n",
       "      <td>7.3</td>\n",
       "      <td>16.7</td>\n",
       "    </tr>\n",
       "    <tr>\n",
       "      <th>Zimbabwe</th>\n",
       "      <td>1.5</td>\n",
       "      <td>1.500000</td>\n",
       "      <td>1.5</td>\n",
       "      <td>1.5</td>\n",
       "    </tr>\n",
       "  </tbody>\n",
       "</table>\n",
       "<p>70 rows × 4 columns</p>\n",
       "</div>"
      ],
      "text/plain": [
       "                min      mean    max   total\n",
       "Country                                     \n",
       "Algeria         4.8  4.800000    4.8     4.8\n",
       "Argentina       1.3  3.060000    6.1    15.3\n",
       "Australia       1.0  4.125000   23.6   181.5\n",
       "Austria         1.1  5.225000   26.9    62.7\n",
       "Belgium         1.1  4.200000   10.0    12.6\n",
       "...             ...       ...    ...     ...\n",
       "United Kingdom  1.0  3.819643   17.0   213.9\n",
       "United States   1.0  6.075138  177.0  4398.4\n",
       "Venezuela       3.2  3.200000    3.2     3.2\n",
       "Vietnam         1.2  2.783333    7.3    16.7\n",
       "Zimbabwe        1.5  1.500000    1.5     1.5\n",
       "\n",
       "[70 rows x 4 columns]"
      ]
     },
     "execution_count": 16,
     "metadata": {},
     "output_type": "execute_result"
    }
   ],
   "source": [
    "df1_gpd_agg = df1.groupby('Country').agg(\n",
    "    min = pd.NamedAgg('NetWorth', np.min),\n",
    "    mean = pd.NamedAgg('NetWorth', np.mean),\n",
    "    max = pd.NamedAgg('NetWorth', np.max),\n",
    "    total = pd.NamedAgg('NetWorth', np.sum),\n",
    ")\n",
    "\n",
    "df1_gpd_agg"
   ]
  },
  {
   "cell_type": "markdown",
   "metadata": {},
   "source": [
    "Aggregated NetWorth sorted by Countries in Descending Order "
   ]
  },
  {
   "cell_type": "code",
   "execution_count": 17,
   "metadata": {},
   "outputs": [
    {
     "data": {
      "text/plain": [
       "Country\n",
       "United States     4398.4\n",
       "China             2531.9\n",
       "Germany            625.5\n",
       "India              596.4\n",
       "Russia             586.0\n",
       "France             512.2\n",
       "Hong Kong          448.2\n",
       "Canada             231.1\n",
       "Japan              225.4\n",
       "United Kingdom     213.9\n",
       "Brazil             211.7\n",
       "Italy              204.5\n",
       "Sweden             182.0\n",
       "Australia          181.5\n",
       "Singapore          156.9\n",
       "Switzerland        145.5\n",
       "Spain              137.0\n",
       "Mexico             136.1\n",
       "South Korea        121.4\n",
       "Taiwan             115.6\n",
       "Name: total, dtype: float64"
      ]
     },
     "execution_count": 17,
     "metadata": {},
     "output_type": "execute_result"
    }
   ],
   "source": [
    "df1_gpd_agg_sortdesc = df1_gpd_agg['total'].sort_values(ascending=False).head(20)                # top 20 countries\n",
    "df1_gpd_agg_sortdesc"
   ]
  },
  {
   "cell_type": "markdown",
   "metadata": {},
   "source": [
    "# Data Visualization"
   ]
  },
  {
   "cell_type": "code",
   "execution_count": 18,
   "metadata": {},
   "outputs": [],
   "source": [
    "# helper function for formatting plot y-axis\n",
    "from matplotlib.ticker import FuncFormatter\n",
    "\n",
    "def trillion(x, pos):\n",
    "    'The two args are the value and tick position'\n",
    "    return '%1.1fTn ' % (x * 1e-3)\n",
    "\n",
    "formatter_trill = FuncFormatter(trillion)"
   ]
  },
  {
   "cell_type": "code",
   "execution_count": 19,
   "metadata": {},
   "outputs": [
    {
     "data": {
      "image/png": "[encoded data removed]",
      "text/plain": [
       "<Figure size 864x648 with 1 Axes>"
      ]
     },
     "metadata": {},
     "output_type": "display_data"
    }
   ],
   "source": [
    "y, width = df1_gpd_agg_sortdesc.keys(), df1_gpd_agg_sortdesc.values\n",
    "\n",
    "# Initialize the matplotlib figure\n",
    "fig, ax = plt.subplots()\n",
    "\n",
    "# plot bar chart\n",
    "ax.barh(y=y, width=width, color='brown')\n",
    "\n",
    "# Add informative axis label\n",
    "ax.set(xlabel='Currency in ($ Tn)', ylabel='Country', title='Aggregated Net Worth By Country in trillion dollars (2021)')\n",
    "\n",
    "# labels read top-to-bottom\n",
    "ax.invert_yaxis()  \n",
    "\n",
    "# set axis formatter\n",
    "ax.xaxis.set_major_formatter(formatter_trill)"
   ]
  },
  {
   "cell_type": "markdown",
   "metadata": {},
   "source": [
    "Aggregated Net Worth sorted by Countries in Ascending Order "
   ]
  },
  {
   "cell_type": "code",
   "execution_count": 20,
   "metadata": {},
   "outputs": [
    {
     "data": {
      "text/plain": [
       "Country\n",
       "Nepal                   1.4\n",
       "Zimbabwe                1.5\n",
       "Tanzania                1.6\n",
       "St. Kitts and Nevis     1.6\n",
       "Oman                    2.3\n",
       "Guernsey                2.6\n",
       "Hungary                 2.7\n",
       "Slovakia                2.9\n",
       "Qatar                   2.9\n",
       "Macao                   3.1\n",
       "Venezuela               3.2\n",
       "Morocco                 3.2\n",
       "Iceland                 3.2\n",
       "Eswatini (Swaziland)    4.7\n",
       "Monaco                  4.8\n",
       "Algeria                 4.8\n",
       "Liechtenstein           5.5\n",
       "Portugal                7.2\n",
       "Romania                 7.7\n",
       "Georgia                 8.0\n",
       "Name: total, dtype: float64"
      ]
     },
     "execution_count": 20,
     "metadata": {},
     "output_type": "execute_result"
    }
   ],
   "source": [
    "df1_gpd_agg_sortasc = df1_gpd_agg['total'].sort_values(ascending=True).head(20)                # buttom 20 countries\n",
    "df1_gpd_agg_sortasc"
   ]
  },
  {
   "cell_type": "code",
   "execution_count": 21,
   "metadata": {},
   "outputs": [],
   "source": [
    "# helper function for formatting plot y-axis\n",
    "from matplotlib.ticker import FuncFormatter\n",
    "\n",
    "def billion(x, pos):\n",
    "    'The two args are the value and tick position'\n",
    "    return '%1.1fB' % (x * 1e-3)\n",
    "\n",
    "formatter_bill = FuncFormatter(billion)"
   ]
  },
  {
   "cell_type": "code",
   "execution_count": 22,
   "metadata": {},
   "outputs": [
    {
     "data": {
      "image/png": "[encoded data removed]",
      "text/plain": [
       "<Figure size 864x648 with 1 Axes>"
      ]
     },
     "metadata": {},
     "output_type": "display_data"
    }
   ],
   "source": [
    "y1, width1 = df1_gpd_agg_sortasc.keys(), df1_gpd_agg_sortdesc.values\n",
    "\n",
    "# Initialize the matplotlib figure\n",
    "fig1, ax1 = plt.subplots()\n",
    "\n",
    "# plot bar chart\n",
    "ax1.barh(y=y1, width=width1, color='brown')\n",
    "\n",
    "# Add informative axis label\n",
    "ax1.set(xlabel='Currency in ($ Bn)', ylabel='Country', title='Aggregated Net Worth By Country in billion dollars (2021)')\n",
    "\n",
    "# labels read top-to-bottom\n",
    "ax1.invert_yaxis()  \n",
    "\n",
    "# set axis formatter\n",
    "ax1.xaxis.set_major_formatter(formatter_bill)"
   ]
  },
  {
   "cell_type": "markdown",
   "metadata": {},
   "source": [
    "# Top 20 Billionaires Exploration"
   ]
  },
  {
   "cell_type": "code",
   "execution_count": 23,
   "metadata": {},
   "outputs": [
    {
     "data": {
      "text/html": [
       "<div>\n",
       "<style scoped>\n",
       "    .dataframe tbody tr th:only-of-type {\n",
       "        vertical-align: middle;\n",
       "    }\n",
       "\n",
       "    .dataframe tbody tr th {\n",
       "        vertical-align: top;\n",
       "    }\n",
       "\n",
       "    .dataframe thead th {\n",
       "        text-align: right;\n",
       "    }\n",
       "</style>\n",
       "<table border=\"1\" class=\"dataframe\">\n",
       "  <thead>\n",
       "    <tr style=\"text-align: right;\">\n",
       "      <th></th>\n",
       "      <th>Name</th>\n",
       "      <th>NetWorth</th>\n",
       "      <th>Country</th>\n",
       "      <th>Source</th>\n",
       "      <th>Rank</th>\n",
       "      <th>Industry</th>\n",
       "    </tr>\n",
       "  </thead>\n",
       "  <tbody>\n",
       "    <tr>\n",
       "      <th>0</th>\n",
       "      <td>Jeff Bezos</td>\n",
       "      <td>177.0</td>\n",
       "      <td>United States</td>\n",
       "      <td>Amazon</td>\n",
       "      <td>1</td>\n",
       "      <td>Technology</td>\n",
       "    </tr>\n",
       "    <tr>\n",
       "      <th>1</th>\n",
       "      <td>Elon Musk</td>\n",
       "      <td>151.0</td>\n",
       "      <td>United States</td>\n",
       "      <td>Tesla, SpaceX</td>\n",
       "      <td>2</td>\n",
       "      <td>Automotive</td>\n",
       "    </tr>\n",
       "    <tr>\n",
       "      <th>2</th>\n",
       "      <td>Bernard Arnault &amp; family</td>\n",
       "      <td>150.0</td>\n",
       "      <td>France</td>\n",
       "      <td>LVMH</td>\n",
       "      <td>3</td>\n",
       "      <td>Fashion &amp; Retail</td>\n",
       "    </tr>\n",
       "    <tr>\n",
       "      <th>3</th>\n",
       "      <td>Bill Gates</td>\n",
       "      <td>124.0</td>\n",
       "      <td>United States</td>\n",
       "      <td>Microsoft</td>\n",
       "      <td>4</td>\n",
       "      <td>Technology</td>\n",
       "    </tr>\n",
       "    <tr>\n",
       "      <th>4</th>\n",
       "      <td>Mark Zuckerberg</td>\n",
       "      <td>97.0</td>\n",
       "      <td>United States</td>\n",
       "      <td>Facebook</td>\n",
       "      <td>5</td>\n",
       "      <td>Technology</td>\n",
       "    </tr>\n",
       "  </tbody>\n",
       "</table>\n",
       "</div>"
      ],
      "text/plain": [
       "                       Name  NetWorth        Country         Source Rank  \\\n",
       "0                Jeff Bezos     177.0  United States         Amazon    1   \n",
       "1                 Elon Musk     151.0  United States  Tesla, SpaceX    2   \n",
       "2  Bernard Arnault & family     150.0         France           LVMH    3   \n",
       "3                Bill Gates     124.0  United States      Microsoft    4   \n",
       "4           Mark Zuckerberg      97.0  United States       Facebook    5   \n",
       "\n",
       "           Industry  \n",
       "0        Technology  \n",
       "1        Automotive  \n",
       "2  Fashion & Retail  \n",
       "3        Technology  \n",
       "4        Technology  "
      ]
     },
     "execution_count": 23,
     "metadata": {},
     "output_type": "execute_result"
    }
   ],
   "source": [
    "df1_top_20 = df1[:19]\n",
    "df1_top_20.head()"
   ]
  },
  {
   "cell_type": "code",
   "execution_count": 24,
   "metadata": {},
   "outputs": [
    {
     "data": {
      "text/plain": [
       "[Text(0.5, 0, 'Net Worth ($ Bn)'),\n",
       " Text(0, 0.5, 'Name'),\n",
       " Text(0.5, 1.0, 'Forbes 2021 Billionaires Ranking')]"
      ]
     },
     "execution_count": 24,
     "metadata": {},
     "output_type": "execute_result"
    },
    {
     "data": {
      "image/png": "[encoded data removed]",
      "text/plain": [
       "<Figure size 864x648 with 1 Axes>"
      ]
     },
     "metadata": {},
     "output_type": "display_data"
    }
   ],
   "source": [
    "fig2, ax2 = plt.subplots()\n",
    "ax2.barh(df1_top_20['Name'], df1_top_20['NetWorth'], color='brown')\n",
    "ax2.invert_yaxis()  \n",
    "ax2.set(xlabel='Net Worth ($ Bn)', ylabel='Name', title='Forbes 2021 Billionaires Ranking')"
   ]
  },
  {
   "cell_type": "markdown",
   "metadata": {},
   "source": [
    "# Industry Exploration"
   ]
  },
  {
   "cell_type": "code",
   "execution_count": 25,
   "metadata": {},
   "outputs": [
    {
     "data": {
      "text/html": [
       "<div>\n",
       "<style scoped>\n",
       "    .dataframe tbody tr th:only-of-type {\n",
       "        vertical-align: middle;\n",
       "    }\n",
       "\n",
       "    .dataframe tbody tr th {\n",
       "        vertical-align: top;\n",
       "    }\n",
       "\n",
       "    .dataframe thead th {\n",
       "        text-align: right;\n",
       "    }\n",
       "</style>\n",
       "<table border=\"1\" class=\"dataframe\">\n",
       "  <thead>\n",
       "    <tr style=\"text-align: right;\">\n",
       "      <th></th>\n",
       "      <th>min</th>\n",
       "      <th>mean</th>\n",
       "      <th>max</th>\n",
       "      <th>total</th>\n",
       "    </tr>\n",
       "    <tr>\n",
       "      <th>Industry</th>\n",
       "      <th></th>\n",
       "      <th></th>\n",
       "      <th></th>\n",
       "      <th></th>\n",
       "    </tr>\n",
       "  </thead>\n",
       "  <tbody>\n",
       "    <tr>\n",
       "      <th>Automotive</th>\n",
       "      <td>1.0</td>\n",
       "      <td>6.875000</td>\n",
       "      <td>151.0</td>\n",
       "      <td>467.5</td>\n",
       "    </tr>\n",
       "    <tr>\n",
       "      <th>Construction &amp; Engineering</th>\n",
       "      <td>1.0</td>\n",
       "      <td>2.843182</td>\n",
       "      <td>14.6</td>\n",
       "      <td>125.1</td>\n",
       "    </tr>\n",
       "    <tr>\n",
       "      <th>Diversified</th>\n",
       "      <td>1.0</td>\n",
       "      <td>4.617553</td>\n",
       "      <td>84.5</td>\n",
       "      <td>868.1</td>\n",
       "    </tr>\n",
       "    <tr>\n",
       "      <th>Energy</th>\n",
       "      <td>1.0</td>\n",
       "      <td>4.526000</td>\n",
       "      <td>28.4</td>\n",
       "      <td>452.6</td>\n",
       "    </tr>\n",
       "    <tr>\n",
       "      <th>Fashion &amp; Retail</th>\n",
       "      <td>1.0</td>\n",
       "      <td>6.218315</td>\n",
       "      <td>150.0</td>\n",
       "      <td>1697.6</td>\n",
       "    </tr>\n",
       "    <tr>\n",
       "      <th>Finance &amp; Investments</th>\n",
       "      <td>1.0</td>\n",
       "      <td>4.118329</td>\n",
       "      <td>96.0</td>\n",
       "      <td>1527.9</td>\n",
       "    </tr>\n",
       "    <tr>\n",
       "      <th>Food &amp; Beverage</th>\n",
       "      <td>1.0</td>\n",
       "      <td>4.702740</td>\n",
       "      <td>68.9</td>\n",
       "      <td>1029.9</td>\n",
       "    </tr>\n",
       "    <tr>\n",
       "      <th>Gambling &amp; Casinos</th>\n",
       "      <td>1.0</td>\n",
       "      <td>5.360000</td>\n",
       "      <td>38.2</td>\n",
       "      <td>134.0</td>\n",
       "    </tr>\n",
       "    <tr>\n",
       "      <th>Healthcare</th>\n",
       "      <td>1.0</td>\n",
       "      <td>3.577828</td>\n",
       "      <td>24.4</td>\n",
       "      <td>790.7</td>\n",
       "    </tr>\n",
       "    <tr>\n",
       "      <th>Logistics</th>\n",
       "      <td>1.3</td>\n",
       "      <td>4.165714</td>\n",
       "      <td>26.3</td>\n",
       "      <td>145.8</td>\n",
       "    </tr>\n",
       "    <tr>\n",
       "      <th>Manufacturing</th>\n",
       "      <td>1.0</td>\n",
       "      <td>3.383384</td>\n",
       "      <td>37.7</td>\n",
       "      <td>1119.9</td>\n",
       "    </tr>\n",
       "    <tr>\n",
       "      <th>Media &amp; Entertainment</th>\n",
       "      <td>1.0</td>\n",
       "      <td>5.066316</td>\n",
       "      <td>59.0</td>\n",
       "      <td>481.3</td>\n",
       "    </tr>\n",
       "    <tr>\n",
       "      <th>Metals &amp; Mining</th>\n",
       "      <td>1.0</td>\n",
       "      <td>5.829730</td>\n",
       "      <td>29.1</td>\n",
       "      <td>431.4</td>\n",
       "    </tr>\n",
       "    <tr>\n",
       "      <th>Real Estate</th>\n",
       "      <td>1.0</td>\n",
       "      <td>3.794419</td>\n",
       "      <td>31.7</td>\n",
       "      <td>815.8</td>\n",
       "    </tr>\n",
       "    <tr>\n",
       "      <th>Service</th>\n",
       "      <td>1.0</td>\n",
       "      <td>3.316000</td>\n",
       "      <td>39.0</td>\n",
       "      <td>248.7</td>\n",
       "    </tr>\n",
       "    <tr>\n",
       "      <th>Sports</th>\n",
       "      <td>1.2</td>\n",
       "      <td>3.404167</td>\n",
       "      <td>8.9</td>\n",
       "      <td>81.7</td>\n",
       "    </tr>\n",
       "    <tr>\n",
       "      <th>Technology</th>\n",
       "      <td>1.0</td>\n",
       "      <td>6.730685</td>\n",
       "      <td>177.0</td>\n",
       "      <td>2456.7</td>\n",
       "    </tr>\n",
       "    <tr>\n",
       "      <th>Telecom</th>\n",
       "      <td>1.0</td>\n",
       "      <td>6.543750</td>\n",
       "      <td>62.8</td>\n",
       "      <td>209.4</td>\n",
       "    </tr>\n",
       "  </tbody>\n",
       "</table>\n",
       "</div>"
      ],
      "text/plain": [
       "                            min      mean    max   total\n",
       "Industry                                                \n",
       "Automotive                  1.0  6.875000  151.0   467.5\n",
       "Construction & Engineering  1.0  2.843182   14.6   125.1\n",
       "Diversified                 1.0  4.617553   84.5   868.1\n",
       "Energy                      1.0  4.526000   28.4   452.6\n",
       "Fashion & Retail            1.0  6.218315  150.0  1697.6\n",
       "Finance & Investments       1.0  4.118329   96.0  1527.9\n",
       "Food & Beverage             1.0  4.702740   68.9  1029.9\n",
       "Gambling & Casinos          1.0  5.360000   38.2   134.0\n",
       "Healthcare                  1.0  3.577828   24.4   790.7\n",
       "Logistics                   1.3  4.165714   26.3   145.8\n",
       "Manufacturing               1.0  3.383384   37.7  1119.9\n",
       "Media & Entertainment       1.0  5.066316   59.0   481.3\n",
       "Metals & Mining             1.0  5.829730   29.1   431.4\n",
       "Real Estate                 1.0  3.794419   31.7   815.8\n",
       "Service                     1.0  3.316000   39.0   248.7\n",
       "Sports                      1.2  3.404167    8.9    81.7\n",
       "Technology                  1.0  6.730685  177.0  2456.7\n",
       "Telecom                     1.0  6.543750   62.8   209.4"
      ]
     },
     "execution_count": 25,
     "metadata": {},
     "output_type": "execute_result"
    }
   ],
   "source": [
    "df1_ind_gpd_agg = df1.groupby('Industry').agg(\n",
    "    min = pd.NamedAgg('NetWorth', np.min),\n",
    "    mean = pd.NamedAgg('NetWorth', np.mean),\n",
    "    max = pd.NamedAgg('NetWorth', np.max),\n",
    "    total = pd.NamedAgg('NetWorth', np.sum),\n",
    ")\n",
    "\n",
    "df1_ind_gpd_agg"
   ]
  },
  {
   "cell_type": "code",
   "execution_count": 26,
   "metadata": {},
   "outputs": [
    {
     "data": {
      "text/plain": [
       "Industry\n",
       "Technology                    2456.7\n",
       "Fashion & Retail              1697.6\n",
       "Finance & Investments         1527.9\n",
       "Manufacturing                 1119.9\n",
       "Food & Beverage               1029.9\n",
       "Diversified                    868.1\n",
       "Real Estate                    815.8\n",
       "Healthcare                     790.7\n",
       "Media & Entertainment          481.3\n",
       "Automotive                     467.5\n",
       "Energy                         452.6\n",
       "Metals & Mining                431.4\n",
       "Service                        248.7\n",
       "Telecom                        209.4\n",
       "Logistics                      145.8\n",
       "Gambling & Casinos             134.0\n",
       "Construction & Engineering     125.1\n",
       "Sports                          81.7\n",
       "Name: total, dtype: float64"
      ]
     },
     "execution_count": 26,
     "metadata": {},
     "output_type": "execute_result"
    }
   ],
   "source": [
    "df1_ind_gpd_agg_sorted = df1_ind_gpd_agg['total'].sort_values(ascending=False)          # networth sorted by industry\n",
    "df1_ind_gpd_agg_sorted"
   ]
  },
  {
   "cell_type": "code",
   "execution_count": 27,
   "metadata": {},
   "outputs": [
    {
     "data": {
      "image/png": "[encoded data removed]",
      "text/plain": [
       "<Figure size 864x648 with 1 Axes>"
      ]
     },
     "metadata": {},
     "output_type": "display_data"
    }
   ],
   "source": [
    "fig3, ax3 = plt.subplots()\n",
    "ax3.barh(df1_ind_gpd_agg_sorted.keys(), df1_ind_gpd_agg_sorted.values, color='brown')\n",
    "ax3.invert_yaxis()  \n",
    "ax3.set(xlabel='NetWorth ($ Tn)', ylabel='Name', title='Forbes Highest Performing Industries in 2021')\n",
    "ax3.xaxis.set_major_formatter(formatter_trill)"
   ]
  }
 ],
 "metadata": {
  "interpreter": {
   "hash": "3fe9daace87ea8cb12e037f7452ad9bcd52f59aa894a611255d1461de3a9065e"
  },
  "kernelspec": {
   "display_name": "Python 3.9.7 ('DS')",
   "language": "python",
   "name": "python3"
  },
  "language_info": {
   "codemirror_mode": {
    "name": "ipython",
    "version": 3
   },
   "file_extension": ".py",
   "mimetype": "text/x-python",
   "name": "python",
   "nbconvert_exporter": "python",
   "pygments_lexer": "ipython3",
   "version": "3.9.7"
  },
  "orig_nbformat": 4
 },
 "nbformat": 4,
 "nbformat_minor": 2
}
