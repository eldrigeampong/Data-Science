{
 "cells": [
  {
   "cell_type": "markdown",
   "metadata": {},
   "source": [
    "# Global 2000: The World's Largest Public Companies (2017-2021)"
   ]
  },
  {
   "cell_type": "markdown",
   "metadata": {},
   "source": [
    "# Import Libraries"
   ]
  },
  {
   "cell_type": "code",
   "execution_count": 1,
   "metadata": {},
   "outputs": [],
   "source": [
    "import numpy as np\n",
    "import pandas as pd\n",
    "import matplotlib.pyplot as plt\n",
    "import seaborn as sns\n",
    "import os\n",
    "import warnings"
   ]
  },
  {
   "cell_type": "markdown",
   "metadata": {},
   "source": [
    "# Options and Settings"
   ]
  },
  {
   "cell_type": "code",
   "execution_count": 2,
   "metadata": {},
   "outputs": [],
   "source": [
    "%matplotlib inline\n",
    "plt.style.use('ggplot')\n",
    "plt.rcParams['figure.autolayout'] = True\n",
    "plt.rcParams['figure.figsize'] = [12, 9]\n",
    "plt.rcParams['font.size'] = 12\n",
    "path = os.getcwd()                                         # get current working directory\n",
    "warnings.simplefilter('ignore')"
   ]
  },
  {
   "cell_type": "markdown",
   "metadata": {},
   "source": [
    "# Import Data"
   ]
  },
  {
   "cell_type": "code",
   "execution_count": 3,
   "metadata": {},
   "outputs": [],
   "source": [
    "filepath = os.path.join('datasets', 'Forbes Top 2000(2017-2021).xlsx')\n",
    "df = pd.read_excel(filepath)"
   ]
  },
  {
   "cell_type": "markdown",
   "metadata": {},
   "source": [
    "# Head and Tail"
   ]
  },
  {
   "cell_type": "code",
   "execution_count": 4,
   "metadata": {},
   "outputs": [
    {
     "data": {
      "text/html": [
       "<div>\n",
       "<style scoped>\n",
       "    .dataframe tbody tr th:only-of-type {\n",
       "        vertical-align: middle;\n",
       "    }\n",
       "\n",
       "    .dataframe tbody tr th {\n",
       "        vertical-align: top;\n",
       "    }\n",
       "\n",
       "    .dataframe thead th {\n",
       "        text-align: right;\n",
       "    }\n",
       "</style>\n",
       "<table border=\"1\" class=\"dataframe\">\n",
       "  <thead>\n",
       "    <tr style=\"text-align: right;\">\n",
       "      <th></th>\n",
       "      <th>Rank</th>\n",
       "      <th>Name</th>\n",
       "      <th>Country</th>\n",
       "      <th>Sales</th>\n",
       "      <th>Profit</th>\n",
       "      <th>Assets</th>\n",
       "      <th>Market Value</th>\n",
       "      <th>Year</th>\n",
       "    </tr>\n",
       "  </thead>\n",
       "  <tbody>\n",
       "    <tr>\n",
       "      <th>0</th>\n",
       "      <td>1.0</td>\n",
       "      <td>ICBC</td>\n",
       "      <td>China</td>\n",
       "      <td>151.381</td>\n",
       "      <td>41.9837</td>\n",
       "      <td>3473.238</td>\n",
       "      <td>229.805</td>\n",
       "      <td>2017</td>\n",
       "    </tr>\n",
       "    <tr>\n",
       "      <th>1</th>\n",
       "      <td>2.0</td>\n",
       "      <td>China Construction Bank</td>\n",
       "      <td>China</td>\n",
       "      <td>134.242</td>\n",
       "      <td>34.9814</td>\n",
       "      <td>3016.578</td>\n",
       "      <td>200.458</td>\n",
       "      <td>2017</td>\n",
       "    </tr>\n",
       "    <tr>\n",
       "      <th>2</th>\n",
       "      <td>3.0</td>\n",
       "      <td>Berkshire Hathaway</td>\n",
       "      <td>United States</td>\n",
       "      <td>222.935</td>\n",
       "      <td>24.074</td>\n",
       "      <td>620.854</td>\n",
       "      <td>409.908</td>\n",
       "      <td>2017</td>\n",
       "    </tr>\n",
       "    <tr>\n",
       "      <th>3</th>\n",
       "      <td>4.0</td>\n",
       "      <td>JPMorgan Chase</td>\n",
       "      <td>United States</td>\n",
       "      <td>102.494</td>\n",
       "      <td>24.231</td>\n",
       "      <td>2512.986</td>\n",
       "      <td>306.616</td>\n",
       "      <td>2017</td>\n",
       "    </tr>\n",
       "    <tr>\n",
       "      <th>4</th>\n",
       "      <td>5.0</td>\n",
       "      <td>Wells Fargo</td>\n",
       "      <td>United States</td>\n",
       "      <td>97.573</td>\n",
       "      <td>21.938</td>\n",
       "      <td>1943.443</td>\n",
       "      <td>274.385</td>\n",
       "      <td>2017</td>\n",
       "    </tr>\n",
       "    <tr>\n",
       "      <th>...</th>\n",
       "      <td>...</td>\n",
       "      <td>...</td>\n",
       "      <td>...</td>\n",
       "      <td>...</td>\n",
       "      <td>...</td>\n",
       "      <td>...</td>\n",
       "      <td>...</td>\n",
       "      <td>...</td>\n",
       "    </tr>\n",
       "    <tr>\n",
       "      <th>10095</th>\n",
       "      <td>1976.0</td>\n",
       "      <td>JTEKT</td>\n",
       "      <td>Japan</td>\n",
       "      <td>$13.1 B</td>\n",
       "      <td>$-34.9 M</td>\n",
       "      <td>$12 B</td>\n",
       "      <td>$3.5 B</td>\n",
       "      <td>2021</td>\n",
       "    </tr>\n",
       "    <tr>\n",
       "      <th>10096</th>\n",
       "      <td>1976.0</td>\n",
       "      <td>Insurance Australia Group</td>\n",
       "      <td>Australia</td>\n",
       "      <td>$5.4 B</td>\n",
       "      <td>$-212 M</td>\n",
       "      <td>$25 B</td>\n",
       "      <td>$9.3 B</td>\n",
       "      <td>2021</td>\n",
       "    </tr>\n",
       "    <tr>\n",
       "      <th>10097</th>\n",
       "      <td>1979.0</td>\n",
       "      <td>Sumec Corporation</td>\n",
       "      <td>China</td>\n",
       "      <td>$13 B</td>\n",
       "      <td>$79.2 M</td>\n",
       "      <td>$7.1 B</td>\n",
       "      <td>$1.3 B</td>\n",
       "      <td>2021</td>\n",
       "    </tr>\n",
       "    <tr>\n",
       "      <th>10098</th>\n",
       "      <td>1979.0</td>\n",
       "      <td>Gold Fields</td>\n",
       "      <td>South Africa</td>\n",
       "      <td>$3.9 B</td>\n",
       "      <td>$718.1 M</td>\n",
       "      <td>$7.5 B</td>\n",
       "      <td>$8.9 B</td>\n",
       "      <td>2021</td>\n",
       "    </tr>\n",
       "    <tr>\n",
       "      <th>10099</th>\n",
       "      <td>1979.0</td>\n",
       "      <td>Paycom</td>\n",
       "      <td>United States</td>\n",
       "      <td>$841 M</td>\n",
       "      <td>$143.4 M</td>\n",
       "      <td>$2.6 B</td>\n",
       "      <td>$24 B</td>\n",
       "      <td>2021</td>\n",
       "    </tr>\n",
       "  </tbody>\n",
       "</table>\n",
       "<p>10100 rows × 8 columns</p>\n",
       "</div>"
      ],
      "text/plain": [
       "         Rank                       Name        Country    Sales    Profit  \\\n",
       "0         1.0                       ICBC          China  151.381   41.9837   \n",
       "1         2.0    China Construction Bank          China  134.242   34.9814   \n",
       "2         3.0         Berkshire Hathaway  United States  222.935    24.074   \n",
       "3         4.0             JPMorgan Chase  United States  102.494    24.231   \n",
       "4         5.0                Wells Fargo  United States   97.573    21.938   \n",
       "...       ...                        ...            ...      ...       ...   \n",
       "10095  1976.0                      JTEKT          Japan  $13.1 B  $-34.9 M   \n",
       "10096  1976.0  Insurance Australia Group      Australia   $5.4 B   $-212 M   \n",
       "10097  1979.0          Sumec Corporation          China    $13 B   $79.2 M   \n",
       "10098  1979.0                Gold Fields   South Africa   $3.9 B  $718.1 M   \n",
       "10099  1979.0                     Paycom  United States   $841 M  $143.4 M   \n",
       "\n",
       "         Assets Market Value  Year  \n",
       "0      3473.238      229.805  2017  \n",
       "1      3016.578      200.458  2017  \n",
       "2       620.854      409.908  2017  \n",
       "3      2512.986      306.616  2017  \n",
       "4      1943.443      274.385  2017  \n",
       "...         ...          ...   ...  \n",
       "10095     $12 B       $3.5 B  2021  \n",
       "10096     $25 B       $9.3 B  2021  \n",
       "10097    $7.1 B       $1.3 B  2021  \n",
       "10098    $7.5 B       $8.9 B  2021  \n",
       "10099    $2.6 B        $24 B  2021  \n",
       "\n",
       "[10100 rows x 8 columns]"
      ]
     },
     "execution_count": 4,
     "metadata": {},
     "output_type": "execute_result"
    }
   ],
   "source": [
    "df"
   ]
  },
  {
   "cell_type": "code",
   "execution_count": 5,
   "metadata": {},
   "outputs": [
    {
     "data": {
      "text/plain": [
       "(10100, 8)"
      ]
     },
     "execution_count": 5,
     "metadata": {},
     "output_type": "execute_result"
    }
   ],
   "source": [
    "df.shape"
   ]
  },
  {
   "cell_type": "code",
   "execution_count": 6,
   "metadata": {},
   "outputs": [
    {
     "name": "stdout",
     "output_type": "stream",
     "text": [
      "<class 'pandas.core.frame.DataFrame'>\n",
      "RangeIndex: 10100 entries, 0 to 10099\n",
      "Data columns (total 8 columns):\n",
      " #   Column        Non-Null Count  Dtype  \n",
      "---  ------        --------------  -----  \n",
      " 0   Rank          9981 non-null   float64\n",
      " 1   Name          10100 non-null  object \n",
      " 2   Country       10098 non-null  object \n",
      " 3   Sales         10093 non-null  object \n",
      " 4   Profit        10097 non-null  object \n",
      " 5   Assets        10086 non-null  object \n",
      " 6   Market Value  10092 non-null  object \n",
      " 7   Year          10100 non-null  int64  \n",
      "dtypes: float64(1), int64(1), object(6)\n",
      "memory usage: 631.4+ KB\n"
     ]
    }
   ],
   "source": [
    "df.info()"
   ]
  },
  {
   "cell_type": "code",
   "execution_count": 7,
   "metadata": {},
   "outputs": [
    {
     "data": {
      "text/html": [
       "<div>\n",
       "<style scoped>\n",
       "    .dataframe tbody tr th:only-of-type {\n",
       "        vertical-align: middle;\n",
       "    }\n",
       "\n",
       "    .dataframe tbody tr th {\n",
       "        vertical-align: top;\n",
       "    }\n",
       "\n",
       "    .dataframe thead th {\n",
       "        text-align: right;\n",
       "    }\n",
       "</style>\n",
       "<table border=\"1\" class=\"dataframe\">\n",
       "  <thead>\n",
       "    <tr style=\"text-align: right;\">\n",
       "      <th></th>\n",
       "      <th>Rank</th>\n",
       "      <th>Name</th>\n",
       "      <th>Country</th>\n",
       "      <th>Sales</th>\n",
       "      <th>Profit</th>\n",
       "      <th>Assets</th>\n",
       "      <th>MarketValue</th>\n",
       "      <th>Year</th>\n",
       "    </tr>\n",
       "  </thead>\n",
       "  <tbody>\n",
       "    <tr>\n",
       "      <th>0</th>\n",
       "      <td>1.0</td>\n",
       "      <td>ICBC</td>\n",
       "      <td>China</td>\n",
       "      <td>151.381</td>\n",
       "      <td>41.9837</td>\n",
       "      <td>3473.238</td>\n",
       "      <td>229.805</td>\n",
       "      <td>2017</td>\n",
       "    </tr>\n",
       "    <tr>\n",
       "      <th>1</th>\n",
       "      <td>2.0</td>\n",
       "      <td>China Construction Bank</td>\n",
       "      <td>China</td>\n",
       "      <td>134.242</td>\n",
       "      <td>34.9814</td>\n",
       "      <td>3016.578</td>\n",
       "      <td>200.458</td>\n",
       "      <td>2017</td>\n",
       "    </tr>\n",
       "    <tr>\n",
       "      <th>2</th>\n",
       "      <td>3.0</td>\n",
       "      <td>Berkshire Hathaway</td>\n",
       "      <td>United States</td>\n",
       "      <td>222.935</td>\n",
       "      <td>24.074</td>\n",
       "      <td>620.854</td>\n",
       "      <td>409.908</td>\n",
       "      <td>2017</td>\n",
       "    </tr>\n",
       "    <tr>\n",
       "      <th>3</th>\n",
       "      <td>4.0</td>\n",
       "      <td>JPMorgan Chase</td>\n",
       "      <td>United States</td>\n",
       "      <td>102.494</td>\n",
       "      <td>24.231</td>\n",
       "      <td>2512.986</td>\n",
       "      <td>306.616</td>\n",
       "      <td>2017</td>\n",
       "    </tr>\n",
       "    <tr>\n",
       "      <th>4</th>\n",
       "      <td>5.0</td>\n",
       "      <td>Wells Fargo</td>\n",
       "      <td>United States</td>\n",
       "      <td>97.573</td>\n",
       "      <td>21.938</td>\n",
       "      <td>1943.443</td>\n",
       "      <td>274.385</td>\n",
       "      <td>2017</td>\n",
       "    </tr>\n",
       "  </tbody>\n",
       "</table>\n",
       "</div>"
      ],
      "text/plain": [
       "   Rank                     Name        Country    Sales   Profit    Assets  \\\n",
       "0   1.0                     ICBC          China  151.381  41.9837  3473.238   \n",
       "1   2.0  China Construction Bank          China  134.242  34.9814  3016.578   \n",
       "2   3.0       Berkshire Hathaway  United States  222.935   24.074   620.854   \n",
       "3   4.0           JPMorgan Chase  United States  102.494   24.231  2512.986   \n",
       "4   5.0              Wells Fargo  United States   97.573   21.938  1943.443   \n",
       "\n",
       "  MarketValue  Year  \n",
       "0     229.805  2017  \n",
       "1     200.458  2017  \n",
       "2     409.908  2017  \n",
       "3     306.616  2017  \n",
       "4     274.385  2017  "
      ]
     },
     "execution_count": 7,
     "metadata": {},
     "output_type": "execute_result"
    }
   ],
   "source": [
    "df.rename(\n",
    "    columns={'Market Value': 'MarketValue'}, inplace=True\n",
    ")\n",
    "\n",
    "df.head()"
   ]
  },
  {
   "cell_type": "markdown",
   "metadata": {},
   "source": [
    "# 2017 Data Exploration"
   ]
  },
  {
   "cell_type": "code",
   "execution_count": 8,
   "metadata": {},
   "outputs": [
    {
     "data": {
      "text/html": [
       "<div>\n",
       "<style scoped>\n",
       "    .dataframe tbody tr th:only-of-type {\n",
       "        vertical-align: middle;\n",
       "    }\n",
       "\n",
       "    .dataframe tbody tr th {\n",
       "        vertical-align: top;\n",
       "    }\n",
       "\n",
       "    .dataframe thead th {\n",
       "        text-align: right;\n",
       "    }\n",
       "</style>\n",
       "<table border=\"1\" class=\"dataframe\">\n",
       "  <thead>\n",
       "    <tr style=\"text-align: right;\">\n",
       "      <th></th>\n",
       "      <th>Rank</th>\n",
       "      <th>Name</th>\n",
       "      <th>Country</th>\n",
       "      <th>Sales</th>\n",
       "      <th>Profit</th>\n",
       "      <th>Assets</th>\n",
       "      <th>MarketValue</th>\n",
       "      <th>Year</th>\n",
       "    </tr>\n",
       "  </thead>\n",
       "  <tbody>\n",
       "    <tr>\n",
       "      <th>0</th>\n",
       "      <td>1.0</td>\n",
       "      <td>ICBC</td>\n",
       "      <td>China</td>\n",
       "      <td>151.381</td>\n",
       "      <td>41.9837</td>\n",
       "      <td>3473.238</td>\n",
       "      <td>229.805</td>\n",
       "      <td>2017</td>\n",
       "    </tr>\n",
       "    <tr>\n",
       "      <th>1</th>\n",
       "      <td>2.0</td>\n",
       "      <td>China Construction Bank</td>\n",
       "      <td>China</td>\n",
       "      <td>134.242</td>\n",
       "      <td>34.9814</td>\n",
       "      <td>3016.578</td>\n",
       "      <td>200.458</td>\n",
       "      <td>2017</td>\n",
       "    </tr>\n",
       "    <tr>\n",
       "      <th>2</th>\n",
       "      <td>3.0</td>\n",
       "      <td>Berkshire Hathaway</td>\n",
       "      <td>United States</td>\n",
       "      <td>222.935</td>\n",
       "      <td>24.074</td>\n",
       "      <td>620.854</td>\n",
       "      <td>409.908</td>\n",
       "      <td>2017</td>\n",
       "    </tr>\n",
       "    <tr>\n",
       "      <th>3</th>\n",
       "      <td>4.0</td>\n",
       "      <td>JPMorgan Chase</td>\n",
       "      <td>United States</td>\n",
       "      <td>102.494</td>\n",
       "      <td>24.231</td>\n",
       "      <td>2512.986</td>\n",
       "      <td>306.616</td>\n",
       "      <td>2017</td>\n",
       "    </tr>\n",
       "    <tr>\n",
       "      <th>4</th>\n",
       "      <td>5.0</td>\n",
       "      <td>Wells Fargo</td>\n",
       "      <td>United States</td>\n",
       "      <td>97.573</td>\n",
       "      <td>21.938</td>\n",
       "      <td>1943.443</td>\n",
       "      <td>274.385</td>\n",
       "      <td>2017</td>\n",
       "    </tr>\n",
       "  </tbody>\n",
       "</table>\n",
       "</div>"
      ],
      "text/plain": [
       "   Rank                     Name        Country    Sales   Profit    Assets  \\\n",
       "0   1.0                     ICBC          China  151.381  41.9837  3473.238   \n",
       "1   2.0  China Construction Bank          China  134.242  34.9814  3016.578   \n",
       "2   3.0       Berkshire Hathaway  United States  222.935   24.074   620.854   \n",
       "3   4.0           JPMorgan Chase  United States  102.494   24.231  2512.986   \n",
       "4   5.0              Wells Fargo  United States   97.573   21.938  1943.443   \n",
       "\n",
       "  MarketValue  Year  \n",
       "0     229.805  2017  \n",
       "1     200.458  2017  \n",
       "2     409.908  2017  \n",
       "3     306.616  2017  \n",
       "4     274.385  2017  "
      ]
     },
     "execution_count": 8,
     "metadata": {},
     "output_type": "execute_result"
    }
   ],
   "source": [
    "df_17 = df[df['Year'] == 2017]\n",
    "df_17.head()"
   ]
  },
  {
   "cell_type": "code",
   "execution_count": 9,
   "metadata": {},
   "outputs": [
    {
     "name": "stdout",
     "output_type": "stream",
     "text": [
      "<class 'pandas.core.frame.DataFrame'>\n",
      "Int64Index: 2000 entries, 0 to 1999\n",
      "Data columns (total 8 columns):\n",
      " #   Column       Non-Null Count  Dtype  \n",
      "---  ------       --------------  -----  \n",
      " 0   Rank         2000 non-null   float64\n",
      " 1   Name         2000 non-null   object \n",
      " 2   Country      2000 non-null   object \n",
      " 3   Sales        1998 non-null   object \n",
      " 4   Profit       2000 non-null   object \n",
      " 5   Assets       1999 non-null   object \n",
      " 6   MarketValue  1999 non-null   object \n",
      " 7   Year         2000 non-null   int64  \n",
      "dtypes: float64(1), int64(1), object(6)\n",
      "memory usage: 140.6+ KB\n"
     ]
    }
   ],
   "source": [
    "df_17.info()"
   ]
  },
  {
   "cell_type": "code",
   "execution_count": 10,
   "metadata": {},
   "outputs": [
    {
     "data": {
      "text/plain": [
       "(2000, 8)"
      ]
     },
     "execution_count": 10,
     "metadata": {},
     "output_type": "execute_result"
    }
   ],
   "source": [
    "df_17.shape"
   ]
  },
  {
   "cell_type": "code",
   "execution_count": 11,
   "metadata": {},
   "outputs": [],
   "source": [
    "df_17[['Sales', 'Profit', 'Assets', 'MarketValue']] = df_17[['Sales', 'Profit', 'Assets', 'MarketValue']].astype(np.float64)   # change data type\n",
    "df_17['Rank'] = df_17['Rank'].astype('category')"
   ]
  },
  {
   "cell_type": "code",
   "execution_count": 12,
   "metadata": {},
   "outputs": [
    {
     "name": "stdout",
     "output_type": "stream",
     "text": [
      "<class 'pandas.core.frame.DataFrame'>\n",
      "Int64Index: 2000 entries, 0 to 1999\n",
      "Data columns (total 8 columns):\n",
      " #   Column       Non-Null Count  Dtype   \n",
      "---  ------       --------------  -----   \n",
      " 0   Rank         2000 non-null   category\n",
      " 1   Name         2000 non-null   object  \n",
      " 2   Country      2000 non-null   object  \n",
      " 3   Sales        1998 non-null   float64 \n",
      " 4   Profit       2000 non-null   float64 \n",
      " 5   Assets       1999 non-null   float64 \n",
      " 6   MarketValue  1999 non-null   float64 \n",
      " 7   Year         2000 non-null   int64   \n",
      "dtypes: category(1), float64(4), int64(1), object(2)\n",
      "memory usage: 209.1+ KB\n"
     ]
    }
   ],
   "source": [
    "df_17.info()"
   ]
  },
  {
   "cell_type": "code",
   "execution_count": 13,
   "metadata": {},
   "outputs": [
    {
     "data": {
      "text/html": [
       "<div>\n",
       "<style scoped>\n",
       "    .dataframe tbody tr th:only-of-type {\n",
       "        vertical-align: middle;\n",
       "    }\n",
       "\n",
       "    .dataframe tbody tr th {\n",
       "        vertical-align: top;\n",
       "    }\n",
       "\n",
       "    .dataframe thead th {\n",
       "        text-align: right;\n",
       "    }\n",
       "</style>\n",
       "<table border=\"1\" class=\"dataframe\">\n",
       "  <thead>\n",
       "    <tr style=\"text-align: right;\">\n",
       "      <th></th>\n",
       "      <th>Name</th>\n",
       "      <th>Country</th>\n",
       "    </tr>\n",
       "  </thead>\n",
       "  <tbody>\n",
       "    <tr>\n",
       "      <th>count</th>\n",
       "      <td>2000</td>\n",
       "      <td>2000</td>\n",
       "    </tr>\n",
       "    <tr>\n",
       "      <th>unique</th>\n",
       "      <td>1999</td>\n",
       "      <td>61</td>\n",
       "    </tr>\n",
       "    <tr>\n",
       "      <th>top</th>\n",
       "      <td>Merck</td>\n",
       "      <td>United States</td>\n",
       "    </tr>\n",
       "    <tr>\n",
       "      <th>freq</th>\n",
       "      <td>2</td>\n",
       "      <td>564</td>\n",
       "    </tr>\n",
       "  </tbody>\n",
       "</table>\n",
       "</div>"
      ],
      "text/plain": [
       "         Name        Country\n",
       "count    2000           2000\n",
       "unique   1999             61\n",
       "top     Merck  United States\n",
       "freq        2            564"
      ]
     },
     "execution_count": 13,
     "metadata": {},
     "output_type": "execute_result"
    }
   ],
   "source": [
    "df_17.describe(include='object')"
   ]
  },
  {
   "cell_type": "code",
   "execution_count": 14,
   "metadata": {},
   "outputs": [
    {
     "data": {
      "text/plain": [
       "Merck                     2\n",
       "ICBC                      1\n",
       "Chugoku Electric Power    1\n",
       "Agilent Technologies      1\n",
       "JetBlue Airways           1\n",
       "                         ..\n",
       "Fortescue Metals Group    1\n",
       "Commerzbank               1\n",
       "DaVita                    1\n",
       "West Japan Railway        1\n",
       "Tech Mahindra             1\n",
       "Name: Name, Length: 1999, dtype: int64"
      ]
     },
     "execution_count": 14,
     "metadata": {},
     "output_type": "execute_result"
    }
   ],
   "source": [
    "df_17['Name'].value_counts()"
   ]
  },
  {
   "cell_type": "code",
   "execution_count": 15,
   "metadata": {},
   "outputs": [
    {
     "data": {
      "text/plain": [
       "United States     564\n",
       "Japan             229\n",
       "China             200\n",
       "United Kingdom     91\n",
       "South Korea        64\n",
       "                 ... \n",
       "Jordan              1\n",
       "Oman                1\n",
       "Mongolia            1\n",
       "Czech Republic      1\n",
       "Puerto Rico         1\n",
       "Name: Country, Length: 61, dtype: int64"
      ]
     },
     "execution_count": 15,
     "metadata": {},
     "output_type": "execute_result"
    }
   ],
   "source": [
    "df_17['Country'].value_counts()"
   ]
  },
  {
   "cell_type": "code",
   "execution_count": 16,
   "metadata": {},
   "outputs": [
    {
     "data": {
      "text/plain": [
       "1.0       1\n",
       "1330.0    1\n",
       "1343.0    1\n",
       "1342.0    1\n",
       "1341.0    1\n",
       "         ..\n",
       "662.0     1\n",
       "661.0     1\n",
       "660.0     1\n",
       "659.0     1\n",
       "2000.0    1\n",
       "Name: Rank, Length: 2000, dtype: int64"
      ]
     },
     "execution_count": 16,
     "metadata": {},
     "output_type": "execute_result"
    }
   ],
   "source": [
    "df_17['Rank'].value_counts()"
   ]
  },
  {
   "cell_type": "code",
   "execution_count": 17,
   "metadata": {},
   "outputs": [
    {
     "data": {
      "text/html": [
       "<div>\n",
       "<style scoped>\n",
       "    .dataframe tbody tr th:only-of-type {\n",
       "        vertical-align: middle;\n",
       "    }\n",
       "\n",
       "    .dataframe tbody tr th {\n",
       "        vertical-align: top;\n",
       "    }\n",
       "\n",
       "    .dataframe thead th {\n",
       "        text-align: right;\n",
       "    }\n",
       "</style>\n",
       "<table border=\"1\" class=\"dataframe\">\n",
       "  <thead>\n",
       "    <tr style=\"text-align: right;\">\n",
       "      <th></th>\n",
       "      <th>Sales</th>\n",
       "      <th>Profit</th>\n",
       "      <th>Assets</th>\n",
       "      <th>MarketValue</th>\n",
       "    </tr>\n",
       "  </thead>\n",
       "  <tbody>\n",
       "    <tr>\n",
       "      <th>count</th>\n",
       "      <td>1998.000000</td>\n",
       "      <td>2000.000000</td>\n",
       "      <td>1999.000000</td>\n",
       "      <td>1999.000000</td>\n",
       "    </tr>\n",
       "    <tr>\n",
       "      <th>mean</th>\n",
       "      <td>17.680185</td>\n",
       "      <td>1.241552</td>\n",
       "      <td>84.569579</td>\n",
       "      <td>24.423543</td>\n",
       "    </tr>\n",
       "    <tr>\n",
       "      <th>std</th>\n",
       "      <td>29.329947</td>\n",
       "      <td>2.918115</td>\n",
       "      <td>261.044216</td>\n",
       "      <td>44.772378</td>\n",
       "    </tr>\n",
       "    <tr>\n",
       "      <th>min</th>\n",
       "      <td>0.001000</td>\n",
       "      <td>-13.042100</td>\n",
       "      <td>0.001000</td>\n",
       "      <td>0.072000</td>\n",
       "    </tr>\n",
       "    <tr>\n",
       "      <th>25%</th>\n",
       "      <td>4.029250</td>\n",
       "      <td>0.317975</td>\n",
       "      <td>10.860500</td>\n",
       "      <td>6.639500</td>\n",
       "    </tr>\n",
       "    <tr>\n",
       "      <th>50%</th>\n",
       "      <td>8.802500</td>\n",
       "      <td>0.612300</td>\n",
       "      <td>22.884000</td>\n",
       "      <td>11.944000</td>\n",
       "    </tr>\n",
       "    <tr>\n",
       "      <th>75%</th>\n",
       "      <td>17.449500</td>\n",
       "      <td>1.279825</td>\n",
       "      <td>52.376000</td>\n",
       "      <td>24.362500</td>\n",
       "    </tr>\n",
       "    <tr>\n",
       "      <th>max</th>\n",
       "      <td>485.252000</td>\n",
       "      <td>45.217000</td>\n",
       "      <td>3473.238000</td>\n",
       "      <td>752.039000</td>\n",
       "    </tr>\n",
       "  </tbody>\n",
       "</table>\n",
       "</div>"
      ],
      "text/plain": [
       "             Sales       Profit       Assets  MarketValue\n",
       "count  1998.000000  2000.000000  1999.000000  1999.000000\n",
       "mean     17.680185     1.241552    84.569579    24.423543\n",
       "std      29.329947     2.918115   261.044216    44.772378\n",
       "min       0.001000   -13.042100     0.001000     0.072000\n",
       "25%       4.029250     0.317975    10.860500     6.639500\n",
       "50%       8.802500     0.612300    22.884000    11.944000\n",
       "75%      17.449500     1.279825    52.376000    24.362500\n",
       "max     485.252000    45.217000  3473.238000   752.039000"
      ]
     },
     "execution_count": 17,
     "metadata": {},
     "output_type": "execute_result"
    }
   ],
   "source": [
    "df_17.describe(include='float64')"
   ]
  },
  {
   "cell_type": "markdown",
   "metadata": {},
   "source": [
    "# Exploratory Data Analysis"
   ]
  },
  {
   "cell_type": "code",
   "execution_count": 18,
   "metadata": {},
   "outputs": [
    {
     "data": {
      "text/plain": [
       "<seaborn.axisgrid.PairGrid at 0x241f5c4dca0>"
      ]
     },
     "execution_count": 18,
     "metadata": {},
     "output_type": "execute_result"
    },
    {
     "data": {
      "image/png": "[encoded data removed]",
      "text/plain": [
       "<Figure size 720x720 with 20 Axes>"
      ]
     },
     "metadata": {},
     "output_type": "display_data"
    }
   ],
   "source": [
    "sns.pairplot(df_17[['Sales', 'Profit', 'Assets', 'MarketValue']])                # data is right skewed"
   ]
  },
  {
   "cell_type": "markdown",
   "metadata": {},
   "source": [
    "# Missing Data Exploration"
   ]
  },
  {
   "cell_type": "code",
   "execution_count": 19,
   "metadata": {},
   "outputs": [
    {
     "data": {
      "text/plain": [
       "Rank           0\n",
       "Name           0\n",
       "Country        0\n",
       "Sales          2\n",
       "Profit         0\n",
       "Assets         1\n",
       "MarketValue    1\n",
       "Year           0\n",
       "dtype: int64"
      ]
     },
     "execution_count": 19,
     "metadata": {},
     "output_type": "execute_result"
    }
   ],
   "source": [
    "df_17.isna().sum()"
   ]
  },
  {
   "cell_type": "code",
   "execution_count": 20,
   "metadata": {},
   "outputs": [
    {
     "data": {
      "text/html": [
       "<div>\n",
       "<style scoped>\n",
       "    .dataframe tbody tr th:only-of-type {\n",
       "        vertical-align: middle;\n",
       "    }\n",
       "\n",
       "    .dataframe tbody tr th {\n",
       "        vertical-align: top;\n",
       "    }\n",
       "\n",
       "    .dataframe thead th {\n",
       "        text-align: right;\n",
       "    }\n",
       "</style>\n",
       "<table border=\"1\" class=\"dataframe\">\n",
       "  <thead>\n",
       "    <tr style=\"text-align: right;\">\n",
       "      <th></th>\n",
       "      <th>Rank</th>\n",
       "      <th>Name</th>\n",
       "      <th>Country</th>\n",
       "      <th>Sales</th>\n",
       "      <th>Profit</th>\n",
       "      <th>Assets</th>\n",
       "      <th>MarketValue</th>\n",
       "      <th>Year</th>\n",
       "    </tr>\n",
       "  </thead>\n",
       "  <tbody>\n",
       "    <tr>\n",
       "      <th>1796</th>\n",
       "      <td>1797.0</td>\n",
       "      <td>Grupo Zuliano</td>\n",
       "      <td>Venezuela</td>\n",
       "      <td>NaN</td>\n",
       "      <td>0.9989</td>\n",
       "      <td>1.521</td>\n",
       "      <td>0.072</td>\n",
       "      <td>2017</td>\n",
       "    </tr>\n",
       "    <tr>\n",
       "      <th>1913</th>\n",
       "      <td>1914.0</td>\n",
       "      <td>Technipfmc</td>\n",
       "      <td>United Kingdom</td>\n",
       "      <td>NaN</td>\n",
       "      <td>0.0000</td>\n",
       "      <td>0.001</td>\n",
       "      <td>15.631</td>\n",
       "      <td>2017</td>\n",
       "    </tr>\n",
       "  </tbody>\n",
       "</table>\n",
       "</div>"
      ],
      "text/plain": [
       "        Rank           Name         Country  Sales  Profit  Assets  \\\n",
       "1796  1797.0  Grupo Zuliano       Venezuela    NaN  0.9989   1.521   \n",
       "1913  1914.0     Technipfmc  United Kingdom    NaN  0.0000   0.001   \n",
       "\n",
       "      MarketValue  Year  \n",
       "1796        0.072  2017  \n",
       "1913       15.631  2017  "
      ]
     },
     "execution_count": 20,
     "metadata": {},
     "output_type": "execute_result"
    }
   ],
   "source": [
    "df_17[df_17['Sales'].isna()]                    "
   ]
  },
  {
   "cell_type": "code",
   "execution_count": 21,
   "metadata": {},
   "outputs": [
    {
     "data": {
      "text/html": [
       "<div>\n",
       "<style scoped>\n",
       "    .dataframe tbody tr th:only-of-type {\n",
       "        vertical-align: middle;\n",
       "    }\n",
       "\n",
       "    .dataframe tbody tr th {\n",
       "        vertical-align: top;\n",
       "    }\n",
       "\n",
       "    .dataframe thead th {\n",
       "        text-align: right;\n",
       "    }\n",
       "</style>\n",
       "<table border=\"1\" class=\"dataframe\">\n",
       "  <thead>\n",
       "    <tr style=\"text-align: right;\">\n",
       "      <th></th>\n",
       "      <th>Rank</th>\n",
       "      <th>Name</th>\n",
       "      <th>Country</th>\n",
       "      <th>Sales</th>\n",
       "      <th>Profit</th>\n",
       "      <th>Assets</th>\n",
       "      <th>MarketValue</th>\n",
       "      <th>Year</th>\n",
       "    </tr>\n",
       "  </thead>\n",
       "  <tbody>\n",
       "    <tr>\n",
       "      <th>1726</th>\n",
       "      <td>1727.0</td>\n",
       "      <td>Bank of Greece</td>\n",
       "      <td>Greece</td>\n",
       "      <td>1.935</td>\n",
       "      <td>1.2084</td>\n",
       "      <td>NaN</td>\n",
       "      <td>0.24</td>\n",
       "      <td>2017</td>\n",
       "    </tr>\n",
       "  </tbody>\n",
       "</table>\n",
       "</div>"
      ],
      "text/plain": [
       "        Rank            Name Country  Sales  Profit  Assets  MarketValue  Year\n",
       "1726  1727.0  Bank of Greece  Greece  1.935  1.2084     NaN         0.24  2017"
      ]
     },
     "execution_count": 21,
     "metadata": {},
     "output_type": "execute_result"
    }
   ],
   "source": [
    "df_17[df_17['Assets'].isna()]    "
   ]
  },
  {
   "cell_type": "code",
   "execution_count": 22,
   "metadata": {},
   "outputs": [
    {
     "data": {
      "text/html": [
       "<div>\n",
       "<style scoped>\n",
       "    .dataframe tbody tr th:only-of-type {\n",
       "        vertical-align: middle;\n",
       "    }\n",
       "\n",
       "    .dataframe tbody tr th {\n",
       "        vertical-align: top;\n",
       "    }\n",
       "\n",
       "    .dataframe thead th {\n",
       "        text-align: right;\n",
       "    }\n",
       "</style>\n",
       "<table border=\"1\" class=\"dataframe\">\n",
       "  <thead>\n",
       "    <tr style=\"text-align: right;\">\n",
       "      <th></th>\n",
       "      <th>Rank</th>\n",
       "      <th>Name</th>\n",
       "      <th>Country</th>\n",
       "      <th>Sales</th>\n",
       "      <th>Profit</th>\n",
       "      <th>Assets</th>\n",
       "      <th>MarketValue</th>\n",
       "      <th>Year</th>\n",
       "    </tr>\n",
       "  </thead>\n",
       "  <tbody>\n",
       "    <tr>\n",
       "      <th>1273</th>\n",
       "      <td>1274.0</td>\n",
       "      <td>Banca MPS</td>\n",
       "      <td>Italy</td>\n",
       "      <td>5.887</td>\n",
       "      <td>-3.5853</td>\n",
       "      <td>161.828</td>\n",
       "      <td>NaN</td>\n",
       "      <td>2017</td>\n",
       "    </tr>\n",
       "  </tbody>\n",
       "</table>\n",
       "</div>"
      ],
      "text/plain": [
       "        Rank       Name Country  Sales  Profit   Assets  MarketValue  Year\n",
       "1273  1274.0  Banca MPS   Italy  5.887 -3.5853  161.828          NaN  2017"
      ]
     },
     "execution_count": 22,
     "metadata": {},
     "output_type": "execute_result"
    }
   ],
   "source": [
    "df_17[df_17['MarketValue'].isna()]   "
   ]
  },
  {
   "cell_type": "code",
   "execution_count": 23,
   "metadata": {},
   "outputs": [
    {
     "data": {
      "text/html": [
       "<div>\n",
       "<style scoped>\n",
       "    .dataframe tbody tr th:only-of-type {\n",
       "        vertical-align: middle;\n",
       "    }\n",
       "\n",
       "    .dataframe tbody tr th {\n",
       "        vertical-align: top;\n",
       "    }\n",
       "\n",
       "    .dataframe thead th {\n",
       "        text-align: right;\n",
       "    }\n",
       "</style>\n",
       "<table border=\"1\" class=\"dataframe\">\n",
       "  <thead>\n",
       "    <tr style=\"text-align: right;\">\n",
       "      <th></th>\n",
       "      <th>Rank</th>\n",
       "      <th>Name</th>\n",
       "      <th>Country</th>\n",
       "      <th>Sales</th>\n",
       "      <th>Profit</th>\n",
       "      <th>Assets</th>\n",
       "      <th>MarketValue</th>\n",
       "      <th>Year</th>\n",
       "    </tr>\n",
       "  </thead>\n",
       "  <tbody>\n",
       "    <tr>\n",
       "      <th>0</th>\n",
       "      <td>1.0</td>\n",
       "      <td>ICBC</td>\n",
       "      <td>China</td>\n",
       "      <td>151.381</td>\n",
       "      <td>41.9837</td>\n",
       "      <td>3473.238</td>\n",
       "      <td>229.805</td>\n",
       "      <td>2017</td>\n",
       "    </tr>\n",
       "    <tr>\n",
       "      <th>1</th>\n",
       "      <td>2.0</td>\n",
       "      <td>China Construction Bank</td>\n",
       "      <td>China</td>\n",
       "      <td>134.242</td>\n",
       "      <td>34.9814</td>\n",
       "      <td>3016.578</td>\n",
       "      <td>200.458</td>\n",
       "      <td>2017</td>\n",
       "    </tr>\n",
       "    <tr>\n",
       "      <th>2</th>\n",
       "      <td>3.0</td>\n",
       "      <td>Berkshire Hathaway</td>\n",
       "      <td>United States</td>\n",
       "      <td>222.935</td>\n",
       "      <td>24.0740</td>\n",
       "      <td>620.854</td>\n",
       "      <td>409.908</td>\n",
       "      <td>2017</td>\n",
       "    </tr>\n",
       "    <tr>\n",
       "      <th>3</th>\n",
       "      <td>4.0</td>\n",
       "      <td>JPMorgan Chase</td>\n",
       "      <td>United States</td>\n",
       "      <td>102.494</td>\n",
       "      <td>24.2310</td>\n",
       "      <td>2512.986</td>\n",
       "      <td>306.616</td>\n",
       "      <td>2017</td>\n",
       "    </tr>\n",
       "    <tr>\n",
       "      <th>4</th>\n",
       "      <td>5.0</td>\n",
       "      <td>Wells Fargo</td>\n",
       "      <td>United States</td>\n",
       "      <td>97.573</td>\n",
       "      <td>21.9380</td>\n",
       "      <td>1943.443</td>\n",
       "      <td>274.385</td>\n",
       "      <td>2017</td>\n",
       "    </tr>\n",
       "  </tbody>\n",
       "</table>\n",
       "</div>"
      ],
      "text/plain": [
       "  Rank                     Name        Country    Sales   Profit    Assets  \\\n",
       "0  1.0                     ICBC          China  151.381  41.9837  3473.238   \n",
       "1  2.0  China Construction Bank          China  134.242  34.9814  3016.578   \n",
       "2  3.0       Berkshire Hathaway  United States  222.935  24.0740   620.854   \n",
       "3  4.0           JPMorgan Chase  United States  102.494  24.2310  2512.986   \n",
       "4  5.0              Wells Fargo  United States   97.573  21.9380  1943.443   \n",
       "\n",
       "   MarketValue  Year  \n",
       "0      229.805  2017  \n",
       "1      200.458  2017  \n",
       "2      409.908  2017  \n",
       "3      306.616  2017  \n",
       "4      274.385  2017  "
      ]
     },
     "execution_count": 23,
     "metadata": {},
     "output_type": "execute_result"
    }
   ],
   "source": [
    "df_17_drop = df_17.dropna() \n",
    "df_17_drop.head()"
   ]
  },
  {
   "cell_type": "code",
   "execution_count": 24,
   "metadata": {},
   "outputs": [
    {
     "data": {
      "text/plain": [
       "Rank           0\n",
       "Name           0\n",
       "Country        0\n",
       "Sales          0\n",
       "Profit         0\n",
       "Assets         0\n",
       "MarketValue    0\n",
       "Year           0\n",
       "dtype: int64"
      ]
     },
     "execution_count": 24,
     "metadata": {},
     "output_type": "execute_result"
    }
   ],
   "source": [
    "df_17_drop.isna().sum()"
   ]
  },
  {
   "cell_type": "markdown",
   "metadata": {},
   "source": [
    "# Grouping and Aggregation (2017)"
   ]
  },
  {
   "cell_type": "code",
   "execution_count": 25,
   "metadata": {},
   "outputs": [
    {
     "data": {
      "text/html": [
       "<div>\n",
       "<style scoped>\n",
       "    .dataframe tbody tr th:only-of-type {\n",
       "        vertical-align: middle;\n",
       "    }\n",
       "\n",
       "    .dataframe tbody tr th {\n",
       "        vertical-align: top;\n",
       "    }\n",
       "\n",
       "    .dataframe thead tr th {\n",
       "        text-align: left;\n",
       "    }\n",
       "\n",
       "    .dataframe thead tr:last-of-type th {\n",
       "        text-align: right;\n",
       "    }\n",
       "</style>\n",
       "<table border=\"1\" class=\"dataframe\">\n",
       "  <thead>\n",
       "    <tr>\n",
       "      <th></th>\n",
       "      <th colspan=\"4\" halign=\"left\">Sales</th>\n",
       "      <th colspan=\"4\" halign=\"left\">Profit</th>\n",
       "      <th colspan=\"4\" halign=\"left\">Assets</th>\n",
       "      <th colspan=\"4\" halign=\"left\">MarketValue</th>\n",
       "      <th colspan=\"4\" halign=\"left\">Year</th>\n",
       "    </tr>\n",
       "    <tr>\n",
       "      <th></th>\n",
       "      <th>amin</th>\n",
       "      <th>mean</th>\n",
       "      <th>amax</th>\n",
       "      <th>sum</th>\n",
       "      <th>amin</th>\n",
       "      <th>mean</th>\n",
       "      <th>amax</th>\n",
       "      <th>sum</th>\n",
       "      <th>amin</th>\n",
       "      <th>mean</th>\n",
       "      <th>amax</th>\n",
       "      <th>sum</th>\n",
       "      <th>amin</th>\n",
       "      <th>mean</th>\n",
       "      <th>amax</th>\n",
       "      <th>sum</th>\n",
       "      <th>amin</th>\n",
       "      <th>mean</th>\n",
       "      <th>amax</th>\n",
       "      <th>sum</th>\n",
       "    </tr>\n",
       "    <tr>\n",
       "      <th>Country</th>\n",
       "      <th></th>\n",
       "      <th></th>\n",
       "      <th></th>\n",
       "      <th></th>\n",
       "      <th></th>\n",
       "      <th></th>\n",
       "      <th></th>\n",
       "      <th></th>\n",
       "      <th></th>\n",
       "      <th></th>\n",
       "      <th></th>\n",
       "      <th></th>\n",
       "      <th></th>\n",
       "      <th></th>\n",
       "      <th></th>\n",
       "      <th></th>\n",
       "      <th></th>\n",
       "      <th></th>\n",
       "      <th></th>\n",
       "      <th></th>\n",
       "    </tr>\n",
       "  </thead>\n",
       "  <tbody>\n",
       "    <tr>\n",
       "      <th>Argentina</th>\n",
       "      <td>0.360</td>\n",
       "      <td>6.098667</td>\n",
       "      <td>14.219</td>\n",
       "      <td>18.296</td>\n",
       "      <td>-1.9110</td>\n",
       "      <td>-0.461333</td>\n",
       "      <td>0.4073</td>\n",
       "      <td>-1.3840</td>\n",
       "      <td>0.811</td>\n",
       "      <td>14.243667</td>\n",
       "      <td>26.612</td>\n",
       "      <td>42.731</td>\n",
       "      <td>5.134</td>\n",
       "      <td>11.769000</td>\n",
       "      <td>20.230</td>\n",
       "      <td>35.307</td>\n",
       "      <td>2017</td>\n",
       "      <td>2017.0</td>\n",
       "      <td>2017</td>\n",
       "      <td>6051</td>\n",
       "    </tr>\n",
       "    <tr>\n",
       "      <th>Australia</th>\n",
       "      <td>0.549</td>\n",
       "      <td>11.082897</td>\n",
       "      <td>50.033</td>\n",
       "      <td>432.233</td>\n",
       "      <td>-1.4979</td>\n",
       "      <td>1.237331</td>\n",
       "      <td>7.0652</td>\n",
       "      <td>48.2559</td>\n",
       "      <td>3.840</td>\n",
       "      <td>92.461923</td>\n",
       "      <td>703.622</td>\n",
       "      <td>3606.015</td>\n",
       "      <td>3.491</td>\n",
       "      <td>23.192051</td>\n",
       "      <td>109.902</td>\n",
       "      <td>904.490</td>\n",
       "      <td>2017</td>\n",
       "      <td>2017.0</td>\n",
       "      <td>2017</td>\n",
       "      <td>78663</td>\n",
       "    </tr>\n",
       "    <tr>\n",
       "      <th>Austria</th>\n",
       "      <td>3.093</td>\n",
       "      <td>10.303750</td>\n",
       "      <td>21.306</td>\n",
       "      <td>82.430</td>\n",
       "      <td>-0.4458</td>\n",
       "      <td>0.387875</td>\n",
       "      <td>1.3804</td>\n",
       "      <td>3.1030</td>\n",
       "      <td>11.518</td>\n",
       "      <td>62.299500</td>\n",
       "      <td>220.843</td>\n",
       "      <td>498.396</td>\n",
       "      <td>2.374</td>\n",
       "      <td>7.114875</td>\n",
       "      <td>13.617</td>\n",
       "      <td>56.919</td>\n",
       "      <td>2017</td>\n",
       "      <td>2017.0</td>\n",
       "      <td>2017</td>\n",
       "      <td>16136</td>\n",
       "    </tr>\n",
       "    <tr>\n",
       "      <th>Bahrain</th>\n",
       "      <td>1.608</td>\n",
       "      <td>1.646500</td>\n",
       "      <td>1.685</td>\n",
       "      <td>3.293</td>\n",
       "      <td>0.1830</td>\n",
       "      <td>0.363050</td>\n",
       "      <td>0.5431</td>\n",
       "      <td>0.7261</td>\n",
       "      <td>30.141</td>\n",
       "      <td>30.731500</td>\n",
       "      <td>31.322</td>\n",
       "      <td>61.463</td>\n",
       "      <td>1.088</td>\n",
       "      <td>3.513500</td>\n",
       "      <td>5.939</td>\n",
       "      <td>7.027</td>\n",
       "      <td>2017</td>\n",
       "      <td>2017.0</td>\n",
       "      <td>2017</td>\n",
       "      <td>4034</td>\n",
       "    </tr>\n",
       "    <tr>\n",
       "      <th>Belgium</th>\n",
       "      <td>0.393</td>\n",
       "      <td>12.933222</td>\n",
       "      <td>45.558</td>\n",
       "      <td>116.399</td>\n",
       "      <td>0.0300</td>\n",
       "      <td>0.756222</td>\n",
       "      <td>2.6847</td>\n",
       "      <td>6.8060</td>\n",
       "      <td>4.442</td>\n",
       "      <td>104.175556</td>\n",
       "      <td>290.267</td>\n",
       "      <td>937.580</td>\n",
       "      <td>0.373</td>\n",
       "      <td>33.344444</td>\n",
       "      <td>213.102</td>\n",
       "      <td>300.100</td>\n",
       "      <td>2017</td>\n",
       "      <td>2017.0</td>\n",
       "      <td>2017</td>\n",
       "      <td>18153</td>\n",
       "    </tr>\n",
       "    <tr>\n",
       "      <th>...</th>\n",
       "      <td>...</td>\n",
       "      <td>...</td>\n",
       "      <td>...</td>\n",
       "      <td>...</td>\n",
       "      <td>...</td>\n",
       "      <td>...</td>\n",
       "      <td>...</td>\n",
       "      <td>...</td>\n",
       "      <td>...</td>\n",
       "      <td>...</td>\n",
       "      <td>...</td>\n",
       "      <td>...</td>\n",
       "      <td>...</td>\n",
       "      <td>...</td>\n",
       "      <td>...</td>\n",
       "      <td>...</td>\n",
       "      <td>...</td>\n",
       "      <td>...</td>\n",
       "      <td>...</td>\n",
       "      <td>...</td>\n",
       "    </tr>\n",
       "    <tr>\n",
       "      <th>United Arab Emirates</th>\n",
       "      <td>1.352</td>\n",
       "      <td>3.917571</td>\n",
       "      <td>14.255</td>\n",
       "      <td>54.846</td>\n",
       "      <td>-5.1821</td>\n",
       "      <td>0.592321</td>\n",
       "      <td>2.2927</td>\n",
       "      <td>8.2925</td>\n",
       "      <td>5.013</td>\n",
       "      <td>41.407214</td>\n",
       "      <td>121.976</td>\n",
       "      <td>579.701</td>\n",
       "      <td>0.941</td>\n",
       "      <td>10.726071</td>\n",
       "      <td>42.739</td>\n",
       "      <td>150.165</td>\n",
       "      <td>2017</td>\n",
       "      <td>2017.0</td>\n",
       "      <td>2017</td>\n",
       "      <td>28238</td>\n",
       "    </tr>\n",
       "    <tr>\n",
       "      <th>United Kingdom</th>\n",
       "      <td>0.644</td>\n",
       "      <td>21.029667</td>\n",
       "      <td>183.834</td>\n",
       "      <td>1892.670</td>\n",
       "      <td>-9.2638</td>\n",
       "      <td>0.719003</td>\n",
       "      <td>6.2715</td>\n",
       "      <td>64.7103</td>\n",
       "      <td>2.771</td>\n",
       "      <td>132.768400</td>\n",
       "      <td>2374.986</td>\n",
       "      <td>11949.156</td>\n",
       "      <td>1.601</td>\n",
       "      <td>23.422467</td>\n",
       "      <td>162.638</td>\n",
       "      <td>2108.022</td>\n",
       "      <td>2017</td>\n",
       "      <td>2017.0</td>\n",
       "      <td>2017</td>\n",
       "      <td>181530</td>\n",
       "    </tr>\n",
       "    <tr>\n",
       "      <th>United States</th>\n",
       "      <td>0.031</td>\n",
       "      <td>20.396835</td>\n",
       "      <td>485.252</td>\n",
       "      <td>11503.815</td>\n",
       "      <td>-6.1770</td>\n",
       "      <td>1.640453</td>\n",
       "      <td>45.2170</td>\n",
       "      <td>925.2156</td>\n",
       "      <td>0.292</td>\n",
       "      <td>71.467413</td>\n",
       "      <td>3287.968</td>\n",
       "      <td>40307.621</td>\n",
       "      <td>0.681</td>\n",
       "      <td>38.202078</td>\n",
       "      <td>752.039</td>\n",
       "      <td>21545.972</td>\n",
       "      <td>2017</td>\n",
       "      <td>2017.0</td>\n",
       "      <td>2017</td>\n",
       "      <td>1137588</td>\n",
       "    </tr>\n",
       "    <tr>\n",
       "      <th>Venezuela</th>\n",
       "      <td>0.370</td>\n",
       "      <td>3.660500</td>\n",
       "      <td>6.951</td>\n",
       "      <td>7.321</td>\n",
       "      <td>2.0042</td>\n",
       "      <td>2.273150</td>\n",
       "      <td>2.5421</td>\n",
       "      <td>4.5463</td>\n",
       "      <td>2.575</td>\n",
       "      <td>75.617000</td>\n",
       "      <td>148.659</td>\n",
       "      <td>151.234</td>\n",
       "      <td>2.512</td>\n",
       "      <td>2.618500</td>\n",
       "      <td>2.725</td>\n",
       "      <td>5.237</td>\n",
       "      <td>2017</td>\n",
       "      <td>2017.0</td>\n",
       "      <td>2017</td>\n",
       "      <td>4034</td>\n",
       "    </tr>\n",
       "    <tr>\n",
       "      <th>Vietnam</th>\n",
       "      <td>2.087</td>\n",
       "      <td>2.537000</td>\n",
       "      <td>3.293</td>\n",
       "      <td>10.148</td>\n",
       "      <td>0.2754</td>\n",
       "      <td>0.320325</td>\n",
       "      <td>0.3964</td>\n",
       "      <td>1.2813</td>\n",
       "      <td>1.290</td>\n",
       "      <td>30.440250</td>\n",
       "      <td>44.207</td>\n",
       "      <td>121.761</td>\n",
       "      <td>2.580</td>\n",
       "      <td>5.128750</td>\n",
       "      <td>9.134</td>\n",
       "      <td>20.515</td>\n",
       "      <td>2017</td>\n",
       "      <td>2017.0</td>\n",
       "      <td>2017</td>\n",
       "      <td>8068</td>\n",
       "    </tr>\n",
       "  </tbody>\n",
       "</table>\n",
       "<p>61 rows × 20 columns</p>\n",
       "</div>"
      ],
      "text/plain": [
       "                      Sales                                 Profit            \\\n",
       "                       amin       mean     amax        sum    amin      mean   \n",
       "Country                                                                        \n",
       "Argentina             0.360   6.098667   14.219     18.296 -1.9110 -0.461333   \n",
       "Australia             0.549  11.082897   50.033    432.233 -1.4979  1.237331   \n",
       "Austria               3.093  10.303750   21.306     82.430 -0.4458  0.387875   \n",
       "Bahrain               1.608   1.646500    1.685      3.293  0.1830  0.363050   \n",
       "Belgium               0.393  12.933222   45.558    116.399  0.0300  0.756222   \n",
       "...                     ...        ...      ...        ...     ...       ...   \n",
       "United Arab Emirates  1.352   3.917571   14.255     54.846 -5.1821  0.592321   \n",
       "United Kingdom        0.644  21.029667  183.834   1892.670 -9.2638  0.719003   \n",
       "United States         0.031  20.396835  485.252  11503.815 -6.1770  1.640453   \n",
       "Venezuela             0.370   3.660500    6.951      7.321  2.0042  2.273150   \n",
       "Vietnam               2.087   2.537000    3.293     10.148  0.2754  0.320325   \n",
       "\n",
       "                                         Assets                        \\\n",
       "                         amax       sum    amin        mean      amax   \n",
       "Country                                                                 \n",
       "Argentina              0.4073   -1.3840   0.811   14.243667    26.612   \n",
       "Australia              7.0652   48.2559   3.840   92.461923   703.622   \n",
       "Austria                1.3804    3.1030  11.518   62.299500   220.843   \n",
       "Bahrain                0.5431    0.7261  30.141   30.731500    31.322   \n",
       "Belgium                2.6847    6.8060   4.442  104.175556   290.267   \n",
       "...                       ...       ...     ...         ...       ...   \n",
       "United Arab Emirates   2.2927    8.2925   5.013   41.407214   121.976   \n",
       "United Kingdom         6.2715   64.7103   2.771  132.768400  2374.986   \n",
       "United States         45.2170  925.2156   0.292   71.467413  3287.968   \n",
       "Venezuela              2.5421    4.5463   2.575   75.617000   148.659   \n",
       "Vietnam                0.3964    1.2813   1.290   30.440250    44.207   \n",
       "\n",
       "                                MarketValue                                 \\\n",
       "                            sum        amin       mean     amax        sum   \n",
       "Country                                                                      \n",
       "Argentina                42.731       5.134  11.769000   20.230     35.307   \n",
       "Australia              3606.015       3.491  23.192051  109.902    904.490   \n",
       "Austria                 498.396       2.374   7.114875   13.617     56.919   \n",
       "Bahrain                  61.463       1.088   3.513500    5.939      7.027   \n",
       "Belgium                 937.580       0.373  33.344444  213.102    300.100   \n",
       "...                         ...         ...        ...      ...        ...   \n",
       "United Arab Emirates    579.701       0.941  10.726071   42.739    150.165   \n",
       "United Kingdom        11949.156       1.601  23.422467  162.638   2108.022   \n",
       "United States         40307.621       0.681  38.202078  752.039  21545.972   \n",
       "Venezuela               151.234       2.512   2.618500    2.725      5.237   \n",
       "Vietnam                 121.761       2.580   5.128750    9.134     20.515   \n",
       "\n",
       "                      Year                         \n",
       "                      amin    mean  amax      sum  \n",
       "Country                                            \n",
       "Argentina             2017  2017.0  2017     6051  \n",
       "Australia             2017  2017.0  2017    78663  \n",
       "Austria               2017  2017.0  2017    16136  \n",
       "Bahrain               2017  2017.0  2017     4034  \n",
       "Belgium               2017  2017.0  2017    18153  \n",
       "...                    ...     ...   ...      ...  \n",
       "United Arab Emirates  2017  2017.0  2017    28238  \n",
       "United Kingdom        2017  2017.0  2017   181530  \n",
       "United States         2017  2017.0  2017  1137588  \n",
       "Venezuela             2017  2017.0  2017     4034  \n",
       "Vietnam               2017  2017.0  2017     8068  \n",
       "\n",
       "[61 rows x 20 columns]"
      ]
     },
     "execution_count": 25,
     "metadata": {},
     "output_type": "execute_result"
    }
   ],
   "source": [
    "df_17_drop_gpd = df_17_drop.groupby('Country').agg([np.min, np.mean, np.max, np.sum])\n",
    "df_17_drop_gpd"
   ]
  },
  {
   "cell_type": "markdown",
   "metadata": {},
   "source": [
    "# Data Visualization"
   ]
  },
  {
   "cell_type": "code",
   "execution_count": 26,
   "metadata": {},
   "outputs": [],
   "source": [
    "# helper function for formatting plot y-axis\n",
    "from matplotlib.ticker import FuncFormatter\n",
    "\n",
    "def trillion(x, pos):\n",
    "    'The two args are the value and tick position'\n",
    "    return '%1.1fTn ' % (x * 1e-3)\n",
    "\n",
    "format_trill = FuncFormatter(trillion)\n",
    "\n",
    "def plot_bar(y, width, color=None, xlabel=None, ylabel=None, title=None):\n",
    "    # Initialize the matplotlib figure\n",
    "    fig, ax = plt.subplots()\n",
    "\n",
    "    # plot bar chart\n",
    "    ax.barh(y=y, width=width, color=color)\n",
    "\n",
    "    # Add informative axis label\n",
    "    ax.set(xlabel=xlabel, ylabel=ylabel, title=title)\n",
    "\n",
    "    # labels read top-to-bottom\n",
    "    ax.invert_yaxis()  \n",
    "\n",
    "    # set axis formatter\n",
    "    ax.xaxis.set_major_formatter(format_trill)\n",
    "    return plot_bar"
   ]
  },
  {
   "cell_type": "code",
   "execution_count": 27,
   "metadata": {},
   "outputs": [],
   "source": [
    "def plot_bar1(y, width, color=None, xlabel=None, ylabel=None, title=None):\n",
    "    # Initialize the matplotlib figure\n",
    "    fig1, ax1 = plt.subplots()\n",
    "\n",
    "    # plot bar chart\n",
    "    ax1.barh(y=y, width=width, color=color)\n",
    "\n",
    "    # Add informative axis label\n",
    "    ax1.set(xlabel=xlabel, ylabel=ylabel, title=title)\n",
    "\n",
    "    # labels read top-to-bottom\n",
    "    ax1.invert_yaxis()  \n",
    "\n",
    "    return plot_bar1"
   ]
  },
  {
   "cell_type": "code",
   "execution_count": 28,
   "metadata": {},
   "outputs": [],
   "source": [
    "# extract top ten countries either in Sales, Profit, Assets or Market Value\n",
    "def extract_top10(df, col1: str, col2: str):\n",
    "    return df[col1][col2].sort_values(ascending=False).head(10)\n",
    "\n",
    "# extract bottom ten countries either in Sales, Profit, Assets or Market Value\n",
    "def extract_bot10(df, col1: str, col2: str):\n",
    "    return df[col1][col2].sort_values(ascending=True).head(10)"
   ]
  },
  {
   "cell_type": "markdown",
   "metadata": {},
   "source": [
    "Explore by Country in terms of total Sales"
   ]
  },
  {
   "cell_type": "code",
   "execution_count": 29,
   "metadata": {},
   "outputs": [
    {
     "name": "stdout",
     "output_type": "stream",
     "text": [
      "Country\n",
      "United States     11503.815\n",
      "Japan              4195.509\n",
      "China              3904.757\n",
      "United Kingdom     1892.670\n",
      "Germany            1843.269\n",
      "France             1614.835\n",
      "South Korea        1243.110\n",
      "Switzerland         871.529\n",
      "Hong Kong           763.402\n",
      "Canada              724.086\n",
      "Name: sum, dtype: float64\n",
      "****************************\n",
      "Country\n",
      "Oman           1.393\n",
      "Pakistan       1.613\n",
      "Puerto Rico    1.933\n",
      "Egypt          2.234\n",
      "Jordan         2.373\n",
      "Bahrain        3.293\n",
      "Mongolia       3.812\n",
      "Nigeria        4.432\n",
      "Peru           6.313\n",
      "Lebanon        6.317\n",
      "Name: sum, dtype: float64\n"
     ]
    }
   ],
   "source": [
    "print(extract_top10(df_17_drop_gpd, 'Sales', 'sum'))    \n",
    "print('*' * 28)\n",
    "print(extract_bot10(df_17_drop_gpd, 'Sales', 'sum'))"
   ]
  },
  {
   "cell_type": "code",
   "execution_count": 30,
   "metadata": {},
   "outputs": [
    {
     "data": {
      "text/plain": [
       "<function __main__.plot_bar(y, width, color=None, xlabel=None, ylabel=None, title=None)>"
      ]
     },
     "execution_count": 30,
     "metadata": {},
     "output_type": "execute_result"
    },
    {
     "data": {
      "image/png": "[encoded data removed]",
      "text/plain": [
       "<Figure size 864x648 with 1 Axes>"
      ]
     },
     "metadata": {},
     "output_type": "display_data"
    }
   ],
   "source": [
    "top10_sales = extract_top10(df=df_17_drop_gpd, col1='Sales', col2='sum')\n",
    "y, width = top10_sales.keys(), top10_sales.values\n",
    "\n",
    "plot_bar(y=y, width=width, color='blue', xlabel='Sales ($Tn)', ylabel='Country', title='Total Sales by Country (2017)')"
   ]
  },
  {
   "cell_type": "code",
   "execution_count": 31,
   "metadata": {},
   "outputs": [
    {
     "data": {
      "text/plain": [
       "<function __main__.plot_bar1(y, width, color=None, xlabel=None, ylabel=None, title=None)>"
      ]
     },
     "execution_count": 31,
     "metadata": {},
     "output_type": "execute_result"
    },
    {
     "data": {
      "image/png": "[encoded data removed]",
      "text/plain": [
       "<Figure size 864x648 with 1 Axes>"
      ]
     },
     "metadata": {},
     "output_type": "display_data"
    }
   ],
   "source": [
    "bott10_sales = extract_bot10(df=df_17_drop_gpd, col1='Sales', col2='sum')\n",
    "y, width = bott10_sales.keys(), sorted(bott10_sales.values, reverse=True)\n",
    "\n",
    "plot_bar1(y=y, width=width, color='blue', xlabel='Sales ($Bn)', ylabel='Country', title='Total Sales by Country (2017)')"
   ]
  },
  {
   "cell_type": "markdown",
   "metadata": {},
   "source": [
    "Explore by Country in terms of total Profit"
   ]
  },
  {
   "cell_type": "code",
   "execution_count": 32,
   "metadata": {},
   "outputs": [
    {
     "name": "stdout",
     "output_type": "stream",
     "text": [
      "Country\n",
      "United States     925.2156\n",
      "China             368.2946\n",
      "Japan             197.2893\n",
      "France             85.5464\n",
      "Hong Kong          80.6815\n",
      "South Korea        66.3613\n",
      "Germany            66.1572\n",
      "United Kingdom     64.7103\n",
      "Russia             61.2134\n",
      "Switzerland        60.2310\n",
      "Name: sum, dtype: float64\n",
      "****************************\n",
      "Country\n",
      "Argentina        -1.3840\n",
      "Mongolia         -0.2672\n",
      "Italy            -0.0878\n",
      "Hungary          -0.0219\n",
      "Puerto Rico       0.2167\n",
      "Pakistan          0.3254\n",
      "Oman              0.4586\n",
      "Jordan            0.5222\n",
      "Czech Republic    0.5844\n",
      "Egypt             0.5968\n",
      "Name: sum, dtype: float64\n"
     ]
    }
   ],
   "source": [
    "print(extract_top10(df_17_drop_gpd, 'Profit', 'sum'))    \n",
    "print('*' * 28)\n",
    "print(extract_bot10(df_17_drop_gpd, 'Profit', 'sum'))"
   ]
  },
  {
   "cell_type": "code",
   "execution_count": 33,
   "metadata": {},
   "outputs": [
    {
     "data": {
      "text/plain": [
       "<function __main__.plot_bar(y, width, color=None, xlabel=None, ylabel=None, title=None)>"
      ]
     },
     "execution_count": 33,
     "metadata": {},
     "output_type": "execute_result"
    },
    {
     "data": {
      "image/png": "[encoded data removed]",
      "text/plain": [
       "<Figure size 864x648 with 1 Axes>"
      ]
     },
     "metadata": {},
     "output_type": "display_data"
    }
   ],
   "source": [
    "top10_profit = extract_top10(df=df_17_drop_gpd, col1='Profit', col2='sum')\n",
    "y, width = top10_profit.keys(), top10_profit.values\n",
    "\n",
    "plot_bar(y=y, width=width, color='blue', xlabel='Profit ($Tn)', ylabel='Country', title='Total Profit by Country (2017)')"
   ]
  },
  {
   "cell_type": "code",
   "execution_count": 34,
   "metadata": {},
   "outputs": [
    {
     "data": {
      "text/plain": [
       "<function __main__.plot_bar1(y, width, color=None, xlabel=None, ylabel=None, title=None)>"
      ]
     },
     "execution_count": 34,
     "metadata": {},
     "output_type": "execute_result"
    },
    {
     "data": {
      "image/png": "[encoded data removed]",
      "text/plain": [
       "<Figure size 864x648 with 1 Axes>"
      ]
     },
     "metadata": {},
     "output_type": "display_data"
    }
   ],
   "source": [
    "bott10_profit = extract_bot10(df=df_17_drop_gpd, col1='Profit', col2='sum')\n",
    "y, width = bott10_profit.keys(), sorted(bott10_profit.values, reverse=True)\n",
    "\n",
    "plot_bar1(y=y, width=width, color='blue', xlabel='Profit ($Bn)', ylabel='Country', title='Total Profit by Country (2017)')"
   ]
  },
  {
   "cell_type": "markdown",
   "metadata": {},
   "source": [
    "Explore by Country in terms of total Assets"
   ]
  },
  {
   "cell_type": "code",
   "execution_count": 35,
   "metadata": {},
   "outputs": [
    {
     "name": "stdout",
     "output_type": "stream",
     "text": [
      "Country\n",
      "United States     40307.621\n",
      "China             28624.613\n",
      "Japan             19306.301\n",
      "United Kingdom    11949.156\n",
      "France             9874.850\n",
      "Germany            6324.612\n",
      "Canada             5839.240\n",
      "Switzerland        3904.148\n",
      "Spain              3862.175\n",
      "Italy              3781.279\n",
      "Name: sum, dtype: float64\n",
      "****************************\n",
      "Country\n",
      "Egypt             14.757\n",
      "Nigeria           19.899\n",
      "Mongolia          21.142\n",
      "Pakistan          24.069\n",
      "Czech Republic    24.625\n",
      "Oman              28.104\n",
      "Puerto Rico       38.662\n",
      "Argentina         42.731\n",
      "Jordan            47.460\n",
      "Hungary           53.284\n",
      "Name: sum, dtype: float64\n"
     ]
    }
   ],
   "source": [
    "print(extract_top10(df_17_drop_gpd, 'Assets', 'sum'))    \n",
    "print('*' * 28)\n",
    "print(extract_bot10(df_17_drop_gpd, 'Assets', 'sum'))"
   ]
  },
  {
   "cell_type": "code",
   "execution_count": 36,
   "metadata": {},
   "outputs": [
    {
     "data": {
      "text/plain": [
       "<function __main__.plot_bar(y, width, color=None, xlabel=None, ylabel=None, title=None)>"
      ]
     },
     "execution_count": 36,
     "metadata": {},
     "output_type": "execute_result"
    },
    {
     "data": {
      "image/png": "[encoded data removed]",
      "text/plain": [
       "<Figure size 864x648 with 1 Axes>"
      ]
     },
     "metadata": {},
     "output_type": "display_data"
    }
   ],
   "source": [
    "top10_assets = extract_top10(df=df_17_drop_gpd, col1='Assets', col2='sum')\n",
    "y, width = top10_assets.keys(), top10_assets.values\n",
    "\n",
    "plot_bar(y=y, width=width, color='blue', xlabel='Assets ($Tn)', ylabel='Country', title='Total Assets by Country (2017)')"
   ]
  },
  {
   "cell_type": "code",
   "execution_count": 37,
   "metadata": {},
   "outputs": [
    {
     "data": {
      "text/plain": [
       "<function __main__.plot_bar1(y, width, color=None, xlabel=None, ylabel=None, title=None)>"
      ]
     },
     "execution_count": 37,
     "metadata": {},
     "output_type": "execute_result"
    },
    {
     "data": {
      "image/png": "[encoded data removed]",
      "text/plain": [
       "<Figure size 864x648 with 1 Axes>"
      ]
     },
     "metadata": {},
     "output_type": "display_data"
    }
   ],
   "source": [
    "bott10_assets = extract_bot10(df=df_17_drop_gpd, col1='Assets', col2='sum')\n",
    "y, width = bott10_assets.keys(), sorted(bott10_assets.values, reverse=True)\n",
    "\n",
    "plot_bar1(y=y, width=width, color='blue', xlabel='Assets ($Bn)', ylabel='Country', title='Total Assets by Country (2017)')"
   ]
  },
  {
   "cell_type": "markdown",
   "metadata": {},
   "source": [
    "Explore by Country in terms of total Market Value"
   ]
  },
  {
   "cell_type": "code",
   "execution_count": 38,
   "metadata": {},
   "outputs": [
    {
     "name": "stdout",
     "output_type": "stream",
     "text": [
      "Country\n",
      "United States     21545.972\n",
      "China              4649.178\n",
      "Japan              3243.379\n",
      "United Kingdom     2108.022\n",
      "France             1610.053\n",
      "Switzerland        1485.401\n",
      "Germany            1462.979\n",
      "Canada             1209.130\n",
      "Hong Kong          1119.143\n",
      "India               928.608\n",
      "Name: sum, dtype: float64\n",
      "****************************\n",
      "Country\n",
      "Oman               2.818\n",
      "Pakistan           3.740\n",
      "Puerto Rico        4.161\n",
      "Egypt              4.999\n",
      "Venezuela          5.237\n",
      "Lebanon            5.338\n",
      "Jordan             5.657\n",
      "Bahrain            7.027\n",
      "Czech Republic     9.190\n",
      "Nigeria           10.623\n",
      "Name: sum, dtype: float64\n"
     ]
    }
   ],
   "source": [
    "print(extract_top10(df_17_drop_gpd, 'MarketValue', 'sum'))    \n",
    "print('*' * 28)\n",
    "print(extract_bot10(df_17_drop_gpd, 'MarketValue', 'sum'))"
   ]
  },
  {
   "cell_type": "code",
   "execution_count": 39,
   "metadata": {},
   "outputs": [
    {
     "data": {
      "text/plain": [
       "<function __main__.plot_bar(y, width, color=None, xlabel=None, ylabel=None, title=None)>"
      ]
     },
     "execution_count": 39,
     "metadata": {},
     "output_type": "execute_result"
    },
    {
     "data": {
      "image/png": "[encoded data removed]",
      "text/plain": [
       "<Figure size 864x648 with 1 Axes>"
      ]
     },
     "metadata": {},
     "output_type": "display_data"
    }
   ],
   "source": [
    "top10_mktval = extract_top10(df=df_17_drop_gpd, col1='MarketValue', col2='sum')\n",
    "y, width = top10_mktval.keys(), top10_mktval.values\n",
    "\n",
    "plot_bar(y=y, width=width, color='blue', xlabel='Market Value ($Tn)', ylabel='Country', title='Total Market Value by Country (2017)')"
   ]
  },
  {
   "cell_type": "code",
   "execution_count": 40,
   "metadata": {},
   "outputs": [
    {
     "data": {
      "text/plain": [
       "<function __main__.plot_bar1(y, width, color=None, xlabel=None, ylabel=None, title=None)>"
      ]
     },
     "execution_count": 40,
     "metadata": {},
     "output_type": "execute_result"
    },
    {
     "data": {
      "image/png": "[encoded data removed]",
      "text/plain": [
       "<Figure size 864x648 with 1 Axes>"
      ]
     },
     "metadata": {},
     "output_type": "display_data"
    }
   ],
   "source": [
    "bott10_mktval = extract_bot10(df=df_17_drop_gpd, col1='Assets', col2='sum')\n",
    "y, width = bott10_mktval.keys(), sorted(bott10_mktval.values, reverse=True)\n",
    "\n",
    "plot_bar1(y=y, width=width, color='blue', xlabel='Market Value ($Bn)', ylabel='Country', title='Total Market Value by Country (2017)')"
   ]
  }
 ],
 "metadata": {
  "interpreter": {
   "hash": "3fe9daace87ea8cb12e037f7452ad9bcd52f59aa894a611255d1461de3a9065e"
  },
  "kernelspec": {
   "display_name": "Python 3.9.7 ('DS')",
   "language": "python",
   "name": "python3"
  },
  "language_info": {
   "codemirror_mode": {
    "name": "ipython",
    "version": 3
   },
   "file_extension": ".py",
   "mimetype": "text/x-python",
   "name": "python",
   "nbconvert_exporter": "python",
   "pygments_lexer": "ipython3",
   "version": "3.9.7"
  },
  "orig_nbformat": 4
 },
 "nbformat": 4,
 "nbformat_minor": 2
}
