{
 "cells": [
  {
   "cell_type": "markdown",
   "metadata": {},
   "source": [
    "# Trade of goods , US$, HS 1992, 01 Live animals"
   ]
  },
  {
   "cell_type": "markdown",
   "metadata": {},
   "source": [
    "# Import Libraries"
   ]
  },
  {
   "cell_type": "code",
   "execution_count": 1,
   "metadata": {},
   "outputs": [],
   "source": [
    "import numpy as np\n",
    "import pandas as pd\n",
    "import matplotlib.pyplot as plt\n",
    "import seaborn as sns\n",
    "import os\n",
    "import warnings"
   ]
  },
  {
   "cell_type": "markdown",
   "metadata": {},
   "source": [
    "# Options and Settings"
   ]
  },
  {
   "cell_type": "code",
   "execution_count": 2,
   "metadata": {},
   "outputs": [],
   "source": [
    "%matplotlib inline\n",
    "plt.style.use('ggplot')\n",
    "plt.rcParams['figure.autolayout'] = True\n",
    "plt.rcParams['font.size'] = 12\n",
    "path = os.getcwd()                                         # get current working directory\n",
    "warnings.simplefilter('ignore')"
   ]
  },
  {
   "cell_type": "markdown",
   "metadata": {},
   "source": [
    "# Import Data"
   ]
  },
  {
   "cell_type": "code",
   "execution_count": 3,
   "metadata": {},
   "outputs": [],
   "source": [
    "filepath = os.path.join('datasets', 'Trade of goods , US$, HS 1992, 01 Live animals.csv')\n",
    "\n",
    "df = pd.read_csv(filepath)"
   ]
  },
  {
   "cell_type": "markdown",
   "metadata": {},
   "source": [
    "# Head and Tail"
   ]
  },
  {
   "cell_type": "code",
   "execution_count": 4,
   "metadata": {},
   "outputs": [
    {
     "data": {
      "text/html": [
       "<div>\n",
       "<style scoped>\n",
       "    .dataframe tbody tr th:only-of-type {\n",
       "        vertical-align: middle;\n",
       "    }\n",
       "\n",
       "    .dataframe tbody tr th {\n",
       "        vertical-align: top;\n",
       "    }\n",
       "\n",
       "    .dataframe thead th {\n",
       "        text-align: right;\n",
       "    }\n",
       "</style>\n",
       "<table border=\"1\" class=\"dataframe\">\n",
       "  <thead>\n",
       "    <tr style=\"text-align: right;\">\n",
       "      <th></th>\n",
       "      <th>Country or Area</th>\n",
       "      <th>Year</th>\n",
       "      <th>Commodity</th>\n",
       "      <th>Flow</th>\n",
       "      <th>Trade (USD)</th>\n",
       "      <th>Weight (kg)</th>\n",
       "      <th>Quantity Name</th>\n",
       "      <th>Quantity</th>\n",
       "    </tr>\n",
       "  </thead>\n",
       "  <tbody>\n",
       "    <tr>\n",
       "      <th>0</th>\n",
       "      <td>Afghanistan</td>\n",
       "      <td>2018</td>\n",
       "      <td>Horses, live pure-bred breeding</td>\n",
       "      <td>Import</td>\n",
       "      <td>15561458.59</td>\n",
       "      <td>NaN</td>\n",
       "      <td>Number of items</td>\n",
       "      <td>28859.00</td>\n",
       "    </tr>\n",
       "    <tr>\n",
       "      <th>1</th>\n",
       "      <td>Afghanistan</td>\n",
       "      <td>2018</td>\n",
       "      <td>Sheep, live</td>\n",
       "      <td>Export</td>\n",
       "      <td>3064.44</td>\n",
       "      <td>1.125916e+03</td>\n",
       "      <td>Number of items</td>\n",
       "      <td>14.98</td>\n",
       "    </tr>\n",
       "    <tr>\n",
       "      <th>2</th>\n",
       "      <td>Afghanistan</td>\n",
       "      <td>2018</td>\n",
       "      <td>Fowls, live domestic &gt; 185 grams</td>\n",
       "      <td>Import</td>\n",
       "      <td>16338543.11</td>\n",
       "      <td>2.190237e+07</td>\n",
       "      <td>Number of items</td>\n",
       "      <td>12297334.30</td>\n",
       "    </tr>\n",
       "    <tr>\n",
       "      <th>3</th>\n",
       "      <td>Afghanistan</td>\n",
       "      <td>2018</td>\n",
       "      <td>Animals, live, except farm animals</td>\n",
       "      <td>Import</td>\n",
       "      <td>13186.60</td>\n",
       "      <td>NaN</td>\n",
       "      <td>No Quantity</td>\n",
       "      <td>0.00</td>\n",
       "    </tr>\n",
       "    <tr>\n",
       "      <th>4</th>\n",
       "      <td>Afghanistan</td>\n",
       "      <td>2016</td>\n",
       "      <td>Sheep, live</td>\n",
       "      <td>Export</td>\n",
       "      <td>6088.00</td>\n",
       "      <td>2.339000e+03</td>\n",
       "      <td>Number of items</td>\n",
       "      <td>51.00</td>\n",
       "    </tr>\n",
       "    <tr>\n",
       "      <th>...</th>\n",
       "      <td>...</td>\n",
       "      <td>...</td>\n",
       "      <td>...</td>\n",
       "      <td>...</td>\n",
       "      <td>...</td>\n",
       "      <td>...</td>\n",
       "      <td>...</td>\n",
       "      <td>...</td>\n",
       "    </tr>\n",
       "    <tr>\n",
       "      <th>62306</th>\n",
       "      <td>Zimbabwe</td>\n",
       "      <td>1995</td>\n",
       "      <td>Fowls, live domestic &gt; 185 grams</td>\n",
       "      <td>Export</td>\n",
       "      <td>444.00</td>\n",
       "      <td>0.000000e+00</td>\n",
       "      <td>Number of items</td>\n",
       "      <td>1920.00</td>\n",
       "    </tr>\n",
       "    <tr>\n",
       "      <th>62307</th>\n",
       "      <td>Zimbabwe</td>\n",
       "      <td>1995</td>\n",
       "      <td>Poultry, live except domestic fowls, &gt; 185 grams</td>\n",
       "      <td>Import</td>\n",
       "      <td>25541.00</td>\n",
       "      <td>0.000000e+00</td>\n",
       "      <td>Number of items</td>\n",
       "      <td>1690.00</td>\n",
       "    </tr>\n",
       "    <tr>\n",
       "      <th>62308</th>\n",
       "      <td>Zimbabwe</td>\n",
       "      <td>1995</td>\n",
       "      <td>Poultry, live except domestic fowls, &gt; 185 grams</td>\n",
       "      <td>Export</td>\n",
       "      <td>3482722.00</td>\n",
       "      <td>0.000000e+00</td>\n",
       "      <td>Number of items</td>\n",
       "      <td>1005516.00</td>\n",
       "    </tr>\n",
       "    <tr>\n",
       "      <th>62309</th>\n",
       "      <td>Zimbabwe</td>\n",
       "      <td>1995</td>\n",
       "      <td>Animals, live, except farm animals</td>\n",
       "      <td>Import</td>\n",
       "      <td>111642.00</td>\n",
       "      <td>0.000000e+00</td>\n",
       "      <td>Number of items</td>\n",
       "      <td>2381.00</td>\n",
       "    </tr>\n",
       "    <tr>\n",
       "      <th>62310</th>\n",
       "      <td>Zimbabwe</td>\n",
       "      <td>1995</td>\n",
       "      <td>Animals, live, except farm animals</td>\n",
       "      <td>Export</td>\n",
       "      <td>3634957.00</td>\n",
       "      <td>0.000000e+00</td>\n",
       "      <td>Number of items</td>\n",
       "      <td>14826.00</td>\n",
       "    </tr>\n",
       "  </tbody>\n",
       "</table>\n",
       "<p>62311 rows × 8 columns</p>\n",
       "</div>"
      ],
      "text/plain": [
       "      Country or Area  Year                                         Commodity  \\\n",
       "0         Afghanistan  2018                   Horses, live pure-bred breeding   \n",
       "1         Afghanistan  2018                                       Sheep, live   \n",
       "2         Afghanistan  2018                  Fowls, live domestic > 185 grams   \n",
       "3         Afghanistan  2018                Animals, live, except farm animals   \n",
       "4         Afghanistan  2016                                       Sheep, live   \n",
       "...               ...   ...                                               ...   \n",
       "62306        Zimbabwe  1995                  Fowls, live domestic > 185 grams   \n",
       "62307        Zimbabwe  1995  Poultry, live except domestic fowls, > 185 grams   \n",
       "62308        Zimbabwe  1995  Poultry, live except domestic fowls, > 185 grams   \n",
       "62309        Zimbabwe  1995                Animals, live, except farm animals   \n",
       "62310        Zimbabwe  1995                Animals, live, except farm animals   \n",
       "\n",
       "         Flow  Trade (USD)   Weight (kg)    Quantity Name     Quantity  \n",
       "0      Import  15561458.59           NaN  Number of items     28859.00  \n",
       "1      Export      3064.44  1.125916e+03  Number of items        14.98  \n",
       "2      Import  16338543.11  2.190237e+07  Number of items  12297334.30  \n",
       "3      Import     13186.60           NaN      No Quantity         0.00  \n",
       "4      Export      6088.00  2.339000e+03  Number of items        51.00  \n",
       "...       ...          ...           ...              ...          ...  \n",
       "62306  Export       444.00  0.000000e+00  Number of items      1920.00  \n",
       "62307  Import     25541.00  0.000000e+00  Number of items      1690.00  \n",
       "62308  Export   3482722.00  0.000000e+00  Number of items   1005516.00  \n",
       "62309  Import    111642.00  0.000000e+00  Number of items      2381.00  \n",
       "62310  Export   3634957.00  0.000000e+00  Number of items     14826.00  \n",
       "\n",
       "[62311 rows x 8 columns]"
      ]
     },
     "execution_count": 4,
     "metadata": {},
     "output_type": "execute_result"
    }
   ],
   "source": [
    "df"
   ]
  },
  {
   "cell_type": "code",
   "execution_count": 5,
   "metadata": {},
   "outputs": [
    {
     "data": {
      "text/plain": [
       "(62311, 8)"
      ]
     },
     "execution_count": 5,
     "metadata": {},
     "output_type": "execute_result"
    }
   ],
   "source": [
    "df.shape                      "
   ]
  },
  {
   "cell_type": "code",
   "execution_count": 6,
   "metadata": {},
   "outputs": [
    {
     "name": "stdout",
     "output_type": "stream",
     "text": [
      "<class 'pandas.core.frame.DataFrame'>\n",
      "RangeIndex: 62311 entries, 0 to 62310\n",
      "Data columns (total 8 columns):\n",
      " #   Column           Non-Null Count  Dtype  \n",
      "---  ------           --------------  -----  \n",
      " 0   Country or Area  62311 non-null  object \n",
      " 1   Year             62311 non-null  int64  \n",
      " 2   Commodity        62311 non-null  object \n",
      " 3   Flow             62311 non-null  object \n",
      " 4   Trade (USD)      62311 non-null  float64\n",
      " 5   Weight (kg)      58567 non-null  float64\n",
      " 6   Quantity Name    62311 non-null  object \n",
      " 7   Quantity         53164 non-null  float64\n",
      "dtypes: float64(3), int64(1), object(4)\n",
      "memory usage: 3.8+ MB\n"
     ]
    }
   ],
   "source": [
    "df.info()"
   ]
  },
  {
   "cell_type": "code",
   "execution_count": 7,
   "metadata": {},
   "outputs": [
    {
     "data": {
      "text/html": [
       "<div>\n",
       "<style scoped>\n",
       "    .dataframe tbody tr th:only-of-type {\n",
       "        vertical-align: middle;\n",
       "    }\n",
       "\n",
       "    .dataframe tbody tr th {\n",
       "        vertical-align: top;\n",
       "    }\n",
       "\n",
       "    .dataframe thead th {\n",
       "        text-align: right;\n",
       "    }\n",
       "</style>\n",
       "<table border=\"1\" class=\"dataframe\">\n",
       "  <thead>\n",
       "    <tr style=\"text-align: right;\">\n",
       "      <th></th>\n",
       "      <th>Country_or_Area</th>\n",
       "      <th>Year</th>\n",
       "      <th>Commodity</th>\n",
       "      <th>Flow</th>\n",
       "      <th>Trade (USD)</th>\n",
       "      <th>Weight (kg)</th>\n",
       "      <th>Quantity Name</th>\n",
       "      <th>Quantity</th>\n",
       "    </tr>\n",
       "  </thead>\n",
       "  <tbody>\n",
       "    <tr>\n",
       "      <th>0</th>\n",
       "      <td>Afghanistan</td>\n",
       "      <td>2018</td>\n",
       "      <td>Horses, live pure-bred breeding</td>\n",
       "      <td>Import</td>\n",
       "      <td>15561458.59</td>\n",
       "      <td>NaN</td>\n",
       "      <td>Number of items</td>\n",
       "      <td>28859.00</td>\n",
       "    </tr>\n",
       "    <tr>\n",
       "      <th>1</th>\n",
       "      <td>Afghanistan</td>\n",
       "      <td>2018</td>\n",
       "      <td>Sheep, live</td>\n",
       "      <td>Export</td>\n",
       "      <td>3064.44</td>\n",
       "      <td>1.125916e+03</td>\n",
       "      <td>Number of items</td>\n",
       "      <td>14.98</td>\n",
       "    </tr>\n",
       "    <tr>\n",
       "      <th>2</th>\n",
       "      <td>Afghanistan</td>\n",
       "      <td>2018</td>\n",
       "      <td>Fowls, live domestic &gt; 185 grams</td>\n",
       "      <td>Import</td>\n",
       "      <td>16338543.11</td>\n",
       "      <td>2.190237e+07</td>\n",
       "      <td>Number of items</td>\n",
       "      <td>12297334.30</td>\n",
       "    </tr>\n",
       "    <tr>\n",
       "      <th>3</th>\n",
       "      <td>Afghanistan</td>\n",
       "      <td>2018</td>\n",
       "      <td>Animals, live, except farm animals</td>\n",
       "      <td>Import</td>\n",
       "      <td>13186.60</td>\n",
       "      <td>NaN</td>\n",
       "      <td>No Quantity</td>\n",
       "      <td>0.00</td>\n",
       "    </tr>\n",
       "    <tr>\n",
       "      <th>4</th>\n",
       "      <td>Afghanistan</td>\n",
       "      <td>2016</td>\n",
       "      <td>Sheep, live</td>\n",
       "      <td>Export</td>\n",
       "      <td>6088.00</td>\n",
       "      <td>2.339000e+03</td>\n",
       "      <td>Number of items</td>\n",
       "      <td>51.00</td>\n",
       "    </tr>\n",
       "  </tbody>\n",
       "</table>\n",
       "</div>"
      ],
      "text/plain": [
       "  Country_or_Area  Year                           Commodity    Flow  \\\n",
       "0     Afghanistan  2018     Horses, live pure-bred breeding  Import   \n",
       "1     Afghanistan  2018                         Sheep, live  Export   \n",
       "2     Afghanistan  2018    Fowls, live domestic > 185 grams  Import   \n",
       "3     Afghanistan  2018  Animals, live, except farm animals  Import   \n",
       "4     Afghanistan  2016                         Sheep, live  Export   \n",
       "\n",
       "   Trade (USD)   Weight (kg)    Quantity Name     Quantity  \n",
       "0  15561458.59           NaN  Number of items     28859.00  \n",
       "1      3064.44  1.125916e+03  Number of items        14.98  \n",
       "2  16338543.11  2.190237e+07  Number of items  12297334.30  \n",
       "3     13186.60           NaN      No Quantity         0.00  \n",
       "4      6088.00  2.339000e+03  Number of items        51.00  "
      ]
     },
     "execution_count": 7,
     "metadata": {},
     "output_type": "execute_result"
    }
   ],
   "source": [
    "df.rename(columns={'Country or Area': 'Country_or_Area'}, inplace=True)\n",
    "\n",
    "df.head()"
   ]
  },
  {
   "cell_type": "code",
   "execution_count": 8,
   "metadata": {},
   "outputs": [
    {
     "data": {
      "text/html": [
       "<div>\n",
       "<style scoped>\n",
       "    .dataframe tbody tr th:only-of-type {\n",
       "        vertical-align: middle;\n",
       "    }\n",
       "\n",
       "    .dataframe tbody tr th {\n",
       "        vertical-align: top;\n",
       "    }\n",
       "\n",
       "    .dataframe thead th {\n",
       "        text-align: right;\n",
       "    }\n",
       "</style>\n",
       "<table border=\"1\" class=\"dataframe\">\n",
       "  <thead>\n",
       "    <tr style=\"text-align: right;\">\n",
       "      <th></th>\n",
       "      <th>Country_or_Area</th>\n",
       "      <th>Year</th>\n",
       "      <th>Commodity</th>\n",
       "      <th>Flow</th>\n",
       "      <th>Trade (USD)</th>\n",
       "      <th>Weight (kg)</th>\n",
       "      <th>Quantity</th>\n",
       "    </tr>\n",
       "  </thead>\n",
       "  <tbody>\n",
       "    <tr>\n",
       "      <th>0</th>\n",
       "      <td>Afghanistan</td>\n",
       "      <td>2018</td>\n",
       "      <td>Horses, live pure-bred breeding</td>\n",
       "      <td>Import</td>\n",
       "      <td>15561458.59</td>\n",
       "      <td>NaN</td>\n",
       "      <td>28859.00</td>\n",
       "    </tr>\n",
       "    <tr>\n",
       "      <th>1</th>\n",
       "      <td>Afghanistan</td>\n",
       "      <td>2018</td>\n",
       "      <td>Sheep, live</td>\n",
       "      <td>Export</td>\n",
       "      <td>3064.44</td>\n",
       "      <td>1.125916e+03</td>\n",
       "      <td>14.98</td>\n",
       "    </tr>\n",
       "    <tr>\n",
       "      <th>2</th>\n",
       "      <td>Afghanistan</td>\n",
       "      <td>2018</td>\n",
       "      <td>Fowls, live domestic &gt; 185 grams</td>\n",
       "      <td>Import</td>\n",
       "      <td>16338543.11</td>\n",
       "      <td>2.190237e+07</td>\n",
       "      <td>12297334.30</td>\n",
       "    </tr>\n",
       "    <tr>\n",
       "      <th>3</th>\n",
       "      <td>Afghanistan</td>\n",
       "      <td>2018</td>\n",
       "      <td>Animals, live, except farm animals</td>\n",
       "      <td>Import</td>\n",
       "      <td>13186.60</td>\n",
       "      <td>NaN</td>\n",
       "      <td>0.00</td>\n",
       "    </tr>\n",
       "    <tr>\n",
       "      <th>4</th>\n",
       "      <td>Afghanistan</td>\n",
       "      <td>2016</td>\n",
       "      <td>Sheep, live</td>\n",
       "      <td>Export</td>\n",
       "      <td>6088.00</td>\n",
       "      <td>2.339000e+03</td>\n",
       "      <td>51.00</td>\n",
       "    </tr>\n",
       "  </tbody>\n",
       "</table>\n",
       "</div>"
      ],
      "text/plain": [
       "  Country_or_Area  Year                           Commodity    Flow  \\\n",
       "0     Afghanistan  2018     Horses, live pure-bred breeding  Import   \n",
       "1     Afghanistan  2018                         Sheep, live  Export   \n",
       "2     Afghanistan  2018    Fowls, live domestic > 185 grams  Import   \n",
       "3     Afghanistan  2018  Animals, live, except farm animals  Import   \n",
       "4     Afghanistan  2016                         Sheep, live  Export   \n",
       "\n",
       "   Trade (USD)   Weight (kg)     Quantity  \n",
       "0  15561458.59           NaN     28859.00  \n",
       "1      3064.44  1.125916e+03        14.98  \n",
       "2  16338543.11  2.190237e+07  12297334.30  \n",
       "3     13186.60           NaN         0.00  \n",
       "4      6088.00  2.339000e+03        51.00  "
      ]
     },
     "execution_count": 8,
     "metadata": {},
     "output_type": "execute_result"
    }
   ],
   "source": [
    "df1 = df[['Country_or_Area', 'Year', 'Commodity', 'Flow', 'Trade (USD)',\n",
    "       'Weight (kg)', 'Quantity']]\n",
    "\n",
    "df1.head()"
   ]
  },
  {
   "cell_type": "code",
   "execution_count": 9,
   "metadata": {},
   "outputs": [
    {
     "data": {
      "text/html": [
       "<div>\n",
       "<style scoped>\n",
       "    .dataframe tbody tr th:only-of-type {\n",
       "        vertical-align: middle;\n",
       "    }\n",
       "\n",
       "    .dataframe tbody tr th {\n",
       "        vertical-align: top;\n",
       "    }\n",
       "\n",
       "    .dataframe thead th {\n",
       "        text-align: right;\n",
       "    }\n",
       "</style>\n",
       "<table border=\"1\" class=\"dataframe\">\n",
       "  <thead>\n",
       "    <tr style=\"text-align: right;\">\n",
       "      <th></th>\n",
       "      <th>Country_or_Area</th>\n",
       "      <th>Commodity</th>\n",
       "      <th>Flow</th>\n",
       "    </tr>\n",
       "  </thead>\n",
       "  <tbody>\n",
       "    <tr>\n",
       "      <th>count</th>\n",
       "      <td>62311</td>\n",
       "      <td>62311</td>\n",
       "      <td>62311</td>\n",
       "    </tr>\n",
       "    <tr>\n",
       "      <th>unique</th>\n",
       "      <td>207</td>\n",
       "      <td>15</td>\n",
       "      <td>4</td>\n",
       "    </tr>\n",
       "    <tr>\n",
       "      <th>top</th>\n",
       "      <td>Canada</td>\n",
       "      <td>Animals, live, except farm animals</td>\n",
       "      <td>Import</td>\n",
       "    </tr>\n",
       "    <tr>\n",
       "      <th>freq</th>\n",
       "      <td>1046</td>\n",
       "      <td>7662</td>\n",
       "      <td>34773</td>\n",
       "    </tr>\n",
       "  </tbody>\n",
       "</table>\n",
       "</div>"
      ],
      "text/plain": [
       "       Country_or_Area                           Commodity    Flow\n",
       "count            62311                               62311   62311\n",
       "unique             207                                  15       4\n",
       "top             Canada  Animals, live, except farm animals  Import\n",
       "freq              1046                                7662   34773"
      ]
     },
     "execution_count": 9,
     "metadata": {},
     "output_type": "execute_result"
    }
   ],
   "source": [
    "df1.describe(exclude='number')                 "
   ]
  },
  {
   "cell_type": "code",
   "execution_count": 10,
   "metadata": {},
   "outputs": [
    {
     "data": {
      "text/html": [
       "<div>\n",
       "<style scoped>\n",
       "    .dataframe tbody tr th:only-of-type {\n",
       "        vertical-align: middle;\n",
       "    }\n",
       "\n",
       "    .dataframe tbody tr th {\n",
       "        vertical-align: top;\n",
       "    }\n",
       "\n",
       "    .dataframe thead th {\n",
       "        text-align: right;\n",
       "    }\n",
       "</style>\n",
       "<table border=\"1\" class=\"dataframe\">\n",
       "  <thead>\n",
       "    <tr style=\"text-align: right;\">\n",
       "      <th></th>\n",
       "      <th>Trade (USD)</th>\n",
       "      <th>Weight (kg)</th>\n",
       "      <th>Quantity</th>\n",
       "    </tr>\n",
       "  </thead>\n",
       "  <tbody>\n",
       "    <tr>\n",
       "      <th>count</th>\n",
       "      <td>6.231100e+04</td>\n",
       "      <td>5.856700e+04</td>\n",
       "      <td>5.316400e+04</td>\n",
       "    </tr>\n",
       "    <tr>\n",
       "      <th>mean</th>\n",
       "      <td>1.324196e+07</td>\n",
       "      <td>1.183290e+07</td>\n",
       "      <td>2.736069e+08</td>\n",
       "    </tr>\n",
       "    <tr>\n",
       "      <th>std</th>\n",
       "      <td>7.302369e+07</td>\n",
       "      <td>7.428858e+08</td>\n",
       "      <td>1.900431e+10</td>\n",
       "    </tr>\n",
       "    <tr>\n",
       "      <th>min</th>\n",
       "      <td>9.300000e-01</td>\n",
       "      <td>0.000000e+00</td>\n",
       "      <td>0.000000e+00</td>\n",
       "    </tr>\n",
       "    <tr>\n",
       "      <th>25%</th>\n",
       "      <td>1.800000e+04</td>\n",
       "      <td>1.103500e+03</td>\n",
       "      <td>1.000000e+02</td>\n",
       "    </tr>\n",
       "    <tr>\n",
       "      <th>50%</th>\n",
       "      <td>2.317880e+05</td>\n",
       "      <td>2.137622e+04</td>\n",
       "      <td>3.761000e+03</td>\n",
       "    </tr>\n",
       "    <tr>\n",
       "      <th>75%</th>\n",
       "      <td>2.690106e+06</td>\n",
       "      <td>3.303830e+05</td>\n",
       "      <td>1.142995e+05</td>\n",
       "    </tr>\n",
       "    <tr>\n",
       "      <th>max</th>\n",
       "      <td>2.532308e+09</td>\n",
       "      <td>1.201042e+11</td>\n",
       "      <td>2.833182e+12</td>\n",
       "    </tr>\n",
       "  </tbody>\n",
       "</table>\n",
       "</div>"
      ],
      "text/plain": [
       "        Trade (USD)   Weight (kg)      Quantity\n",
       "count  6.231100e+04  5.856700e+04  5.316400e+04\n",
       "mean   1.324196e+07  1.183290e+07  2.736069e+08\n",
       "std    7.302369e+07  7.428858e+08  1.900431e+10\n",
       "min    9.300000e-01  0.000000e+00  0.000000e+00\n",
       "25%    1.800000e+04  1.103500e+03  1.000000e+02\n",
       "50%    2.317880e+05  2.137622e+04  3.761000e+03\n",
       "75%    2.690106e+06  3.303830e+05  1.142995e+05\n",
       "max    2.532308e+09  1.201042e+11  2.833182e+12"
      ]
     },
     "execution_count": 10,
     "metadata": {},
     "output_type": "execute_result"
    }
   ],
   "source": [
    "df1[['Trade (USD)', 'Weight (kg)', 'Quantity']].describe()            # weight and quantity columns contain missing data"
   ]
  },
  {
   "cell_type": "markdown",
   "metadata": {},
   "source": [
    "# Missing Values Exploration"
   ]
  },
  {
   "cell_type": "code",
   "execution_count": 11,
   "metadata": {},
   "outputs": [
    {
     "data": {
      "text/plain": [
       "Country_or_Area    False\n",
       "Year               False\n",
       "Commodity          False\n",
       "Flow               False\n",
       "Trade (USD)        False\n",
       "Weight (kg)         True\n",
       "Quantity            True\n",
       "dtype: bool"
      ]
     },
     "execution_count": 11,
     "metadata": {},
     "output_type": "execute_result"
    }
   ],
   "source": [
    "df1.isna().any()"
   ]
  },
  {
   "cell_type": "code",
   "execution_count": 12,
   "metadata": {},
   "outputs": [
    {
     "data": {
      "text/plain": [
       "Country_or_Area       0\n",
       "Year                  0\n",
       "Commodity             0\n",
       "Flow                  0\n",
       "Trade (USD)           0\n",
       "Weight (kg)        3744\n",
       "Quantity           9147\n",
       "dtype: int64"
      ]
     },
     "execution_count": 12,
     "metadata": {},
     "output_type": "execute_result"
    }
   ],
   "source": [
    "df1.isna().sum()                                                      "
   ]
  },
  {
   "cell_type": "code",
   "execution_count": 13,
   "metadata": {},
   "outputs": [
    {
     "data": {
      "text/plain": [
       "False    58567\n",
       "True      3744\n",
       "Name: Weight (kg), dtype: int64"
      ]
     },
     "execution_count": 13,
     "metadata": {},
     "output_type": "execute_result"
    }
   ],
   "source": [
    "df1['Weight (kg)'].isna().value_counts()                                  "
   ]
  },
  {
   "cell_type": "code",
   "execution_count": 14,
   "metadata": {},
   "outputs": [
    {
     "data": {
      "text/plain": [
       "False    0.939914\n",
       "True     0.060086\n",
       "Name: Weight (kg), dtype: float64"
      ]
     },
     "execution_count": 14,
     "metadata": {},
     "output_type": "execute_result"
    }
   ],
   "source": [
    "df1['Weight (kg)'].isna().value_counts(True)                            "
   ]
  },
  {
   "cell_type": "code",
   "execution_count": 15,
   "metadata": {},
   "outputs": [
    {
     "data": {
      "text/html": [
       "<div>\n",
       "<style scoped>\n",
       "    .dataframe tbody tr th:only-of-type {\n",
       "        vertical-align: middle;\n",
       "    }\n",
       "\n",
       "    .dataframe tbody tr th {\n",
       "        vertical-align: top;\n",
       "    }\n",
       "\n",
       "    .dataframe thead th {\n",
       "        text-align: right;\n",
       "    }\n",
       "</style>\n",
       "<table border=\"1\" class=\"dataframe\">\n",
       "  <thead>\n",
       "    <tr style=\"text-align: right;\">\n",
       "      <th></th>\n",
       "      <th>Country_or_Area</th>\n",
       "      <th>Year</th>\n",
       "      <th>Commodity</th>\n",
       "      <th>Flow</th>\n",
       "      <th>Trade (USD)</th>\n",
       "      <th>Weight (kg)</th>\n",
       "      <th>Quantity</th>\n",
       "    </tr>\n",
       "  </thead>\n",
       "  <tbody>\n",
       "    <tr>\n",
       "      <th>0</th>\n",
       "      <td>Afghanistan</td>\n",
       "      <td>2018</td>\n",
       "      <td>Horses, live pure-bred breeding</td>\n",
       "      <td>Import</td>\n",
       "      <td>15561458.59</td>\n",
       "      <td>NaN</td>\n",
       "      <td>28859.0</td>\n",
       "    </tr>\n",
       "    <tr>\n",
       "      <th>3</th>\n",
       "      <td>Afghanistan</td>\n",
       "      <td>2018</td>\n",
       "      <td>Animals, live, except farm animals</td>\n",
       "      <td>Import</td>\n",
       "      <td>13186.60</td>\n",
       "      <td>NaN</td>\n",
       "      <td>0.0</td>\n",
       "    </tr>\n",
       "    <tr>\n",
       "      <th>126</th>\n",
       "      <td>Albania</td>\n",
       "      <td>2007</td>\n",
       "      <td>Horses, live pure-bred breeding</td>\n",
       "      <td>Import</td>\n",
       "      <td>97402.00</td>\n",
       "      <td>NaN</td>\n",
       "      <td>NaN</td>\n",
       "    </tr>\n",
       "    <tr>\n",
       "      <th>127</th>\n",
       "      <td>Albania</td>\n",
       "      <td>2007</td>\n",
       "      <td>Horses, live except pure-bred breeding</td>\n",
       "      <td>Import</td>\n",
       "      <td>8753.00</td>\n",
       "      <td>NaN</td>\n",
       "      <td>NaN</td>\n",
       "    </tr>\n",
       "    <tr>\n",
       "      <th>131</th>\n",
       "      <td>Albania</td>\n",
       "      <td>2007</td>\n",
       "      <td>Swine, live except pure-bred breeding &lt; 50 kg</td>\n",
       "      <td>Import</td>\n",
       "      <td>103493.00</td>\n",
       "      <td>NaN</td>\n",
       "      <td>NaN</td>\n",
       "    </tr>\n",
       "  </tbody>\n",
       "</table>\n",
       "</div>"
      ],
      "text/plain": [
       "    Country_or_Area  Year                                      Commodity  \\\n",
       "0       Afghanistan  2018                Horses, live pure-bred breeding   \n",
       "3       Afghanistan  2018             Animals, live, except farm animals   \n",
       "126         Albania  2007                Horses, live pure-bred breeding   \n",
       "127         Albania  2007         Horses, live except pure-bred breeding   \n",
       "131         Albania  2007  Swine, live except pure-bred breeding < 50 kg   \n",
       "\n",
       "       Flow  Trade (USD)  Weight (kg)  Quantity  \n",
       "0    Import  15561458.59          NaN   28859.0  \n",
       "3    Import     13186.60          NaN       0.0  \n",
       "126  Import     97402.00          NaN       NaN  \n",
       "127  Import      8753.00          NaN       NaN  \n",
       "131  Import    103493.00          NaN       NaN  "
      ]
     },
     "execution_count": 15,
     "metadata": {},
     "output_type": "execute_result"
    }
   ],
   "source": [
    "wt_idx = df1.index[df1['Weight (kg)'].isna()]                      # filter weight index containing missing values               \n",
    "\n",
    "df1.loc[wt_idx].head()"
   ]
  },
  {
   "cell_type": "code",
   "execution_count": 16,
   "metadata": {},
   "outputs": [
    {
     "data": {
      "text/plain": [
       "False    53164\n",
       "True      9147\n",
       "Name: Quantity, dtype: int64"
      ]
     },
     "execution_count": 16,
     "metadata": {},
     "output_type": "execute_result"
    }
   ],
   "source": [
    "df1['Quantity'].isna().value_counts()"
   ]
  },
  {
   "cell_type": "code",
   "execution_count": 17,
   "metadata": {},
   "outputs": [
    {
     "data": {
      "text/html": [
       "<div>\n",
       "<style scoped>\n",
       "    .dataframe tbody tr th:only-of-type {\n",
       "        vertical-align: middle;\n",
       "    }\n",
       "\n",
       "    .dataframe tbody tr th {\n",
       "        vertical-align: top;\n",
       "    }\n",
       "\n",
       "    .dataframe thead th {\n",
       "        text-align: right;\n",
       "    }\n",
       "</style>\n",
       "<table border=\"1\" class=\"dataframe\">\n",
       "  <thead>\n",
       "    <tr style=\"text-align: right;\">\n",
       "      <th></th>\n",
       "      <th>Country_or_Area</th>\n",
       "      <th>Year</th>\n",
       "      <th>Commodity</th>\n",
       "      <th>Flow</th>\n",
       "      <th>Trade (USD)</th>\n",
       "      <th>Weight (kg)</th>\n",
       "      <th>Quantity</th>\n",
       "    </tr>\n",
       "  </thead>\n",
       "  <tbody>\n",
       "    <tr>\n",
       "      <th>43</th>\n",
       "      <td>Albania</td>\n",
       "      <td>2014</td>\n",
       "      <td>Animals, live, except farm animals</td>\n",
       "      <td>Import</td>\n",
       "      <td>17544.0</td>\n",
       "      <td>4948.0</td>\n",
       "      <td>NaN</td>\n",
       "    </tr>\n",
       "    <tr>\n",
       "      <th>56</th>\n",
       "      <td>Albania</td>\n",
       "      <td>2013</td>\n",
       "      <td>Animals, live, except farm animals</td>\n",
       "      <td>Import</td>\n",
       "      <td>816312.0</td>\n",
       "      <td>108525.0</td>\n",
       "      <td>NaN</td>\n",
       "    </tr>\n",
       "    <tr>\n",
       "      <th>57</th>\n",
       "      <td>Albania</td>\n",
       "      <td>2013</td>\n",
       "      <td>Animals, live, except farm animals</td>\n",
       "      <td>Export</td>\n",
       "      <td>846588.0</td>\n",
       "      <td>99329.0</td>\n",
       "      <td>NaN</td>\n",
       "    </tr>\n",
       "    <tr>\n",
       "      <th>70</th>\n",
       "      <td>Albania</td>\n",
       "      <td>2012</td>\n",
       "      <td>Animals, live, except farm animals</td>\n",
       "      <td>Import</td>\n",
       "      <td>1401366.0</td>\n",
       "      <td>208478.0</td>\n",
       "      <td>NaN</td>\n",
       "    </tr>\n",
       "    <tr>\n",
       "      <th>71</th>\n",
       "      <td>Albania</td>\n",
       "      <td>2012</td>\n",
       "      <td>Animals, live, except farm animals</td>\n",
       "      <td>Export</td>\n",
       "      <td>895347.0</td>\n",
       "      <td>119590.0</td>\n",
       "      <td>NaN</td>\n",
       "    </tr>\n",
       "  </tbody>\n",
       "</table>\n",
       "</div>"
      ],
      "text/plain": [
       "   Country_or_Area  Year                           Commodity    Flow  \\\n",
       "43         Albania  2014  Animals, live, except farm animals  Import   \n",
       "56         Albania  2013  Animals, live, except farm animals  Import   \n",
       "57         Albania  2013  Animals, live, except farm animals  Export   \n",
       "70         Albania  2012  Animals, live, except farm animals  Import   \n",
       "71         Albania  2012  Animals, live, except farm animals  Export   \n",
       "\n",
       "    Trade (USD)  Weight (kg)  Quantity  \n",
       "43      17544.0       4948.0       NaN  \n",
       "56     816312.0     108525.0       NaN  \n",
       "57     846588.0      99329.0       NaN  \n",
       "70    1401366.0     208478.0       NaN  \n",
       "71     895347.0     119590.0       NaN  "
      ]
     },
     "execution_count": 17,
     "metadata": {},
     "output_type": "execute_result"
    }
   ],
   "source": [
    "qty_idx = df1.index[df1['Quantity'].isna()]                                   # filter quantity index containing missing values  \n",
    "\n",
    "df1.loc[qty_idx].head()"
   ]
  },
  {
   "cell_type": "code",
   "execution_count": 18,
   "metadata": {},
   "outputs": [
    {
     "data": {
      "text/html": [
       "<div>\n",
       "<style scoped>\n",
       "    .dataframe tbody tr th:only-of-type {\n",
       "        vertical-align: middle;\n",
       "    }\n",
       "\n",
       "    .dataframe tbody tr th {\n",
       "        vertical-align: top;\n",
       "    }\n",
       "\n",
       "    .dataframe thead th {\n",
       "        text-align: right;\n",
       "    }\n",
       "</style>\n",
       "<table border=\"1\" class=\"dataframe\">\n",
       "  <thead>\n",
       "    <tr style=\"text-align: right;\">\n",
       "      <th></th>\n",
       "      <th>Country_or_Area</th>\n",
       "      <th>Year</th>\n",
       "      <th>Commodity</th>\n",
       "      <th>Flow</th>\n",
       "      <th>Trade (USD)</th>\n",
       "      <th>Weight (kg)</th>\n",
       "      <th>Quantity</th>\n",
       "    </tr>\n",
       "  </thead>\n",
       "  <tbody>\n",
       "    <tr>\n",
       "      <th>0</th>\n",
       "      <td>Afghanistan</td>\n",
       "      <td>2018</td>\n",
       "      <td>Horses, live pure-bred breeding</td>\n",
       "      <td>Import</td>\n",
       "      <td>15561458.59</td>\n",
       "      <td>0.000000e+00</td>\n",
       "      <td>28859.00</td>\n",
       "    </tr>\n",
       "    <tr>\n",
       "      <th>1</th>\n",
       "      <td>Afghanistan</td>\n",
       "      <td>2018</td>\n",
       "      <td>Sheep, live</td>\n",
       "      <td>Export</td>\n",
       "      <td>3064.44</td>\n",
       "      <td>1.125916e+03</td>\n",
       "      <td>14.98</td>\n",
       "    </tr>\n",
       "    <tr>\n",
       "      <th>2</th>\n",
       "      <td>Afghanistan</td>\n",
       "      <td>2018</td>\n",
       "      <td>Fowls, live domestic &gt; 185 grams</td>\n",
       "      <td>Import</td>\n",
       "      <td>16338543.11</td>\n",
       "      <td>2.190237e+07</td>\n",
       "      <td>12297334.30</td>\n",
       "    </tr>\n",
       "    <tr>\n",
       "      <th>3</th>\n",
       "      <td>Afghanistan</td>\n",
       "      <td>2018</td>\n",
       "      <td>Animals, live, except farm animals</td>\n",
       "      <td>Import</td>\n",
       "      <td>13186.60</td>\n",
       "      <td>0.000000e+00</td>\n",
       "      <td>0.00</td>\n",
       "    </tr>\n",
       "    <tr>\n",
       "      <th>4</th>\n",
       "      <td>Afghanistan</td>\n",
       "      <td>2016</td>\n",
       "      <td>Sheep, live</td>\n",
       "      <td>Export</td>\n",
       "      <td>6088.00</td>\n",
       "      <td>2.339000e+03</td>\n",
       "      <td>51.00</td>\n",
       "    </tr>\n",
       "  </tbody>\n",
       "</table>\n",
       "</div>"
      ],
      "text/plain": [
       "  Country_or_Area  Year                           Commodity    Flow  \\\n",
       "0     Afghanistan  2018     Horses, live pure-bred breeding  Import   \n",
       "1     Afghanistan  2018                         Sheep, live  Export   \n",
       "2     Afghanistan  2018    Fowls, live domestic > 185 grams  Import   \n",
       "3     Afghanistan  2018  Animals, live, except farm animals  Import   \n",
       "4     Afghanistan  2016                         Sheep, live  Export   \n",
       "\n",
       "   Trade (USD)   Weight (kg)     Quantity  \n",
       "0  15561458.59  0.000000e+00     28859.00  \n",
       "1      3064.44  1.125916e+03        14.98  \n",
       "2  16338543.11  2.190237e+07  12297334.30  \n",
       "3     13186.60  0.000000e+00         0.00  \n",
       "4      6088.00  2.339000e+03        51.00  "
      ]
     },
     "execution_count": 18,
     "metadata": {},
     "output_type": "execute_result"
    }
   ],
   "source": [
    "df2 = df1.fillna(0)                          # fill missing values with 0        \n",
    "df2.head()     "
   ]
  },
  {
   "cell_type": "code",
   "execution_count": 19,
   "metadata": {},
   "outputs": [
    {
     "data": {
      "text/plain": [
       "Country_or_Area    0\n",
       "Year               0\n",
       "Commodity          0\n",
       "Flow               0\n",
       "Trade (USD)        0\n",
       "Weight (kg)        0\n",
       "Quantity           0\n",
       "dtype: int64"
      ]
     },
     "execution_count": 19,
     "metadata": {},
     "output_type": "execute_result"
    }
   ],
   "source": [
    "df2.isna().sum()                               # no missing values"
   ]
  },
  {
   "cell_type": "markdown",
   "metadata": {},
   "source": [
    "# Grouping and Aggregation"
   ]
  },
  {
   "cell_type": "code",
   "execution_count": 20,
   "metadata": {},
   "outputs": [
    {
     "data": {
      "text/html": [
       "<div>\n",
       "<style scoped>\n",
       "    .dataframe tbody tr th:only-of-type {\n",
       "        vertical-align: middle;\n",
       "    }\n",
       "\n",
       "    .dataframe tbody tr th {\n",
       "        vertical-align: top;\n",
       "    }\n",
       "\n",
       "    .dataframe thead th {\n",
       "        text-align: right;\n",
       "    }\n",
       "</style>\n",
       "<table border=\"1\" class=\"dataframe\">\n",
       "  <thead>\n",
       "    <tr style=\"text-align: right;\">\n",
       "      <th></th>\n",
       "      <th>Country_or_Area</th>\n",
       "      <th>Year</th>\n",
       "      <th>Commodity</th>\n",
       "      <th>Flow</th>\n",
       "      <th>Trade (USD)</th>\n",
       "      <th>Weight (kg)</th>\n",
       "      <th>Quantity</th>\n",
       "    </tr>\n",
       "  </thead>\n",
       "  <tbody>\n",
       "    <tr>\n",
       "      <th>0</th>\n",
       "      <td>Afghanistan</td>\n",
       "      <td>2018</td>\n",
       "      <td>Horses, live pure-bred breeding</td>\n",
       "      <td>Import</td>\n",
       "      <td>15561458.59</td>\n",
       "      <td>0.000000e+00</td>\n",
       "      <td>2.885900e+04</td>\n",
       "    </tr>\n",
       "    <tr>\n",
       "      <th>1</th>\n",
       "      <td>Afghanistan</td>\n",
       "      <td>2018</td>\n",
       "      <td>Sheep, live</td>\n",
       "      <td>Export</td>\n",
       "      <td>3064.44</td>\n",
       "      <td>1.125916e+03</td>\n",
       "      <td>1.498000e+01</td>\n",
       "    </tr>\n",
       "    <tr>\n",
       "      <th>2</th>\n",
       "      <td>Afghanistan</td>\n",
       "      <td>2018</td>\n",
       "      <td>Fowls, live domestic &gt; 185 grams</td>\n",
       "      <td>Import</td>\n",
       "      <td>16338543.11</td>\n",
       "      <td>2.190237e+07</td>\n",
       "      <td>1.229733e+07</td>\n",
       "    </tr>\n",
       "    <tr>\n",
       "      <th>3</th>\n",
       "      <td>Afghanistan</td>\n",
       "      <td>2018</td>\n",
       "      <td>Animals, live, except farm animals</td>\n",
       "      <td>Import</td>\n",
       "      <td>13186.60</td>\n",
       "      <td>0.000000e+00</td>\n",
       "      <td>0.000000e+00</td>\n",
       "    </tr>\n",
       "    <tr>\n",
       "      <th>4</th>\n",
       "      <td>Afghanistan</td>\n",
       "      <td>2016</td>\n",
       "      <td>Sheep, live</td>\n",
       "      <td>Export</td>\n",
       "      <td>6088.00</td>\n",
       "      <td>2.339000e+03</td>\n",
       "      <td>5.100000e+01</td>\n",
       "    </tr>\n",
       "    <tr>\n",
       "      <th>...</th>\n",
       "      <td>...</td>\n",
       "      <td>...</td>\n",
       "      <td>...</td>\n",
       "      <td>...</td>\n",
       "      <td>...</td>\n",
       "      <td>...</td>\n",
       "      <td>...</td>\n",
       "    </tr>\n",
       "    <tr>\n",
       "      <th>62009</th>\n",
       "      <td>Zimbabwe</td>\n",
       "      <td>2018</td>\n",
       "      <td>Horses, live pure-bred breeding</td>\n",
       "      <td>Import</td>\n",
       "      <td>131.54</td>\n",
       "      <td>0.000000e+00</td>\n",
       "      <td>0.000000e+00</td>\n",
       "    </tr>\n",
       "    <tr>\n",
       "      <th>62010</th>\n",
       "      <td>Zimbabwe</td>\n",
       "      <td>2018</td>\n",
       "      <td>Horses, live except pure-bred breeding</td>\n",
       "      <td>Import</td>\n",
       "      <td>77024.30</td>\n",
       "      <td>8.830000e+04</td>\n",
       "      <td>0.000000e+00</td>\n",
       "    </tr>\n",
       "    <tr>\n",
       "      <th>62011</th>\n",
       "      <td>Zimbabwe</td>\n",
       "      <td>2018</td>\n",
       "      <td>Horses, live except pure-bred breeding</td>\n",
       "      <td>Export</td>\n",
       "      <td>21552.88</td>\n",
       "      <td>2.625000e+04</td>\n",
       "      <td>0.000000e+00</td>\n",
       "    </tr>\n",
       "    <tr>\n",
       "      <th>62012</th>\n",
       "      <td>Zimbabwe</td>\n",
       "      <td>2018</td>\n",
       "      <td>Bovine animals, live pure-bred breeding</td>\n",
       "      <td>Import</td>\n",
       "      <td>1512108.15</td>\n",
       "      <td>4.886140e+05</td>\n",
       "      <td>8.525287e+02</td>\n",
       "    </tr>\n",
       "    <tr>\n",
       "      <th>62013</th>\n",
       "      <td>Zimbabwe</td>\n",
       "      <td>2018</td>\n",
       "      <td>Bovine animals, live, except pure-bred breeding</td>\n",
       "      <td>Import</td>\n",
       "      <td>627264.69</td>\n",
       "      <td>1.382900e+05</td>\n",
       "      <td>5.955500e+02</td>\n",
       "    </tr>\n",
       "  </tbody>\n",
       "</table>\n",
       "<p>1025 rows × 7 columns</p>\n",
       "</div>"
      ],
      "text/plain": [
       "      Country_or_Area  Year                                        Commodity  \\\n",
       "0         Afghanistan  2018                  Horses, live pure-bred breeding   \n",
       "1         Afghanistan  2018                                      Sheep, live   \n",
       "2         Afghanistan  2018                 Fowls, live domestic > 185 grams   \n",
       "3         Afghanistan  2018               Animals, live, except farm animals   \n",
       "4         Afghanistan  2016                                      Sheep, live   \n",
       "...               ...   ...                                              ...   \n",
       "62009        Zimbabwe  2018                  Horses, live pure-bred breeding   \n",
       "62010        Zimbabwe  2018           Horses, live except pure-bred breeding   \n",
       "62011        Zimbabwe  2018           Horses, live except pure-bred breeding   \n",
       "62012        Zimbabwe  2018          Bovine animals, live pure-bred breeding   \n",
       "62013        Zimbabwe  2018  Bovine animals, live, except pure-bred breeding   \n",
       "\n",
       "         Flow  Trade (USD)   Weight (kg)      Quantity  \n",
       "0      Import  15561458.59  0.000000e+00  2.885900e+04  \n",
       "1      Export      3064.44  1.125916e+03  1.498000e+01  \n",
       "2      Import  16338543.11  2.190237e+07  1.229733e+07  \n",
       "3      Import     13186.60  0.000000e+00  0.000000e+00  \n",
       "4      Export      6088.00  2.339000e+03  5.100000e+01  \n",
       "...       ...          ...           ...           ...  \n",
       "62009  Import       131.54  0.000000e+00  0.000000e+00  \n",
       "62010  Import     77024.30  8.830000e+04  0.000000e+00  \n",
       "62011  Export     21552.88  2.625000e+04  0.000000e+00  \n",
       "62012  Import   1512108.15  4.886140e+05  8.525287e+02  \n",
       "62013  Import    627264.69  1.382900e+05  5.955500e+02  \n",
       "\n",
       "[1025 rows x 7 columns]"
      ]
     },
     "execution_count": 20,
     "metadata": {},
     "output_type": "execute_result"
    }
   ],
   "source": [
    "country_area_grouped = df2.groupby('Country_or_Area')\n",
    "country_area_grouped.head()"
   ]
  },
  {
   "cell_type": "markdown",
   "metadata": {},
   "source": [
    "# Trade (USD) Exploration"
   ]
  },
  {
   "cell_type": "code",
   "execution_count": 21,
   "metadata": {},
   "outputs": [
    {
     "data": {
      "text/html": [
       "<div>\n",
       "<style scoped>\n",
       "    .dataframe tbody tr th:only-of-type {\n",
       "        vertical-align: middle;\n",
       "    }\n",
       "\n",
       "    .dataframe tbody tr th {\n",
       "        vertical-align: top;\n",
       "    }\n",
       "\n",
       "    .dataframe thead th {\n",
       "        text-align: right;\n",
       "    }\n",
       "</style>\n",
       "<table border=\"1\" class=\"dataframe\">\n",
       "  <thead>\n",
       "    <tr style=\"text-align: right;\">\n",
       "      <th></th>\n",
       "      <th>min_trade</th>\n",
       "      <th>mean_trade</th>\n",
       "      <th>max_trade</th>\n",
       "      <th>total_trade</th>\n",
       "    </tr>\n",
       "    <tr>\n",
       "      <th>Country_or_Area</th>\n",
       "      <th></th>\n",
       "      <th></th>\n",
       "      <th></th>\n",
       "      <th></th>\n",
       "    </tr>\n",
       "  </thead>\n",
       "  <tbody>\n",
       "    <tr>\n",
       "      <th>Afghanistan</th>\n",
       "      <td>3064.44</td>\n",
       "      <td>4.707586e+06</td>\n",
       "      <td>1.633854e+07</td>\n",
       "      <td>3.295310e+07</td>\n",
       "    </tr>\n",
       "    <tr>\n",
       "      <th>Albania</th>\n",
       "      <td>108.00</td>\n",
       "      <td>1.587993e+06</td>\n",
       "      <td>2.913083e+07</td>\n",
       "      <td>4.287580e+08</td>\n",
       "    </tr>\n",
       "    <tr>\n",
       "      <th>Algeria</th>\n",
       "      <td>106.00</td>\n",
       "      <td>7.787771e+06</td>\n",
       "      <td>1.555273e+08</td>\n",
       "      <td>1.643220e+09</td>\n",
       "    </tr>\n",
       "    <tr>\n",
       "      <th>Andorra</th>\n",
       "      <td>66.00</td>\n",
       "      <td>5.094537e+04</td>\n",
       "      <td>1.631429e+06</td>\n",
       "      <td>1.793277e+07</td>\n",
       "    </tr>\n",
       "    <tr>\n",
       "      <th>Angola</th>\n",
       "      <td>6.72</td>\n",
       "      <td>6.480001e+05</td>\n",
       "      <td>1.203264e+07</td>\n",
       "      <td>1.004400e+08</td>\n",
       "    </tr>\n",
       "    <tr>\n",
       "      <th>...</th>\n",
       "      <td>...</td>\n",
       "      <td>...</td>\n",
       "      <td>...</td>\n",
       "      <td>...</td>\n",
       "    </tr>\n",
       "    <tr>\n",
       "      <th>Viet Nam</th>\n",
       "      <td>102.00</td>\n",
       "      <td>9.796111e+06</td>\n",
       "      <td>4.404256e+08</td>\n",
       "      <td>2.027795e+09</td>\n",
       "    </tr>\n",
       "    <tr>\n",
       "      <th>Wallis and Futuna Isds</th>\n",
       "      <td>734.00</td>\n",
       "      <td>1.709475e+04</td>\n",
       "      <td>9.295900e+04</td>\n",
       "      <td>3.418950e+05</td>\n",
       "    </tr>\n",
       "    <tr>\n",
       "      <th>Yemen</th>\n",
       "      <td>52.00</td>\n",
       "      <td>5.276941e+06</td>\n",
       "      <td>4.376760e+07</td>\n",
       "      <td>6.701715e+08</td>\n",
       "    </tr>\n",
       "    <tr>\n",
       "      <th>Zambia</th>\n",
       "      <td>1.00</td>\n",
       "      <td>2.557070e+05</td>\n",
       "      <td>1.745200e+07</td>\n",
       "      <td>9.768009e+07</td>\n",
       "    </tr>\n",
       "    <tr>\n",
       "      <th>Zimbabwe</th>\n",
       "      <td>2.00</td>\n",
       "      <td>4.355087e+05</td>\n",
       "      <td>1.022225e+07</td>\n",
       "      <td>1.315236e+08</td>\n",
       "    </tr>\n",
       "  </tbody>\n",
       "</table>\n",
       "<p>207 rows × 4 columns</p>\n",
       "</div>"
      ],
      "text/plain": [
       "                        min_trade    mean_trade     max_trade   total_trade\n",
       "Country_or_Area                                                            \n",
       "Afghanistan               3064.44  4.707586e+06  1.633854e+07  3.295310e+07\n",
       "Albania                    108.00  1.587993e+06  2.913083e+07  4.287580e+08\n",
       "Algeria                    106.00  7.787771e+06  1.555273e+08  1.643220e+09\n",
       "Andorra                     66.00  5.094537e+04  1.631429e+06  1.793277e+07\n",
       "Angola                       6.72  6.480001e+05  1.203264e+07  1.004400e+08\n",
       "...                           ...           ...           ...           ...\n",
       "Viet Nam                   102.00  9.796111e+06  4.404256e+08  2.027795e+09\n",
       "Wallis and Futuna Isds     734.00  1.709475e+04  9.295900e+04  3.418950e+05\n",
       "Yemen                       52.00  5.276941e+06  4.376760e+07  6.701715e+08\n",
       "Zambia                       1.00  2.557070e+05  1.745200e+07  9.768009e+07\n",
       "Zimbabwe                     2.00  4.355087e+05  1.022225e+07  1.315236e+08\n",
       "\n",
       "[207 rows x 4 columns]"
      ]
     },
     "execution_count": 21,
     "metadata": {},
     "output_type": "execute_result"
    }
   ],
   "source": [
    "agg_trade_stats = country_area_grouped.agg(\n",
    "    min_trade = ('Trade (USD)', np.min),\n",
    "    mean_trade = ('Trade (USD)', np.mean),\n",
    "    max_trade = ('Trade (USD)', np.max),\n",
    "    total_trade = ('Trade (USD)', np.sum)  \n",
    ")\n",
    "\n",
    "agg_trade_stats"
   ]
  },
  {
   "cell_type": "code",
   "execution_count": 22,
   "metadata": {},
   "outputs": [
    {
     "data": {
      "text/plain": [
       "Country_or_Area\n",
       "USA               8.421445e+10\n",
       "Germany           6.107290e+10\n",
       "Netherlands       6.067681e+10\n",
       "France            5.981359e+10\n",
       "Canada            4.850034e+10\n",
       "EU-28             4.424092e+10\n",
       "Italy             4.263916e+10\n",
       "United Kingdom    3.205784e+10\n",
       "Spain             2.447586e+10\n",
       "Australia         2.430672e+10\n",
       "Name: total_trade, dtype: float64"
      ]
     },
     "execution_count": 22,
     "metadata": {},
     "output_type": "execute_result"
    }
   ],
   "source": [
    "agg_trade_stats['total_trade'].sort_values(ascending=False).head(10)                 # top ten country or area with the highest trade in dollars"
   ]
  },
  {
   "cell_type": "code",
   "execution_count": 23,
   "metadata": {},
   "outputs": [],
   "source": [
    "top_10_trade = agg_trade_stats['total_trade'].sort_values(ascending=False).head(10)\n",
    "\n",
    "# get country or area names and their respective values\n",
    "country_or_area = top_10_trade.keys()\n",
    "total_trade = top_10_trade.values"
   ]
  },
  {
   "cell_type": "code",
   "execution_count": 24,
   "metadata": {},
   "outputs": [
    {
     "data": {
      "text/plain": [
       "Text(0.5, 1.0, 'Trade of Goods (Live Animals)')"
      ]
     },
     "execution_count": 24,
     "metadata": {},
     "output_type": "execute_result"
    },
    {
     "data": {
      "image/png": "[encoded data removed]",
      "text/plain": [
       "<Figure size 432x288 with 1 Axes>"
      ]
     },
     "metadata": {},
     "output_type": "display_data"
    }
   ],
   "source": [
    "fig, ax = plt.subplots()\n",
    "\n",
    "hbars = ax.barh(country_or_area, total_trade, align='center')\n",
    "ax.invert_yaxis()                                               # labels read top-to-bottom\n",
    "ax.set_xlabel('Trade ($)')\n",
    "ax.set_ylabel('Country or Area')\n",
    "ax.set_title('Trade of Goods (Live Animals)')"
   ]
  },
  {
   "cell_type": "code",
   "execution_count": 25,
   "metadata": {},
   "outputs": [
    {
     "data": {
      "text/plain": [
       "Country_or_Area\n",
       "Kiribati                  3525.00\n",
       "Djibouti                  3997.00\n",
       "Haiti                     7620.00\n",
       "Chad                     20040.00\n",
       "Timor-Leste              25964.89\n",
       "Guinea-Bissau            27962.00\n",
       "Turks and Caicos Isds    30450.00\n",
       "Cook Isds                35759.00\n",
       "Anguilla                 40585.00\n",
       "FS Micronesia            96966.00\n",
       "Name: total_trade, dtype: float64"
      ]
     },
     "execution_count": 25,
     "metadata": {},
     "output_type": "execute_result"
    }
   ],
   "source": [
    "agg_trade_stats['total_trade'].sort_values(ascending=True).head(10)            # top ten country or area with the lowest trade in dollars"
   ]
  },
  {
   "cell_type": "code",
   "execution_count": 26,
   "metadata": {},
   "outputs": [],
   "source": [
    "low_10_trade = agg_trade_stats['total_trade'].sort_values(ascending=True).head(10)\n",
    "\n",
    "# get country or area names and their respective values\n",
    "country_or_area = low_10_trade.keys()\n",
    "total_trade = low_10_trade.values"
   ]
  },
  {
   "cell_type": "code",
   "execution_count": 27,
   "metadata": {},
   "outputs": [
    {
     "data": {
      "text/plain": [
       "Text(0.5, 1.0, 'Trade of Goods (Live Animals)')"
      ]
     },
     "execution_count": 27,
     "metadata": {},
     "output_type": "execute_result"
    },
    {
     "data": {
      "image/png": "[encoded data removed]",
      "text/plain": [
       "<Figure size 432x288 with 1 Axes>"
      ]
     },
     "metadata": {},
     "output_type": "display_data"
    }
   ],
   "source": [
    "fig, ax = plt.subplots()\n",
    "\n",
    "hbars = ax.barh(country_or_area, total_trade, align='center')\n",
    "ax.set_xlabel('Trade ($)')\n",
    "ax.set_ylabel('Country or Area')\n",
    "ax.set_title('Trade of Goods (Live Animals)')"
   ]
  }
 ],
 "metadata": {
  "interpreter": {
   "hash": "3fe9daace87ea8cb12e037f7452ad9bcd52f59aa894a611255d1461de3a9065e"
  },
  "kernelspec": {
   "display_name": "Python 3.9.7 64-bit ('DS': conda)",
   "language": "python",
   "name": "python3"
  },
  "language_info": {
   "codemirror_mode": {
    "name": "ipython",
    "version": 3
   },
   "file_extension": ".py",
   "mimetype": "text/x-python",
   "name": "python",
   "nbconvert_exporter": "python",
   "pygments_lexer": "ipython3",
   "version": "3.9.7"
  },
  "orig_nbformat": 4
 },
 "nbformat": 4,
 "nbformat_minor": 2
}
