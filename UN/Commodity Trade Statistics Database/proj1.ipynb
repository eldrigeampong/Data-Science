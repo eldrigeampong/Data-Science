{
 "cells": [
  {
   "cell_type": "markdown",
   "metadata": {},
   "source": [
    "# Trade of goods , US$, HS 1992, ALL COMMODITIES"
   ]
  },
  {
   "cell_type": "markdown",
   "metadata": {},
   "source": [
    "# Import Libraries"
   ]
  },
  {
   "cell_type": "code",
   "execution_count": 1,
   "metadata": {},
   "outputs": [],
   "source": [
    "import numpy as np\n",
    "import pandas as pd\n",
    "import matplotlib.pyplot as plt\n",
    "import seaborn as sns\n",
    "import os\n",
    "import warnings"
   ]
  },
  {
   "cell_type": "markdown",
   "metadata": {},
   "source": [
    "# Options and Settings"
   ]
  },
  {
   "cell_type": "code",
   "execution_count": 2,
   "metadata": {},
   "outputs": [],
   "source": [
    "%matplotlib inline\n",
    "plt.style.use('ggplot')\n",
    "plt.rcParams['figure.autolayout'] = True\n",
    "plt.rcParams['font.size'] = 12\n",
    "path = os.getcwd()                                         # get current working directory\n",
    "warnings.simplefilter('ignore')"
   ]
  },
  {
   "cell_type": "markdown",
   "metadata": {},
   "source": [
    "# Import Data"
   ]
  },
  {
   "cell_type": "code",
   "execution_count": 3,
   "metadata": {},
   "outputs": [],
   "source": [
    "filepath = os.path.join('datasets', 'Trade of goods , US$, HS 1992, ALL COMMODITIES.csv')\n",
    "df = pd.read_csv(filepath)"
   ]
  },
  {
   "cell_type": "markdown",
   "metadata": {},
   "source": [
    "# Head and Tail"
   ]
  },
  {
   "cell_type": "code",
   "execution_count": 4,
   "metadata": {},
   "outputs": [
    {
     "data": {
      "text/html": [
       "<div>\n",
       "<style scoped>\n",
       "    .dataframe tbody tr th:only-of-type {\n",
       "        vertical-align: middle;\n",
       "    }\n",
       "\n",
       "    .dataframe tbody tr th {\n",
       "        vertical-align: top;\n",
       "    }\n",
       "\n",
       "    .dataframe thead th {\n",
       "        text-align: right;\n",
       "    }\n",
       "</style>\n",
       "<table border=\"1\" class=\"dataframe\">\n",
       "  <thead>\n",
       "    <tr style=\"text-align: right;\">\n",
       "      <th></th>\n",
       "      <th>Country or Area</th>\n",
       "      <th>Year</th>\n",
       "      <th>Commodity</th>\n",
       "      <th>Flow</th>\n",
       "      <th>Trade (USD)</th>\n",
       "      <th>Weight (kg)</th>\n",
       "      <th>Quantity Name</th>\n",
       "      <th>Quantity</th>\n",
       "    </tr>\n",
       "  </thead>\n",
       "  <tbody>\n",
       "    <tr>\n",
       "      <th>0</th>\n",
       "      <td>Afghanistan</td>\n",
       "      <td>2018</td>\n",
       "      <td>ALL COMMODITIES</td>\n",
       "      <td>Import</td>\n",
       "      <td>7.406590e+09</td>\n",
       "      <td>NaN</td>\n",
       "      <td>No Quantity</td>\n",
       "      <td>0.0</td>\n",
       "    </tr>\n",
       "    <tr>\n",
       "      <th>1</th>\n",
       "      <td>Afghanistan</td>\n",
       "      <td>2018</td>\n",
       "      <td>ALL COMMODITIES</td>\n",
       "      <td>Export</td>\n",
       "      <td>8.845045e+08</td>\n",
       "      <td>0.0</td>\n",
       "      <td>No Quantity</td>\n",
       "      <td>0.0</td>\n",
       "    </tr>\n",
       "    <tr>\n",
       "      <th>2</th>\n",
       "      <td>Afghanistan</td>\n",
       "      <td>2018</td>\n",
       "      <td>ALL COMMODITIES</td>\n",
       "      <td>Re-Export</td>\n",
       "      <td>9.263097e+06</td>\n",
       "      <td>0.0</td>\n",
       "      <td>No Quantity</td>\n",
       "      <td>0.0</td>\n",
       "    </tr>\n",
       "    <tr>\n",
       "      <th>3</th>\n",
       "      <td>Afghanistan</td>\n",
       "      <td>2016</td>\n",
       "      <td>ALL COMMODITIES</td>\n",
       "      <td>Import</td>\n",
       "      <td>6.534140e+09</td>\n",
       "      <td>NaN</td>\n",
       "      <td>No Quantity</td>\n",
       "      <td>NaN</td>\n",
       "    </tr>\n",
       "    <tr>\n",
       "      <th>4</th>\n",
       "      <td>Afghanistan</td>\n",
       "      <td>2016</td>\n",
       "      <td>ALL COMMODITIES</td>\n",
       "      <td>Export</td>\n",
       "      <td>5.964553e+08</td>\n",
       "      <td>NaN</td>\n",
       "      <td>No Quantity</td>\n",
       "      <td>NaN</td>\n",
       "    </tr>\n",
       "    <tr>\n",
       "      <th>...</th>\n",
       "      <td>...</td>\n",
       "      <td>...</td>\n",
       "      <td>...</td>\n",
       "      <td>...</td>\n",
       "      <td>...</td>\n",
       "      <td>...</td>\n",
       "      <td>...</td>\n",
       "      <td>...</td>\n",
       "    </tr>\n",
       "    <tr>\n",
       "      <th>10139</th>\n",
       "      <td>Zimbabwe</td>\n",
       "      <td>2001</td>\n",
       "      <td>ALL COMMODITIES</td>\n",
       "      <td>Export</td>\n",
       "      <td>1.206663e+09</td>\n",
       "      <td>NaN</td>\n",
       "      <td>No Quantity</td>\n",
       "      <td>NaN</td>\n",
       "    </tr>\n",
       "    <tr>\n",
       "      <th>10140</th>\n",
       "      <td>Zimbabwe</td>\n",
       "      <td>2001</td>\n",
       "      <td>ALL COMMODITIES</td>\n",
       "      <td>Re-Export</td>\n",
       "      <td>1.594229e+07</td>\n",
       "      <td>NaN</td>\n",
       "      <td>No Quantity</td>\n",
       "      <td>NaN</td>\n",
       "    </tr>\n",
       "    <tr>\n",
       "      <th>10141</th>\n",
       "      <td>Zimbabwe</td>\n",
       "      <td>2000</td>\n",
       "      <td>ALL COMMODITIES</td>\n",
       "      <td>Export</td>\n",
       "      <td>1.879631e+09</td>\n",
       "      <td>NaN</td>\n",
       "      <td>No Quantity</td>\n",
       "      <td>NaN</td>\n",
       "    </tr>\n",
       "    <tr>\n",
       "      <th>10142</th>\n",
       "      <td>Zimbabwe</td>\n",
       "      <td>1995</td>\n",
       "      <td>ALL COMMODITIES</td>\n",
       "      <td>Import</td>\n",
       "      <td>2.658853e+09</td>\n",
       "      <td>NaN</td>\n",
       "      <td>No Quantity</td>\n",
       "      <td>NaN</td>\n",
       "    </tr>\n",
       "    <tr>\n",
       "      <th>10143</th>\n",
       "      <td>Zimbabwe</td>\n",
       "      <td>1995</td>\n",
       "      <td>ALL COMMODITIES</td>\n",
       "      <td>Export</td>\n",
       "      <td>1.845906e+09</td>\n",
       "      <td>NaN</td>\n",
       "      <td>No Quantity</td>\n",
       "      <td>NaN</td>\n",
       "    </tr>\n",
       "  </tbody>\n",
       "</table>\n",
       "<p>10144 rows × 8 columns</p>\n",
       "</div>"
      ],
      "text/plain": [
       "      Country or Area  Year        Commodity       Flow   Trade (USD)  \\\n",
       "0         Afghanistan  2018  ALL COMMODITIES     Import  7.406590e+09   \n",
       "1         Afghanistan  2018  ALL COMMODITIES     Export  8.845045e+08   \n",
       "2         Afghanistan  2018  ALL COMMODITIES  Re-Export  9.263097e+06   \n",
       "3         Afghanistan  2016  ALL COMMODITIES     Import  6.534140e+09   \n",
       "4         Afghanistan  2016  ALL COMMODITIES     Export  5.964553e+08   \n",
       "...               ...   ...              ...        ...           ...   \n",
       "10139        Zimbabwe  2001  ALL COMMODITIES     Export  1.206663e+09   \n",
       "10140        Zimbabwe  2001  ALL COMMODITIES  Re-Export  1.594229e+07   \n",
       "10141        Zimbabwe  2000  ALL COMMODITIES     Export  1.879631e+09   \n",
       "10142        Zimbabwe  1995  ALL COMMODITIES     Import  2.658853e+09   \n",
       "10143        Zimbabwe  1995  ALL COMMODITIES     Export  1.845906e+09   \n",
       "\n",
       "       Weight (kg) Quantity Name  Quantity  \n",
       "0              NaN   No Quantity       0.0  \n",
       "1              0.0   No Quantity       0.0  \n",
       "2              0.0   No Quantity       0.0  \n",
       "3              NaN   No Quantity       NaN  \n",
       "4              NaN   No Quantity       NaN  \n",
       "...            ...           ...       ...  \n",
       "10139          NaN   No Quantity       NaN  \n",
       "10140          NaN   No Quantity       NaN  \n",
       "10141          NaN   No Quantity       NaN  \n",
       "10142          NaN   No Quantity       NaN  \n",
       "10143          NaN   No Quantity       NaN  \n",
       "\n",
       "[10144 rows x 8 columns]"
      ]
     },
     "execution_count": 4,
     "metadata": {},
     "output_type": "execute_result"
    }
   ],
   "source": [
    "df"
   ]
  },
  {
   "cell_type": "code",
   "execution_count": 5,
   "metadata": {},
   "outputs": [
    {
     "data": {
      "text/plain": [
       "(10144, 8)"
      ]
     },
     "execution_count": 5,
     "metadata": {},
     "output_type": "execute_result"
    }
   ],
   "source": [
    "df.shape"
   ]
  },
  {
   "cell_type": "code",
   "execution_count": 6,
   "metadata": {},
   "outputs": [
    {
     "name": "stdout",
     "output_type": "stream",
     "text": [
      "<class 'pandas.core.frame.DataFrame'>\n",
      "RangeIndex: 10144 entries, 0 to 10143\n",
      "Data columns (total 8 columns):\n",
      " #   Column           Non-Null Count  Dtype  \n",
      "---  ------           --------------  -----  \n",
      " 0   Country or Area  10144 non-null  object \n",
      " 1   Year             10144 non-null  int64  \n",
      " 2   Commodity        10144 non-null  object \n",
      " 3   Flow             10144 non-null  object \n",
      " 4   Trade (USD)      10144 non-null  float64\n",
      " 5   Weight (kg)      983 non-null    float64\n",
      " 6   Quantity Name    10144 non-null  object \n",
      " 7   Quantity         1437 non-null   float64\n",
      "dtypes: float64(3), int64(1), object(4)\n",
      "memory usage: 634.1+ KB\n"
     ]
    }
   ],
   "source": [
    "df.info()"
   ]
  },
  {
   "cell_type": "code",
   "execution_count": 7,
   "metadata": {},
   "outputs": [
    {
     "data": {
      "text/html": [
       "<div>\n",
       "<style scoped>\n",
       "    .dataframe tbody tr th:only-of-type {\n",
       "        vertical-align: middle;\n",
       "    }\n",
       "\n",
       "    .dataframe tbody tr th {\n",
       "        vertical-align: top;\n",
       "    }\n",
       "\n",
       "    .dataframe thead th {\n",
       "        text-align: right;\n",
       "    }\n",
       "</style>\n",
       "<table border=\"1\" class=\"dataframe\">\n",
       "  <thead>\n",
       "    <tr style=\"text-align: right;\">\n",
       "      <th></th>\n",
       "      <th>Country_or_Area</th>\n",
       "      <th>Year</th>\n",
       "      <th>Commodity</th>\n",
       "      <th>Flow</th>\n",
       "      <th>Trade (USD)</th>\n",
       "      <th>Weight (kg)</th>\n",
       "      <th>Quantity Name</th>\n",
       "      <th>Quantity</th>\n",
       "    </tr>\n",
       "  </thead>\n",
       "  <tbody>\n",
       "    <tr>\n",
       "      <th>0</th>\n",
       "      <td>Afghanistan</td>\n",
       "      <td>2018</td>\n",
       "      <td>ALL COMMODITIES</td>\n",
       "      <td>Import</td>\n",
       "      <td>7.406590e+09</td>\n",
       "      <td>NaN</td>\n",
       "      <td>No Quantity</td>\n",
       "      <td>0.0</td>\n",
       "    </tr>\n",
       "    <tr>\n",
       "      <th>1</th>\n",
       "      <td>Afghanistan</td>\n",
       "      <td>2018</td>\n",
       "      <td>ALL COMMODITIES</td>\n",
       "      <td>Export</td>\n",
       "      <td>8.845045e+08</td>\n",
       "      <td>0.0</td>\n",
       "      <td>No Quantity</td>\n",
       "      <td>0.0</td>\n",
       "    </tr>\n",
       "    <tr>\n",
       "      <th>2</th>\n",
       "      <td>Afghanistan</td>\n",
       "      <td>2018</td>\n",
       "      <td>ALL COMMODITIES</td>\n",
       "      <td>Re-Export</td>\n",
       "      <td>9.263097e+06</td>\n",
       "      <td>0.0</td>\n",
       "      <td>No Quantity</td>\n",
       "      <td>0.0</td>\n",
       "    </tr>\n",
       "    <tr>\n",
       "      <th>3</th>\n",
       "      <td>Afghanistan</td>\n",
       "      <td>2016</td>\n",
       "      <td>ALL COMMODITIES</td>\n",
       "      <td>Import</td>\n",
       "      <td>6.534140e+09</td>\n",
       "      <td>NaN</td>\n",
       "      <td>No Quantity</td>\n",
       "      <td>NaN</td>\n",
       "    </tr>\n",
       "    <tr>\n",
       "      <th>4</th>\n",
       "      <td>Afghanistan</td>\n",
       "      <td>2016</td>\n",
       "      <td>ALL COMMODITIES</td>\n",
       "      <td>Export</td>\n",
       "      <td>5.964553e+08</td>\n",
       "      <td>NaN</td>\n",
       "      <td>No Quantity</td>\n",
       "      <td>NaN</td>\n",
       "    </tr>\n",
       "  </tbody>\n",
       "</table>\n",
       "</div>"
      ],
      "text/plain": [
       "  Country_or_Area  Year        Commodity       Flow   Trade (USD)  \\\n",
       "0     Afghanistan  2018  ALL COMMODITIES     Import  7.406590e+09   \n",
       "1     Afghanistan  2018  ALL COMMODITIES     Export  8.845045e+08   \n",
       "2     Afghanistan  2018  ALL COMMODITIES  Re-Export  9.263097e+06   \n",
       "3     Afghanistan  2016  ALL COMMODITIES     Import  6.534140e+09   \n",
       "4     Afghanistan  2016  ALL COMMODITIES     Export  5.964553e+08   \n",
       "\n",
       "   Weight (kg) Quantity Name  Quantity  \n",
       "0          NaN   No Quantity       0.0  \n",
       "1          0.0   No Quantity       0.0  \n",
       "2          0.0   No Quantity       0.0  \n",
       "3          NaN   No Quantity       NaN  \n",
       "4          NaN   No Quantity       NaN  "
      ]
     },
     "execution_count": 7,
     "metadata": {},
     "output_type": "execute_result"
    }
   ],
   "source": [
    "df.rename(columns={'Country or Area': 'Country_or_Area'}, inplace=True)\n",
    "df.head()"
   ]
  },
  {
   "cell_type": "code",
   "execution_count": 8,
   "metadata": {},
   "outputs": [
    {
     "data": {
      "text/html": [
       "<div>\n",
       "<style scoped>\n",
       "    .dataframe tbody tr th:only-of-type {\n",
       "        vertical-align: middle;\n",
       "    }\n",
       "\n",
       "    .dataframe tbody tr th {\n",
       "        vertical-align: top;\n",
       "    }\n",
       "\n",
       "    .dataframe thead th {\n",
       "        text-align: right;\n",
       "    }\n",
       "</style>\n",
       "<table border=\"1\" class=\"dataframe\">\n",
       "  <thead>\n",
       "    <tr style=\"text-align: right;\">\n",
       "      <th></th>\n",
       "      <th>Country_or_Area</th>\n",
       "      <th>Year</th>\n",
       "      <th>Commodity</th>\n",
       "      <th>Flow</th>\n",
       "      <th>Trade (USD)</th>\n",
       "    </tr>\n",
       "  </thead>\n",
       "  <tbody>\n",
       "    <tr>\n",
       "      <th>0</th>\n",
       "      <td>Afghanistan</td>\n",
       "      <td>2018</td>\n",
       "      <td>ALL COMMODITIES</td>\n",
       "      <td>Import</td>\n",
       "      <td>7.406590e+09</td>\n",
       "    </tr>\n",
       "    <tr>\n",
       "      <th>1</th>\n",
       "      <td>Afghanistan</td>\n",
       "      <td>2018</td>\n",
       "      <td>ALL COMMODITIES</td>\n",
       "      <td>Export</td>\n",
       "      <td>8.845045e+08</td>\n",
       "    </tr>\n",
       "    <tr>\n",
       "      <th>2</th>\n",
       "      <td>Afghanistan</td>\n",
       "      <td>2018</td>\n",
       "      <td>ALL COMMODITIES</td>\n",
       "      <td>Re-Export</td>\n",
       "      <td>9.263097e+06</td>\n",
       "    </tr>\n",
       "    <tr>\n",
       "      <th>3</th>\n",
       "      <td>Afghanistan</td>\n",
       "      <td>2016</td>\n",
       "      <td>ALL COMMODITIES</td>\n",
       "      <td>Import</td>\n",
       "      <td>6.534140e+09</td>\n",
       "    </tr>\n",
       "    <tr>\n",
       "      <th>4</th>\n",
       "      <td>Afghanistan</td>\n",
       "      <td>2016</td>\n",
       "      <td>ALL COMMODITIES</td>\n",
       "      <td>Export</td>\n",
       "      <td>5.964553e+08</td>\n",
       "    </tr>\n",
       "  </tbody>\n",
       "</table>\n",
       "</div>"
      ],
      "text/plain": [
       "  Country_or_Area  Year        Commodity       Flow   Trade (USD)\n",
       "0     Afghanistan  2018  ALL COMMODITIES     Import  7.406590e+09\n",
       "1     Afghanistan  2018  ALL COMMODITIES     Export  8.845045e+08\n",
       "2     Afghanistan  2018  ALL COMMODITIES  Re-Export  9.263097e+06\n",
       "3     Afghanistan  2016  ALL COMMODITIES     Import  6.534140e+09\n",
       "4     Afghanistan  2016  ALL COMMODITIES     Export  5.964553e+08"
      ]
     },
     "execution_count": 8,
     "metadata": {},
     "output_type": "execute_result"
    }
   ],
   "source": [
    "df1 = df[['Country_or_Area', 'Year', 'Commodity', 'Flow', 'Trade (USD)']]\n",
    "df1.head()"
   ]
  },
  {
   "cell_type": "code",
   "execution_count": 9,
   "metadata": {},
   "outputs": [
    {
     "data": {
      "text/plain": [
       "count    1.014400e+04\n",
       "mean     6.693166e+10\n",
       "std      2.112641e+11\n",
       "min      2.000000e+00\n",
       "25%      4.379713e+08\n",
       "50%      4.022039e+09\n",
       "75%      3.381102e+10\n",
       "max      2.611432e+12\n",
       "Name: Trade (USD), dtype: float64"
      ]
     },
     "execution_count": 9,
     "metadata": {},
     "output_type": "execute_result"
    }
   ],
   "source": [
    "df1['Trade (USD)'].describe()"
   ]
  },
  {
   "cell_type": "code",
   "execution_count": 10,
   "metadata": {},
   "outputs": [
    {
     "data": {
      "text/html": [
       "<div>\n",
       "<style scoped>\n",
       "    .dataframe tbody tr th:only-of-type {\n",
       "        vertical-align: middle;\n",
       "    }\n",
       "\n",
       "    .dataframe tbody tr th {\n",
       "        vertical-align: top;\n",
       "    }\n",
       "\n",
       "    .dataframe thead th {\n",
       "        text-align: right;\n",
       "    }\n",
       "</style>\n",
       "<table border=\"1\" class=\"dataframe\">\n",
       "  <thead>\n",
       "    <tr style=\"text-align: right;\">\n",
       "      <th></th>\n",
       "      <th>Country_or_Area</th>\n",
       "      <th>Commodity</th>\n",
       "      <th>Flow</th>\n",
       "    </tr>\n",
       "  </thead>\n",
       "  <tbody>\n",
       "    <tr>\n",
       "      <th>count</th>\n",
       "      <td>10144</td>\n",
       "      <td>10144</td>\n",
       "      <td>10144</td>\n",
       "    </tr>\n",
       "    <tr>\n",
       "      <th>unique</th>\n",
       "      <td>210</td>\n",
       "      <td>1</td>\n",
       "      <td>4</td>\n",
       "    </tr>\n",
       "    <tr>\n",
       "      <th>top</th>\n",
       "      <td>Canada</td>\n",
       "      <td>ALL COMMODITIES</td>\n",
       "      <td>Import</td>\n",
       "    </tr>\n",
       "    <tr>\n",
       "      <th>freq</th>\n",
       "      <td>98</td>\n",
       "      <td>10144</td>\n",
       "      <td>4173</td>\n",
       "    </tr>\n",
       "  </tbody>\n",
       "</table>\n",
       "</div>"
      ],
      "text/plain": [
       "       Country_or_Area        Commodity    Flow\n",
       "count            10144            10144   10144\n",
       "unique             210                1       4\n",
       "top             Canada  ALL COMMODITIES  Import\n",
       "freq                98            10144    4173"
      ]
     },
     "execution_count": 10,
     "metadata": {},
     "output_type": "execute_result"
    }
   ],
   "source": [
    "df1.describe(include='object')"
   ]
  },
  {
   "cell_type": "markdown",
   "metadata": {},
   "source": [
    "# Missing Values Exploration"
   ]
  },
  {
   "cell_type": "code",
   "execution_count": 11,
   "metadata": {},
   "outputs": [
    {
     "data": {
      "text/plain": [
       "Country_or_Area    0\n",
       "Year               0\n",
       "Commodity          0\n",
       "Flow               0\n",
       "Trade (USD)        0\n",
       "dtype: int64"
      ]
     },
     "execution_count": 11,
     "metadata": {},
     "output_type": "execute_result"
    }
   ],
   "source": [
    "df1.isna().sum()"
   ]
  },
  {
   "cell_type": "code",
   "execution_count": 12,
   "metadata": {},
   "outputs": [
    {
     "data": {
      "text/plain": [
       "Canada         98\n",
       "Thailand       98\n",
       "New Zealand    97\n",
       "Cyprus         95\n",
       "Australia      93\n",
       "               ..\n",
       "Djibouti        3\n",
       "Eritrea         3\n",
       "Cayman Isds     2\n",
       "Tajikistan      2\n",
       "Chad            1\n",
       "Name: Country_or_Area, Length: 210, dtype: int64"
      ]
     },
     "execution_count": 12,
     "metadata": {},
     "output_type": "execute_result"
    }
   ],
   "source": [
    "df1['Country_or_Area'].value_counts()"
   ]
  },
  {
   "cell_type": "code",
   "execution_count": 13,
   "metadata": {},
   "outputs": [
    {
     "data": {
      "text/plain": [
       "Import       4173\n",
       "Export       4156\n",
       "Re-Export    1156\n",
       "Re-Import     659\n",
       "Name: Flow, dtype: int64"
      ]
     },
     "execution_count": 13,
     "metadata": {},
     "output_type": "execute_result"
    }
   ],
   "source": [
    "df1['Flow'].value_counts()"
   ]
  },
  {
   "cell_type": "markdown",
   "metadata": {},
   "source": [
    "# Grouping and Aggregation"
   ]
  },
  {
   "cell_type": "code",
   "execution_count": 14,
   "metadata": {},
   "outputs": [
    {
     "data": {
      "text/html": [
       "<div>\n",
       "<style scoped>\n",
       "    .dataframe tbody tr th:only-of-type {\n",
       "        vertical-align: middle;\n",
       "    }\n",
       "\n",
       "    .dataframe tbody tr th {\n",
       "        vertical-align: top;\n",
       "    }\n",
       "\n",
       "    .dataframe thead th {\n",
       "        text-align: right;\n",
       "    }\n",
       "</style>\n",
       "<table border=\"1\" class=\"dataframe\">\n",
       "  <thead>\n",
       "    <tr style=\"text-align: right;\">\n",
       "      <th></th>\n",
       "      <th>Country_or_Area</th>\n",
       "      <th>Year</th>\n",
       "      <th>Commodity</th>\n",
       "      <th>Flow</th>\n",
       "      <th>Trade (USD)</th>\n",
       "    </tr>\n",
       "  </thead>\n",
       "  <tbody>\n",
       "    <tr>\n",
       "      <th>0</th>\n",
       "      <td>Afghanistan</td>\n",
       "      <td>2018</td>\n",
       "      <td>ALL COMMODITIES</td>\n",
       "      <td>Import</td>\n",
       "      <td>7.406590e+09</td>\n",
       "    </tr>\n",
       "    <tr>\n",
       "      <th>1</th>\n",
       "      <td>Afghanistan</td>\n",
       "      <td>2018</td>\n",
       "      <td>ALL COMMODITIES</td>\n",
       "      <td>Export</td>\n",
       "      <td>8.845045e+08</td>\n",
       "    </tr>\n",
       "    <tr>\n",
       "      <th>2</th>\n",
       "      <td>Afghanistan</td>\n",
       "      <td>2018</td>\n",
       "      <td>ALL COMMODITIES</td>\n",
       "      <td>Re-Export</td>\n",
       "      <td>9.263097e+06</td>\n",
       "    </tr>\n",
       "    <tr>\n",
       "      <th>3</th>\n",
       "      <td>Afghanistan</td>\n",
       "      <td>2016</td>\n",
       "      <td>ALL COMMODITIES</td>\n",
       "      <td>Import</td>\n",
       "      <td>6.534140e+09</td>\n",
       "    </tr>\n",
       "    <tr>\n",
       "      <th>4</th>\n",
       "      <td>Afghanistan</td>\n",
       "      <td>2016</td>\n",
       "      <td>ALL COMMODITIES</td>\n",
       "      <td>Export</td>\n",
       "      <td>5.964553e+08</td>\n",
       "    </tr>\n",
       "    <tr>\n",
       "      <th>...</th>\n",
       "      <td>...</td>\n",
       "      <td>...</td>\n",
       "      <td>...</td>\n",
       "      <td>...</td>\n",
       "      <td>...</td>\n",
       "    </tr>\n",
       "    <tr>\n",
       "      <th>10100</th>\n",
       "      <td>Zimbabwe</td>\n",
       "      <td>2018</td>\n",
       "      <td>ALL COMMODITIES</td>\n",
       "      <td>Import</td>\n",
       "      <td>6.258856e+09</td>\n",
       "    </tr>\n",
       "    <tr>\n",
       "      <th>10101</th>\n",
       "      <td>Zimbabwe</td>\n",
       "      <td>2018</td>\n",
       "      <td>ALL COMMODITIES</td>\n",
       "      <td>Export</td>\n",
       "      <td>4.037203e+09</td>\n",
       "    </tr>\n",
       "    <tr>\n",
       "      <th>10102</th>\n",
       "      <td>Zimbabwe</td>\n",
       "      <td>2017</td>\n",
       "      <td>ALL COMMODITIES</td>\n",
       "      <td>Import</td>\n",
       "      <td>4.962103e+09</td>\n",
       "    </tr>\n",
       "    <tr>\n",
       "      <th>10103</th>\n",
       "      <td>Zimbabwe</td>\n",
       "      <td>2017</td>\n",
       "      <td>ALL COMMODITIES</td>\n",
       "      <td>Export</td>\n",
       "      <td>3.480382e+09</td>\n",
       "    </tr>\n",
       "    <tr>\n",
       "      <th>10104</th>\n",
       "      <td>Zimbabwe</td>\n",
       "      <td>2016</td>\n",
       "      <td>ALL COMMODITIES</td>\n",
       "      <td>Import</td>\n",
       "      <td>5.211577e+09</td>\n",
       "    </tr>\n",
       "  </tbody>\n",
       "</table>\n",
       "<p>1032 rows × 5 columns</p>\n",
       "</div>"
      ],
      "text/plain": [
       "      Country_or_Area  Year        Commodity       Flow   Trade (USD)\n",
       "0         Afghanistan  2018  ALL COMMODITIES     Import  7.406590e+09\n",
       "1         Afghanistan  2018  ALL COMMODITIES     Export  8.845045e+08\n",
       "2         Afghanistan  2018  ALL COMMODITIES  Re-Export  9.263097e+06\n",
       "3         Afghanistan  2016  ALL COMMODITIES     Import  6.534140e+09\n",
       "4         Afghanistan  2016  ALL COMMODITIES     Export  5.964553e+08\n",
       "...               ...   ...              ...        ...           ...\n",
       "10100        Zimbabwe  2018  ALL COMMODITIES     Import  6.258856e+09\n",
       "10101        Zimbabwe  2018  ALL COMMODITIES     Export  4.037203e+09\n",
       "10102        Zimbabwe  2017  ALL COMMODITIES     Import  4.962103e+09\n",
       "10103        Zimbabwe  2017  ALL COMMODITIES     Export  3.480382e+09\n",
       "10104        Zimbabwe  2016  ALL COMMODITIES     Import  5.211577e+09\n",
       "\n",
       "[1032 rows x 5 columns]"
      ]
     },
     "execution_count": 14,
     "metadata": {},
     "output_type": "execute_result"
    }
   ],
   "source": [
    "country_area_grouped = df1.groupby('Country_or_Area')\n",
    "country_area_grouped.head()"
   ]
  },
  {
   "cell_type": "markdown",
   "metadata": {},
   "source": [
    "# Trade (USD) Exploration"
   ]
  },
  {
   "cell_type": "code",
   "execution_count": 15,
   "metadata": {},
   "outputs": [
    {
     "data": {
      "text/html": [
       "<div>\n",
       "<style scoped>\n",
       "    .dataframe tbody tr th:only-of-type {\n",
       "        vertical-align: middle;\n",
       "    }\n",
       "\n",
       "    .dataframe tbody tr th {\n",
       "        vertical-align: top;\n",
       "    }\n",
       "\n",
       "    .dataframe thead th {\n",
       "        text-align: right;\n",
       "    }\n",
       "</style>\n",
       "<table border=\"1\" class=\"dataframe\">\n",
       "  <thead>\n",
       "    <tr style=\"text-align: right;\">\n",
       "      <th></th>\n",
       "      <th>min_trade</th>\n",
       "      <th>mean_trade</th>\n",
       "      <th>max_trade</th>\n",
       "      <th>total_trade</th>\n",
       "    </tr>\n",
       "    <tr>\n",
       "      <th>Country_or_Area</th>\n",
       "      <th></th>\n",
       "      <th></th>\n",
       "      <th></th>\n",
       "      <th></th>\n",
       "    </tr>\n",
       "  </thead>\n",
       "  <tbody>\n",
       "    <tr>\n",
       "      <th>Afghanistan</th>\n",
       "      <td>9.263097e+06</td>\n",
       "      <td>3.204996e+09</td>\n",
       "      <td>8.554414e+09</td>\n",
       "      <td>6.730491e+10</td>\n",
       "    </tr>\n",
       "    <tr>\n",
       "      <th>Albania</th>\n",
       "      <td>6.792000e+03</td>\n",
       "      <td>1.860073e+09</td>\n",
       "      <td>5.941287e+09</td>\n",
       "      <td>1.060241e+11</td>\n",
       "    </tr>\n",
       "    <tr>\n",
       "      <th>Algeria</th>\n",
       "      <td>2.272710e+05</td>\n",
       "      <td>2.962302e+10</td>\n",
       "      <td>7.929759e+10</td>\n",
       "      <td>1.599643e+12</td>\n",
       "    </tr>\n",
       "    <tr>\n",
       "      <th>Andorra</th>\n",
       "      <td>1.301725e+05</td>\n",
       "      <td>5.985092e+08</td>\n",
       "      <td>1.939930e+09</td>\n",
       "      <td>3.471354e+10</td>\n",
       "    </tr>\n",
       "    <tr>\n",
       "      <th>Angola</th>\n",
       "      <td>3.920000e+02</td>\n",
       "      <td>3.173247e+10</td>\n",
       "      <td>7.086308e+10</td>\n",
       "      <td>7.615793e+11</td>\n",
       "    </tr>\n",
       "    <tr>\n",
       "      <th>...</th>\n",
       "      <td>...</td>\n",
       "      <td>...</td>\n",
       "      <td>...</td>\n",
       "      <td>...</td>\n",
       "    </tr>\n",
       "    <tr>\n",
       "      <th>Viet Nam</th>\n",
       "      <td>1.448274e+10</td>\n",
       "      <td>8.322834e+10</td>\n",
       "      <td>2.151186e+11</td>\n",
       "      <td>2.996220e+12</td>\n",
       "    </tr>\n",
       "    <tr>\n",
       "      <th>Wallis and Futuna Isds</th>\n",
       "      <td>3.258690e+07</td>\n",
       "      <td>4.423441e+07</td>\n",
       "      <td>5.720028e+07</td>\n",
       "      <td>3.096408e+08</td>\n",
       "    </tr>\n",
       "    <tr>\n",
       "      <th>Yemen</th>\n",
       "      <td>4.505609e+07</td>\n",
       "      <td>4.752300e+09</td>\n",
       "      <td>1.327293e+10</td>\n",
       "      <td>1.758351e+11</td>\n",
       "    </tr>\n",
       "    <tr>\n",
       "      <th>Zambia</th>\n",
       "      <td>2.757621e+08</td>\n",
       "      <td>4.210576e+09</td>\n",
       "      <td>1.059407e+10</td>\n",
       "      <td>1.978971e+11</td>\n",
       "    </tr>\n",
       "    <tr>\n",
       "      <th>Zimbabwe</th>\n",
       "      <td>1.594229e+07</td>\n",
       "      <td>3.111639e+09</td>\n",
       "      <td>8.599251e+09</td>\n",
       "      <td>1.369121e+11</td>\n",
       "    </tr>\n",
       "  </tbody>\n",
       "</table>\n",
       "<p>210 rows × 4 columns</p>\n",
       "</div>"
      ],
      "text/plain": [
       "                           min_trade    mean_trade     max_trade   total_trade\n",
       "Country_or_Area                                                               \n",
       "Afghanistan             9.263097e+06  3.204996e+09  8.554414e+09  6.730491e+10\n",
       "Albania                 6.792000e+03  1.860073e+09  5.941287e+09  1.060241e+11\n",
       "Algeria                 2.272710e+05  2.962302e+10  7.929759e+10  1.599643e+12\n",
       "Andorra                 1.301725e+05  5.985092e+08  1.939930e+09  3.471354e+10\n",
       "Angola                  3.920000e+02  3.173247e+10  7.086308e+10  7.615793e+11\n",
       "...                              ...           ...           ...           ...\n",
       "Viet Nam                1.448274e+10  8.322834e+10  2.151186e+11  2.996220e+12\n",
       "Wallis and Futuna Isds  3.258690e+07  4.423441e+07  5.720028e+07  3.096408e+08\n",
       "Yemen                   4.505609e+07  4.752300e+09  1.327293e+10  1.758351e+11\n",
       "Zambia                  2.757621e+08  4.210576e+09  1.059407e+10  1.978971e+11\n",
       "Zimbabwe                1.594229e+07  3.111639e+09  8.599251e+09  1.369121e+11\n",
       "\n",
       "[210 rows x 4 columns]"
      ]
     },
     "execution_count": 15,
     "metadata": {},
     "output_type": "execute_result"
    }
   ],
   "source": [
    "agg_trade_stats = country_area_grouped.agg(\n",
    "    min_trade = pd.NamedAgg('Trade (USD)', 'min'),\n",
    "    mean_trade = pd.NamedAgg('Trade (USD)', 'mean'),\n",
    "    max_trade = pd.NamedAgg('Trade (USD)', 'max'),\n",
    "    total_trade = pd.NamedAgg('Trade (USD)', 'sum')\n",
    ")\n",
    "\n",
    "agg_trade_stats"
   ]
  },
  {
   "cell_type": "code",
   "execution_count": 16,
   "metadata": {},
   "outputs": [
    {
     "data": {
      "text/plain": [
       "Country_or_Area\n",
       "USA                     7.466925e+13\n",
       "EU-28                   6.601481e+13\n",
       "China                   5.282041e+13\n",
       "Germany                 4.845993e+13\n",
       "Japan                   3.280613e+13\n",
       "China, Hong Kong SAR    2.567542e+13\n",
       "United Kingdom          2.273016e+13\n",
       "France                  2.269440e+13\n",
       "Canada                  1.911553e+13\n",
       "Italy                   1.883860e+13\n",
       "Name: total_trade, dtype: float64"
      ]
     },
     "execution_count": 16,
     "metadata": {},
     "output_type": "execute_result"
    }
   ],
   "source": [
    "agg_trade_stats['total_trade'].sort_values(ascending=False).head(10)                 # top ten country or area with the highest trade in dollars"
   ]
  },
  {
   "cell_type": "code",
   "execution_count": 17,
   "metadata": {},
   "outputs": [],
   "source": [
    "# helper function for formatting plot y-axis\n",
    "from matplotlib.ticker import FuncFormatter\n",
    "\n",
    "def trillion(x, pos):\n",
    "    'The two args are the value and tick position'\n",
    "    return '%1.1fTn ' % (x * 1e-12)\n",
    "\n",
    "formatter = FuncFormatter(trillion)\n",
    "\n",
    "\n",
    "# helper function to plot horizontal bar chart \n",
    "def plot_hbar(y, width, align='center', xlabel=None, ylabel=None, title=None, color=None):\n",
    "\n",
    "    # Initialize the matplotlib figure\n",
    "    fig, ax = plt.subplots()\n",
    "\n",
    "    # plot bar chart\n",
    "    ax.barh(\n",
    "        y=y, width=width,\n",
    "        align=align\n",
    "    )\n",
    "\n",
    "    # Add informative axis label\n",
    "    ax.set(xlabel=xlabel, ylabel=ylabel, title=title)\n",
    "\n",
    "    # labels read top-to-bottom\n",
    "    ax.invert_yaxis()  \n",
    "\n",
    "    # set axis formatter\n",
    "    ax.xaxis.set_major_formatter(formatter)\n",
    "\n",
    "    # despine x-axis and y-axis\n",
    "    sns.despine(left=True, bottom=True)  "
   ]
  },
  {
   "cell_type": "code",
   "execution_count": 18,
   "metadata": {},
   "outputs": [
    {
     "data": {
      "image/png": "[encoded data removed]",
      "text/plain": [
       "<Figure size 432x288 with 1 Axes>"
      ]
     },
     "metadata": {},
     "output_type": "display_data"
    }
   ],
   "source": [
    "top_10_trade = agg_trade_stats['total_trade'].sort_values(ascending=False).head(10)\n",
    "\n",
    "plot_hbar(y=top_10_trade.keys(), width=top_10_trade.values, \n",
    "          xlabel='Trade (USD)', ylabel='Country or Area', title='Trade of goods , US$, HS 1992, ALL COMMODITIES')"
   ]
  },
  {
   "cell_type": "code",
   "execution_count": 19,
   "metadata": {},
   "outputs": [],
   "source": [
    "# helper function for formatting plot y-axis\n",
    "from matplotlib.ticker import FuncFormatter\n",
    "\n",
    "def billion(x, pos):\n",
    "    'The two args are the value and tick position'\n",
    "    return '%1.1fBn ' % (x * 1e-9)\n",
    "\n",
    "formatter1 = FuncFormatter(billion)\n",
    "\n",
    "# helper function to plot horizontal bar chart \n",
    "def plot_hbar1(y, width, align='center', xlabel=None, ylabel=None, title=None, color=None):\n",
    "\n",
    "    # Initialize the matplotlib figure\n",
    "    fig, ax = plt.subplots()\n",
    "\n",
    "    # plot bar chart\n",
    "    ax.barh(\n",
    "        y=y, width=width,\n",
    "        align=align\n",
    "    )\n",
    "\n",
    "    # Add informative axis label\n",
    "    ax.set(xlabel=xlabel, ylabel=ylabel, title=title)\n",
    "\n",
    "    # set axis formatter\n",
    "    ax.xaxis.set_major_formatter(formatter1)\n",
    "\n",
    "    # despine x-axis and y-axis\n",
    "    sns.despine(left=True, bottom=True)  "
   ]
  },
  {
   "cell_type": "code",
   "execution_count": 20,
   "metadata": {},
   "outputs": [
    {
     "data": {
      "text/plain": [
       "Country_or_Area\n",
       "Tuvalu                    1.037393e+08\n",
       "Chad                      2.151683e+08\n",
       "Wallis and Futuna Isds    3.096408e+08\n",
       "Guinea-Bissau             3.715047e+08\n",
       "Eritrea                   4.404139e+08\n",
       "Montserrat                5.151449e+08\n",
       "Cook Isds                 7.659912e+08\n",
       "Haiti                     9.398224e+08\n",
       "Anguilla                  1.170307e+09\n",
       "Djibouti                  1.217550e+09\n",
       "Name: total_trade, dtype: float64"
      ]
     },
     "execution_count": 20,
     "metadata": {},
     "output_type": "execute_result"
    }
   ],
   "source": [
    "agg_trade_stats['total_trade'].sort_values(ascending=True).head(10)                     # top ten country or area with the lowest trade in dollars"
   ]
  },
  {
   "cell_type": "code",
   "execution_count": 21,
   "metadata": {},
   "outputs": [
    {
     "data": {
      "image/png": "[encoded data removed]",
      "text/plain": [
       "<Figure size 432x288 with 1 Axes>"
      ]
     },
     "metadata": {},
     "output_type": "display_data"
    }
   ],
   "source": [
    "low_10_trade = agg_trade_stats['total_trade'].sort_values(ascending=True).head(10)\n",
    "\n",
    "plot_hbar1(y=low_10_trade.keys(), width=low_10_trade.values, \n",
    "          xlabel='Trade (USD)', ylabel='Country or Area', title='Trade of goods , US$, HS 1992, ALL COMMODITIES')"
   ]
  },
  {
   "cell_type": "markdown",
   "metadata": {},
   "source": [
    "# USA Exploration"
   ]
  },
  {
   "cell_type": "code",
   "execution_count": 22,
   "metadata": {},
   "outputs": [
    {
     "data": {
      "text/html": [
       "<div>\n",
       "<style scoped>\n",
       "    .dataframe tbody tr th:only-of-type {\n",
       "        vertical-align: middle;\n",
       "    }\n",
       "\n",
       "    .dataframe tbody tr th {\n",
       "        vertical-align: top;\n",
       "    }\n",
       "\n",
       "    .dataframe thead th {\n",
       "        text-align: right;\n",
       "    }\n",
       "</style>\n",
       "<table border=\"1\" class=\"dataframe\">\n",
       "  <thead>\n",
       "    <tr style=\"text-align: right;\">\n",
       "      <th></th>\n",
       "      <th>Year</th>\n",
       "      <th>Flow</th>\n",
       "      <th>Trade (USD)</th>\n",
       "    </tr>\n",
       "  </thead>\n",
       "  <tbody>\n",
       "    <tr>\n",
       "      <th>9816</th>\n",
       "      <td>2018</td>\n",
       "      <td>Import</td>\n",
       "      <td>2.611432e+12</td>\n",
       "    </tr>\n",
       "    <tr>\n",
       "      <th>9817</th>\n",
       "      <td>2018</td>\n",
       "      <td>Export</td>\n",
       "      <td>1.665303e+12</td>\n",
       "    </tr>\n",
       "    <tr>\n",
       "      <th>9818</th>\n",
       "      <td>2018</td>\n",
       "      <td>Re-Export</td>\n",
       "      <td>2.520493e+11</td>\n",
       "    </tr>\n",
       "    <tr>\n",
       "      <th>9819</th>\n",
       "      <td>2017</td>\n",
       "      <td>Import</td>\n",
       "      <td>2.405277e+12</td>\n",
       "    </tr>\n",
       "    <tr>\n",
       "      <th>9820</th>\n",
       "      <td>2017</td>\n",
       "      <td>Export</td>\n",
       "      <td>1.545810e+12</td>\n",
       "    </tr>\n",
       "    <tr>\n",
       "      <th>...</th>\n",
       "      <td>...</td>\n",
       "      <td>...</td>\n",
       "      <td>...</td>\n",
       "    </tr>\n",
       "    <tr>\n",
       "      <th>9895</th>\n",
       "      <td>1992</td>\n",
       "      <td>Export</td>\n",
       "      <td>4.473301e+11</td>\n",
       "    </tr>\n",
       "    <tr>\n",
       "      <th>9896</th>\n",
       "      <td>1992</td>\n",
       "      <td>Re-Export</td>\n",
       "      <td>2.245862e+10</td>\n",
       "    </tr>\n",
       "    <tr>\n",
       "      <th>9897</th>\n",
       "      <td>1991</td>\n",
       "      <td>Import</td>\n",
       "      <td>5.089440e+11</td>\n",
       "    </tr>\n",
       "    <tr>\n",
       "      <th>9898</th>\n",
       "      <td>1991</td>\n",
       "      <td>Export</td>\n",
       "      <td>4.215554e+11</td>\n",
       "    </tr>\n",
       "    <tr>\n",
       "      <th>9899</th>\n",
       "      <td>1991</td>\n",
       "      <td>Re-Export</td>\n",
       "      <td>2.057163e+10</td>\n",
       "    </tr>\n",
       "  </tbody>\n",
       "</table>\n",
       "<p>84 rows × 3 columns</p>\n",
       "</div>"
      ],
      "text/plain": [
       "      Year       Flow   Trade (USD)\n",
       "9816  2018     Import  2.611432e+12\n",
       "9817  2018     Export  1.665303e+12\n",
       "9818  2018  Re-Export  2.520493e+11\n",
       "9819  2017     Import  2.405277e+12\n",
       "9820  2017     Export  1.545810e+12\n",
       "...    ...        ...           ...\n",
       "9895  1992     Export  4.473301e+11\n",
       "9896  1992  Re-Export  2.245862e+10\n",
       "9897  1991     Import  5.089440e+11\n",
       "9898  1991     Export  4.215554e+11\n",
       "9899  1991  Re-Export  2.057163e+10\n",
       "\n",
       "[84 rows x 3 columns]"
      ]
     },
     "execution_count": 22,
     "metadata": {},
     "output_type": "execute_result"
    }
   ],
   "source": [
    "df_USA = country_area_grouped[['Year', 'Flow', 'Trade (USD)']].get_group('USA')\n",
    "df_USA"
   ]
  },
  {
   "cell_type": "code",
   "execution_count": 23,
   "metadata": {},
   "outputs": [
    {
     "data": {
      "text/plain": [
       "Text(0.5, 1.0, 'Trade of goods , US$, HS 1992, USA')"
      ]
     },
     "execution_count": 23,
     "metadata": {},
     "output_type": "execute_result"
    },
    {
     "data": {
      "image/png": "[encoded data removed]",
      "text/plain": [
       "<Figure size 432x288 with 1 Axes>"
      ]
     },
     "metadata": {},
     "output_type": "display_data"
    }
   ],
   "source": [
    "# create matplotlib figure\n",
    "fig, ax = plt.subplots()\n",
    "\n",
    "# despine axes\n",
    "sns.despine(fig, left=True, bottom=True)\n",
    "\n",
    "# plot line chart\n",
    "sns.lineplot(\n",
    "    x='Year', y='Trade (USD)',\n",
    "    hue='Flow',\n",
    "    ci=None, \n",
    "    data=df_USA, ax=ax\n",
    ")\n",
    "\n",
    "# format y-axis\n",
    "ax.yaxis.set_major_formatter(formatter)\n",
    "\n",
    "# set plot title\n",
    "ax.set_title('Trade of goods , US$, HS 1992, USA')"
   ]
  }
 ],
 "metadata": {
  "interpreter": {
   "hash": "3fe9daace87ea8cb12e037f7452ad9bcd52f59aa894a611255d1461de3a9065e"
  },
  "kernelspec": {
   "display_name": "Python 3.9.7 64-bit ('DS': conda)",
   "language": "python",
   "name": "python3"
  },
  "language_info": {
   "codemirror_mode": {
    "name": "ipython",
    "version": 3
   },
   "file_extension": ".py",
   "mimetype": "text/x-python",
   "name": "python",
   "nbconvert_exporter": "python",
   "pygments_lexer": "ipython3",
   "version": "3.9.7"
  },
  "orig_nbformat": 4
 },
 "nbformat": 4,
 "nbformat_minor": 2
}
