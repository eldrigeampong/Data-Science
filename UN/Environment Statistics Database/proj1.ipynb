{
 "cells": [
  {
   "cell_type": "markdown",
   "metadata": {},
   "source": [
    "# Land"
   ]
  },
  {
   "cell_type": "code",
   "execution_count": 1,
   "metadata": {},
   "outputs": [],
   "source": [
    "import numpy as np\n",
    "import pandas as pd\n",
    "import matplotlib.pyplot as plt\n",
    "import seaborn as sns\n",
    "import os\n",
    "import warnings"
   ]
  },
  {
   "cell_type": "markdown",
   "metadata": {},
   "source": [
    "# Options and Settings"
   ]
  },
  {
   "cell_type": "code",
   "execution_count": 2,
   "metadata": {},
   "outputs": [],
   "source": [
    "%matplotlib inline\n",
    "plt.style.use('ggplot')\n",
    "plt.rcParams['figure.autolayout'] = True\n",
    "plt.rcParams['figure.figsize'] = [12, 9]\n",
    "plt.rcParams['font.size'] = 12\n",
    "path = os.getcwd()                                         # get current working directory\n",
    "warnings.simplefilter('ignore')"
   ]
  },
  {
   "cell_type": "markdown",
   "metadata": {},
   "source": [
    "# Import Data"
   ]
  },
  {
   "cell_type": "code",
   "execution_count": 3,
   "metadata": {},
   "outputs": [],
   "source": [
    "filepath = os.path.join(path, 'datasets', 'Land.csv')\n",
    "df = pd.read_csv(filepath)"
   ]
  },
  {
   "cell_type": "markdown",
   "metadata": {},
   "source": [
    "# Head and Tail"
   ]
  },
  {
   "cell_type": "code",
   "execution_count": 4,
   "metadata": {},
   "outputs": [
    {
     "data": {
      "text/html": [
       "<div>\n",
       "<style scoped>\n",
       "    .dataframe tbody tr th:only-of-type {\n",
       "        vertical-align: middle;\n",
       "    }\n",
       "\n",
       "    .dataframe tbody tr th {\n",
       "        vertical-align: top;\n",
       "    }\n",
       "\n",
       "    .dataframe thead th {\n",
       "        text-align: right;\n",
       "    }\n",
       "</style>\n",
       "<table border=\"1\" class=\"dataframe\">\n",
       "  <thead>\n",
       "    <tr style=\"text-align: right;\">\n",
       "      <th></th>\n",
       "      <th>Region/Country/Area</th>\n",
       "      <th>Unnamed: 1</th>\n",
       "      <th>Year</th>\n",
       "      <th>Series</th>\n",
       "      <th>Value</th>\n",
       "      <th>Footnotes</th>\n",
       "      <th>Source</th>\n",
       "    </tr>\n",
       "  </thead>\n",
       "  <tbody>\n",
       "    <tr>\n",
       "      <th>0</th>\n",
       "      <td>1</td>\n",
       "      <td>Total, all countries or areas</td>\n",
       "      <td>2005</td>\n",
       "      <td>Land area (thousand hectares)</td>\n",
       "      <td>13010620.0</td>\n",
       "      <td>NaN</td>\n",
       "      <td>Food and Agriculture Organization of the Unite...</td>\n",
       "    </tr>\n",
       "    <tr>\n",
       "      <th>1</th>\n",
       "      <td>1</td>\n",
       "      <td>Total, all countries or areas</td>\n",
       "      <td>2005</td>\n",
       "      <td>Arable land (thousand hectares)</td>\n",
       "      <td>1365738.0</td>\n",
       "      <td>NaN</td>\n",
       "      <td>Food and Agriculture Organization of the Unite...</td>\n",
       "    </tr>\n",
       "    <tr>\n",
       "      <th>2</th>\n",
       "      <td>1</td>\n",
       "      <td>Total, all countries or areas</td>\n",
       "      <td>2005</td>\n",
       "      <td>Permanent crops (thousand hectares)</td>\n",
       "      <td>145681.0</td>\n",
       "      <td>NaN</td>\n",
       "      <td>Food and Agriculture Organization of the Unite...</td>\n",
       "    </tr>\n",
       "    <tr>\n",
       "      <th>3</th>\n",
       "      <td>1</td>\n",
       "      <td>Total, all countries or areas</td>\n",
       "      <td>2005</td>\n",
       "      <td>Forest cover (thousand hectares)</td>\n",
       "      <td>4132183.0</td>\n",
       "      <td>NaN</td>\n",
       "      <td>Food and Agriculture Organization of the Unite...</td>\n",
       "    </tr>\n",
       "    <tr>\n",
       "      <th>4</th>\n",
       "      <td>1</td>\n",
       "      <td>Total, all countries or areas</td>\n",
       "      <td>2005</td>\n",
       "      <td>Arable land (% of total land area)</td>\n",
       "      <td>10.5</td>\n",
       "      <td>NaN</td>\n",
       "      <td>Food and Agriculture Organization of the Unite...</td>\n",
       "    </tr>\n",
       "    <tr>\n",
       "      <th>...</th>\n",
       "      <td>...</td>\n",
       "      <td>...</td>\n",
       "      <td>...</td>\n",
       "      <td>...</td>\n",
       "      <td>...</td>\n",
       "      <td>...</td>\n",
       "      <td>...</td>\n",
       "    </tr>\n",
       "    <tr>\n",
       "      <th>6278</th>\n",
       "      <td>97</td>\n",
       "      <td>European Union (EU)</td>\n",
       "      <td>2018</td>\n",
       "      <td>Permanent crops (thousand hectares)</td>\n",
       "      <td>11990.0</td>\n",
       "      <td>NaN</td>\n",
       "      <td>Food and Agriculture Organization of the Unite...</td>\n",
       "    </tr>\n",
       "    <tr>\n",
       "      <th>6279</th>\n",
       "      <td>97</td>\n",
       "      <td>European Union (EU)</td>\n",
       "      <td>2018</td>\n",
       "      <td>Forest cover (thousand hectares)</td>\n",
       "      <td>162040.0</td>\n",
       "      <td>NaN</td>\n",
       "      <td>Food and Agriculture Organization of the Unite...</td>\n",
       "    </tr>\n",
       "    <tr>\n",
       "      <th>6280</th>\n",
       "      <td>97</td>\n",
       "      <td>European Union (EU)</td>\n",
       "      <td>2018</td>\n",
       "      <td>Arable land (% of total land area)</td>\n",
       "      <td>24.8</td>\n",
       "      <td>NaN</td>\n",
       "      <td>Food and Agriculture Organization of the Unite...</td>\n",
       "    </tr>\n",
       "    <tr>\n",
       "      <th>6281</th>\n",
       "      <td>97</td>\n",
       "      <td>European Union (EU)</td>\n",
       "      <td>2018</td>\n",
       "      <td>Permanent crops (% of total land area)</td>\n",
       "      <td>2.8</td>\n",
       "      <td>NaN</td>\n",
       "      <td>Food and Agriculture Organization of the Unite...</td>\n",
       "    </tr>\n",
       "    <tr>\n",
       "      <th>6282</th>\n",
       "      <td>97</td>\n",
       "      <td>European Union (EU)</td>\n",
       "      <td>2018</td>\n",
       "      <td>Forest cover (% of total land area)</td>\n",
       "      <td>38.2</td>\n",
       "      <td>NaN</td>\n",
       "      <td>Food and Agriculture Organization of the Unite...</td>\n",
       "    </tr>\n",
       "  </tbody>\n",
       "</table>\n",
       "<p>6283 rows × 7 columns</p>\n",
       "</div>"
      ],
      "text/plain": [
       "      Region/Country/Area                     Unnamed: 1  Year  \\\n",
       "0                       1  Total, all countries or areas  2005   \n",
       "1                       1  Total, all countries or areas  2005   \n",
       "2                       1  Total, all countries or areas  2005   \n",
       "3                       1  Total, all countries or areas  2005   \n",
       "4                       1  Total, all countries or areas  2005   \n",
       "...                   ...                            ...   ...   \n",
       "6278                   97            European Union (EU)  2018   \n",
       "6279                   97            European Union (EU)  2018   \n",
       "6280                   97            European Union (EU)  2018   \n",
       "6281                   97            European Union (EU)  2018   \n",
       "6282                   97            European Union (EU)  2018   \n",
       "\n",
       "                                      Series       Value Footnotes  \\\n",
       "0              Land area (thousand hectares)  13010620.0       NaN   \n",
       "1            Arable land (thousand hectares)   1365738.0       NaN   \n",
       "2        Permanent crops (thousand hectares)    145681.0       NaN   \n",
       "3           Forest cover (thousand hectares)   4132183.0       NaN   \n",
       "4         Arable land (% of total land area)        10.5       NaN   \n",
       "...                                      ...         ...       ...   \n",
       "6278     Permanent crops (thousand hectares)     11990.0       NaN   \n",
       "6279        Forest cover (thousand hectares)    162040.0       NaN   \n",
       "6280      Arable land (% of total land area)        24.8       NaN   \n",
       "6281  Permanent crops (% of total land area)         2.8       NaN   \n",
       "6282     Forest cover (% of total land area)        38.2       NaN   \n",
       "\n",
       "                                                 Source  \n",
       "0     Food and Agriculture Organization of the Unite...  \n",
       "1     Food and Agriculture Organization of the Unite...  \n",
       "2     Food and Agriculture Organization of the Unite...  \n",
       "3     Food and Agriculture Organization of the Unite...  \n",
       "4     Food and Agriculture Organization of the Unite...  \n",
       "...                                                 ...  \n",
       "6278  Food and Agriculture Organization of the Unite...  \n",
       "6279  Food and Agriculture Organization of the Unite...  \n",
       "6280  Food and Agriculture Organization of the Unite...  \n",
       "6281  Food and Agriculture Organization of the Unite...  \n",
       "6282  Food and Agriculture Organization of the Unite...  \n",
       "\n",
       "[6283 rows x 7 columns]"
      ]
     },
     "execution_count": 4,
     "metadata": {},
     "output_type": "execute_result"
    }
   ],
   "source": [
    "df"
   ]
  },
  {
   "cell_type": "code",
   "execution_count": 5,
   "metadata": {},
   "outputs": [
    {
     "data": {
      "text/plain": [
       "(6283, 7)"
      ]
     },
     "execution_count": 5,
     "metadata": {},
     "output_type": "execute_result"
    }
   ],
   "source": [
    "df.shape"
   ]
  },
  {
   "cell_type": "code",
   "execution_count": 6,
   "metadata": {},
   "outputs": [
    {
     "name": "stdout",
     "output_type": "stream",
     "text": [
      "<class 'pandas.core.frame.DataFrame'>\n",
      "RangeIndex: 6283 entries, 0 to 6282\n",
      "Data columns (total 7 columns):\n",
      " #   Column               Non-Null Count  Dtype  \n",
      "---  ------               --------------  -----  \n",
      " 0   Region/Country/Area  6283 non-null   int64  \n",
      " 1   Unnamed: 1           6283 non-null   object \n",
      " 2   Year                 6283 non-null   int64  \n",
      " 3   Series               6283 non-null   object \n",
      " 4   Value                6283 non-null   float64\n",
      " 5   Footnotes            2920 non-null   object \n",
      " 6   Source               6283 non-null   object \n",
      "dtypes: float64(1), int64(2), object(4)\n",
      "memory usage: 343.7+ KB\n"
     ]
    }
   ],
   "source": [
    "df.info()"
   ]
  },
  {
   "cell_type": "code",
   "execution_count": 7,
   "metadata": {},
   "outputs": [
    {
     "data": {
      "text/html": [
       "<div>\n",
       "<style scoped>\n",
       "    .dataframe tbody tr th:only-of-type {\n",
       "        vertical-align: middle;\n",
       "    }\n",
       "\n",
       "    .dataframe tbody tr th {\n",
       "        vertical-align: top;\n",
       "    }\n",
       "\n",
       "    .dataframe thead th {\n",
       "        text-align: right;\n",
       "    }\n",
       "</style>\n",
       "<table border=\"1\" class=\"dataframe\">\n",
       "  <thead>\n",
       "    <tr style=\"text-align: right;\">\n",
       "      <th></th>\n",
       "      <th>Code</th>\n",
       "      <th>Region/Country/Area</th>\n",
       "      <th>Year</th>\n",
       "      <th>Series</th>\n",
       "      <th>Value</th>\n",
       "      <th>Footnotes</th>\n",
       "      <th>Source</th>\n",
       "    </tr>\n",
       "  </thead>\n",
       "  <tbody>\n",
       "    <tr>\n",
       "      <th>0</th>\n",
       "      <td>1</td>\n",
       "      <td>Total, all countries or areas</td>\n",
       "      <td>2005</td>\n",
       "      <td>Land area (thousand hectares)</td>\n",
       "      <td>13010620.0</td>\n",
       "      <td>NaN</td>\n",
       "      <td>Food and Agriculture Organization of the Unite...</td>\n",
       "    </tr>\n",
       "    <tr>\n",
       "      <th>1</th>\n",
       "      <td>1</td>\n",
       "      <td>Total, all countries or areas</td>\n",
       "      <td>2005</td>\n",
       "      <td>Arable land (thousand hectares)</td>\n",
       "      <td>1365738.0</td>\n",
       "      <td>NaN</td>\n",
       "      <td>Food and Agriculture Organization of the Unite...</td>\n",
       "    </tr>\n",
       "    <tr>\n",
       "      <th>2</th>\n",
       "      <td>1</td>\n",
       "      <td>Total, all countries or areas</td>\n",
       "      <td>2005</td>\n",
       "      <td>Permanent crops (thousand hectares)</td>\n",
       "      <td>145681.0</td>\n",
       "      <td>NaN</td>\n",
       "      <td>Food and Agriculture Organization of the Unite...</td>\n",
       "    </tr>\n",
       "    <tr>\n",
       "      <th>3</th>\n",
       "      <td>1</td>\n",
       "      <td>Total, all countries or areas</td>\n",
       "      <td>2005</td>\n",
       "      <td>Forest cover (thousand hectares)</td>\n",
       "      <td>4132183.0</td>\n",
       "      <td>NaN</td>\n",
       "      <td>Food and Agriculture Organization of the Unite...</td>\n",
       "    </tr>\n",
       "    <tr>\n",
       "      <th>4</th>\n",
       "      <td>1</td>\n",
       "      <td>Total, all countries or areas</td>\n",
       "      <td>2005</td>\n",
       "      <td>Arable land (% of total land area)</td>\n",
       "      <td>10.5</td>\n",
       "      <td>NaN</td>\n",
       "      <td>Food and Agriculture Organization of the Unite...</td>\n",
       "    </tr>\n",
       "  </tbody>\n",
       "</table>\n",
       "</div>"
      ],
      "text/plain": [
       "   Code            Region/Country/Area  Year  \\\n",
       "0     1  Total, all countries or areas  2005   \n",
       "1     1  Total, all countries or areas  2005   \n",
       "2     1  Total, all countries or areas  2005   \n",
       "3     1  Total, all countries or areas  2005   \n",
       "4     1  Total, all countries or areas  2005   \n",
       "\n",
       "                                Series       Value Footnotes  \\\n",
       "0        Land area (thousand hectares)  13010620.0       NaN   \n",
       "1      Arable land (thousand hectares)   1365738.0       NaN   \n",
       "2  Permanent crops (thousand hectares)    145681.0       NaN   \n",
       "3     Forest cover (thousand hectares)   4132183.0       NaN   \n",
       "4   Arable land (% of total land area)        10.5       NaN   \n",
       "\n",
       "                                              Source  \n",
       "0  Food and Agriculture Organization of the Unite...  \n",
       "1  Food and Agriculture Organization of the Unite...  \n",
       "2  Food and Agriculture Organization of the Unite...  \n",
       "3  Food and Agriculture Organization of the Unite...  \n",
       "4  Food and Agriculture Organization of the Unite...  "
      ]
     },
     "execution_count": 7,
     "metadata": {},
     "output_type": "execute_result"
    }
   ],
   "source": [
    "df.rename(                                                               # rename columns\n",
    "    columns={\n",
    "        'Region/Country/Area': 'Code', \n",
    "        'Unnamed: 1': 'Region/Country/Area'}, inplace=True)\n",
    "\n",
    "df.head()    "
   ]
  },
  {
   "cell_type": "code",
   "execution_count": 8,
   "metadata": {},
   "outputs": [],
   "source": [
    "df.drop(columns=['Footnotes', 'Source'], inplace=True)                      # drop footnotes and source columns"
   ]
  },
  {
   "cell_type": "code",
   "execution_count": 9,
   "metadata": {},
   "outputs": [
    {
     "data": {
      "text/html": [
       "<div>\n",
       "<style scoped>\n",
       "    .dataframe tbody tr th:only-of-type {\n",
       "        vertical-align: middle;\n",
       "    }\n",
       "\n",
       "    .dataframe tbody tr th {\n",
       "        vertical-align: top;\n",
       "    }\n",
       "\n",
       "    .dataframe thead th {\n",
       "        text-align: right;\n",
       "    }\n",
       "</style>\n",
       "<table border=\"1\" class=\"dataframe\">\n",
       "  <thead>\n",
       "    <tr style=\"text-align: right;\">\n",
       "      <th></th>\n",
       "      <th>Code</th>\n",
       "      <th>Region/Country/Area</th>\n",
       "      <th>Year</th>\n",
       "      <th>Series</th>\n",
       "      <th>Value</th>\n",
       "    </tr>\n",
       "  </thead>\n",
       "  <tbody>\n",
       "    <tr>\n",
       "      <th>0</th>\n",
       "      <td>1</td>\n",
       "      <td>Total, all countries or areas</td>\n",
       "      <td>2005</td>\n",
       "      <td>Land area (thousand hectares)</td>\n",
       "      <td>13010620.0</td>\n",
       "    </tr>\n",
       "    <tr>\n",
       "      <th>1</th>\n",
       "      <td>1</td>\n",
       "      <td>Total, all countries or areas</td>\n",
       "      <td>2005</td>\n",
       "      <td>Arable land (thousand hectares)</td>\n",
       "      <td>1365738.0</td>\n",
       "    </tr>\n",
       "    <tr>\n",
       "      <th>2</th>\n",
       "      <td>1</td>\n",
       "      <td>Total, all countries or areas</td>\n",
       "      <td>2005</td>\n",
       "      <td>Permanent crops (thousand hectares)</td>\n",
       "      <td>145681.0</td>\n",
       "    </tr>\n",
       "    <tr>\n",
       "      <th>3</th>\n",
       "      <td>1</td>\n",
       "      <td>Total, all countries or areas</td>\n",
       "      <td>2005</td>\n",
       "      <td>Forest cover (thousand hectares)</td>\n",
       "      <td>4132183.0</td>\n",
       "    </tr>\n",
       "    <tr>\n",
       "      <th>4</th>\n",
       "      <td>1</td>\n",
       "      <td>Total, all countries or areas</td>\n",
       "      <td>2005</td>\n",
       "      <td>Arable land (% of total land area)</td>\n",
       "      <td>10.5</td>\n",
       "    </tr>\n",
       "  </tbody>\n",
       "</table>\n",
       "</div>"
      ],
      "text/plain": [
       "   Code            Region/Country/Area  Year  \\\n",
       "0     1  Total, all countries or areas  2005   \n",
       "1     1  Total, all countries or areas  2005   \n",
       "2     1  Total, all countries or areas  2005   \n",
       "3     1  Total, all countries or areas  2005   \n",
       "4     1  Total, all countries or areas  2005   \n",
       "\n",
       "                                Series       Value  \n",
       "0        Land area (thousand hectares)  13010620.0  \n",
       "1      Arable land (thousand hectares)   1365738.0  \n",
       "2  Permanent crops (thousand hectares)    145681.0  \n",
       "3     Forest cover (thousand hectares)   4132183.0  \n",
       "4   Arable land (% of total land area)        10.5  "
      ]
     },
     "execution_count": 9,
     "metadata": {},
     "output_type": "execute_result"
    }
   ],
   "source": [
    "df.head()"
   ]
  },
  {
   "cell_type": "code",
   "execution_count": 10,
   "metadata": {},
   "outputs": [
    {
     "data": {
      "text/html": [
       "<div>\n",
       "<style scoped>\n",
       "    .dataframe tbody tr th:only-of-type {\n",
       "        vertical-align: middle;\n",
       "    }\n",
       "\n",
       "    .dataframe tbody tr th {\n",
       "        vertical-align: top;\n",
       "    }\n",
       "\n",
       "    .dataframe thead th {\n",
       "        text-align: right;\n",
       "    }\n",
       "</style>\n",
       "<table border=\"1\" class=\"dataframe\">\n",
       "  <thead>\n",
       "    <tr style=\"text-align: right;\">\n",
       "      <th></th>\n",
       "      <th>Region/Country/Area</th>\n",
       "      <th>Series</th>\n",
       "    </tr>\n",
       "  </thead>\n",
       "  <tbody>\n",
       "    <tr>\n",
       "      <th>count</th>\n",
       "      <td>6283</td>\n",
       "      <td>6283</td>\n",
       "    </tr>\n",
       "    <tr>\n",
       "      <th>unique</th>\n",
       "      <td>279</td>\n",
       "      <td>8</td>\n",
       "    </tr>\n",
       "    <tr>\n",
       "      <th>top</th>\n",
       "      <td>Total, all countries or areas</td>\n",
       "      <td>Important sites for terrestrial biodiversity p...</td>\n",
       "    </tr>\n",
       "    <tr>\n",
       "      <th>freq</th>\n",
       "      <td>25</td>\n",
       "      <td>992</td>\n",
       "    </tr>\n",
       "  </tbody>\n",
       "</table>\n",
       "</div>"
      ],
      "text/plain": [
       "                  Region/Country/Area  \\\n",
       "count                            6283   \n",
       "unique                            279   \n",
       "top     Total, all countries or areas   \n",
       "freq                               25   \n",
       "\n",
       "                                                   Series  \n",
       "count                                                6283  \n",
       "unique                                                  8  \n",
       "top     Important sites for terrestrial biodiversity p...  \n",
       "freq                                                  992  "
      ]
     },
     "execution_count": 10,
     "metadata": {},
     "output_type": "execute_result"
    }
   ],
   "source": [
    "df.describe(include='object')                                               "
   ]
  },
  {
   "cell_type": "code",
   "execution_count": 11,
   "metadata": {},
   "outputs": [
    {
     "data": {
      "text/plain": [
       "array(['Total, all countries or areas', 'Africa', 'Northern Africa',\n",
       "       'Sub-Saharan Africa', 'Eastern Africa', 'Middle Africa',\n",
       "       'Southern Africa', 'Western Africa', 'Americas',\n",
       "       'Northern America', 'Latin America & the Caribbean', 'Caribbean',\n",
       "       'Central America', 'South America', 'Asia', 'Central Asia',\n",
       "       'Eastern Asia', 'South-eastern Asia', 'Southern Asia',\n",
       "       'Western Asia', 'Europe', 'Eastern Europe', 'Northern Europe',\n",
       "       'Southern Europe', 'Western Europe', 'Oceania',\n",
       "       'Australia and New Zealand', 'Melanesia', 'Micronesia',\n",
       "       'Polynesia', 'Afghanistan', 'Albania', 'Algeria', 'American Samoa',\n",
       "       'Andorra', 'Angola', 'Anguilla', 'Antigua and Barbuda',\n",
       "       'Argentina', 'Armenia', 'Aruba', 'Australia', 'Austria',\n",
       "       'Azerbaijan', 'Bahamas', 'Bahrain', 'Bangladesh', 'Barbados',\n",
       "       'Belarus', 'Belgium', 'Belize', 'Benin', 'Bermuda', 'Bhutan',\n",
       "       'Bolivia (Plurin. State of)', 'Bonaire, St. Eustatius & Saba',\n",
       "       'Bosnia and Herzegovina', 'Botswana', 'Brazil',\n",
       "       'British Indian Ocean Terr.', 'British Virgin Islands',\n",
       "       'Brunei Darussalam', 'Bulgaria', 'Burkina Faso', 'Burundi',\n",
       "       'Cabo Verde', 'Cambodia', 'Cameroon', 'Canada', 'Cayman Islands',\n",
       "       'Central African Republic', 'Chad', 'Channel Islands', 'Chile',\n",
       "       'China', 'China, Hong Kong SAR', 'China, Macao SAR',\n",
       "       'Christmas Island', 'Cocos (Keeling) Islands', 'Colombia',\n",
       "       'Comoros', 'Congo', 'Cook Islands', 'Costa Rica', 'C�te d�Ivoire',\n",
       "       'Croatia', 'Cuba', 'Cura�ao', 'Cyprus', 'Czechia',\n",
       "       \"Dem. People's Rep. Korea\", 'Dem. Rep. of the Congo', 'Denmark',\n",
       "       'Djibouti', 'Dominica', 'Dominican Republic', 'Ecuador', 'Egypt',\n",
       "       'El Salvador', 'Equatorial Guinea', 'Eritrea', 'Estonia',\n",
       "       'Eswatini', 'Ethiopia', 'Falkland Islands (Malvinas)',\n",
       "       'Faroe Islands', 'Fiji', 'Finland', 'France', 'French Guiana',\n",
       "       'French Polynesia', 'French Southern Territories', 'Gabon',\n",
       "       'Gambia', 'Georgia', 'Germany', 'Ghana', 'Gibraltar', 'Greece',\n",
       "       'Greenland', 'Grenada', 'Guadeloupe', 'Guam', 'Guatemala',\n",
       "       'Guinea', 'Guinea-Bissau', 'Guyana', 'Haiti',\n",
       "       'Heard Is. and McDonald Is.', 'Holy See', 'Honduras', 'Hungary',\n",
       "       'Iceland', 'India', 'Indonesia', 'Iran (Islamic Republic of)',\n",
       "       'Iraq', 'Ireland', 'Isle of Man', 'Israel', 'Italy', 'Jamaica',\n",
       "       'Japan', 'Jordan', 'Kazakhstan', 'Kenya', 'Kiribati', 'Kuwait',\n",
       "       'Kyrgyzstan', \"Lao People's Dem. Rep.\", 'Latvia', 'Lebanon',\n",
       "       'Lesotho', 'Liberia', 'Libya', 'Liechtenstein', 'Lithuania',\n",
       "       'Luxembourg', 'Madagascar', 'Malawi', 'Malaysia', 'Maldives',\n",
       "       'Mali', 'Malta', 'Marshall Islands', 'Martinique', 'Mauritania',\n",
       "       'Mauritius', 'Mayotte', 'Mexico', 'Micronesia (Fed. States of)',\n",
       "       'Monaco', 'Mongolia', 'Montenegro', 'Montserrat', 'Morocco',\n",
       "       'Mozambique', 'Myanmar', 'Namibia', 'Nauru', 'Nepal',\n",
       "       'Netherlands', 'Netherlands Antilles [former]', 'New Caledonia',\n",
       "       'New Zealand', 'Nicaragua', 'Niger', 'Nigeria', 'Niue',\n",
       "       'Norfolk Island', 'North Macedonia', 'Northern Mariana Islands',\n",
       "       'Norway', 'Oman', 'Other non-specified areas', 'Pakistan', 'Palau',\n",
       "       'Panama', 'Papua New Guinea', 'Paraguay', 'Peru', 'Philippines',\n",
       "       'Pitcairn', 'Poland', 'Portugal', 'Puerto Rico', 'Qatar',\n",
       "       'Republic of Korea', 'Republic of Moldova', 'R�union', 'Romania',\n",
       "       'Russian Federation', 'Rwanda', 'Saint Barth�lemy', 'Saint Helena',\n",
       "       'Saint Kitts and Nevis', 'Saint Lucia',\n",
       "       'Saint Martin (French part)', 'Saint Pierre and Miquelon',\n",
       "       'Saint Vincent & Grenadines', 'Samoa', 'San Marino',\n",
       "       'Sao Tome and Principe', 'Saudi Arabia', 'Senegal', 'Serbia',\n",
       "       'Serbia and Monten. [former]', 'Seychelles', 'Sierra Leone',\n",
       "       'Singapore', 'Sint Maarten (Dutch part)', 'Slovakia', 'Slovenia',\n",
       "       'Solomon Islands', 'Somalia', 'South Africa',\n",
       "       'South Georgia & Sandwich Is.', 'South Sudan', 'Spain',\n",
       "       'Sri Lanka', 'State of Palestine', 'Sudan', 'Sudan [former]',\n",
       "       'Suriname', 'Svalbard and Jan Mayen Is.', 'Sweden', 'Switzerland',\n",
       "       'Syrian Arab Republic', 'Tajikistan', 'Thailand', 'Timor-Leste',\n",
       "       'Togo', 'Tokelau', 'Tonga', 'Trinidad and Tobago', 'Tunisia',\n",
       "       'Turkey', 'Turkmenistan', 'Turks and Caicos Islands', 'Tuvalu',\n",
       "       'Uganda', 'Ukraine', 'United Arab Emirates', 'United Kingdom',\n",
       "       'United Rep. of Tanzania', 'U.S. Minor Outlying islands',\n",
       "       'United States of America', 'United States Virgin Islands',\n",
       "       'Uruguay', 'Uzbekistan', 'Vanuatu', 'Venezuela (Boliv. Rep. of)',\n",
       "       'Viet Nam', 'Wallis and Futuna Islands', 'Western Sahara', 'Yemen',\n",
       "       'Zambia', 'Zimbabwe', 'European Union (EU)'], dtype=object)"
      ]
     },
     "execution_count": 11,
     "metadata": {},
     "output_type": "execute_result"
    }
   ],
   "source": [
    "df['Region/Country/Area'].unique()"
   ]
  },
  {
   "cell_type": "code",
   "execution_count": 12,
   "metadata": {},
   "outputs": [
    {
     "data": {
      "text/plain": [
       "2018    2018\n",
       "2010    2011\n",
       "2005    2004\n",
       "2020     250\n",
       "Name: Year, dtype: int64"
      ]
     },
     "execution_count": 12,
     "metadata": {},
     "output_type": "execute_result"
    }
   ],
   "source": [
    "df['Year'].value_counts()"
   ]
  },
  {
   "cell_type": "code",
   "execution_count": 13,
   "metadata": {},
   "outputs": [
    {
     "data": {
      "text/plain": [
       "Important sites for terrestrial biodiversity protected (% of total sites protected)    992\n",
       "Land area (thousand hectares)                                                          793\n",
       "Forest cover (thousand hectares)                                                       784\n",
       "Forest cover (% of total land area)                                                    784\n",
       "Arable land (thousand hectares)                                                        751\n",
       "Arable land (% of total land area)                                                     751\n",
       "Permanent crops (thousand hectares)                                                    714\n",
       "Permanent crops (% of total land area)                                                 714\n",
       "Name: Series, dtype: int64"
      ]
     },
     "execution_count": 13,
     "metadata": {},
     "output_type": "execute_result"
    }
   ],
   "source": [
    "df['Series'].value_counts()"
   ]
  },
  {
   "cell_type": "code",
   "execution_count": 14,
   "metadata": {},
   "outputs": [
    {
     "data": {
      "text/plain": [
       "1      25\n",
       "462    25\n",
       "470    25\n",
       "584    25\n",
       "474    25\n",
       "Name: Code, dtype: int64"
      ]
     },
     "execution_count": 14,
     "metadata": {},
     "output_type": "execute_result"
    }
   ],
   "source": [
    "df['Code'].value_counts().head()"
   ]
  },
  {
   "cell_type": "markdown",
   "metadata": {},
   "source": [
    "# Data Cleaning"
   ]
  },
  {
   "cell_type": "code",
   "execution_count": 15,
   "metadata": {},
   "outputs": [
    {
     "data": {
      "text/plain": [
       "array(['Total, all countries or areas', 'Africa', 'Northern Africa',\n",
       "       'Sub-Saharan Africa', 'Eastern Africa', 'Middle Africa',\n",
       "       'Southern Africa', 'Western Africa', 'Americas',\n",
       "       'Northern America', 'Latin America & the Caribbean', 'Caribbean',\n",
       "       'Central America', 'South America', 'Asia', 'Central Asia',\n",
       "       'Eastern Asia', 'South-eastern Asia', 'Southern Asia',\n",
       "       'Western Asia', 'Europe', 'Eastern Europe', 'Northern Europe',\n",
       "       'Southern Europe', 'Western Europe', 'Oceania',\n",
       "       'Australia and New Zealand', 'Melanesia', 'Micronesia',\n",
       "       'Polynesia', 'Afghanistan', 'Albania', 'Algeria', 'American Samoa',\n",
       "       'Andorra', 'Angola', 'Anguilla', 'Antigua and Barbuda',\n",
       "       'Argentina', 'Armenia', 'Aruba', 'Australia', 'Austria',\n",
       "       'Azerbaijan', 'Bahamas', 'Bahrain', 'Bangladesh', 'Barbados',\n",
       "       'Belarus', 'Belgium', 'Belize', 'Benin', 'Bermuda', 'Bhutan',\n",
       "       'Bolivia (Plurin. State of)', 'Bonaire, St. Eustatius & Saba',\n",
       "       'Bosnia and Herzegovina', 'Botswana', 'Brazil',\n",
       "       'British Indian Ocean Terr.', 'British Virgin Islands',\n",
       "       'Brunei Darussalam', 'Bulgaria', 'Burkina Faso', 'Burundi',\n",
       "       'Cabo Verde', 'Cambodia', 'Cameroon', 'Canada', 'Cayman Islands',\n",
       "       'Central African Republic', 'Chad', 'Channel Islands', 'Chile',\n",
       "       'China', 'China, Hong Kong SAR', 'China, Macao SAR',\n",
       "       'Christmas Island', 'Cocos (Keeling) Islands', 'Colombia',\n",
       "       'Comoros', 'Congo', 'Cook Islands', 'Costa Rica', \"Côte d'Ivoire\",\n",
       "       'Croatia', 'Cuba', 'Curaçao', 'Cyprus', 'Czechia',\n",
       "       \"Dem. People's Rep. Korea\", 'Dem. Rep. of the Congo', 'Denmark',\n",
       "       'Djibouti', 'Dominica', 'Dominican Republic', 'Ecuador', 'Egypt',\n",
       "       'El Salvador', 'Equatorial Guinea', 'Eritrea', 'Estonia',\n",
       "       'Eswatini', 'Ethiopia', 'Falkland Islands (Malvinas)',\n",
       "       'Faroe Islands', 'Fiji', 'Finland', 'France', 'French Guiana',\n",
       "       'French Polynesia', 'French Southern Territories', 'Gabon',\n",
       "       'Gambia', 'Georgia', 'Germany', 'Ghana', 'Gibraltar', 'Greece',\n",
       "       'Greenland', 'Grenada', 'Guadeloupe', 'Guam', 'Guatemala',\n",
       "       'Guinea', 'Guinea-Bissau', 'Guyana', 'Haiti',\n",
       "       'Heard Is. and McDonald Is.', 'Holy See', 'Honduras', 'Hungary',\n",
       "       'Iceland', 'India', 'Indonesia', 'Iran (Islamic Republic of)',\n",
       "       'Iraq', 'Ireland', 'Isle of Man', 'Israel', 'Italy', 'Jamaica',\n",
       "       'Japan', 'Jordan', 'Kazakhstan', 'Kenya', 'Kiribati', 'Kuwait',\n",
       "       'Kyrgyzstan', \"Lao People's Dem. Rep.\", 'Latvia', 'Lebanon',\n",
       "       'Lesotho', 'Liberia', 'Libya', 'Liechtenstein', 'Lithuania',\n",
       "       'Luxembourg', 'Madagascar', 'Malawi', 'Malaysia', 'Maldives',\n",
       "       'Mali', 'Malta', 'Marshall Islands', 'Martinique', 'Mauritania',\n",
       "       'Mauritius', 'Mayotte', 'Mexico', 'Micronesia (Fed. States of)',\n",
       "       'Monaco', 'Mongolia', 'Montenegro', 'Montserrat', 'Morocco',\n",
       "       'Mozambique', 'Myanmar', 'Namibia', 'Nauru', 'Nepal',\n",
       "       'Netherlands', 'Netherlands Antilles [former]', 'New Caledonia',\n",
       "       'New Zealand', 'Nicaragua', 'Niger', 'Nigeria', 'Niue',\n",
       "       'Norfolk Island', 'North Macedonia', 'Northern Mariana Islands',\n",
       "       'Norway', 'Oman', 'Other non-specified areas', 'Pakistan', 'Palau',\n",
       "       'Panama', 'Papua New Guinea', 'Paraguay', 'Peru', 'Philippines',\n",
       "       'Pitcairn', 'Poland', 'Portugal', 'Puerto Rico', 'Qatar',\n",
       "       'Republic of Korea', 'Republic of Moldova', 'Réunion', 'Romania',\n",
       "       'Russian Federation', 'Rwanda', 'Saint Barthélemy', 'Saint Helena',\n",
       "       'Saint Kitts and Nevis', 'Saint Lucia',\n",
       "       'Saint Martin (French part)', 'Saint Pierre and Miquelon',\n",
       "       'Saint Vincent & Grenadines', 'Samoa', 'San Marino',\n",
       "       'Sao Tome and Principe', 'Saudi Arabia', 'Senegal', 'Serbia',\n",
       "       'Serbia and Monten. [former]', 'Seychelles', 'Sierra Leone',\n",
       "       'Singapore', 'Sint Maarten (Dutch part)', 'Slovakia', 'Slovenia',\n",
       "       'Solomon Islands', 'Somalia', 'South Africa',\n",
       "       'South Georgia & Sandwich Is.', 'South Sudan', 'Spain',\n",
       "       'Sri Lanka', 'State of Palestine', 'Sudan', 'Sudan [former]',\n",
       "       'Suriname', 'Svalbard and Jan Mayen Is.', 'Sweden', 'Switzerland',\n",
       "       'Syrian Arab Republic', 'Tajikistan', 'Thailand', 'Timor-Leste',\n",
       "       'Togo', 'Tokelau', 'Tonga', 'Trinidad and Tobago', 'Tunisia',\n",
       "       'Turkey', 'Turkmenistan', 'Turks and Caicos Islands', 'Tuvalu',\n",
       "       'Uganda', 'Ukraine', 'United Arab Emirates', 'United Kingdom',\n",
       "       'United Rep. of Tanzania', 'U.S. Minor Outlying islands',\n",
       "       'United States of America', 'United States Virgin Islands',\n",
       "       'Uruguay', 'Uzbekistan', 'Vanuatu', 'Venezuela (Boliv. Rep. of)',\n",
       "       'Viet Nam', 'Wallis and Futuna Islands', 'Western Sahara', 'Yemen',\n",
       "       'Zambia', 'Zimbabwe', 'European Union (EU)'], dtype=object)"
      ]
     },
     "execution_count": 15,
     "metadata": {},
     "output_type": "execute_result"
    }
   ],
   "source": [
    "df['Region/Country/Area'].replace(\n",
    "    {'C�te d�Ivoire': \"Côte d'Ivoire\", \n",
    "    'Cura�ao': 'Curaçao',\n",
    "    'R�union': 'Réunion',\n",
    "    'Saint Barth�lemy': 'Saint Barthélemy'}, inplace=True\n",
    ")\n",
    "\n",
    "df['Region/Country/Area'].unique()"
   ]
  },
  {
   "cell_type": "code",
   "execution_count": 16,
   "metadata": {},
   "outputs": [
    {
     "data": {
      "text/plain": [
       "count    6.283000e+03\n",
       "mean     3.891431e+04\n",
       "std      3.560134e+05\n",
       "min      0.000000e+00\n",
       "25%      7.600000e+00\n",
       "50%      3.950000e+01\n",
       "75%      1.104000e+03\n",
       "max      1.302812e+07\n",
       "Name: Value, dtype: float64"
      ]
     },
     "execution_count": 16,
     "metadata": {},
     "output_type": "execute_result"
    }
   ],
   "source": [
    "df['Value'].describe()"
   ]
  },
  {
   "cell_type": "code",
   "execution_count": 17,
   "metadata": {},
   "outputs": [
    {
     "data": {
      "text/plain": [
       "<AxesSubplot:xlabel='Value', ylabel='Density'>"
      ]
     },
     "execution_count": 17,
     "metadata": {},
     "output_type": "execute_result"
    },
    {
     "data": {
      "image/png": "[encoded data removed]",
      "text/plain": [
       "<Figure size 864x648 with 1 Axes>"
      ]
     },
     "metadata": {},
     "output_type": "display_data"
    }
   ],
   "source": [
    "sns.kdeplot(data=df, x='Value')"
   ]
  },
  {
   "cell_type": "markdown",
   "metadata": {},
   "source": [
    "# Missing Values Exploration"
   ]
  },
  {
   "cell_type": "code",
   "execution_count": 18,
   "metadata": {},
   "outputs": [
    {
     "data": {
      "text/plain": [
       "Code                   0\n",
       "Region/Country/Area    0\n",
       "Year                   0\n",
       "Series                 0\n",
       "Value                  0\n",
       "dtype: int64"
      ]
     },
     "execution_count": 18,
     "metadata": {},
     "output_type": "execute_result"
    }
   ],
   "source": [
    "df.isna().sum()"
   ]
  }
 ],
 "metadata": {
  "interpreter": {
   "hash": "30c5ac37d0d4bc195f18668291cab0166f8e9ebfaa98d682fbdf81c02debeab6"
  },
  "kernelspec": {
   "display_name": "Python 3.10.4 ('DS')",
   "language": "python",
   "name": "python3"
  },
  "language_info": {
   "codemirror_mode": {
    "name": "ipython",
    "version": 3
   },
   "file_extension": ".py",
   "mimetype": "text/x-python",
   "name": "python",
   "nbconvert_exporter": "python",
   "pygments_lexer": "ipython3",
   "version": "3.10.4"
  },
  "orig_nbformat": 4
 },
 "nbformat": 4,
 "nbformat_minor": 2
}
