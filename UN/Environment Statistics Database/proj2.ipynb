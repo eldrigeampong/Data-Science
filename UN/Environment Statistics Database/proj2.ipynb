{
 "cells": [
  {
   "cell_type": "markdown",
   "metadata": {},
   "source": [
    "# CO2 emissions estimates"
   ]
  },
  {
   "cell_type": "code",
   "execution_count": 1,
   "metadata": {},
   "outputs": [],
   "source": [
    "import numpy as np\n",
    "import pandas as pd\n",
    "import matplotlib.pyplot as plt\n",
    "import seaborn as sns\n",
    "import os\n",
    "import warnings"
   ]
  },
  {
   "cell_type": "markdown",
   "metadata": {},
   "source": [
    "# Options and Settings"
   ]
  },
  {
   "cell_type": "code",
   "execution_count": 2,
   "metadata": {},
   "outputs": [],
   "source": [
    "%matplotlib inline\n",
    "plt.style.use('ggplot')\n",
    "plt.rcParams['figure.autolayout'] = True\n",
    "plt.rcParams['figure.figsize'] = [12, 9]\n",
    "plt.rcParams['font.size'] = 12\n",
    "path = os.getcwd()                                         # get current working directory\n",
    "warnings.simplefilter('ignore')"
   ]
  },
  {
   "cell_type": "markdown",
   "metadata": {},
   "source": [
    "# Import Data"
   ]
  },
  {
   "cell_type": "code",
   "execution_count": 3,
   "metadata": {},
   "outputs": [],
   "source": [
    "filepath = os.path.join(path, 'datasets', 'Carbon Dioxide Emission Estimates.csv')\n",
    "df = pd.read_csv(filepath)"
   ]
  },
  {
   "cell_type": "markdown",
   "metadata": {},
   "source": [
    "# Head and Tail"
   ]
  },
  {
   "cell_type": "code",
   "execution_count": 4,
   "metadata": {},
   "outputs": [
    {
     "data": {
      "text/html": [
       "<div>\n",
       "<style scoped>\n",
       "    .dataframe tbody tr th:only-of-type {\n",
       "        vertical-align: middle;\n",
       "    }\n",
       "\n",
       "    .dataframe tbody tr th {\n",
       "        vertical-align: top;\n",
       "    }\n",
       "\n",
       "    .dataframe thead th {\n",
       "        text-align: right;\n",
       "    }\n",
       "</style>\n",
       "<table border=\"1\" class=\"dataframe\">\n",
       "  <thead>\n",
       "    <tr style=\"text-align: right;\">\n",
       "      <th></th>\n",
       "      <th>Region/Country/Area</th>\n",
       "      <th>Unnamed: 1</th>\n",
       "      <th>Year</th>\n",
       "      <th>Series</th>\n",
       "      <th>Value</th>\n",
       "      <th>Footnotes</th>\n",
       "      <th>Source</th>\n",
       "    </tr>\n",
       "  </thead>\n",
       "  <tbody>\n",
       "    <tr>\n",
       "      <th>0</th>\n",
       "      <td>8</td>\n",
       "      <td>Albania</td>\n",
       "      <td>1975</td>\n",
       "      <td>Emissions (thousand metric tons of carbon diox...</td>\n",
       "      <td>4338.0</td>\n",
       "      <td>NaN</td>\n",
       "      <td>International Energy Agency, IEA World Energy ...</td>\n",
       "    </tr>\n",
       "    <tr>\n",
       "      <th>1</th>\n",
       "      <td>8</td>\n",
       "      <td>Albania</td>\n",
       "      <td>1985</td>\n",
       "      <td>Emissions (thousand metric tons of carbon diox...</td>\n",
       "      <td>6930.0</td>\n",
       "      <td>NaN</td>\n",
       "      <td>International Energy Agency, IEA World Energy ...</td>\n",
       "    </tr>\n",
       "    <tr>\n",
       "      <th>2</th>\n",
       "      <td>8</td>\n",
       "      <td>Albania</td>\n",
       "      <td>2005</td>\n",
       "      <td>Emissions (thousand metric tons of carbon diox...</td>\n",
       "      <td>3825.0</td>\n",
       "      <td>NaN</td>\n",
       "      <td>International Energy Agency, IEA World Energy ...</td>\n",
       "    </tr>\n",
       "    <tr>\n",
       "      <th>3</th>\n",
       "      <td>8</td>\n",
       "      <td>Albania</td>\n",
       "      <td>2010</td>\n",
       "      <td>Emissions (thousand metric tons of carbon diox...</td>\n",
       "      <td>3930.0</td>\n",
       "      <td>NaN</td>\n",
       "      <td>International Energy Agency, IEA World Energy ...</td>\n",
       "    </tr>\n",
       "    <tr>\n",
       "      <th>4</th>\n",
       "      <td>8</td>\n",
       "      <td>Albania</td>\n",
       "      <td>2015</td>\n",
       "      <td>Emissions (thousand metric tons of carbon diox...</td>\n",
       "      <td>3825.0</td>\n",
       "      <td>NaN</td>\n",
       "      <td>International Energy Agency, IEA World Energy ...</td>\n",
       "    </tr>\n",
       "    <tr>\n",
       "      <th>...</th>\n",
       "      <td>...</td>\n",
       "      <td>...</td>\n",
       "      <td>...</td>\n",
       "      <td>...</td>\n",
       "      <td>...</td>\n",
       "      <td>...</td>\n",
       "      <td>...</td>\n",
       "    </tr>\n",
       "    <tr>\n",
       "      <th>2175</th>\n",
       "      <td>716</td>\n",
       "      <td>Zimbabwe</td>\n",
       "      <td>2010</td>\n",
       "      <td>Emissions per capita (metric tons of carbon di...</td>\n",
       "      <td>0.7</td>\n",
       "      <td>NaN</td>\n",
       "      <td>International Energy Agency, IEA World Energy ...</td>\n",
       "    </tr>\n",
       "    <tr>\n",
       "      <th>2176</th>\n",
       "      <td>716</td>\n",
       "      <td>Zimbabwe</td>\n",
       "      <td>2015</td>\n",
       "      <td>Emissions per capita (metric tons of carbon di...</td>\n",
       "      <td>0.9</td>\n",
       "      <td>NaN</td>\n",
       "      <td>International Energy Agency, IEA World Energy ...</td>\n",
       "    </tr>\n",
       "    <tr>\n",
       "      <th>2177</th>\n",
       "      <td>716</td>\n",
       "      <td>Zimbabwe</td>\n",
       "      <td>2016</td>\n",
       "      <td>Emissions per capita (metric tons of carbon di...</td>\n",
       "      <td>0.7</td>\n",
       "      <td>NaN</td>\n",
       "      <td>International Energy Agency, IEA World Energy ...</td>\n",
       "    </tr>\n",
       "    <tr>\n",
       "      <th>2178</th>\n",
       "      <td>716</td>\n",
       "      <td>Zimbabwe</td>\n",
       "      <td>2017</td>\n",
       "      <td>Emissions per capita (metric tons of carbon di...</td>\n",
       "      <td>0.7</td>\n",
       "      <td>NaN</td>\n",
       "      <td>International Energy Agency, IEA World Energy ...</td>\n",
       "    </tr>\n",
       "    <tr>\n",
       "      <th>2179</th>\n",
       "      <td>716</td>\n",
       "      <td>Zimbabwe</td>\n",
       "      <td>2018</td>\n",
       "      <td>Emissions per capita (metric tons of carbon di...</td>\n",
       "      <td>0.8</td>\n",
       "      <td>NaN</td>\n",
       "      <td>International Energy Agency, IEA World Energy ...</td>\n",
       "    </tr>\n",
       "  </tbody>\n",
       "</table>\n",
       "<p>2180 rows × 7 columns</p>\n",
       "</div>"
      ],
      "text/plain": [
       "      Region/Country/Area Unnamed: 1  Year  \\\n",
       "0                       8    Albania  1975   \n",
       "1                       8    Albania  1985   \n",
       "2                       8    Albania  2005   \n",
       "3                       8    Albania  2010   \n",
       "4                       8    Albania  2015   \n",
       "...                   ...        ...   ...   \n",
       "2175                  716   Zimbabwe  2010   \n",
       "2176                  716   Zimbabwe  2015   \n",
       "2177                  716   Zimbabwe  2016   \n",
       "2178                  716   Zimbabwe  2017   \n",
       "2179                  716   Zimbabwe  2018   \n",
       "\n",
       "                                                 Series   Value Footnotes  \\\n",
       "0     Emissions (thousand metric tons of carbon diox...  4338.0       NaN   \n",
       "1     Emissions (thousand metric tons of carbon diox...  6930.0       NaN   \n",
       "2     Emissions (thousand metric tons of carbon diox...  3825.0       NaN   \n",
       "3     Emissions (thousand metric tons of carbon diox...  3930.0       NaN   \n",
       "4     Emissions (thousand metric tons of carbon diox...  3825.0       NaN   \n",
       "...                                                 ...     ...       ...   \n",
       "2175  Emissions per capita (metric tons of carbon di...     0.7       NaN   \n",
       "2176  Emissions per capita (metric tons of carbon di...     0.9       NaN   \n",
       "2177  Emissions per capita (metric tons of carbon di...     0.7       NaN   \n",
       "2178  Emissions per capita (metric tons of carbon di...     0.7       NaN   \n",
       "2179  Emissions per capita (metric tons of carbon di...     0.8       NaN   \n",
       "\n",
       "                                                 Source  \n",
       "0     International Energy Agency, IEA World Energy ...  \n",
       "1     International Energy Agency, IEA World Energy ...  \n",
       "2     International Energy Agency, IEA World Energy ...  \n",
       "3     International Energy Agency, IEA World Energy ...  \n",
       "4     International Energy Agency, IEA World Energy ...  \n",
       "...                                                 ...  \n",
       "2175  International Energy Agency, IEA World Energy ...  \n",
       "2176  International Energy Agency, IEA World Energy ...  \n",
       "2177  International Energy Agency, IEA World Energy ...  \n",
       "2178  International Energy Agency, IEA World Energy ...  \n",
       "2179  International Energy Agency, IEA World Energy ...  \n",
       "\n",
       "[2180 rows x 7 columns]"
      ]
     },
     "execution_count": 4,
     "metadata": {},
     "output_type": "execute_result"
    }
   ],
   "source": [
    "df"
   ]
  },
  {
   "cell_type": "code",
   "execution_count": 5,
   "metadata": {},
   "outputs": [
    {
     "data": {
      "text/plain": [
       "(2180, 7)"
      ]
     },
     "execution_count": 5,
     "metadata": {},
     "output_type": "execute_result"
    }
   ],
   "source": [
    "df.shape"
   ]
  },
  {
   "cell_type": "code",
   "execution_count": 6,
   "metadata": {},
   "outputs": [
    {
     "name": "stdout",
     "output_type": "stream",
     "text": [
      "<class 'pandas.core.frame.DataFrame'>\n",
      "RangeIndex: 2180 entries, 0 to 2179\n",
      "Data columns (total 7 columns):\n",
      " #   Column               Non-Null Count  Dtype  \n",
      "---  ------               --------------  -----  \n",
      " 0   Region/Country/Area  2180 non-null   int64  \n",
      " 1   Unnamed: 1           2180 non-null   object \n",
      " 2   Year                 2180 non-null   int64  \n",
      " 3   Series               2180 non-null   object \n",
      " 4   Value                2180 non-null   float64\n",
      " 5   Footnotes            220 non-null    object \n",
      " 6   Source               2180 non-null   object \n",
      "dtypes: float64(1), int64(2), object(4)\n",
      "memory usage: 119.3+ KB\n"
     ]
    }
   ],
   "source": [
    "df.info()"
   ]
  },
  {
   "cell_type": "code",
   "execution_count": 7,
   "metadata": {},
   "outputs": [
    {
     "data": {
      "text/html": [
       "<div>\n",
       "<style scoped>\n",
       "    .dataframe tbody tr th:only-of-type {\n",
       "        vertical-align: middle;\n",
       "    }\n",
       "\n",
       "    .dataframe tbody tr th {\n",
       "        vertical-align: top;\n",
       "    }\n",
       "\n",
       "    .dataframe thead th {\n",
       "        text-align: right;\n",
       "    }\n",
       "</style>\n",
       "<table border=\"1\" class=\"dataframe\">\n",
       "  <thead>\n",
       "    <tr style=\"text-align: right;\">\n",
       "      <th></th>\n",
       "      <th>Code</th>\n",
       "      <th>Region/Country/Area</th>\n",
       "      <th>Year</th>\n",
       "      <th>Series</th>\n",
       "      <th>Value</th>\n",
       "      <th>Footnotes</th>\n",
       "      <th>Source</th>\n",
       "    </tr>\n",
       "  </thead>\n",
       "  <tbody>\n",
       "    <tr>\n",
       "      <th>0</th>\n",
       "      <td>8</td>\n",
       "      <td>Albania</td>\n",
       "      <td>1975</td>\n",
       "      <td>Emissions (thousand metric tons of carbon diox...</td>\n",
       "      <td>4338.0</td>\n",
       "      <td>NaN</td>\n",
       "      <td>International Energy Agency, IEA World Energy ...</td>\n",
       "    </tr>\n",
       "    <tr>\n",
       "      <th>1</th>\n",
       "      <td>8</td>\n",
       "      <td>Albania</td>\n",
       "      <td>1985</td>\n",
       "      <td>Emissions (thousand metric tons of carbon diox...</td>\n",
       "      <td>6930.0</td>\n",
       "      <td>NaN</td>\n",
       "      <td>International Energy Agency, IEA World Energy ...</td>\n",
       "    </tr>\n",
       "    <tr>\n",
       "      <th>2</th>\n",
       "      <td>8</td>\n",
       "      <td>Albania</td>\n",
       "      <td>2005</td>\n",
       "      <td>Emissions (thousand metric tons of carbon diox...</td>\n",
       "      <td>3825.0</td>\n",
       "      <td>NaN</td>\n",
       "      <td>International Energy Agency, IEA World Energy ...</td>\n",
       "    </tr>\n",
       "    <tr>\n",
       "      <th>3</th>\n",
       "      <td>8</td>\n",
       "      <td>Albania</td>\n",
       "      <td>2010</td>\n",
       "      <td>Emissions (thousand metric tons of carbon diox...</td>\n",
       "      <td>3930.0</td>\n",
       "      <td>NaN</td>\n",
       "      <td>International Energy Agency, IEA World Energy ...</td>\n",
       "    </tr>\n",
       "    <tr>\n",
       "      <th>4</th>\n",
       "      <td>8</td>\n",
       "      <td>Albania</td>\n",
       "      <td>2015</td>\n",
       "      <td>Emissions (thousand metric tons of carbon diox...</td>\n",
       "      <td>3825.0</td>\n",
       "      <td>NaN</td>\n",
       "      <td>International Energy Agency, IEA World Energy ...</td>\n",
       "    </tr>\n",
       "  </tbody>\n",
       "</table>\n",
       "</div>"
      ],
      "text/plain": [
       "   Code Region/Country/Area  Year  \\\n",
       "0     8             Albania  1975   \n",
       "1     8             Albania  1985   \n",
       "2     8             Albania  2005   \n",
       "3     8             Albania  2010   \n",
       "4     8             Albania  2015   \n",
       "\n",
       "                                              Series   Value Footnotes  \\\n",
       "0  Emissions (thousand metric tons of carbon diox...  4338.0       NaN   \n",
       "1  Emissions (thousand metric tons of carbon diox...  6930.0       NaN   \n",
       "2  Emissions (thousand metric tons of carbon diox...  3825.0       NaN   \n",
       "3  Emissions (thousand metric tons of carbon diox...  3930.0       NaN   \n",
       "4  Emissions (thousand metric tons of carbon diox...  3825.0       NaN   \n",
       "\n",
       "                                              Source  \n",
       "0  International Energy Agency, IEA World Energy ...  \n",
       "1  International Energy Agency, IEA World Energy ...  \n",
       "2  International Energy Agency, IEA World Energy ...  \n",
       "3  International Energy Agency, IEA World Energy ...  \n",
       "4  International Energy Agency, IEA World Energy ...  "
      ]
     },
     "execution_count": 7,
     "metadata": {},
     "output_type": "execute_result"
    }
   ],
   "source": [
    "df.rename(                                                                      # rename columns\n",
    "    columns={\n",
    "        'Region/Country/Area': 'Code', \n",
    "        'Unnamed: 1': 'Region/Country/Area'}, inplace=True)\n",
    "\n",
    "df.head()    "
   ]
  },
  {
   "cell_type": "code",
   "execution_count": 8,
   "metadata": {},
   "outputs": [],
   "source": [
    "df.drop(columns=['Footnotes', 'Source'], inplace=True)                          # drop footnotes and source columns                 "
   ]
  },
  {
   "cell_type": "code",
   "execution_count": 9,
   "metadata": {},
   "outputs": [
    {
     "data": {
      "text/html": [
       "<div>\n",
       "<style scoped>\n",
       "    .dataframe tbody tr th:only-of-type {\n",
       "        vertical-align: middle;\n",
       "    }\n",
       "\n",
       "    .dataframe tbody tr th {\n",
       "        vertical-align: top;\n",
       "    }\n",
       "\n",
       "    .dataframe thead th {\n",
       "        text-align: right;\n",
       "    }\n",
       "</style>\n",
       "<table border=\"1\" class=\"dataframe\">\n",
       "  <thead>\n",
       "    <tr style=\"text-align: right;\">\n",
       "      <th></th>\n",
       "      <th>Code</th>\n",
       "      <th>Region/Country/Area</th>\n",
       "      <th>Year</th>\n",
       "      <th>Series</th>\n",
       "      <th>Value</th>\n",
       "    </tr>\n",
       "  </thead>\n",
       "  <tbody>\n",
       "    <tr>\n",
       "      <th>0</th>\n",
       "      <td>8</td>\n",
       "      <td>Albania</td>\n",
       "      <td>1975</td>\n",
       "      <td>Emissions (thousand metric tons of carbon diox...</td>\n",
       "      <td>4338.0</td>\n",
       "    </tr>\n",
       "    <tr>\n",
       "      <th>1</th>\n",
       "      <td>8</td>\n",
       "      <td>Albania</td>\n",
       "      <td>1985</td>\n",
       "      <td>Emissions (thousand metric tons of carbon diox...</td>\n",
       "      <td>6930.0</td>\n",
       "    </tr>\n",
       "    <tr>\n",
       "      <th>2</th>\n",
       "      <td>8</td>\n",
       "      <td>Albania</td>\n",
       "      <td>2005</td>\n",
       "      <td>Emissions (thousand metric tons of carbon diox...</td>\n",
       "      <td>3825.0</td>\n",
       "    </tr>\n",
       "    <tr>\n",
       "      <th>3</th>\n",
       "      <td>8</td>\n",
       "      <td>Albania</td>\n",
       "      <td>2010</td>\n",
       "      <td>Emissions (thousand metric tons of carbon diox...</td>\n",
       "      <td>3930.0</td>\n",
       "    </tr>\n",
       "    <tr>\n",
       "      <th>4</th>\n",
       "      <td>8</td>\n",
       "      <td>Albania</td>\n",
       "      <td>2015</td>\n",
       "      <td>Emissions (thousand metric tons of carbon diox...</td>\n",
       "      <td>3825.0</td>\n",
       "    </tr>\n",
       "  </tbody>\n",
       "</table>\n",
       "</div>"
      ],
      "text/plain": [
       "   Code Region/Country/Area  Year  \\\n",
       "0     8             Albania  1975   \n",
       "1     8             Albania  1985   \n",
       "2     8             Albania  2005   \n",
       "3     8             Albania  2010   \n",
       "4     8             Albania  2015   \n",
       "\n",
       "                                              Series   Value  \n",
       "0  Emissions (thousand metric tons of carbon diox...  4338.0  \n",
       "1  Emissions (thousand metric tons of carbon diox...  6930.0  \n",
       "2  Emissions (thousand metric tons of carbon diox...  3825.0  \n",
       "3  Emissions (thousand metric tons of carbon diox...  3930.0  \n",
       "4  Emissions (thousand metric tons of carbon diox...  3825.0  "
      ]
     },
     "execution_count": 9,
     "metadata": {},
     "output_type": "execute_result"
    }
   ],
   "source": [
    "df.head()"
   ]
  },
  {
   "cell_type": "code",
   "execution_count": 10,
   "metadata": {},
   "outputs": [
    {
     "data": {
      "text/html": [
       "<div>\n",
       "<style scoped>\n",
       "    .dataframe tbody tr th:only-of-type {\n",
       "        vertical-align: middle;\n",
       "    }\n",
       "\n",
       "    .dataframe tbody tr th {\n",
       "        vertical-align: top;\n",
       "    }\n",
       "\n",
       "    .dataframe thead th {\n",
       "        text-align: right;\n",
       "    }\n",
       "</style>\n",
       "<table border=\"1\" class=\"dataframe\">\n",
       "  <thead>\n",
       "    <tr style=\"text-align: right;\">\n",
       "      <th></th>\n",
       "      <th>Region/Country/Area</th>\n",
       "      <th>Series</th>\n",
       "    </tr>\n",
       "  </thead>\n",
       "  <tbody>\n",
       "    <tr>\n",
       "      <th>count</th>\n",
       "      <td>2180</td>\n",
       "      <td>2180</td>\n",
       "    </tr>\n",
       "    <tr>\n",
       "      <th>unique</th>\n",
       "      <td>144</td>\n",
       "      <td>2</td>\n",
       "    </tr>\n",
       "    <tr>\n",
       "      <th>top</th>\n",
       "      <td>Albania</td>\n",
       "      <td>Emissions (thousand metric tons of carbon diox...</td>\n",
       "    </tr>\n",
       "    <tr>\n",
       "      <th>freq</th>\n",
       "      <td>16</td>\n",
       "      <td>1090</td>\n",
       "    </tr>\n",
       "  </tbody>\n",
       "</table>\n",
       "</div>"
      ],
      "text/plain": [
       "       Region/Country/Area                                             Series\n",
       "count                 2180                                               2180\n",
       "unique                 144                                                  2\n",
       "top                Albania  Emissions (thousand metric tons of carbon diox...\n",
       "freq                    16                                               1090"
      ]
     },
     "execution_count": 10,
     "metadata": {},
     "output_type": "execute_result"
    }
   ],
   "source": [
    "df.describe(include='object')    "
   ]
  },
  {
   "cell_type": "code",
   "execution_count": 11,
   "metadata": {},
   "outputs": [
    {
     "data": {
      "text/plain": [
       "array(['Albania', 'Algeria', 'Angola', 'Argentina', 'Armenia',\n",
       "       'Australia', 'Austria', 'Azerbaijan', 'Bahrain', 'Bangladesh',\n",
       "       'Belarus', 'Belgium', 'Benin', 'Bolivia (Plurin. State of)',\n",
       "       'Bosnia and Herzegovina', 'Botswana', 'Brazil',\n",
       "       'Brunei Darussalam', 'Bulgaria', 'Cambodia', 'Cameroon', 'Canada',\n",
       "       'Chile', 'China', 'China, Hong Kong SAR', 'Colombia', 'Congo',\n",
       "       'Costa Rica', 'C�te d�Ivoire', 'Croatia', 'Cuba', 'Cura�ao',\n",
       "       'Cyprus', 'Czechia', \"Dem. People's Rep. Korea\",\n",
       "       'Dem. Rep. of the Congo', 'Denmark', 'Dominican Republic',\n",
       "       'Ecuador', 'Egypt', 'El Salvador', 'Equatorial Guinea', 'Eritrea',\n",
       "       'Estonia', 'Ethiopia', 'Finland', 'France', 'Gabon', 'Georgia',\n",
       "       'Germany', 'Ghana', 'Gibraltar', 'Greece', 'Guatemala', 'Haiti',\n",
       "       'Honduras', 'Hungary', 'Iceland', 'India', 'Indonesia',\n",
       "       'Iran (Islamic Republic of)', 'Iraq', 'Ireland', 'Israel', 'Italy',\n",
       "       'Jamaica', 'Japan', 'Jordan', 'Kazakhstan', 'Kenya', 'Kosovo',\n",
       "       'Kuwait', 'Kyrgyzstan', \"Lao People's Dem. Rep.\", 'Latvia',\n",
       "       'Lebanon', 'Libya', 'Lithuania', 'Luxembourg', 'Malaysia', 'Malta',\n",
       "       'Mauritius', 'Mexico', 'Mongolia', 'Montenegro', 'Morocco',\n",
       "       'Mozambique', 'Myanmar', 'Namibia', 'Nepal', 'Netherlands',\n",
       "       'New Zealand', 'Nicaragua', 'Niger', 'Nigeria', 'Norway', 'Oman',\n",
       "       'Pakistan', 'Panama', 'Paraguay', 'Peru', 'Philippines', 'Poland',\n",
       "       'Portugal', 'Qatar', 'Republic of Korea', 'Republic of Moldova',\n",
       "       'Romania', 'Russian Federation', 'Saudi Arabia', 'Senegal',\n",
       "       'Serbia', 'Singapore', 'Slovakia', 'Slovenia', 'South Africa',\n",
       "       'South Sudan', 'Spain', 'Sri Lanka', 'Sudan', 'Suriname', 'Sweden',\n",
       "       'Switzerland', 'Syrian Arab Republic', 'Tajikistan', 'Thailand',\n",
       "       'North Macedonia', 'Togo', 'Trinidad and Tobago', 'Tunisia',\n",
       "       'Turkey', 'Turkmenistan', 'Ukraine', 'United Arab Emirates',\n",
       "       'United Kingdom', 'United Rep. of Tanzania',\n",
       "       'United States of America', 'Uruguay', 'Uzbekistan',\n",
       "       'Venezuela (Boliv. Rep. of)', 'Viet Nam', 'Yemen', 'Zambia',\n",
       "       'Zimbabwe'], dtype=object)"
      ]
     },
     "execution_count": 11,
     "metadata": {},
     "output_type": "execute_result"
    }
   ],
   "source": [
    "df['Region/Country/Area'].unique()"
   ]
  },
  {
   "cell_type": "code",
   "execution_count": 12,
   "metadata": {},
   "outputs": [
    {
     "data": {
      "text/plain": [
       "2015    288\n",
       "2016    288\n",
       "2017    288\n",
       "2018    288\n",
       "2005    286\n",
       "2010    286\n",
       "1985    230\n",
       "1975    226\n",
       "Name: Year, dtype: int64"
      ]
     },
     "execution_count": 12,
     "metadata": {},
     "output_type": "execute_result"
    }
   ],
   "source": [
    "df['Year'].value_counts()"
   ]
  },
  {
   "cell_type": "code",
   "execution_count": 13,
   "metadata": {},
   "outputs": [
    {
     "data": {
      "text/plain": [
       "Emissions (thousand metric tons of carbon dioxide)      1090\n",
       "Emissions per capita (metric tons of carbon dioxide)    1090\n",
       "Name: Series, dtype: int64"
      ]
     },
     "execution_count": 13,
     "metadata": {},
     "output_type": "execute_result"
    }
   ],
   "source": [
    "df['Series'].value_counts()"
   ]
  },
  {
   "cell_type": "code",
   "execution_count": 14,
   "metadata": {},
   "outputs": [
    {
     "data": {
      "text/plain": [
       "8      16\n",
       "504    16\n",
       "604    16\n",
       "600    16\n",
       "591    16\n",
       "Name: Code, dtype: int64"
      ]
     },
     "execution_count": 14,
     "metadata": {},
     "output_type": "execute_result"
    }
   ],
   "source": [
    "df['Code'].value_counts().head()"
   ]
  },
  {
   "cell_type": "markdown",
   "metadata": {},
   "source": [
    "# Data Cleaning"
   ]
  },
  {
   "cell_type": "code",
   "execution_count": 15,
   "metadata": {},
   "outputs": [
    {
     "data": {
      "text/plain": [
       "array(['Albania', 'Algeria', 'Angola', 'Argentina', 'Armenia',\n",
       "       'Australia', 'Austria', 'Azerbaijan', 'Bahrain', 'Bangladesh',\n",
       "       'Belarus', 'Belgium', 'Benin', 'Bolivia (Plurin. State of)',\n",
       "       'Bosnia and Herzegovina', 'Botswana', 'Brazil',\n",
       "       'Brunei Darussalam', 'Bulgaria', 'Cambodia', 'Cameroon', 'Canada',\n",
       "       'Chile', 'China', 'China, Hong Kong SAR', 'Colombia', 'Congo',\n",
       "       'Costa Rica', \"Côte d'Ivoire\", 'Croatia', 'Cuba', 'Curaçao',\n",
       "       'Cyprus', 'Czechia', \"Dem. People's Rep. Korea\",\n",
       "       'Dem. Rep. of the Congo', 'Denmark', 'Dominican Republic',\n",
       "       'Ecuador', 'Egypt', 'El Salvador', 'Equatorial Guinea', 'Eritrea',\n",
       "       'Estonia', 'Ethiopia', 'Finland', 'France', 'Gabon', 'Georgia',\n",
       "       'Germany', 'Ghana', 'Gibraltar', 'Greece', 'Guatemala', 'Haiti',\n",
       "       'Honduras', 'Hungary', 'Iceland', 'India', 'Indonesia',\n",
       "       'Iran (Islamic Republic of)', 'Iraq', 'Ireland', 'Israel', 'Italy',\n",
       "       'Jamaica', 'Japan', 'Jordan', 'Kazakhstan', 'Kenya', 'Kosovo',\n",
       "       'Kuwait', 'Kyrgyzstan', \"Lao People's Dem. Rep.\", 'Latvia',\n",
       "       'Lebanon', 'Libya', 'Lithuania', 'Luxembourg', 'Malaysia', 'Malta',\n",
       "       'Mauritius', 'Mexico', 'Mongolia', 'Montenegro', 'Morocco',\n",
       "       'Mozambique', 'Myanmar', 'Namibia', 'Nepal', 'Netherlands',\n",
       "       'New Zealand', 'Nicaragua', 'Niger', 'Nigeria', 'Norway', 'Oman',\n",
       "       'Pakistan', 'Panama', 'Paraguay', 'Peru', 'Philippines', 'Poland',\n",
       "       'Portugal', 'Qatar', 'Republic of Korea', 'Republic of Moldova',\n",
       "       'Romania', 'Russian Federation', 'Saudi Arabia', 'Senegal',\n",
       "       'Serbia', 'Singapore', 'Slovakia', 'Slovenia', 'South Africa',\n",
       "       'South Sudan', 'Spain', 'Sri Lanka', 'Sudan', 'Suriname', 'Sweden',\n",
       "       'Switzerland', 'Syrian Arab Republic', 'Tajikistan', 'Thailand',\n",
       "       'North Macedonia', 'Togo', 'Trinidad and Tobago', 'Tunisia',\n",
       "       'Turkey', 'Turkmenistan', 'Ukraine', 'United Arab Emirates',\n",
       "       'United Kingdom', 'United Rep. of Tanzania',\n",
       "       'United States of America', 'Uruguay', 'Uzbekistan',\n",
       "       'Venezuela (Boliv. Rep. of)', 'Viet Nam', 'Yemen', 'Zambia',\n",
       "       'Zimbabwe'], dtype=object)"
      ]
     },
     "execution_count": 15,
     "metadata": {},
     "output_type": "execute_result"
    }
   ],
   "source": [
    "df['Region/Country/Area'].replace(\n",
    "    {'C�te d�Ivoire': \"Côte d'Ivoire\", \n",
    "    'Cura�ao': 'Curaçao',\n",
    "    'R�union': 'Réunion',\n",
    "    'Saint Barth�lemy': 'Saint Barthélemy'}, inplace=True\n",
    ")\n",
    "\n",
    "df['Region/Country/Area'].unique()"
   ]
  },
  {
   "cell_type": "code",
   "execution_count": 16,
   "metadata": {},
   "outputs": [
    {
     "data": {
      "text/plain": [
       "count    2.180000e+03\n",
       "mean     9.471157e+04\n",
       "std      5.600929e+05\n",
       "min      0.000000e+00\n",
       "25%      3.300000e+00\n",
       "50%      5.065000e+01\n",
       "75%      2.322500e+04\n",
       "max      9.528214e+06\n",
       "Name: Value, dtype: float64"
      ]
     },
     "execution_count": 16,
     "metadata": {},
     "output_type": "execute_result"
    }
   ],
   "source": [
    "df['Value'].describe()"
   ]
  },
  {
   "cell_type": "code",
   "execution_count": 17,
   "metadata": {},
   "outputs": [
    {
     "data": {
      "text/plain": [
       "<AxesSubplot:xlabel='Value', ylabel='Density'>"
      ]
     },
     "execution_count": 17,
     "metadata": {},
     "output_type": "execute_result"
    },
    {
     "data": {
      "image/png": "[encoded data removed]",
      "text/plain": [
       "<Figure size 864x648 with 1 Axes>"
      ]
     },
     "metadata": {},
     "output_type": "display_data"
    }
   ],
   "source": [
    "sns.kdeplot(data=df, x='Value')"
   ]
  },
  {
   "cell_type": "markdown",
   "metadata": {},
   "source": [
    "# Missing Values Exploration"
   ]
  },
  {
   "cell_type": "code",
   "execution_count": 18,
   "metadata": {},
   "outputs": [
    {
     "data": {
      "text/plain": [
       "Code                   0\n",
       "Region/Country/Area    0\n",
       "Year                   0\n",
       "Series                 0\n",
       "Value                  0\n",
       "dtype: int64"
      ]
     },
     "execution_count": 18,
     "metadata": {},
     "output_type": "execute_result"
    }
   ],
   "source": [
    "df.isna().sum()"
   ]
  }
 ],
 "metadata": {
  "interpreter": {
   "hash": "30c5ac37d0d4bc195f18668291cab0166f8e9ebfaa98d682fbdf81c02debeab6"
  },
  "kernelspec": {
   "display_name": "Python 3.10.4 ('DS')",
   "language": "python",
   "name": "python3"
  },
  "language_info": {
   "codemirror_mode": {
    "name": "ipython",
    "version": 3
   },
   "file_extension": ".py",
   "mimetype": "text/x-python",
   "name": "python",
   "nbconvert_exporter": "python",
   "pygments_lexer": "ipython3",
   "version": "3.10.4"
  },
  "orig_nbformat": 4
 },
 "nbformat": 4,
 "nbformat_minor": 2
}
