{
 "cells": [
  {
   "cell_type": "markdown",
   "metadata": {},
   "source": [
    "# Tourism and transport"
   ]
  },
  {
   "cell_type": "markdown",
   "metadata": {},
   "source": [
    "# Import Libraries"
   ]
  },
  {
   "cell_type": "code",
   "execution_count": 1,
   "metadata": {},
   "outputs": [],
   "source": [
    "import numpy as np\n",
    "import pandas as pd\n",
    "import matplotlib.pyplot as plt\n",
    "import seaborn as sns\n",
    "import os\n",
    "import warnings"
   ]
  },
  {
   "cell_type": "markdown",
   "metadata": {},
   "source": [
    "# Options and Settings"
   ]
  },
  {
   "cell_type": "code",
   "execution_count": 2,
   "metadata": {},
   "outputs": [],
   "source": [
    "%matplotlib inline\n",
    "plt.style.use('ggplot')\n",
    "plt.rcParams['figure.autolayout'] = True\n",
    "plt.rcParams['figure.figsize'] = [12, 9]\n",
    "plt.rcParams['font.size'] = 12\n",
    "path = os.getcwd()                                         # get current working directory\n",
    "warnings.simplefilter('ignore')"
   ]
  },
  {
   "cell_type": "markdown",
   "metadata": {},
   "source": [
    "# Import Data"
   ]
  },
  {
   "cell_type": "code",
   "execution_count": 3,
   "metadata": {},
   "outputs": [],
   "source": [
    "filepath = os.path.join('datasets', 'Tourist-Visitors Arrival and Expenditure.csv')\n",
    "df = pd.read_csv(filepath)"
   ]
  },
  {
   "cell_type": "markdown",
   "metadata": {},
   "source": [
    "# Head and Tail"
   ]
  },
  {
   "cell_type": "code",
   "execution_count": 4,
   "metadata": {},
   "outputs": [
    {
     "data": {
      "text/html": [
       "<div>\n",
       "<style scoped>\n",
       "    .dataframe tbody tr th:only-of-type {\n",
       "        vertical-align: middle;\n",
       "    }\n",
       "\n",
       "    .dataframe tbody tr th {\n",
       "        vertical-align: top;\n",
       "    }\n",
       "\n",
       "    .dataframe thead th {\n",
       "        text-align: right;\n",
       "    }\n",
       "</style>\n",
       "<table border=\"1\" class=\"dataframe\">\n",
       "  <thead>\n",
       "    <tr style=\"text-align: right;\">\n",
       "      <th></th>\n",
       "      <th>Region/Country/Area</th>\n",
       "      <th>Unnamed: 1</th>\n",
       "      <th>Year</th>\n",
       "      <th>Series</th>\n",
       "      <th>Tourism arrivals series type</th>\n",
       "      <th>Tourism arrivals series type footnote</th>\n",
       "      <th>Value</th>\n",
       "      <th>Footnotes</th>\n",
       "      <th>Source</th>\n",
       "      <th>Unnamed: 9</th>\n",
       "      <th>Unnamed: 10</th>\n",
       "    </tr>\n",
       "  </thead>\n",
       "  <tbody>\n",
       "    <tr>\n",
       "      <th>0</th>\n",
       "      <td>4</td>\n",
       "      <td>Afghanistan</td>\n",
       "      <td>2010</td>\n",
       "      <td>Tourism expenditure (millions of US dollars)</td>\n",
       "      <td>NaN</td>\n",
       "      <td>NaN</td>\n",
       "      <td>147</td>\n",
       "      <td>NaN</td>\n",
       "      <td>World Tourism Organization (UNWTO), Madrid, th...</td>\n",
       "      <td>NaN</td>\n",
       "      <td>NaN</td>\n",
       "    </tr>\n",
       "    <tr>\n",
       "      <th>1</th>\n",
       "      <td>4</td>\n",
       "      <td>Afghanistan</td>\n",
       "      <td>2017</td>\n",
       "      <td>Tourism expenditure (millions of US dollars)</td>\n",
       "      <td>NaN</td>\n",
       "      <td>NaN</td>\n",
       "      <td>16</td>\n",
       "      <td>NaN</td>\n",
       "      <td>World Tourism Organization (UNWTO), Madrid, th...</td>\n",
       "      <td>NaN</td>\n",
       "      <td>NaN</td>\n",
       "    </tr>\n",
       "    <tr>\n",
       "      <th>2</th>\n",
       "      <td>4</td>\n",
       "      <td>Afghanistan</td>\n",
       "      <td>2018</td>\n",
       "      <td>Tourism expenditure (millions of US dollars)</td>\n",
       "      <td>NaN</td>\n",
       "      <td>NaN</td>\n",
       "      <td>50</td>\n",
       "      <td>NaN</td>\n",
       "      <td>World Tourism Organization (UNWTO), Madrid, th...</td>\n",
       "      <td>NaN</td>\n",
       "      <td>NaN</td>\n",
       "    </tr>\n",
       "    <tr>\n",
       "      <th>3</th>\n",
       "      <td>4</td>\n",
       "      <td>Afghanistan</td>\n",
       "      <td>2019</td>\n",
       "      <td>Tourism expenditure (millions of US dollars)</td>\n",
       "      <td>NaN</td>\n",
       "      <td>NaN</td>\n",
       "      <td>85</td>\n",
       "      <td>NaN</td>\n",
       "      <td>World Tourism Organization (UNWTO), Madrid, th...</td>\n",
       "      <td>NaN</td>\n",
       "      <td>NaN</td>\n",
       "    </tr>\n",
       "    <tr>\n",
       "      <th>4</th>\n",
       "      <td>8</td>\n",
       "      <td>Albania</td>\n",
       "      <td>2010</td>\n",
       "      <td>Tourist/visitor arrivals (thousands)</td>\n",
       "      <td>TF</td>\n",
       "      <td>NaN</td>\n",
       "      <td>2191</td>\n",
       "      <td>Excluding nationals residing abroad.</td>\n",
       "      <td>World Tourism Organization (UNWTO), Madrid, th...</td>\n",
       "      <td>NaN</td>\n",
       "      <td>NaN</td>\n",
       "    </tr>\n",
       "    <tr>\n",
       "      <th>...</th>\n",
       "      <td>...</td>\n",
       "      <td>...</td>\n",
       "      <td>...</td>\n",
       "      <td>...</td>\n",
       "      <td>...</td>\n",
       "      <td>...</td>\n",
       "      <td>...</td>\n",
       "      <td>...</td>\n",
       "      <td>...</td>\n",
       "      <td>...</td>\n",
       "      <td>...</td>\n",
       "    </tr>\n",
       "    <tr>\n",
       "      <th>2109</th>\n",
       "      <td>716</td>\n",
       "      <td>Zimbabwe</td>\n",
       "      <td>2018</td>\n",
       "      <td>Tourist/visitor arrivals (thousands)</td>\n",
       "      <td>VF</td>\n",
       "      <td>NaN</td>\n",
       "      <td>2580</td>\n",
       "      <td>NaN</td>\n",
       "      <td>World Tourism Organization (UNWTO), Madrid, th...</td>\n",
       "      <td>NaN</td>\n",
       "      <td>NaN</td>\n",
       "    </tr>\n",
       "    <tr>\n",
       "      <th>2110</th>\n",
       "      <td>716</td>\n",
       "      <td>Zimbabwe</td>\n",
       "      <td>1995</td>\n",
       "      <td>Tourism expenditure (millions of US dollars)</td>\n",
       "      <td>NaN</td>\n",
       "      <td>NaN</td>\n",
       "      <td>145</td>\n",
       "      <td>NaN</td>\n",
       "      <td>World Tourism Organization (UNWTO), Madrid, th...</td>\n",
       "      <td>NaN</td>\n",
       "      <td>NaN</td>\n",
       "    </tr>\n",
       "    <tr>\n",
       "      <th>2111</th>\n",
       "      <td>716</td>\n",
       "      <td>Zimbabwe</td>\n",
       "      <td>2005</td>\n",
       "      <td>Tourism expenditure (millions of US dollars)</td>\n",
       "      <td>NaN</td>\n",
       "      <td>NaN</td>\n",
       "      <td>99</td>\n",
       "      <td>NaN</td>\n",
       "      <td>World Tourism Organization (UNWTO), Madrid, th...</td>\n",
       "      <td>NaN</td>\n",
       "      <td>NaN</td>\n",
       "    </tr>\n",
       "    <tr>\n",
       "      <th>2112</th>\n",
       "      <td>716</td>\n",
       "      <td>Zimbabwe</td>\n",
       "      <td>2010</td>\n",
       "      <td>Tourism expenditure (millions of US dollars)</td>\n",
       "      <td>NaN</td>\n",
       "      <td>NaN</td>\n",
       "      <td>135</td>\n",
       "      <td>NaN</td>\n",
       "      <td>World Tourism Organization (UNWTO), Madrid, th...</td>\n",
       "      <td>NaN</td>\n",
       "      <td>NaN</td>\n",
       "    </tr>\n",
       "    <tr>\n",
       "      <th>2113</th>\n",
       "      <td>716</td>\n",
       "      <td>Zimbabwe</td>\n",
       "      <td>2017</td>\n",
       "      <td>Tourism expenditure (millions of US dollars)</td>\n",
       "      <td>NaN</td>\n",
       "      <td>NaN</td>\n",
       "      <td>158</td>\n",
       "      <td>NaN</td>\n",
       "      <td>World Tourism Organization (UNWTO), Madrid, th...</td>\n",
       "      <td>NaN</td>\n",
       "      <td>NaN</td>\n",
       "    </tr>\n",
       "  </tbody>\n",
       "</table>\n",
       "<p>2114 rows × 11 columns</p>\n",
       "</div>"
      ],
      "text/plain": [
       "      Region/Country/Area   Unnamed: 1  Year  \\\n",
       "0                       4  Afghanistan  2010   \n",
       "1                       4  Afghanistan  2017   \n",
       "2                       4  Afghanistan  2018   \n",
       "3                       4  Afghanistan  2019   \n",
       "4                       8      Albania  2010   \n",
       "...                   ...          ...   ...   \n",
       "2109                  716     Zimbabwe  2018   \n",
       "2110                  716     Zimbabwe  1995   \n",
       "2111                  716     Zimbabwe  2005   \n",
       "2112                  716     Zimbabwe  2010   \n",
       "2113                  716     Zimbabwe  2017   \n",
       "\n",
       "                                            Series  \\\n",
       "0     Tourism expenditure (millions of US dollars)   \n",
       "1     Tourism expenditure (millions of US dollars)   \n",
       "2     Tourism expenditure (millions of US dollars)   \n",
       "3     Tourism expenditure (millions of US dollars)   \n",
       "4             Tourist/visitor arrivals (thousands)   \n",
       "...                                            ...   \n",
       "2109          Tourist/visitor arrivals (thousands)   \n",
       "2110  Tourism expenditure (millions of US dollars)   \n",
       "2111  Tourism expenditure (millions of US dollars)   \n",
       "2112  Tourism expenditure (millions of US dollars)   \n",
       "2113  Tourism expenditure (millions of US dollars)   \n",
       "\n",
       "     Tourism arrivals series type  Tourism arrivals series type footnote  \\\n",
       "0                             NaN                                    NaN   \n",
       "1                             NaN                                    NaN   \n",
       "2                             NaN                                    NaN   \n",
       "3                             NaN                                    NaN   \n",
       "4                              TF                                    NaN   \n",
       "...                           ...                                    ...   \n",
       "2109                           VF                                    NaN   \n",
       "2110                          NaN                                    NaN   \n",
       "2111                          NaN                                    NaN   \n",
       "2112                          NaN                                    NaN   \n",
       "2113                          NaN                                    NaN   \n",
       "\n",
       "      Value                             Footnotes  \\\n",
       "0       147                                   NaN   \n",
       "1        16                                   NaN   \n",
       "2        50                                   NaN   \n",
       "3        85                                   NaN   \n",
       "4      2191  Excluding nationals residing abroad.   \n",
       "...     ...                                   ...   \n",
       "2109   2580                                   NaN   \n",
       "2110    145                                   NaN   \n",
       "2111     99                                   NaN   \n",
       "2112    135                                   NaN   \n",
       "2113    158                                   NaN   \n",
       "\n",
       "                                                 Source Unnamed: 9 Unnamed: 10  \n",
       "0     World Tourism Organization (UNWTO), Madrid, th...        NaN         NaN  \n",
       "1     World Tourism Organization (UNWTO), Madrid, th...        NaN         NaN  \n",
       "2     World Tourism Organization (UNWTO), Madrid, th...        NaN         NaN  \n",
       "3     World Tourism Organization (UNWTO), Madrid, th...        NaN         NaN  \n",
       "4     World Tourism Organization (UNWTO), Madrid, th...        NaN         NaN  \n",
       "...                                                 ...        ...         ...  \n",
       "2109  World Tourism Organization (UNWTO), Madrid, th...        NaN         NaN  \n",
       "2110  World Tourism Organization (UNWTO), Madrid, th...        NaN         NaN  \n",
       "2111  World Tourism Organization (UNWTO), Madrid, th...        NaN         NaN  \n",
       "2112  World Tourism Organization (UNWTO), Madrid, th...        NaN         NaN  \n",
       "2113  World Tourism Organization (UNWTO), Madrid, th...        NaN         NaN  \n",
       "\n",
       "[2114 rows x 11 columns]"
      ]
     },
     "execution_count": 4,
     "metadata": {},
     "output_type": "execute_result"
    }
   ],
   "source": [
    "df"
   ]
  },
  {
   "cell_type": "code",
   "execution_count": 5,
   "metadata": {},
   "outputs": [
    {
     "data": {
      "text/plain": [
       "(2114, 11)"
      ]
     },
     "execution_count": 5,
     "metadata": {},
     "output_type": "execute_result"
    }
   ],
   "source": [
    "df.shape"
   ]
  },
  {
   "cell_type": "code",
   "execution_count": 6,
   "metadata": {},
   "outputs": [
    {
     "name": "stdout",
     "output_type": "stream",
     "text": [
      "<class 'pandas.core.frame.DataFrame'>\n",
      "RangeIndex: 2114 entries, 0 to 2113\n",
      "Data columns (total 11 columns):\n",
      " #   Column                                 Non-Null Count  Dtype  \n",
      "---  ------                                 --------------  -----  \n",
      " 0   Region/Country/Area                    2114 non-null   int64  \n",
      " 1   Unnamed: 1                             2114 non-null   object \n",
      " 2   Year                                   2114 non-null   int64  \n",
      " 3   Series                                 2114 non-null   object \n",
      " 4   Tourism arrivals series type           1084 non-null   object \n",
      " 5   Tourism arrivals series type footnote  0 non-null      float64\n",
      " 6   Value                                  2114 non-null   int64  \n",
      " 7   Footnotes                              821 non-null    object \n",
      " 8   Source                                 2114 non-null   object \n",
      " 9   Unnamed: 9                             87 non-null     object \n",
      " 10  Unnamed: 10                            6 non-null      object \n",
      "dtypes: float64(1), int64(3), object(7)\n",
      "memory usage: 181.8+ KB\n"
     ]
    }
   ],
   "source": [
    "df.info()"
   ]
  },
  {
   "cell_type": "code",
   "execution_count": 7,
   "metadata": {},
   "outputs": [
    {
     "data": {
      "text/html": [
       "<div>\n",
       "<style scoped>\n",
       "    .dataframe tbody tr th:only-of-type {\n",
       "        vertical-align: middle;\n",
       "    }\n",
       "\n",
       "    .dataframe tbody tr th {\n",
       "        vertical-align: top;\n",
       "    }\n",
       "\n",
       "    .dataframe thead th {\n",
       "        text-align: right;\n",
       "    }\n",
       "</style>\n",
       "<table border=\"1\" class=\"dataframe\">\n",
       "  <thead>\n",
       "    <tr style=\"text-align: right;\">\n",
       "      <th></th>\n",
       "      <th>Code</th>\n",
       "      <th>Country/Area</th>\n",
       "      <th>Year</th>\n",
       "      <th>Series</th>\n",
       "      <th>Tourism arrivals series type</th>\n",
       "      <th>Tourism arrivals series type footnote</th>\n",
       "      <th>Value</th>\n",
       "      <th>Footnotes</th>\n",
       "      <th>Source</th>\n",
       "      <th>Unnamed: 9</th>\n",
       "      <th>Unnamed: 10</th>\n",
       "    </tr>\n",
       "  </thead>\n",
       "  <tbody>\n",
       "    <tr>\n",
       "      <th>0</th>\n",
       "      <td>4</td>\n",
       "      <td>Afghanistan</td>\n",
       "      <td>2010</td>\n",
       "      <td>Tourism expenditure (millions of US dollars)</td>\n",
       "      <td>NaN</td>\n",
       "      <td>NaN</td>\n",
       "      <td>147</td>\n",
       "      <td>NaN</td>\n",
       "      <td>World Tourism Organization (UNWTO), Madrid, th...</td>\n",
       "      <td>NaN</td>\n",
       "      <td>NaN</td>\n",
       "    </tr>\n",
       "    <tr>\n",
       "      <th>1</th>\n",
       "      <td>4</td>\n",
       "      <td>Afghanistan</td>\n",
       "      <td>2017</td>\n",
       "      <td>Tourism expenditure (millions of US dollars)</td>\n",
       "      <td>NaN</td>\n",
       "      <td>NaN</td>\n",
       "      <td>16</td>\n",
       "      <td>NaN</td>\n",
       "      <td>World Tourism Organization (UNWTO), Madrid, th...</td>\n",
       "      <td>NaN</td>\n",
       "      <td>NaN</td>\n",
       "    </tr>\n",
       "    <tr>\n",
       "      <th>2</th>\n",
       "      <td>4</td>\n",
       "      <td>Afghanistan</td>\n",
       "      <td>2018</td>\n",
       "      <td>Tourism expenditure (millions of US dollars)</td>\n",
       "      <td>NaN</td>\n",
       "      <td>NaN</td>\n",
       "      <td>50</td>\n",
       "      <td>NaN</td>\n",
       "      <td>World Tourism Organization (UNWTO), Madrid, th...</td>\n",
       "      <td>NaN</td>\n",
       "      <td>NaN</td>\n",
       "    </tr>\n",
       "    <tr>\n",
       "      <th>3</th>\n",
       "      <td>4</td>\n",
       "      <td>Afghanistan</td>\n",
       "      <td>2019</td>\n",
       "      <td>Tourism expenditure (millions of US dollars)</td>\n",
       "      <td>NaN</td>\n",
       "      <td>NaN</td>\n",
       "      <td>85</td>\n",
       "      <td>NaN</td>\n",
       "      <td>World Tourism Organization (UNWTO), Madrid, th...</td>\n",
       "      <td>NaN</td>\n",
       "      <td>NaN</td>\n",
       "    </tr>\n",
       "    <tr>\n",
       "      <th>4</th>\n",
       "      <td>8</td>\n",
       "      <td>Albania</td>\n",
       "      <td>2010</td>\n",
       "      <td>Tourist/visitor arrivals (thousands)</td>\n",
       "      <td>TF</td>\n",
       "      <td>NaN</td>\n",
       "      <td>2191</td>\n",
       "      <td>Excluding nationals residing abroad.</td>\n",
       "      <td>World Tourism Organization (UNWTO), Madrid, th...</td>\n",
       "      <td>NaN</td>\n",
       "      <td>NaN</td>\n",
       "    </tr>\n",
       "  </tbody>\n",
       "</table>\n",
       "</div>"
      ],
      "text/plain": [
       "   Code Country/Area  Year                                        Series  \\\n",
       "0     4  Afghanistan  2010  Tourism expenditure (millions of US dollars)   \n",
       "1     4  Afghanistan  2017  Tourism expenditure (millions of US dollars)   \n",
       "2     4  Afghanistan  2018  Tourism expenditure (millions of US dollars)   \n",
       "3     4  Afghanistan  2019  Tourism expenditure (millions of US dollars)   \n",
       "4     8      Albania  2010          Tourist/visitor arrivals (thousands)   \n",
       "\n",
       "  Tourism arrivals series type  Tourism arrivals series type footnote  Value  \\\n",
       "0                          NaN                                    NaN    147   \n",
       "1                          NaN                                    NaN     16   \n",
       "2                          NaN                                    NaN     50   \n",
       "3                          NaN                                    NaN     85   \n",
       "4                           TF                                    NaN   2191   \n",
       "\n",
       "                              Footnotes  \\\n",
       "0                                   NaN   \n",
       "1                                   NaN   \n",
       "2                                   NaN   \n",
       "3                                   NaN   \n",
       "4  Excluding nationals residing abroad.   \n",
       "\n",
       "                                              Source Unnamed: 9 Unnamed: 10  \n",
       "0  World Tourism Organization (UNWTO), Madrid, th...        NaN         NaN  \n",
       "1  World Tourism Organization (UNWTO), Madrid, th...        NaN         NaN  \n",
       "2  World Tourism Organization (UNWTO), Madrid, th...        NaN         NaN  \n",
       "3  World Tourism Organization (UNWTO), Madrid, th...        NaN         NaN  \n",
       "4  World Tourism Organization (UNWTO), Madrid, th...        NaN         NaN  "
      ]
     },
     "execution_count": 7,
     "metadata": {},
     "output_type": "execute_result"
    }
   ],
   "source": [
    "df.rename(\n",
    "    columns={\n",
    "        'Region/Country/Area': 'Code', \n",
    "        'Unnamed: 1': 'Country/Area'}, inplace=True)\n",
    "\n",
    "df.head()"
   ]
  },
  {
   "cell_type": "code",
   "execution_count": 8,
   "metadata": {},
   "outputs": [
    {
     "data": {
      "text/html": [
       "<div>\n",
       "<style scoped>\n",
       "    .dataframe tbody tr th:only-of-type {\n",
       "        vertical-align: middle;\n",
       "    }\n",
       "\n",
       "    .dataframe tbody tr th {\n",
       "        vertical-align: top;\n",
       "    }\n",
       "\n",
       "    .dataframe thead th {\n",
       "        text-align: right;\n",
       "    }\n",
       "</style>\n",
       "<table border=\"1\" class=\"dataframe\">\n",
       "  <thead>\n",
       "    <tr style=\"text-align: right;\">\n",
       "      <th></th>\n",
       "      <th>Code</th>\n",
       "      <th>Country/Area</th>\n",
       "      <th>Year</th>\n",
       "      <th>Series</th>\n",
       "      <th>Value</th>\n",
       "    </tr>\n",
       "  </thead>\n",
       "  <tbody>\n",
       "    <tr>\n",
       "      <th>0</th>\n",
       "      <td>4</td>\n",
       "      <td>Afghanistan</td>\n",
       "      <td>2010</td>\n",
       "      <td>Tourism expenditure (millions of US dollars)</td>\n",
       "      <td>147</td>\n",
       "    </tr>\n",
       "    <tr>\n",
       "      <th>1</th>\n",
       "      <td>4</td>\n",
       "      <td>Afghanistan</td>\n",
       "      <td>2017</td>\n",
       "      <td>Tourism expenditure (millions of US dollars)</td>\n",
       "      <td>16</td>\n",
       "    </tr>\n",
       "    <tr>\n",
       "      <th>2</th>\n",
       "      <td>4</td>\n",
       "      <td>Afghanistan</td>\n",
       "      <td>2018</td>\n",
       "      <td>Tourism expenditure (millions of US dollars)</td>\n",
       "      <td>50</td>\n",
       "    </tr>\n",
       "    <tr>\n",
       "      <th>3</th>\n",
       "      <td>4</td>\n",
       "      <td>Afghanistan</td>\n",
       "      <td>2019</td>\n",
       "      <td>Tourism expenditure (millions of US dollars)</td>\n",
       "      <td>85</td>\n",
       "    </tr>\n",
       "    <tr>\n",
       "      <th>4</th>\n",
       "      <td>8</td>\n",
       "      <td>Albania</td>\n",
       "      <td>2010</td>\n",
       "      <td>Tourist/visitor arrivals (thousands)</td>\n",
       "      <td>2191</td>\n",
       "    </tr>\n",
       "  </tbody>\n",
       "</table>\n",
       "</div>"
      ],
      "text/plain": [
       "   Code Country/Area  Year                                        Series  \\\n",
       "0     4  Afghanistan  2010  Tourism expenditure (millions of US dollars)   \n",
       "1     4  Afghanistan  2017  Tourism expenditure (millions of US dollars)   \n",
       "2     4  Afghanistan  2018  Tourism expenditure (millions of US dollars)   \n",
       "3     4  Afghanistan  2019  Tourism expenditure (millions of US dollars)   \n",
       "4     8      Albania  2010          Tourist/visitor arrivals (thousands)   \n",
       "\n",
       "   Value  \n",
       "0    147  \n",
       "1     16  \n",
       "2     50  \n",
       "3     85  \n",
       "4   2191  "
      ]
     },
     "execution_count": 8,
     "metadata": {},
     "output_type": "execute_result"
    }
   ],
   "source": [
    "df1 = df[['Code', 'Country/Area', 'Year', 'Series', 'Value']]\n",
    "df1.head()"
   ]
  },
  {
   "cell_type": "code",
   "execution_count": 9,
   "metadata": {},
   "outputs": [
    {
     "name": "stdout",
     "output_type": "stream",
     "text": [
      "<class 'pandas.core.frame.DataFrame'>\n",
      "RangeIndex: 2114 entries, 0 to 2113\n",
      "Data columns (total 5 columns):\n",
      " #   Column        Non-Null Count  Dtype   \n",
      "---  ------        --------------  -----   \n",
      " 0   Code          2114 non-null   category\n",
      " 1   Country/Area  2114 non-null   object  \n",
      " 2   Year          2114 non-null   int64   \n",
      " 3   Series        2114 non-null   object  \n",
      " 4   Value         2114 non-null   int64   \n",
      "dtypes: category(1), int64(2), object(2)\n",
      "memory usage: 80.1+ KB\n"
     ]
    }
   ],
   "source": [
    "df1['Code'] = df1['Code'].astype('category')\n",
    "df1.info()"
   ]
  },
  {
   "cell_type": "code",
   "execution_count": 10,
   "metadata": {},
   "outputs": [
    {
     "data": {
      "text/html": [
       "<div>\n",
       "<style scoped>\n",
       "    .dataframe tbody tr th:only-of-type {\n",
       "        vertical-align: middle;\n",
       "    }\n",
       "\n",
       "    .dataframe tbody tr th {\n",
       "        vertical-align: top;\n",
       "    }\n",
       "\n",
       "    .dataframe thead th {\n",
       "        text-align: right;\n",
       "    }\n",
       "</style>\n",
       "<table border=\"1\" class=\"dataframe\">\n",
       "  <thead>\n",
       "    <tr style=\"text-align: right;\">\n",
       "      <th></th>\n",
       "      <th>Country/Area</th>\n",
       "      <th>Series</th>\n",
       "    </tr>\n",
       "  </thead>\n",
       "  <tbody>\n",
       "    <tr>\n",
       "      <th>count</th>\n",
       "      <td>2114</td>\n",
       "      <td>2114</td>\n",
       "    </tr>\n",
       "    <tr>\n",
       "      <th>unique</th>\n",
       "      <td>220</td>\n",
       "      <td>2</td>\n",
       "    </tr>\n",
       "    <tr>\n",
       "      <th>top</th>\n",
       "      <td>Nepal</td>\n",
       "      <td>Tourist/visitor arrivals (thousands)</td>\n",
       "    </tr>\n",
       "    <tr>\n",
       "      <th>freq</th>\n",
       "      <td>12</td>\n",
       "      <td>1084</td>\n",
       "    </tr>\n",
       "  </tbody>\n",
       "</table>\n",
       "</div>"
      ],
      "text/plain": [
       "       Country/Area                                Series\n",
       "count          2114                                  2114\n",
       "unique          220                                     2\n",
       "top           Nepal  Tourist/visitor arrivals (thousands)\n",
       "freq             12                                  1084"
      ]
     },
     "execution_count": 10,
     "metadata": {},
     "output_type": "execute_result"
    }
   ],
   "source": [
    "df1.describe(include='object')"
   ]
  },
  {
   "cell_type": "code",
   "execution_count": 11,
   "metadata": {},
   "outputs": [
    {
     "data": {
      "text/plain": [
       "144    12\n",
       "710    12\n",
       "422    12\n",
       "132    12\n",
       "410    12\n",
       "       ..\n",
       "478     2\n",
       "795     2\n",
       "728     2\n",
       "430     1\n",
       "226     1\n",
       "Name: Code, Length: 220, dtype: int64"
      ]
     },
     "execution_count": 11,
     "metadata": {},
     "output_type": "execute_result"
    }
   ],
   "source": [
    "df1['Code'].value_counts()"
   ]
  },
  {
   "cell_type": "code",
   "execution_count": 12,
   "metadata": {},
   "outputs": [
    {
     "data": {
      "text/plain": [
       "Nepal                12\n",
       "Republic of Korea    12\n",
       "Brazil               12\n",
       "United Kingdom       12\n",
       "Philippines          12\n",
       "                     ..\n",
       "Turkmenistan          2\n",
       "South Sudan           2\n",
       "Mauritania            2\n",
       "Equatorial Guinea     1\n",
       "Liberia               1\n",
       "Name: Country/Area, Length: 220, dtype: int64"
      ]
     },
     "execution_count": 12,
     "metadata": {},
     "output_type": "execute_result"
    }
   ],
   "source": [
    "df1['Country/Area'].value_counts()"
   ]
  },
  {
   "cell_type": "code",
   "execution_count": 13,
   "metadata": {},
   "outputs": [
    {
     "data": {
      "text/plain": [
       "array(['Afghanistan', 'Albania', 'Algeria', 'American Samoa', 'Andorra',\n",
       "       'Angola', 'Anguilla', 'Antigua and Barbuda', 'Argentina',\n",
       "       'Armenia', 'Aruba', 'Australia', 'Austria', 'Azerbaijan',\n",
       "       'Bahamas', 'Bahrain', 'Bangladesh', 'Barbados', 'Belarus',\n",
       "       'Belgium', 'Belize', 'Benin', 'Bermuda', 'Bhutan',\n",
       "       'Bolivia (Plurin. State of)', 'Bonaire', 'Bosnia and Herzegovina',\n",
       "       'Botswana', 'Brazil', 'British Virgin Islands',\n",
       "       'Brunei Darussalam', 'Bulgaria', 'Burkina Faso', 'Burundi',\n",
       "       'Cabo Verde', 'Cambodia', 'Cameroon', 'Canada', 'Cayman Islands',\n",
       "       'Central African Republic', 'Chad', 'Chile', 'China',\n",
       "       'China, Hong Kong SAR', 'China, Macao SAR', 'Colombia', 'Comoros',\n",
       "       'Congo', 'Cook Islands', 'Costa Rica', 'Côte d’Ivoire', 'Croatia',\n",
       "       'Cuba', 'Curaçao', 'Cyprus', 'Czechia', 'Dem. Rep. of the Congo',\n",
       "       'Denmark', 'Djibouti', 'Dominica', 'Dominican Republic', 'Ecuador',\n",
       "       'Egypt', 'El Salvador', 'Equatorial Guinea', 'Eritrea', 'Estonia',\n",
       "       'Eswatini', 'Ethiopia', 'Fiji', 'Finland', 'France',\n",
       "       'French Guiana', 'French Polynesia', 'Gabon', 'Gambia', 'Georgia',\n",
       "       'Germany', 'Ghana', 'Greece', 'Grenada', 'Guadeloupe', 'Guam',\n",
       "       'Guatemala', 'Guinea', 'Guinea-Bissau', 'Guyana', 'Haiti',\n",
       "       'Honduras', 'Hungary', 'Iceland', 'India', 'Indonesia',\n",
       "       'Iran (Islamic Republic of)', 'Iraq', 'Ireland', 'Israel', 'Italy',\n",
       "       'Jamaica', 'Japan', 'Jordan', 'Kazakhstan', 'Kenya', 'Kiribati',\n",
       "       'Kuwait', 'Kyrgyzstan', \"Lao People's Dem. Rep.\", 'Latvia',\n",
       "       'Lebanon', 'Lesotho', 'Liberia', 'Libya', 'Liechtenstein',\n",
       "       'Lithuania', 'Luxembourg', 'Madagascar', 'Malawi', 'Malaysia',\n",
       "       'Maldives', 'Mali', 'Malta', 'Marshall Islands', 'Martinique',\n",
       "       'Mauritania', 'Mauritius', 'Mexico', 'Micronesia (Fed. States of)',\n",
       "       'Monaco', 'Mongolia', 'Montenegro', 'Montserrat', 'Morocco',\n",
       "       'Mozambique', 'Myanmar', 'Namibia', 'Nauru', 'Nepal',\n",
       "       'Netherlands', 'New Caledonia', 'New Zealand', 'Nicaragua',\n",
       "       'Niger', 'Nigeria', 'Niue', 'North Macedonia',\n",
       "       'Northern Mariana Islands', 'Norway', 'Oman',\n",
       "       'Other non-specified areas', 'Pakistan', 'Palau', 'Panama',\n",
       "       'Papua New Guinea', 'Paraguay', 'Peru', 'Philippines', 'Poland',\n",
       "       'Portugal', 'Puerto Rico', 'Qatar', 'Republic of Korea',\n",
       "       'Republic of Moldova', 'Réunion', 'Romania', 'Russian Federation',\n",
       "       'Rwanda', 'Saba', 'Saint Kitts and Nevis', 'Saint Lucia',\n",
       "       'Saint Vincent & Grenadines', 'Samoa', 'San Marino',\n",
       "       'Sao Tome and Principe', 'Saudi Arabia', 'Senegal', 'Serbia',\n",
       "       'Seychelles', 'Sierra Leone', 'Singapore', 'Sint Eustatius',\n",
       "       'Sint Maarten (Dutch part)', 'Slovakia', 'Slovenia',\n",
       "       'Solomon Islands', 'South Africa', 'South Sudan', 'Spain',\n",
       "       'Sri Lanka', 'State of Palestine', 'Sudan', 'Suriname', 'Sweden',\n",
       "       'Switzerland', 'Syrian Arab Republic', 'Tajikistan', 'Thailand',\n",
       "       'Timor-Leste', 'Togo', 'Tonga', 'Trinidad and Tobago', 'Tunisia',\n",
       "       'Turkey', 'Turkmenistan', 'Turks and Caicos Islands', 'Tuvalu',\n",
       "       'Uganda', 'Ukraine', 'United Arab Emirates', 'United Kingdom',\n",
       "       'United Rep. of Tanzania', 'United States of America',\n",
       "       'United States Virgin Islands', 'Uruguay', 'Uzbekistan', 'Vanuatu',\n",
       "       'Venezuela (Boliv. Rep. of)', 'Viet Nam', 'Yemen', 'Zambia',\n",
       "       'Zimbabwe'], dtype=object)"
      ]
     },
     "execution_count": 13,
     "metadata": {},
     "output_type": "execute_result"
    }
   ],
   "source": [
    "# replace wrongly encoded country or area names\n",
    "df1['Country/Area'].replace(\n",
    "    {'C�te d�Ivoire': \"Côte d’Ivoire\",\n",
    "    'Cura�ao': 'Curaçao',\n",
    "    'R�union': 'Réunion'}, inplace=True\n",
    ")\n",
    "\n",
    "df1['Country/Area'].unique()"
   ]
  },
  {
   "cell_type": "code",
   "execution_count": 14,
   "metadata": {},
   "outputs": [
    {
     "data": {
      "text/plain": [
       "2010    401\n",
       "2005    396\n",
       "2017    382\n",
       "2018    365\n",
       "1995    342\n",
       "2019    228\n",
       "Name: Year, dtype: int64"
      ]
     },
     "execution_count": 14,
     "metadata": {},
     "output_type": "execute_result"
    }
   ],
   "source": [
    "df1['Year'].value_counts()"
   ]
  },
  {
   "cell_type": "code",
   "execution_count": 15,
   "metadata": {},
   "outputs": [
    {
     "data": {
      "text/plain": [
       "Tourist/visitor arrivals (thousands)            1084\n",
       "Tourism expenditure (millions of US dollars)    1030\n",
       "Name: Series, dtype: int64"
      ]
     },
     "execution_count": 15,
     "metadata": {},
     "output_type": "execute_result"
    }
   ],
   "source": [
    "df1['Series'].value_counts()"
   ]
  },
  {
   "cell_type": "code",
   "execution_count": 16,
   "metadata": {},
   "outputs": [
    {
     "data": {
      "text/plain": [
       "count      2114.000000\n",
       "mean       5997.287606\n",
       "std       15152.505525\n",
       "min           1.000000\n",
       "25%         205.000000\n",
       "50%         937.500000\n",
       "75%        4968.250000\n",
       "max      237726.000000\n",
       "Name: Value, dtype: float64"
      ]
     },
     "execution_count": 16,
     "metadata": {},
     "output_type": "execute_result"
    }
   ],
   "source": [
    "df1['Value'].describe()"
   ]
  },
  {
   "cell_type": "code",
   "execution_count": 17,
   "metadata": {},
   "outputs": [
    {
     "data": {
      "text/plain": [
       "<AxesSubplot:xlabel='Value', ylabel='Density'>"
      ]
     },
     "execution_count": 17,
     "metadata": {},
     "output_type": "execute_result"
    },
    {
     "data": {
      "image/png": "[encoded data removed]",
      "text/plain": [
       "<Figure size 864x648 with 1 Axes>"
      ]
     },
     "metadata": {},
     "output_type": "display_data"
    }
   ],
   "source": [
    "sns.kdeplot(data=df1, x='Value', hue='Series')"
   ]
  },
  {
   "cell_type": "markdown",
   "metadata": {},
   "source": [
    "# Missing Values Exploration"
   ]
  },
  {
   "cell_type": "code",
   "execution_count": 18,
   "metadata": {},
   "outputs": [
    {
     "data": {
      "text/plain": [
       "Code            0\n",
       "Country/Area    0\n",
       "Year            0\n",
       "Series          0\n",
       "Value           0\n",
       "dtype: int64"
      ]
     },
     "execution_count": 18,
     "metadata": {},
     "output_type": "execute_result"
    }
   ],
   "source": [
    "df1.isna().sum()"
   ]
  },
  {
   "cell_type": "markdown",
   "metadata": {},
   "source": [
    "# Grouping and Aggregation"
   ]
  },
  {
   "cell_type": "code",
   "execution_count": 19,
   "metadata": {},
   "outputs": [
    {
     "data": {
      "text/html": [
       "<div>\n",
       "<style scoped>\n",
       "    .dataframe tbody tr th:only-of-type {\n",
       "        vertical-align: middle;\n",
       "    }\n",
       "\n",
       "    .dataframe tbody tr th {\n",
       "        vertical-align: top;\n",
       "    }\n",
       "\n",
       "    .dataframe thead th {\n",
       "        text-align: right;\n",
       "    }\n",
       "</style>\n",
       "<table border=\"1\" class=\"dataframe\">\n",
       "  <thead>\n",
       "    <tr style=\"text-align: right;\">\n",
       "      <th></th>\n",
       "      <th>Code</th>\n",
       "      <th>Country/Area</th>\n",
       "      <th>Year</th>\n",
       "      <th>Series</th>\n",
       "      <th>Value</th>\n",
       "    </tr>\n",
       "  </thead>\n",
       "  <tbody>\n",
       "    <tr>\n",
       "      <th>0</th>\n",
       "      <td>4</td>\n",
       "      <td>Afghanistan</td>\n",
       "      <td>2010</td>\n",
       "      <td>Tourism expenditure (millions of US dollars)</td>\n",
       "      <td>147</td>\n",
       "    </tr>\n",
       "    <tr>\n",
       "      <th>1</th>\n",
       "      <td>4</td>\n",
       "      <td>Afghanistan</td>\n",
       "      <td>2017</td>\n",
       "      <td>Tourism expenditure (millions of US dollars)</td>\n",
       "      <td>16</td>\n",
       "    </tr>\n",
       "    <tr>\n",
       "      <th>2</th>\n",
       "      <td>4</td>\n",
       "      <td>Afghanistan</td>\n",
       "      <td>2018</td>\n",
       "      <td>Tourism expenditure (millions of US dollars)</td>\n",
       "      <td>50</td>\n",
       "    </tr>\n",
       "    <tr>\n",
       "      <th>3</th>\n",
       "      <td>4</td>\n",
       "      <td>Afghanistan</td>\n",
       "      <td>2019</td>\n",
       "      <td>Tourism expenditure (millions of US dollars)</td>\n",
       "      <td>85</td>\n",
       "    </tr>\n",
       "    <tr>\n",
       "      <th>4</th>\n",
       "      <td>8</td>\n",
       "      <td>Albania</td>\n",
       "      <td>2010</td>\n",
       "      <td>Tourist/visitor arrivals (thousands)</td>\n",
       "      <td>2191</td>\n",
       "    </tr>\n",
       "    <tr>\n",
       "      <th>...</th>\n",
       "      <td>...</td>\n",
       "      <td>...</td>\n",
       "      <td>...</td>\n",
       "      <td>...</td>\n",
       "      <td>...</td>\n",
       "    </tr>\n",
       "    <tr>\n",
       "      <th>2109</th>\n",
       "      <td>716</td>\n",
       "      <td>Zimbabwe</td>\n",
       "      <td>2018</td>\n",
       "      <td>Tourist/visitor arrivals (thousands)</td>\n",
       "      <td>2580</td>\n",
       "    </tr>\n",
       "    <tr>\n",
       "      <th>2110</th>\n",
       "      <td>716</td>\n",
       "      <td>Zimbabwe</td>\n",
       "      <td>1995</td>\n",
       "      <td>Tourism expenditure (millions of US dollars)</td>\n",
       "      <td>145</td>\n",
       "    </tr>\n",
       "    <tr>\n",
       "      <th>2111</th>\n",
       "      <td>716</td>\n",
       "      <td>Zimbabwe</td>\n",
       "      <td>2005</td>\n",
       "      <td>Tourism expenditure (millions of US dollars)</td>\n",
       "      <td>99</td>\n",
       "    </tr>\n",
       "    <tr>\n",
       "      <th>2112</th>\n",
       "      <td>716</td>\n",
       "      <td>Zimbabwe</td>\n",
       "      <td>2010</td>\n",
       "      <td>Tourism expenditure (millions of US dollars)</td>\n",
       "      <td>135</td>\n",
       "    </tr>\n",
       "    <tr>\n",
       "      <th>2113</th>\n",
       "      <td>716</td>\n",
       "      <td>Zimbabwe</td>\n",
       "      <td>2017</td>\n",
       "      <td>Tourism expenditure (millions of US dollars)</td>\n",
       "      <td>158</td>\n",
       "    </tr>\n",
       "  </tbody>\n",
       "</table>\n",
       "<p>1938 rows × 5 columns</p>\n",
       "</div>"
      ],
      "text/plain": [
       "     Code Country/Area  Year                                        Series  \\\n",
       "0       4  Afghanistan  2010  Tourism expenditure (millions of US dollars)   \n",
       "1       4  Afghanistan  2017  Tourism expenditure (millions of US dollars)   \n",
       "2       4  Afghanistan  2018  Tourism expenditure (millions of US dollars)   \n",
       "3       4  Afghanistan  2019  Tourism expenditure (millions of US dollars)   \n",
       "4       8      Albania  2010          Tourist/visitor arrivals (thousands)   \n",
       "...   ...          ...   ...                                           ...   \n",
       "2109  716     Zimbabwe  2018          Tourist/visitor arrivals (thousands)   \n",
       "2110  716     Zimbabwe  1995  Tourism expenditure (millions of US dollars)   \n",
       "2111  716     Zimbabwe  2005  Tourism expenditure (millions of US dollars)   \n",
       "2112  716     Zimbabwe  2010  Tourism expenditure (millions of US dollars)   \n",
       "2113  716     Zimbabwe  2017  Tourism expenditure (millions of US dollars)   \n",
       "\n",
       "      Value  \n",
       "0       147  \n",
       "1        16  \n",
       "2        50  \n",
       "3        85  \n",
       "4      2191  \n",
       "...     ...  \n",
       "2109   2580  \n",
       "2110    145  \n",
       "2111     99  \n",
       "2112    135  \n",
       "2113    158  \n",
       "\n",
       "[1938 rows x 5 columns]"
      ]
     },
     "execution_count": 19,
     "metadata": {},
     "output_type": "execute_result"
    }
   ],
   "source": [
    "df1_grpd = df1.groupby(['Country/Area', 'Series'])\n",
    "df1_grpd.head()"
   ]
  },
  {
   "cell_type": "markdown",
   "metadata": {},
   "source": [
    "# Data Visualization"
   ]
  },
  {
   "cell_type": "code",
   "execution_count": 20,
   "metadata": {},
   "outputs": [],
   "source": [
    "from matplotlib.ticker import FuncFormatter\n",
    "\n",
    "# y-axis formatter functions\n",
    "def million(x, pos):\n",
    "    return '%1.1fM' % (x * 1e-6)\n",
    "\n",
    "format_mill = FuncFormatter(million)\n",
    "\n",
    "\n",
    "def thousand(x, pos):\n",
    "    return '%1.1fK' % (x * 1e-3)\n",
    "\n",
    "format_tsd = FuncFormatter(thousand)\n",
    "\n",
    "\n",
    "# bar plot helper function\n",
    "def plot_bar(data, x, y, hue=None, title=None, xlabel=None, ylabel=None, formatter=None):\n",
    "    # create figure and axis\n",
    "    fig, ax = plt.subplots()\n",
    "    fig.autofmt_xdate()\n",
    "\n",
    "    # plot bar chart\n",
    "    sns.barplot(\n",
    "        data=data, \n",
    "        x=x, y=y, \n",
    "        ci=None, hue=hue,\n",
    "        ax=ax)\n",
    "\n",
    "    # label plot axes\n",
    "    ax.set(title=title, xlabel=xlabel, ylabel=ylabel)\n",
    "\n",
    "    # set y-axis formatter\n",
    "    ax.yaxis.set_major_formatter(formatter=formatter)\n",
    "\n",
    "    # despine plot axes\n",
    "    sns.despine(bottom=True, left=True)\n",
    "\n",
    "    return plot_bar"
   ]
  },
  {
   "cell_type": "markdown",
   "metadata": {},
   "source": [
    "# Tourism expenditure exploration"
   ]
  },
  {
   "cell_type": "code",
   "execution_count": 21,
   "metadata": {},
   "outputs": [
    {
     "data": {
      "text/plain": [
       "<function __main__.plot_bar(data, x, y, hue=None, title=None, xlabel=None, ylabel=None, formatter=None)>"
      ]
     },
     "execution_count": 21,
     "metadata": {},
     "output_type": "execute_result"
    },
    {
     "data": {
      "image/png": "[encoded data removed]",
      "text/plain": [
       "<Figure size 864x648 with 1 Axes>"
      ]
     },
     "metadata": {},
     "output_type": "display_data"
    }
   ],
   "source": [
    "plot_bar(\n",
    "    data=df1_grpd.get_group(('Germany', 'Tourism expenditure (millions of US dollars)')),\n",
    "    x='Year', y='Value',\n",
    "    title='Germany', xlabel='Year', ylabel='Tourism expenditure (millions of US dollars)',\n",
    "    formatter=format_tsd\n",
    ")"
   ]
  },
  {
   "cell_type": "code",
   "execution_count": 22,
   "metadata": {},
   "outputs": [
    {
     "data": {
      "text/plain": [
       "<function __main__.plot_bar(data, x, y, hue=None, title=None, xlabel=None, ylabel=None, formatter=None)>"
      ]
     },
     "execution_count": 22,
     "metadata": {},
     "output_type": "execute_result"
    },
    {
     "data": {
      "image/png": "[encoded data removed]",
      "text/plain": [
       "<Figure size 864x648 with 1 Axes>"
      ]
     },
     "metadata": {},
     "output_type": "display_data"
    }
   ],
   "source": [
    "plot_bar(\n",
    "    data=df1_grpd.get_group(('China', 'Tourism expenditure (millions of US dollars)')),\n",
    "    x='Year', y='Value',\n",
    "    title='China', xlabel='Year', ylabel='Tourism expenditure (millions of US dollars)',\n",
    "    formatter=format_tsd\n",
    ")"
   ]
  },
  {
   "cell_type": "code",
   "execution_count": 23,
   "metadata": {},
   "outputs": [
    {
     "data": {
      "text/plain": [
       "<function __main__.plot_bar(data, x, y, hue=None, title=None, xlabel=None, ylabel=None, formatter=None)>"
      ]
     },
     "execution_count": 23,
     "metadata": {},
     "output_type": "execute_result"
    },
    {
     "data": {
      "image/png": "[encoded data removed]",
      "text/plain": [
       "<Figure size 864x648 with 1 Axes>"
      ]
     },
     "metadata": {},
     "output_type": "display_data"
    }
   ],
   "source": [
    "plot_bar(\n",
    "    data=df1_grpd.get_group(('United States of America', 'Tourism expenditure (millions of US dollars)')),\n",
    "    x='Year', y='Value',\n",
    "    title='USA', xlabel='Year', ylabel='Tourism expenditure (millions of US dollars)',\n",
    "    formatter=format_tsd\n",
    ")"
   ]
  },
  {
   "cell_type": "markdown",
   "metadata": {},
   "source": [
    "# Tourist/visitor arrivals exploration"
   ]
  },
  {
   "cell_type": "code",
   "execution_count": 24,
   "metadata": {},
   "outputs": [
    {
     "data": {
      "text/plain": [
       "<function __main__.plot_bar(data, x, y, hue=None, title=None, xlabel=None, ylabel=None, formatter=None)>"
      ]
     },
     "execution_count": 24,
     "metadata": {},
     "output_type": "execute_result"
    },
    {
     "data": {
      "image/png": "[encoded data removed]",
      "text/plain": [
       "<Figure size 864x648 with 1 Axes>"
      ]
     },
     "metadata": {},
     "output_type": "display_data"
    }
   ],
   "source": [
    "plot_bar(\n",
    "    data=df1_grpd.get_group(('Germany', 'Tourist/visitor arrivals (thousands)')),\n",
    "    x='Year', y='Value',\n",
    "    title='Germany', xlabel='Year', ylabel='Tourist/visitor arrivals (thousands)',\n",
    "    formatter=format_tsd\n",
    ")"
   ]
  },
  {
   "cell_type": "code",
   "execution_count": 25,
   "metadata": {},
   "outputs": [
    {
     "data": {
      "text/plain": [
       "<function __main__.plot_bar(data, x, y, hue=None, title=None, xlabel=None, ylabel=None, formatter=None)>"
      ]
     },
     "execution_count": 25,
     "metadata": {},
     "output_type": "execute_result"
    },
    {
     "data": {
      "image/png": "[encoded data removed]",
      "text/plain": [
       "<Figure size 864x648 with 1 Axes>"
      ]
     },
     "metadata": {},
     "output_type": "display_data"
    }
   ],
   "source": [
    "plot_bar(\n",
    "    data=df1_grpd.get_group(('China', 'Tourist/visitor arrivals (thousands)')),\n",
    "    x='Year', y='Value',\n",
    "    title='China', xlabel='Year', ylabel='Tourist/visitor arrivals (thousands)',\n",
    "    formatter=format_tsd\n",
    ")"
   ]
  },
  {
   "cell_type": "code",
   "execution_count": 26,
   "metadata": {},
   "outputs": [
    {
     "data": {
      "text/plain": [
       "<function __main__.plot_bar(data, x, y, hue=None, title=None, xlabel=None, ylabel=None, formatter=None)>"
      ]
     },
     "execution_count": 26,
     "metadata": {},
     "output_type": "execute_result"
    },
    {
     "data": {
      "image/png": "[encoded data removed]",
      "text/plain": [
       "<Figure size 864x648 with 1 Axes>"
      ]
     },
     "metadata": {},
     "output_type": "display_data"
    }
   ],
   "source": [
    "plot_bar(\n",
    "    data=df1_grpd.get_group(('United States of America', 'Tourist/visitor arrivals (thousands)')),\n",
    "    x='Year', y='Value',\n",
    "    title='USA', xlabel='Year', ylabel='Tourist/visitor arrivals (thousands)',\n",
    "    formatter=format_tsd\n",
    ")"
   ]
  }
 ],
 "metadata": {
  "interpreter": {
   "hash": "3fe9daace87ea8cb12e037f7452ad9bcd52f59aa894a611255d1461de3a9065e"
  },
  "kernelspec": {
   "display_name": "Python 3.9.7 ('DS')",
   "language": "python",
   "name": "python3"
  },
  "language_info": {
   "codemirror_mode": {
    "name": "ipython",
    "version": 3
   },
   "file_extension": ".py",
   "mimetype": "text/x-python",
   "name": "python",
   "nbconvert_exporter": "python",
   "pygments_lexer": "ipython3",
   "version": "3.9.12"
  },
  "orig_nbformat": 4
 },
 "nbformat": 4,
 "nbformat_minor": 2
}
