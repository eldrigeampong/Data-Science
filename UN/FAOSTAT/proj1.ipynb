{
 "cells": [
  {
   "cell_type": "markdown",
   "metadata": {},
   "source": [
    "# Avocados"
   ]
  },
  {
   "cell_type": "markdown",
   "metadata": {},
   "source": [
    "# Import Libraries"
   ]
  },
  {
   "cell_type": "code",
   "execution_count": 1,
   "metadata": {},
   "outputs": [],
   "source": [
    "import numpy as np\n",
    "import pandas as pd\n",
    "import matplotlib.pyplot as plt\n",
    "import seaborn as sns\n",
    "import os\n",
    "import warnings"
   ]
  },
  {
   "cell_type": "markdown",
   "metadata": {},
   "source": [
    "# Options and Settings"
   ]
  },
  {
   "cell_type": "code",
   "execution_count": 2,
   "metadata": {},
   "outputs": [],
   "source": [
    "%matplotlib inline\n",
    "plt.style.use('ggplot')\n",
    "plt.rcParams['figure.autolayout'] = True\n",
    "plt.rcParams['figure.figsize'] = [12, 9]\n",
    "plt.rcParams['font.size'] = 12\n",
    "path = os.getcwd()                                         # get current working directory\n",
    "warnings.simplefilter('ignore')"
   ]
  },
  {
   "cell_type": "markdown",
   "metadata": {},
   "source": [
    "# Import Data"
   ]
  },
  {
   "cell_type": "code",
   "execution_count": 3,
   "metadata": {},
   "outputs": [],
   "source": [
    "filepath = os.path.join('datasets', 'Avocados.csv')\n",
    "df = pd.read_csv(filepath)"
   ]
  },
  {
   "cell_type": "markdown",
   "metadata": {},
   "source": [
    "# Head and Tail"
   ]
  },
  {
   "cell_type": "code",
   "execution_count": 4,
   "metadata": {},
   "outputs": [
    {
     "data": {
      "text/html": [
       "<div>\n",
       "<style scoped>\n",
       "    .dataframe tbody tr th:only-of-type {\n",
       "        vertical-align: middle;\n",
       "    }\n",
       "\n",
       "    .dataframe tbody tr th {\n",
       "        vertical-align: top;\n",
       "    }\n",
       "\n",
       "    .dataframe thead th {\n",
       "        text-align: right;\n",
       "    }\n",
       "</style>\n",
       "<table border=\"1\" class=\"dataframe\">\n",
       "  <thead>\n",
       "    <tr style=\"text-align: right;\">\n",
       "      <th></th>\n",
       "      <th>Country or Area</th>\n",
       "      <th>Element</th>\n",
       "      <th>Year</th>\n",
       "      <th>Unit</th>\n",
       "      <th>Value</th>\n",
       "      <th>Value Footnotes</th>\n",
       "    </tr>\n",
       "  </thead>\n",
       "  <tbody>\n",
       "    <tr>\n",
       "      <th>0</th>\n",
       "      <td>Africa</td>\n",
       "      <td>Area harvested</td>\n",
       "      <td>2018.0</td>\n",
       "      <td>ha</td>\n",
       "      <td>385249.0</td>\n",
       "      <td>A</td>\n",
       "    </tr>\n",
       "    <tr>\n",
       "      <th>1</th>\n",
       "      <td>Africa</td>\n",
       "      <td>Area harvested</td>\n",
       "      <td>2017.0</td>\n",
       "      <td>ha</td>\n",
       "      <td>85241.0</td>\n",
       "      <td>A</td>\n",
       "    </tr>\n",
       "    <tr>\n",
       "      <th>2</th>\n",
       "      <td>Africa</td>\n",
       "      <td>Area harvested</td>\n",
       "      <td>2016.0</td>\n",
       "      <td>ha</td>\n",
       "      <td>88975.0</td>\n",
       "      <td>A</td>\n",
       "    </tr>\n",
       "    <tr>\n",
       "      <th>3</th>\n",
       "      <td>Africa</td>\n",
       "      <td>Area harvested</td>\n",
       "      <td>2015.0</td>\n",
       "      <td>ha</td>\n",
       "      <td>81448.0</td>\n",
       "      <td>A</td>\n",
       "    </tr>\n",
       "    <tr>\n",
       "      <th>4</th>\n",
       "      <td>Africa</td>\n",
       "      <td>Area harvested</td>\n",
       "      <td>2014.0</td>\n",
       "      <td>ha</td>\n",
       "      <td>87387.0</td>\n",
       "      <td>A</td>\n",
       "    </tr>\n",
       "    <tr>\n",
       "      <th>...</th>\n",
       "      <td>...</td>\n",
       "      <td>...</td>\n",
       "      <td>...</td>\n",
       "      <td>...</td>\n",
       "      <td>...</td>\n",
       "      <td>...</td>\n",
       "    </tr>\n",
       "    <tr>\n",
       "      <th>14127</th>\n",
       "      <td>Zimbabwe</td>\n",
       "      <td>Production</td>\n",
       "      <td>1994.0</td>\n",
       "      <td>tonnes</td>\n",
       "      <td>587.0</td>\n",
       "      <td>Im</td>\n",
       "    </tr>\n",
       "    <tr>\n",
       "      <th>14128</th>\n",
       "      <td>Zimbabwe</td>\n",
       "      <td>Production</td>\n",
       "      <td>1993.0</td>\n",
       "      <td>tonnes</td>\n",
       "      <td>561.0</td>\n",
       "      <td>Im</td>\n",
       "    </tr>\n",
       "    <tr>\n",
       "      <th>14129</th>\n",
       "      <td>Zimbabwe</td>\n",
       "      <td>Production</td>\n",
       "      <td>1992.0</td>\n",
       "      <td>tonnes</td>\n",
       "      <td>536.0</td>\n",
       "      <td>Im</td>\n",
       "    </tr>\n",
       "    <tr>\n",
       "      <th>14130</th>\n",
       "      <td>Zimbabwe</td>\n",
       "      <td>Production</td>\n",
       "      <td>1991.0</td>\n",
       "      <td>tonnes</td>\n",
       "      <td>511.0</td>\n",
       "      <td>Im</td>\n",
       "    </tr>\n",
       "    <tr>\n",
       "      <th>14131</th>\n",
       "      <td>Zimbabwe</td>\n",
       "      <td>Production</td>\n",
       "      <td>1990.0</td>\n",
       "      <td>tonnes</td>\n",
       "      <td>500.0</td>\n",
       "      <td>F</td>\n",
       "    </tr>\n",
       "  </tbody>\n",
       "</table>\n",
       "<p>14132 rows × 6 columns</p>\n",
       "</div>"
      ],
      "text/plain": [
       "      Country or Area         Element    Year    Unit     Value  \\\n",
       "0              Africa  Area harvested  2018.0      ha  385249.0   \n",
       "1              Africa  Area harvested  2017.0      ha   85241.0   \n",
       "2              Africa  Area harvested  2016.0      ha   88975.0   \n",
       "3              Africa  Area harvested  2015.0      ha   81448.0   \n",
       "4              Africa  Area harvested  2014.0      ha   87387.0   \n",
       "...               ...             ...     ...     ...       ...   \n",
       "14127        Zimbabwe      Production  1994.0  tonnes     587.0   \n",
       "14128        Zimbabwe      Production  1993.0  tonnes     561.0   \n",
       "14129        Zimbabwe      Production  1992.0  tonnes     536.0   \n",
       "14130        Zimbabwe      Production  1991.0  tonnes     511.0   \n",
       "14131        Zimbabwe      Production  1990.0  tonnes     500.0   \n",
       "\n",
       "      Value Footnotes  \n",
       "0                   A  \n",
       "1                   A  \n",
       "2                   A  \n",
       "3                   A  \n",
       "4                   A  \n",
       "...               ...  \n",
       "14127              Im  \n",
       "14128              Im  \n",
       "14129              Im  \n",
       "14130              Im  \n",
       "14131               F  \n",
       "\n",
       "[14132 rows x 6 columns]"
      ]
     },
     "execution_count": 4,
     "metadata": {},
     "output_type": "execute_result"
    }
   ],
   "source": [
    "df =  df[:14132]                                  # select index position 0-14132\n",
    "df"
   ]
  },
  {
   "cell_type": "code",
   "execution_count": 5,
   "metadata": {},
   "outputs": [
    {
     "data": {
      "text/html": [
       "<div>\n",
       "<style scoped>\n",
       "    .dataframe tbody tr th:only-of-type {\n",
       "        vertical-align: middle;\n",
       "    }\n",
       "\n",
       "    .dataframe tbody tr th {\n",
       "        vertical-align: top;\n",
       "    }\n",
       "\n",
       "    .dataframe thead th {\n",
       "        text-align: right;\n",
       "    }\n",
       "</style>\n",
       "<table border=\"1\" class=\"dataframe\">\n",
       "  <thead>\n",
       "    <tr style=\"text-align: right;\">\n",
       "      <th></th>\n",
       "      <th>Country or Area</th>\n",
       "      <th>Element</th>\n",
       "      <th>Year</th>\n",
       "      <th>Unit</th>\n",
       "      <th>Value</th>\n",
       "      <th>Value Footnotes</th>\n",
       "    </tr>\n",
       "  </thead>\n",
       "  <tbody>\n",
       "    <tr>\n",
       "      <th>0</th>\n",
       "      <td>Africa</td>\n",
       "      <td>Area harvested</td>\n",
       "      <td>2018</td>\n",
       "      <td>ha</td>\n",
       "      <td>385249.0</td>\n",
       "      <td>A</td>\n",
       "    </tr>\n",
       "    <tr>\n",
       "      <th>1</th>\n",
       "      <td>Africa</td>\n",
       "      <td>Area harvested</td>\n",
       "      <td>2017</td>\n",
       "      <td>ha</td>\n",
       "      <td>85241.0</td>\n",
       "      <td>A</td>\n",
       "    </tr>\n",
       "    <tr>\n",
       "      <th>2</th>\n",
       "      <td>Africa</td>\n",
       "      <td>Area harvested</td>\n",
       "      <td>2016</td>\n",
       "      <td>ha</td>\n",
       "      <td>88975.0</td>\n",
       "      <td>A</td>\n",
       "    </tr>\n",
       "    <tr>\n",
       "      <th>3</th>\n",
       "      <td>Africa</td>\n",
       "      <td>Area harvested</td>\n",
       "      <td>2015</td>\n",
       "      <td>ha</td>\n",
       "      <td>81448.0</td>\n",
       "      <td>A</td>\n",
       "    </tr>\n",
       "    <tr>\n",
       "      <th>4</th>\n",
       "      <td>Africa</td>\n",
       "      <td>Area harvested</td>\n",
       "      <td>2014</td>\n",
       "      <td>ha</td>\n",
       "      <td>87387.0</td>\n",
       "      <td>A</td>\n",
       "    </tr>\n",
       "    <tr>\n",
       "      <th>...</th>\n",
       "      <td>...</td>\n",
       "      <td>...</td>\n",
       "      <td>...</td>\n",
       "      <td>...</td>\n",
       "      <td>...</td>\n",
       "      <td>...</td>\n",
       "    </tr>\n",
       "    <tr>\n",
       "      <th>14127</th>\n",
       "      <td>Zimbabwe</td>\n",
       "      <td>Production</td>\n",
       "      <td>1994</td>\n",
       "      <td>tonnes</td>\n",
       "      <td>587.0</td>\n",
       "      <td>Im</td>\n",
       "    </tr>\n",
       "    <tr>\n",
       "      <th>14128</th>\n",
       "      <td>Zimbabwe</td>\n",
       "      <td>Production</td>\n",
       "      <td>1993</td>\n",
       "      <td>tonnes</td>\n",
       "      <td>561.0</td>\n",
       "      <td>Im</td>\n",
       "    </tr>\n",
       "    <tr>\n",
       "      <th>14129</th>\n",
       "      <td>Zimbabwe</td>\n",
       "      <td>Production</td>\n",
       "      <td>1992</td>\n",
       "      <td>tonnes</td>\n",
       "      <td>536.0</td>\n",
       "      <td>Im</td>\n",
       "    </tr>\n",
       "    <tr>\n",
       "      <th>14130</th>\n",
       "      <td>Zimbabwe</td>\n",
       "      <td>Production</td>\n",
       "      <td>1991</td>\n",
       "      <td>tonnes</td>\n",
       "      <td>511.0</td>\n",
       "      <td>Im</td>\n",
       "    </tr>\n",
       "    <tr>\n",
       "      <th>14131</th>\n",
       "      <td>Zimbabwe</td>\n",
       "      <td>Production</td>\n",
       "      <td>1990</td>\n",
       "      <td>tonnes</td>\n",
       "      <td>500.0</td>\n",
       "      <td>F</td>\n",
       "    </tr>\n",
       "  </tbody>\n",
       "</table>\n",
       "<p>14132 rows × 6 columns</p>\n",
       "</div>"
      ],
      "text/plain": [
       "      Country or Area         Element  Year    Unit     Value Value Footnotes\n",
       "0              Africa  Area harvested  2018      ha  385249.0               A\n",
       "1              Africa  Area harvested  2017      ha   85241.0               A\n",
       "2              Africa  Area harvested  2016      ha   88975.0               A\n",
       "3              Africa  Area harvested  2015      ha   81448.0               A\n",
       "4              Africa  Area harvested  2014      ha   87387.0               A\n",
       "...               ...             ...   ...     ...       ...             ...\n",
       "14127        Zimbabwe      Production  1994  tonnes     587.0              Im\n",
       "14128        Zimbabwe      Production  1993  tonnes     561.0              Im\n",
       "14129        Zimbabwe      Production  1992  tonnes     536.0              Im\n",
       "14130        Zimbabwe      Production  1991  tonnes     511.0              Im\n",
       "14131        Zimbabwe      Production  1990  tonnes     500.0               F\n",
       "\n",
       "[14132 rows x 6 columns]"
      ]
     },
     "execution_count": 5,
     "metadata": {},
     "output_type": "execute_result"
    }
   ],
   "source": [
    "df['Year'] = df['Year'].astype(int)                \n",
    "df"
   ]
  },
  {
   "cell_type": "code",
   "execution_count": 6,
   "metadata": {},
   "outputs": [
    {
     "data": {
      "text/plain": [
       "(14132, 6)"
      ]
     },
     "execution_count": 6,
     "metadata": {},
     "output_type": "execute_result"
    }
   ],
   "source": [
    "df.shape"
   ]
  },
  {
   "cell_type": "code",
   "execution_count": 7,
   "metadata": {},
   "outputs": [
    {
     "name": "stdout",
     "output_type": "stream",
     "text": [
      "<class 'pandas.core.frame.DataFrame'>\n",
      "RangeIndex: 14132 entries, 0 to 14131\n",
      "Data columns (total 6 columns):\n",
      " #   Column           Non-Null Count  Dtype  \n",
      "---  ------           --------------  -----  \n",
      " 0   Country or Area  14132 non-null  object \n",
      " 1   Element          14132 non-null  object \n",
      " 2   Year             14132 non-null  int32  \n",
      " 3   Unit             14132 non-null  object \n",
      " 4   Value            14132 non-null  float64\n",
      " 5   Value Footnotes  11107 non-null  object \n",
      "dtypes: float64(1), int32(1), object(4)\n",
      "memory usage: 607.4+ KB\n"
     ]
    }
   ],
   "source": [
    "df.info()"
   ]
  },
  {
   "cell_type": "code",
   "execution_count": 8,
   "metadata": {},
   "outputs": [
    {
     "data": {
      "text/html": [
       "<div>\n",
       "<style scoped>\n",
       "    .dataframe tbody tr th:only-of-type {\n",
       "        vertical-align: middle;\n",
       "    }\n",
       "\n",
       "    .dataframe tbody tr th {\n",
       "        vertical-align: top;\n",
       "    }\n",
       "\n",
       "    .dataframe thead th {\n",
       "        text-align: right;\n",
       "    }\n",
       "</style>\n",
       "<table border=\"1\" class=\"dataframe\">\n",
       "  <thead>\n",
       "    <tr style=\"text-align: right;\">\n",
       "      <th></th>\n",
       "      <th>Country_or_Area</th>\n",
       "      <th>Element</th>\n",
       "      <th>Year</th>\n",
       "      <th>Unit</th>\n",
       "      <th>Value</th>\n",
       "      <th>Value Footnotes</th>\n",
       "    </tr>\n",
       "  </thead>\n",
       "  <tbody>\n",
       "    <tr>\n",
       "      <th>0</th>\n",
       "      <td>Africa</td>\n",
       "      <td>Area harvested</td>\n",
       "      <td>2018</td>\n",
       "      <td>ha</td>\n",
       "      <td>385249.0</td>\n",
       "      <td>A</td>\n",
       "    </tr>\n",
       "    <tr>\n",
       "      <th>1</th>\n",
       "      <td>Africa</td>\n",
       "      <td>Area harvested</td>\n",
       "      <td>2017</td>\n",
       "      <td>ha</td>\n",
       "      <td>85241.0</td>\n",
       "      <td>A</td>\n",
       "    </tr>\n",
       "    <tr>\n",
       "      <th>2</th>\n",
       "      <td>Africa</td>\n",
       "      <td>Area harvested</td>\n",
       "      <td>2016</td>\n",
       "      <td>ha</td>\n",
       "      <td>88975.0</td>\n",
       "      <td>A</td>\n",
       "    </tr>\n",
       "    <tr>\n",
       "      <th>3</th>\n",
       "      <td>Africa</td>\n",
       "      <td>Area harvested</td>\n",
       "      <td>2015</td>\n",
       "      <td>ha</td>\n",
       "      <td>81448.0</td>\n",
       "      <td>A</td>\n",
       "    </tr>\n",
       "    <tr>\n",
       "      <th>4</th>\n",
       "      <td>Africa</td>\n",
       "      <td>Area harvested</td>\n",
       "      <td>2014</td>\n",
       "      <td>ha</td>\n",
       "      <td>87387.0</td>\n",
       "      <td>A</td>\n",
       "    </tr>\n",
       "  </tbody>\n",
       "</table>\n",
       "</div>"
      ],
      "text/plain": [
       "  Country_or_Area         Element  Year Unit     Value Value Footnotes\n",
       "0          Africa  Area harvested  2018   ha  385249.0               A\n",
       "1          Africa  Area harvested  2017   ha   85241.0               A\n",
       "2          Africa  Area harvested  2016   ha   88975.0               A\n",
       "3          Africa  Area harvested  2015   ha   81448.0               A\n",
       "4          Africa  Area harvested  2014   ha   87387.0               A"
      ]
     },
     "execution_count": 8,
     "metadata": {},
     "output_type": "execute_result"
    }
   ],
   "source": [
    "df.rename(columns={'Country or Area': 'Country_or_Area'}, inplace=True)\n",
    "df.head()"
   ]
  },
  {
   "cell_type": "code",
   "execution_count": 9,
   "metadata": {},
   "outputs": [
    {
     "data": {
      "text/html": [
       "<div>\n",
       "<style scoped>\n",
       "    .dataframe tbody tr th:only-of-type {\n",
       "        vertical-align: middle;\n",
       "    }\n",
       "\n",
       "    .dataframe tbody tr th {\n",
       "        vertical-align: top;\n",
       "    }\n",
       "\n",
       "    .dataframe thead th {\n",
       "        text-align: right;\n",
       "    }\n",
       "</style>\n",
       "<table border=\"1\" class=\"dataframe\">\n",
       "  <thead>\n",
       "    <tr style=\"text-align: right;\">\n",
       "      <th></th>\n",
       "      <th>Country_or_Area</th>\n",
       "      <th>Element</th>\n",
       "      <th>Year</th>\n",
       "      <th>Unit</th>\n",
       "      <th>Value</th>\n",
       "    </tr>\n",
       "  </thead>\n",
       "  <tbody>\n",
       "    <tr>\n",
       "      <th>0</th>\n",
       "      <td>Africa</td>\n",
       "      <td>Area harvested</td>\n",
       "      <td>2018</td>\n",
       "      <td>ha</td>\n",
       "      <td>385249.0</td>\n",
       "    </tr>\n",
       "    <tr>\n",
       "      <th>1</th>\n",
       "      <td>Africa</td>\n",
       "      <td>Area harvested</td>\n",
       "      <td>2017</td>\n",
       "      <td>ha</td>\n",
       "      <td>85241.0</td>\n",
       "    </tr>\n",
       "    <tr>\n",
       "      <th>2</th>\n",
       "      <td>Africa</td>\n",
       "      <td>Area harvested</td>\n",
       "      <td>2016</td>\n",
       "      <td>ha</td>\n",
       "      <td>88975.0</td>\n",
       "    </tr>\n",
       "    <tr>\n",
       "      <th>3</th>\n",
       "      <td>Africa</td>\n",
       "      <td>Area harvested</td>\n",
       "      <td>2015</td>\n",
       "      <td>ha</td>\n",
       "      <td>81448.0</td>\n",
       "    </tr>\n",
       "    <tr>\n",
       "      <th>4</th>\n",
       "      <td>Africa</td>\n",
       "      <td>Area harvested</td>\n",
       "      <td>2014</td>\n",
       "      <td>ha</td>\n",
       "      <td>87387.0</td>\n",
       "    </tr>\n",
       "    <tr>\n",
       "      <th>...</th>\n",
       "      <td>...</td>\n",
       "      <td>...</td>\n",
       "      <td>...</td>\n",
       "      <td>...</td>\n",
       "      <td>...</td>\n",
       "    </tr>\n",
       "    <tr>\n",
       "      <th>14127</th>\n",
       "      <td>Zimbabwe</td>\n",
       "      <td>Production</td>\n",
       "      <td>1994</td>\n",
       "      <td>tonnes</td>\n",
       "      <td>587.0</td>\n",
       "    </tr>\n",
       "    <tr>\n",
       "      <th>14128</th>\n",
       "      <td>Zimbabwe</td>\n",
       "      <td>Production</td>\n",
       "      <td>1993</td>\n",
       "      <td>tonnes</td>\n",
       "      <td>561.0</td>\n",
       "    </tr>\n",
       "    <tr>\n",
       "      <th>14129</th>\n",
       "      <td>Zimbabwe</td>\n",
       "      <td>Production</td>\n",
       "      <td>1992</td>\n",
       "      <td>tonnes</td>\n",
       "      <td>536.0</td>\n",
       "    </tr>\n",
       "    <tr>\n",
       "      <th>14130</th>\n",
       "      <td>Zimbabwe</td>\n",
       "      <td>Production</td>\n",
       "      <td>1991</td>\n",
       "      <td>tonnes</td>\n",
       "      <td>511.0</td>\n",
       "    </tr>\n",
       "    <tr>\n",
       "      <th>14131</th>\n",
       "      <td>Zimbabwe</td>\n",
       "      <td>Production</td>\n",
       "      <td>1990</td>\n",
       "      <td>tonnes</td>\n",
       "      <td>500.0</td>\n",
       "    </tr>\n",
       "  </tbody>\n",
       "</table>\n",
       "<p>14132 rows × 5 columns</p>\n",
       "</div>"
      ],
      "text/plain": [
       "      Country_or_Area         Element  Year    Unit     Value\n",
       "0              Africa  Area harvested  2018      ha  385249.0\n",
       "1              Africa  Area harvested  2017      ha   85241.0\n",
       "2              Africa  Area harvested  2016      ha   88975.0\n",
       "3              Africa  Area harvested  2015      ha   81448.0\n",
       "4              Africa  Area harvested  2014      ha   87387.0\n",
       "...               ...             ...   ...     ...       ...\n",
       "14127        Zimbabwe      Production  1994  tonnes     587.0\n",
       "14128        Zimbabwe      Production  1993  tonnes     561.0\n",
       "14129        Zimbabwe      Production  1992  tonnes     536.0\n",
       "14130        Zimbabwe      Production  1991  tonnes     511.0\n",
       "14131        Zimbabwe      Production  1990  tonnes     500.0\n",
       "\n",
       "[14132 rows x 5 columns]"
      ]
     },
     "execution_count": 9,
     "metadata": {},
     "output_type": "execute_result"
    }
   ],
   "source": [
    "df1 = df[['Country_or_Area', 'Element', 'Year', 'Unit', 'Value']]\n",
    "df1"
   ]
  },
  {
   "cell_type": "code",
   "execution_count": 10,
   "metadata": {},
   "outputs": [
    {
     "data": {
      "text/html": [
       "<div>\n",
       "<style scoped>\n",
       "    .dataframe tbody tr th:only-of-type {\n",
       "        vertical-align: middle;\n",
       "    }\n",
       "\n",
       "    .dataframe tbody tr th {\n",
       "        vertical-align: top;\n",
       "    }\n",
       "\n",
       "    .dataframe thead th {\n",
       "        text-align: right;\n",
       "    }\n",
       "</style>\n",
       "<table border=\"1\" class=\"dataframe\">\n",
       "  <thead>\n",
       "    <tr style=\"text-align: right;\">\n",
       "      <th></th>\n",
       "      <th>Country_or_Area</th>\n",
       "      <th>Element</th>\n",
       "      <th>Unit</th>\n",
       "    </tr>\n",
       "  </thead>\n",
       "  <tbody>\n",
       "    <tr>\n",
       "      <th>count</th>\n",
       "      <td>14132</td>\n",
       "      <td>14132</td>\n",
       "      <td>14132</td>\n",
       "    </tr>\n",
       "    <tr>\n",
       "      <th>unique</th>\n",
       "      <td>103</td>\n",
       "      <td>3</td>\n",
       "      <td>3</td>\n",
       "    </tr>\n",
       "    <tr>\n",
       "      <th>top</th>\n",
       "      <td>Africa</td>\n",
       "      <td>Production</td>\n",
       "      <td>tonnes</td>\n",
       "    </tr>\n",
       "    <tr>\n",
       "      <th>freq</th>\n",
       "      <td>174</td>\n",
       "      <td>5068</td>\n",
       "      <td>5068</td>\n",
       "    </tr>\n",
       "  </tbody>\n",
       "</table>\n",
       "</div>"
      ],
      "text/plain": [
       "       Country_or_Area     Element    Unit\n",
       "count            14132       14132   14132\n",
       "unique             103           3       3\n",
       "top             Africa  Production  tonnes\n",
       "freq               174        5068    5068"
      ]
     },
     "execution_count": 10,
     "metadata": {},
     "output_type": "execute_result"
    }
   ],
   "source": [
    "df1.describe(include='object')"
   ]
  },
  {
   "cell_type": "code",
   "execution_count": 11,
   "metadata": {},
   "outputs": [
    {
     "data": {
      "text/plain": [
       "Africa                                     174\n",
       "Guatemala                                  174\n",
       "Ecuador                                    174\n",
       "Net Food Importing Developing Countries    174\n",
       "South Africa                               174\n",
       "                                          ... \n",
       "Bahamas                                     27\n",
       "Portugal                                    15\n",
       "Guam                                        15\n",
       "Micronesia                                  15\n",
       "Pacific Islands Trust Territory              6\n",
       "Name: Country_or_Area, Length: 103, dtype: int64"
      ]
     },
     "execution_count": 11,
     "metadata": {},
     "output_type": "execute_result"
    }
   ],
   "source": [
    "df1['Country_or_Area'].value_counts()"
   ]
  },
  {
   "cell_type": "code",
   "execution_count": 12,
   "metadata": {},
   "outputs": [
    {
     "data": {
      "text/plain": [
       "Production        5068\n",
       "Area harvested    4533\n",
       "Yield             4531\n",
       "Name: Element, dtype: int64"
      ]
     },
     "execution_count": 12,
     "metadata": {},
     "output_type": "execute_result"
    }
   ],
   "source": [
    "df1['Element'].value_counts()"
   ]
  },
  {
   "cell_type": "code",
   "execution_count": 13,
   "metadata": {},
   "outputs": [
    {
     "data": {
      "text/plain": [
       "<BarContainer object of 3 artists>"
      ]
     },
     "execution_count": 13,
     "metadata": {},
     "output_type": "execute_result"
    },
    {
     "data": {
      "image/png": "[encoded data removed]",
      "text/plain": [
       "<Figure size 864x648 with 1 Axes>"
      ]
     },
     "metadata": {},
     "output_type": "display_data"
    }
   ],
   "source": [
    "fig, ax = plt.subplots()\n",
    "ax.bar(x=df1['Element'].value_counts().keys(), height=df1['Element'].value_counts().values, width=0.5, color='blue', align='center', edgecolor='red')"
   ]
  },
  {
   "cell_type": "code",
   "execution_count": 14,
   "metadata": {},
   "outputs": [
    {
     "data": {
      "text/plain": [
       "2018    295\n",
       "2013    293\n",
       "2010    293\n",
       "2011    293\n",
       "2012    293\n",
       "Name: Year, dtype: int64"
      ]
     },
     "execution_count": 14,
     "metadata": {},
     "output_type": "execute_result"
    }
   ],
   "source": [
    "df1['Year'].value_counts().head()"
   ]
  },
  {
   "cell_type": "code",
   "execution_count": 15,
   "metadata": {},
   "outputs": [
    {
     "data": {
      "text/plain": [
       "tonnes    5068\n",
       "ha        4533\n",
       "hg/ha     4531\n",
       "Name: Unit, dtype: int64"
      ]
     },
     "execution_count": 15,
     "metadata": {},
     "output_type": "execute_result"
    }
   ],
   "source": [
    "df1['Unit'].value_counts()"
   ]
  },
  {
   "cell_type": "code",
   "execution_count": 16,
   "metadata": {},
   "outputs": [
    {
     "data": {
      "text/plain": [
       "<BarContainer object of 3 artists>"
      ]
     },
     "execution_count": 16,
     "metadata": {},
     "output_type": "execute_result"
    },
    {
     "data": {
      "image/png": "[encoded data removed]",
      "text/plain": [
       "<Figure size 864x648 with 1 Axes>"
      ]
     },
     "metadata": {},
     "output_type": "display_data"
    }
   ],
   "source": [
    "fig, ax = plt.subplots()\n",
    "ax.bar(x=df1['Unit'].value_counts().keys(), height=df1['Unit'].value_counts().values, width=0.5, edgecolor='red', color='blue')"
   ]
  },
  {
   "cell_type": "code",
   "execution_count": 17,
   "metadata": {},
   "outputs": [
    {
     "data": {
      "text/plain": [
       "count    1.413200e+04\n",
       "mean     8.178847e+04\n",
       "std      2.563691e+05\n",
       "min      0.000000e+00\n",
       "25%      2.000000e+03\n",
       "50%      2.651300e+04\n",
       "75%      7.857100e+04\n",
       "max      6.407171e+06\n",
       "Name: Value, dtype: float64"
      ]
     },
     "execution_count": 17,
     "metadata": {},
     "output_type": "execute_result"
    }
   ],
   "source": [
    "df1['Value'].describe()"
   ]
  },
  {
   "cell_type": "code",
   "execution_count": 18,
   "metadata": {},
   "outputs": [
    {
     "data": {
      "text/plain": [
       "<AxesSubplot:xlabel='Value', ylabel='Density'>"
      ]
     },
     "execution_count": 18,
     "metadata": {},
     "output_type": "execute_result"
    },
    {
     "data": {
      "image/png": "[encoded data removed]",
      "text/plain": [
       "<Figure size 864x648 with 1 Axes>"
      ]
     },
     "metadata": {},
     "output_type": "display_data"
    }
   ],
   "source": [
    "sns.kdeplot(data=df1, x='Value')"
   ]
  },
  {
   "cell_type": "markdown",
   "metadata": {},
   "source": [
    "# Missing Values Exploration"
   ]
  },
  {
   "cell_type": "code",
   "execution_count": 19,
   "metadata": {},
   "outputs": [
    {
     "data": {
      "text/plain": [
       "Country_or_Area    0\n",
       "Element            0\n",
       "Year               0\n",
       "Unit               0\n",
       "Value              0\n",
       "dtype: int64"
      ]
     },
     "execution_count": 19,
     "metadata": {},
     "output_type": "execute_result"
    }
   ],
   "source": [
    "df1.isna().sum()"
   ]
  },
  {
   "cell_type": "markdown",
   "metadata": {},
   "source": [
    "# Grouping and Aggregation"
   ]
  },
  {
   "cell_type": "code",
   "execution_count": 20,
   "metadata": {},
   "outputs": [
    {
     "data": {
      "text/html": [
       "<div>\n",
       "<style scoped>\n",
       "    .dataframe tbody tr th:only-of-type {\n",
       "        vertical-align: middle;\n",
       "    }\n",
       "\n",
       "    .dataframe tbody tr th {\n",
       "        vertical-align: top;\n",
       "    }\n",
       "\n",
       "    .dataframe thead th {\n",
       "        text-align: right;\n",
       "    }\n",
       "</style>\n",
       "<table border=\"1\" class=\"dataframe\">\n",
       "  <thead>\n",
       "    <tr style=\"text-align: right;\">\n",
       "      <th></th>\n",
       "      <th>Country_or_Area</th>\n",
       "      <th>Element</th>\n",
       "      <th>Year</th>\n",
       "      <th>Unit</th>\n",
       "      <th>Value</th>\n",
       "    </tr>\n",
       "  </thead>\n",
       "  <tbody>\n",
       "    <tr>\n",
       "      <th>0</th>\n",
       "      <td>Africa</td>\n",
       "      <td>Area harvested</td>\n",
       "      <td>2018</td>\n",
       "      <td>ha</td>\n",
       "      <td>385249.0</td>\n",
       "    </tr>\n",
       "    <tr>\n",
       "      <th>1</th>\n",
       "      <td>Africa</td>\n",
       "      <td>Area harvested</td>\n",
       "      <td>2017</td>\n",
       "      <td>ha</td>\n",
       "      <td>85241.0</td>\n",
       "    </tr>\n",
       "    <tr>\n",
       "      <th>2</th>\n",
       "      <td>Africa</td>\n",
       "      <td>Area harvested</td>\n",
       "      <td>2016</td>\n",
       "      <td>ha</td>\n",
       "      <td>88975.0</td>\n",
       "    </tr>\n",
       "    <tr>\n",
       "      <th>3</th>\n",
       "      <td>Africa</td>\n",
       "      <td>Area harvested</td>\n",
       "      <td>2015</td>\n",
       "      <td>ha</td>\n",
       "      <td>81448.0</td>\n",
       "    </tr>\n",
       "    <tr>\n",
       "      <th>4</th>\n",
       "      <td>Africa</td>\n",
       "      <td>Area harvested</td>\n",
       "      <td>2014</td>\n",
       "      <td>ha</td>\n",
       "      <td>87387.0</td>\n",
       "    </tr>\n",
       "    <tr>\n",
       "      <th>...</th>\n",
       "      <td>...</td>\n",
       "      <td>...</td>\n",
       "      <td>...</td>\n",
       "      <td>...</td>\n",
       "      <td>...</td>\n",
       "    </tr>\n",
       "    <tr>\n",
       "      <th>14103</th>\n",
       "      <td>Zimbabwe</td>\n",
       "      <td>Production</td>\n",
       "      <td>2018</td>\n",
       "      <td>tonnes</td>\n",
       "      <td>1766.0</td>\n",
       "    </tr>\n",
       "    <tr>\n",
       "      <th>14104</th>\n",
       "      <td>Zimbabwe</td>\n",
       "      <td>Production</td>\n",
       "      <td>2017</td>\n",
       "      <td>tonnes</td>\n",
       "      <td>1633.0</td>\n",
       "    </tr>\n",
       "    <tr>\n",
       "      <th>14105</th>\n",
       "      <td>Zimbabwe</td>\n",
       "      <td>Production</td>\n",
       "      <td>2016</td>\n",
       "      <td>tonnes</td>\n",
       "      <td>1800.0</td>\n",
       "    </tr>\n",
       "    <tr>\n",
       "      <th>14106</th>\n",
       "      <td>Zimbabwe</td>\n",
       "      <td>Production</td>\n",
       "      <td>2015</td>\n",
       "      <td>tonnes</td>\n",
       "      <td>1700.0</td>\n",
       "    </tr>\n",
       "    <tr>\n",
       "      <th>14107</th>\n",
       "      <td>Zimbabwe</td>\n",
       "      <td>Production</td>\n",
       "      <td>2014</td>\n",
       "      <td>tonnes</td>\n",
       "      <td>1400.0</td>\n",
       "    </tr>\n",
       "  </tbody>\n",
       "</table>\n",
       "<p>1497 rows × 5 columns</p>\n",
       "</div>"
      ],
      "text/plain": [
       "      Country_or_Area         Element  Year    Unit     Value\n",
       "0              Africa  Area harvested  2018      ha  385249.0\n",
       "1              Africa  Area harvested  2017      ha   85241.0\n",
       "2              Africa  Area harvested  2016      ha   88975.0\n",
       "3              Africa  Area harvested  2015      ha   81448.0\n",
       "4              Africa  Area harvested  2014      ha   87387.0\n",
       "...               ...             ...   ...     ...       ...\n",
       "14103        Zimbabwe      Production  2018  tonnes    1766.0\n",
       "14104        Zimbabwe      Production  2017  tonnes    1633.0\n",
       "14105        Zimbabwe      Production  2016  tonnes    1800.0\n",
       "14106        Zimbabwe      Production  2015  tonnes    1700.0\n",
       "14107        Zimbabwe      Production  2014  tonnes    1400.0\n",
       "\n",
       "[1497 rows x 5 columns]"
      ]
     },
     "execution_count": 20,
     "metadata": {},
     "output_type": "execute_result"
    }
   ],
   "source": [
    "country_elem_grpd = df1.groupby(['Country_or_Area', 'Element'])                 # group by country_or_area and element\n",
    "country_elem_grpd.head()"
   ]
  },
  {
   "cell_type": "markdown",
   "metadata": {},
   "source": [
    "# Data Visualization"
   ]
  },
  {
   "cell_type": "code",
   "execution_count": 21,
   "metadata": {},
   "outputs": [],
   "source": [
    "from matplotlib.ticker import FuncFormatter\n",
    "\n",
    "# y-axis formatter\n",
    "def thousand(x, pos):\n",
    "    return '%1.1fK' % (x * 1e-3)\n",
    "\n",
    "format_tsd = FuncFormatter(thousand)\n",
    "\n",
    "def itself(x, pos):\n",
    "    return (x * 1)\n",
    "\n",
    "format_self = FuncFormatter(itself)\n",
    "\n",
    "\n",
    "# line plot helper function\n",
    "def plot_line(data, x, y, hue=None, size=None, style=None, title=None, xlabel=None, ylabel=None, formatter=None):\n",
    "    # create fig and axis\n",
    "    fig, ax = plt.subplots()\n",
    "    fig.autofmt_xdate()\n",
    "\n",
    "    # plot line chart\n",
    "    sns.lineplot(\n",
    "        data=data,\n",
    "        x=x, y=y, \n",
    "        hue=hue, size=size, style=style,\n",
    "        ax=ax)\n",
    "\n",
    "    # label plot axis\n",
    "    ax.set(title=title, xlabel=xlabel, ylabel=ylabel)\n",
    "\n",
    "    # set y-axis formatter\n",
    "    ax.yaxis.set_major_formatter(formatter=formatter)\n",
    "\n",
    "    return plot_line"
   ]
  },
  {
   "cell_type": "code",
   "execution_count": 22,
   "metadata": {},
   "outputs": [
    {
     "data": {
      "text/plain": [
       "<function __main__.plot_line(data, x, y, hue=None, size=None, style=None, title=None, xlabel=None, ylabel=None, formatter=None)>"
      ]
     },
     "execution_count": 22,
     "metadata": {},
     "output_type": "execute_result"
    },
    {
     "data": {
      "image/png": "[encoded data removed]",
      "text/plain": [
       "<Figure size 864x648 with 1 Axes>"
      ]
     },
     "metadata": {},
     "output_type": "display_data"
    }
   ],
   "source": [
    "plot_line(\n",
    "    data=country_elem_grpd.get_group(('Ghana', 'Area harvested')),\n",
    "    x='Year', y='Value',\n",
    "    title='Ghana', xlabel='Year', ylabel='Area harvested (ha)',\n",
    "    formatter=format_tsd\n",
    ")"
   ]
  },
  {
   "cell_type": "code",
   "execution_count": 23,
   "metadata": {},
   "outputs": [
    {
     "data": {
      "text/plain": [
       "<function __main__.plot_line(data, x, y, hue=None, size=None, style=None, title=None, xlabel=None, ylabel=None, formatter=None)>"
      ]
     },
     "execution_count": 23,
     "metadata": {},
     "output_type": "execute_result"
    },
    {
     "data": {
      "image/png": "[encoded data removed]",
      "text/plain": [
       "<Figure size 864x648 with 1 Axes>"
      ]
     },
     "metadata": {},
     "output_type": "display_data"
    }
   ],
   "source": [
    "plot_line(\n",
    "    data=country_elem_grpd.get_group(('Ghana', 'Production')),\n",
    "    x='Year', y='Value',\n",
    "    title='Ghana', xlabel='Year', ylabel='Production (tonnes)',\n",
    "    formatter=format_tsd\n",
    ")"
   ]
  },
  {
   "cell_type": "code",
   "execution_count": 24,
   "metadata": {},
   "outputs": [
    {
     "data": {
      "text/plain": [
       "<function __main__.plot_line(data, x, y, hue=None, size=None, style=None, title=None, xlabel=None, ylabel=None, formatter=None)>"
      ]
     },
     "execution_count": 24,
     "metadata": {},
     "output_type": "execute_result"
    },
    {
     "data": {
      "image/png": "[encoded data removed]",
      "text/plain": [
       "<Figure size 864x648 with 1 Axes>"
      ]
     },
     "metadata": {},
     "output_type": "display_data"
    }
   ],
   "source": [
    "plot_line(\n",
    "    data=country_elem_grpd.get_group(('France', 'Area harvested')),\n",
    "    x='Year', y='Value',\n",
    "    title='France', xlabel='Year', ylabel='Area harvested (ha)',\n",
    "    formatter=format_self\n",
    ")"
   ]
  },
  {
   "cell_type": "code",
   "execution_count": 25,
   "metadata": {},
   "outputs": [
    {
     "data": {
      "text/plain": [
       "<function __main__.plot_line(data, x, y, hue=None, size=None, style=None, title=None, xlabel=None, ylabel=None, formatter=None)>"
      ]
     },
     "execution_count": 25,
     "metadata": {},
     "output_type": "execute_result"
    },
    {
     "data": {
      "image/png": "[encoded data removed]",
      "text/plain": [
       "<Figure size 864x648 with 1 Axes>"
      ]
     },
     "metadata": {},
     "output_type": "display_data"
    }
   ],
   "source": [
    "plot_line(\n",
    "    data=country_elem_grpd.get_group(('France', 'Production')),\n",
    "    x='Year', y='Value',\n",
    "    title='France', xlabel='Year', ylabel='Production (tonnes)',\n",
    "    formatter=format_tsd\n",
    ")"
   ]
  }
 ],
 "metadata": {
  "interpreter": {
   "hash": "3fe9daace87ea8cb12e037f7452ad9bcd52f59aa894a611255d1461de3a9065e"
  },
  "kernelspec": {
   "display_name": "Python 3.9.7 64-bit ('DS': conda)",
   "language": "python",
   "name": "python3"
  },
  "language_info": {
   "codemirror_mode": {
    "name": "ipython",
    "version": 3
   },
   "file_extension": ".py",
   "mimetype": "text/x-python",
   "name": "python",
   "nbconvert_exporter": "python",
   "pygments_lexer": "ipython3",
   "version": "3.9.12"
  },
  "orig_nbformat": 4
 },
 "nbformat": 4,
 "nbformat_minor": 2
}
