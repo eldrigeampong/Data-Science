{
 "cells": [
  {
   "cell_type": "markdown",
   "metadata": {},
   "source": [
    "# Total Electricity"
   ]
  },
  {
   "cell_type": "markdown",
   "metadata": {},
   "source": [
    "# Import Libraries"
   ]
  },
  {
   "cell_type": "code",
   "execution_count": 1,
   "metadata": {},
   "outputs": [],
   "source": [
    "import numpy as np\n",
    "import pandas as pd\n",
    "import matplotlib.pyplot as plt\n",
    "import seaborn as sns\n",
    "import os\n",
    "import warnings"
   ]
  },
  {
   "cell_type": "markdown",
   "metadata": {},
   "source": [
    "# Options and Settings"
   ]
  },
  {
   "cell_type": "code",
   "execution_count": 2,
   "metadata": {},
   "outputs": [],
   "source": [
    "%matplotlib inline\n",
    "plt.style.use('ggplot')\n",
    "plt.rcParams['figure.autolayout'] = True\n",
    "plt.rcParams['figure.figsize'] = [12, 9]\n",
    "plt.rcParams['font.size'] = 12\n",
    "path = os.getcwd()                                         # get current working directory\n",
    "warnings.simplefilter('ignore')"
   ]
  },
  {
   "cell_type": "markdown",
   "metadata": {},
   "source": [
    "# Import Data"
   ]
  },
  {
   "cell_type": "code",
   "execution_count": 3,
   "metadata": {},
   "outputs": [],
   "source": [
    "filepath = os.path.join('datasets', 'Total Electricity.csv')\n",
    "df = pd.read_csv(filepath)"
   ]
  },
  {
   "cell_type": "code",
   "execution_count": 4,
   "metadata": {},
   "outputs": [
    {
     "data": {
      "text/html": [
       "<div>\n",
       "<style scoped>\n",
       "    .dataframe tbody tr th:only-of-type {\n",
       "        vertical-align: middle;\n",
       "    }\n",
       "\n",
       "    .dataframe tbody tr th {\n",
       "        vertical-align: top;\n",
       "    }\n",
       "\n",
       "    .dataframe thead th {\n",
       "        text-align: right;\n",
       "    }\n",
       "</style>\n",
       "<table border=\"1\" class=\"dataframe\">\n",
       "  <thead>\n",
       "    <tr style=\"text-align: right;\">\n",
       "      <th></th>\n",
       "      <th>Country or Area</th>\n",
       "      <th>Commodity - Transaction</th>\n",
       "      <th>Year</th>\n",
       "      <th>Unit</th>\n",
       "      <th>Quantity</th>\n",
       "      <th>Quantity Footnotes</th>\n",
       "    </tr>\n",
       "  </thead>\n",
       "  <tbody>\n",
       "    <tr>\n",
       "      <th>0</th>\n",
       "      <td>Afghanistan</td>\n",
       "      <td>Electricity - Gross production</td>\n",
       "      <td>2019.0</td>\n",
       "      <td>Kilowatt-hours, million</td>\n",
       "      <td>1591.50</td>\n",
       "      <td>NaN</td>\n",
       "    </tr>\n",
       "    <tr>\n",
       "      <th>1</th>\n",
       "      <td>Afghanistan</td>\n",
       "      <td>Electricity - Gross production</td>\n",
       "      <td>2018.0</td>\n",
       "      <td>Kilowatt-hours, million</td>\n",
       "      <td>1265.72</td>\n",
       "      <td>NaN</td>\n",
       "    </tr>\n",
       "    <tr>\n",
       "      <th>2</th>\n",
       "      <td>Afghanistan</td>\n",
       "      <td>Electricity - Gross production</td>\n",
       "      <td>2017.0</td>\n",
       "      <td>Kilowatt-hours, million</td>\n",
       "      <td>1420.04</td>\n",
       "      <td>NaN</td>\n",
       "    </tr>\n",
       "    <tr>\n",
       "      <th>3</th>\n",
       "      <td>Afghanistan</td>\n",
       "      <td>Electricity - Gross production</td>\n",
       "      <td>2016.0</td>\n",
       "      <td>Kilowatt-hours, million</td>\n",
       "      <td>1393.90</td>\n",
       "      <td>NaN</td>\n",
       "    </tr>\n",
       "    <tr>\n",
       "      <th>4</th>\n",
       "      <td>Afghanistan</td>\n",
       "      <td>Electricity - Gross production</td>\n",
       "      <td>2015.0</td>\n",
       "      <td>Kilowatt-hours, million</td>\n",
       "      <td>1338.70</td>\n",
       "      <td>NaN</td>\n",
       "    </tr>\n",
       "    <tr>\n",
       "      <th>...</th>\n",
       "      <td>...</td>\n",
       "      <td>...</td>\n",
       "      <td>...</td>\n",
       "      <td>...</td>\n",
       "      <td>...</td>\n",
       "      <td>...</td>\n",
       "    </tr>\n",
       "    <tr>\n",
       "      <th>99997</th>\n",
       "      <td>Mauritius</td>\n",
       "      <td>Electricity - total production, main activity</td>\n",
       "      <td>2005.0</td>\n",
       "      <td>Kilowatt-hours, million</td>\n",
       "      <td>1208.40</td>\n",
       "      <td>NaN</td>\n",
       "    </tr>\n",
       "    <tr>\n",
       "      <th>99998</th>\n",
       "      <td>Mauritius</td>\n",
       "      <td>Electricity - total production, main activity</td>\n",
       "      <td>2004.0</td>\n",
       "      <td>Kilowatt-hours, million</td>\n",
       "      <td>1225.40</td>\n",
       "      <td>NaN</td>\n",
       "    </tr>\n",
       "    <tr>\n",
       "      <th>99999</th>\n",
       "      <td>Mauritius</td>\n",
       "      <td>Electricity - total production, main activity</td>\n",
       "      <td>2003.0</td>\n",
       "      <td>Kilowatt-hours, million</td>\n",
       "      <td>1135.00</td>\n",
       "      <td>NaN</td>\n",
       "    </tr>\n",
       "    <tr>\n",
       "      <th>100000</th>\n",
       "      <td>fnSeqID</td>\n",
       "      <td>Footnote</td>\n",
       "      <td>NaN</td>\n",
       "      <td>NaN</td>\n",
       "      <td>NaN</td>\n",
       "      <td>NaN</td>\n",
       "    </tr>\n",
       "    <tr>\n",
       "      <th>100001</th>\n",
       "      <td>1</td>\n",
       "      <td>Estimate</td>\n",
       "      <td>NaN</td>\n",
       "      <td>NaN</td>\n",
       "      <td>NaN</td>\n",
       "      <td>NaN</td>\n",
       "    </tr>\n",
       "  </tbody>\n",
       "</table>\n",
       "<p>100002 rows × 6 columns</p>\n",
       "</div>"
      ],
      "text/plain": [
       "       Country or Area                        Commodity - Transaction    Year  \\\n",
       "0          Afghanistan                 Electricity - Gross production  2019.0   \n",
       "1          Afghanistan                 Electricity - Gross production  2018.0   \n",
       "2          Afghanistan                 Electricity - Gross production  2017.0   \n",
       "3          Afghanistan                 Electricity - Gross production  2016.0   \n",
       "4          Afghanistan                 Electricity - Gross production  2015.0   \n",
       "...                ...                                            ...     ...   \n",
       "99997        Mauritius  Electricity - total production, main activity  2005.0   \n",
       "99998        Mauritius  Electricity - total production, main activity  2004.0   \n",
       "99999        Mauritius  Electricity - total production, main activity  2003.0   \n",
       "100000         fnSeqID                                       Footnote     NaN   \n",
       "100001               1                                       Estimate     NaN   \n",
       "\n",
       "                           Unit  Quantity  Quantity Footnotes  \n",
       "0       Kilowatt-hours, million   1591.50                 NaN  \n",
       "1       Kilowatt-hours, million   1265.72                 NaN  \n",
       "2       Kilowatt-hours, million   1420.04                 NaN  \n",
       "3       Kilowatt-hours, million   1393.90                 NaN  \n",
       "4       Kilowatt-hours, million   1338.70                 NaN  \n",
       "...                         ...       ...                 ...  \n",
       "99997   Kilowatt-hours, million   1208.40                 NaN  \n",
       "99998   Kilowatt-hours, million   1225.40                 NaN  \n",
       "99999   Kilowatt-hours, million   1135.00                 NaN  \n",
       "100000                      NaN       NaN                 NaN  \n",
       "100001                      NaN       NaN                 NaN  \n",
       "\n",
       "[100002 rows x 6 columns]"
      ]
     },
     "execution_count": 4,
     "metadata": {},
     "output_type": "execute_result"
    }
   ],
   "source": [
    "df"
   ]
  },
  {
   "cell_type": "markdown",
   "metadata": {},
   "source": [
    "# Head and Tail"
   ]
  },
  {
   "cell_type": "code",
   "execution_count": 5,
   "metadata": {},
   "outputs": [
    {
     "data": {
      "text/html": [
       "<div>\n",
       "<style scoped>\n",
       "    .dataframe tbody tr th:only-of-type {\n",
       "        vertical-align: middle;\n",
       "    }\n",
       "\n",
       "    .dataframe tbody tr th {\n",
       "        vertical-align: top;\n",
       "    }\n",
       "\n",
       "    .dataframe thead th {\n",
       "        text-align: right;\n",
       "    }\n",
       "</style>\n",
       "<table border=\"1\" class=\"dataframe\">\n",
       "  <thead>\n",
       "    <tr style=\"text-align: right;\">\n",
       "      <th></th>\n",
       "      <th>Country or Area</th>\n",
       "      <th>Commodity - Transaction</th>\n",
       "      <th>Year</th>\n",
       "      <th>Unit</th>\n",
       "      <th>Quantity</th>\n",
       "      <th>Quantity Footnotes</th>\n",
       "    </tr>\n",
       "  </thead>\n",
       "  <tbody>\n",
       "    <tr>\n",
       "      <th>0</th>\n",
       "      <td>Afghanistan</td>\n",
       "      <td>Electricity - Gross production</td>\n",
       "      <td>2019.0</td>\n",
       "      <td>Kilowatt-hours, million</td>\n",
       "      <td>1591.50</td>\n",
       "      <td>NaN</td>\n",
       "    </tr>\n",
       "    <tr>\n",
       "      <th>1</th>\n",
       "      <td>Afghanistan</td>\n",
       "      <td>Electricity - Gross production</td>\n",
       "      <td>2018.0</td>\n",
       "      <td>Kilowatt-hours, million</td>\n",
       "      <td>1265.72</td>\n",
       "      <td>NaN</td>\n",
       "    </tr>\n",
       "    <tr>\n",
       "      <th>2</th>\n",
       "      <td>Afghanistan</td>\n",
       "      <td>Electricity - Gross production</td>\n",
       "      <td>2017.0</td>\n",
       "      <td>Kilowatt-hours, million</td>\n",
       "      <td>1420.04</td>\n",
       "      <td>NaN</td>\n",
       "    </tr>\n",
       "    <tr>\n",
       "      <th>3</th>\n",
       "      <td>Afghanistan</td>\n",
       "      <td>Electricity - Gross production</td>\n",
       "      <td>2016.0</td>\n",
       "      <td>Kilowatt-hours, million</td>\n",
       "      <td>1393.90</td>\n",
       "      <td>NaN</td>\n",
       "    </tr>\n",
       "    <tr>\n",
       "      <th>4</th>\n",
       "      <td>Afghanistan</td>\n",
       "      <td>Electricity - Gross production</td>\n",
       "      <td>2015.0</td>\n",
       "      <td>Kilowatt-hours, million</td>\n",
       "      <td>1338.70</td>\n",
       "      <td>NaN</td>\n",
       "    </tr>\n",
       "    <tr>\n",
       "      <th>...</th>\n",
       "      <td>...</td>\n",
       "      <td>...</td>\n",
       "      <td>...</td>\n",
       "      <td>...</td>\n",
       "      <td>...</td>\n",
       "      <td>...</td>\n",
       "    </tr>\n",
       "    <tr>\n",
       "      <th>99995</th>\n",
       "      <td>Mauritius</td>\n",
       "      <td>Electricity - total production, main activity</td>\n",
       "      <td>2007.0</td>\n",
       "      <td>Kilowatt-hours, million</td>\n",
       "      <td>1003.40</td>\n",
       "      <td>NaN</td>\n",
       "    </tr>\n",
       "    <tr>\n",
       "      <th>99996</th>\n",
       "      <td>Mauritius</td>\n",
       "      <td>Electricity - total production, main activity</td>\n",
       "      <td>2006.0</td>\n",
       "      <td>Kilowatt-hours, million</td>\n",
       "      <td>1106.40</td>\n",
       "      <td>NaN</td>\n",
       "    </tr>\n",
       "    <tr>\n",
       "      <th>99997</th>\n",
       "      <td>Mauritius</td>\n",
       "      <td>Electricity - total production, main activity</td>\n",
       "      <td>2005.0</td>\n",
       "      <td>Kilowatt-hours, million</td>\n",
       "      <td>1208.40</td>\n",
       "      <td>NaN</td>\n",
       "    </tr>\n",
       "    <tr>\n",
       "      <th>99998</th>\n",
       "      <td>Mauritius</td>\n",
       "      <td>Electricity - total production, main activity</td>\n",
       "      <td>2004.0</td>\n",
       "      <td>Kilowatt-hours, million</td>\n",
       "      <td>1225.40</td>\n",
       "      <td>NaN</td>\n",
       "    </tr>\n",
       "    <tr>\n",
       "      <th>99999</th>\n",
       "      <td>Mauritius</td>\n",
       "      <td>Electricity - total production, main activity</td>\n",
       "      <td>2003.0</td>\n",
       "      <td>Kilowatt-hours, million</td>\n",
       "      <td>1135.00</td>\n",
       "      <td>NaN</td>\n",
       "    </tr>\n",
       "  </tbody>\n",
       "</table>\n",
       "<p>100000 rows × 6 columns</p>\n",
       "</div>"
      ],
      "text/plain": [
       "      Country or Area                        Commodity - Transaction    Year  \\\n",
       "0         Afghanistan                 Electricity - Gross production  2019.0   \n",
       "1         Afghanistan                 Electricity - Gross production  2018.0   \n",
       "2         Afghanistan                 Electricity - Gross production  2017.0   \n",
       "3         Afghanistan                 Electricity - Gross production  2016.0   \n",
       "4         Afghanistan                 Electricity - Gross production  2015.0   \n",
       "...               ...                                            ...     ...   \n",
       "99995       Mauritius  Electricity - total production, main activity  2007.0   \n",
       "99996       Mauritius  Electricity - total production, main activity  2006.0   \n",
       "99997       Mauritius  Electricity - total production, main activity  2005.0   \n",
       "99998       Mauritius  Electricity - total production, main activity  2004.0   \n",
       "99999       Mauritius  Electricity - total production, main activity  2003.0   \n",
       "\n",
       "                          Unit  Quantity  Quantity Footnotes  \n",
       "0      Kilowatt-hours, million   1591.50                 NaN  \n",
       "1      Kilowatt-hours, million   1265.72                 NaN  \n",
       "2      Kilowatt-hours, million   1420.04                 NaN  \n",
       "3      Kilowatt-hours, million   1393.90                 NaN  \n",
       "4      Kilowatt-hours, million   1338.70                 NaN  \n",
       "...                        ...       ...                 ...  \n",
       "99995  Kilowatt-hours, million   1003.40                 NaN  \n",
       "99996  Kilowatt-hours, million   1106.40                 NaN  \n",
       "99997  Kilowatt-hours, million   1208.40                 NaN  \n",
       "99998  Kilowatt-hours, million   1225.40                 NaN  \n",
       "99999  Kilowatt-hours, million   1135.00                 NaN  \n",
       "\n",
       "[100000 rows x 6 columns]"
      ]
     },
     "execution_count": 5,
     "metadata": {},
     "output_type": "execute_result"
    }
   ],
   "source": [
    "df = df[:100000]                                   # select index position 0-99999\n",
    "df"
   ]
  },
  {
   "cell_type": "code",
   "execution_count": 6,
   "metadata": {},
   "outputs": [
    {
     "data": {
      "text/html": [
       "<div>\n",
       "<style scoped>\n",
       "    .dataframe tbody tr th:only-of-type {\n",
       "        vertical-align: middle;\n",
       "    }\n",
       "\n",
       "    .dataframe tbody tr th {\n",
       "        vertical-align: top;\n",
       "    }\n",
       "\n",
       "    .dataframe thead th {\n",
       "        text-align: right;\n",
       "    }\n",
       "</style>\n",
       "<table border=\"1\" class=\"dataframe\">\n",
       "  <thead>\n",
       "    <tr style=\"text-align: right;\">\n",
       "      <th></th>\n",
       "      <th>Country or Area</th>\n",
       "      <th>Commodity - Transaction</th>\n",
       "      <th>Year</th>\n",
       "      <th>Unit</th>\n",
       "      <th>Quantity</th>\n",
       "      <th>Quantity Footnotes</th>\n",
       "    </tr>\n",
       "  </thead>\n",
       "  <tbody>\n",
       "    <tr>\n",
       "      <th>0</th>\n",
       "      <td>Afghanistan</td>\n",
       "      <td>Electricity - Gross production</td>\n",
       "      <td>2019</td>\n",
       "      <td>Kilowatt-hours, million</td>\n",
       "      <td>1591.50</td>\n",
       "      <td>NaN</td>\n",
       "    </tr>\n",
       "    <tr>\n",
       "      <th>1</th>\n",
       "      <td>Afghanistan</td>\n",
       "      <td>Electricity - Gross production</td>\n",
       "      <td>2018</td>\n",
       "      <td>Kilowatt-hours, million</td>\n",
       "      <td>1265.72</td>\n",
       "      <td>NaN</td>\n",
       "    </tr>\n",
       "    <tr>\n",
       "      <th>2</th>\n",
       "      <td>Afghanistan</td>\n",
       "      <td>Electricity - Gross production</td>\n",
       "      <td>2017</td>\n",
       "      <td>Kilowatt-hours, million</td>\n",
       "      <td>1420.04</td>\n",
       "      <td>NaN</td>\n",
       "    </tr>\n",
       "    <tr>\n",
       "      <th>3</th>\n",
       "      <td>Afghanistan</td>\n",
       "      <td>Electricity - Gross production</td>\n",
       "      <td>2016</td>\n",
       "      <td>Kilowatt-hours, million</td>\n",
       "      <td>1393.90</td>\n",
       "      <td>NaN</td>\n",
       "    </tr>\n",
       "    <tr>\n",
       "      <th>4</th>\n",
       "      <td>Afghanistan</td>\n",
       "      <td>Electricity - Gross production</td>\n",
       "      <td>2015</td>\n",
       "      <td>Kilowatt-hours, million</td>\n",
       "      <td>1338.70</td>\n",
       "      <td>NaN</td>\n",
       "    </tr>\n",
       "    <tr>\n",
       "      <th>...</th>\n",
       "      <td>...</td>\n",
       "      <td>...</td>\n",
       "      <td>...</td>\n",
       "      <td>...</td>\n",
       "      <td>...</td>\n",
       "      <td>...</td>\n",
       "    </tr>\n",
       "    <tr>\n",
       "      <th>99995</th>\n",
       "      <td>Mauritius</td>\n",
       "      <td>Electricity - total production, main activity</td>\n",
       "      <td>2007</td>\n",
       "      <td>Kilowatt-hours, million</td>\n",
       "      <td>1003.40</td>\n",
       "      <td>NaN</td>\n",
       "    </tr>\n",
       "    <tr>\n",
       "      <th>99996</th>\n",
       "      <td>Mauritius</td>\n",
       "      <td>Electricity - total production, main activity</td>\n",
       "      <td>2006</td>\n",
       "      <td>Kilowatt-hours, million</td>\n",
       "      <td>1106.40</td>\n",
       "      <td>NaN</td>\n",
       "    </tr>\n",
       "    <tr>\n",
       "      <th>99997</th>\n",
       "      <td>Mauritius</td>\n",
       "      <td>Electricity - total production, main activity</td>\n",
       "      <td>2005</td>\n",
       "      <td>Kilowatt-hours, million</td>\n",
       "      <td>1208.40</td>\n",
       "      <td>NaN</td>\n",
       "    </tr>\n",
       "    <tr>\n",
       "      <th>99998</th>\n",
       "      <td>Mauritius</td>\n",
       "      <td>Electricity - total production, main activity</td>\n",
       "      <td>2004</td>\n",
       "      <td>Kilowatt-hours, million</td>\n",
       "      <td>1225.40</td>\n",
       "      <td>NaN</td>\n",
       "    </tr>\n",
       "    <tr>\n",
       "      <th>99999</th>\n",
       "      <td>Mauritius</td>\n",
       "      <td>Electricity - total production, main activity</td>\n",
       "      <td>2003</td>\n",
       "      <td>Kilowatt-hours, million</td>\n",
       "      <td>1135.00</td>\n",
       "      <td>NaN</td>\n",
       "    </tr>\n",
       "  </tbody>\n",
       "</table>\n",
       "<p>100000 rows × 6 columns</p>\n",
       "</div>"
      ],
      "text/plain": [
       "      Country or Area                        Commodity - Transaction  Year  \\\n",
       "0         Afghanistan                 Electricity - Gross production  2019   \n",
       "1         Afghanistan                 Electricity - Gross production  2018   \n",
       "2         Afghanistan                 Electricity - Gross production  2017   \n",
       "3         Afghanistan                 Electricity - Gross production  2016   \n",
       "4         Afghanistan                 Electricity - Gross production  2015   \n",
       "...               ...                                            ...   ...   \n",
       "99995       Mauritius  Electricity - total production, main activity  2007   \n",
       "99996       Mauritius  Electricity - total production, main activity  2006   \n",
       "99997       Mauritius  Electricity - total production, main activity  2005   \n",
       "99998       Mauritius  Electricity - total production, main activity  2004   \n",
       "99999       Mauritius  Electricity - total production, main activity  2003   \n",
       "\n",
       "                          Unit  Quantity  Quantity Footnotes  \n",
       "0      Kilowatt-hours, million   1591.50                 NaN  \n",
       "1      Kilowatt-hours, million   1265.72                 NaN  \n",
       "2      Kilowatt-hours, million   1420.04                 NaN  \n",
       "3      Kilowatt-hours, million   1393.90                 NaN  \n",
       "4      Kilowatt-hours, million   1338.70                 NaN  \n",
       "...                        ...       ...                 ...  \n",
       "99995  Kilowatt-hours, million   1003.40                 NaN  \n",
       "99996  Kilowatt-hours, million   1106.40                 NaN  \n",
       "99997  Kilowatt-hours, million   1208.40                 NaN  \n",
       "99998  Kilowatt-hours, million   1225.40                 NaN  \n",
       "99999  Kilowatt-hours, million   1135.00                 NaN  \n",
       "\n",
       "[100000 rows x 6 columns]"
      ]
     },
     "execution_count": 6,
     "metadata": {},
     "output_type": "execute_result"
    }
   ],
   "source": [
    "df['Year'] = df['Year'].astype(int)                \n",
    "df"
   ]
  },
  {
   "cell_type": "code",
   "execution_count": 7,
   "metadata": {},
   "outputs": [
    {
     "data": {
      "text/plain": [
       "(100000, 6)"
      ]
     },
     "execution_count": 7,
     "metadata": {},
     "output_type": "execute_result"
    }
   ],
   "source": [
    "df.shape"
   ]
  },
  {
   "cell_type": "code",
   "execution_count": 8,
   "metadata": {},
   "outputs": [
    {
     "name": "stdout",
     "output_type": "stream",
     "text": [
      "<class 'pandas.core.frame.DataFrame'>\n",
      "RangeIndex: 100000 entries, 0 to 99999\n",
      "Data columns (total 6 columns):\n",
      " #   Column                   Non-Null Count   Dtype  \n",
      "---  ------                   --------------   -----  \n",
      " 0   Country or Area          100000 non-null  object \n",
      " 1   Commodity - Transaction  100000 non-null  object \n",
      " 2   Year                     100000 non-null  int32  \n",
      " 3   Unit                     100000 non-null  object \n",
      " 4   Quantity                 100000 non-null  float64\n",
      " 5   Quantity Footnotes       13023 non-null   float64\n",
      "dtypes: float64(2), int32(1), object(3)\n",
      "memory usage: 4.2+ MB\n"
     ]
    }
   ],
   "source": [
    "df.info()"
   ]
  },
  {
   "cell_type": "code",
   "execution_count": 9,
   "metadata": {},
   "outputs": [
    {
     "data": {
      "text/html": [
       "<div>\n",
       "<style scoped>\n",
       "    .dataframe tbody tr th:only-of-type {\n",
       "        vertical-align: middle;\n",
       "    }\n",
       "\n",
       "    .dataframe tbody tr th {\n",
       "        vertical-align: top;\n",
       "    }\n",
       "\n",
       "    .dataframe thead th {\n",
       "        text-align: right;\n",
       "    }\n",
       "</style>\n",
       "<table border=\"1\" class=\"dataframe\">\n",
       "  <thead>\n",
       "    <tr style=\"text-align: right;\">\n",
       "      <th></th>\n",
       "      <th>Country_or_Area</th>\n",
       "      <th>CommodityTransaction</th>\n",
       "      <th>Year</th>\n",
       "      <th>Unit</th>\n",
       "      <th>Quantity</th>\n",
       "      <th>Quantity Footnotes</th>\n",
       "    </tr>\n",
       "  </thead>\n",
       "  <tbody>\n",
       "    <tr>\n",
       "      <th>0</th>\n",
       "      <td>Afghanistan</td>\n",
       "      <td>Electricity - Gross production</td>\n",
       "      <td>2019</td>\n",
       "      <td>Kilowatt-hours, million</td>\n",
       "      <td>1591.50</td>\n",
       "      <td>NaN</td>\n",
       "    </tr>\n",
       "    <tr>\n",
       "      <th>1</th>\n",
       "      <td>Afghanistan</td>\n",
       "      <td>Electricity - Gross production</td>\n",
       "      <td>2018</td>\n",
       "      <td>Kilowatt-hours, million</td>\n",
       "      <td>1265.72</td>\n",
       "      <td>NaN</td>\n",
       "    </tr>\n",
       "    <tr>\n",
       "      <th>2</th>\n",
       "      <td>Afghanistan</td>\n",
       "      <td>Electricity - Gross production</td>\n",
       "      <td>2017</td>\n",
       "      <td>Kilowatt-hours, million</td>\n",
       "      <td>1420.04</td>\n",
       "      <td>NaN</td>\n",
       "    </tr>\n",
       "    <tr>\n",
       "      <th>3</th>\n",
       "      <td>Afghanistan</td>\n",
       "      <td>Electricity - Gross production</td>\n",
       "      <td>2016</td>\n",
       "      <td>Kilowatt-hours, million</td>\n",
       "      <td>1393.90</td>\n",
       "      <td>NaN</td>\n",
       "    </tr>\n",
       "    <tr>\n",
       "      <th>4</th>\n",
       "      <td>Afghanistan</td>\n",
       "      <td>Electricity - Gross production</td>\n",
       "      <td>2015</td>\n",
       "      <td>Kilowatt-hours, million</td>\n",
       "      <td>1338.70</td>\n",
       "      <td>NaN</td>\n",
       "    </tr>\n",
       "  </tbody>\n",
       "</table>\n",
       "</div>"
      ],
      "text/plain": [
       "  Country_or_Area            CommodityTransaction  Year  \\\n",
       "0     Afghanistan  Electricity - Gross production  2019   \n",
       "1     Afghanistan  Electricity - Gross production  2018   \n",
       "2     Afghanistan  Electricity - Gross production  2017   \n",
       "3     Afghanistan  Electricity - Gross production  2016   \n",
       "4     Afghanistan  Electricity - Gross production  2015   \n",
       "\n",
       "                      Unit  Quantity  Quantity Footnotes  \n",
       "0  Kilowatt-hours, million   1591.50                 NaN  \n",
       "1  Kilowatt-hours, million   1265.72                 NaN  \n",
       "2  Kilowatt-hours, million   1420.04                 NaN  \n",
       "3  Kilowatt-hours, million   1393.90                 NaN  \n",
       "4  Kilowatt-hours, million   1338.70                 NaN  "
      ]
     },
     "execution_count": 9,
     "metadata": {},
     "output_type": "execute_result"
    }
   ],
   "source": [
    "df.rename(columns={\n",
    "                    'Country or Area': 'Country_or_Area',\n",
    "                    'Commodity - Transaction': 'CommodityTransaction',\n",
    "                   }, \n",
    "                     inplace=True)\n",
    "df.head()"
   ]
  },
  {
   "cell_type": "code",
   "execution_count": 10,
   "metadata": {},
   "outputs": [
    {
     "data": {
      "text/html": [
       "<div>\n",
       "<style scoped>\n",
       "    .dataframe tbody tr th:only-of-type {\n",
       "        vertical-align: middle;\n",
       "    }\n",
       "\n",
       "    .dataframe tbody tr th {\n",
       "        vertical-align: top;\n",
       "    }\n",
       "\n",
       "    .dataframe thead th {\n",
       "        text-align: right;\n",
       "    }\n",
       "</style>\n",
       "<table border=\"1\" class=\"dataframe\">\n",
       "  <thead>\n",
       "    <tr style=\"text-align: right;\">\n",
       "      <th></th>\n",
       "      <th>Country_or_Area</th>\n",
       "      <th>CommodityTransaction</th>\n",
       "      <th>Year</th>\n",
       "      <th>Unit</th>\n",
       "      <th>Quantity</th>\n",
       "    </tr>\n",
       "  </thead>\n",
       "  <tbody>\n",
       "    <tr>\n",
       "      <th>0</th>\n",
       "      <td>Afghanistan</td>\n",
       "      <td>Electricity - Gross production</td>\n",
       "      <td>2019</td>\n",
       "      <td>Kilowatt-hours, million</td>\n",
       "      <td>1591.50</td>\n",
       "    </tr>\n",
       "    <tr>\n",
       "      <th>1</th>\n",
       "      <td>Afghanistan</td>\n",
       "      <td>Electricity - Gross production</td>\n",
       "      <td>2018</td>\n",
       "      <td>Kilowatt-hours, million</td>\n",
       "      <td>1265.72</td>\n",
       "    </tr>\n",
       "    <tr>\n",
       "      <th>2</th>\n",
       "      <td>Afghanistan</td>\n",
       "      <td>Electricity - Gross production</td>\n",
       "      <td>2017</td>\n",
       "      <td>Kilowatt-hours, million</td>\n",
       "      <td>1420.04</td>\n",
       "    </tr>\n",
       "    <tr>\n",
       "      <th>3</th>\n",
       "      <td>Afghanistan</td>\n",
       "      <td>Electricity - Gross production</td>\n",
       "      <td>2016</td>\n",
       "      <td>Kilowatt-hours, million</td>\n",
       "      <td>1393.90</td>\n",
       "    </tr>\n",
       "    <tr>\n",
       "      <th>4</th>\n",
       "      <td>Afghanistan</td>\n",
       "      <td>Electricity - Gross production</td>\n",
       "      <td>2015</td>\n",
       "      <td>Kilowatt-hours, million</td>\n",
       "      <td>1338.70</td>\n",
       "    </tr>\n",
       "    <tr>\n",
       "      <th>...</th>\n",
       "      <td>...</td>\n",
       "      <td>...</td>\n",
       "      <td>...</td>\n",
       "      <td>...</td>\n",
       "      <td>...</td>\n",
       "    </tr>\n",
       "    <tr>\n",
       "      <th>99995</th>\n",
       "      <td>Mauritius</td>\n",
       "      <td>Electricity - total production, main activity</td>\n",
       "      <td>2007</td>\n",
       "      <td>Kilowatt-hours, million</td>\n",
       "      <td>1003.40</td>\n",
       "    </tr>\n",
       "    <tr>\n",
       "      <th>99996</th>\n",
       "      <td>Mauritius</td>\n",
       "      <td>Electricity - total production, main activity</td>\n",
       "      <td>2006</td>\n",
       "      <td>Kilowatt-hours, million</td>\n",
       "      <td>1106.40</td>\n",
       "    </tr>\n",
       "    <tr>\n",
       "      <th>99997</th>\n",
       "      <td>Mauritius</td>\n",
       "      <td>Electricity - total production, main activity</td>\n",
       "      <td>2005</td>\n",
       "      <td>Kilowatt-hours, million</td>\n",
       "      <td>1208.40</td>\n",
       "    </tr>\n",
       "    <tr>\n",
       "      <th>99998</th>\n",
       "      <td>Mauritius</td>\n",
       "      <td>Electricity - total production, main activity</td>\n",
       "      <td>2004</td>\n",
       "      <td>Kilowatt-hours, million</td>\n",
       "      <td>1225.40</td>\n",
       "    </tr>\n",
       "    <tr>\n",
       "      <th>99999</th>\n",
       "      <td>Mauritius</td>\n",
       "      <td>Electricity - total production, main activity</td>\n",
       "      <td>2003</td>\n",
       "      <td>Kilowatt-hours, million</td>\n",
       "      <td>1135.00</td>\n",
       "    </tr>\n",
       "  </tbody>\n",
       "</table>\n",
       "<p>100000 rows × 5 columns</p>\n",
       "</div>"
      ],
      "text/plain": [
       "      Country_or_Area                           CommodityTransaction  Year  \\\n",
       "0         Afghanistan                 Electricity - Gross production  2019   \n",
       "1         Afghanistan                 Electricity - Gross production  2018   \n",
       "2         Afghanistan                 Electricity - Gross production  2017   \n",
       "3         Afghanistan                 Electricity - Gross production  2016   \n",
       "4         Afghanistan                 Electricity - Gross production  2015   \n",
       "...               ...                                            ...   ...   \n",
       "99995       Mauritius  Electricity - total production, main activity  2007   \n",
       "99996       Mauritius  Electricity - total production, main activity  2006   \n",
       "99997       Mauritius  Electricity - total production, main activity  2005   \n",
       "99998       Mauritius  Electricity - total production, main activity  2004   \n",
       "99999       Mauritius  Electricity - total production, main activity  2003   \n",
       "\n",
       "                          Unit  Quantity  \n",
       "0      Kilowatt-hours, million   1591.50  \n",
       "1      Kilowatt-hours, million   1265.72  \n",
       "2      Kilowatt-hours, million   1420.04  \n",
       "3      Kilowatt-hours, million   1393.90  \n",
       "4      Kilowatt-hours, million   1338.70  \n",
       "...                        ...       ...  \n",
       "99995  Kilowatt-hours, million   1003.40  \n",
       "99996  Kilowatt-hours, million   1106.40  \n",
       "99997  Kilowatt-hours, million   1208.40  \n",
       "99998  Kilowatt-hours, million   1225.40  \n",
       "99999  Kilowatt-hours, million   1135.00  \n",
       "\n",
       "[100000 rows x 5 columns]"
      ]
     },
     "execution_count": 10,
     "metadata": {},
     "output_type": "execute_result"
    }
   ],
   "source": [
    "df1 = df[['Country_or_Area', 'CommodityTransaction', 'Year', 'Unit', 'Quantity']]\n",
    "df1"
   ]
  },
  {
   "cell_type": "code",
   "execution_count": 11,
   "metadata": {},
   "outputs": [
    {
     "data": {
      "text/html": [
       "<div>\n",
       "<style scoped>\n",
       "    .dataframe tbody tr th:only-of-type {\n",
       "        vertical-align: middle;\n",
       "    }\n",
       "\n",
       "    .dataframe tbody tr th {\n",
       "        vertical-align: top;\n",
       "    }\n",
       "\n",
       "    .dataframe thead th {\n",
       "        text-align: right;\n",
       "    }\n",
       "</style>\n",
       "<table border=\"1\" class=\"dataframe\">\n",
       "  <thead>\n",
       "    <tr style=\"text-align: right;\">\n",
       "      <th></th>\n",
       "      <th>Country_or_Area</th>\n",
       "      <th>CommodityTransaction</th>\n",
       "      <th>Unit</th>\n",
       "    </tr>\n",
       "  </thead>\n",
       "  <tbody>\n",
       "    <tr>\n",
       "      <th>count</th>\n",
       "      <td>100000</td>\n",
       "      <td>100000</td>\n",
       "      <td>100000</td>\n",
       "    </tr>\n",
       "    <tr>\n",
       "      <th>unique</th>\n",
       "      <td>139</td>\n",
       "      <td>93</td>\n",
       "      <td>1</td>\n",
       "    </tr>\n",
       "    <tr>\n",
       "      <th>top</th>\n",
       "      <td>France</td>\n",
       "      <td>Electricity - Own use by electricity, heat and...</td>\n",
       "      <td>Kilowatt-hours, million</td>\n",
       "    </tr>\n",
       "    <tr>\n",
       "      <th>freq</th>\n",
       "      <td>1740</td>\n",
       "      <td>3928</td>\n",
       "      <td>100000</td>\n",
       "    </tr>\n",
       "  </tbody>\n",
       "</table>\n",
       "</div>"
      ],
      "text/plain": [
       "       Country_or_Area                               CommodityTransaction  \\\n",
       "count           100000                                             100000   \n",
       "unique             139                                                 93   \n",
       "top             France  Electricity - Own use by electricity, heat and...   \n",
       "freq              1740                                               3928   \n",
       "\n",
       "                           Unit  \n",
       "count                    100000  \n",
       "unique                        1  \n",
       "top     Kilowatt-hours, million  \n",
       "freq                     100000  "
      ]
     },
     "execution_count": 11,
     "metadata": {},
     "output_type": "execute_result"
    }
   ],
   "source": [
    "df1.describe(include='object')"
   ]
  },
  {
   "cell_type": "code",
   "execution_count": 12,
   "metadata": {},
   "outputs": [
    {
     "data": {
      "text/plain": [
       "France                         1740\n",
       "Italy                          1736\n",
       "Germany                        1654\n",
       "Austria                        1629\n",
       "Japan                          1610\n",
       "                               ... \n",
       "Bonaire, St Eustatius, Saba     128\n",
       "Ethiopia, incl. Eritrea          68\n",
       "Czechoslovakia (former)          60\n",
       "Germany, Fed. R. (former)        37\n",
       "German Dem. R. (former)          24\n",
       "Name: Country_or_Area, Length: 139, dtype: int64"
      ]
     },
     "execution_count": 12,
     "metadata": {},
     "output_type": "execute_result"
    }
   ],
   "source": [
    "df1['Country_or_Area'].value_counts()"
   ]
  },
  {
   "cell_type": "code",
   "execution_count": 13,
   "metadata": {},
   "outputs": [
    {
     "data": {
      "text/plain": [
       "Electricity - Own use by electricity, heat and CHP plants    3928\n",
       "Electricity - net production                                 3926\n",
       "Electricity - Gross demand                                   3908\n",
       "Electricity - Consumption by other                           3908\n",
       "Electricity - Final energy consumption                       3908\n",
       "                                                             ... \n",
       "Solar thermal – Main activity                                  18\n",
       "From chemical heat – Main activity – Electricity plants        16\n",
       "Electricity - Own use by gas-to-liquid (GTL) plants            11\n",
       "Solar thermal – Autoproducer                                    8\n",
       "Electricity - Own use by charcoal plants                        3\n",
       "Name: CommodityTransaction, Length: 93, dtype: int64"
      ]
     },
     "execution_count": 13,
     "metadata": {},
     "output_type": "execute_result"
    }
   ],
   "source": [
    "df1['CommodityTransaction'].value_counts()"
   ]
  },
  {
   "cell_type": "code",
   "execution_count": 14,
   "metadata": {},
   "outputs": [
    {
     "data": {
      "text/plain": [
       "count    1.000000e+05\n",
       "mean     2.429092e+04\n",
       "std      1.651396e+05\n",
       "min     -9.998750e+05\n",
       "25%      9.362563e+01\n",
       "50%      6.750000e+02\n",
       "75%      5.341000e+03\n",
       "max      7.166133e+06\n",
       "Name: Quantity, dtype: float64"
      ]
     },
     "execution_count": 14,
     "metadata": {},
     "output_type": "execute_result"
    }
   ],
   "source": [
    "df1['Quantity'].describe()"
   ]
  },
  {
   "cell_type": "code",
   "execution_count": 15,
   "metadata": {},
   "outputs": [
    {
     "data": {
      "text/plain": [
       "<AxesSubplot:xlabel='Quantity', ylabel='Density'>"
      ]
     },
     "execution_count": 15,
     "metadata": {},
     "output_type": "execute_result"
    },
    {
     "data": {
      "image/png": "[encoded data removed]",
      "text/plain": [
       "<Figure size 864x648 with 1 Axes>"
      ]
     },
     "metadata": {},
     "output_type": "display_data"
    }
   ],
   "source": [
    "sns.kdeplot(data=df1, x='Quantity')"
   ]
  },
  {
   "cell_type": "markdown",
   "metadata": {},
   "source": [
    "# Missing Values Exploration"
   ]
  },
  {
   "cell_type": "code",
   "execution_count": 16,
   "metadata": {},
   "outputs": [
    {
     "data": {
      "text/plain": [
       "Country_or_Area         0\n",
       "CommodityTransaction    0\n",
       "Year                    0\n",
       "Unit                    0\n",
       "Quantity                0\n",
       "dtype: int64"
      ]
     },
     "execution_count": 16,
     "metadata": {},
     "output_type": "execute_result"
    }
   ],
   "source": [
    "df1.isna().sum()"
   ]
  },
  {
   "cell_type": "markdown",
   "metadata": {},
   "source": [
    "# Grouping and Aggregation"
   ]
  },
  {
   "cell_type": "code",
   "execution_count": 17,
   "metadata": {},
   "outputs": [
    {
     "data": {
      "text/html": [
       "<div>\n",
       "<style scoped>\n",
       "    .dataframe tbody tr th:only-of-type {\n",
       "        vertical-align: middle;\n",
       "    }\n",
       "\n",
       "    .dataframe tbody tr th {\n",
       "        vertical-align: top;\n",
       "    }\n",
       "\n",
       "    .dataframe thead th {\n",
       "        text-align: right;\n",
       "    }\n",
       "</style>\n",
       "<table border=\"1\" class=\"dataframe\">\n",
       "  <thead>\n",
       "    <tr style=\"text-align: right;\">\n",
       "      <th></th>\n",
       "      <th>Country_or_Area</th>\n",
       "      <th>CommodityTransaction</th>\n",
       "      <th>Year</th>\n",
       "      <th>Unit</th>\n",
       "      <th>Quantity</th>\n",
       "    </tr>\n",
       "  </thead>\n",
       "  <tbody>\n",
       "    <tr>\n",
       "      <th>0</th>\n",
       "      <td>Afghanistan</td>\n",
       "      <td>Electricity - Gross production</td>\n",
       "      <td>2019</td>\n",
       "      <td>Kilowatt-hours, million</td>\n",
       "      <td>1591.50</td>\n",
       "    </tr>\n",
       "    <tr>\n",
       "      <th>1</th>\n",
       "      <td>Afghanistan</td>\n",
       "      <td>Electricity - Gross production</td>\n",
       "      <td>2018</td>\n",
       "      <td>Kilowatt-hours, million</td>\n",
       "      <td>1265.72</td>\n",
       "    </tr>\n",
       "    <tr>\n",
       "      <th>2</th>\n",
       "      <td>Afghanistan</td>\n",
       "      <td>Electricity - Gross production</td>\n",
       "      <td>2017</td>\n",
       "      <td>Kilowatt-hours, million</td>\n",
       "      <td>1420.04</td>\n",
       "    </tr>\n",
       "    <tr>\n",
       "      <th>3</th>\n",
       "      <td>Afghanistan</td>\n",
       "      <td>Electricity - Gross production</td>\n",
       "      <td>2016</td>\n",
       "      <td>Kilowatt-hours, million</td>\n",
       "      <td>1393.90</td>\n",
       "    </tr>\n",
       "    <tr>\n",
       "      <th>4</th>\n",
       "      <td>Afghanistan</td>\n",
       "      <td>Electricity - Gross production</td>\n",
       "      <td>2015</td>\n",
       "      <td>Kilowatt-hours, million</td>\n",
       "      <td>1338.70</td>\n",
       "    </tr>\n",
       "    <tr>\n",
       "      <th>...</th>\n",
       "      <td>...</td>\n",
       "      <td>...</td>\n",
       "      <td>...</td>\n",
       "      <td>...</td>\n",
       "      <td>...</td>\n",
       "    </tr>\n",
       "    <tr>\n",
       "      <th>99394</th>\n",
       "      <td>Mauritius</td>\n",
       "      <td>Electricity - Gross production</td>\n",
       "      <td>2018</td>\n",
       "      <td>Kilowatt-hours, million</td>\n",
       "      <td>3131.50</td>\n",
       "    </tr>\n",
       "    <tr>\n",
       "      <th>99395</th>\n",
       "      <td>Mauritius</td>\n",
       "      <td>Electricity - Gross production</td>\n",
       "      <td>2017</td>\n",
       "      <td>Kilowatt-hours, million</td>\n",
       "      <td>3119.70</td>\n",
       "    </tr>\n",
       "    <tr>\n",
       "      <th>99396</th>\n",
       "      <td>Mauritius</td>\n",
       "      <td>Electricity - Gross production</td>\n",
       "      <td>2016</td>\n",
       "      <td>Kilowatt-hours, million</td>\n",
       "      <td>3042.23</td>\n",
       "    </tr>\n",
       "    <tr>\n",
       "      <th>99397</th>\n",
       "      <td>Mauritius</td>\n",
       "      <td>Electricity - Gross production</td>\n",
       "      <td>2015</td>\n",
       "      <td>Kilowatt-hours, million</td>\n",
       "      <td>2995.60</td>\n",
       "    </tr>\n",
       "    <tr>\n",
       "      <th>99398</th>\n",
       "      <td>Mauritius</td>\n",
       "      <td>Electricity - Gross production</td>\n",
       "      <td>2014</td>\n",
       "      <td>Kilowatt-hours, million</td>\n",
       "      <td>2935.90</td>\n",
       "    </tr>\n",
       "  </tbody>\n",
       "</table>\n",
       "<p>695 rows × 5 columns</p>\n",
       "</div>"
      ],
      "text/plain": [
       "      Country_or_Area            CommodityTransaction  Year  \\\n",
       "0         Afghanistan  Electricity - Gross production  2019   \n",
       "1         Afghanistan  Electricity - Gross production  2018   \n",
       "2         Afghanistan  Electricity - Gross production  2017   \n",
       "3         Afghanistan  Electricity - Gross production  2016   \n",
       "4         Afghanistan  Electricity - Gross production  2015   \n",
       "...               ...                             ...   ...   \n",
       "99394       Mauritius  Electricity - Gross production  2018   \n",
       "99395       Mauritius  Electricity - Gross production  2017   \n",
       "99396       Mauritius  Electricity - Gross production  2016   \n",
       "99397       Mauritius  Electricity - Gross production  2015   \n",
       "99398       Mauritius  Electricity - Gross production  2014   \n",
       "\n",
       "                          Unit  Quantity  \n",
       "0      Kilowatt-hours, million   1591.50  \n",
       "1      Kilowatt-hours, million   1265.72  \n",
       "2      Kilowatt-hours, million   1420.04  \n",
       "3      Kilowatt-hours, million   1393.90  \n",
       "4      Kilowatt-hours, million   1338.70  \n",
       "...                        ...       ...  \n",
       "99394  Kilowatt-hours, million   3131.50  \n",
       "99395  Kilowatt-hours, million   3119.70  \n",
       "99396  Kilowatt-hours, million   3042.23  \n",
       "99397  Kilowatt-hours, million   2995.60  \n",
       "99398  Kilowatt-hours, million   2935.90  \n",
       "\n",
       "[695 rows x 5 columns]"
      ]
     },
     "execution_count": 17,
     "metadata": {},
     "output_type": "execute_result"
    }
   ],
   "source": [
    "country_area_grouped = df1.groupby('Country_or_Area')\n",
    "country_area_grouped.head()"
   ]
  },
  {
   "cell_type": "markdown",
   "metadata": {},
   "source": [
    "# Total Electricity Quantity per Country_or_Area"
   ]
  },
  {
   "cell_type": "code",
   "execution_count": 18,
   "metadata": {},
   "outputs": [
    {
     "data": {
      "text/html": [
       "<div>\n",
       "<style scoped>\n",
       "    .dataframe tbody tr th:only-of-type {\n",
       "        vertical-align: middle;\n",
       "    }\n",
       "\n",
       "    .dataframe tbody tr th {\n",
       "        vertical-align: top;\n",
       "    }\n",
       "\n",
       "    .dataframe thead th {\n",
       "        text-align: right;\n",
       "    }\n",
       "</style>\n",
       "<table border=\"1\" class=\"dataframe\">\n",
       "  <thead>\n",
       "    <tr style=\"text-align: right;\">\n",
       "      <th></th>\n",
       "      <th>min_qty</th>\n",
       "      <th>mean_qty</th>\n",
       "      <th>max_qty</th>\n",
       "      <th>total_qty</th>\n",
       "    </tr>\n",
       "    <tr>\n",
       "      <th>Country_or_Area</th>\n",
       "      <th></th>\n",
       "      <th></th>\n",
       "      <th></th>\n",
       "      <th></th>\n",
       "    </tr>\n",
       "  </thead>\n",
       "  <tbody>\n",
       "    <tr>\n",
       "      <th>Afghanistan</th>\n",
       "      <td>1.200000e+00</td>\n",
       "      <td>634.881466</td>\n",
       "      <td>6142.50</td>\n",
       "      <td>406959.020</td>\n",
       "    </tr>\n",
       "    <tr>\n",
       "      <th>Albania</th>\n",
       "      <td>0.000000e+00</td>\n",
       "      <td>1730.243906</td>\n",
       "      <td>9278.53</td>\n",
       "      <td>1271729.271</td>\n",
       "    </tr>\n",
       "    <tr>\n",
       "      <th>Algeria</th>\n",
       "      <td>0.000000e+00</td>\n",
       "      <td>10367.785635</td>\n",
       "      <td>76664.00</td>\n",
       "      <td>9382846.000</td>\n",
       "    </tr>\n",
       "    <tr>\n",
       "      <th>American Samoa</th>\n",
       "      <td>0.000000e+00</td>\n",
       "      <td>88.853376</td>\n",
       "      <td>189.00</td>\n",
       "      <td>39450.899</td>\n",
       "    </tr>\n",
       "    <tr>\n",
       "      <th>Andorra</th>\n",
       "      <td>0.000000e+00</td>\n",
       "      <td>144.855171</td>\n",
       "      <td>593.29</td>\n",
       "      <td>76338.675</td>\n",
       "    </tr>\n",
       "    <tr>\n",
       "      <th>...</th>\n",
       "      <td>...</td>\n",
       "      <td>...</td>\n",
       "      <td>...</td>\n",
       "      <td>...</td>\n",
       "    </tr>\n",
       "    <tr>\n",
       "      <th>Malta</th>\n",
       "      <td>0.000000e+00</td>\n",
       "      <td>784.232407</td>\n",
       "      <td>2707.70</td>\n",
       "      <td>505045.670</td>\n",
       "    </tr>\n",
       "    <tr>\n",
       "      <th>Marshall Islands</th>\n",
       "      <td>-2.831069e-15</td>\n",
       "      <td>47.355701</td>\n",
       "      <td>101.30</td>\n",
       "      <td>19936.750</td>\n",
       "    </tr>\n",
       "    <tr>\n",
       "      <th>Martinique</th>\n",
       "      <td>6.000000e-03</td>\n",
       "      <td>590.944934</td>\n",
       "      <td>1617.00</td>\n",
       "      <td>518849.652</td>\n",
       "    </tr>\n",
       "    <tr>\n",
       "      <th>Mauritania</th>\n",
       "      <td>1.632000e+00</td>\n",
       "      <td>288.663493</td>\n",
       "      <td>1478.70</td>\n",
       "      <td>172043.442</td>\n",
       "    </tr>\n",
       "    <tr>\n",
       "      <th>Mauritius</th>\n",
       "      <td>0.000000e+00</td>\n",
       "      <td>669.062739</td>\n",
       "      <td>3131.50</td>\n",
       "      <td>405452.020</td>\n",
       "    </tr>\n",
       "  </tbody>\n",
       "</table>\n",
       "<p>139 rows × 4 columns</p>\n",
       "</div>"
      ],
      "text/plain": [
       "                       min_qty      mean_qty   max_qty    total_qty\n",
       "Country_or_Area                                                    \n",
       "Afghanistan       1.200000e+00    634.881466   6142.50   406959.020\n",
       "Albania           0.000000e+00   1730.243906   9278.53  1271729.271\n",
       "Algeria           0.000000e+00  10367.785635  76664.00  9382846.000\n",
       "American Samoa    0.000000e+00     88.853376    189.00    39450.899\n",
       "Andorra           0.000000e+00    144.855171    593.29    76338.675\n",
       "...                        ...           ...       ...          ...\n",
       "Malta             0.000000e+00    784.232407   2707.70   505045.670\n",
       "Marshall Islands -2.831069e-15     47.355701    101.30    19936.750\n",
       "Martinique        6.000000e-03    590.944934   1617.00   518849.652\n",
       "Mauritania        1.632000e+00    288.663493   1478.70   172043.442\n",
       "Mauritius         0.000000e+00    669.062739   3131.50   405452.020\n",
       "\n",
       "[139 rows x 4 columns]"
      ]
     },
     "execution_count": 18,
     "metadata": {},
     "output_type": "execute_result"
    }
   ],
   "source": [
    "agg_qty_stats = country_area_grouped.agg(\n",
    "    min_qty = pd.NamedAgg('Quantity', np.min),\n",
    "    mean_qty = pd.NamedAgg('Quantity', np.mean),\n",
    "    max_qty = pd.NamedAgg('Quantity', np.max),\n",
    "    total_qty = pd.NamedAgg('Quantity', np.sum),\n",
    ")\n",
    "\n",
    "agg_qty_stats"
   ]
  },
  {
   "cell_type": "code",
   "execution_count": 19,
   "metadata": {},
   "outputs": [
    {
     "data": {
      "text/plain": [
       "Country_or_Area\n",
       "China                 7.367588e+08\n",
       "Japan                 2.711636e+08\n",
       "India                 1.813170e+08\n",
       "Germany               1.483227e+08\n",
       "Canada                1.431019e+08\n",
       "France                1.314203e+08\n",
       "Brazil                1.024703e+08\n",
       "Korea, Republic of    9.434827e+07\n",
       "Italy                 7.652770e+07\n",
       "Australia             5.586351e+07\n",
       "Name: total_qty, dtype: float64"
      ]
     },
     "execution_count": 19,
     "metadata": {},
     "output_type": "execute_result"
    }
   ],
   "source": [
    "agg_qty_stats['total_qty'].sort_values(ascending=False).head(10)        # top ten country or area with the highest total electricity quantity"
   ]
  },
  {
   "cell_type": "markdown",
   "metadata": {},
   "source": [
    "# Data Visualization"
   ]
  },
  {
   "cell_type": "code",
   "execution_count": 20,
   "metadata": {},
   "outputs": [],
   "source": [
    "# helper function for formatting plot y-axis\n",
    "from matplotlib.ticker import FuncFormatter\n",
    "\n",
    "def million(x, pos):\n",
    "    'The two args are the value and tick position'\n",
    "    return '%1.1fM' % (x * 1e-6)\n",
    "\n",
    "format_mill = FuncFormatter(million)\n",
    "\n",
    "\n",
    "def thousand(x, pos):\n",
    "    'The two args are the value and tick position'\n",
    "    return '%1.1fK' % (x * 1e-3)\n",
    "\n",
    "format_tsd = FuncFormatter(thousand)\n",
    "\n",
    "\n",
    "# helper function to plot horizontal bar chart \n",
    "def plot_hbar(y, width, align='center', xlabel=None, ylabel=None, title=None, color=None, formatter=None):\n",
    "\n",
    "    # Initialize the matplotlib figure\n",
    "    fig, ax = plt.subplots()\n",
    "    fig.autofmt_xdate()\n",
    "\n",
    "    # plot bar chart\n",
    "    ax.barh(\n",
    "        y=y, width=width,\n",
    "        align=align\n",
    "    )\n",
    "\n",
    "    # Add informative axis label\n",
    "    ax.set(xlabel=xlabel, ylabel=ylabel, title=title)\n",
    "\n",
    "    # labels read top-to-bottom\n",
    "    ax.invert_yaxis()  \n",
    "\n",
    "    # set axis formatter\n",
    "    ax.xaxis.set_major_formatter(formatter=formatter)\n",
    "\n",
    "    # despine x-axis and y-axis\n",
    "    sns.despine(left=True, bottom=True)\n",
    "\n",
    "    return plot_hbar"
   ]
  },
  {
   "cell_type": "code",
   "execution_count": 21,
   "metadata": {},
   "outputs": [
    {
     "data": {
      "text/plain": [
       "<function __main__.plot_hbar(y, width, align='center', xlabel=None, ylabel=None, title=None, color=None, formatter=None)>"
      ]
     },
     "execution_count": 21,
     "metadata": {},
     "output_type": "execute_result"
    },
    {
     "data": {
      "image/png": "[encoded data removed]",
      "text/plain": [
       "<Figure size 864x648 with 1 Axes>"
      ]
     },
     "metadata": {},
     "output_type": "display_data"
    }
   ],
   "source": [
    "top_10_qty = agg_qty_stats['total_qty'].sort_values(ascending=False).head(10) \n",
    "\n",
    "plot_hbar(y=top_10_qty.keys(), width=top_10_qty.values, \n",
    "          xlabel='Quantity (kWh)', ylabel='Country or Area', title='Total Electricity Quantity by Country or Area',\n",
    "          formatter=format_mill\n",
    "          )"
   ]
  },
  {
   "cell_type": "code",
   "execution_count": 22,
   "metadata": {},
   "outputs": [
    {
     "data": {
      "text/plain": [
       "Country_or_Area\n",
       "Falkland Is. (Malvinas)         4061.852607\n",
       "Kiribati                        4877.200000\n",
       "Cook Islands                    7069.500000\n",
       "Bonaire, St Eustatius, Saba     8710.900000\n",
       "Comoros                        10370.355000\n",
       "Guinea-Bissau                  10505.165345\n",
       "Anguilla                       16343.750000\n",
       "Marshall Islands               19936.750000\n",
       "Dominica                       25025.057000\n",
       "Central African Rep.           32273.200000\n",
       "Name: total_qty, dtype: float64"
      ]
     },
     "execution_count": 22,
     "metadata": {},
     "output_type": "execute_result"
    }
   ],
   "source": [
    "agg_qty_stats['total_qty'].sort_values(ascending=True).head(10)        # top ten country or area with the lowest total electricity quantity"
   ]
  },
  {
   "cell_type": "code",
   "execution_count": 23,
   "metadata": {},
   "outputs": [
    {
     "data": {
      "text/plain": [
       "<function __main__.plot_hbar(y, width, align='center', xlabel=None, ylabel=None, title=None, color=None, formatter=None)>"
      ]
     },
     "execution_count": 23,
     "metadata": {},
     "output_type": "execute_result"
    },
    {
     "data": {
      "image/png": "[encoded data removed]",
      "text/plain": [
       "<Figure size 864x648 with 1 Axes>"
      ]
     },
     "metadata": {},
     "output_type": "display_data"
    }
   ],
   "source": [
    "low_10_qty = agg_qty_stats['total_qty'].sort_values(ascending=True).head(10) \n",
    "\n",
    "plot_hbar(y=low_10_qty.keys(), width=low_10_qty.values, \n",
    "          xlabel='Quantity (kWh)', ylabel='Country or Area', title='Total Electricity Quantity by Country or Area',\n",
    "          formatter=format_tsd\n",
    "          )"
   ]
  },
  {
   "cell_type": "markdown",
   "metadata": {},
   "source": [
    "# Grouping By Country/Area and Commodity Transaction"
   ]
  },
  {
   "cell_type": "code",
   "execution_count": 24,
   "metadata": {},
   "outputs": [
    {
     "data": {
      "text/html": [
       "<div>\n",
       "<style scoped>\n",
       "    .dataframe tbody tr th:only-of-type {\n",
       "        vertical-align: middle;\n",
       "    }\n",
       "\n",
       "    .dataframe tbody tr th {\n",
       "        vertical-align: top;\n",
       "    }\n",
       "\n",
       "    .dataframe thead th {\n",
       "        text-align: right;\n",
       "    }\n",
       "</style>\n",
       "<table border=\"1\" class=\"dataframe\">\n",
       "  <thead>\n",
       "    <tr style=\"text-align: right;\">\n",
       "      <th></th>\n",
       "      <th>Country_or_Area</th>\n",
       "      <th>CommodityTransaction</th>\n",
       "      <th>Year</th>\n",
       "      <th>Unit</th>\n",
       "      <th>Quantity</th>\n",
       "    </tr>\n",
       "  </thead>\n",
       "  <tbody>\n",
       "    <tr>\n",
       "      <th>0</th>\n",
       "      <td>Afghanistan</td>\n",
       "      <td>Electricity - Gross production</td>\n",
       "      <td>2019</td>\n",
       "      <td>Kilowatt-hours, million</td>\n",
       "      <td>1591.50</td>\n",
       "    </tr>\n",
       "    <tr>\n",
       "      <th>1</th>\n",
       "      <td>Afghanistan</td>\n",
       "      <td>Electricity - Gross production</td>\n",
       "      <td>2018</td>\n",
       "      <td>Kilowatt-hours, million</td>\n",
       "      <td>1265.72</td>\n",
       "    </tr>\n",
       "    <tr>\n",
       "      <th>2</th>\n",
       "      <td>Afghanistan</td>\n",
       "      <td>Electricity - Gross production</td>\n",
       "      <td>2017</td>\n",
       "      <td>Kilowatt-hours, million</td>\n",
       "      <td>1420.04</td>\n",
       "    </tr>\n",
       "    <tr>\n",
       "      <th>3</th>\n",
       "      <td>Afghanistan</td>\n",
       "      <td>Electricity - Gross production</td>\n",
       "      <td>2016</td>\n",
       "      <td>Kilowatt-hours, million</td>\n",
       "      <td>1393.90</td>\n",
       "    </tr>\n",
       "    <tr>\n",
       "      <th>4</th>\n",
       "      <td>Afghanistan</td>\n",
       "      <td>Electricity - Gross production</td>\n",
       "      <td>2015</td>\n",
       "      <td>Kilowatt-hours, million</td>\n",
       "      <td>1338.70</td>\n",
       "    </tr>\n",
       "    <tr>\n",
       "      <th>...</th>\n",
       "      <td>...</td>\n",
       "      <td>...</td>\n",
       "      <td>...</td>\n",
       "      <td>...</td>\n",
       "      <td>...</td>\n",
       "    </tr>\n",
       "    <tr>\n",
       "      <th>99984</th>\n",
       "      <td>Mauritius</td>\n",
       "      <td>Electricity - total production, main activity</td>\n",
       "      <td>2018</td>\n",
       "      <td>Kilowatt-hours, million</td>\n",
       "      <td>1350.40</td>\n",
       "    </tr>\n",
       "    <tr>\n",
       "      <th>99985</th>\n",
       "      <td>Mauritius</td>\n",
       "      <td>Electricity - total production, main activity</td>\n",
       "      <td>2017</td>\n",
       "      <td>Kilowatt-hours, million</td>\n",
       "      <td>1276.50</td>\n",
       "    </tr>\n",
       "    <tr>\n",
       "      <th>99986</th>\n",
       "      <td>Mauritius</td>\n",
       "      <td>Electricity - total production, main activity</td>\n",
       "      <td>2016</td>\n",
       "      <td>Kilowatt-hours, million</td>\n",
       "      <td>1215.00</td>\n",
       "    </tr>\n",
       "    <tr>\n",
       "      <th>99987</th>\n",
       "      <td>Mauritius</td>\n",
       "      <td>Electricity - total production, main activity</td>\n",
       "      <td>2015</td>\n",
       "      <td>Kilowatt-hours, million</td>\n",
       "      <td>1257.80</td>\n",
       "    </tr>\n",
       "    <tr>\n",
       "      <th>99988</th>\n",
       "      <td>Mauritius</td>\n",
       "      <td>Electricity - total production, main activity</td>\n",
       "      <td>2014</td>\n",
       "      <td>Kilowatt-hours, million</td>\n",
       "      <td>1175.30</td>\n",
       "    </tr>\n",
       "  </tbody>\n",
       "</table>\n",
       "<p>21242 rows × 5 columns</p>\n",
       "</div>"
      ],
      "text/plain": [
       "      Country_or_Area                           CommodityTransaction  Year  \\\n",
       "0         Afghanistan                 Electricity - Gross production  2019   \n",
       "1         Afghanistan                 Electricity - Gross production  2018   \n",
       "2         Afghanistan                 Electricity - Gross production  2017   \n",
       "3         Afghanistan                 Electricity - Gross production  2016   \n",
       "4         Afghanistan                 Electricity - Gross production  2015   \n",
       "...               ...                                            ...   ...   \n",
       "99984       Mauritius  Electricity - total production, main activity  2018   \n",
       "99985       Mauritius  Electricity - total production, main activity  2017   \n",
       "99986       Mauritius  Electricity - total production, main activity  2016   \n",
       "99987       Mauritius  Electricity - total production, main activity  2015   \n",
       "99988       Mauritius  Electricity - total production, main activity  2014   \n",
       "\n",
       "                          Unit  Quantity  \n",
       "0      Kilowatt-hours, million   1591.50  \n",
       "1      Kilowatt-hours, million   1265.72  \n",
       "2      Kilowatt-hours, million   1420.04  \n",
       "3      Kilowatt-hours, million   1393.90  \n",
       "4      Kilowatt-hours, million   1338.70  \n",
       "...                        ...       ...  \n",
       "99984  Kilowatt-hours, million   1350.40  \n",
       "99985  Kilowatt-hours, million   1276.50  \n",
       "99986  Kilowatt-hours, million   1215.00  \n",
       "99987  Kilowatt-hours, million   1257.80  \n",
       "99988  Kilowatt-hours, million   1175.30  \n",
       "\n",
       "[21242 rows x 5 columns]"
      ]
     },
     "execution_count": 24,
     "metadata": {},
     "output_type": "execute_result"
    }
   ],
   "source": [
    "country_comtrans_grpd = df1.groupby(['Country_or_Area', 'CommodityTransaction'])\n",
    "country_comtrans_grpd.head()"
   ]
  },
  {
   "cell_type": "code",
   "execution_count": 25,
   "metadata": {},
   "outputs": [],
   "source": [
    "def plot_line(data, x, y, hue=None, style=None, size=None, title=None, xlabel=None, ylabel=None, formatter=None):\n",
    "    # create figure and axis\n",
    "    fig, ax = plt.subplots()\n",
    "    fig.autofmt_xdate()\n",
    "\n",
    "    # plot line chart\n",
    "    sns.lineplot(\n",
    "        data=data, \n",
    "        x=x, y=y, \n",
    "        hue=hue, style=style, size=size,\n",
    "        ax=ax)\n",
    "\n",
    "    # label plot axis\n",
    "    ax.set(title=title, xlabel=xlabel, ylabel=ylabel)\n",
    "\n",
    "    # despine axis\n",
    "    sns.despine(bottom=True, left=True)\n",
    "\n",
    "    # y-axis formatter\n",
    "    ax.yaxis.set_major_formatter(formatter=formatter)\n",
    "\n",
    "    return plot_line"
   ]
  },
  {
   "cell_type": "code",
   "execution_count": 26,
   "metadata": {},
   "outputs": [
    {
     "data": {
      "text/plain": [
       "<function __main__.plot_line(data, x, y, hue=None, style=None, size=None, title=None, xlabel=None, ylabel=None, formatter=None)>"
      ]
     },
     "execution_count": 26,
     "metadata": {},
     "output_type": "execute_result"
    },
    {
     "data": {
      "image/png": "[encoded data removed]",
      "text/plain": [
       "<Figure size 864x648 with 1 Axes>"
      ]
     },
     "metadata": {},
     "output_type": "display_data"
    }
   ],
   "source": [
    "plot_line(\n",
    "    data=country_comtrans_grpd.get_group(('Germany', 'Electricity - Gross production')),\n",
    "    x='Year', y='Quantity',\n",
    "    hue='CommodityTransaction',\n",
    "    title='Germany', xlabel='Year', ylabel='Commodity Transaction (kWh)',\n",
    "    formatter=format_tsd\n",
    ")"
   ]
  },
  {
   "cell_type": "code",
   "execution_count": 27,
   "metadata": {},
   "outputs": [
    {
     "data": {
      "text/plain": [
       "<function __main__.plot_line(data, x, y, hue=None, style=None, size=None, title=None, xlabel=None, ylabel=None, formatter=None)>"
      ]
     },
     "execution_count": 27,
     "metadata": {},
     "output_type": "execute_result"
    },
    {
     "data": {
      "image/png": "[encoded data removed]",
      "text/plain": [
       "<Figure size 864x648 with 1 Axes>"
      ]
     },
     "metadata": {},
     "output_type": "display_data"
    }
   ],
   "source": [
    "plot_line(\n",
    "    data=country_comtrans_grpd.get_group(('China', 'Electricity - Gross production')),\n",
    "    x='Year', y='Quantity',\n",
    "    hue='CommodityTransaction',\n",
    "    title='China', xlabel='Year', ylabel='Commodity Transaction (kWh)',\n",
    "    formatter=format_mill\n",
    ")"
   ]
  },
  {
   "cell_type": "code",
   "execution_count": 28,
   "metadata": {},
   "outputs": [
    {
     "data": {
      "text/plain": [
       "<function __main__.plot_line(data, x, y, hue=None, style=None, size=None, title=None, xlabel=None, ylabel=None, formatter=None)>"
      ]
     },
     "execution_count": 28,
     "metadata": {},
     "output_type": "execute_result"
    },
    {
     "data": {
      "image/png": "[encoded data removed]",
      "text/plain": [
       "<Figure size 864x648 with 1 Axes>"
      ]
     },
     "metadata": {},
     "output_type": "display_data"
    }
   ],
   "source": [
    "plot_line(\n",
    "    data=country_comtrans_grpd.get_group(('France', 'Electricity - Gross production')),\n",
    "    x='Year', y='Quantity',\n",
    "    hue='CommodityTransaction',\n",
    "    title='France', xlabel='Year', ylabel='Commodity Transaction (kWh)',\n",
    "    formatter=format_tsd\n",
    ")"
   ]
  },
  {
   "cell_type": "code",
   "execution_count": 29,
   "metadata": {},
   "outputs": [
    {
     "data": {
      "text/plain": [
       "<function __main__.plot_line(data, x, y, hue=None, style=None, size=None, title=None, xlabel=None, ylabel=None, formatter=None)>"
      ]
     },
     "execution_count": 29,
     "metadata": {},
     "output_type": "execute_result"
    },
    {
     "data": {
      "image/png": "[encoded data removed]",
      "text/plain": [
       "<Figure size 864x648 with 1 Axes>"
      ]
     },
     "metadata": {},
     "output_type": "display_data"
    }
   ],
   "source": [
    "plot_line(\n",
    "    data=country_comtrans_grpd.get_group(('Ghana', 'Electricity - Gross production')),\n",
    "    x='Year', y='Quantity',\n",
    "    hue='CommodityTransaction',\n",
    "    title='Ghana', xlabel='Year', ylabel='Commodity Transaction (kWh)',\n",
    "    formatter=format_tsd\n",
    ")"
   ]
  }
 ],
 "metadata": {
  "interpreter": {
   "hash": "3fe9daace87ea8cb12e037f7452ad9bcd52f59aa894a611255d1461de3a9065e"
  },
  "kernelspec": {
   "display_name": "Python 3.9.7 64-bit ('DS': conda)",
   "language": "python",
   "name": "python3"
  },
  "language_info": {
   "codemirror_mode": {
    "name": "ipython",
    "version": 3
   },
   "file_extension": ".py",
   "mimetype": "text/x-python",
   "name": "python",
   "nbconvert_exporter": "python",
   "pygments_lexer": "ipython3",
   "version": "3.9.12"
  },
  "orig_nbformat": 4
 },
 "nbformat": 4,
 "nbformat_minor": 2
}
