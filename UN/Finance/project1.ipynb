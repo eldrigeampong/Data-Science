{
 "cells": [
  {
   "cell_type": "markdown",
   "metadata": {},
   "source": [
    "# Balance of payments"
   ]
  },
  {
   "cell_type": "markdown",
   "metadata": {},
   "source": [
    "# Import Libraries"
   ]
  },
  {
   "cell_type": "code",
   "execution_count": 1,
   "metadata": {},
   "outputs": [],
   "source": [
    "import numpy as np\n",
    "import pandas as pd\n",
    "import matplotlib.pyplot as plt\n",
    "import seaborn as sns\n",
    "import os\n",
    "import warnings"
   ]
  },
  {
   "cell_type": "markdown",
   "metadata": {},
   "source": [
    "# Options and Settings"
   ]
  },
  {
   "cell_type": "code",
   "execution_count": 2,
   "metadata": {},
   "outputs": [],
   "source": [
    "%matplotlib inline\n",
    "plt.style.use('ggplot')\n",
    "plt.rcParams['figure.autolayout'] = True\n",
    "plt.rcParams['figure.figsize'] = [12, 9]\n",
    "plt.rcParams['font.size'] = 12\n",
    "path = os.getcwd()                                         # get current working directory\n",
    "warnings.simplefilter('ignore')"
   ]
  },
  {
   "cell_type": "markdown",
   "metadata": {},
   "source": [
    "# Import Data"
   ]
  },
  {
   "cell_type": "code",
   "execution_count": 3,
   "metadata": {},
   "outputs": [],
   "source": [
    "filepath = os.path.join('datasets', 'Balance of Payments.csv')\n",
    "df = pd.read_csv(filepath)"
   ]
  },
  {
   "cell_type": "markdown",
   "metadata": {},
   "source": [
    "# Head and Tail"
   ]
  },
  {
   "cell_type": "code",
   "execution_count": 4,
   "metadata": {},
   "outputs": [
    {
     "data": {
      "text/html": [
       "<div>\n",
       "<style scoped>\n",
       "    .dataframe tbody tr th:only-of-type {\n",
       "        vertical-align: middle;\n",
       "    }\n",
       "\n",
       "    .dataframe tbody tr th {\n",
       "        vertical-align: top;\n",
       "    }\n",
       "\n",
       "    .dataframe thead th {\n",
       "        text-align: right;\n",
       "    }\n",
       "</style>\n",
       "<table border=\"1\" class=\"dataframe\">\n",
       "  <thead>\n",
       "    <tr style=\"text-align: right;\">\n",
       "      <th></th>\n",
       "      <th>Region/Country/Area</th>\n",
       "      <th>Unnamed: 1</th>\n",
       "      <th>Year</th>\n",
       "      <th>Series</th>\n",
       "      <th>Value</th>\n",
       "      <th>Footnotes</th>\n",
       "      <th>Source</th>\n",
       "    </tr>\n",
       "  </thead>\n",
       "  <tbody>\n",
       "    <tr>\n",
       "      <th>0</th>\n",
       "      <td>4</td>\n",
       "      <td>Afghanistan</td>\n",
       "      <td>1985</td>\n",
       "      <td>Balance of Payments: Current account (millions...</td>\n",
       "      <td>-243</td>\n",
       "      <td>NaN</td>\n",
       "      <td>International Monetary Fund (IMF), Washington,...</td>\n",
       "    </tr>\n",
       "    <tr>\n",
       "      <th>1</th>\n",
       "      <td>4</td>\n",
       "      <td>Afghanistan</td>\n",
       "      <td>2010</td>\n",
       "      <td>Balance of Payments: Current account (millions...</td>\n",
       "      <td>-578</td>\n",
       "      <td>NaN</td>\n",
       "      <td>International Monetary Fund (IMF), Washington,...</td>\n",
       "    </tr>\n",
       "    <tr>\n",
       "      <th>2</th>\n",
       "      <td>4</td>\n",
       "      <td>Afghanistan</td>\n",
       "      <td>2015</td>\n",
       "      <td>Balance of Payments: Current account (millions...</td>\n",
       "      <td>-4193</td>\n",
       "      <td>NaN</td>\n",
       "      <td>International Monetary Fund (IMF), Washington,...</td>\n",
       "    </tr>\n",
       "    <tr>\n",
       "      <th>3</th>\n",
       "      <td>4</td>\n",
       "      <td>Afghanistan</td>\n",
       "      <td>2018</td>\n",
       "      <td>Balance of Payments: Current account (millions...</td>\n",
       "      <td>-3897</td>\n",
       "      <td>NaN</td>\n",
       "      <td>International Monetary Fund (IMF), Washington,...</td>\n",
       "    </tr>\n",
       "    <tr>\n",
       "      <th>4</th>\n",
       "      <td>4</td>\n",
       "      <td>Afghanistan</td>\n",
       "      <td>2019</td>\n",
       "      <td>Balance of Payments: Current account (millions...</td>\n",
       "      <td>-3792</td>\n",
       "      <td>NaN</td>\n",
       "      <td>International Monetary Fund (IMF), Washington,...</td>\n",
       "    </tr>\n",
       "    <tr>\n",
       "      <th>...</th>\n",
       "      <td>...</td>\n",
       "      <td>...</td>\n",
       "      <td>...</td>\n",
       "      <td>...</td>\n",
       "      <td>...</td>\n",
       "      <td>...</td>\n",
       "      <td>...</td>\n",
       "    </tr>\n",
       "    <tr>\n",
       "      <th>3140</th>\n",
       "      <td>98</td>\n",
       "      <td>Euro Area</td>\n",
       "      <td>2010</td>\n",
       "      <td>Balance of Payments: Financial account (millio...</td>\n",
       "      <td>-24180</td>\n",
       "      <td>NaN</td>\n",
       "      <td>International Monetary Fund (IMF), Washington,...</td>\n",
       "    </tr>\n",
       "    <tr>\n",
       "      <th>3141</th>\n",
       "      <td>98</td>\n",
       "      <td>Euro Area</td>\n",
       "      <td>2015</td>\n",
       "      <td>Balance of Payments: Financial account (millio...</td>\n",
       "      <td>309129</td>\n",
       "      <td>NaN</td>\n",
       "      <td>International Monetary Fund (IMF), Washington,...</td>\n",
       "    </tr>\n",
       "    <tr>\n",
       "      <th>3142</th>\n",
       "      <td>98</td>\n",
       "      <td>Euro Area</td>\n",
       "      <td>2018</td>\n",
       "      <td>Balance of Payments: Financial account (millio...</td>\n",
       "      <td>362183</td>\n",
       "      <td>NaN</td>\n",
       "      <td>International Monetary Fund (IMF), Washington,...</td>\n",
       "    </tr>\n",
       "    <tr>\n",
       "      <th>3143</th>\n",
       "      <td>98</td>\n",
       "      <td>Euro Area</td>\n",
       "      <td>2019</td>\n",
       "      <td>Balance of Payments: Financial account (millio...</td>\n",
       "      <td>229370</td>\n",
       "      <td>NaN</td>\n",
       "      <td>International Monetary Fund (IMF), Washington,...</td>\n",
       "    </tr>\n",
       "    <tr>\n",
       "      <th>3144</th>\n",
       "      <td>98</td>\n",
       "      <td>Euro Area</td>\n",
       "      <td>2020</td>\n",
       "      <td>Balance of Payments: Financial account (millio...</td>\n",
       "      <td>295407</td>\n",
       "      <td>NaN</td>\n",
       "      <td>International Monetary Fund (IMF), Washington,...</td>\n",
       "    </tr>\n",
       "  </tbody>\n",
       "</table>\n",
       "<p>3145 rows × 7 columns</p>\n",
       "</div>"
      ],
      "text/plain": [
       "      Region/Country/Area   Unnamed: 1  Year  \\\n",
       "0                       4  Afghanistan  1985   \n",
       "1                       4  Afghanistan  2010   \n",
       "2                       4  Afghanistan  2015   \n",
       "3                       4  Afghanistan  2018   \n",
       "4                       4  Afghanistan  2019   \n",
       "...                   ...          ...   ...   \n",
       "3140                   98    Euro Area  2010   \n",
       "3141                   98    Euro Area  2015   \n",
       "3142                   98    Euro Area  2018   \n",
       "3143                   98    Euro Area  2019   \n",
       "3144                   98    Euro Area  2020   \n",
       "\n",
       "                                                 Series   Value Footnotes  \\\n",
       "0     Balance of Payments: Current account (millions...    -243       NaN   \n",
       "1     Balance of Payments: Current account (millions...    -578       NaN   \n",
       "2     Balance of Payments: Current account (millions...   -4193       NaN   \n",
       "3     Balance of Payments: Current account (millions...   -3897       NaN   \n",
       "4     Balance of Payments: Current account (millions...   -3792       NaN   \n",
       "...                                                 ...     ...       ...   \n",
       "3140  Balance of Payments: Financial account (millio...  -24180       NaN   \n",
       "3141  Balance of Payments: Financial account (millio...  309129       NaN   \n",
       "3142  Balance of Payments: Financial account (millio...  362183       NaN   \n",
       "3143  Balance of Payments: Financial account (millio...  229370       NaN   \n",
       "3144  Balance of Payments: Financial account (millio...  295407       NaN   \n",
       "\n",
       "                                                 Source  \n",
       "0     International Monetary Fund (IMF), Washington,...  \n",
       "1     International Monetary Fund (IMF), Washington,...  \n",
       "2     International Monetary Fund (IMF), Washington,...  \n",
       "3     International Monetary Fund (IMF), Washington,...  \n",
       "4     International Monetary Fund (IMF), Washington,...  \n",
       "...                                                 ...  \n",
       "3140  International Monetary Fund (IMF), Washington,...  \n",
       "3141  International Monetary Fund (IMF), Washington,...  \n",
       "3142  International Monetary Fund (IMF), Washington,...  \n",
       "3143  International Monetary Fund (IMF), Washington,...  \n",
       "3144  International Monetary Fund (IMF), Washington,...  \n",
       "\n",
       "[3145 rows x 7 columns]"
      ]
     },
     "execution_count": 4,
     "metadata": {},
     "output_type": "execute_result"
    }
   ],
   "source": [
    "df"
   ]
  },
  {
   "cell_type": "code",
   "execution_count": 5,
   "metadata": {},
   "outputs": [
    {
     "data": {
      "text/plain": [
       "(3145, 7)"
      ]
     },
     "execution_count": 5,
     "metadata": {},
     "output_type": "execute_result"
    }
   ],
   "source": [
    "df.shape"
   ]
  },
  {
   "cell_type": "code",
   "execution_count": 6,
   "metadata": {},
   "outputs": [
    {
     "name": "stdout",
     "output_type": "stream",
     "text": [
      "<class 'pandas.core.frame.DataFrame'>\n",
      "RangeIndex: 3145 entries, 0 to 3144\n",
      "Data columns (total 7 columns):\n",
      " #   Column               Non-Null Count  Dtype \n",
      "---  ------               --------------  ----- \n",
      " 0   Region/Country/Area  3145 non-null   int64 \n",
      " 1   Unnamed: 1           3145 non-null   object\n",
      " 2   Year                 3145 non-null   int64 \n",
      " 3   Series               3145 non-null   object\n",
      " 4   Value                3145 non-null   int64 \n",
      " 5   Footnotes            19 non-null     object\n",
      " 6   Source               3145 non-null   object\n",
      "dtypes: int64(3), object(4)\n",
      "memory usage: 172.1+ KB\n"
     ]
    }
   ],
   "source": [
    "df.info()"
   ]
  },
  {
   "cell_type": "code",
   "execution_count": 7,
   "metadata": {},
   "outputs": [
    {
     "data": {
      "text/html": [
       "<div>\n",
       "<style scoped>\n",
       "    .dataframe tbody tr th:only-of-type {\n",
       "        vertical-align: middle;\n",
       "    }\n",
       "\n",
       "    .dataframe tbody tr th {\n",
       "        vertical-align: top;\n",
       "    }\n",
       "\n",
       "    .dataframe thead th {\n",
       "        text-align: right;\n",
       "    }\n",
       "</style>\n",
       "<table border=\"1\" class=\"dataframe\">\n",
       "  <thead>\n",
       "    <tr style=\"text-align: right;\">\n",
       "      <th></th>\n",
       "      <th>Code</th>\n",
       "      <th>Country/Area</th>\n",
       "      <th>Year</th>\n",
       "      <th>Series</th>\n",
       "      <th>Value</th>\n",
       "      <th>Footnotes</th>\n",
       "      <th>Source</th>\n",
       "    </tr>\n",
       "  </thead>\n",
       "  <tbody>\n",
       "    <tr>\n",
       "      <th>0</th>\n",
       "      <td>4</td>\n",
       "      <td>Afghanistan</td>\n",
       "      <td>1985</td>\n",
       "      <td>Balance of Payments: Current account (millions...</td>\n",
       "      <td>-243</td>\n",
       "      <td>NaN</td>\n",
       "      <td>International Monetary Fund (IMF), Washington,...</td>\n",
       "    </tr>\n",
       "    <tr>\n",
       "      <th>1</th>\n",
       "      <td>4</td>\n",
       "      <td>Afghanistan</td>\n",
       "      <td>2010</td>\n",
       "      <td>Balance of Payments: Current account (millions...</td>\n",
       "      <td>-578</td>\n",
       "      <td>NaN</td>\n",
       "      <td>International Monetary Fund (IMF), Washington,...</td>\n",
       "    </tr>\n",
       "    <tr>\n",
       "      <th>2</th>\n",
       "      <td>4</td>\n",
       "      <td>Afghanistan</td>\n",
       "      <td>2015</td>\n",
       "      <td>Balance of Payments: Current account (millions...</td>\n",
       "      <td>-4193</td>\n",
       "      <td>NaN</td>\n",
       "      <td>International Monetary Fund (IMF), Washington,...</td>\n",
       "    </tr>\n",
       "    <tr>\n",
       "      <th>3</th>\n",
       "      <td>4</td>\n",
       "      <td>Afghanistan</td>\n",
       "      <td>2018</td>\n",
       "      <td>Balance of Payments: Current account (millions...</td>\n",
       "      <td>-3897</td>\n",
       "      <td>NaN</td>\n",
       "      <td>International Monetary Fund (IMF), Washington,...</td>\n",
       "    </tr>\n",
       "    <tr>\n",
       "      <th>4</th>\n",
       "      <td>4</td>\n",
       "      <td>Afghanistan</td>\n",
       "      <td>2019</td>\n",
       "      <td>Balance of Payments: Current account (millions...</td>\n",
       "      <td>-3792</td>\n",
       "      <td>NaN</td>\n",
       "      <td>International Monetary Fund (IMF), Washington,...</td>\n",
       "    </tr>\n",
       "  </tbody>\n",
       "</table>\n",
       "</div>"
      ],
      "text/plain": [
       "   Code Country/Area  Year                                             Series  \\\n",
       "0     4  Afghanistan  1985  Balance of Payments: Current account (millions...   \n",
       "1     4  Afghanistan  2010  Balance of Payments: Current account (millions...   \n",
       "2     4  Afghanistan  2015  Balance of Payments: Current account (millions...   \n",
       "3     4  Afghanistan  2018  Balance of Payments: Current account (millions...   \n",
       "4     4  Afghanistan  2019  Balance of Payments: Current account (millions...   \n",
       "\n",
       "   Value Footnotes                                             Source  \n",
       "0   -243       NaN  International Monetary Fund (IMF), Washington,...  \n",
       "1   -578       NaN  International Monetary Fund (IMF), Washington,...  \n",
       "2  -4193       NaN  International Monetary Fund (IMF), Washington,...  \n",
       "3  -3897       NaN  International Monetary Fund (IMF), Washington,...  \n",
       "4  -3792       NaN  International Monetary Fund (IMF), Washington,...  "
      ]
     },
     "execution_count": 7,
     "metadata": {},
     "output_type": "execute_result"
    }
   ],
   "source": [
    "df.rename(columns={'Region/Country/Area': 'Code', \n",
    "                   'Unnamed: 1': 'Country/Area',\n",
    "                   }, inplace=True)\n",
    "\n",
    "df.head()"
   ]
  },
  {
   "cell_type": "code",
   "execution_count": 8,
   "metadata": {},
   "outputs": [],
   "source": [
    "df['Code'] = df['Code'].astype('category')"
   ]
  },
  {
   "cell_type": "code",
   "execution_count": 9,
   "metadata": {},
   "outputs": [
    {
     "data": {
      "text/html": [
       "<div>\n",
       "<style scoped>\n",
       "    .dataframe tbody tr th:only-of-type {\n",
       "        vertical-align: middle;\n",
       "    }\n",
       "\n",
       "    .dataframe tbody tr th {\n",
       "        vertical-align: top;\n",
       "    }\n",
       "\n",
       "    .dataframe thead th {\n",
       "        text-align: right;\n",
       "    }\n",
       "</style>\n",
       "<table border=\"1\" class=\"dataframe\">\n",
       "  <thead>\n",
       "    <tr style=\"text-align: right;\">\n",
       "      <th></th>\n",
       "      <th>Code</th>\n",
       "      <th>Country/Area</th>\n",
       "      <th>Year</th>\n",
       "      <th>Series</th>\n",
       "      <th>Value</th>\n",
       "    </tr>\n",
       "  </thead>\n",
       "  <tbody>\n",
       "    <tr>\n",
       "      <th>0</th>\n",
       "      <td>4</td>\n",
       "      <td>Afghanistan</td>\n",
       "      <td>1985</td>\n",
       "      <td>Balance of Payments: Current account (millions...</td>\n",
       "      <td>-243</td>\n",
       "    </tr>\n",
       "    <tr>\n",
       "      <th>1</th>\n",
       "      <td>4</td>\n",
       "      <td>Afghanistan</td>\n",
       "      <td>2010</td>\n",
       "      <td>Balance of Payments: Current account (millions...</td>\n",
       "      <td>-578</td>\n",
       "    </tr>\n",
       "    <tr>\n",
       "      <th>2</th>\n",
       "      <td>4</td>\n",
       "      <td>Afghanistan</td>\n",
       "      <td>2015</td>\n",
       "      <td>Balance of Payments: Current account (millions...</td>\n",
       "      <td>-4193</td>\n",
       "    </tr>\n",
       "    <tr>\n",
       "      <th>3</th>\n",
       "      <td>4</td>\n",
       "      <td>Afghanistan</td>\n",
       "      <td>2018</td>\n",
       "      <td>Balance of Payments: Current account (millions...</td>\n",
       "      <td>-3897</td>\n",
       "    </tr>\n",
       "    <tr>\n",
       "      <th>4</th>\n",
       "      <td>4</td>\n",
       "      <td>Afghanistan</td>\n",
       "      <td>2019</td>\n",
       "      <td>Balance of Payments: Current account (millions...</td>\n",
       "      <td>-3792</td>\n",
       "    </tr>\n",
       "    <tr>\n",
       "      <th>...</th>\n",
       "      <td>...</td>\n",
       "      <td>...</td>\n",
       "      <td>...</td>\n",
       "      <td>...</td>\n",
       "      <td>...</td>\n",
       "    </tr>\n",
       "    <tr>\n",
       "      <th>3140</th>\n",
       "      <td>98</td>\n",
       "      <td>Euro Area</td>\n",
       "      <td>2010</td>\n",
       "      <td>Balance of Payments: Financial account (millio...</td>\n",
       "      <td>-24180</td>\n",
       "    </tr>\n",
       "    <tr>\n",
       "      <th>3141</th>\n",
       "      <td>98</td>\n",
       "      <td>Euro Area</td>\n",
       "      <td>2015</td>\n",
       "      <td>Balance of Payments: Financial account (millio...</td>\n",
       "      <td>309129</td>\n",
       "    </tr>\n",
       "    <tr>\n",
       "      <th>3142</th>\n",
       "      <td>98</td>\n",
       "      <td>Euro Area</td>\n",
       "      <td>2018</td>\n",
       "      <td>Balance of Payments: Financial account (millio...</td>\n",
       "      <td>362183</td>\n",
       "    </tr>\n",
       "    <tr>\n",
       "      <th>3143</th>\n",
       "      <td>98</td>\n",
       "      <td>Euro Area</td>\n",
       "      <td>2019</td>\n",
       "      <td>Balance of Payments: Financial account (millio...</td>\n",
       "      <td>229370</td>\n",
       "    </tr>\n",
       "    <tr>\n",
       "      <th>3144</th>\n",
       "      <td>98</td>\n",
       "      <td>Euro Area</td>\n",
       "      <td>2020</td>\n",
       "      <td>Balance of Payments: Financial account (millio...</td>\n",
       "      <td>295407</td>\n",
       "    </tr>\n",
       "  </tbody>\n",
       "</table>\n",
       "<p>3145 rows × 5 columns</p>\n",
       "</div>"
      ],
      "text/plain": [
       "     Code Country/Area  Year  \\\n",
       "0       4  Afghanistan  1985   \n",
       "1       4  Afghanistan  2010   \n",
       "2       4  Afghanistan  2015   \n",
       "3       4  Afghanistan  2018   \n",
       "4       4  Afghanistan  2019   \n",
       "...   ...          ...   ...   \n",
       "3140   98    Euro Area  2010   \n",
       "3141   98    Euro Area  2015   \n",
       "3142   98    Euro Area  2018   \n",
       "3143   98    Euro Area  2019   \n",
       "3144   98    Euro Area  2020   \n",
       "\n",
       "                                                 Series   Value  \n",
       "0     Balance of Payments: Current account (millions...    -243  \n",
       "1     Balance of Payments: Current account (millions...    -578  \n",
       "2     Balance of Payments: Current account (millions...   -4193  \n",
       "3     Balance of Payments: Current account (millions...   -3897  \n",
       "4     Balance of Payments: Current account (millions...   -3792  \n",
       "...                                                 ...     ...  \n",
       "3140  Balance of Payments: Financial account (millio...  -24180  \n",
       "3141  Balance of Payments: Financial account (millio...  309129  \n",
       "3142  Balance of Payments: Financial account (millio...  362183  \n",
       "3143  Balance of Payments: Financial account (millio...  229370  \n",
       "3144  Balance of Payments: Financial account (millio...  295407  \n",
       "\n",
       "[3145 rows x 5 columns]"
      ]
     },
     "execution_count": 9,
     "metadata": {},
     "output_type": "execute_result"
    }
   ],
   "source": [
    "df1 = df[['Code', 'Country/Area', 'Year', 'Series', 'Value']]\n",
    "df1"
   ]
  },
  {
   "cell_type": "code",
   "execution_count": 10,
   "metadata": {},
   "outputs": [
    {
     "data": {
      "text/plain": [
       "(3145, 5)"
      ]
     },
     "execution_count": 10,
     "metadata": {},
     "output_type": "execute_result"
    }
   ],
   "source": [
    "df1.shape"
   ]
  },
  {
   "cell_type": "code",
   "execution_count": 11,
   "metadata": {},
   "outputs": [
    {
     "name": "stdout",
     "output_type": "stream",
     "text": [
      "<class 'pandas.core.frame.DataFrame'>\n",
      "RangeIndex: 3145 entries, 0 to 3144\n",
      "Data columns (total 5 columns):\n",
      " #   Column        Non-Null Count  Dtype   \n",
      "---  ------        --------------  -----   \n",
      " 0   Code          3145 non-null   category\n",
      " 1   Country/Area  3145 non-null   object  \n",
      " 2   Year          3145 non-null   int64   \n",
      " 3   Series        3145 non-null   object  \n",
      " 4   Value         3145 non-null   int64   \n",
      "dtypes: category(1), int64(2), object(2)\n",
      "memory usage: 114.2+ KB\n"
     ]
    }
   ],
   "source": [
    "df1.info()"
   ]
  },
  {
   "cell_type": "code",
   "execution_count": 12,
   "metadata": {},
   "outputs": [
    {
     "data": {
      "text/html": [
       "<div>\n",
       "<style scoped>\n",
       "    .dataframe tbody tr th:only-of-type {\n",
       "        vertical-align: middle;\n",
       "    }\n",
       "\n",
       "    .dataframe tbody tr th {\n",
       "        vertical-align: top;\n",
       "    }\n",
       "\n",
       "    .dataframe thead th {\n",
       "        text-align: right;\n",
       "    }\n",
       "</style>\n",
       "<table border=\"1\" class=\"dataframe\">\n",
       "  <thead>\n",
       "    <tr style=\"text-align: right;\">\n",
       "      <th></th>\n",
       "      <th>Country/Area</th>\n",
       "      <th>Series</th>\n",
       "    </tr>\n",
       "  </thead>\n",
       "  <tbody>\n",
       "    <tr>\n",
       "      <th>count</th>\n",
       "      <td>3145</td>\n",
       "      <td>3145</td>\n",
       "    </tr>\n",
       "    <tr>\n",
       "      <th>unique</th>\n",
       "      <td>202</td>\n",
       "      <td>3</td>\n",
       "    </tr>\n",
       "    <tr>\n",
       "      <th>top</th>\n",
       "      <td>Portugal</td>\n",
       "      <td>Balance of Payments: Current account (millions...</td>\n",
       "    </tr>\n",
       "    <tr>\n",
       "      <th>freq</th>\n",
       "      <td>21</td>\n",
       "      <td>1118</td>\n",
       "    </tr>\n",
       "  </tbody>\n",
       "</table>\n",
       "</div>"
      ],
      "text/plain": [
       "       Country/Area                                             Series\n",
       "count          3145                                               3145\n",
       "unique          202                                                  3\n",
       "top        Portugal  Balance of Payments: Current account (millions...\n",
       "freq             21                                               1118"
      ]
     },
     "execution_count": 12,
     "metadata": {},
     "output_type": "execute_result"
    }
   ],
   "source": [
    "df1.describe(include='object')"
   ]
  },
  {
   "cell_type": "code",
   "execution_count": 13,
   "metadata": {},
   "outputs": [
    {
     "data": {
      "text/plain": [
       "Portugal                       21\n",
       "Turkey                         21\n",
       "South Africa                   21\n",
       "Romania                        21\n",
       "Spain                          21\n",
       "                               ..\n",
       "Micronesia (Fed. States of)     3\n",
       "Central African Republic        2\n",
       "Eritrea                         2\n",
       "Chad                            2\n",
       "Faroe Islands                   1\n",
       "Name: Country/Area, Length: 202, dtype: int64"
      ]
     },
     "execution_count": 13,
     "metadata": {},
     "output_type": "execute_result"
    }
   ],
   "source": [
    "df1['Country/Area'].value_counts()"
   ]
  },
  {
   "cell_type": "code",
   "execution_count": 14,
   "metadata": {},
   "outputs": [
    {
     "data": {
      "text/plain": [
       "Balance of Payments: Current account (millions of US dollars)      1118\n",
       "Balance of Payments: Financial account (millions of US dollars)    1117\n",
       "Balance of Payments: Capital account (millions of US dollars)       910\n",
       "Name: Series, dtype: int64"
      ]
     },
     "execution_count": 14,
     "metadata": {},
     "output_type": "execute_result"
    }
   ],
   "source": [
    "df1['Series'].value_counts()"
   ]
  },
  {
   "cell_type": "code",
   "execution_count": 15,
   "metadata": {},
   "outputs": [
    {
     "data": {
      "text/plain": [
       "276    21\n",
       "558    21\n",
       "586    21\n",
       "764    21\n",
       "690    21\n",
       "Name: Code, dtype: int64"
      ]
     },
     "execution_count": 15,
     "metadata": {},
     "output_type": "execute_result"
    }
   ],
   "source": [
    "df1['Code'].value_counts().head()"
   ]
  },
  {
   "cell_type": "code",
   "execution_count": 16,
   "metadata": {},
   "outputs": [
    {
     "data": {
      "text/plain": [
       "count      3145.000000\n",
       "mean        962.530684\n",
       "std       40904.461711\n",
       "min     -743572.000000\n",
       "25%        -827.000000\n",
       "50%         -13.000000\n",
       "75%         242.000000\n",
       "max      405414.000000\n",
       "Name: Value, dtype: float64"
      ]
     },
     "execution_count": 16,
     "metadata": {},
     "output_type": "execute_result"
    }
   ],
   "source": [
    "df1['Value'].describe()"
   ]
  },
  {
   "cell_type": "code",
   "execution_count": 17,
   "metadata": {},
   "outputs": [
    {
     "data": {
      "text/plain": [
       "<AxesSubplot:xlabel='Value', ylabel='Density'>"
      ]
     },
     "execution_count": 17,
     "metadata": {},
     "output_type": "execute_result"
    },
    {
     "data": {
      "image/png": "[encoded data removed]",
      "text/plain": [
       "<Figure size 864x648 with 1 Axes>"
      ]
     },
     "metadata": {},
     "output_type": "display_data"
    }
   ],
   "source": [
    "sns.kdeplot(data=df1, x='Value', hue='Series')"
   ]
  },
  {
   "cell_type": "markdown",
   "metadata": {},
   "source": [
    "# Data Cleaning"
   ]
  },
  {
   "cell_type": "code",
   "execution_count": 18,
   "metadata": {},
   "outputs": [
    {
     "data": {
      "text/plain": [
       "array(['Afghanistan', 'Albania', 'Algeria', 'Andorra', 'Angola',\n",
       "       'Anguilla', 'Antigua and Barbuda', 'Argentina', 'Armenia', 'Aruba',\n",
       "       'Australia', 'Austria', 'Azerbaijan', 'Bahamas', 'Bahrain',\n",
       "       'Bangladesh', 'Barbados', 'Belarus', 'Belgium', 'Belize', 'Benin',\n",
       "       'Bermuda', 'Bhutan', 'Bolivia (Plurin. State of)',\n",
       "       'Bosnia and Herzegovina', 'Botswana', 'Brazil',\n",
       "       'Brunei Darussalam', 'Bulgaria', 'Burkina Faso', 'Burundi',\n",
       "       'Cabo Verde', 'Cambodia', 'Cameroon', 'Canada', 'Cayman Islands',\n",
       "       'Central African Republic', 'Chad', 'Chile', 'China',\n",
       "       'China, Hong Kong SAR', 'China, Macao SAR', 'Colombia', 'Comoros',\n",
       "       'Congo', 'Costa Rica', 'Côte d’Ivoire', 'Croatia', 'Curaçao',\n",
       "       'Cyprus', 'Czechia', 'Dem. Rep. of the Congo', 'Denmark',\n",
       "       'Djibouti', 'Dominica', 'Dominican Republic', 'Ecuador', 'Egypt',\n",
       "       'El Salvador', 'Equatorial Guinea', 'Eritrea', 'Estonia',\n",
       "       'Eswatini', 'Ethiopia', 'Faroe Islands', 'Fiji', 'Finland',\n",
       "       'France', 'French Polynesia', 'Gabon', 'Gambia', 'Georgia',\n",
       "       'Germany', 'Ghana', 'Greece', 'Grenada', 'Guatemala', 'Guinea',\n",
       "       'Guinea-Bissau', 'Guyana', 'Haiti', 'Honduras', 'Hungary',\n",
       "       'Iceland', 'India', 'Indonesia', 'Iran (Islamic Republic of)',\n",
       "       'Iraq', 'Ireland', 'Israel', 'Italy', 'Jamaica', 'Japan', 'Jordan',\n",
       "       'Kazakhstan', 'Kenya', 'Kiribati', 'Kosovo', 'Kuwait',\n",
       "       'Kyrgyzstan', \"Lao People's Dem. Rep.\", 'Latvia', 'Lebanon',\n",
       "       'Lesotho', 'Liberia', 'Libya', 'Lithuania', 'Luxembourg',\n",
       "       'Madagascar', 'Malawi', 'Malaysia', 'Maldives', 'Mali', 'Malta',\n",
       "       'Marshall Islands', 'Mauritania', 'Mauritius', 'Mexico',\n",
       "       'Micronesia (Fed. States of)', 'Mongolia', 'Montenegro',\n",
       "       'Montserrat', 'Morocco', 'Mozambique', 'Myanmar', 'Namibia',\n",
       "       'Nauru', 'Nepal', 'Netherlands', 'Netherlands Antilles [former]',\n",
       "       'New Caledonia', 'New Zealand', 'Nicaragua', 'Niger', 'Nigeria',\n",
       "       'North Macedonia', 'Norway', 'Oman', 'Pakistan', 'Palau', 'Panama',\n",
       "       'Papua New Guinea', 'Paraguay', 'Peru', 'Philippines', 'Poland',\n",
       "       'Portugal', 'Qatar', 'Republic of Korea', 'Republic of Moldova',\n",
       "       'Romania', 'Russian Federation', 'Rwanda', 'Saint Kitts and Nevis',\n",
       "       'Saint Lucia', 'Saint Vincent & Grenadines', 'Samoa',\n",
       "       'Sao Tome and Principe', 'Saudi Arabia', 'Senegal', 'Serbia',\n",
       "       'Seychelles', 'Sierra Leone', 'Singapore',\n",
       "       'Sint Maarten (Dutch part)', 'Slovakia', 'Slovenia',\n",
       "       'Solomon Islands', 'South Africa', 'South Sudan', 'Spain',\n",
       "       'Sri Lanka', 'State of Palestine', 'Sudan', 'Suriname', 'Sweden',\n",
       "       'Switzerland', 'Syrian Arab Republic', 'Tajikistan', 'Thailand',\n",
       "       'Timor-Leste', 'Togo', 'Tonga', 'Trinidad and Tobago', 'Tunisia',\n",
       "       'Turkey', 'Turks and Caicos Islands', 'Tuvalu', 'Uganda',\n",
       "       'Ukraine', 'United Kingdom', 'United Rep. of Tanzania',\n",
       "       'United States of America', 'Uruguay', 'Uzbekistan', 'Vanuatu',\n",
       "       'Venezuela (Boliv. Rep. of)', 'Viet Nam', 'Yemen', 'Zambia',\n",
       "       'Zimbabwe', 'Euro Area'], dtype=object)"
      ]
     },
     "execution_count": 18,
     "metadata": {},
     "output_type": "execute_result"
    }
   ],
   "source": [
    "df1['Country/Area'].replace(\n",
    "    {'C�te d�Ivoire': \"Côte d’Ivoire\",\n",
    "    'Cura�ao': 'Curaçao'}, inplace=True)\n",
    "\n",
    "df1['Country/Area'].unique()"
   ]
  },
  {
   "cell_type": "markdown",
   "metadata": {},
   "source": [
    "# Missing Values Exploration"
   ]
  },
  {
   "cell_type": "code",
   "execution_count": 19,
   "metadata": {},
   "outputs": [
    {
     "data": {
      "text/plain": [
       "Code            0\n",
       "Country/Area    0\n",
       "Year            0\n",
       "Series          0\n",
       "Value           0\n",
       "dtype: int64"
      ]
     },
     "execution_count": 19,
     "metadata": {},
     "output_type": "execute_result"
    }
   ],
   "source": [
    "df1.isna().sum()"
   ]
  },
  {
   "cell_type": "markdown",
   "metadata": {},
   "source": [
    "# Grouping and Aggregation"
   ]
  },
  {
   "cell_type": "code",
   "execution_count": 20,
   "metadata": {},
   "outputs": [
    {
     "data": {
      "text/html": [
       "<div>\n",
       "<style scoped>\n",
       "    .dataframe tbody tr th:only-of-type {\n",
       "        vertical-align: middle;\n",
       "    }\n",
       "\n",
       "    .dataframe tbody tr th {\n",
       "        vertical-align: top;\n",
       "    }\n",
       "\n",
       "    .dataframe thead th {\n",
       "        text-align: right;\n",
       "    }\n",
       "</style>\n",
       "<table border=\"1\" class=\"dataframe\">\n",
       "  <thead>\n",
       "    <tr style=\"text-align: right;\">\n",
       "      <th></th>\n",
       "      <th>Code</th>\n",
       "      <th>Country/Area</th>\n",
       "      <th>Year</th>\n",
       "      <th>Series</th>\n",
       "      <th>Value</th>\n",
       "    </tr>\n",
       "  </thead>\n",
       "  <tbody>\n",
       "    <tr>\n",
       "      <th>0</th>\n",
       "      <td>4</td>\n",
       "      <td>Afghanistan</td>\n",
       "      <td>1985</td>\n",
       "      <td>Balance of Payments: Current account (millions...</td>\n",
       "      <td>-243</td>\n",
       "    </tr>\n",
       "    <tr>\n",
       "      <th>1</th>\n",
       "      <td>4</td>\n",
       "      <td>Afghanistan</td>\n",
       "      <td>2010</td>\n",
       "      <td>Balance of Payments: Current account (millions...</td>\n",
       "      <td>-578</td>\n",
       "    </tr>\n",
       "    <tr>\n",
       "      <th>2</th>\n",
       "      <td>4</td>\n",
       "      <td>Afghanistan</td>\n",
       "      <td>2015</td>\n",
       "      <td>Balance of Payments: Current account (millions...</td>\n",
       "      <td>-4193</td>\n",
       "    </tr>\n",
       "    <tr>\n",
       "      <th>3</th>\n",
       "      <td>4</td>\n",
       "      <td>Afghanistan</td>\n",
       "      <td>2018</td>\n",
       "      <td>Balance of Payments: Current account (millions...</td>\n",
       "      <td>-3897</td>\n",
       "    </tr>\n",
       "    <tr>\n",
       "      <th>4</th>\n",
       "      <td>4</td>\n",
       "      <td>Afghanistan</td>\n",
       "      <td>2019</td>\n",
       "      <td>Balance of Payments: Current account (millions...</td>\n",
       "      <td>-3792</td>\n",
       "    </tr>\n",
       "    <tr>\n",
       "      <th>...</th>\n",
       "      <td>...</td>\n",
       "      <td>...</td>\n",
       "      <td>...</td>\n",
       "      <td>...</td>\n",
       "      <td>...</td>\n",
       "    </tr>\n",
       "    <tr>\n",
       "      <th>3130</th>\n",
       "      <td>98</td>\n",
       "      <td>Euro Area</td>\n",
       "      <td>2010</td>\n",
       "      <td>Balance of Payments: Current account (millions...</td>\n",
       "      <td>-41234</td>\n",
       "    </tr>\n",
       "    <tr>\n",
       "      <th>3131</th>\n",
       "      <td>98</td>\n",
       "      <td>Euro Area</td>\n",
       "      <td>2015</td>\n",
       "      <td>Balance of Payments: Current account (millions...</td>\n",
       "      <td>322471</td>\n",
       "    </tr>\n",
       "    <tr>\n",
       "      <th>3132</th>\n",
       "      <td>98</td>\n",
       "      <td>Euro Area</td>\n",
       "      <td>2018</td>\n",
       "      <td>Balance of Payments: Current account (millions...</td>\n",
       "      <td>405414</td>\n",
       "    </tr>\n",
       "    <tr>\n",
       "      <th>3133</th>\n",
       "      <td>98</td>\n",
       "      <td>Euro Area</td>\n",
       "      <td>2019</td>\n",
       "      <td>Balance of Payments: Current account (millions...</td>\n",
       "      <td>312826</td>\n",
       "    </tr>\n",
       "    <tr>\n",
       "      <th>3134</th>\n",
       "      <td>98</td>\n",
       "      <td>Euro Area</td>\n",
       "      <td>2020</td>\n",
       "      <td>Balance of Payments: Current account (millions...</td>\n",
       "      <td>290828</td>\n",
       "    </tr>\n",
       "  </tbody>\n",
       "</table>\n",
       "<p>989 rows × 5 columns</p>\n",
       "</div>"
      ],
      "text/plain": [
       "     Code Country/Area  Year  \\\n",
       "0       4  Afghanistan  1985   \n",
       "1       4  Afghanistan  2010   \n",
       "2       4  Afghanistan  2015   \n",
       "3       4  Afghanistan  2018   \n",
       "4       4  Afghanistan  2019   \n",
       "...   ...          ...   ...   \n",
       "3130   98    Euro Area  2010   \n",
       "3131   98    Euro Area  2015   \n",
       "3132   98    Euro Area  2018   \n",
       "3133   98    Euro Area  2019   \n",
       "3134   98    Euro Area  2020   \n",
       "\n",
       "                                                 Series   Value  \n",
       "0     Balance of Payments: Current account (millions...    -243  \n",
       "1     Balance of Payments: Current account (millions...    -578  \n",
       "2     Balance of Payments: Current account (millions...   -4193  \n",
       "3     Balance of Payments: Current account (millions...   -3897  \n",
       "4     Balance of Payments: Current account (millions...   -3792  \n",
       "...                                                 ...     ...  \n",
       "3130  Balance of Payments: Current account (millions...  -41234  \n",
       "3131  Balance of Payments: Current account (millions...  322471  \n",
       "3132  Balance of Payments: Current account (millions...  405414  \n",
       "3133  Balance of Payments: Current account (millions...  312826  \n",
       "3134  Balance of Payments: Current account (millions...  290828  \n",
       "\n",
       "[989 rows x 5 columns]"
      ]
     },
     "execution_count": 20,
     "metadata": {},
     "output_type": "execute_result"
    }
   ],
   "source": [
    "country_or_area_grpd = df1.groupby('Country/Area')\n",
    "country_or_area_grpd.head()"
   ]
  },
  {
   "cell_type": "markdown",
   "metadata": {},
   "source": [
    "# Data Visualization"
   ]
  },
  {
   "cell_type": "code",
   "execution_count": 21,
   "metadata": {},
   "outputs": [],
   "source": [
    "# helper function to format y-axis\n",
    "from matplotlib.ticker import FuncFormatter\n",
    "\n",
    "def million(x, pos):\n",
    "    return '%1.1fM' % (x * 1e-3)\n",
    "\n",
    "format_mill = FuncFormatter(million)\n",
    "\n",
    "# barplot helper function\n",
    "def plot_bar(data, x, y, hue=None, title=None, xlabel=None, ylabel=None, ci=None, formatter=None):\n",
    "    # initiate matplotlib figure and axis\n",
    "    fig, ax = plt.subplots()\n",
    "    fig.autofmt_xdate()\n",
    "\n",
    "    # create barplot\n",
    "    sns.barplot(\n",
    "        data=data, \n",
    "        x=x, y=y, hue=hue,\n",
    "        ci=ci, ax=ax)\n",
    "\n",
    "    # label plot axis\n",
    "    ax.set(title=title, xlabel=xlabel, ylabel=ylabel)\n",
    "\n",
    "    # set y-axis formatter\n",
    "    ax.yaxis.set_major_formatter(formatter=formatter)\n",
    "\n",
    "    # despine axis\n",
    "    sns.despine(bottom=True, left=True)\n",
    "\n",
    "    return plot_bar"
   ]
  },
  {
   "cell_type": "code",
   "execution_count": 22,
   "metadata": {},
   "outputs": [
    {
     "data": {
      "text/plain": [
       "<function __main__.plot_bar(data, x, y, hue=None, title=None, xlabel=None, ylabel=None, ci=None, formatter=None)>"
      ]
     },
     "execution_count": 22,
     "metadata": {},
     "output_type": "execute_result"
    },
    {
     "data": {
      "image/png": "[encoded data removed]",
      "text/plain": [
       "<Figure size 864x648 with 1 Axes>"
      ]
     },
     "metadata": {},
     "output_type": "display_data"
    }
   ],
   "source": [
    "plot_bar(\n",
    "    data=country_or_area_grpd.get_group('Germany'),\n",
    "    x='Year', y='Value', hue='Series',\n",
    "    xlabel='Year', ylabel='Value', title='Germany',\n",
    "    formatter=format_mill\n",
    ")"
   ]
  },
  {
   "cell_type": "code",
   "execution_count": 23,
   "metadata": {},
   "outputs": [
    {
     "data": {
      "text/plain": [
       "<function __main__.plot_bar(data, x, y, hue=None, title=None, xlabel=None, ylabel=None, ci=None, formatter=None)>"
      ]
     },
     "execution_count": 23,
     "metadata": {},
     "output_type": "execute_result"
    },
    {
     "data": {
      "image/png": "[encoded data removed]",
      "text/plain": [
       "<Figure size 864x648 with 1 Axes>"
      ]
     },
     "metadata": {},
     "output_type": "display_data"
    }
   ],
   "source": [
    "plot_bar(\n",
    "    data=country_or_area_grpd.get_group('Ghana'),\n",
    "    x='Year', y='Value', hue='Series',\n",
    "    xlabel='Year', ylabel='Value', title='Ghana',\n",
    "    formatter=format_mill\n",
    ")"
   ]
  },
  {
   "cell_type": "code",
   "execution_count": 24,
   "metadata": {},
   "outputs": [
    {
     "data": {
      "text/plain": [
       "<function __main__.plot_bar(data, x, y, hue=None, title=None, xlabel=None, ylabel=None, ci=None, formatter=None)>"
      ]
     },
     "execution_count": 24,
     "metadata": {},
     "output_type": "execute_result"
    },
    {
     "data": {
      "image/png": "[encoded data removed]",
      "text/plain": [
       "<Figure size 864x648 with 1 Axes>"
      ]
     },
     "metadata": {},
     "output_type": "display_data"
    }
   ],
   "source": [
    "plot_bar(\n",
    "    data=country_or_area_grpd.get_group('China'),\n",
    "    x='Year', y='Value', hue='Series',\n",
    "    xlabel='Year', ylabel='Value', title='China',\n",
    "    formatter=format_mill\n",
    ")"
   ]
  },
  {
   "cell_type": "code",
   "execution_count": 25,
   "metadata": {},
   "outputs": [
    {
     "data": {
      "text/plain": [
       "<function __main__.plot_bar(data, x, y, hue=None, title=None, xlabel=None, ylabel=None, ci=None, formatter=None)>"
      ]
     },
     "execution_count": 25,
     "metadata": {},
     "output_type": "execute_result"
    },
    {
     "data": {
      "image/png": "[encoded data removed]",
      "text/plain": [
       "<Figure size 864x648 with 1 Axes>"
      ]
     },
     "metadata": {},
     "output_type": "display_data"
    }
   ],
   "source": [
    "plot_bar(\n",
    "    data=country_or_area_grpd.get_group('Nigeria'),\n",
    "    x='Year', y='Value', hue='Series',\n",
    "    xlabel='Year', ylabel='Value', title='Nigeria',\n",
    "    formatter=format_mill\n",
    ")"
   ]
  }
 ],
 "metadata": {
  "interpreter": {
   "hash": "3fe9daace87ea8cb12e037f7452ad9bcd52f59aa894a611255d1461de3a9065e"
  },
  "kernelspec": {
   "display_name": "Python 3.9.7 ('DS')",
   "language": "python",
   "name": "python3"
  },
  "language_info": {
   "codemirror_mode": {
    "name": "ipython",
    "version": 3
   },
   "file_extension": ".py",
   "mimetype": "text/x-python",
   "name": "python",
   "nbconvert_exporter": "python",
   "pygments_lexer": "ipython3",
   "version": "3.9.12"
  },
  "orig_nbformat": 4
 },
 "nbformat": 4,
 "nbformat_minor": 2
}
