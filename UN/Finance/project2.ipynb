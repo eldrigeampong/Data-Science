{
 "cells": [
  {
   "cell_type": "markdown",
   "metadata": {},
   "source": [
    "# Exchange rates"
   ]
  },
  {
   "cell_type": "markdown",
   "metadata": {},
   "source": [
    "# Import Libraries"
   ]
  },
  {
   "cell_type": "code",
   "execution_count": 1,
   "metadata": {},
   "outputs": [],
   "source": [
    "import numpy as np\n",
    "import pandas as pd\n",
    "import matplotlib.pyplot as plt\n",
    "import seaborn as sns\n",
    "import os\n",
    "import warnings"
   ]
  },
  {
   "cell_type": "markdown",
   "metadata": {},
   "source": [
    "# Options and Settings"
   ]
  },
  {
   "cell_type": "code",
   "execution_count": 2,
   "metadata": {},
   "outputs": [],
   "source": [
    "%matplotlib inline\n",
    "plt.style.use('ggplot')\n",
    "plt.rcParams['figure.autolayout'] = True\n",
    "plt.rcParams['figure.figsize'] = [12, 9]\n",
    "plt.rcParams['font.size'] = 12\n",
    "path = os.getcwd()                                         # get current working directory\n",
    "warnings.simplefilter('ignore')"
   ]
  },
  {
   "cell_type": "markdown",
   "metadata": {},
   "source": [
    "# Import Data"
   ]
  },
  {
   "cell_type": "code",
   "execution_count": 3,
   "metadata": {},
   "outputs": [],
   "source": [
    "filepath = os.path.join('datasets', 'Exchange Rates.csv')\n",
    "df = pd.read_csv(filepath)"
   ]
  },
  {
   "cell_type": "markdown",
   "metadata": {},
   "source": [
    "# Head and Tail"
   ]
  },
  {
   "cell_type": "code",
   "execution_count": 4,
   "metadata": {},
   "outputs": [
    {
     "data": {
      "text/html": [
       "<div>\n",
       "<style scoped>\n",
       "    .dataframe tbody tr th:only-of-type {\n",
       "        vertical-align: middle;\n",
       "    }\n",
       "\n",
       "    .dataframe tbody tr th {\n",
       "        vertical-align: top;\n",
       "    }\n",
       "\n",
       "    .dataframe thead th {\n",
       "        text-align: right;\n",
       "    }\n",
       "</style>\n",
       "<table border=\"1\" class=\"dataframe\">\n",
       "  <thead>\n",
       "    <tr style=\"text-align: right;\">\n",
       "      <th></th>\n",
       "      <th>Region/Country/Area</th>\n",
       "      <th>Unnamed: 1</th>\n",
       "      <th>Year</th>\n",
       "      <th>Series</th>\n",
       "      <th>National currency</th>\n",
       "      <th>National currency footnote</th>\n",
       "      <th>Value</th>\n",
       "      <th>Footnotes</th>\n",
       "      <th>Source</th>\n",
       "    </tr>\n",
       "  </thead>\n",
       "  <tbody>\n",
       "    <tr>\n",
       "      <th>0</th>\n",
       "      <td>4</td>\n",
       "      <td>Afghanistan</td>\n",
       "      <td>1995</td>\n",
       "      <td>Exchange rates: end of period (national curren...</td>\n",
       "      <td>Afghani (AFN)</td>\n",
       "      <td>NaN</td>\n",
       "      <td>47.5</td>\n",
       "      <td>NaN</td>\n",
       "      <td>International Monetary Fund (IMF), Washington,...</td>\n",
       "    </tr>\n",
       "    <tr>\n",
       "      <th>1</th>\n",
       "      <td>4</td>\n",
       "      <td>Afghanistan</td>\n",
       "      <td>2005</td>\n",
       "      <td>Exchange rates: end of period (national curren...</td>\n",
       "      <td>Afghani (AFN)</td>\n",
       "      <td>NaN</td>\n",
       "      <td>50.4</td>\n",
       "      <td>NaN</td>\n",
       "      <td>International Monetary Fund (IMF), Washington,...</td>\n",
       "    </tr>\n",
       "    <tr>\n",
       "      <th>2</th>\n",
       "      <td>4</td>\n",
       "      <td>Afghanistan</td>\n",
       "      <td>2010</td>\n",
       "      <td>Exchange rates: end of period (national curren...</td>\n",
       "      <td>Afghani (AFN)</td>\n",
       "      <td>NaN</td>\n",
       "      <td>45.3</td>\n",
       "      <td>NaN</td>\n",
       "      <td>International Monetary Fund (IMF), Washington,...</td>\n",
       "    </tr>\n",
       "    <tr>\n",
       "      <th>3</th>\n",
       "      <td>4</td>\n",
       "      <td>Afghanistan</td>\n",
       "      <td>2015</td>\n",
       "      <td>Exchange rates: end of period (national curren...</td>\n",
       "      <td>Afghani (AFN)</td>\n",
       "      <td>NaN</td>\n",
       "      <td>68.1</td>\n",
       "      <td>NaN</td>\n",
       "      <td>International Monetary Fund (IMF), Washington,...</td>\n",
       "    </tr>\n",
       "    <tr>\n",
       "      <th>4</th>\n",
       "      <td>4</td>\n",
       "      <td>Afghanistan</td>\n",
       "      <td>2017</td>\n",
       "      <td>Exchange rates: end of period (national curren...</td>\n",
       "      <td>Afghani (AFN)</td>\n",
       "      <td>NaN</td>\n",
       "      <td>69.5</td>\n",
       "      <td>NaN</td>\n",
       "      <td>International Monetary Fund (IMF), Washington,...</td>\n",
       "    </tr>\n",
       "    <tr>\n",
       "      <th>...</th>\n",
       "      <td>...</td>\n",
       "      <td>...</td>\n",
       "      <td>...</td>\n",
       "      <td>...</td>\n",
       "      <td>...</td>\n",
       "      <td>...</td>\n",
       "      <td>...</td>\n",
       "      <td>...</td>\n",
       "      <td>...</td>\n",
       "    </tr>\n",
       "    <tr>\n",
       "      <th>3514</th>\n",
       "      <td>98</td>\n",
       "      <td>Euro Area</td>\n",
       "      <td>2015</td>\n",
       "      <td>Exchange rates: period average (national curre...</td>\n",
       "      <td>NaN</td>\n",
       "      <td>NaN</td>\n",
       "      <td>0.9</td>\n",
       "      <td>NaN</td>\n",
       "      <td>International Monetary Fund (IMF), Washington,...</td>\n",
       "    </tr>\n",
       "    <tr>\n",
       "      <th>3515</th>\n",
       "      <td>98</td>\n",
       "      <td>Euro Area</td>\n",
       "      <td>2017</td>\n",
       "      <td>Exchange rates: period average (national curre...</td>\n",
       "      <td>NaN</td>\n",
       "      <td>NaN</td>\n",
       "      <td>0.9</td>\n",
       "      <td>NaN</td>\n",
       "      <td>International Monetary Fund (IMF), Washington,...</td>\n",
       "    </tr>\n",
       "    <tr>\n",
       "      <th>3516</th>\n",
       "      <td>98</td>\n",
       "      <td>Euro Area</td>\n",
       "      <td>2018</td>\n",
       "      <td>Exchange rates: period average (national curre...</td>\n",
       "      <td>NaN</td>\n",
       "      <td>NaN</td>\n",
       "      <td>0.9</td>\n",
       "      <td>NaN</td>\n",
       "      <td>International Monetary Fund (IMF), Washington,...</td>\n",
       "    </tr>\n",
       "    <tr>\n",
       "      <th>3517</th>\n",
       "      <td>98</td>\n",
       "      <td>Euro Area</td>\n",
       "      <td>2019</td>\n",
       "      <td>Exchange rates: period average (national curre...</td>\n",
       "      <td>NaN</td>\n",
       "      <td>NaN</td>\n",
       "      <td>0.9</td>\n",
       "      <td>NaN</td>\n",
       "      <td>International Monetary Fund (IMF), Washington,...</td>\n",
       "    </tr>\n",
       "    <tr>\n",
       "      <th>3518</th>\n",
       "      <td>98</td>\n",
       "      <td>Euro Area</td>\n",
       "      <td>2020</td>\n",
       "      <td>Exchange rates: period average (national curre...</td>\n",
       "      <td>NaN</td>\n",
       "      <td>NaN</td>\n",
       "      <td>0.9</td>\n",
       "      <td>NaN</td>\n",
       "      <td>International Monetary Fund (IMF), Washington,...</td>\n",
       "    </tr>\n",
       "  </tbody>\n",
       "</table>\n",
       "<p>3519 rows × 9 columns</p>\n",
       "</div>"
      ],
      "text/plain": [
       "      Region/Country/Area   Unnamed: 1  Year  \\\n",
       "0                       4  Afghanistan  1995   \n",
       "1                       4  Afghanistan  2005   \n",
       "2                       4  Afghanistan  2010   \n",
       "3                       4  Afghanistan  2015   \n",
       "4                       4  Afghanistan  2017   \n",
       "...                   ...          ...   ...   \n",
       "3514                   98    Euro Area  2015   \n",
       "3515                   98    Euro Area  2017   \n",
       "3516                   98    Euro Area  2018   \n",
       "3517                   98    Euro Area  2019   \n",
       "3518                   98    Euro Area  2020   \n",
       "\n",
       "                                                 Series National currency  \\\n",
       "0     Exchange rates: end of period (national curren...     Afghani (AFN)   \n",
       "1     Exchange rates: end of period (national curren...     Afghani (AFN)   \n",
       "2     Exchange rates: end of period (national curren...     Afghani (AFN)   \n",
       "3     Exchange rates: end of period (national curren...     Afghani (AFN)   \n",
       "4     Exchange rates: end of period (national curren...     Afghani (AFN)   \n",
       "...                                                 ...               ...   \n",
       "3514  Exchange rates: period average (national curre...               NaN   \n",
       "3515  Exchange rates: period average (national curre...               NaN   \n",
       "3516  Exchange rates: period average (national curre...               NaN   \n",
       "3517  Exchange rates: period average (national curre...               NaN   \n",
       "3518  Exchange rates: period average (national curre...               NaN   \n",
       "\n",
       "     National currency footnote  Value Footnotes  \\\n",
       "0                           NaN   47.5       NaN   \n",
       "1                           NaN   50.4       NaN   \n",
       "2                           NaN   45.3       NaN   \n",
       "3                           NaN   68.1       NaN   \n",
       "4                           NaN   69.5       NaN   \n",
       "...                         ...    ...       ...   \n",
       "3514                        NaN    0.9       NaN   \n",
       "3515                        NaN    0.9       NaN   \n",
       "3516                        NaN    0.9       NaN   \n",
       "3517                        NaN    0.9       NaN   \n",
       "3518                        NaN    0.9       NaN   \n",
       "\n",
       "                                                 Source  \n",
       "0     International Monetary Fund (IMF), Washington,...  \n",
       "1     International Monetary Fund (IMF), Washington,...  \n",
       "2     International Monetary Fund (IMF), Washington,...  \n",
       "3     International Monetary Fund (IMF), Washington,...  \n",
       "4     International Monetary Fund (IMF), Washington,...  \n",
       "...                                                 ...  \n",
       "3514  International Monetary Fund (IMF), Washington,...  \n",
       "3515  International Monetary Fund (IMF), Washington,...  \n",
       "3516  International Monetary Fund (IMF), Washington,...  \n",
       "3517  International Monetary Fund (IMF), Washington,...  \n",
       "3518  International Monetary Fund (IMF), Washington,...  \n",
       "\n",
       "[3519 rows x 9 columns]"
      ]
     },
     "execution_count": 4,
     "metadata": {},
     "output_type": "execute_result"
    }
   ],
   "source": [
    "df"
   ]
  },
  {
   "cell_type": "code",
   "execution_count": 5,
   "metadata": {},
   "outputs": [
    {
     "data": {
      "text/plain": [
       "(3519, 9)"
      ]
     },
     "execution_count": 5,
     "metadata": {},
     "output_type": "execute_result"
    }
   ],
   "source": [
    "df.shape"
   ]
  },
  {
   "cell_type": "code",
   "execution_count": 6,
   "metadata": {},
   "outputs": [
    {
     "name": "stdout",
     "output_type": "stream",
     "text": [
      "<class 'pandas.core.frame.DataFrame'>\n",
      "RangeIndex: 3519 entries, 0 to 3518\n",
      "Data columns (total 9 columns):\n",
      " #   Column                      Non-Null Count  Dtype  \n",
      "---  ------                      --------------  -----  \n",
      " 0   Region/Country/Area         3519 non-null   int64  \n",
      " 1   Unnamed: 1                  3519 non-null   object \n",
      " 2   Year                        3519 non-null   int64  \n",
      " 3   Series                      3519 non-null   object \n",
      " 4   National currency           1779 non-null   object \n",
      " 5   National currency footnote  255 non-null    object \n",
      " 6   Value                       3519 non-null   float64\n",
      " 7   Footnotes                   67 non-null     object \n",
      " 8   Source                      3519 non-null   object \n",
      "dtypes: float64(1), int64(2), object(6)\n",
      "memory usage: 247.6+ KB\n"
     ]
    }
   ],
   "source": [
    "df.info()"
   ]
  },
  {
   "cell_type": "code",
   "execution_count": 7,
   "metadata": {},
   "outputs": [
    {
     "data": {
      "text/html": [
       "<div>\n",
       "<style scoped>\n",
       "    .dataframe tbody tr th:only-of-type {\n",
       "        vertical-align: middle;\n",
       "    }\n",
       "\n",
       "    .dataframe tbody tr th {\n",
       "        vertical-align: top;\n",
       "    }\n",
       "\n",
       "    .dataframe thead th {\n",
       "        text-align: right;\n",
       "    }\n",
       "</style>\n",
       "<table border=\"1\" class=\"dataframe\">\n",
       "  <thead>\n",
       "    <tr style=\"text-align: right;\">\n",
       "      <th></th>\n",
       "      <th>Code</th>\n",
       "      <th>Country/Area</th>\n",
       "      <th>Year</th>\n",
       "      <th>Series</th>\n",
       "      <th>National currency</th>\n",
       "      <th>National currency footnote</th>\n",
       "      <th>Value</th>\n",
       "      <th>Footnotes</th>\n",
       "      <th>Source</th>\n",
       "    </tr>\n",
       "  </thead>\n",
       "  <tbody>\n",
       "    <tr>\n",
       "      <th>0</th>\n",
       "      <td>4</td>\n",
       "      <td>Afghanistan</td>\n",
       "      <td>1995</td>\n",
       "      <td>Exchange rates: end of period (national curren...</td>\n",
       "      <td>Afghani (AFN)</td>\n",
       "      <td>NaN</td>\n",
       "      <td>47.5</td>\n",
       "      <td>NaN</td>\n",
       "      <td>International Monetary Fund (IMF), Washington,...</td>\n",
       "    </tr>\n",
       "    <tr>\n",
       "      <th>1</th>\n",
       "      <td>4</td>\n",
       "      <td>Afghanistan</td>\n",
       "      <td>2005</td>\n",
       "      <td>Exchange rates: end of period (national curren...</td>\n",
       "      <td>Afghani (AFN)</td>\n",
       "      <td>NaN</td>\n",
       "      <td>50.4</td>\n",
       "      <td>NaN</td>\n",
       "      <td>International Monetary Fund (IMF), Washington,...</td>\n",
       "    </tr>\n",
       "    <tr>\n",
       "      <th>2</th>\n",
       "      <td>4</td>\n",
       "      <td>Afghanistan</td>\n",
       "      <td>2010</td>\n",
       "      <td>Exchange rates: end of period (national curren...</td>\n",
       "      <td>Afghani (AFN)</td>\n",
       "      <td>NaN</td>\n",
       "      <td>45.3</td>\n",
       "      <td>NaN</td>\n",
       "      <td>International Monetary Fund (IMF), Washington,...</td>\n",
       "    </tr>\n",
       "    <tr>\n",
       "      <th>3</th>\n",
       "      <td>4</td>\n",
       "      <td>Afghanistan</td>\n",
       "      <td>2015</td>\n",
       "      <td>Exchange rates: end of period (national curren...</td>\n",
       "      <td>Afghani (AFN)</td>\n",
       "      <td>NaN</td>\n",
       "      <td>68.1</td>\n",
       "      <td>NaN</td>\n",
       "      <td>International Monetary Fund (IMF), Washington,...</td>\n",
       "    </tr>\n",
       "    <tr>\n",
       "      <th>4</th>\n",
       "      <td>4</td>\n",
       "      <td>Afghanistan</td>\n",
       "      <td>2017</td>\n",
       "      <td>Exchange rates: end of period (national curren...</td>\n",
       "      <td>Afghani (AFN)</td>\n",
       "      <td>NaN</td>\n",
       "      <td>69.5</td>\n",
       "      <td>NaN</td>\n",
       "      <td>International Monetary Fund (IMF), Washington,...</td>\n",
       "    </tr>\n",
       "  </tbody>\n",
       "</table>\n",
       "</div>"
      ],
      "text/plain": [
       "   Code Country/Area  Year                                             Series  \\\n",
       "0     4  Afghanistan  1995  Exchange rates: end of period (national curren...   \n",
       "1     4  Afghanistan  2005  Exchange rates: end of period (national curren...   \n",
       "2     4  Afghanistan  2010  Exchange rates: end of period (national curren...   \n",
       "3     4  Afghanistan  2015  Exchange rates: end of period (national curren...   \n",
       "4     4  Afghanistan  2017  Exchange rates: end of period (national curren...   \n",
       "\n",
       "  National currency National currency footnote  Value Footnotes  \\\n",
       "0     Afghani (AFN)                        NaN   47.5       NaN   \n",
       "1     Afghani (AFN)                        NaN   50.4       NaN   \n",
       "2     Afghani (AFN)                        NaN   45.3       NaN   \n",
       "3     Afghani (AFN)                        NaN   68.1       NaN   \n",
       "4     Afghani (AFN)                        NaN   69.5       NaN   \n",
       "\n",
       "                                              Source  \n",
       "0  International Monetary Fund (IMF), Washington,...  \n",
       "1  International Monetary Fund (IMF), Washington,...  \n",
       "2  International Monetary Fund (IMF), Washington,...  \n",
       "3  International Monetary Fund (IMF), Washington,...  \n",
       "4  International Monetary Fund (IMF), Washington,...  "
      ]
     },
     "execution_count": 7,
     "metadata": {},
     "output_type": "execute_result"
    }
   ],
   "source": [
    "df.rename(columns={'Region/Country/Area': 'Code', \n",
    "                   'Unnamed: 1': 'Country/Area',\n",
    "                   }, inplace=True)\n",
    "\n",
    "df.head()"
   ]
  },
  {
   "cell_type": "code",
   "execution_count": 8,
   "metadata": {},
   "outputs": [
    {
     "data": {
      "text/html": [
       "<div>\n",
       "<style scoped>\n",
       "    .dataframe tbody tr th:only-of-type {\n",
       "        vertical-align: middle;\n",
       "    }\n",
       "\n",
       "    .dataframe tbody tr th {\n",
       "        vertical-align: top;\n",
       "    }\n",
       "\n",
       "    .dataframe thead th {\n",
       "        text-align: right;\n",
       "    }\n",
       "</style>\n",
       "<table border=\"1\" class=\"dataframe\">\n",
       "  <thead>\n",
       "    <tr style=\"text-align: right;\">\n",
       "      <th></th>\n",
       "      <th>Code</th>\n",
       "      <th>Country/Area</th>\n",
       "      <th>Year</th>\n",
       "      <th>Series</th>\n",
       "      <th>NationalCurrency</th>\n",
       "      <th>Value</th>\n",
       "    </tr>\n",
       "  </thead>\n",
       "  <tbody>\n",
       "    <tr>\n",
       "      <th>0</th>\n",
       "      <td>4</td>\n",
       "      <td>Afghanistan</td>\n",
       "      <td>1995</td>\n",
       "      <td>Exchange rates: end of period (national curren...</td>\n",
       "      <td>Afghani (AFN)</td>\n",
       "      <td>47.5</td>\n",
       "    </tr>\n",
       "    <tr>\n",
       "      <th>1</th>\n",
       "      <td>4</td>\n",
       "      <td>Afghanistan</td>\n",
       "      <td>2005</td>\n",
       "      <td>Exchange rates: end of period (national curren...</td>\n",
       "      <td>Afghani (AFN)</td>\n",
       "      <td>50.4</td>\n",
       "    </tr>\n",
       "    <tr>\n",
       "      <th>2</th>\n",
       "      <td>4</td>\n",
       "      <td>Afghanistan</td>\n",
       "      <td>2010</td>\n",
       "      <td>Exchange rates: end of period (national curren...</td>\n",
       "      <td>Afghani (AFN)</td>\n",
       "      <td>45.3</td>\n",
       "    </tr>\n",
       "    <tr>\n",
       "      <th>3</th>\n",
       "      <td>4</td>\n",
       "      <td>Afghanistan</td>\n",
       "      <td>2015</td>\n",
       "      <td>Exchange rates: end of period (national curren...</td>\n",
       "      <td>Afghani (AFN)</td>\n",
       "      <td>68.1</td>\n",
       "    </tr>\n",
       "    <tr>\n",
       "      <th>4</th>\n",
       "      <td>4</td>\n",
       "      <td>Afghanistan</td>\n",
       "      <td>2017</td>\n",
       "      <td>Exchange rates: end of period (national curren...</td>\n",
       "      <td>Afghani (AFN)</td>\n",
       "      <td>69.5</td>\n",
       "    </tr>\n",
       "    <tr>\n",
       "      <th>...</th>\n",
       "      <td>...</td>\n",
       "      <td>...</td>\n",
       "      <td>...</td>\n",
       "      <td>...</td>\n",
       "      <td>...</td>\n",
       "      <td>...</td>\n",
       "    </tr>\n",
       "    <tr>\n",
       "      <th>3514</th>\n",
       "      <td>98</td>\n",
       "      <td>Euro Area</td>\n",
       "      <td>2015</td>\n",
       "      <td>Exchange rates: period average (national curre...</td>\n",
       "      <td>NaN</td>\n",
       "      <td>0.9</td>\n",
       "    </tr>\n",
       "    <tr>\n",
       "      <th>3515</th>\n",
       "      <td>98</td>\n",
       "      <td>Euro Area</td>\n",
       "      <td>2017</td>\n",
       "      <td>Exchange rates: period average (national curre...</td>\n",
       "      <td>NaN</td>\n",
       "      <td>0.9</td>\n",
       "    </tr>\n",
       "    <tr>\n",
       "      <th>3516</th>\n",
       "      <td>98</td>\n",
       "      <td>Euro Area</td>\n",
       "      <td>2018</td>\n",
       "      <td>Exchange rates: period average (national curre...</td>\n",
       "      <td>NaN</td>\n",
       "      <td>0.9</td>\n",
       "    </tr>\n",
       "    <tr>\n",
       "      <th>3517</th>\n",
       "      <td>98</td>\n",
       "      <td>Euro Area</td>\n",
       "      <td>2019</td>\n",
       "      <td>Exchange rates: period average (national curre...</td>\n",
       "      <td>NaN</td>\n",
       "      <td>0.9</td>\n",
       "    </tr>\n",
       "    <tr>\n",
       "      <th>3518</th>\n",
       "      <td>98</td>\n",
       "      <td>Euro Area</td>\n",
       "      <td>2020</td>\n",
       "      <td>Exchange rates: period average (national curre...</td>\n",
       "      <td>NaN</td>\n",
       "      <td>0.9</td>\n",
       "    </tr>\n",
       "  </tbody>\n",
       "</table>\n",
       "<p>3519 rows × 6 columns</p>\n",
       "</div>"
      ],
      "text/plain": [
       "      Code Country/Area  Year  \\\n",
       "0        4  Afghanistan  1995   \n",
       "1        4  Afghanistan  2005   \n",
       "2        4  Afghanistan  2010   \n",
       "3        4  Afghanistan  2015   \n",
       "4        4  Afghanistan  2017   \n",
       "...    ...          ...   ...   \n",
       "3514    98    Euro Area  2015   \n",
       "3515    98    Euro Area  2017   \n",
       "3516    98    Euro Area  2018   \n",
       "3517    98    Euro Area  2019   \n",
       "3518    98    Euro Area  2020   \n",
       "\n",
       "                                                 Series NationalCurrency  \\\n",
       "0     Exchange rates: end of period (national curren...    Afghani (AFN)   \n",
       "1     Exchange rates: end of period (national curren...    Afghani (AFN)   \n",
       "2     Exchange rates: end of period (national curren...    Afghani (AFN)   \n",
       "3     Exchange rates: end of period (national curren...    Afghani (AFN)   \n",
       "4     Exchange rates: end of period (national curren...    Afghani (AFN)   \n",
       "...                                                 ...              ...   \n",
       "3514  Exchange rates: period average (national curre...              NaN   \n",
       "3515  Exchange rates: period average (national curre...              NaN   \n",
       "3516  Exchange rates: period average (national curre...              NaN   \n",
       "3517  Exchange rates: period average (national curre...              NaN   \n",
       "3518  Exchange rates: period average (national curre...              NaN   \n",
       "\n",
       "      Value  \n",
       "0      47.5  \n",
       "1      50.4  \n",
       "2      45.3  \n",
       "3      68.1  \n",
       "4      69.5  \n",
       "...     ...  \n",
       "3514    0.9  \n",
       "3515    0.9  \n",
       "3516    0.9  \n",
       "3517    0.9  \n",
       "3518    0.9  \n",
       "\n",
       "[3519 rows x 6 columns]"
      ]
     },
     "execution_count": 8,
     "metadata": {},
     "output_type": "execute_result"
    }
   ],
   "source": [
    "df1 = df[['Code', 'Country/Area', 'Year', 'Series', 'National currency', 'Value']]\n",
    "df1.rename(columns={'National currency': 'NationalCurrency'}, inplace=True)             # rename column\n",
    "df1"
   ]
  },
  {
   "cell_type": "code",
   "execution_count": 9,
   "metadata": {},
   "outputs": [
    {
     "data": {
      "text/plain": [
       "(3519, 6)"
      ]
     },
     "execution_count": 9,
     "metadata": {},
     "output_type": "execute_result"
    }
   ],
   "source": [
    "df1.shape"
   ]
  },
  {
   "cell_type": "code",
   "execution_count": 10,
   "metadata": {},
   "outputs": [],
   "source": [
    "# change code, country and area to category\n",
    "df1[['Code', 'NationalCurrency']] = df1[['Code', 'NationalCurrency']].astype('category')  "
   ]
  },
  {
   "cell_type": "code",
   "execution_count": 11,
   "metadata": {},
   "outputs": [
    {
     "name": "stdout",
     "output_type": "stream",
     "text": [
      "<class 'pandas.core.frame.DataFrame'>\n",
      "RangeIndex: 3519 entries, 0 to 3518\n",
      "Data columns (total 6 columns):\n",
      " #   Column            Non-Null Count  Dtype   \n",
      "---  ------            --------------  -----   \n",
      " 0   Code              3519 non-null   category\n",
      " 1   Country/Area      3519 non-null   object  \n",
      " 2   Year              3519 non-null   int64   \n",
      " 3   Series            3519 non-null   object  \n",
      " 4   NationalCurrency  1779 non-null   category\n",
      " 5   Value             3519 non-null   float64 \n",
      "dtypes: category(2), float64(1), int64(1), object(2)\n",
      "memory usage: 139.0+ KB\n"
     ]
    }
   ],
   "source": [
    "df1.info()"
   ]
  },
  {
   "cell_type": "code",
   "execution_count": 12,
   "metadata": {},
   "outputs": [
    {
     "data": {
      "text/html": [
       "<div>\n",
       "<style scoped>\n",
       "    .dataframe tbody tr th:only-of-type {\n",
       "        vertical-align: middle;\n",
       "    }\n",
       "\n",
       "    .dataframe tbody tr th {\n",
       "        vertical-align: top;\n",
       "    }\n",
       "\n",
       "    .dataframe thead th {\n",
       "        text-align: right;\n",
       "    }\n",
       "</style>\n",
       "<table border=\"1\" class=\"dataframe\">\n",
       "  <thead>\n",
       "    <tr style=\"text-align: right;\">\n",
       "      <th></th>\n",
       "      <th>Code</th>\n",
       "      <th>NationalCurrency</th>\n",
       "    </tr>\n",
       "  </thead>\n",
       "  <tbody>\n",
       "    <tr>\n",
       "      <th>count</th>\n",
       "      <td>3519</td>\n",
       "      <td>1779</td>\n",
       "    </tr>\n",
       "    <tr>\n",
       "      <th>unique</th>\n",
       "      <td>231</td>\n",
       "      <td>153</td>\n",
       "    </tr>\n",
       "    <tr>\n",
       "      <th>top</th>\n",
       "      <td>4</td>\n",
       "      <td>Euro (EUR)</td>\n",
       "    </tr>\n",
       "    <tr>\n",
       "      <th>freq</th>\n",
       "      <td>16</td>\n",
       "      <td>253</td>\n",
       "    </tr>\n",
       "  </tbody>\n",
       "</table>\n",
       "</div>"
      ],
      "text/plain": [
       "        Code NationalCurrency\n",
       "count   3519             1779\n",
       "unique   231              153\n",
       "top        4       Euro (EUR)\n",
       "freq      16              253"
      ]
     },
     "execution_count": 12,
     "metadata": {},
     "output_type": "execute_result"
    }
   ],
   "source": [
    "df1.describe(include='category')"
   ]
  },
  {
   "cell_type": "code",
   "execution_count": 13,
   "metadata": {},
   "outputs": [
    {
     "data": {
      "text/plain": [
       "4      16\n",
       "498    16\n",
       "504    16\n",
       "508    16\n",
       "512    16\n",
       "       ..\n",
       "760     6\n",
       "795     6\n",
       "860     5\n",
       "706     5\n",
       "408     5\n",
       "Name: Code, Length: 231, dtype: int64"
      ]
     },
     "execution_count": 13,
     "metadata": {},
     "output_type": "execute_result"
    }
   ],
   "source": [
    "df1['Code'].value_counts()"
   ]
  },
  {
   "cell_type": "code",
   "execution_count": 14,
   "metadata": {},
   "outputs": [
    {
     "data": {
      "text/plain": [
       "Afghanistan                 16\n",
       "Mauritius                   16\n",
       "Kiribati                    16\n",
       "Switzerland                 16\n",
       "Kuwait                      16\n",
       "                            ..\n",
       "Turkmenistan                 6\n",
       "Syrian Arab Republic         6\n",
       "Somalia                      5\n",
       "Dem. People's Rep. Korea     5\n",
       "Uzbekistan                   5\n",
       "Name: Country/Area, Length: 231, dtype: int64"
      ]
     },
     "execution_count": 14,
     "metadata": {},
     "output_type": "execute_result"
    }
   ],
   "source": [
    "df1['Country/Area'].value_counts()"
   ]
  },
  {
   "cell_type": "code",
   "execution_count": 15,
   "metadata": {},
   "outputs": [
    {
     "data": {
      "text/plain": [
       "0       Afghani (AFN)\n",
       "1       Afghani (AFN)\n",
       "2       Afghani (AFN)\n",
       "3       Afghani (AFN)\n",
       "4       Afghani (AFN)\n",
       "            ...      \n",
       "3514              NaN\n",
       "3515              NaN\n",
       "3516              NaN\n",
       "3517              NaN\n",
       "3518              NaN\n",
       "Name: NationalCurrency, Length: 3519, dtype: category\n",
       "Categories (153, object): ['Afghani (AFN)', 'Algerian Dinar (DZD)', 'Argentine Peso (ARS)', 'Armenian Dram (AMD)', ..., 'Yuan Renminbi (CNY)', 'Zambian Kwacha (ZMW)', 'Zimbabwe Dollar (ZWL)', 'Zloty (PLN)']"
      ]
     },
     "execution_count": 15,
     "metadata": {},
     "output_type": "execute_result"
    }
   ],
   "source": [
    "df1['NationalCurrency']"
   ]
  },
  {
   "cell_type": "code",
   "execution_count": 16,
   "metadata": {},
   "outputs": [
    {
     "data": {
      "text/plain": [
       "2015    454\n",
       "2017    454\n",
       "2019    453\n",
       "2018    452\n",
       "2020    448\n",
       "2010    447\n",
       "2005    445\n",
       "1995    366\n",
       "Name: Year, dtype: int64"
      ]
     },
     "execution_count": 16,
     "metadata": {},
     "output_type": "execute_result"
    }
   ],
   "source": [
    "df1['Year'].value_counts()"
   ]
  },
  {
   "cell_type": "code",
   "execution_count": 17,
   "metadata": {},
   "outputs": [
    {
     "data": {
      "text/plain": [
       "Exchange rates: end of period (national currency per US dollar)     1779\n",
       "Exchange rates: period average (national currency per US dollar)    1740\n",
       "Name: Series, dtype: int64"
      ]
     },
     "execution_count": 17,
     "metadata": {},
     "output_type": "execute_result"
    }
   ],
   "source": [
    "df1['Series'].value_counts()"
   ]
  },
  {
   "cell_type": "code",
   "execution_count": 18,
   "metadata": {},
   "outputs": [
    {
     "data": {
      "text/plain": [
       "count     3519.000000\n",
       "mean       598.816738\n",
       "std       2923.580549\n",
       "min          0.000000\n",
       "25%          1.100000\n",
       "50%          6.300000\n",
       "75%        101.150000\n",
       "max      42000.000000\n",
       "Name: Value, dtype: float64"
      ]
     },
     "execution_count": 18,
     "metadata": {},
     "output_type": "execute_result"
    }
   ],
   "source": [
    "df1['Value'].describe()"
   ]
  },
  {
   "cell_type": "markdown",
   "metadata": {},
   "source": [
    "# Data Cleaning"
   ]
  },
  {
   "cell_type": "code",
   "execution_count": 19,
   "metadata": {},
   "outputs": [
    {
     "data": {
      "text/plain": [
       "array(['Afghanistan', 'Faroe Islands', 'Albania', 'Algeria', 'Andorra',\n",
       "       'Angola', 'Anguilla', 'Antigua and Barbuda', 'Argentina',\n",
       "       'Armenia', 'Aruba', 'Australia', 'Austria', 'Azerbaijan',\n",
       "       'Bahamas', 'Bahrain', 'Bangladesh', 'Barbados', 'Belarus',\n",
       "       'Belgium', 'Belize', 'Benin', 'Bermuda', 'Bhutan',\n",
       "       'Bolivia (Plurin. State of)', 'Bosnia and Herzegovina', 'Botswana',\n",
       "       'Bouvet Island', 'Brazil', 'Brunei Darussalam', 'Bulgaria',\n",
       "       'Burkina Faso', 'Burundi', 'Cabo Verde', 'Cambodia', 'Cameroon',\n",
       "       'Canada', 'Cayman Islands', 'Central African Republic', 'Chad',\n",
       "       'Channel Islands', 'Chile', 'China', 'China, Hong Kong SAR',\n",
       "       'China, Macao SAR', 'Christmas Island', 'Cocos (Keeling) Islands',\n",
       "       'Colombia', 'Comoros', 'Congo', 'Cook Islands', 'Costa Rica',\n",
       "       'Côte d’Ivoire', 'Croatia', 'Cuba', 'Curaçao', 'Cyprus', 'Czechia',\n",
       "       \"Dem. People's Rep. Korea\", 'Dem. Rep. of the Congo', 'Denmark',\n",
       "       'Djibouti', 'Dominica', 'Dominican Republic', 'Ecuador', 'Egypt',\n",
       "       'El Salvador', 'Equatorial Guinea', 'Eritrea', 'Estonia',\n",
       "       'Eswatini', 'Ethiopia', 'Fiji', 'Finland', 'France',\n",
       "       'French Guiana', 'French Polynesia', 'French Southern Territories',\n",
       "       'Gabon', 'Gambia', 'Georgia', 'Germany', 'Ghana', 'Gibraltar',\n",
       "       'Greece', 'Greenland', 'Grenada', 'Guadeloupe', 'Guatemala',\n",
       "       'Guernsey', 'Guinea', 'Guinea-Bissau', 'Guyana', 'Haiti',\n",
       "       'Heard Is. and McDonald Is.', 'Holy See', 'Honduras', 'Hungary',\n",
       "       'Iceland', 'India', 'Indonesia', 'Iran (Islamic Republic of)',\n",
       "       'Iraq', 'Ireland', 'Isle of Man', 'Israel', 'Italy', 'Jamaica',\n",
       "       'Japan', 'Jersey', 'Jordan', 'Kazakhstan', 'Kenya', 'Kiribati',\n",
       "       'Kosovo', 'Kuwait', 'Kyrgyzstan', \"Lao People's Dem. Rep.\",\n",
       "       'Latvia', 'Lebanon', 'Lesotho', 'Liberia', 'Libya',\n",
       "       'Liechtenstein', 'Lithuania', 'Luxembourg', 'Madagascar', 'Malawi',\n",
       "       'Malaysia', 'Maldives', 'Mali', 'Malta', 'Martinique',\n",
       "       'Mauritania', 'Mauritius', 'Mayotte', 'Mexico', 'Monaco',\n",
       "       'Mongolia', 'Montenegro', 'Montserrat', 'Morocco', 'Mozambique',\n",
       "       'Myanmar', 'Namibia', 'Nauru', 'Nepal', 'Netherlands',\n",
       "       'New Caledonia', 'New Zealand', 'Nicaragua', 'Niger', 'Nigeria',\n",
       "       'Niue', 'Norfolk Island', 'North Macedonia', 'Norway', 'Oman',\n",
       "       'Pakistan', 'Panama', 'Papua New Guinea', 'Paraguay', 'Peru',\n",
       "       'Philippines', 'Pitcairn', 'Poland', 'Portugal', 'Qatar',\n",
       "       'Republic of Korea', 'Republic of Moldova', 'Réunion', 'Romania',\n",
       "       'Russian Federation', 'Rwanda', 'Saint Barthélemy',\n",
       "       'Saint Kitts and Nevis', 'Saint Lucia',\n",
       "       'Saint Martin (French part)', 'Saint Pierre and Miquelon',\n",
       "       'Saint Vincent & Grenadines', 'Samoa', 'San Marino',\n",
       "       'Sao Tome and Principe', 'Sark', 'Saudi Arabia', 'Senegal',\n",
       "       'Serbia', 'Seychelles', 'Sierra Leone', 'Singapore',\n",
       "       'Sint Maarten (Dutch part)', 'Slovakia', 'Slovenia',\n",
       "       'Solomon Islands', 'Somalia', 'South Africa',\n",
       "       'South Georgia & Sandwich Is.', 'South Sudan', 'Spain',\n",
       "       'Sri Lanka', 'Sudan', 'Suriname', 'Sweden', 'Switzerland',\n",
       "       'Syrian Arab Republic', 'Tajikistan', 'Thailand', 'Togo',\n",
       "       'Tokelau', 'Tonga', 'Trinidad and Tobago', 'Tunisia', 'Turkey',\n",
       "       'Turkmenistan', 'Tuvalu', 'Uganda', 'Ukraine',\n",
       "       'United Arab Emirates', 'United Kingdom',\n",
       "       'United Rep. of Tanzania', 'Uruguay', 'Uzbekistan', 'Vanuatu',\n",
       "       'Venezuela (Boliv. Rep. of)', 'Viet Nam',\n",
       "       'Wallis and Futuna Islands', 'Western Sahara', 'Zambia',\n",
       "       'Zimbabwe', 'Euro Area'], dtype=object)"
      ]
     },
     "execution_count": 19,
     "metadata": {},
     "output_type": "execute_result"
    }
   ],
   "source": [
    "df1['Country/Area'].replace(\n",
    "    {'�land Islands': 'Faroe Islands',\n",
    "    'C�te d�Ivoire': 'Côte d’Ivoire',\n",
    "    'Cura�ao': 'Curaçao',\n",
    "    'R�union': 'Réunion',\n",
    "    'Saint Barth�lemy': 'Saint Barthélemy'}, inplace=True\n",
    ")\n",
    "\n",
    "df1['Country/Area'].unique()"
   ]
  },
  {
   "cell_type": "markdown",
   "metadata": {},
   "source": [
    "# Missing Values Exploration"
   ]
  },
  {
   "cell_type": "code",
   "execution_count": 20,
   "metadata": {},
   "outputs": [
    {
     "data": {
      "text/plain": [
       "Code                   0\n",
       "Country/Area           0\n",
       "Year                   0\n",
       "Series                 0\n",
       "NationalCurrency    1740\n",
       "Value                  0\n",
       "dtype: int64"
      ]
     },
     "execution_count": 20,
     "metadata": {},
     "output_type": "execute_result"
    }
   ],
   "source": [
    "df1.isna().sum()"
   ]
  },
  {
   "cell_type": "code",
   "execution_count": 21,
   "metadata": {},
   "outputs": [
    {
     "data": {
      "text/html": [
       "<div>\n",
       "<style scoped>\n",
       "    .dataframe tbody tr th:only-of-type {\n",
       "        vertical-align: middle;\n",
       "    }\n",
       "\n",
       "    .dataframe tbody tr th {\n",
       "        vertical-align: top;\n",
       "    }\n",
       "\n",
       "    .dataframe thead th {\n",
       "        text-align: right;\n",
       "    }\n",
       "</style>\n",
       "<table border=\"1\" class=\"dataframe\">\n",
       "  <thead>\n",
       "    <tr style=\"text-align: right;\">\n",
       "      <th></th>\n",
       "      <th>Code</th>\n",
       "      <th>Country/Area</th>\n",
       "      <th>Year</th>\n",
       "      <th>Series</th>\n",
       "      <th>NationalCurrency</th>\n",
       "      <th>Value</th>\n",
       "    </tr>\n",
       "  </thead>\n",
       "  <tbody>\n",
       "    <tr>\n",
       "      <th>8</th>\n",
       "      <td>4</td>\n",
       "      <td>Afghanistan</td>\n",
       "      <td>1995</td>\n",
       "      <td>Exchange rates: period average (national curre...</td>\n",
       "      <td>NaN</td>\n",
       "      <td>36.6</td>\n",
       "    </tr>\n",
       "    <tr>\n",
       "      <th>9</th>\n",
       "      <td>4</td>\n",
       "      <td>Afghanistan</td>\n",
       "      <td>2005</td>\n",
       "      <td>Exchange rates: period average (national curre...</td>\n",
       "      <td>NaN</td>\n",
       "      <td>49.5</td>\n",
       "    </tr>\n",
       "    <tr>\n",
       "      <th>10</th>\n",
       "      <td>4</td>\n",
       "      <td>Afghanistan</td>\n",
       "      <td>2010</td>\n",
       "      <td>Exchange rates: period average (national curre...</td>\n",
       "      <td>NaN</td>\n",
       "      <td>46.5</td>\n",
       "    </tr>\n",
       "    <tr>\n",
       "      <th>11</th>\n",
       "      <td>4</td>\n",
       "      <td>Afghanistan</td>\n",
       "      <td>2015</td>\n",
       "      <td>Exchange rates: period average (national curre...</td>\n",
       "      <td>NaN</td>\n",
       "      <td>61.1</td>\n",
       "    </tr>\n",
       "    <tr>\n",
       "      <th>12</th>\n",
       "      <td>4</td>\n",
       "      <td>Afghanistan</td>\n",
       "      <td>2017</td>\n",
       "      <td>Exchange rates: period average (national curre...</td>\n",
       "      <td>NaN</td>\n",
       "      <td>68.0</td>\n",
       "    </tr>\n",
       "    <tr>\n",
       "      <th>...</th>\n",
       "      <td>...</td>\n",
       "      <td>...</td>\n",
       "      <td>...</td>\n",
       "      <td>...</td>\n",
       "      <td>...</td>\n",
       "      <td>...</td>\n",
       "    </tr>\n",
       "    <tr>\n",
       "      <th>3514</th>\n",
       "      <td>98</td>\n",
       "      <td>Euro Area</td>\n",
       "      <td>2015</td>\n",
       "      <td>Exchange rates: period average (national curre...</td>\n",
       "      <td>NaN</td>\n",
       "      <td>0.9</td>\n",
       "    </tr>\n",
       "    <tr>\n",
       "      <th>3515</th>\n",
       "      <td>98</td>\n",
       "      <td>Euro Area</td>\n",
       "      <td>2017</td>\n",
       "      <td>Exchange rates: period average (national curre...</td>\n",
       "      <td>NaN</td>\n",
       "      <td>0.9</td>\n",
       "    </tr>\n",
       "    <tr>\n",
       "      <th>3516</th>\n",
       "      <td>98</td>\n",
       "      <td>Euro Area</td>\n",
       "      <td>2018</td>\n",
       "      <td>Exchange rates: period average (national curre...</td>\n",
       "      <td>NaN</td>\n",
       "      <td>0.9</td>\n",
       "    </tr>\n",
       "    <tr>\n",
       "      <th>3517</th>\n",
       "      <td>98</td>\n",
       "      <td>Euro Area</td>\n",
       "      <td>2019</td>\n",
       "      <td>Exchange rates: period average (national curre...</td>\n",
       "      <td>NaN</td>\n",
       "      <td>0.9</td>\n",
       "    </tr>\n",
       "    <tr>\n",
       "      <th>3518</th>\n",
       "      <td>98</td>\n",
       "      <td>Euro Area</td>\n",
       "      <td>2020</td>\n",
       "      <td>Exchange rates: period average (national curre...</td>\n",
       "      <td>NaN</td>\n",
       "      <td>0.9</td>\n",
       "    </tr>\n",
       "  </tbody>\n",
       "</table>\n",
       "<p>1740 rows × 6 columns</p>\n",
       "</div>"
      ],
      "text/plain": [
       "     Code Country/Area  Year  \\\n",
       "8       4  Afghanistan  1995   \n",
       "9       4  Afghanistan  2005   \n",
       "10      4  Afghanistan  2010   \n",
       "11      4  Afghanistan  2015   \n",
       "12      4  Afghanistan  2017   \n",
       "...   ...          ...   ...   \n",
       "3514   98    Euro Area  2015   \n",
       "3515   98    Euro Area  2017   \n",
       "3516   98    Euro Area  2018   \n",
       "3517   98    Euro Area  2019   \n",
       "3518   98    Euro Area  2020   \n",
       "\n",
       "                                                 Series NationalCurrency  \\\n",
       "8     Exchange rates: period average (national curre...              NaN   \n",
       "9     Exchange rates: period average (national curre...              NaN   \n",
       "10    Exchange rates: period average (national curre...              NaN   \n",
       "11    Exchange rates: period average (national curre...              NaN   \n",
       "12    Exchange rates: period average (national curre...              NaN   \n",
       "...                                                 ...              ...   \n",
       "3514  Exchange rates: period average (national curre...              NaN   \n",
       "3515  Exchange rates: period average (national curre...              NaN   \n",
       "3516  Exchange rates: period average (national curre...              NaN   \n",
       "3517  Exchange rates: period average (national curre...              NaN   \n",
       "3518  Exchange rates: period average (national curre...              NaN   \n",
       "\n",
       "      Value  \n",
       "8      36.6  \n",
       "9      49.5  \n",
       "10     46.5  \n",
       "11     61.1  \n",
       "12     68.0  \n",
       "...     ...  \n",
       "3514    0.9  \n",
       "3515    0.9  \n",
       "3516    0.9  \n",
       "3517    0.9  \n",
       "3518    0.9  \n",
       "\n",
       "[1740 rows x 6 columns]"
      ]
     },
     "execution_count": 21,
     "metadata": {},
     "output_type": "execute_result"
    }
   ],
   "source": [
    "df1[df1['NationalCurrency'].isna()]"
   ]
  },
  {
   "cell_type": "markdown",
   "metadata": {},
   "source": [
    "# Grouping and Aggregation"
   ]
  },
  {
   "cell_type": "code",
   "execution_count": 22,
   "metadata": {},
   "outputs": [
    {
     "data": {
      "text/html": [
       "<div>\n",
       "<style scoped>\n",
       "    .dataframe tbody tr th:only-of-type {\n",
       "        vertical-align: middle;\n",
       "    }\n",
       "\n",
       "    .dataframe tbody tr th {\n",
       "        vertical-align: top;\n",
       "    }\n",
       "\n",
       "    .dataframe thead th {\n",
       "        text-align: right;\n",
       "    }\n",
       "</style>\n",
       "<table border=\"1\" class=\"dataframe\">\n",
       "  <thead>\n",
       "    <tr style=\"text-align: right;\">\n",
       "      <th></th>\n",
       "      <th>Code</th>\n",
       "      <th>Country/Area</th>\n",
       "      <th>Year</th>\n",
       "      <th>Series</th>\n",
       "      <th>NationalCurrency</th>\n",
       "      <th>Value</th>\n",
       "    </tr>\n",
       "  </thead>\n",
       "  <tbody>\n",
       "    <tr>\n",
       "      <th>0</th>\n",
       "      <td>4</td>\n",
       "      <td>Afghanistan</td>\n",
       "      <td>1995</td>\n",
       "      <td>Exchange rates: end of period (national curren...</td>\n",
       "      <td>Afghani (AFN)</td>\n",
       "      <td>47.5</td>\n",
       "    </tr>\n",
       "    <tr>\n",
       "      <th>1</th>\n",
       "      <td>4</td>\n",
       "      <td>Afghanistan</td>\n",
       "      <td>2005</td>\n",
       "      <td>Exchange rates: end of period (national curren...</td>\n",
       "      <td>Afghani (AFN)</td>\n",
       "      <td>50.4</td>\n",
       "    </tr>\n",
       "    <tr>\n",
       "      <th>2</th>\n",
       "      <td>4</td>\n",
       "      <td>Afghanistan</td>\n",
       "      <td>2010</td>\n",
       "      <td>Exchange rates: end of period (national curren...</td>\n",
       "      <td>Afghani (AFN)</td>\n",
       "      <td>45.3</td>\n",
       "    </tr>\n",
       "    <tr>\n",
       "      <th>3</th>\n",
       "      <td>4</td>\n",
       "      <td>Afghanistan</td>\n",
       "      <td>2015</td>\n",
       "      <td>Exchange rates: end of period (national curren...</td>\n",
       "      <td>Afghani (AFN)</td>\n",
       "      <td>68.1</td>\n",
       "    </tr>\n",
       "    <tr>\n",
       "      <th>4</th>\n",
       "      <td>4</td>\n",
       "      <td>Afghanistan</td>\n",
       "      <td>2017</td>\n",
       "      <td>Exchange rates: end of period (national curren...</td>\n",
       "      <td>Afghani (AFN)</td>\n",
       "      <td>69.5</td>\n",
       "    </tr>\n",
       "    <tr>\n",
       "      <th>...</th>\n",
       "      <td>...</td>\n",
       "      <td>...</td>\n",
       "      <td>...</td>\n",
       "      <td>...</td>\n",
       "      <td>...</td>\n",
       "      <td>...</td>\n",
       "    </tr>\n",
       "    <tr>\n",
       "      <th>3505</th>\n",
       "      <td>98</td>\n",
       "      <td>Euro Area</td>\n",
       "      <td>2005</td>\n",
       "      <td>Exchange rates: end of period (national curren...</td>\n",
       "      <td>Euro (EUR)</td>\n",
       "      <td>0.9</td>\n",
       "    </tr>\n",
       "    <tr>\n",
       "      <th>3506</th>\n",
       "      <td>98</td>\n",
       "      <td>Euro Area</td>\n",
       "      <td>2010</td>\n",
       "      <td>Exchange rates: end of period (national curren...</td>\n",
       "      <td>Euro (EUR)</td>\n",
       "      <td>0.8</td>\n",
       "    </tr>\n",
       "    <tr>\n",
       "      <th>3507</th>\n",
       "      <td>98</td>\n",
       "      <td>Euro Area</td>\n",
       "      <td>2015</td>\n",
       "      <td>Exchange rates: end of period (national curren...</td>\n",
       "      <td>Euro (EUR)</td>\n",
       "      <td>0.9</td>\n",
       "    </tr>\n",
       "    <tr>\n",
       "      <th>3508</th>\n",
       "      <td>98</td>\n",
       "      <td>Euro Area</td>\n",
       "      <td>2017</td>\n",
       "      <td>Exchange rates: end of period (national curren...</td>\n",
       "      <td>Euro (EUR)</td>\n",
       "      <td>0.8</td>\n",
       "    </tr>\n",
       "    <tr>\n",
       "      <th>3509</th>\n",
       "      <td>98</td>\n",
       "      <td>Euro Area</td>\n",
       "      <td>2018</td>\n",
       "      <td>Exchange rates: end of period (national curren...</td>\n",
       "      <td>Euro (EUR)</td>\n",
       "      <td>0.9</td>\n",
       "    </tr>\n",
       "  </tbody>\n",
       "</table>\n",
       "<p>1150 rows × 6 columns</p>\n",
       "</div>"
      ],
      "text/plain": [
       "     Code Country/Area  Year  \\\n",
       "0       4  Afghanistan  1995   \n",
       "1       4  Afghanistan  2005   \n",
       "2       4  Afghanistan  2010   \n",
       "3       4  Afghanistan  2015   \n",
       "4       4  Afghanistan  2017   \n",
       "...   ...          ...   ...   \n",
       "3505   98    Euro Area  2005   \n",
       "3506   98    Euro Area  2010   \n",
       "3507   98    Euro Area  2015   \n",
       "3508   98    Euro Area  2017   \n",
       "3509   98    Euro Area  2018   \n",
       "\n",
       "                                                 Series NationalCurrency  \\\n",
       "0     Exchange rates: end of period (national curren...    Afghani (AFN)   \n",
       "1     Exchange rates: end of period (national curren...    Afghani (AFN)   \n",
       "2     Exchange rates: end of period (national curren...    Afghani (AFN)   \n",
       "3     Exchange rates: end of period (national curren...    Afghani (AFN)   \n",
       "4     Exchange rates: end of period (national curren...    Afghani (AFN)   \n",
       "...                                                 ...              ...   \n",
       "3505  Exchange rates: end of period (national curren...       Euro (EUR)   \n",
       "3506  Exchange rates: end of period (national curren...       Euro (EUR)   \n",
       "3507  Exchange rates: end of period (national curren...       Euro (EUR)   \n",
       "3508  Exchange rates: end of period (national curren...       Euro (EUR)   \n",
       "3509  Exchange rates: end of period (national curren...       Euro (EUR)   \n",
       "\n",
       "      Value  \n",
       "0      47.5  \n",
       "1      50.4  \n",
       "2      45.3  \n",
       "3      68.1  \n",
       "4      69.5  \n",
       "...     ...  \n",
       "3505    0.9  \n",
       "3506    0.8  \n",
       "3507    0.9  \n",
       "3508    0.8  \n",
       "3509    0.9  \n",
       "\n",
       "[1150 rows x 6 columns]"
      ]
     },
     "execution_count": 22,
     "metadata": {},
     "output_type": "execute_result"
    }
   ],
   "source": [
    "df_grpd = df1.groupby('Country/Area')\n",
    "df_grpd.head()"
   ]
  },
  {
   "cell_type": "markdown",
   "metadata": {},
   "source": [
    "# Data Visualization"
   ]
  },
  {
   "cell_type": "code",
   "execution_count": 23,
   "metadata": {},
   "outputs": [],
   "source": [
    "# barplot helper function\n",
    "def plot_bar(data, x, y, hue=None, ci=None, title=None, xlabel=None, ylabel=None):\n",
    "    # create figure and axis\n",
    "    fig, ax = plt.subplots()\n",
    "    fig.autofmt_xdate()\n",
    "\n",
    "    # plot bar chart\n",
    "    sns.barplot(\n",
    "        data=data,\n",
    "        x=x, y=y, \n",
    "        hue=hue, ci=ci,\n",
    "        ax=ax\n",
    "    )\n",
    "\n",
    "    # plot axis label\n",
    "    ax.set(title=title, xlabel=xlabel, ylabel=ylabel)\n",
    "\n",
    "    return plot_bar"
   ]
  },
  {
   "cell_type": "code",
   "execution_count": 24,
   "metadata": {},
   "outputs": [
    {
     "data": {
      "text/plain": [
       "<function __main__.plot_bar(data, x, y, hue=None, ci=None, title=None, xlabel=None, ylabel=None)>"
      ]
     },
     "execution_count": 24,
     "metadata": {},
     "output_type": "execute_result"
    },
    {
     "data": {
      "image/png": "[encoded data removed]",
      "text/plain": [
       "<Figure size 864x648 with 1 Axes>"
      ]
     },
     "metadata": {},
     "output_type": "display_data"
    }
   ],
   "source": [
    "plot_bar(\n",
    "    data=df_grpd.get_group('Germany'),\n",
    "    x='Year', y='Value', hue='Series',\n",
    "    xlabel='Year', ylabel='Value', title='Germany'\n",
    ")"
   ]
  },
  {
   "cell_type": "code",
   "execution_count": 25,
   "metadata": {},
   "outputs": [
    {
     "data": {
      "text/plain": [
       "<function __main__.plot_bar(data, x, y, hue=None, ci=None, title=None, xlabel=None, ylabel=None)>"
      ]
     },
     "execution_count": 25,
     "metadata": {},
     "output_type": "execute_result"
    },
    {
     "data": {
      "image/png": "[encoded data removed]",
      "text/plain": [
       "<Figure size 864x648 with 1 Axes>"
      ]
     },
     "metadata": {},
     "output_type": "display_data"
    }
   ],
   "source": [
    "plot_bar(\n",
    "    data=df_grpd.get_group('France'),\n",
    "    x='Year', y='Value', hue='Series',\n",
    "    xlabel='Year', ylabel='Value', title='France'\n",
    ")"
   ]
  },
  {
   "cell_type": "code",
   "execution_count": 26,
   "metadata": {},
   "outputs": [
    {
     "data": {
      "text/plain": [
       "<function __main__.plot_bar(data, x, y, hue=None, ci=None, title=None, xlabel=None, ylabel=None)>"
      ]
     },
     "execution_count": 26,
     "metadata": {},
     "output_type": "execute_result"
    },
    {
     "data": {
      "image/png": "[encoded data removed]",
      "text/plain": [
       "<Figure size 864x648 with 1 Axes>"
      ]
     },
     "metadata": {},
     "output_type": "display_data"
    }
   ],
   "source": [
    "plot_bar(\n",
    "    data=df_grpd.get_group('Ghana'),\n",
    "    x='Year', y='Value', hue='Series',\n",
    "    xlabel='Year', ylabel='Value', title='Ghana'\n",
    ")"
   ]
  },
  {
   "cell_type": "code",
   "execution_count": 27,
   "metadata": {},
   "outputs": [
    {
     "data": {
      "text/plain": [
       "<function __main__.plot_bar(data, x, y, hue=None, ci=None, title=None, xlabel=None, ylabel=None)>"
      ]
     },
     "execution_count": 27,
     "metadata": {},
     "output_type": "execute_result"
    },
    {
     "data": {
      "image/png": "[encoded data removed]",
      "text/plain": [
       "<Figure size 864x648 with 1 Axes>"
      ]
     },
     "metadata": {},
     "output_type": "display_data"
    }
   ],
   "source": [
    "plot_bar(\n",
    "    data=df_grpd.get_group('Nigeria'),\n",
    "    x='Year', y='Value', hue='Series',\n",
    "    xlabel='Year', ylabel='Value', title='Nigeria'\n",
    ")"
   ]
  },
  {
   "cell_type": "code",
   "execution_count": 28,
   "metadata": {},
   "outputs": [
    {
     "data": {
      "text/plain": [
       "<function __main__.plot_bar(data, x, y, hue=None, ci=None, title=None, xlabel=None, ylabel=None)>"
      ]
     },
     "execution_count": 28,
     "metadata": {},
     "output_type": "execute_result"
    },
    {
     "data": {
      "image/png": "[encoded data removed]",
      "text/plain": [
       "<Figure size 864x648 with 1 Axes>"
      ]
     },
     "metadata": {},
     "output_type": "display_data"
    }
   ],
   "source": [
    "plot_bar(\n",
    "    data=df_grpd.get_group('China'),\n",
    "    x='Year', y='Value', hue='Series',\n",
    "    xlabel='Year', ylabel='Value', title='China'\n",
    ")"
   ]
  },
  {
   "cell_type": "code",
   "execution_count": 29,
   "metadata": {},
   "outputs": [
    {
     "data": {
      "text/plain": [
       "<function __main__.plot_bar(data, x, y, hue=None, ci=None, title=None, xlabel=None, ylabel=None)>"
      ]
     },
     "execution_count": 29,
     "metadata": {},
     "output_type": "execute_result"
    },
    {
     "data": {
      "image/png": "[encoded data removed]",
      "text/plain": [
       "<Figure size 864x648 with 1 Axes>"
      ]
     },
     "metadata": {},
     "output_type": "display_data"
    }
   ],
   "source": [
    "plot_bar(\n",
    "    data=df_grpd.get_group('Japan'),\n",
    "    x='Year', y='Value', hue='Series',\n",
    "    xlabel='Year', ylabel='Value', title='Japan'\n",
    ")"
   ]
  }
 ],
 "metadata": {
  "interpreter": {
   "hash": "3fe9daace87ea8cb12e037f7452ad9bcd52f59aa894a611255d1461de3a9065e"
  },
  "kernelspec": {
   "display_name": "Python 3.9.7 ('DS')",
   "language": "python",
   "name": "python3"
  },
  "language_info": {
   "codemirror_mode": {
    "name": "ipython",
    "version": 3
   },
   "file_extension": ".py",
   "mimetype": "text/x-python",
   "name": "python",
   "nbconvert_exporter": "python",
   "pygments_lexer": "ipython3",
   "version": "3.9.7"
  },
  "orig_nbformat": 4
 },
 "nbformat": 4,
 "nbformat_minor": 2
}
