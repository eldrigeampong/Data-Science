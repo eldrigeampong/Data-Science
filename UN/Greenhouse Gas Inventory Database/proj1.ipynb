{
 "cells": [
  {
   "cell_type": "markdown",
   "metadata": {},
   "source": [
    "# Greenhouse Gas (GHGs) Emissions, including Indirect CO2, without LULUCF, in kilotonne CO2 equivalent "
   ]
  },
  {
   "cell_type": "markdown",
   "metadata": {},
   "source": [
    "# Import Libraries"
   ]
  },
  {
   "cell_type": "code",
   "execution_count": 1,
   "metadata": {},
   "outputs": [],
   "source": [
    "import numpy as np\n",
    "import pandas as pd\n",
    "import matplotlib.pyplot as plt\n",
    "import seaborn as sns\n",
    "import os\n",
    "import warnings"
   ]
  },
  {
   "cell_type": "markdown",
   "metadata": {},
   "source": [
    "# Options and Settings"
   ]
  },
  {
   "cell_type": "code",
   "execution_count": 2,
   "metadata": {},
   "outputs": [],
   "source": [
    "%matplotlib inline\n",
    "plt.style.use('ggplot')\n",
    "plt.rcParams['figure.autolayout'] = True\n",
    "plt.rcParams['font.size'] = 12\n",
    "path = os.getcwd()                                  # get current working directory\n",
    "warnings.simplefilter('ignore')"
   ]
  },
  {
   "cell_type": "markdown",
   "metadata": {},
   "source": [
    "# Import Data"
   ]
  },
  {
   "cell_type": "code",
   "execution_count": 3,
   "metadata": {},
   "outputs": [],
   "source": [
    "filepath = os.path.join(path, 'datasets', 'Greenhouse Gas (GHGs) Emissions, including Indirect CO2, without LULUCF, in kilotonne CO2 equivalent.csv')\n",
    "df = pd.read_csv(filepath)"
   ]
  },
  {
   "cell_type": "markdown",
   "metadata": {},
   "source": [
    "# Head and Tail"
   ]
  },
  {
   "cell_type": "code",
   "execution_count": 4,
   "metadata": {},
   "outputs": [
    {
     "data": {
      "text/html": [
       "<div>\n",
       "<style scoped>\n",
       "    .dataframe tbody tr th:only-of-type {\n",
       "        vertical-align: middle;\n",
       "    }\n",
       "\n",
       "    .dataframe tbody tr th {\n",
       "        vertical-align: top;\n",
       "    }\n",
       "\n",
       "    .dataframe thead th {\n",
       "        text-align: right;\n",
       "    }\n",
       "</style>\n",
       "<table border=\"1\" class=\"dataframe\">\n",
       "  <thead>\n",
       "    <tr style=\"text-align: right;\">\n",
       "      <th></th>\n",
       "      <th>Country or Area</th>\n",
       "      <th>Year</th>\n",
       "      <th>Value</th>\n",
       "    </tr>\n",
       "  </thead>\n",
       "  <tbody>\n",
       "    <tr>\n",
       "      <th>0</th>\n",
       "      <td>Cyprus</td>\n",
       "      <td>2019</td>\n",
       "      <td>8849.599227</td>\n",
       "    </tr>\n",
       "    <tr>\n",
       "      <th>1</th>\n",
       "      <td>Cyprus</td>\n",
       "      <td>2018</td>\n",
       "      <td>8819.216843</td>\n",
       "    </tr>\n",
       "    <tr>\n",
       "      <th>2</th>\n",
       "      <td>Cyprus</td>\n",
       "      <td>2017</td>\n",
       "      <td>8977.184007</td>\n",
       "    </tr>\n",
       "    <tr>\n",
       "      <th>3</th>\n",
       "      <td>Cyprus</td>\n",
       "      <td>2016</td>\n",
       "      <td>8790.713755</td>\n",
       "    </tr>\n",
       "    <tr>\n",
       "      <th>4</th>\n",
       "      <td>Cyprus</td>\n",
       "      <td>2015</td>\n",
       "      <td>8343.354184</td>\n",
       "    </tr>\n",
       "    <tr>\n",
       "      <th>...</th>\n",
       "      <td>...</td>\n",
       "      <td>...</td>\n",
       "      <td>...</td>\n",
       "    </tr>\n",
       "    <tr>\n",
       "      <th>325</th>\n",
       "      <td>Switzerland</td>\n",
       "      <td>1994</td>\n",
       "      <td>52075.390168</td>\n",
       "    </tr>\n",
       "    <tr>\n",
       "      <th>326</th>\n",
       "      <td>Switzerland</td>\n",
       "      <td>1993</td>\n",
       "      <td>53094.848180</td>\n",
       "    </tr>\n",
       "    <tr>\n",
       "      <th>327</th>\n",
       "      <td>Switzerland</td>\n",
       "      <td>1992</td>\n",
       "      <td>55674.500211</td>\n",
       "    </tr>\n",
       "    <tr>\n",
       "      <th>328</th>\n",
       "      <td>Switzerland</td>\n",
       "      <td>1991</td>\n",
       "      <td>55934.033481</td>\n",
       "    </tr>\n",
       "    <tr>\n",
       "      <th>329</th>\n",
       "      <td>Switzerland</td>\n",
       "      <td>1990</td>\n",
       "      <td>54042.646935</td>\n",
       "    </tr>\n",
       "  </tbody>\n",
       "</table>\n",
       "<p>330 rows × 3 columns</p>\n",
       "</div>"
      ],
      "text/plain": [
       "    Country or Area  Year         Value\n",
       "0            Cyprus  2019   8849.599227\n",
       "1            Cyprus  2018   8819.216843\n",
       "2            Cyprus  2017   8977.184007\n",
       "3            Cyprus  2016   8790.713755\n",
       "4            Cyprus  2015   8343.354184\n",
       "..              ...   ...           ...\n",
       "325     Switzerland  1994  52075.390168\n",
       "326     Switzerland  1993  53094.848180\n",
       "327     Switzerland  1992  55674.500211\n",
       "328     Switzerland  1991  55934.033481\n",
       "329     Switzerland  1990  54042.646935\n",
       "\n",
       "[330 rows x 3 columns]"
      ]
     },
     "execution_count": 4,
     "metadata": {},
     "output_type": "execute_result"
    }
   ],
   "source": [
    "df"
   ]
  },
  {
   "cell_type": "code",
   "execution_count": 5,
   "metadata": {},
   "outputs": [
    {
     "data": {
      "text/plain": [
       "(330, 3)"
      ]
     },
     "execution_count": 5,
     "metadata": {},
     "output_type": "execute_result"
    }
   ],
   "source": [
    "df.shape"
   ]
  },
  {
   "cell_type": "code",
   "execution_count": 6,
   "metadata": {},
   "outputs": [
    {
     "name": "stdout",
     "output_type": "stream",
     "text": [
      "<class 'pandas.core.frame.DataFrame'>\n",
      "RangeIndex: 330 entries, 0 to 329\n",
      "Data columns (total 3 columns):\n",
      " #   Column           Non-Null Count  Dtype  \n",
      "---  ------           --------------  -----  \n",
      " 0   Country or Area  330 non-null    object \n",
      " 1   Year             330 non-null    int64  \n",
      " 2   Value            330 non-null    float64\n",
      "dtypes: float64(1), int64(1), object(1)\n",
      "memory usage: 7.9+ KB\n"
     ]
    }
   ],
   "source": [
    "df.info()"
   ]
  },
  {
   "cell_type": "code",
   "execution_count": 7,
   "metadata": {},
   "outputs": [
    {
     "data": {
      "text/html": [
       "<div>\n",
       "<style scoped>\n",
       "    .dataframe tbody tr th:only-of-type {\n",
       "        vertical-align: middle;\n",
       "    }\n",
       "\n",
       "    .dataframe tbody tr th {\n",
       "        vertical-align: top;\n",
       "    }\n",
       "\n",
       "    .dataframe thead th {\n",
       "        text-align: right;\n",
       "    }\n",
       "</style>\n",
       "<table border=\"1\" class=\"dataframe\">\n",
       "  <thead>\n",
       "    <tr style=\"text-align: right;\">\n",
       "      <th></th>\n",
       "      <th>Country_or_Area</th>\n",
       "      <th>Year</th>\n",
       "      <th>CO2 emissions (kt)</th>\n",
       "    </tr>\n",
       "  </thead>\n",
       "  <tbody>\n",
       "    <tr>\n",
       "      <th>0</th>\n",
       "      <td>Cyprus</td>\n",
       "      <td>2019</td>\n",
       "      <td>8849.599227</td>\n",
       "    </tr>\n",
       "    <tr>\n",
       "      <th>1</th>\n",
       "      <td>Cyprus</td>\n",
       "      <td>2018</td>\n",
       "      <td>8819.216843</td>\n",
       "    </tr>\n",
       "    <tr>\n",
       "      <th>2</th>\n",
       "      <td>Cyprus</td>\n",
       "      <td>2017</td>\n",
       "      <td>8977.184007</td>\n",
       "    </tr>\n",
       "    <tr>\n",
       "      <th>3</th>\n",
       "      <td>Cyprus</td>\n",
       "      <td>2016</td>\n",
       "      <td>8790.713755</td>\n",
       "    </tr>\n",
       "    <tr>\n",
       "      <th>4</th>\n",
       "      <td>Cyprus</td>\n",
       "      <td>2015</td>\n",
       "      <td>8343.354184</td>\n",
       "    </tr>\n",
       "  </tbody>\n",
       "</table>\n",
       "</div>"
      ],
      "text/plain": [
       "  Country_or_Area  Year  CO2 emissions (kt)\n",
       "0          Cyprus  2019         8849.599227\n",
       "1          Cyprus  2018         8819.216843\n",
       "2          Cyprus  2017         8977.184007\n",
       "3          Cyprus  2016         8790.713755\n",
       "4          Cyprus  2015         8343.354184"
      ]
     },
     "execution_count": 7,
     "metadata": {},
     "output_type": "execute_result"
    }
   ],
   "source": [
    "df.rename(columns={'Country or Area': 'Country_or_Area', \n",
    "                   'Value': 'CO2 emissions (kt)'}, inplace=True) \n",
    "df.head() "
   ]
  },
  {
   "cell_type": "code",
   "execution_count": 8,
   "metadata": {},
   "outputs": [
    {
     "data": {
      "text/plain": [
       "Cyprus            30\n",
       "Czechia           30\n",
       "Denmark           30\n",
       "European Union    30\n",
       "Finland           30\n",
       "Japan             30\n",
       "Latvia            30\n",
       "Netherlands       30\n",
       "Portugal          30\n",
       "Slovakia          30\n",
       "Switzerland       30\n",
       "Name: Country_or_Area, dtype: int64"
      ]
     },
     "execution_count": 8,
     "metadata": {},
     "output_type": "execute_result"
    }
   ],
   "source": [
    "df['Country_or_Area'].value_counts()"
   ]
  },
  {
   "cell_type": "code",
   "execution_count": 9,
   "metadata": {},
   "outputs": [
    {
     "data": {
      "text/plain": [
       "2019    11\n",
       "2018    11\n",
       "1991    11\n",
       "1992    11\n",
       "1993    11\n",
       "1994    11\n",
       "1995    11\n",
       "1996    11\n",
       "1997    11\n",
       "1998    11\n",
       "1999    11\n",
       "2000    11\n",
       "2001    11\n",
       "2002    11\n",
       "2003    11\n",
       "2004    11\n",
       "2005    11\n",
       "2006    11\n",
       "2007    11\n",
       "2008    11\n",
       "2009    11\n",
       "2010    11\n",
       "2011    11\n",
       "2012    11\n",
       "2013    11\n",
       "2014    11\n",
       "2015    11\n",
       "2016    11\n",
       "2017    11\n",
       "1990    11\n",
       "Name: Year, dtype: int64"
      ]
     },
     "execution_count": 9,
     "metadata": {},
     "output_type": "execute_result"
    }
   ],
   "source": [
    "df['Year'].value_counts()"
   ]
  },
  {
   "cell_type": "code",
   "execution_count": 10,
   "metadata": {},
   "outputs": [
    {
     "data": {
      "text/plain": [
       "count     330.000000\n",
       "mean     2004.500000\n",
       "std         8.668586\n",
       "min      1990.000000\n",
       "25%      1997.000000\n",
       "50%      2004.500000\n",
       "75%      2012.000000\n",
       "max      2019.000000\n",
       "Name: Year, dtype: float64"
      ]
     },
     "execution_count": 10,
     "metadata": {},
     "output_type": "execute_result"
    }
   ],
   "source": [
    "df['Year'].describe()"
   ]
  },
  {
   "cell_type": "markdown",
   "metadata": {},
   "source": [
    "# Missing Values Exploration"
   ]
  },
  {
   "cell_type": "code",
   "execution_count": 11,
   "metadata": {},
   "outputs": [
    {
     "data": {
      "text/plain": [
       "Country_or_Area       0\n",
       "Year                  0\n",
       "CO2 emissions (kt)    0\n",
       "dtype: int64"
      ]
     },
     "execution_count": 11,
     "metadata": {},
     "output_type": "execute_result"
    }
   ],
   "source": [
    "df.isna().sum()"
   ]
  },
  {
   "cell_type": "markdown",
   "metadata": {},
   "source": [
    "# Grouping and Aggregation"
   ]
  },
  {
   "cell_type": "code",
   "execution_count": 12,
   "metadata": {},
   "outputs": [
    {
     "data": {
      "text/html": [
       "<div>\n",
       "<style scoped>\n",
       "    .dataframe tbody tr th:only-of-type {\n",
       "        vertical-align: middle;\n",
       "    }\n",
       "\n",
       "    .dataframe tbody tr th {\n",
       "        vertical-align: top;\n",
       "    }\n",
       "\n",
       "    .dataframe thead th {\n",
       "        text-align: right;\n",
       "    }\n",
       "</style>\n",
       "<table border=\"1\" class=\"dataframe\">\n",
       "  <thead>\n",
       "    <tr style=\"text-align: right;\">\n",
       "      <th></th>\n",
       "      <th>Country_or_Area</th>\n",
       "      <th>Year</th>\n",
       "      <th>CO2 emissions (kt)</th>\n",
       "    </tr>\n",
       "  </thead>\n",
       "  <tbody>\n",
       "    <tr>\n",
       "      <th>0</th>\n",
       "      <td>Cyprus</td>\n",
       "      <td>2019</td>\n",
       "      <td>8849.599227</td>\n",
       "    </tr>\n",
       "    <tr>\n",
       "      <th>1</th>\n",
       "      <td>Cyprus</td>\n",
       "      <td>2018</td>\n",
       "      <td>8819.216843</td>\n",
       "    </tr>\n",
       "    <tr>\n",
       "      <th>2</th>\n",
       "      <td>Cyprus</td>\n",
       "      <td>2017</td>\n",
       "      <td>8977.184007</td>\n",
       "    </tr>\n",
       "    <tr>\n",
       "      <th>3</th>\n",
       "      <td>Cyprus</td>\n",
       "      <td>2016</td>\n",
       "      <td>8790.713755</td>\n",
       "    </tr>\n",
       "    <tr>\n",
       "      <th>4</th>\n",
       "      <td>Cyprus</td>\n",
       "      <td>2015</td>\n",
       "      <td>8343.354184</td>\n",
       "    </tr>\n",
       "    <tr>\n",
       "      <th>...</th>\n",
       "      <td>...</td>\n",
       "      <td>...</td>\n",
       "      <td>...</td>\n",
       "    </tr>\n",
       "    <tr>\n",
       "      <th>305</th>\n",
       "      <td>Switzerland</td>\n",
       "      <td>2014</td>\n",
       "      <td>49005.549839</td>\n",
       "    </tr>\n",
       "    <tr>\n",
       "      <th>306</th>\n",
       "      <td>Switzerland</td>\n",
       "      <td>2013</td>\n",
       "      <td>52965.077319</td>\n",
       "    </tr>\n",
       "    <tr>\n",
       "      <th>307</th>\n",
       "      <td>Switzerland</td>\n",
       "      <td>2012</td>\n",
       "      <td>52084.458804</td>\n",
       "    </tr>\n",
       "    <tr>\n",
       "      <th>308</th>\n",
       "      <td>Switzerland</td>\n",
       "      <td>2011</td>\n",
       "      <td>50747.195704</td>\n",
       "    </tr>\n",
       "    <tr>\n",
       "      <th>309</th>\n",
       "      <td>Switzerland</td>\n",
       "      <td>2010</td>\n",
       "      <td>54864.394437</td>\n",
       "    </tr>\n",
       "  </tbody>\n",
       "</table>\n",
       "<p>110 rows × 3 columns</p>\n",
       "</div>"
      ],
      "text/plain": [
       "    Country_or_Area  Year  CO2 emissions (kt)\n",
       "0            Cyprus  2019         8849.599227\n",
       "1            Cyprus  2018         8819.216843\n",
       "2            Cyprus  2017         8977.184007\n",
       "3            Cyprus  2016         8790.713755\n",
       "4            Cyprus  2015         8343.354184\n",
       "..              ...   ...                 ...\n",
       "305     Switzerland  2014        49005.549839\n",
       "306     Switzerland  2013        52965.077319\n",
       "307     Switzerland  2012        52084.458804\n",
       "308     Switzerland  2011        50747.195704\n",
       "309     Switzerland  2010        54864.394437\n",
       "\n",
       "[110 rows x 3 columns]"
      ]
     },
     "execution_count": 12,
     "metadata": {},
     "output_type": "execute_result"
    }
   ],
   "source": [
    "country_area_grouped = df.groupby('Country_or_Area')\n",
    "country_area_grouped.head(10)"
   ]
  },
  {
   "cell_type": "code",
   "execution_count": 13,
   "metadata": {},
   "outputs": [
    {
     "data": {
      "text/html": [
       "<div>\n",
       "<style scoped>\n",
       "    .dataframe tbody tr th:only-of-type {\n",
       "        vertical-align: middle;\n",
       "    }\n",
       "\n",
       "    .dataframe tbody tr th {\n",
       "        vertical-align: top;\n",
       "    }\n",
       "\n",
       "    .dataframe thead th {\n",
       "        text-align: right;\n",
       "    }\n",
       "</style>\n",
       "<table border=\"1\" class=\"dataframe\">\n",
       "  <thead>\n",
       "    <tr style=\"text-align: right;\">\n",
       "      <th></th>\n",
       "      <th>agg_min</th>\n",
       "      <th>agg_mean</th>\n",
       "      <th>agg_max</th>\n",
       "      <th>agg_total</th>\n",
       "    </tr>\n",
       "    <tr>\n",
       "      <th>Country_or_Area</th>\n",
       "      <th></th>\n",
       "      <th></th>\n",
       "      <th></th>\n",
       "      <th></th>\n",
       "    </tr>\n",
       "  </thead>\n",
       "  <tbody>\n",
       "    <tr>\n",
       "      <th>Cyprus</th>\n",
       "      <td>5.577476e+03</td>\n",
       "      <td>8.273690e+03</td>\n",
       "      <td>1.001710e+04</td>\n",
       "      <td>2.482107e+05</td>\n",
       "    </tr>\n",
       "    <tr>\n",
       "      <th>Czechia</th>\n",
       "      <td>1.232976e+05</td>\n",
       "      <td>1.480542e+05</td>\n",
       "      <td>1.989493e+05</td>\n",
       "      <td>4.441626e+06</td>\n",
       "    </tr>\n",
       "    <tr>\n",
       "      <th>Denmark</th>\n",
       "      <td>4.608218e+04</td>\n",
       "      <td>6.882955e+04</td>\n",
       "      <td>9.307111e+04</td>\n",
       "      <td>2.064886e+06</td>\n",
       "    </tr>\n",
       "    <tr>\n",
       "      <th>European Union</th>\n",
       "      <td>4.059228e+06</td>\n",
       "      <td>4.967389e+06</td>\n",
       "      <td>5.662307e+06</td>\n",
       "      <td>1.490217e+08</td>\n",
       "    </tr>\n",
       "    <tr>\n",
       "      <th>Finland</th>\n",
       "      <td>5.307246e+04</td>\n",
       "      <td>6.972750e+04</td>\n",
       "      <td>8.563545e+04</td>\n",
       "      <td>2.091825e+06</td>\n",
       "    </tr>\n",
       "    <tr>\n",
       "      <th>Japan</th>\n",
       "      <td>1.211552e+06</td>\n",
       "      <td>1.337538e+06</td>\n",
       "      <td>1.408191e+06</td>\n",
       "      <td>4.012614e+07</td>\n",
       "    </tr>\n",
       "    <tr>\n",
       "      <th>Latvia</th>\n",
       "      <td>1.008415e+04</td>\n",
       "      <td>1.257752e+04</td>\n",
       "      <td>2.590869e+04</td>\n",
       "      <td>3.773255e+05</td>\n",
       "    </tr>\n",
       "    <tr>\n",
       "      <th>Netherlands</th>\n",
       "      <td>1.808724e+05</td>\n",
       "      <td>2.115337e+05</td>\n",
       "      <td>2.410505e+05</td>\n",
       "      <td>6.346010e+06</td>\n",
       "    </tr>\n",
       "    <tr>\n",
       "      <th>Portugal</th>\n",
       "      <td>5.887182e+04</td>\n",
       "      <td>7.157866e+04</td>\n",
       "      <td>8.591692e+04</td>\n",
       "      <td>2.147360e+06</td>\n",
       "    </tr>\n",
       "    <tr>\n",
       "      <th>Slovakia</th>\n",
       "      <td>3.991253e+04</td>\n",
       "      <td>4.924758e+04</td>\n",
       "      <td>7.347393e+04</td>\n",
       "      <td>1.477427e+06</td>\n",
       "    </tr>\n",
       "    <tr>\n",
       "      <th>Switzerland</th>\n",
       "      <td>4.622987e+04</td>\n",
       "      <td>5.258604e+04</td>\n",
       "      <td>5.593403e+04</td>\n",
       "      <td>1.577581e+06</td>\n",
       "    </tr>\n",
       "  </tbody>\n",
       "</table>\n",
       "</div>"
      ],
      "text/plain": [
       "                      agg_min      agg_mean       agg_max     agg_total\n",
       "Country_or_Area                                                        \n",
       "Cyprus           5.577476e+03  8.273690e+03  1.001710e+04  2.482107e+05\n",
       "Czechia          1.232976e+05  1.480542e+05  1.989493e+05  4.441626e+06\n",
       "Denmark          4.608218e+04  6.882955e+04  9.307111e+04  2.064886e+06\n",
       "European Union   4.059228e+06  4.967389e+06  5.662307e+06  1.490217e+08\n",
       "Finland          5.307246e+04  6.972750e+04  8.563545e+04  2.091825e+06\n",
       "Japan            1.211552e+06  1.337538e+06  1.408191e+06  4.012614e+07\n",
       "Latvia           1.008415e+04  1.257752e+04  2.590869e+04  3.773255e+05\n",
       "Netherlands      1.808724e+05  2.115337e+05  2.410505e+05  6.346010e+06\n",
       "Portugal         5.887182e+04  7.157866e+04  8.591692e+04  2.147360e+06\n",
       "Slovakia         3.991253e+04  4.924758e+04  7.347393e+04  1.477427e+06\n",
       "Switzerland      4.622987e+04  5.258604e+04  5.593403e+04  1.577581e+06"
      ]
     },
     "execution_count": 13,
     "metadata": {},
     "output_type": "execute_result"
    }
   ],
   "source": [
    "agg_emiss_stats = country_area_grouped.agg(\n",
    "    agg_min = pd.NamedAgg('CO2 emissions (kt)', np.min),\n",
    "    agg_mean = pd.NamedAgg('CO2 emissions (kt)', np.mean),\n",
    "    agg_max = pd.NamedAgg('CO2 emissions (kt)', np.max),\n",
    "    agg_total = pd.NamedAgg('CO2 emissions (kt)', np.sum)\n",
    ")\n",
    "\n",
    "agg_emiss_stats"
   ]
  },
  {
   "cell_type": "code",
   "execution_count": 14,
   "metadata": {},
   "outputs": [
    {
     "data": {
      "text/plain": [
       "Country_or_Area\n",
       "European Union    1.490217e+08\n",
       "Japan             4.012614e+07\n",
       "Netherlands       6.346010e+06\n",
       "Czechia           4.441626e+06\n",
       "Portugal          2.147360e+06\n",
       "Finland           2.091825e+06\n",
       "Denmark           2.064886e+06\n",
       "Switzerland       1.577581e+06\n",
       "Slovakia          1.477427e+06\n",
       "Latvia            3.773255e+05\n",
       "Name: agg_total, dtype: float64"
      ]
     },
     "execution_count": 14,
     "metadata": {},
     "output_type": "execute_result"
    }
   ],
   "source": [
    "agg_emiss_stats['agg_total'].sort_values(ascending=False).head(10)          # top ten country or area with the highest GHG's emissions"
   ]
  },
  {
   "cell_type": "code",
   "execution_count": 15,
   "metadata": {},
   "outputs": [],
   "source": [
    "# helper function for formatting plot y-axis\n",
    "from matplotlib.ticker import FuncFormatter\n",
    "\n",
    "def million(x, pos):\n",
    "    'The two args are the value and tick position'\n",
    "    return '%1.1fM' % (x * 1e-6)\n",
    "\n",
    "formatter = FuncFormatter(million)\n",
    "\n",
    "\n",
    "# helper function to plot horizontal bar chart \n",
    "def plot_hbar(y, width, align='center', xlabel=None, ylabel=None, title=None, color=None):\n",
    "\n",
    "    # Initialize the matplotlib figure\n",
    "    fig, ax = plt.subplots(figsize=(12, 9))\n",
    "\n",
    "    # plot bar chart\n",
    "    ax.barh(\n",
    "        y=y, width=width,\n",
    "        align=align\n",
    "    )\n",
    "\n",
    "    # Add informative axis label\n",
    "    ax.set(xlabel=xlabel, ylabel=ylabel, title=title)\n",
    "\n",
    "    # labels read top-to-bottom\n",
    "    ax.invert_yaxis()  \n",
    "\n",
    "    # set axis formatter\n",
    "    ax.xaxis.set_major_formatter(formatter)\n",
    "\n",
    "    # despine x-axis and y-axis\n",
    "    sns.despine(left=True, bottom=True)  "
   ]
  },
  {
   "cell_type": "code",
   "execution_count": 16,
   "metadata": {},
   "outputs": [
    {
     "data": {
      "image/png": "[encoded data removed]",
      "text/plain": [
       "<Figure size 864x648 with 1 Axes>"
      ]
     },
     "metadata": {},
     "output_type": "display_data"
    }
   ],
   "source": [
    "top_10_emiss = agg_emiss_stats['agg_total'].sort_values(ascending=False).head(10) \n",
    "\n",
    "plot_hbar(top_10_emiss.keys(), top_10_emiss.values,\n",
    "          xlabel='CO2 emissions (kt)', ylabel='Country or Area', title='Greenhouse Gas (GHGs) Emissions in kilotonne CO2 equivalent')"
   ]
  },
  {
   "cell_type": "markdown",
   "metadata": {},
   "source": [
    "# Japan Exploration"
   ]
  },
  {
   "cell_type": "code",
   "execution_count": 17,
   "metadata": {},
   "outputs": [
    {
     "data": {
      "text/html": [
       "<div>\n",
       "<style scoped>\n",
       "    .dataframe tbody tr th:only-of-type {\n",
       "        vertical-align: middle;\n",
       "    }\n",
       "\n",
       "    .dataframe tbody tr th {\n",
       "        vertical-align: top;\n",
       "    }\n",
       "\n",
       "    .dataframe thead th {\n",
       "        text-align: right;\n",
       "    }\n",
       "</style>\n",
       "<table border=\"1\" class=\"dataframe\">\n",
       "  <thead>\n",
       "    <tr style=\"text-align: right;\">\n",
       "      <th></th>\n",
       "      <th>Country_or_Area</th>\n",
       "      <th>Year</th>\n",
       "      <th>CO2 emissions (kt)</th>\n",
       "    </tr>\n",
       "  </thead>\n",
       "  <tbody>\n",
       "    <tr>\n",
       "      <th>150</th>\n",
       "      <td>Japan</td>\n",
       "      <td>2019</td>\n",
       "      <td>1.211552e+06</td>\n",
       "    </tr>\n",
       "    <tr>\n",
       "      <th>151</th>\n",
       "      <td>Japan</td>\n",
       "      <td>2018</td>\n",
       "      <td>1.247127e+06</td>\n",
       "    </tr>\n",
       "    <tr>\n",
       "      <th>152</th>\n",
       "      <td>Japan</td>\n",
       "      <td>2017</td>\n",
       "      <td>1.290671e+06</td>\n",
       "    </tr>\n",
       "    <tr>\n",
       "      <th>153</th>\n",
       "      <td>Japan</td>\n",
       "      <td>2016</td>\n",
       "      <td>1.304026e+06</td>\n",
       "    </tr>\n",
       "    <tr>\n",
       "      <th>154</th>\n",
       "      <td>Japan</td>\n",
       "      <td>2015</td>\n",
       "      <td>1.320728e+06</td>\n",
       "    </tr>\n",
       "  </tbody>\n",
       "</table>\n",
       "</div>"
      ],
      "text/plain": [
       "    Country_or_Area  Year  CO2 emissions (kt)\n",
       "150           Japan  2019        1.211552e+06\n",
       "151           Japan  2018        1.247127e+06\n",
       "152           Japan  2017        1.290671e+06\n",
       "153           Japan  2016        1.304026e+06\n",
       "154           Japan  2015        1.320728e+06"
      ]
     },
     "execution_count": 17,
     "metadata": {},
     "output_type": "execute_result"
    }
   ],
   "source": [
    "jpn_df = country_area_grouped.get_group('Japan')\n",
    "jpn_df.head()"
   ]
  },
  {
   "cell_type": "code",
   "execution_count": 18,
   "metadata": {},
   "outputs": [
    {
     "data": {
      "image/png": "[encoded data removed]",
      "text/plain": [
       "<Figure size 864x432 with 1 Axes>"
      ]
     },
     "metadata": {},
     "output_type": "display_data"
    }
   ],
   "source": [
    "# initialize matplot figure\n",
    "fig1, ax1 = plt.subplots(figsize=(12, 6))\n",
    "fig1.autofmt_xdate()\n",
    "\n",
    "# plot bar chart\n",
    "sns.barplot(\n",
    "    x='Year', y='CO2 emissions (kt)', \n",
    "    palette='deep', ci=None, \n",
    "    data=jpn_df, ax=ax1\n",
    ")\n",
    "\n",
    "# set y-axis major formatter\n",
    "ax1.yaxis.set_major_formatter(formatter)"
   ]
  },
  {
   "cell_type": "code",
   "execution_count": 19,
   "metadata": {},
   "outputs": [
    {
     "data": {
      "text/plain": [
       "Country_or_Area\n",
       "Cyprus         2.482107e+05\n",
       "Latvia         3.773255e+05\n",
       "Slovakia       1.477427e+06\n",
       "Switzerland    1.577581e+06\n",
       "Denmark        2.064886e+06\n",
       "Finland        2.091825e+06\n",
       "Portugal       2.147360e+06\n",
       "Czechia        4.441626e+06\n",
       "Netherlands    6.346010e+06\n",
       "Japan          4.012614e+07\n",
       "Name: agg_total, dtype: float64"
      ]
     },
     "execution_count": 19,
     "metadata": {},
     "output_type": "execute_result"
    }
   ],
   "source": [
    "agg_emiss_stats['agg_total'].sort_values(ascending=True).head(10)          # top ten country or area with the lowest GHG's emissions"
   ]
  },
  {
   "cell_type": "code",
   "execution_count": 20,
   "metadata": {},
   "outputs": [
    {
     "data": {
      "image/png": "[encoded data removed]",
      "text/plain": [
       "<Figure size 864x648 with 1 Axes>"
      ]
     },
     "metadata": {},
     "output_type": "display_data"
    }
   ],
   "source": [
    "low_10_emiss = agg_emiss_stats['agg_total'].sort_values(ascending=True).head(10) \n",
    "\n",
    "plot_hbar(low_10_emiss.keys(), low_10_emiss.values,\n",
    "          xlabel='CO2 emissions (kt)', ylabel='Country or Area', title='Greenhouse Gas (GHGs) Emissions in kilotonne CO2 equivalent')"
   ]
  }
 ],
 "metadata": {
  "interpreter": {
   "hash": "3fe9daace87ea8cb12e037f7452ad9bcd52f59aa894a611255d1461de3a9065e"
  },
  "kernelspec": {
   "display_name": "Python 3.9.7 64-bit ('DS': conda)",
   "language": "python",
   "name": "python3"
  },
  "language_info": {
   "codemirror_mode": {
    "name": "ipython",
    "version": 3
   },
   "file_extension": ".py",
   "mimetype": "text/x-python",
   "name": "python",
   "nbconvert_exporter": "python",
   "pygments_lexer": "ipython3",
   "version": "3.9.7"
  },
  "orig_nbformat": 4
 },
 "nbformat": 4,
 "nbformat_minor": 2
}
