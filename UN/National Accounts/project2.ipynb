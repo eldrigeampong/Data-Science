{
 "cells": [
  {
   "cell_type": "markdown",
   "metadata": {},
   "source": [
    "# GVA by kind of economic activity"
   ]
  },
  {
   "cell_type": "markdown",
   "metadata": {},
   "source": [
    "# Import Libraries"
   ]
  },
  {
   "cell_type": "code",
   "execution_count": 1,
   "metadata": {},
   "outputs": [],
   "source": [
    "import numpy as np\n",
    "import pandas as pd\n",
    "import matplotlib.pyplot as plt\n",
    "import seaborn as sns\n",
    "import os\n",
    "import warnings"
   ]
  },
  {
   "cell_type": "markdown",
   "metadata": {},
   "source": [
    "# Options and Settings"
   ]
  },
  {
   "cell_type": "code",
   "execution_count": 2,
   "metadata": {},
   "outputs": [],
   "source": [
    "%matplotlib inline\n",
    "plt.style.use('ggplot')\n",
    "plt.rcParams['figure.autolayout'] = True\n",
    "plt.rcParams['figure.figsize'] = [12, 9]\n",
    "plt.rcParams['font.size'] = 12\n",
    "path = os.getcwd()                                         # get current working directory\n",
    "warnings.simplefilter('ignore')"
   ]
  },
  {
   "cell_type": "markdown",
   "metadata": {},
   "source": [
    "# Import Data"
   ]
  },
  {
   "cell_type": "code",
   "execution_count": 3,
   "metadata": {},
   "outputs": [],
   "source": [
    "filepath = os.path.join('datasets', 'Gross Value Added by Economic Activity.csv')\n",
    "df = pd.read_csv(filepath)"
   ]
  },
  {
   "cell_type": "markdown",
   "metadata": {},
   "source": [
    "# Head and Tail"
   ]
  },
  {
   "cell_type": "code",
   "execution_count": 4,
   "metadata": {},
   "outputs": [
    {
     "data": {
      "text/html": [
       "<div>\n",
       "<style scoped>\n",
       "    .dataframe tbody tr th:only-of-type {\n",
       "        vertical-align: middle;\n",
       "    }\n",
       "\n",
       "    .dataframe tbody tr th {\n",
       "        vertical-align: top;\n",
       "    }\n",
       "\n",
       "    .dataframe thead th {\n",
       "        text-align: right;\n",
       "    }\n",
       "</style>\n",
       "<table border=\"1\" class=\"dataframe\">\n",
       "  <thead>\n",
       "    <tr style=\"text-align: right;\">\n",
       "      <th></th>\n",
       "      <th>Region/Country/Area</th>\n",
       "      <th>Unnamed: 1</th>\n",
       "      <th>Year</th>\n",
       "      <th>Series</th>\n",
       "      <th>Value</th>\n",
       "      <th>Footnotes</th>\n",
       "      <th>Source</th>\n",
       "      <th>Unnamed: 7</th>\n",
       "      <th>Unnamed: 8</th>\n",
       "    </tr>\n",
       "  </thead>\n",
       "  <tbody>\n",
       "    <tr>\n",
       "      <th>0</th>\n",
       "      <td>4</td>\n",
       "      <td>Afghanistan</td>\n",
       "      <td>2005</td>\n",
       "      <td>Agriculture, hunting, forestry and fishing (% ...</td>\n",
       "      <td>37.3</td>\n",
       "      <td>NaN</td>\n",
       "      <td>United Nations Statistics Division, New York, ...</td>\n",
       "      <td>NaN</td>\n",
       "      <td>NaN</td>\n",
       "    </tr>\n",
       "    <tr>\n",
       "      <th>1</th>\n",
       "      <td>4</td>\n",
       "      <td>Afghanistan</td>\n",
       "      <td>2010</td>\n",
       "      <td>Agriculture, hunting, forestry and fishing (% ...</td>\n",
       "      <td>33.2</td>\n",
       "      <td>NaN</td>\n",
       "      <td>United Nations Statistics Division, New York, ...</td>\n",
       "      <td>NaN</td>\n",
       "      <td>NaN</td>\n",
       "    </tr>\n",
       "    <tr>\n",
       "      <th>2</th>\n",
       "      <td>4</td>\n",
       "      <td>Afghanistan</td>\n",
       "      <td>2015</td>\n",
       "      <td>Agriculture, hunting, forestry and fishing (% ...</td>\n",
       "      <td>27.3</td>\n",
       "      <td>NaN</td>\n",
       "      <td>United Nations Statistics Division, New York, ...</td>\n",
       "      <td>NaN</td>\n",
       "      <td>NaN</td>\n",
       "    </tr>\n",
       "    <tr>\n",
       "      <th>3</th>\n",
       "      <td>4</td>\n",
       "      <td>Afghanistan</td>\n",
       "      <td>2018</td>\n",
       "      <td>Agriculture, hunting, forestry and fishing (% ...</td>\n",
       "      <td>23.7</td>\n",
       "      <td>Excludes irrigation canals and landscaping care.</td>\n",
       "      <td>United Nations Statistics Division, New York, ...</td>\n",
       "      <td>NaN</td>\n",
       "      <td>NaN</td>\n",
       "    </tr>\n",
       "    <tr>\n",
       "      <th>4</th>\n",
       "      <td>4</td>\n",
       "      <td>Afghanistan</td>\n",
       "      <td>2019</td>\n",
       "      <td>Agriculture, hunting, forestry and fishing (% ...</td>\n",
       "      <td>26.9</td>\n",
       "      <td>Excludes irrigation canals and landscaping care.</td>\n",
       "      <td>United Nations Statistics Division, New York, ...</td>\n",
       "      <td>NaN</td>\n",
       "      <td>NaN</td>\n",
       "    </tr>\n",
       "    <tr>\n",
       "      <th>...</th>\n",
       "      <td>...</td>\n",
       "      <td>...</td>\n",
       "      <td>...</td>\n",
       "      <td>...</td>\n",
       "      <td>...</td>\n",
       "      <td>...</td>\n",
       "      <td>...</td>\n",
       "      <td>...</td>\n",
       "      <td>...</td>\n",
       "    </tr>\n",
       "    <tr>\n",
       "      <th>3578</th>\n",
       "      <td>716</td>\n",
       "      <td>Zimbabwe</td>\n",
       "      <td>2005</td>\n",
       "      <td>Services (% of gross value added)</td>\n",
       "      <td>52.6</td>\n",
       "      <td>NaN</td>\n",
       "      <td>United Nations Statistics Division, New York, ...</td>\n",
       "      <td>NaN</td>\n",
       "      <td>NaN</td>\n",
       "    </tr>\n",
       "    <tr>\n",
       "      <th>3579</th>\n",
       "      <td>716</td>\n",
       "      <td>Zimbabwe</td>\n",
       "      <td>2010</td>\n",
       "      <td>Services (% of gross value added)</td>\n",
       "      <td>65.6</td>\n",
       "      <td>NaN</td>\n",
       "      <td>United Nations Statistics Division, New York, ...</td>\n",
       "      <td>NaN</td>\n",
       "      <td>NaN</td>\n",
       "    </tr>\n",
       "    <tr>\n",
       "      <th>3580</th>\n",
       "      <td>716</td>\n",
       "      <td>Zimbabwe</td>\n",
       "      <td>2015</td>\n",
       "      <td>Services (% of gross value added)</td>\n",
       "      <td>65.7</td>\n",
       "      <td>NaN</td>\n",
       "      <td>United Nations Statistics Division, New York, ...</td>\n",
       "      <td>NaN</td>\n",
       "      <td>NaN</td>\n",
       "    </tr>\n",
       "    <tr>\n",
       "      <th>3581</th>\n",
       "      <td>716</td>\n",
       "      <td>Zimbabwe</td>\n",
       "      <td>2018</td>\n",
       "      <td>Services (% of gross value added)</td>\n",
       "      <td>67.9</td>\n",
       "      <td>NaN</td>\n",
       "      <td>United Nations Statistics Division, New York, ...</td>\n",
       "      <td>NaN</td>\n",
       "      <td>NaN</td>\n",
       "    </tr>\n",
       "    <tr>\n",
       "      <th>3582</th>\n",
       "      <td>716</td>\n",
       "      <td>Zimbabwe</td>\n",
       "      <td>2019</td>\n",
       "      <td>Services (% of gross value added)</td>\n",
       "      <td>67.3</td>\n",
       "      <td>NaN</td>\n",
       "      <td>United Nations Statistics Division, New York, ...</td>\n",
       "      <td>NaN</td>\n",
       "      <td>NaN</td>\n",
       "    </tr>\n",
       "  </tbody>\n",
       "</table>\n",
       "<p>3583 rows × 9 columns</p>\n",
       "</div>"
      ],
      "text/plain": [
       "      Region/Country/Area   Unnamed: 1  Year  \\\n",
       "0                       4  Afghanistan  2005   \n",
       "1                       4  Afghanistan  2010   \n",
       "2                       4  Afghanistan  2015   \n",
       "3                       4  Afghanistan  2018   \n",
       "4                       4  Afghanistan  2019   \n",
       "...                   ...          ...   ...   \n",
       "3578                  716     Zimbabwe  2005   \n",
       "3579                  716     Zimbabwe  2010   \n",
       "3580                  716     Zimbabwe  2015   \n",
       "3581                  716     Zimbabwe  2018   \n",
       "3582                  716     Zimbabwe  2019   \n",
       "\n",
       "                                                 Series  Value  \\\n",
       "0     Agriculture, hunting, forestry and fishing (% ...   37.3   \n",
       "1     Agriculture, hunting, forestry and fishing (% ...   33.2   \n",
       "2     Agriculture, hunting, forestry and fishing (% ...   27.3   \n",
       "3     Agriculture, hunting, forestry and fishing (% ...   23.7   \n",
       "4     Agriculture, hunting, forestry and fishing (% ...   26.9   \n",
       "...                                                 ...    ...   \n",
       "3578                  Services (% of gross value added)   52.6   \n",
       "3579                  Services (% of gross value added)   65.6   \n",
       "3580                  Services (% of gross value added)   65.7   \n",
       "3581                  Services (% of gross value added)   67.9   \n",
       "3582                  Services (% of gross value added)   67.3   \n",
       "\n",
       "                                             Footnotes  \\\n",
       "0                                                  NaN   \n",
       "1                                                  NaN   \n",
       "2                                                  NaN   \n",
       "3     Excludes irrigation canals and landscaping care.   \n",
       "4     Excludes irrigation canals and landscaping care.   \n",
       "...                                                ...   \n",
       "3578                                               NaN   \n",
       "3579                                               NaN   \n",
       "3580                                               NaN   \n",
       "3581                                               NaN   \n",
       "3582                                               NaN   \n",
       "\n",
       "                                                 Source Unnamed: 7 Unnamed: 8  \n",
       "0     United Nations Statistics Division, New York, ...        NaN        NaN  \n",
       "1     United Nations Statistics Division, New York, ...        NaN        NaN  \n",
       "2     United Nations Statistics Division, New York, ...        NaN        NaN  \n",
       "3     United Nations Statistics Division, New York, ...        NaN        NaN  \n",
       "4     United Nations Statistics Division, New York, ...        NaN        NaN  \n",
       "...                                                 ...        ...        ...  \n",
       "3578  United Nations Statistics Division, New York, ...        NaN        NaN  \n",
       "3579  United Nations Statistics Division, New York, ...        NaN        NaN  \n",
       "3580  United Nations Statistics Division, New York, ...        NaN        NaN  \n",
       "3581  United Nations Statistics Division, New York, ...        NaN        NaN  \n",
       "3582  United Nations Statistics Division, New York, ...        NaN        NaN  \n",
       "\n",
       "[3583 rows x 9 columns]"
      ]
     },
     "execution_count": 4,
     "metadata": {},
     "output_type": "execute_result"
    }
   ],
   "source": [
    "df"
   ]
  },
  {
   "cell_type": "code",
   "execution_count": 5,
   "metadata": {},
   "outputs": [
    {
     "data": {
      "text/plain": [
       "(3583, 9)"
      ]
     },
     "execution_count": 5,
     "metadata": {},
     "output_type": "execute_result"
    }
   ],
   "source": [
    "df.shape"
   ]
  },
  {
   "cell_type": "code",
   "execution_count": 6,
   "metadata": {},
   "outputs": [
    {
     "name": "stdout",
     "output_type": "stream",
     "text": [
      "<class 'pandas.core.frame.DataFrame'>\n",
      "RangeIndex: 3583 entries, 0 to 3582\n",
      "Data columns (total 9 columns):\n",
      " #   Column               Non-Null Count  Dtype  \n",
      "---  ------               --------------  -----  \n",
      " 0   Region/Country/Area  3583 non-null   int64  \n",
      " 1   Unnamed: 1           3583 non-null   object \n",
      " 2   Year                 3583 non-null   int64  \n",
      " 3   Series               3583 non-null   object \n",
      " 4   Value                3583 non-null   float64\n",
      " 5   Footnotes            2314 non-null   object \n",
      " 6   Source               3583 non-null   object \n",
      " 7   Unnamed: 7           692 non-null    object \n",
      " 8   Unnamed: 8           16 non-null     object \n",
      "dtypes: float64(1), int64(2), object(6)\n",
      "memory usage: 252.1+ KB\n"
     ]
    }
   ],
   "source": [
    "df.info()"
   ]
  },
  {
   "cell_type": "code",
   "execution_count": 7,
   "metadata": {},
   "outputs": [
    {
     "data": {
      "text/html": [
       "<div>\n",
       "<style scoped>\n",
       "    .dataframe tbody tr th:only-of-type {\n",
       "        vertical-align: middle;\n",
       "    }\n",
       "\n",
       "    .dataframe tbody tr th {\n",
       "        vertical-align: top;\n",
       "    }\n",
       "\n",
       "    .dataframe thead th {\n",
       "        text-align: right;\n",
       "    }\n",
       "</style>\n",
       "<table border=\"1\" class=\"dataframe\">\n",
       "  <thead>\n",
       "    <tr style=\"text-align: right;\">\n",
       "      <th></th>\n",
       "      <th>Code</th>\n",
       "      <th>Country/Area</th>\n",
       "      <th>Year</th>\n",
       "      <th>Series</th>\n",
       "      <th>Value</th>\n",
       "      <th>Footnotes</th>\n",
       "      <th>Source</th>\n",
       "      <th>Unnamed: 7</th>\n",
       "      <th>Unnamed: 8</th>\n",
       "    </tr>\n",
       "  </thead>\n",
       "  <tbody>\n",
       "    <tr>\n",
       "      <th>0</th>\n",
       "      <td>4</td>\n",
       "      <td>Afghanistan</td>\n",
       "      <td>2005</td>\n",
       "      <td>Agriculture, hunting, forestry and fishing (% ...</td>\n",
       "      <td>37.3</td>\n",
       "      <td>NaN</td>\n",
       "      <td>United Nations Statistics Division, New York, ...</td>\n",
       "      <td>NaN</td>\n",
       "      <td>NaN</td>\n",
       "    </tr>\n",
       "    <tr>\n",
       "      <th>1</th>\n",
       "      <td>4</td>\n",
       "      <td>Afghanistan</td>\n",
       "      <td>2010</td>\n",
       "      <td>Agriculture, hunting, forestry and fishing (% ...</td>\n",
       "      <td>33.2</td>\n",
       "      <td>NaN</td>\n",
       "      <td>United Nations Statistics Division, New York, ...</td>\n",
       "      <td>NaN</td>\n",
       "      <td>NaN</td>\n",
       "    </tr>\n",
       "    <tr>\n",
       "      <th>2</th>\n",
       "      <td>4</td>\n",
       "      <td>Afghanistan</td>\n",
       "      <td>2015</td>\n",
       "      <td>Agriculture, hunting, forestry and fishing (% ...</td>\n",
       "      <td>27.3</td>\n",
       "      <td>NaN</td>\n",
       "      <td>United Nations Statistics Division, New York, ...</td>\n",
       "      <td>NaN</td>\n",
       "      <td>NaN</td>\n",
       "    </tr>\n",
       "    <tr>\n",
       "      <th>3</th>\n",
       "      <td>4</td>\n",
       "      <td>Afghanistan</td>\n",
       "      <td>2018</td>\n",
       "      <td>Agriculture, hunting, forestry and fishing (% ...</td>\n",
       "      <td>23.7</td>\n",
       "      <td>Excludes irrigation canals and landscaping care.</td>\n",
       "      <td>United Nations Statistics Division, New York, ...</td>\n",
       "      <td>NaN</td>\n",
       "      <td>NaN</td>\n",
       "    </tr>\n",
       "    <tr>\n",
       "      <th>4</th>\n",
       "      <td>4</td>\n",
       "      <td>Afghanistan</td>\n",
       "      <td>2019</td>\n",
       "      <td>Agriculture, hunting, forestry and fishing (% ...</td>\n",
       "      <td>26.9</td>\n",
       "      <td>Excludes irrigation canals and landscaping care.</td>\n",
       "      <td>United Nations Statistics Division, New York, ...</td>\n",
       "      <td>NaN</td>\n",
       "      <td>NaN</td>\n",
       "    </tr>\n",
       "    <tr>\n",
       "      <th>...</th>\n",
       "      <td>...</td>\n",
       "      <td>...</td>\n",
       "      <td>...</td>\n",
       "      <td>...</td>\n",
       "      <td>...</td>\n",
       "      <td>...</td>\n",
       "      <td>...</td>\n",
       "      <td>...</td>\n",
       "      <td>...</td>\n",
       "    </tr>\n",
       "    <tr>\n",
       "      <th>3578</th>\n",
       "      <td>716</td>\n",
       "      <td>Zimbabwe</td>\n",
       "      <td>2005</td>\n",
       "      <td>Services (% of gross value added)</td>\n",
       "      <td>52.6</td>\n",
       "      <td>NaN</td>\n",
       "      <td>United Nations Statistics Division, New York, ...</td>\n",
       "      <td>NaN</td>\n",
       "      <td>NaN</td>\n",
       "    </tr>\n",
       "    <tr>\n",
       "      <th>3579</th>\n",
       "      <td>716</td>\n",
       "      <td>Zimbabwe</td>\n",
       "      <td>2010</td>\n",
       "      <td>Services (% of gross value added)</td>\n",
       "      <td>65.6</td>\n",
       "      <td>NaN</td>\n",
       "      <td>United Nations Statistics Division, New York, ...</td>\n",
       "      <td>NaN</td>\n",
       "      <td>NaN</td>\n",
       "    </tr>\n",
       "    <tr>\n",
       "      <th>3580</th>\n",
       "      <td>716</td>\n",
       "      <td>Zimbabwe</td>\n",
       "      <td>2015</td>\n",
       "      <td>Services (% of gross value added)</td>\n",
       "      <td>65.7</td>\n",
       "      <td>NaN</td>\n",
       "      <td>United Nations Statistics Division, New York, ...</td>\n",
       "      <td>NaN</td>\n",
       "      <td>NaN</td>\n",
       "    </tr>\n",
       "    <tr>\n",
       "      <th>3581</th>\n",
       "      <td>716</td>\n",
       "      <td>Zimbabwe</td>\n",
       "      <td>2018</td>\n",
       "      <td>Services (% of gross value added)</td>\n",
       "      <td>67.9</td>\n",
       "      <td>NaN</td>\n",
       "      <td>United Nations Statistics Division, New York, ...</td>\n",
       "      <td>NaN</td>\n",
       "      <td>NaN</td>\n",
       "    </tr>\n",
       "    <tr>\n",
       "      <th>3582</th>\n",
       "      <td>716</td>\n",
       "      <td>Zimbabwe</td>\n",
       "      <td>2019</td>\n",
       "      <td>Services (% of gross value added)</td>\n",
       "      <td>67.3</td>\n",
       "      <td>NaN</td>\n",
       "      <td>United Nations Statistics Division, New York, ...</td>\n",
       "      <td>NaN</td>\n",
       "      <td>NaN</td>\n",
       "    </tr>\n",
       "  </tbody>\n",
       "</table>\n",
       "<p>3583 rows × 9 columns</p>\n",
       "</div>"
      ],
      "text/plain": [
       "      Code Country/Area  Year  \\\n",
       "0        4  Afghanistan  2005   \n",
       "1        4  Afghanistan  2010   \n",
       "2        4  Afghanistan  2015   \n",
       "3        4  Afghanistan  2018   \n",
       "4        4  Afghanistan  2019   \n",
       "...    ...          ...   ...   \n",
       "3578   716     Zimbabwe  2005   \n",
       "3579   716     Zimbabwe  2010   \n",
       "3580   716     Zimbabwe  2015   \n",
       "3581   716     Zimbabwe  2018   \n",
       "3582   716     Zimbabwe  2019   \n",
       "\n",
       "                                                 Series  Value  \\\n",
       "0     Agriculture, hunting, forestry and fishing (% ...   37.3   \n",
       "1     Agriculture, hunting, forestry and fishing (% ...   33.2   \n",
       "2     Agriculture, hunting, forestry and fishing (% ...   27.3   \n",
       "3     Agriculture, hunting, forestry and fishing (% ...   23.7   \n",
       "4     Agriculture, hunting, forestry and fishing (% ...   26.9   \n",
       "...                                                 ...    ...   \n",
       "3578                  Services (% of gross value added)   52.6   \n",
       "3579                  Services (% of gross value added)   65.6   \n",
       "3580                  Services (% of gross value added)   65.7   \n",
       "3581                  Services (% of gross value added)   67.9   \n",
       "3582                  Services (% of gross value added)   67.3   \n",
       "\n",
       "                                             Footnotes  \\\n",
       "0                                                  NaN   \n",
       "1                                                  NaN   \n",
       "2                                                  NaN   \n",
       "3     Excludes irrigation canals and landscaping care.   \n",
       "4     Excludes irrigation canals and landscaping care.   \n",
       "...                                                ...   \n",
       "3578                                               NaN   \n",
       "3579                                               NaN   \n",
       "3580                                               NaN   \n",
       "3581                                               NaN   \n",
       "3582                                               NaN   \n",
       "\n",
       "                                                 Source Unnamed: 7 Unnamed: 8  \n",
       "0     United Nations Statistics Division, New York, ...        NaN        NaN  \n",
       "1     United Nations Statistics Division, New York, ...        NaN        NaN  \n",
       "2     United Nations Statistics Division, New York, ...        NaN        NaN  \n",
       "3     United Nations Statistics Division, New York, ...        NaN        NaN  \n",
       "4     United Nations Statistics Division, New York, ...        NaN        NaN  \n",
       "...                                                 ...        ...        ...  \n",
       "3578  United Nations Statistics Division, New York, ...        NaN        NaN  \n",
       "3579  United Nations Statistics Division, New York, ...        NaN        NaN  \n",
       "3580  United Nations Statistics Division, New York, ...        NaN        NaN  \n",
       "3581  United Nations Statistics Division, New York, ...        NaN        NaN  \n",
       "3582  United Nations Statistics Division, New York, ...        NaN        NaN  \n",
       "\n",
       "[3583 rows x 9 columns]"
      ]
     },
     "execution_count": 7,
     "metadata": {},
     "output_type": "execute_result"
    }
   ],
   "source": [
    "df.rename(\n",
    "    columns={\n",
    "        'Region/Country/Area': 'Code', \n",
    "        'Unnamed: 1': 'Country/Area'}, inplace=True)\n",
    "        \n",
    "df    "
   ]
  },
  {
   "cell_type": "code",
   "execution_count": 8,
   "metadata": {},
   "outputs": [
    {
     "data": {
      "text/html": [
       "<div>\n",
       "<style scoped>\n",
       "    .dataframe tbody tr th:only-of-type {\n",
       "        vertical-align: middle;\n",
       "    }\n",
       "\n",
       "    .dataframe tbody tr th {\n",
       "        vertical-align: top;\n",
       "    }\n",
       "\n",
       "    .dataframe thead th {\n",
       "        text-align: right;\n",
       "    }\n",
       "</style>\n",
       "<table border=\"1\" class=\"dataframe\">\n",
       "  <thead>\n",
       "    <tr style=\"text-align: right;\">\n",
       "      <th></th>\n",
       "      <th>Code</th>\n",
       "      <th>Country/Area</th>\n",
       "      <th>Year</th>\n",
       "      <th>Series</th>\n",
       "      <th>Value</th>\n",
       "    </tr>\n",
       "  </thead>\n",
       "  <tbody>\n",
       "    <tr>\n",
       "      <th>0</th>\n",
       "      <td>4</td>\n",
       "      <td>Afghanistan</td>\n",
       "      <td>2005</td>\n",
       "      <td>Agriculture, hunting, forestry and fishing (% ...</td>\n",
       "      <td>37.3</td>\n",
       "    </tr>\n",
       "    <tr>\n",
       "      <th>1</th>\n",
       "      <td>4</td>\n",
       "      <td>Afghanistan</td>\n",
       "      <td>2010</td>\n",
       "      <td>Agriculture, hunting, forestry and fishing (% ...</td>\n",
       "      <td>33.2</td>\n",
       "    </tr>\n",
       "    <tr>\n",
       "      <th>2</th>\n",
       "      <td>4</td>\n",
       "      <td>Afghanistan</td>\n",
       "      <td>2015</td>\n",
       "      <td>Agriculture, hunting, forestry and fishing (% ...</td>\n",
       "      <td>27.3</td>\n",
       "    </tr>\n",
       "    <tr>\n",
       "      <th>3</th>\n",
       "      <td>4</td>\n",
       "      <td>Afghanistan</td>\n",
       "      <td>2018</td>\n",
       "      <td>Agriculture, hunting, forestry and fishing (% ...</td>\n",
       "      <td>23.7</td>\n",
       "    </tr>\n",
       "    <tr>\n",
       "      <th>4</th>\n",
       "      <td>4</td>\n",
       "      <td>Afghanistan</td>\n",
       "      <td>2019</td>\n",
       "      <td>Agriculture, hunting, forestry and fishing (% ...</td>\n",
       "      <td>26.9</td>\n",
       "    </tr>\n",
       "    <tr>\n",
       "      <th>...</th>\n",
       "      <td>...</td>\n",
       "      <td>...</td>\n",
       "      <td>...</td>\n",
       "      <td>...</td>\n",
       "      <td>...</td>\n",
       "    </tr>\n",
       "    <tr>\n",
       "      <th>3578</th>\n",
       "      <td>716</td>\n",
       "      <td>Zimbabwe</td>\n",
       "      <td>2005</td>\n",
       "      <td>Services (% of gross value added)</td>\n",
       "      <td>52.6</td>\n",
       "    </tr>\n",
       "    <tr>\n",
       "      <th>3579</th>\n",
       "      <td>716</td>\n",
       "      <td>Zimbabwe</td>\n",
       "      <td>2010</td>\n",
       "      <td>Services (% of gross value added)</td>\n",
       "      <td>65.6</td>\n",
       "    </tr>\n",
       "    <tr>\n",
       "      <th>3580</th>\n",
       "      <td>716</td>\n",
       "      <td>Zimbabwe</td>\n",
       "      <td>2015</td>\n",
       "      <td>Services (% of gross value added)</td>\n",
       "      <td>65.7</td>\n",
       "    </tr>\n",
       "    <tr>\n",
       "      <th>3581</th>\n",
       "      <td>716</td>\n",
       "      <td>Zimbabwe</td>\n",
       "      <td>2018</td>\n",
       "      <td>Services (% of gross value added)</td>\n",
       "      <td>67.9</td>\n",
       "    </tr>\n",
       "    <tr>\n",
       "      <th>3582</th>\n",
       "      <td>716</td>\n",
       "      <td>Zimbabwe</td>\n",
       "      <td>2019</td>\n",
       "      <td>Services (% of gross value added)</td>\n",
       "      <td>67.3</td>\n",
       "    </tr>\n",
       "  </tbody>\n",
       "</table>\n",
       "<p>3583 rows × 5 columns</p>\n",
       "</div>"
      ],
      "text/plain": [
       "      Code Country/Area  Year  \\\n",
       "0        4  Afghanistan  2005   \n",
       "1        4  Afghanistan  2010   \n",
       "2        4  Afghanistan  2015   \n",
       "3        4  Afghanistan  2018   \n",
       "4        4  Afghanistan  2019   \n",
       "...    ...          ...   ...   \n",
       "3578   716     Zimbabwe  2005   \n",
       "3579   716     Zimbabwe  2010   \n",
       "3580   716     Zimbabwe  2015   \n",
       "3581   716     Zimbabwe  2018   \n",
       "3582   716     Zimbabwe  2019   \n",
       "\n",
       "                                                 Series  Value  \n",
       "0     Agriculture, hunting, forestry and fishing (% ...   37.3  \n",
       "1     Agriculture, hunting, forestry and fishing (% ...   33.2  \n",
       "2     Agriculture, hunting, forestry and fishing (% ...   27.3  \n",
       "3     Agriculture, hunting, forestry and fishing (% ...   23.7  \n",
       "4     Agriculture, hunting, forestry and fishing (% ...   26.9  \n",
       "...                                                 ...    ...  \n",
       "3578                  Services (% of gross value added)   52.6  \n",
       "3579                  Services (% of gross value added)   65.6  \n",
       "3580                  Services (% of gross value added)   65.7  \n",
       "3581                  Services (% of gross value added)   67.9  \n",
       "3582                  Services (% of gross value added)   67.3  \n",
       "\n",
       "[3583 rows x 5 columns]"
      ]
     },
     "execution_count": 8,
     "metadata": {},
     "output_type": "execute_result"
    }
   ],
   "source": [
    "df1 = df[['Code', 'Country/Area', 'Year', 'Series', 'Value']]\n",
    "df1"
   ]
  },
  {
   "cell_type": "code",
   "execution_count": 9,
   "metadata": {},
   "outputs": [
    {
     "data": {
      "text/plain": [
       "(3583, 5)"
      ]
     },
     "execution_count": 9,
     "metadata": {},
     "output_type": "execute_result"
    }
   ],
   "source": [
    "df1.shape"
   ]
  },
  {
   "cell_type": "code",
   "execution_count": 10,
   "metadata": {},
   "outputs": [
    {
     "name": "stdout",
     "output_type": "stream",
     "text": [
      "<class 'pandas.core.frame.DataFrame'>\n",
      "RangeIndex: 3583 entries, 0 to 3582\n",
      "Data columns (total 5 columns):\n",
      " #   Column        Non-Null Count  Dtype  \n",
      "---  ------        --------------  -----  \n",
      " 0   Code          3583 non-null   int64  \n",
      " 1   Country/Area  3583 non-null   object \n",
      " 2   Year          3583 non-null   int64  \n",
      " 3   Series        3583 non-null   object \n",
      " 4   Value         3583 non-null   float64\n",
      "dtypes: float64(1), int64(2), object(2)\n",
      "memory usage: 140.1+ KB\n"
     ]
    }
   ],
   "source": [
    "df1.info()"
   ]
  },
  {
   "cell_type": "code",
   "execution_count": 11,
   "metadata": {},
   "outputs": [
    {
     "data": {
      "text/html": [
       "<div>\n",
       "<style scoped>\n",
       "    .dataframe tbody tr th:only-of-type {\n",
       "        vertical-align: middle;\n",
       "    }\n",
       "\n",
       "    .dataframe tbody tr th {\n",
       "        vertical-align: top;\n",
       "    }\n",
       "\n",
       "    .dataframe thead th {\n",
       "        text-align: right;\n",
       "    }\n",
       "</style>\n",
       "<table border=\"1\" class=\"dataframe\">\n",
       "  <thead>\n",
       "    <tr style=\"text-align: right;\">\n",
       "      <th></th>\n",
       "      <th>Country/Area</th>\n",
       "      <th>Series</th>\n",
       "    </tr>\n",
       "  </thead>\n",
       "  <tbody>\n",
       "    <tr>\n",
       "      <th>count</th>\n",
       "      <td>3583</td>\n",
       "      <td>3583</td>\n",
       "    </tr>\n",
       "    <tr>\n",
       "      <th>unique</th>\n",
       "      <td>213</td>\n",
       "      <td>3</td>\n",
       "    </tr>\n",
       "    <tr>\n",
       "      <th>top</th>\n",
       "      <td>Afghanistan</td>\n",
       "      <td>Industry (% of gross value added)</td>\n",
       "    </tr>\n",
       "    <tr>\n",
       "      <th>freq</th>\n",
       "      <td>17</td>\n",
       "      <td>1270</td>\n",
       "    </tr>\n",
       "  </tbody>\n",
       "</table>\n",
       "</div>"
      ],
      "text/plain": [
       "       Country/Area                             Series\n",
       "count          3583                               3583\n",
       "unique          213                                  3\n",
       "top     Afghanistan  Industry (% of gross value added)\n",
       "freq             17                               1270"
      ]
     },
     "execution_count": 11,
     "metadata": {},
     "output_type": "execute_result"
    }
   ],
   "source": [
    "df1.describe(include='object')"
   ]
  },
  {
   "cell_type": "code",
   "execution_count": 12,
   "metadata": {},
   "outputs": [
    {
     "data": {
      "text/plain": [
       "Afghanistan                      17\n",
       "Pakistan                         17\n",
       "Nepal                            17\n",
       "Netherlands                      17\n",
       "New Caledonia                    17\n",
       "                                 ..\n",
       "Monaco                           12\n",
       "South Sudan                      12\n",
       "Sudan                            12\n",
       "Netherlands Antilles [former]    11\n",
       "Sudan [former]                    8\n",
       "Name: Country/Area, Length: 213, dtype: int64"
      ]
     },
     "execution_count": 12,
     "metadata": {},
     "output_type": "execute_result"
    }
   ],
   "source": [
    "df1['Country/Area'].value_counts()"
   ]
  },
  {
   "cell_type": "code",
   "execution_count": 13,
   "metadata": {},
   "outputs": [
    {
     "data": {
      "text/plain": [
       "Industry (% of gross value added)                                      1270\n",
       "Services (% of gross value added)                                      1266\n",
       "Agriculture, hunting, forestry and fishing (% of gross value added)    1047\n",
       "Name: Series, dtype: int64"
      ]
     },
     "execution_count": 13,
     "metadata": {},
     "output_type": "execute_result"
    }
   ],
   "source": [
    "df1['Series'].value_counts()"
   ]
  },
  {
   "cell_type": "code",
   "execution_count": 14,
   "metadata": {},
   "outputs": [
    {
     "data": {
      "text/plain": [
       "4      17\n",
       "586    17\n",
       "524    17\n",
       "528    17\n",
       "540    17\n",
       "       ..\n",
       "492    12\n",
       "728    12\n",
       "729    12\n",
       "530    11\n",
       "736     8\n",
       "Name: Code, Length: 213, dtype: int64"
      ]
     },
     "execution_count": 14,
     "metadata": {},
     "output_type": "execute_result"
    }
   ],
   "source": [
    "df1['Code'].value_counts()"
   ]
  },
  {
   "cell_type": "markdown",
   "metadata": {},
   "source": [
    "# Data Cleaning"
   ]
  },
  {
   "cell_type": "code",
   "execution_count": 15,
   "metadata": {},
   "outputs": [
    {
     "data": {
      "text/plain": [
       "array(['Afghanistan', 'Albania', 'Algeria', 'Andorra', 'Angola',\n",
       "       'Anguilla', 'Antigua and Barbuda', 'Argentina', 'Armenia', 'Aruba',\n",
       "       'Australia', 'Austria', 'Azerbaijan', 'Bahamas', 'Bahrain',\n",
       "       'Bangladesh', 'Barbados', 'Belarus', 'Belgium', 'Belize', 'Benin',\n",
       "       'Bermuda', 'Bhutan', 'Bolivia (Plurin. State of)',\n",
       "       'Bosnia and Herzegovina', 'Botswana', 'Brazil',\n",
       "       'British Virgin Islands', 'Brunei Darussalam', 'Bulgaria',\n",
       "       'Burkina Faso', 'Burundi', 'Cabo Verde', 'Cambodia', 'Cameroon',\n",
       "       'Canada', 'Cayman Islands', 'Central African Republic', 'Chad',\n",
       "       'Chile', 'China', 'China, Hong Kong SAR', 'China, Macao SAR',\n",
       "       'Colombia', 'Comoros', 'Congo', 'Cook Islands', 'Costa Rica',\n",
       "       \"Côte d'Ivoire\", 'Croatia', 'Cuba', 'Curaçao', 'Cyprus', 'Czechia',\n",
       "       \"Dem. People's Rep. Korea\", 'Dem. Rep. of the Congo', 'Denmark',\n",
       "       'Djibouti', 'Dominica', 'Dominican Republic', 'Ecuador', 'Egypt',\n",
       "       'El Salvador', 'Equatorial Guinea', 'Eritrea', 'Estonia',\n",
       "       'Eswatini', 'Ethiopia', 'Fiji', 'Finland', 'France',\n",
       "       'French Polynesia', 'Gabon', 'Gambia', 'Georgia', 'Germany',\n",
       "       'Ghana', 'Greece', 'Greenland', 'Grenada', 'Guatemala', 'Guinea',\n",
       "       'Guinea-Bissau', 'Guyana', 'Haiti', 'Honduras', 'Hungary',\n",
       "       'Iceland', 'India', 'Indonesia', 'Iran (Islamic Republic of)',\n",
       "       'Iraq', 'Ireland', 'Israel', 'Italy', 'Jamaica', 'Japan', 'Jordan',\n",
       "       'Kazakhstan', 'Kenya', 'Kiribati', 'Kosovo', 'Kuwait',\n",
       "       'Kyrgyzstan', \"Lao People's Dem. Rep.\", 'Latvia', 'Lebanon',\n",
       "       'Lesotho', 'Liberia', 'Libya', 'Liechtenstein', 'Lithuania',\n",
       "       'Luxembourg', 'Madagascar', 'Malawi', 'Malaysia', 'Maldives',\n",
       "       'Mali', 'Malta', 'Marshall Islands', 'Mauritania', 'Mauritius',\n",
       "       'Mexico', 'Micronesia (Fed. States of)', 'Monaco', 'Mongolia',\n",
       "       'Montenegro', 'Montserrat', 'Morocco', 'Mozambique', 'Myanmar',\n",
       "       'Namibia', 'Nauru', 'Nepal', 'Netherlands',\n",
       "       'Netherlands Antilles [former]', 'New Caledonia', 'New Zealand',\n",
       "       'Nicaragua', 'Niger', 'Nigeria', 'North Macedonia', 'Norway',\n",
       "       'Oman', 'Pakistan', 'Palau', 'Panama', 'Papua New Guinea',\n",
       "       'Paraguay', 'Peru', 'Philippines', 'Poland', 'Portugal',\n",
       "       'Puerto Rico', 'Qatar', 'Republic of Korea', 'Republic of Moldova',\n",
       "       'Romania', 'Russian Federation', 'Rwanda', 'Saint Kitts and Nevis',\n",
       "       'Saint Lucia', 'Saint Vincent & Grenadines', 'Samoa', 'San Marino',\n",
       "       'Sao Tome and Principe', 'Saudi Arabia', 'Senegal', 'Serbia',\n",
       "       'Seychelles', 'Sierra Leone', 'Singapore',\n",
       "       'Sint Maarten (Dutch part)', 'Slovakia', 'Slovenia',\n",
       "       'Solomon Islands', 'Somalia', 'South Africa', 'South Sudan',\n",
       "       'Spain', 'Sri Lanka', 'State of Palestine', 'Sudan',\n",
       "       'Sudan [former]', 'Suriname', 'Sweden', 'Switzerland',\n",
       "       'Syrian Arab Republic', 'Tajikistan', 'Thailand', 'Timor-Leste',\n",
       "       'Togo', 'Tonga', 'Trinidad and Tobago', 'Tunisia', 'Turkey',\n",
       "       'Turkmenistan', 'Turks and Caicos Islands', 'Tuvalu', 'Uganda',\n",
       "       'Ukraine', 'United Arab Emirates', 'United Kingdom',\n",
       "       'United States of America', 'Uruguay', 'Uzbekistan', 'Vanuatu',\n",
       "       'Venezuela (Boliv. Rep. of)', 'Viet Nam', 'Yemen', 'Zambia',\n",
       "       'Zanzibar', 'Zimbabwe'], dtype=object)"
      ]
     },
     "execution_count": 15,
     "metadata": {},
     "output_type": "execute_result"
    }
   ],
   "source": [
    "df1['Country/Area'].replace(\n",
    "    {'C�te d�Ivoire': \"Côte d'Ivoire\", \n",
    "    'Cura�ao': 'Curaçao'}, inplace=True\n",
    ")\n",
    "\n",
    "df1['Country/Area'].unique()"
   ]
  },
  {
   "cell_type": "code",
   "execution_count": 16,
   "metadata": {},
   "outputs": [
    {
     "data": {
      "text/plain": [
       "2010    637\n",
       "2015    632\n",
       "2018    632\n",
       "2019    632\n",
       "2005    631\n",
       "1995    419\n",
       "Name: Year, dtype: int64"
      ]
     },
     "execution_count": 16,
     "metadata": {},
     "output_type": "execute_result"
    }
   ],
   "source": [
    "df1['Year'].value_counts()"
   ]
  },
  {
   "cell_type": "code",
   "execution_count": 17,
   "metadata": {},
   "outputs": [
    {
     "data": {
      "text/plain": [
       "count    3583.000000\n",
       "mean       34.381412\n",
       "std        24.322040\n",
       "min        -6.500000\n",
       "25%        13.800000\n",
       "50%        30.000000\n",
       "75%        53.850000\n",
       "max        98.700000\n",
       "Name: Value, dtype: float64"
      ]
     },
     "execution_count": 17,
     "metadata": {},
     "output_type": "execute_result"
    }
   ],
   "source": [
    "df1['Value'].describe()"
   ]
  },
  {
   "cell_type": "code",
   "execution_count": 18,
   "metadata": {},
   "outputs": [
    {
     "data": {
      "text/plain": [
       "<AxesSubplot:xlabel='Value', ylabel='Density'>"
      ]
     },
     "execution_count": 18,
     "metadata": {},
     "output_type": "execute_result"
    },
    {
     "data": {
      "image/png": "[encoded data removed]",
      "text/plain": [
       "<Figure size 864x648 with 1 Axes>"
      ]
     },
     "metadata": {},
     "output_type": "display_data"
    }
   ],
   "source": [
    "sns.kdeplot(data=df1, x='Value', hue='Series')"
   ]
  },
  {
   "cell_type": "markdown",
   "metadata": {},
   "source": [
    "# Missing Values Exploration"
   ]
  },
  {
   "cell_type": "code",
   "execution_count": 19,
   "metadata": {},
   "outputs": [
    {
     "data": {
      "text/plain": [
       "Code            0\n",
       "Country/Area    0\n",
       "Year            0\n",
       "Series          0\n",
       "Value           0\n",
       "dtype: int64"
      ]
     },
     "execution_count": 19,
     "metadata": {},
     "output_type": "execute_result"
    }
   ],
   "source": [
    "df1.isna().sum()"
   ]
  },
  {
   "cell_type": "markdown",
   "metadata": {},
   "source": [
    "# Grouping and Aggregation"
   ]
  },
  {
   "cell_type": "code",
   "execution_count": 20,
   "metadata": {},
   "outputs": [
    {
     "data": {
      "text/html": [
       "<div>\n",
       "<style scoped>\n",
       "    .dataframe tbody tr th:only-of-type {\n",
       "        vertical-align: middle;\n",
       "    }\n",
       "\n",
       "    .dataframe tbody tr th {\n",
       "        vertical-align: top;\n",
       "    }\n",
       "\n",
       "    .dataframe thead th {\n",
       "        text-align: right;\n",
       "    }\n",
       "</style>\n",
       "<table border=\"1\" class=\"dataframe\">\n",
       "  <thead>\n",
       "    <tr style=\"text-align: right;\">\n",
       "      <th></th>\n",
       "      <th>Code</th>\n",
       "      <th>Country/Area</th>\n",
       "      <th>Year</th>\n",
       "      <th>Series</th>\n",
       "      <th>Value</th>\n",
       "    </tr>\n",
       "  </thead>\n",
       "  <tbody>\n",
       "    <tr>\n",
       "      <th>0</th>\n",
       "      <td>4</td>\n",
       "      <td>Afghanistan</td>\n",
       "      <td>2005</td>\n",
       "      <td>Agriculture, hunting, forestry and fishing (% ...</td>\n",
       "      <td>37.3</td>\n",
       "    </tr>\n",
       "    <tr>\n",
       "      <th>1</th>\n",
       "      <td>4</td>\n",
       "      <td>Afghanistan</td>\n",
       "      <td>2010</td>\n",
       "      <td>Agriculture, hunting, forestry and fishing (% ...</td>\n",
       "      <td>33.2</td>\n",
       "    </tr>\n",
       "    <tr>\n",
       "      <th>2</th>\n",
       "      <td>4</td>\n",
       "      <td>Afghanistan</td>\n",
       "      <td>2015</td>\n",
       "      <td>Agriculture, hunting, forestry and fishing (% ...</td>\n",
       "      <td>27.3</td>\n",
       "    </tr>\n",
       "    <tr>\n",
       "      <th>3</th>\n",
       "      <td>4</td>\n",
       "      <td>Afghanistan</td>\n",
       "      <td>2018</td>\n",
       "      <td>Agriculture, hunting, forestry and fishing (% ...</td>\n",
       "      <td>23.7</td>\n",
       "    </tr>\n",
       "    <tr>\n",
       "      <th>4</th>\n",
       "      <td>4</td>\n",
       "      <td>Afghanistan</td>\n",
       "      <td>2019</td>\n",
       "      <td>Agriculture, hunting, forestry and fishing (% ...</td>\n",
       "      <td>26.9</td>\n",
       "    </tr>\n",
       "    <tr>\n",
       "      <th>...</th>\n",
       "      <td>...</td>\n",
       "      <td>...</td>\n",
       "      <td>...</td>\n",
       "      <td>...</td>\n",
       "      <td>...</td>\n",
       "    </tr>\n",
       "    <tr>\n",
       "      <th>3577</th>\n",
       "      <td>716</td>\n",
       "      <td>Zimbabwe</td>\n",
       "      <td>1995</td>\n",
       "      <td>Services (% of gross value added)</td>\n",
       "      <td>64.7</td>\n",
       "    </tr>\n",
       "    <tr>\n",
       "      <th>3578</th>\n",
       "      <td>716</td>\n",
       "      <td>Zimbabwe</td>\n",
       "      <td>2005</td>\n",
       "      <td>Services (% of gross value added)</td>\n",
       "      <td>52.6</td>\n",
       "    </tr>\n",
       "    <tr>\n",
       "      <th>3579</th>\n",
       "      <td>716</td>\n",
       "      <td>Zimbabwe</td>\n",
       "      <td>2010</td>\n",
       "      <td>Services (% of gross value added)</td>\n",
       "      <td>65.6</td>\n",
       "    </tr>\n",
       "    <tr>\n",
       "      <th>3580</th>\n",
       "      <td>716</td>\n",
       "      <td>Zimbabwe</td>\n",
       "      <td>2015</td>\n",
       "      <td>Services (% of gross value added)</td>\n",
       "      <td>65.7</td>\n",
       "    </tr>\n",
       "    <tr>\n",
       "      <th>3581</th>\n",
       "      <td>716</td>\n",
       "      <td>Zimbabwe</td>\n",
       "      <td>2018</td>\n",
       "      <td>Services (% of gross value added)</td>\n",
       "      <td>67.9</td>\n",
       "    </tr>\n",
       "  </tbody>\n",
       "</table>\n",
       "<p>3167 rows × 5 columns</p>\n",
       "</div>"
      ],
      "text/plain": [
       "      Code Country/Area  Year  \\\n",
       "0        4  Afghanistan  2005   \n",
       "1        4  Afghanistan  2010   \n",
       "2        4  Afghanistan  2015   \n",
       "3        4  Afghanistan  2018   \n",
       "4        4  Afghanistan  2019   \n",
       "...    ...          ...   ...   \n",
       "3577   716     Zimbabwe  1995   \n",
       "3578   716     Zimbabwe  2005   \n",
       "3579   716     Zimbabwe  2010   \n",
       "3580   716     Zimbabwe  2015   \n",
       "3581   716     Zimbabwe  2018   \n",
       "\n",
       "                                                 Series  Value  \n",
       "0     Agriculture, hunting, forestry and fishing (% ...   37.3  \n",
       "1     Agriculture, hunting, forestry and fishing (% ...   33.2  \n",
       "2     Agriculture, hunting, forestry and fishing (% ...   27.3  \n",
       "3     Agriculture, hunting, forestry and fishing (% ...   23.7  \n",
       "4     Agriculture, hunting, forestry and fishing (% ...   26.9  \n",
       "...                                                 ...    ...  \n",
       "3577                  Services (% of gross value added)   64.7  \n",
       "3578                  Services (% of gross value added)   52.6  \n",
       "3579                  Services (% of gross value added)   65.6  \n",
       "3580                  Services (% of gross value added)   65.7  \n",
       "3581                  Services (% of gross value added)   67.9  \n",
       "\n",
       "[3167 rows x 5 columns]"
      ]
     },
     "execution_count": 20,
     "metadata": {},
     "output_type": "execute_result"
    }
   ],
   "source": [
    "df1_grpd = df1.groupby(['Country/Area', 'Series'])\n",
    "df1_grpd.head()"
   ]
  },
  {
   "cell_type": "markdown",
   "metadata": {},
   "source": [
    "# Data Visualization"
   ]
  },
  {
   "cell_type": "code",
   "execution_count": 21,
   "metadata": {},
   "outputs": [],
   "source": [
    "from matplotlib.ticker import FuncFormatter\n",
    "\n",
    "# y-ticker function\n",
    "def percentage(x, pos):\n",
    "    return '%0.0f%%' % (x * 1)\n",
    "\n",
    "format_pct = FuncFormatter(percentage)\n",
    "\n",
    "\n",
    "# bar plot helper function\n",
    "def plot_bar(data, x, y, hue=None, color=None, title=None, xlabel=None, ylabel=None, formatter=None):\n",
    "    fig, ax = plt.subplots()\n",
    "    fig.autofmt_xdate()\n",
    "\n",
    "    # plot bar chart\n",
    "    sns.barplot(\n",
    "    data=data, \n",
    "    x=x, y=y, \n",
    "    hue=hue, color=color,\n",
    "    ax=ax)\n",
    "\n",
    "    # label plot axes\n",
    "    ax.set(title=title, xlabel=xlabel, ylabel=ylabel)\n",
    "\n",
    "    # despine axis\n",
    "    sns.despine(bottom=True, left=True)\n",
    "\n",
    "    # y-axis formatter\n",
    "    ax.yaxis.set_major_formatter(formatter=formatter)\n",
    "\n",
    "    return plot_bar"
   ]
  },
  {
   "cell_type": "code",
   "execution_count": 22,
   "metadata": {},
   "outputs": [
    {
     "data": {
      "text/plain": [
       "<function __main__.plot_bar(data, x, y, hue=None, color=None, title=None, xlabel=None, ylabel=None, formatter=None)>"
      ]
     },
     "execution_count": 22,
     "metadata": {},
     "output_type": "execute_result"
    },
    {
     "data": {
      "image/png": "[encoded data removed]",
      "text/plain": [
       "<Figure size 864x648 with 1 Axes>"
      ]
     },
     "metadata": {},
     "output_type": "display_data"
    }
   ],
   "source": [
    "plot_bar(\n",
    "    data=df1_grpd.get_group(('Germany', 'Agriculture, hunting, forestry and fishing (% of gross value added)')),\n",
    "    x='Year', y='Value',\n",
    "    hue='Series',\n",
    "    title='Germany', xlabel='Year', ylabel='Value',\n",
    "    formatter=format_pct\n",
    ")"
   ]
  },
  {
   "cell_type": "code",
   "execution_count": 23,
   "metadata": {},
   "outputs": [
    {
     "data": {
      "text/plain": [
       "<function __main__.plot_bar(data, x, y, hue=None, color=None, title=None, xlabel=None, ylabel=None, formatter=None)>"
      ]
     },
     "execution_count": 23,
     "metadata": {},
     "output_type": "execute_result"
    },
    {
     "data": {
      "image/png": "[encoded data removed]",
      "text/plain": [
       "<Figure size 864x648 with 1 Axes>"
      ]
     },
     "metadata": {},
     "output_type": "display_data"
    }
   ],
   "source": [
    "plot_bar(\n",
    "    data=df1_grpd.get_group(('Nigeria', 'Industry (% of gross value added)')),\n",
    "    x='Year', y='Value',\n",
    "    hue='Series',\n",
    "    title='Nigeria', xlabel='Year', ylabel='Value',\n",
    "    formatter=format_pct\n",
    ")"
   ]
  },
  {
   "cell_type": "code",
   "execution_count": 24,
   "metadata": {},
   "outputs": [
    {
     "data": {
      "text/plain": [
       "<function __main__.plot_bar(data, x, y, hue=None, color=None, title=None, xlabel=None, ylabel=None, formatter=None)>"
      ]
     },
     "execution_count": 24,
     "metadata": {},
     "output_type": "execute_result"
    },
    {
     "data": {
      "image/png": "[encoded data removed]",
      "text/plain": [
       "<Figure size 864x648 with 1 Axes>"
      ]
     },
     "metadata": {},
     "output_type": "display_data"
    }
   ],
   "source": [
    "plot_bar(\n",
    "    data=df1_grpd.get_group(('China', 'Services (% of gross value added)')),\n",
    "    x='Year', y='Value',\n",
    "    hue='Series',\n",
    "    title='China', xlabel='Year', ylabel='Value',\n",
    "    formatter=format_pct\n",
    ")"
   ]
  }
 ],
 "metadata": {
  "interpreter": {
   "hash": "3fe9daace87ea8cb12e037f7452ad9bcd52f59aa894a611255d1461de3a9065e"
  },
  "kernelspec": {
   "display_name": "Python 3.9.7 ('DS')",
   "language": "python",
   "name": "python3"
  },
  "language_info": {
   "codemirror_mode": {
    "name": "ipython",
    "version": 3
   },
   "file_extension": ".py",
   "mimetype": "text/x-python",
   "name": "python",
   "nbconvert_exporter": "python",
   "pygments_lexer": "ipython3",
   "version": "3.9.12"
  },
  "orig_nbformat": 4
 },
 "nbformat": 4,
 "nbformat_minor": 2
}
