{
 "cells": [
  {
   "cell_type": "markdown",
   "metadata": {},
   "source": [
    "# Patents"
   ]
  },
  {
   "cell_type": "markdown",
   "metadata": {},
   "source": [
    "# Import Libraries"
   ]
  },
  {
   "cell_type": "code",
   "execution_count": 1,
   "metadata": {},
   "outputs": [],
   "source": [
    "import numpy as np\n",
    "import pandas as pd\n",
    "import matplotlib.pyplot as plt\n",
    "import seaborn as sns\n",
    "import os\n",
    "import warnings"
   ]
  },
  {
   "cell_type": "markdown",
   "metadata": {},
   "source": [
    "# Options and Settings"
   ]
  },
  {
   "cell_type": "code",
   "execution_count": 2,
   "metadata": {},
   "outputs": [],
   "source": [
    "%matplotlib inline\n",
    "plt.style.use('ggplot')\n",
    "plt.rcParams['figure.autolayout'] = True\n",
    "plt.rcParams['figure.figsize'] = [12, 9]\n",
    "plt.rcParams['font.size'] = 12\n",
    "path = os.getcwd()                                         # get current working directory\n",
    "warnings.simplefilter('ignore')"
   ]
  },
  {
   "cell_type": "markdown",
   "metadata": {},
   "source": [
    "# Import Data"
   ]
  },
  {
   "cell_type": "code",
   "execution_count": 3,
   "metadata": {},
   "outputs": [],
   "source": [
    "filepath = os.path.join('datasets', 'Patents.csv')\n",
    "df = pd.read_csv(filepath)"
   ]
  },
  {
   "cell_type": "markdown",
   "metadata": {},
   "source": [
    "# Head and Tail"
   ]
  },
  {
   "cell_type": "code",
   "execution_count": 4,
   "metadata": {},
   "outputs": [
    {
     "data": {
      "text/html": [
       "<div>\n",
       "<style scoped>\n",
       "    .dataframe tbody tr th:only-of-type {\n",
       "        vertical-align: middle;\n",
       "    }\n",
       "\n",
       "    .dataframe tbody tr th {\n",
       "        vertical-align: top;\n",
       "    }\n",
       "\n",
       "    .dataframe thead th {\n",
       "        text-align: right;\n",
       "    }\n",
       "</style>\n",
       "<table border=\"1\" class=\"dataframe\">\n",
       "  <thead>\n",
       "    <tr style=\"text-align: right;\">\n",
       "      <th></th>\n",
       "      <th>Region/Country/Area</th>\n",
       "      <th>Unnamed: 1</th>\n",
       "      <th>Year</th>\n",
       "      <th>Series</th>\n",
       "      <th>Value</th>\n",
       "      <th>Footnotes</th>\n",
       "      <th>Source</th>\n",
       "    </tr>\n",
       "  </thead>\n",
       "  <tbody>\n",
       "    <tr>\n",
       "      <th>0</th>\n",
       "      <td>1</td>\n",
       "      <td>Total, all countries or areas</td>\n",
       "      <td>1985</td>\n",
       "      <td>Grants of patents (number)</td>\n",
       "      <td>397580</td>\n",
       "      <td>NaN</td>\n",
       "      <td>World Intellectual Property Organization (WIPO...</td>\n",
       "    </tr>\n",
       "    <tr>\n",
       "      <th>1</th>\n",
       "      <td>1</td>\n",
       "      <td>Total, all countries or areas</td>\n",
       "      <td>1995</td>\n",
       "      <td>Grants of patents (number)</td>\n",
       "      <td>430500</td>\n",
       "      <td>NaN</td>\n",
       "      <td>World Intellectual Property Organization (WIPO...</td>\n",
       "    </tr>\n",
       "    <tr>\n",
       "      <th>2</th>\n",
       "      <td>1</td>\n",
       "      <td>Total, all countries or areas</td>\n",
       "      <td>2005</td>\n",
       "      <td>Grants of patents (number)</td>\n",
       "      <td>633100</td>\n",
       "      <td>NaN</td>\n",
       "      <td>World Intellectual Property Organization (WIPO...</td>\n",
       "    </tr>\n",
       "    <tr>\n",
       "      <th>3</th>\n",
       "      <td>1</td>\n",
       "      <td>Total, all countries or areas</td>\n",
       "      <td>2010</td>\n",
       "      <td>Grants of patents (number)</td>\n",
       "      <td>914900</td>\n",
       "      <td>NaN</td>\n",
       "      <td>World Intellectual Property Organization (WIPO...</td>\n",
       "    </tr>\n",
       "    <tr>\n",
       "      <th>4</th>\n",
       "      <td>1</td>\n",
       "      <td>Total, all countries or areas</td>\n",
       "      <td>2017</td>\n",
       "      <td>Grants of patents (number)</td>\n",
       "      <td>1397900</td>\n",
       "      <td>NaN</td>\n",
       "      <td>World Intellectual Property Organization (WIPO...</td>\n",
       "    </tr>\n",
       "    <tr>\n",
       "      <th>...</th>\n",
       "      <td>...</td>\n",
       "      <td>...</td>\n",
       "      <td>...</td>\n",
       "      <td>...</td>\n",
       "      <td>...</td>\n",
       "      <td>...</td>\n",
       "      <td>...</td>\n",
       "    </tr>\n",
       "    <tr>\n",
       "      <th>1909</th>\n",
       "      <td>894</td>\n",
       "      <td>Zambia</td>\n",
       "      <td>2019</td>\n",
       "      <td>Patents in force (number)</td>\n",
       "      <td>7726</td>\n",
       "      <td>NaN</td>\n",
       "      <td>World Intellectual Property Organization (WIPO...</td>\n",
       "    </tr>\n",
       "    <tr>\n",
       "      <th>1910</th>\n",
       "      <td>716</td>\n",
       "      <td>Zimbabwe</td>\n",
       "      <td>1985</td>\n",
       "      <td>Resident patent filings (per million population)</td>\n",
       "      <td>4</td>\n",
       "      <td>NaN</td>\n",
       "      <td>World Intellectual Property Organization (WIPO...</td>\n",
       "    </tr>\n",
       "    <tr>\n",
       "      <th>1911</th>\n",
       "      <td>716</td>\n",
       "      <td>Zimbabwe</td>\n",
       "      <td>1995</td>\n",
       "      <td>Resident patent filings (per million population)</td>\n",
       "      <td>5</td>\n",
       "      <td>NaN</td>\n",
       "      <td>World Intellectual Property Organization (WIPO...</td>\n",
       "    </tr>\n",
       "    <tr>\n",
       "      <th>1912</th>\n",
       "      <td>716</td>\n",
       "      <td>Zimbabwe</td>\n",
       "      <td>1985</td>\n",
       "      <td>Grants of patents (number)</td>\n",
       "      <td>212</td>\n",
       "      <td>NaN</td>\n",
       "      <td>World Intellectual Property Organization (WIPO...</td>\n",
       "    </tr>\n",
       "    <tr>\n",
       "      <th>1913</th>\n",
       "      <td>716</td>\n",
       "      <td>Zimbabwe</td>\n",
       "      <td>1995</td>\n",
       "      <td>Grants of patents (number)</td>\n",
       "      <td>105</td>\n",
       "      <td>NaN</td>\n",
       "      <td>World Intellectual Property Organization (WIPO...</td>\n",
       "    </tr>\n",
       "  </tbody>\n",
       "</table>\n",
       "<p>1914 rows × 7 columns</p>\n",
       "</div>"
      ],
      "text/plain": [
       "      Region/Country/Area                     Unnamed: 1  Year  \\\n",
       "0                       1  Total, all countries or areas  1985   \n",
       "1                       1  Total, all countries or areas  1995   \n",
       "2                       1  Total, all countries or areas  2005   \n",
       "3                       1  Total, all countries or areas  2010   \n",
       "4                       1  Total, all countries or areas  2017   \n",
       "...                   ...                            ...   ...   \n",
       "1909                  894                         Zambia  2019   \n",
       "1910                  716                       Zimbabwe  1985   \n",
       "1911                  716                       Zimbabwe  1995   \n",
       "1912                  716                       Zimbabwe  1985   \n",
       "1913                  716                       Zimbabwe  1995   \n",
       "\n",
       "                                                Series    Value Footnotes  \\\n",
       "0                           Grants of patents (number)   397580       NaN   \n",
       "1                           Grants of patents (number)   430500       NaN   \n",
       "2                           Grants of patents (number)   633100       NaN   \n",
       "3                           Grants of patents (number)   914900       NaN   \n",
       "4                           Grants of patents (number)  1397900       NaN   \n",
       "...                                                ...      ...       ...   \n",
       "1909                         Patents in force (number)     7726       NaN   \n",
       "1910  Resident patent filings (per million population)        4       NaN   \n",
       "1911  Resident patent filings (per million population)        5       NaN   \n",
       "1912                        Grants of patents (number)      212       NaN   \n",
       "1913                        Grants of patents (number)      105       NaN   \n",
       "\n",
       "                                                 Source  \n",
       "0     World Intellectual Property Organization (WIPO...  \n",
       "1     World Intellectual Property Organization (WIPO...  \n",
       "2     World Intellectual Property Organization (WIPO...  \n",
       "3     World Intellectual Property Organization (WIPO...  \n",
       "4     World Intellectual Property Organization (WIPO...  \n",
       "...                                                 ...  \n",
       "1909  World Intellectual Property Organization (WIPO...  \n",
       "1910  World Intellectual Property Organization (WIPO...  \n",
       "1911  World Intellectual Property Organization (WIPO...  \n",
       "1912  World Intellectual Property Organization (WIPO...  \n",
       "1913  World Intellectual Property Organization (WIPO...  \n",
       "\n",
       "[1914 rows x 7 columns]"
      ]
     },
     "execution_count": 4,
     "metadata": {},
     "output_type": "execute_result"
    }
   ],
   "source": [
    "df"
   ]
  },
  {
   "cell_type": "code",
   "execution_count": 5,
   "metadata": {},
   "outputs": [
    {
     "data": {
      "text/plain": [
       "(1914, 7)"
      ]
     },
     "execution_count": 5,
     "metadata": {},
     "output_type": "execute_result"
    }
   ],
   "source": [
    "df.shape"
   ]
  },
  {
   "cell_type": "code",
   "execution_count": 6,
   "metadata": {},
   "outputs": [
    {
     "name": "stdout",
     "output_type": "stream",
     "text": [
      "<class 'pandas.core.frame.DataFrame'>\n",
      "RangeIndex: 1914 entries, 0 to 1913\n",
      "Data columns (total 7 columns):\n",
      " #   Column               Non-Null Count  Dtype \n",
      "---  ------               --------------  ----- \n",
      " 0   Region/Country/Area  1914 non-null   int64 \n",
      " 1   Unnamed: 1           1914 non-null   object\n",
      " 2   Year                 1914 non-null   int64 \n",
      " 3   Series               1914 non-null   object\n",
      " 4   Value                1914 non-null   int64 \n",
      " 5   Footnotes            19 non-null     object\n",
      " 6   Source               1914 non-null   object\n",
      "dtypes: int64(3), object(4)\n",
      "memory usage: 104.8+ KB\n"
     ]
    }
   ],
   "source": [
    "df.info()"
   ]
  },
  {
   "cell_type": "code",
   "execution_count": 7,
   "metadata": {},
   "outputs": [
    {
     "data": {
      "text/html": [
       "<div>\n",
       "<style scoped>\n",
       "    .dataframe tbody tr th:only-of-type {\n",
       "        vertical-align: middle;\n",
       "    }\n",
       "\n",
       "    .dataframe tbody tr th {\n",
       "        vertical-align: top;\n",
       "    }\n",
       "\n",
       "    .dataframe thead th {\n",
       "        text-align: right;\n",
       "    }\n",
       "</style>\n",
       "<table border=\"1\" class=\"dataframe\">\n",
       "  <thead>\n",
       "    <tr style=\"text-align: right;\">\n",
       "      <th></th>\n",
       "      <th>Code</th>\n",
       "      <th>Region/Country/Area</th>\n",
       "      <th>Year</th>\n",
       "      <th>Series</th>\n",
       "      <th>Value</th>\n",
       "      <th>Footnotes</th>\n",
       "      <th>Source</th>\n",
       "    </tr>\n",
       "  </thead>\n",
       "  <tbody>\n",
       "    <tr>\n",
       "      <th>0</th>\n",
       "      <td>1</td>\n",
       "      <td>Total, all countries or areas</td>\n",
       "      <td>1985</td>\n",
       "      <td>Grants of patents (number)</td>\n",
       "      <td>397580</td>\n",
       "      <td>NaN</td>\n",
       "      <td>World Intellectual Property Organization (WIPO...</td>\n",
       "    </tr>\n",
       "    <tr>\n",
       "      <th>1</th>\n",
       "      <td>1</td>\n",
       "      <td>Total, all countries or areas</td>\n",
       "      <td>1995</td>\n",
       "      <td>Grants of patents (number)</td>\n",
       "      <td>430500</td>\n",
       "      <td>NaN</td>\n",
       "      <td>World Intellectual Property Organization (WIPO...</td>\n",
       "    </tr>\n",
       "    <tr>\n",
       "      <th>2</th>\n",
       "      <td>1</td>\n",
       "      <td>Total, all countries or areas</td>\n",
       "      <td>2005</td>\n",
       "      <td>Grants of patents (number)</td>\n",
       "      <td>633100</td>\n",
       "      <td>NaN</td>\n",
       "      <td>World Intellectual Property Organization (WIPO...</td>\n",
       "    </tr>\n",
       "    <tr>\n",
       "      <th>3</th>\n",
       "      <td>1</td>\n",
       "      <td>Total, all countries or areas</td>\n",
       "      <td>2010</td>\n",
       "      <td>Grants of patents (number)</td>\n",
       "      <td>914900</td>\n",
       "      <td>NaN</td>\n",
       "      <td>World Intellectual Property Organization (WIPO...</td>\n",
       "    </tr>\n",
       "    <tr>\n",
       "      <th>4</th>\n",
       "      <td>1</td>\n",
       "      <td>Total, all countries or areas</td>\n",
       "      <td>2017</td>\n",
       "      <td>Grants of patents (number)</td>\n",
       "      <td>1397900</td>\n",
       "      <td>NaN</td>\n",
       "      <td>World Intellectual Property Organization (WIPO...</td>\n",
       "    </tr>\n",
       "  </tbody>\n",
       "</table>\n",
       "</div>"
      ],
      "text/plain": [
       "   Code            Region/Country/Area  Year                      Series  \\\n",
       "0     1  Total, all countries or areas  1985  Grants of patents (number)   \n",
       "1     1  Total, all countries or areas  1995  Grants of patents (number)   \n",
       "2     1  Total, all countries or areas  2005  Grants of patents (number)   \n",
       "3     1  Total, all countries or areas  2010  Grants of patents (number)   \n",
       "4     1  Total, all countries or areas  2017  Grants of patents (number)   \n",
       "\n",
       "     Value Footnotes                                             Source  \n",
       "0   397580       NaN  World Intellectual Property Organization (WIPO...  \n",
       "1   430500       NaN  World Intellectual Property Organization (WIPO...  \n",
       "2   633100       NaN  World Intellectual Property Organization (WIPO...  \n",
       "3   914900       NaN  World Intellectual Property Organization (WIPO...  \n",
       "4  1397900       NaN  World Intellectual Property Organization (WIPO...  "
      ]
     },
     "execution_count": 7,
     "metadata": {},
     "output_type": "execute_result"
    }
   ],
   "source": [
    "df.rename(columns={'Region/Country/Area': 'Code', \n",
    "                   'Unnamed: 1': 'Region/Country/Area',\n",
    "                   }, inplace=True)\n",
    "\n",
    "df.head()"
   ]
  },
  {
   "cell_type": "code",
   "execution_count": 8,
   "metadata": {},
   "outputs": [
    {
     "data": {
      "text/html": [
       "<div>\n",
       "<style scoped>\n",
       "    .dataframe tbody tr th:only-of-type {\n",
       "        vertical-align: middle;\n",
       "    }\n",
       "\n",
       "    .dataframe tbody tr th {\n",
       "        vertical-align: top;\n",
       "    }\n",
       "\n",
       "    .dataframe thead th {\n",
       "        text-align: right;\n",
       "    }\n",
       "</style>\n",
       "<table border=\"1\" class=\"dataframe\">\n",
       "  <thead>\n",
       "    <tr style=\"text-align: right;\">\n",
       "      <th></th>\n",
       "      <th>Code</th>\n",
       "      <th>Region/Country/Area</th>\n",
       "      <th>Year</th>\n",
       "      <th>Series</th>\n",
       "      <th>Value</th>\n",
       "    </tr>\n",
       "  </thead>\n",
       "  <tbody>\n",
       "    <tr>\n",
       "      <th>0</th>\n",
       "      <td>1</td>\n",
       "      <td>Total, all countries or areas</td>\n",
       "      <td>1985</td>\n",
       "      <td>Grants of patents (number)</td>\n",
       "      <td>397580</td>\n",
       "    </tr>\n",
       "    <tr>\n",
       "      <th>1</th>\n",
       "      <td>1</td>\n",
       "      <td>Total, all countries or areas</td>\n",
       "      <td>1995</td>\n",
       "      <td>Grants of patents (number)</td>\n",
       "      <td>430500</td>\n",
       "    </tr>\n",
       "    <tr>\n",
       "      <th>2</th>\n",
       "      <td>1</td>\n",
       "      <td>Total, all countries or areas</td>\n",
       "      <td>2005</td>\n",
       "      <td>Grants of patents (number)</td>\n",
       "      <td>633100</td>\n",
       "    </tr>\n",
       "    <tr>\n",
       "      <th>3</th>\n",
       "      <td>1</td>\n",
       "      <td>Total, all countries or areas</td>\n",
       "      <td>2010</td>\n",
       "      <td>Grants of patents (number)</td>\n",
       "      <td>914900</td>\n",
       "    </tr>\n",
       "    <tr>\n",
       "      <th>4</th>\n",
       "      <td>1</td>\n",
       "      <td>Total, all countries or areas</td>\n",
       "      <td>2017</td>\n",
       "      <td>Grants of patents (number)</td>\n",
       "      <td>1397900</td>\n",
       "    </tr>\n",
       "    <tr>\n",
       "      <th>...</th>\n",
       "      <td>...</td>\n",
       "      <td>...</td>\n",
       "      <td>...</td>\n",
       "      <td>...</td>\n",
       "      <td>...</td>\n",
       "    </tr>\n",
       "    <tr>\n",
       "      <th>1909</th>\n",
       "      <td>894</td>\n",
       "      <td>Zambia</td>\n",
       "      <td>2019</td>\n",
       "      <td>Patents in force (number)</td>\n",
       "      <td>7726</td>\n",
       "    </tr>\n",
       "    <tr>\n",
       "      <th>1910</th>\n",
       "      <td>716</td>\n",
       "      <td>Zimbabwe</td>\n",
       "      <td>1985</td>\n",
       "      <td>Resident patent filings (per million population)</td>\n",
       "      <td>4</td>\n",
       "    </tr>\n",
       "    <tr>\n",
       "      <th>1911</th>\n",
       "      <td>716</td>\n",
       "      <td>Zimbabwe</td>\n",
       "      <td>1995</td>\n",
       "      <td>Resident patent filings (per million population)</td>\n",
       "      <td>5</td>\n",
       "    </tr>\n",
       "    <tr>\n",
       "      <th>1912</th>\n",
       "      <td>716</td>\n",
       "      <td>Zimbabwe</td>\n",
       "      <td>1985</td>\n",
       "      <td>Grants of patents (number)</td>\n",
       "      <td>212</td>\n",
       "    </tr>\n",
       "    <tr>\n",
       "      <th>1913</th>\n",
       "      <td>716</td>\n",
       "      <td>Zimbabwe</td>\n",
       "      <td>1995</td>\n",
       "      <td>Grants of patents (number)</td>\n",
       "      <td>105</td>\n",
       "    </tr>\n",
       "  </tbody>\n",
       "</table>\n",
       "<p>1914 rows × 5 columns</p>\n",
       "</div>"
      ],
      "text/plain": [
       "      Code            Region/Country/Area  Year  \\\n",
       "0        1  Total, all countries or areas  1985   \n",
       "1        1  Total, all countries or areas  1995   \n",
       "2        1  Total, all countries or areas  2005   \n",
       "3        1  Total, all countries or areas  2010   \n",
       "4        1  Total, all countries or areas  2017   \n",
       "...    ...                            ...   ...   \n",
       "1909   894                         Zambia  2019   \n",
       "1910   716                       Zimbabwe  1985   \n",
       "1911   716                       Zimbabwe  1995   \n",
       "1912   716                       Zimbabwe  1985   \n",
       "1913   716                       Zimbabwe  1995   \n",
       "\n",
       "                                                Series    Value  \n",
       "0                           Grants of patents (number)   397580  \n",
       "1                           Grants of patents (number)   430500  \n",
       "2                           Grants of patents (number)   633100  \n",
       "3                           Grants of patents (number)   914900  \n",
       "4                           Grants of patents (number)  1397900  \n",
       "...                                                ...      ...  \n",
       "1909                         Patents in force (number)     7726  \n",
       "1910  Resident patent filings (per million population)        4  \n",
       "1911  Resident patent filings (per million population)        5  \n",
       "1912                        Grants of patents (number)      212  \n",
       "1913                        Grants of patents (number)      105  \n",
       "\n",
       "[1914 rows x 5 columns]"
      ]
     },
     "execution_count": 8,
     "metadata": {},
     "output_type": "execute_result"
    }
   ],
   "source": [
    "df1 = df[['Code', 'Region/Country/Area', 'Year', 'Series', 'Value']]\n",
    "df1"
   ]
  },
  {
   "cell_type": "code",
   "execution_count": 9,
   "metadata": {},
   "outputs": [
    {
     "data": {
      "text/plain": [
       "(1914, 5)"
      ]
     },
     "execution_count": 9,
     "metadata": {},
     "output_type": "execute_result"
    }
   ],
   "source": [
    "df1.shape"
   ]
  },
  {
   "cell_type": "code",
   "execution_count": 10,
   "metadata": {},
   "outputs": [
    {
     "name": "stdout",
     "output_type": "stream",
     "text": [
      "<class 'pandas.core.frame.DataFrame'>\n",
      "RangeIndex: 1914 entries, 0 to 1913\n",
      "Data columns (total 5 columns):\n",
      " #   Column               Non-Null Count  Dtype \n",
      "---  ------               --------------  ----- \n",
      " 0   Code                 1914 non-null   int64 \n",
      " 1   Region/Country/Area  1914 non-null   object\n",
      " 2   Year                 1914 non-null   int64 \n",
      " 3   Series               1914 non-null   object\n",
      " 4   Value                1914 non-null   int64 \n",
      "dtypes: int64(3), object(2)\n",
      "memory usage: 74.9+ KB\n"
     ]
    }
   ],
   "source": [
    "df1.info()"
   ]
  },
  {
   "cell_type": "code",
   "execution_count": 11,
   "metadata": {},
   "outputs": [
    {
     "data": {
      "text/html": [
       "<div>\n",
       "<style scoped>\n",
       "    .dataframe tbody tr th:only-of-type {\n",
       "        vertical-align: middle;\n",
       "    }\n",
       "\n",
       "    .dataframe tbody tr th {\n",
       "        vertical-align: top;\n",
       "    }\n",
       "\n",
       "    .dataframe thead th {\n",
       "        text-align: right;\n",
       "    }\n",
       "</style>\n",
       "<table border=\"1\" class=\"dataframe\">\n",
       "  <thead>\n",
       "    <tr style=\"text-align: right;\">\n",
       "      <th></th>\n",
       "      <th>Region/Country/Area</th>\n",
       "      <th>Series</th>\n",
       "    </tr>\n",
       "  </thead>\n",
       "  <tbody>\n",
       "    <tr>\n",
       "      <th>count</th>\n",
       "      <td>1914</td>\n",
       "      <td>1914</td>\n",
       "    </tr>\n",
       "    <tr>\n",
       "      <th>unique</th>\n",
       "      <td>168</td>\n",
       "      <td>3</td>\n",
       "    </tr>\n",
       "    <tr>\n",
       "      <th>top</th>\n",
       "      <td>Germany</td>\n",
       "      <td>Grants of patents (number)</td>\n",
       "    </tr>\n",
       "    <tr>\n",
       "      <th>freq</th>\n",
       "      <td>19</td>\n",
       "      <td>766</td>\n",
       "    </tr>\n",
       "  </tbody>\n",
       "</table>\n",
       "</div>"
      ],
      "text/plain": [
       "       Region/Country/Area                      Series\n",
       "count                 1914                        1914\n",
       "unique                 168                           3\n",
       "top                Germany  Grants of patents (number)\n",
       "freq                    19                         766"
      ]
     },
     "execution_count": 11,
     "metadata": {},
     "output_type": "execute_result"
    }
   ],
   "source": [
    "df1.describe(include='object')"
   ]
  },
  {
   "cell_type": "code",
   "execution_count": 12,
   "metadata": {},
   "outputs": [
    {
     "data": {
      "text/plain": [
       "Germany                     19\n",
       "India                       19\n",
       "Portugal                    19\n",
       "Spain                       19\n",
       "Singapore                   19\n",
       "                            ..\n",
       "Sierra Leone                 1\n",
       "Fiji                         1\n",
       "Central African Republic     1\n",
       "Chad                         1\n",
       "Eswatini                     1\n",
       "Name: Region/Country/Area, Length: 168, dtype: int64"
      ]
     },
     "execution_count": 12,
     "metadata": {},
     "output_type": "execute_result"
    }
   ],
   "source": [
    "df1['Region/Country/Area'].value_counts()"
   ]
  },
  {
   "cell_type": "code",
   "execution_count": 13,
   "metadata": {},
   "outputs": [
    {
     "data": {
      "text/plain": [
       "Grants of patents (number)                          766\n",
       "Resident patent filings (per million population)    702\n",
       "Patents in force (number)                           446\n",
       "Name: Series, dtype: int64"
      ]
     },
     "execution_count": 13,
     "metadata": {},
     "output_type": "execute_result"
    }
   ],
   "source": [
    "df1['Series'].value_counts()"
   ]
  },
  {
   "cell_type": "code",
   "execution_count": 14,
   "metadata": {},
   "outputs": [
    {
     "data": {
      "text/plain": [
       "276    19\n",
       "356    19\n",
       "620    19\n",
       "724    19\n",
       "702    19\n",
       "       ..\n",
       "694     1\n",
       "242     1\n",
       "140     1\n",
       "148     1\n",
       "748     1\n",
       "Name: Code, Length: 168, dtype: int64"
      ]
     },
     "execution_count": 14,
     "metadata": {},
     "output_type": "execute_result"
    }
   ],
   "source": [
    "df1['Code'].value_counts()"
   ]
  },
  {
   "cell_type": "markdown",
   "metadata": {},
   "source": [
    "# Data Cleaning"
   ]
  },
  {
   "cell_type": "code",
   "execution_count": 15,
   "metadata": {},
   "outputs": [
    {
     "data": {
      "text/plain": [
       "array(['Total, all countries or areas', 'Africa',\n",
       "       'Latin America & the Caribbean', 'Asia', 'Europe', 'Oceania',\n",
       "       'Albania', 'Algeria', 'Andorra', 'Antigua and Barbuda',\n",
       "       'Argentina', 'Armenia', 'Australia', 'Austria', 'Azerbaijan',\n",
       "       'Bahamas', 'Bahrain', 'Bangladesh', 'Barbados', 'Belarus',\n",
       "       'Belgium', 'Belize', 'Benin', 'Bhutan',\n",
       "       'Bolivia (Plurin. State of)', 'Bosnia and Herzegovina', 'Botswana',\n",
       "       'Brazil', 'Brunei Darussalam', 'Bulgaria', 'Burundi', 'Cabo Verde',\n",
       "       'Cambodia', 'Cameroon', 'Canada', 'Central African Republic',\n",
       "       'Chad', 'Chile', 'China', 'China, Hong Kong SAR',\n",
       "       'China, Macao SAR', 'Colombia', 'Congo', 'Costa Rica',\n",
       "       'Côte d’Ivoire', 'Croatia', 'Cuba', 'Cyprus', 'Czechia',\n",
       "       \"Dem. People's Rep. Korea\", 'Denmark', 'Dominican Republic',\n",
       "       'Ecuador', 'Egypt', 'El Salvador', 'Estonia', 'Eswatini',\n",
       "       'Ethiopia', 'Fiji', 'Finland', 'France', 'Gabon', 'Gambia',\n",
       "       'Georgia', 'Germany', 'Ghana', 'Greece', 'Guatemala', 'Guyana',\n",
       "       'Haiti', 'Honduras', 'Hungary', 'Iceland', 'India', 'Indonesia',\n",
       "       'Iran (Islamic Republic of)', 'Iraq', 'Ireland', 'Israel', 'Italy',\n",
       "       'Jamaica', 'Japan', 'Jordan', 'Kazakhstan', 'Kenya', 'Kiribati',\n",
       "       'Kuwait', 'Kyrgyzstan', \"Lao People's Dem. Rep.\", 'Latvia',\n",
       "       'Lesotho', 'Libya', 'Liechtenstein', 'Lithuania', 'Luxembourg',\n",
       "       'Madagascar', 'Malawi', 'Malaysia', 'Malta', 'Mauritius', 'Mexico',\n",
       "       'Monaco', 'Mongolia', 'Montenegro', 'Morocco', 'Mozambique',\n",
       "       'Namibia', 'Nepal', 'Netherlands', 'New Zealand', 'Nicaragua',\n",
       "       'Nigeria', 'North Macedonia', 'Norway', 'Oman', 'Pakistan',\n",
       "       'Panama', 'Paraguay', 'Peru', 'Philippines', 'Poland', 'Portugal',\n",
       "       'Qatar', 'Republic of Korea', 'Republic of Moldova', 'Romania',\n",
       "       'Russian Federation', 'Rwanda', 'Saint Lucia',\n",
       "       'Saint Vincent & Grenadines', 'Samoa', 'San Marino',\n",
       "       'Sao Tome and Principe', 'Saudi Arabia', 'Senegal', 'Serbia',\n",
       "       'Seychelles', 'Sierra Leone', 'Singapore', 'Slovakia', 'Slovenia',\n",
       "       'Solomon Islands', 'Somalia', 'South Africa', 'Spain', 'Sri Lanka',\n",
       "       'Sudan', 'Sweden', 'Switzerland', 'Syrian Arab Republic',\n",
       "       'Tajikistan', 'Thailand', 'Trinidad and Tobago', 'Tunisia',\n",
       "       'Turkey', 'Uganda', 'Ukraine', 'United Arab Emirates',\n",
       "       'United Kingdom', 'United Rep. of Tanzania',\n",
       "       'United States of America', 'Uruguay', 'Uzbekistan',\n",
       "       'Venezuela (Boliv. Rep. of)', 'Viet Nam', 'Yemen', 'Zambia',\n",
       "       'Zimbabwe'], dtype=object)"
      ]
     },
     "execution_count": 15,
     "metadata": {},
     "output_type": "execute_result"
    }
   ],
   "source": [
    "df1['Region/Country/Area'].replace(\n",
    "    {'C�te d�Ivoire': \"Côte d’Ivoire\"}, inplace=True)\n",
    "\n",
    "df1['Region/Country/Area'].unique()"
   ]
  },
  {
   "cell_type": "code",
   "execution_count": 16,
   "metadata": {},
   "outputs": [
    {
     "data": {
      "text/plain": [
       "2018    353\n",
       "2017    352\n",
       "2019    333\n",
       "2010    279\n",
       "2005    259\n",
       "Name: Year, dtype: int64"
      ]
     },
     "execution_count": 16,
     "metadata": {},
     "output_type": "execute_result"
    }
   ],
   "source": [
    "df1['Year'].value_counts().head()"
   ]
  },
  {
   "cell_type": "code",
   "execution_count": 17,
   "metadata": {},
   "outputs": [
    {
     "data": {
      "text/plain": [
       "count    1.914000e+03\n",
       "mean     3.805811e+04\n",
       "std      2.134029e+05\n",
       "min      1.000000e+00\n",
       "25%      2.125000e+01\n",
       "50%      2.055000e+02\n",
       "75%      2.262500e+03\n",
       "max      3.131427e+06\n",
       "Name: Value, dtype: float64"
      ]
     },
     "execution_count": 17,
     "metadata": {},
     "output_type": "execute_result"
    }
   ],
   "source": [
    "df1['Value'].describe()"
   ]
  },
  {
   "cell_type": "markdown",
   "metadata": {},
   "source": [
    "# Missing Values Exploration"
   ]
  },
  {
   "cell_type": "code",
   "execution_count": 18,
   "metadata": {},
   "outputs": [
    {
     "data": {
      "text/plain": [
       "Code                   0\n",
       "Region/Country/Area    0\n",
       "Year                   0\n",
       "Series                 0\n",
       "Value                  0\n",
       "dtype: int64"
      ]
     },
     "execution_count": 18,
     "metadata": {},
     "output_type": "execute_result"
    }
   ],
   "source": [
    "df1.isna().sum()"
   ]
  },
  {
   "cell_type": "markdown",
   "metadata": {},
   "source": [
    "# Grouping and Aggregation"
   ]
  },
  {
   "cell_type": "code",
   "execution_count": 19,
   "metadata": {},
   "outputs": [
    {
     "data": {
      "text/html": [
       "<div>\n",
       "<style scoped>\n",
       "    .dataframe tbody tr th:only-of-type {\n",
       "        vertical-align: middle;\n",
       "    }\n",
       "\n",
       "    .dataframe tbody tr th {\n",
       "        vertical-align: top;\n",
       "    }\n",
       "\n",
       "    .dataframe thead th {\n",
       "        text-align: right;\n",
       "    }\n",
       "</style>\n",
       "<table border=\"1\" class=\"dataframe\">\n",
       "  <thead>\n",
       "    <tr style=\"text-align: right;\">\n",
       "      <th></th>\n",
       "      <th>Code</th>\n",
       "      <th>Region/Country/Area</th>\n",
       "      <th>Year</th>\n",
       "      <th>Series</th>\n",
       "      <th>Value</th>\n",
       "    </tr>\n",
       "  </thead>\n",
       "  <tbody>\n",
       "    <tr>\n",
       "      <th>0</th>\n",
       "      <td>1</td>\n",
       "      <td>Total, all countries or areas</td>\n",
       "      <td>1985</td>\n",
       "      <td>Grants of patents (number)</td>\n",
       "      <td>397580</td>\n",
       "    </tr>\n",
       "    <tr>\n",
       "      <th>1</th>\n",
       "      <td>1</td>\n",
       "      <td>Total, all countries or areas</td>\n",
       "      <td>1995</td>\n",
       "      <td>Grants of patents (number)</td>\n",
       "      <td>430500</td>\n",
       "    </tr>\n",
       "    <tr>\n",
       "      <th>2</th>\n",
       "      <td>1</td>\n",
       "      <td>Total, all countries or areas</td>\n",
       "      <td>2005</td>\n",
       "      <td>Grants of patents (number)</td>\n",
       "      <td>633100</td>\n",
       "    </tr>\n",
       "    <tr>\n",
       "      <th>3</th>\n",
       "      <td>1</td>\n",
       "      <td>Total, all countries or areas</td>\n",
       "      <td>2010</td>\n",
       "      <td>Grants of patents (number)</td>\n",
       "      <td>914900</td>\n",
       "    </tr>\n",
       "    <tr>\n",
       "      <th>4</th>\n",
       "      <td>1</td>\n",
       "      <td>Total, all countries or areas</td>\n",
       "      <td>2017</td>\n",
       "      <td>Grants of patents (number)</td>\n",
       "      <td>1397900</td>\n",
       "    </tr>\n",
       "    <tr>\n",
       "      <th>...</th>\n",
       "      <td>...</td>\n",
       "      <td>...</td>\n",
       "      <td>...</td>\n",
       "      <td>...</td>\n",
       "      <td>...</td>\n",
       "    </tr>\n",
       "    <tr>\n",
       "      <th>1900</th>\n",
       "      <td>894</td>\n",
       "      <td>Zambia</td>\n",
       "      <td>2005</td>\n",
       "      <td>Grants of patents (number)</td>\n",
       "      <td>14</td>\n",
       "    </tr>\n",
       "    <tr>\n",
       "      <th>1910</th>\n",
       "      <td>716</td>\n",
       "      <td>Zimbabwe</td>\n",
       "      <td>1985</td>\n",
       "      <td>Resident patent filings (per million population)</td>\n",
       "      <td>4</td>\n",
       "    </tr>\n",
       "    <tr>\n",
       "      <th>1911</th>\n",
       "      <td>716</td>\n",
       "      <td>Zimbabwe</td>\n",
       "      <td>1995</td>\n",
       "      <td>Resident patent filings (per million population)</td>\n",
       "      <td>5</td>\n",
       "    </tr>\n",
       "    <tr>\n",
       "      <th>1912</th>\n",
       "      <td>716</td>\n",
       "      <td>Zimbabwe</td>\n",
       "      <td>1985</td>\n",
       "      <td>Grants of patents (number)</td>\n",
       "      <td>212</td>\n",
       "    </tr>\n",
       "    <tr>\n",
       "      <th>1913</th>\n",
       "      <td>716</td>\n",
       "      <td>Zimbabwe</td>\n",
       "      <td>1995</td>\n",
       "      <td>Grants of patents (number)</td>\n",
       "      <td>105</td>\n",
       "    </tr>\n",
       "  </tbody>\n",
       "</table>\n",
       "<p>762 rows × 5 columns</p>\n",
       "</div>"
      ],
      "text/plain": [
       "      Code            Region/Country/Area  Year  \\\n",
       "0        1  Total, all countries or areas  1985   \n",
       "1        1  Total, all countries or areas  1995   \n",
       "2        1  Total, all countries or areas  2005   \n",
       "3        1  Total, all countries or areas  2010   \n",
       "4        1  Total, all countries or areas  2017   \n",
       "...    ...                            ...   ...   \n",
       "1900   894                         Zambia  2005   \n",
       "1910   716                       Zimbabwe  1985   \n",
       "1911   716                       Zimbabwe  1995   \n",
       "1912   716                       Zimbabwe  1985   \n",
       "1913   716                       Zimbabwe  1995   \n",
       "\n",
       "                                                Series    Value  \n",
       "0                           Grants of patents (number)   397580  \n",
       "1                           Grants of patents (number)   430500  \n",
       "2                           Grants of patents (number)   633100  \n",
       "3                           Grants of patents (number)   914900  \n",
       "4                           Grants of patents (number)  1397900  \n",
       "...                                                ...      ...  \n",
       "1900                        Grants of patents (number)       14  \n",
       "1910  Resident patent filings (per million population)        4  \n",
       "1911  Resident patent filings (per million population)        5  \n",
       "1912                        Grants of patents (number)      212  \n",
       "1913                        Grants of patents (number)      105  \n",
       "\n",
       "[762 rows x 5 columns]"
      ]
     },
     "execution_count": 19,
     "metadata": {},
     "output_type": "execute_result"
    }
   ],
   "source": [
    "df1_gpd = df1.groupby('Region/Country/Area')\n",
    "df1_gpd.head()"
   ]
  },
  {
   "cell_type": "markdown",
   "metadata": {},
   "source": [
    "# Data Visualization"
   ]
  },
  {
   "cell_type": "code",
   "execution_count": 20,
   "metadata": {},
   "outputs": [],
   "source": [
    "from matplotlib.ticker import FuncFormatter\n",
    "\n",
    "# helper function for formatting y-axis\n",
    "def thousand(x, pos):\n",
    "    return '%1.1fK' % (x * 1e-3)\n",
    "\n",
    "format_tsd = FuncFormatter(thousand)\n",
    "\n",
    "# bar plot helper function\n",
    "def plot_bar(data, x, y, hue=None, ci=None, main_title=None, xlabel=None, ylabel=None, leg_title=None, loc=None, leg_labels=None):\n",
    "    # create figure and axis\n",
    "    fig, ax = plt.subplots()\n",
    "    fig.autofmt_xdate()\n",
    "\n",
    "    # plot bar charts\n",
    "    sns.barplot(\n",
    "        data=data,\n",
    "        x=x, y=y, hue=hue, \n",
    "        ci=ci, ax=ax\n",
    "    )\n",
    "\n",
    "    # label plots\n",
    "    ax.set(title=main_title, xlabel=xlabel, ylabel=ylabel)\n",
    "\n",
    "    # format y-axis\n",
    "    ax.yaxis.set_major_formatter(format_tsd)\n",
    "\n",
    "    # label legend\n",
    "    plt.legend(title=leg_title, loc=loc, labels=leg_labels)\n",
    "\n",
    "    return plot_bar"
   ]
  },
  {
   "cell_type": "markdown",
   "metadata": {},
   "source": [
    "Filter Grants of Patents & Patents in Force"
   ]
  },
  {
   "cell_type": "code",
   "execution_count": 21,
   "metadata": {},
   "outputs": [
    {
     "data": {
      "text/html": [
       "<div>\n",
       "<style scoped>\n",
       "    .dataframe tbody tr th:only-of-type {\n",
       "        vertical-align: middle;\n",
       "    }\n",
       "\n",
       "    .dataframe tbody tr th {\n",
       "        vertical-align: top;\n",
       "    }\n",
       "\n",
       "    .dataframe thead th {\n",
       "        text-align: right;\n",
       "    }\n",
       "</style>\n",
       "<table border=\"1\" class=\"dataframe\">\n",
       "  <thead>\n",
       "    <tr style=\"text-align: right;\">\n",
       "      <th></th>\n",
       "      <th>Code</th>\n",
       "      <th>Region/Country/Area</th>\n",
       "      <th>Year</th>\n",
       "      <th>Series</th>\n",
       "      <th>Value</th>\n",
       "    </tr>\n",
       "  </thead>\n",
       "  <tbody>\n",
       "    <tr>\n",
       "      <th>0</th>\n",
       "      <td>1</td>\n",
       "      <td>Total, all countries or areas</td>\n",
       "      <td>1985</td>\n",
       "      <td>Grants of patents (number)</td>\n",
       "      <td>397580</td>\n",
       "    </tr>\n",
       "    <tr>\n",
       "      <th>1</th>\n",
       "      <td>1</td>\n",
       "      <td>Total, all countries or areas</td>\n",
       "      <td>1995</td>\n",
       "      <td>Grants of patents (number)</td>\n",
       "      <td>430500</td>\n",
       "    </tr>\n",
       "    <tr>\n",
       "      <th>2</th>\n",
       "      <td>1</td>\n",
       "      <td>Total, all countries or areas</td>\n",
       "      <td>2005</td>\n",
       "      <td>Grants of patents (number)</td>\n",
       "      <td>633100</td>\n",
       "    </tr>\n",
       "    <tr>\n",
       "      <th>3</th>\n",
       "      <td>1</td>\n",
       "      <td>Total, all countries or areas</td>\n",
       "      <td>2010</td>\n",
       "      <td>Grants of patents (number)</td>\n",
       "      <td>914900</td>\n",
       "    </tr>\n",
       "    <tr>\n",
       "      <th>4</th>\n",
       "      <td>1</td>\n",
       "      <td>Total, all countries or areas</td>\n",
       "      <td>2017</td>\n",
       "      <td>Grants of patents (number)</td>\n",
       "      <td>1397900</td>\n",
       "    </tr>\n",
       "    <tr>\n",
       "      <th>...</th>\n",
       "      <td>...</td>\n",
       "      <td>...</td>\n",
       "      <td>...</td>\n",
       "      <td>...</td>\n",
       "      <td>...</td>\n",
       "    </tr>\n",
       "    <tr>\n",
       "      <th>1900</th>\n",
       "      <td>894</td>\n",
       "      <td>Zambia</td>\n",
       "      <td>2005</td>\n",
       "      <td>Grants of patents (number)</td>\n",
       "      <td>14</td>\n",
       "    </tr>\n",
       "    <tr>\n",
       "      <th>1901</th>\n",
       "      <td>894</td>\n",
       "      <td>Zambia</td>\n",
       "      <td>2010</td>\n",
       "      <td>Grants of patents (number)</td>\n",
       "      <td>12</td>\n",
       "    </tr>\n",
       "    <tr>\n",
       "      <th>1902</th>\n",
       "      <td>894</td>\n",
       "      <td>Zambia</td>\n",
       "      <td>2017</td>\n",
       "      <td>Grants of patents (number)</td>\n",
       "      <td>18</td>\n",
       "    </tr>\n",
       "    <tr>\n",
       "      <th>1912</th>\n",
       "      <td>716</td>\n",
       "      <td>Zimbabwe</td>\n",
       "      <td>1985</td>\n",
       "      <td>Grants of patents (number)</td>\n",
       "      <td>212</td>\n",
       "    </tr>\n",
       "    <tr>\n",
       "      <th>1913</th>\n",
       "      <td>716</td>\n",
       "      <td>Zimbabwe</td>\n",
       "      <td>1995</td>\n",
       "      <td>Grants of patents (number)</td>\n",
       "      <td>105</td>\n",
       "    </tr>\n",
       "  </tbody>\n",
       "</table>\n",
       "<p>687 rows × 5 columns</p>\n",
       "</div>"
      ],
      "text/plain": [
       "      Code            Region/Country/Area  Year                      Series  \\\n",
       "0        1  Total, all countries or areas  1985  Grants of patents (number)   \n",
       "1        1  Total, all countries or areas  1995  Grants of patents (number)   \n",
       "2        1  Total, all countries or areas  2005  Grants of patents (number)   \n",
       "3        1  Total, all countries or areas  2010  Grants of patents (number)   \n",
       "4        1  Total, all countries or areas  2017  Grants of patents (number)   \n",
       "...    ...                            ...   ...                         ...   \n",
       "1900   894                         Zambia  2005  Grants of patents (number)   \n",
       "1901   894                         Zambia  2010  Grants of patents (number)   \n",
       "1902   894                         Zambia  2017  Grants of patents (number)   \n",
       "1912   716                       Zimbabwe  1985  Grants of patents (number)   \n",
       "1913   716                       Zimbabwe  1995  Grants of patents (number)   \n",
       "\n",
       "        Value  \n",
       "0      397580  \n",
       "1      430500  \n",
       "2      633100  \n",
       "3      914900  \n",
       "4     1397900  \n",
       "...       ...  \n",
       "1900       14  \n",
       "1901       12  \n",
       "1902       18  \n",
       "1912      212  \n",
       "1913      105  \n",
       "\n",
       "[687 rows x 5 columns]"
      ]
     },
     "execution_count": 21,
     "metadata": {},
     "output_type": "execute_result"
    }
   ],
   "source": [
    "cols = ['Grants of patents (number)', 'Patents in force (number)']\n",
    "\n",
    "df2 = df1[df['Series'].isin(cols)]\n",
    "df2_gpd = df2.groupby('Region/Country/Area')\n",
    "df2_gpd.head()"
   ]
  },
  {
   "cell_type": "code",
   "execution_count": 22,
   "metadata": {},
   "outputs": [
    {
     "data": {
      "text/plain": [
       "<function __main__.plot_bar(data, x, y, hue=None, ci=None, main_title=None, xlabel=None, ylabel=None, leg_title=None, loc=None, leg_labels=None)>"
      ]
     },
     "execution_count": 22,
     "metadata": {},
     "output_type": "execute_result"
    },
    {
     "data": {
      "image/png": "[encoded data removed]",
      "text/plain": [
       "<Figure size 864x648 with 1 Axes>"
      ]
     },
     "metadata": {},
     "output_type": "display_data"
    }
   ],
   "source": [
    "plot_bar(\n",
    "    data=df2_gpd.get_group('Germany'),\n",
    "    x='Year', y='Value', \n",
    "    hue='Series', ci=None,\n",
    "    main_title='Germany', xlabel='Year', ylabel='Patents',\n",
    "    leg_title='Legend', loc=2, leg_labels=['Grants of patents', 'Patents in force']\n",
    ")"
   ]
  },
  {
   "cell_type": "code",
   "execution_count": 23,
   "metadata": {},
   "outputs": [
    {
     "data": {
      "text/plain": [
       "<function __main__.plot_bar(data, x, y, hue=None, ci=None, main_title=None, xlabel=None, ylabel=None, leg_title=None, loc=None, leg_labels=None)>"
      ]
     },
     "execution_count": 23,
     "metadata": {},
     "output_type": "execute_result"
    },
    {
     "data": {
      "image/png": "[encoded data removed]",
      "text/plain": [
       "<Figure size 864x648 with 1 Axes>"
      ]
     },
     "metadata": {},
     "output_type": "display_data"
    }
   ],
   "source": [
    "plot_bar(\n",
    "    data=df2_gpd.get_group('United States of America'),\n",
    "    x='Year', y='Value', \n",
    "    hue='Series', ci=None,\n",
    "    main_title='USA', xlabel='Year', ylabel='Patents',\n",
    "    leg_title='Legend', loc=2, leg_labels=['Grants of patents', 'Patents in force']\n",
    ")"
   ]
  },
  {
   "cell_type": "code",
   "execution_count": 24,
   "metadata": {},
   "outputs": [
    {
     "data": {
      "text/plain": [
       "<function __main__.plot_bar(data, x, y, hue=None, ci=None, main_title=None, xlabel=None, ylabel=None, leg_title=None, loc=None, leg_labels=None)>"
      ]
     },
     "execution_count": 24,
     "metadata": {},
     "output_type": "execute_result"
    },
    {
     "data": {
      "image/png": "[encoded data removed]",
      "text/plain": [
       "<Figure size 864x648 with 1 Axes>"
      ]
     },
     "metadata": {},
     "output_type": "display_data"
    }
   ],
   "source": [
    "plot_bar(\n",
    "    data=df2_gpd.get_group('China'),\n",
    "    x='Year', y='Value', \n",
    "    hue='Series', ci=None,\n",
    "    main_title='China', xlabel='Year', ylabel='Patents',\n",
    "    leg_title='Legend', loc=2, leg_labels=['Grants of patents', 'Patents in force']\n",
    ")"
   ]
  },
  {
   "cell_type": "code",
   "execution_count": 25,
   "metadata": {},
   "outputs": [
    {
     "data": {
      "text/plain": [
       "<function __main__.plot_bar(data, x, y, hue=None, ci=None, main_title=None, xlabel=None, ylabel=None, leg_title=None, loc=None, leg_labels=None)>"
      ]
     },
     "execution_count": 25,
     "metadata": {},
     "output_type": "execute_result"
    },
    {
     "data": {
      "image/png": "[encoded data removed]",
      "text/plain": [
       "<Figure size 864x648 with 1 Axes>"
      ]
     },
     "metadata": {},
     "output_type": "display_data"
    }
   ],
   "source": [
    "plot_bar(\n",
    "    data=df2_gpd.get_group('France'),\n",
    "    x='Year', y='Value', \n",
    "    hue='Series', ci=None,\n",
    "    main_title='France', xlabel='Year', ylabel='Patents',\n",
    "    leg_title='Legend', loc=2, leg_labels=['Grants of patents', 'Patents in force']\n",
    ")"
   ]
  },
  {
   "cell_type": "markdown",
   "metadata": {},
   "source": [
    "Filter Resident patent filings (per million population)"
   ]
  },
  {
   "cell_type": "code",
   "execution_count": 26,
   "metadata": {},
   "outputs": [
    {
     "data": {
      "text/html": [
       "<div>\n",
       "<style scoped>\n",
       "    .dataframe tbody tr th:only-of-type {\n",
       "        vertical-align: middle;\n",
       "    }\n",
       "\n",
       "    .dataframe tbody tr th {\n",
       "        vertical-align: top;\n",
       "    }\n",
       "\n",
       "    .dataframe thead th {\n",
       "        text-align: right;\n",
       "    }\n",
       "</style>\n",
       "<table border=\"1\" class=\"dataframe\">\n",
       "  <thead>\n",
       "    <tr style=\"text-align: right;\">\n",
       "      <th></th>\n",
       "      <th>Code</th>\n",
       "      <th>Region/Country/Area</th>\n",
       "      <th>Year</th>\n",
       "      <th>Series</th>\n",
       "      <th>Value</th>\n",
       "    </tr>\n",
       "  </thead>\n",
       "  <tbody>\n",
       "    <tr>\n",
       "      <th>32</th>\n",
       "      <td>8</td>\n",
       "      <td>Albania</td>\n",
       "      <td>2017</td>\n",
       "      <td>Resident patent filings (per million population)</td>\n",
       "      <td>6</td>\n",
       "    </tr>\n",
       "    <tr>\n",
       "      <th>33</th>\n",
       "      <td>8</td>\n",
       "      <td>Albania</td>\n",
       "      <td>2018</td>\n",
       "      <td>Resident patent filings (per million population)</td>\n",
       "      <td>5</td>\n",
       "    </tr>\n",
       "    <tr>\n",
       "      <th>34</th>\n",
       "      <td>8</td>\n",
       "      <td>Albania</td>\n",
       "      <td>2019</td>\n",
       "      <td>Resident patent filings (per million population)</td>\n",
       "      <td>2</td>\n",
       "    </tr>\n",
       "    <tr>\n",
       "      <th>44</th>\n",
       "      <td>12</td>\n",
       "      <td>Algeria</td>\n",
       "      <td>1995</td>\n",
       "      <td>Resident patent filings (per million population)</td>\n",
       "      <td>1</td>\n",
       "    </tr>\n",
       "    <tr>\n",
       "      <th>45</th>\n",
       "      <td>12</td>\n",
       "      <td>Algeria</td>\n",
       "      <td>2005</td>\n",
       "      <td>Resident patent filings (per million population)</td>\n",
       "      <td>2</td>\n",
       "    </tr>\n",
       "    <tr>\n",
       "      <th>...</th>\n",
       "      <td>...</td>\n",
       "      <td>...</td>\n",
       "      <td>...</td>\n",
       "      <td>...</td>\n",
       "      <td>...</td>\n",
       "    </tr>\n",
       "    <tr>\n",
       "      <th>1890</th>\n",
       "      <td>887</td>\n",
       "      <td>Yemen</td>\n",
       "      <td>2019</td>\n",
       "      <td>Resident patent filings (per million population)</td>\n",
       "      <td>2</td>\n",
       "    </tr>\n",
       "    <tr>\n",
       "      <th>1896</th>\n",
       "      <td>894</td>\n",
       "      <td>Zambia</td>\n",
       "      <td>2017</td>\n",
       "      <td>Resident patent filings (per million population)</td>\n",
       "      <td>1</td>\n",
       "    </tr>\n",
       "    <tr>\n",
       "      <th>1897</th>\n",
       "      <td>894</td>\n",
       "      <td>Zambia</td>\n",
       "      <td>2018</td>\n",
       "      <td>Resident patent filings (per million population)</td>\n",
       "      <td>1</td>\n",
       "    </tr>\n",
       "    <tr>\n",
       "      <th>1910</th>\n",
       "      <td>716</td>\n",
       "      <td>Zimbabwe</td>\n",
       "      <td>1985</td>\n",
       "      <td>Resident patent filings (per million population)</td>\n",
       "      <td>4</td>\n",
       "    </tr>\n",
       "    <tr>\n",
       "      <th>1911</th>\n",
       "      <td>716</td>\n",
       "      <td>Zimbabwe</td>\n",
       "      <td>1995</td>\n",
       "      <td>Resident patent filings (per million population)</td>\n",
       "      <td>5</td>\n",
       "    </tr>\n",
       "  </tbody>\n",
       "</table>\n",
       "<p>587 rows × 5 columns</p>\n",
       "</div>"
      ],
      "text/plain": [
       "      Code Region/Country/Area  Year  \\\n",
       "32       8             Albania  2017   \n",
       "33       8             Albania  2018   \n",
       "34       8             Albania  2019   \n",
       "44      12             Algeria  1995   \n",
       "45      12             Algeria  2005   \n",
       "...    ...                 ...   ...   \n",
       "1890   887               Yemen  2019   \n",
       "1896   894              Zambia  2017   \n",
       "1897   894              Zambia  2018   \n",
       "1910   716            Zimbabwe  1985   \n",
       "1911   716            Zimbabwe  1995   \n",
       "\n",
       "                                                Series  Value  \n",
       "32    Resident patent filings (per million population)      6  \n",
       "33    Resident patent filings (per million population)      5  \n",
       "34    Resident patent filings (per million population)      2  \n",
       "44    Resident patent filings (per million population)      1  \n",
       "45    Resident patent filings (per million population)      2  \n",
       "...                                                ...    ...  \n",
       "1890  Resident patent filings (per million population)      2  \n",
       "1896  Resident patent filings (per million population)      1  \n",
       "1897  Resident patent filings (per million population)      1  \n",
       "1910  Resident patent filings (per million population)      4  \n",
       "1911  Resident patent filings (per million population)      5  \n",
       "\n",
       "[587 rows x 5 columns]"
      ]
     },
     "execution_count": 26,
     "metadata": {},
     "output_type": "execute_result"
    }
   ],
   "source": [
    "df3 = df1[~df['Series'].isin(cols)]\n",
    "df3_gpd = df3.groupby('Region/Country/Area')\n",
    "df3_gpd.head()"
   ]
  },
  {
   "cell_type": "code",
   "execution_count": 27,
   "metadata": {},
   "outputs": [],
   "source": [
    "from matplotlib.ticker import Formatter\n",
    "\n",
    "def mill(x, pos):\n",
    "    return '%1.1fM' % (x)\n",
    "\n",
    "fmt = FuncFormatter(mill)\n",
    "\n",
    "def plot_bar1(data, x, y, color=None, ci=None, ax1=None, xlabel=None, ylabel=None, title=None):\n",
    "    # create figure and axis\n",
    "    fig1, ax1 = plt.subplots()\n",
    "    fig1.autofmt_xdate()\n",
    "\n",
    "    # create bar plot\n",
    "    sns.barplot(\n",
    "        data=data, \n",
    "        x=x, y=y, \n",
    "        color=color, ci=ci, ax=ax1\n",
    "    )\n",
    "\n",
    "    # label plot\n",
    "    ax1.set(xlabel=xlabel, ylabel=ylabel, title=title)\n",
    "\n",
    "    # set y-axis formatter\n",
    "    ax1.yaxis.set_major_formatter(fmt)\n",
    "\n",
    "    return plot_bar1"
   ]
  },
  {
   "cell_type": "code",
   "execution_count": 28,
   "metadata": {},
   "outputs": [
    {
     "data": {
      "text/plain": [
       "<function __main__.plot_bar1(data, x, y, color=None, ci=None, ax1=None, xlabel=None, ylabel=None, title=None)>"
      ]
     },
     "execution_count": 28,
     "metadata": {},
     "output_type": "execute_result"
    },
    {
     "data": {
      "image/png": "[encoded data removed]",
      "text/plain": [
       "<Figure size 864x648 with 1 Axes>"
      ]
     },
     "metadata": {},
     "output_type": "display_data"
    }
   ],
   "source": [
    "plot_bar1(\n",
    "    data=df3_gpd.get_group('Germany'),\n",
    "    x='Year', y='Value',\n",
    "    color='blue', ci=None,\n",
    "    xlabel='Year', ylabel='Resident patent fillings (per million population)', title='Germany'\n",
    ")"
   ]
  },
  {
   "cell_type": "code",
   "execution_count": 29,
   "metadata": {},
   "outputs": [
    {
     "data": {
      "text/plain": [
       "<function __main__.plot_bar1(data, x, y, color=None, ci=None, ax1=None, xlabel=None, ylabel=None, title=None)>"
      ]
     },
     "execution_count": 29,
     "metadata": {},
     "output_type": "execute_result"
    },
    {
     "data": {
      "image/png": "[encoded data removed]",
      "text/plain": [
       "<Figure size 864x648 with 1 Axes>"
      ]
     },
     "metadata": {},
     "output_type": "display_data"
    }
   ],
   "source": [
    "plot_bar1(\n",
    "    data=df3_gpd.get_group('China'),\n",
    "    x='Year', y='Value',\n",
    "    color='brown', ci=None,\n",
    "    xlabel='Year', ylabel='Resident patent fillings (per million population)', title='China'\n",
    ")"
   ]
  },
  {
   "cell_type": "code",
   "execution_count": 30,
   "metadata": {},
   "outputs": [
    {
     "data": {
      "text/plain": [
       "<function __main__.plot_bar1(data, x, y, color=None, ci=None, ax1=None, xlabel=None, ylabel=None, title=None)>"
      ]
     },
     "execution_count": 30,
     "metadata": {},
     "output_type": "execute_result"
    },
    {
     "data": {
      "image/png": "[encoded data removed]",
      "text/plain": [
       "<Figure size 864x648 with 1 Axes>"
      ]
     },
     "metadata": {},
     "output_type": "display_data"
    }
   ],
   "source": [
    "plot_bar1(\n",
    "    data=df3_gpd.get_group('Australia'),\n",
    "    x='Year', y='Value',\n",
    "    color='darkgrey', ci=None,\n",
    "    xlabel='Year', ylabel='Resident patent fillings (per million population)', title='Australia'\n",
    ")"
   ]
  },
  {
   "cell_type": "code",
   "execution_count": 31,
   "metadata": {},
   "outputs": [
    {
     "data": {
      "text/plain": [
       "<function __main__.plot_bar1(data, x, y, color=None, ci=None, ax1=None, xlabel=None, ylabel=None, title=None)>"
      ]
     },
     "execution_count": 31,
     "metadata": {},
     "output_type": "execute_result"
    },
    {
     "data": {
      "image/png": "[encoded data removed]",
      "text/plain": [
       "<Figure size 864x648 with 1 Axes>"
      ]
     },
     "metadata": {},
     "output_type": "display_data"
    }
   ],
   "source": [
    "plot_bar1(\n",
    "    data=df3_gpd.get_group('France'),\n",
    "    x='Year', y='Value',\n",
    "    color='orange', ci=None,\n",
    "    xlabel='Year', ylabel='Resident patent fillings (per million population)', title='France'\n",
    ")"
   ]
  }
 ],
 "metadata": {
  "interpreter": {
   "hash": "3fe9daace87ea8cb12e037f7452ad9bcd52f59aa894a611255d1461de3a9065e"
  },
  "kernelspec": {
   "display_name": "Python 3.9.7 ('DS')",
   "language": "python",
   "name": "python3"
  },
  "language_info": {
   "codemirror_mode": {
    "name": "ipython",
    "version": 3
   },
   "file_extension": ".py",
   "mimetype": "text/x-python",
   "name": "python",
   "nbconvert_exporter": "python",
   "pygments_lexer": "ipython3",
   "version": "3.9.7"
  },
  "orig_nbformat": 4
 },
 "nbformat": 4,
 "nbformat_minor": 2
}
