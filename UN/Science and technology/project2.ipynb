{
 "cells": [
  {
   "cell_type": "markdown",
   "metadata": {},
   "source": [
    "# Gross domestic expenditure on R & D"
   ]
  },
  {
   "cell_type": "markdown",
   "metadata": {},
   "source": [
    "# Import Libraries"
   ]
  },
  {
   "cell_type": "code",
   "execution_count": 1,
   "metadata": {},
   "outputs": [],
   "source": [
    "import numpy as np\n",
    "import pandas as pd\n",
    "import matplotlib.pyplot as plt\n",
    "import seaborn as sns\n",
    "import os\n",
    "import warnings"
   ]
  },
  {
   "cell_type": "markdown",
   "metadata": {},
   "source": [
    "# Options and Settings"
   ]
  },
  {
   "cell_type": "code",
   "execution_count": 2,
   "metadata": {},
   "outputs": [],
   "source": [
    "%matplotlib inline\n",
    "plt.style.use('ggplot')\n",
    "plt.rcParams['figure.autolayout'] = True\n",
    "plt.rcParams['figure.figsize'] = [12, 9]\n",
    "plt.rcParams['font.size'] = 12\n",
    "path = os.getcwd()                                         # get current working directory\n",
    "warnings.simplefilter('ignore')"
   ]
  },
  {
   "cell_type": "markdown",
   "metadata": {},
   "source": [
    "# Import Data"
   ]
  },
  {
   "cell_type": "code",
   "execution_count": 3,
   "metadata": {},
   "outputs": [],
   "source": [
    "filepath = os.path.join('datasets', 'Gross domestic expenditure on R & D.csv')\n",
    "df = pd.read_csv(filepath)"
   ]
  },
  {
   "cell_type": "markdown",
   "metadata": {},
   "source": [
    "# Head and Tail"
   ]
  },
  {
   "cell_type": "code",
   "execution_count": 4,
   "metadata": {},
   "outputs": [
    {
     "data": {
      "text/html": [
       "<div>\n",
       "<style scoped>\n",
       "    .dataframe tbody tr th:only-of-type {\n",
       "        vertical-align: middle;\n",
       "    }\n",
       "\n",
       "    .dataframe tbody tr th {\n",
       "        vertical-align: top;\n",
       "    }\n",
       "\n",
       "    .dataframe thead th {\n",
       "        text-align: right;\n",
       "    }\n",
       "</style>\n",
       "<table border=\"1\" class=\"dataframe\">\n",
       "  <thead>\n",
       "    <tr style=\"text-align: right;\">\n",
       "      <th></th>\n",
       "      <th>Region/Country/Area</th>\n",
       "      <th>Unnamed: 1</th>\n",
       "      <th>Year</th>\n",
       "      <th>Series</th>\n",
       "      <th>Value</th>\n",
       "      <th>Footnotes</th>\n",
       "      <th>Source</th>\n",
       "      <th>Unnamed: 7</th>\n",
       "      <th>Unnamed: 8</th>\n",
       "      <th>Unnamed: 9</th>\n",
       "      <th>Unnamed: 10</th>\n",
       "    </tr>\n",
       "  </thead>\n",
       "  <tbody>\n",
       "    <tr>\n",
       "      <th>0</th>\n",
       "      <td>1</td>\n",
       "      <td>Total, all countries or areas</td>\n",
       "      <td>2005</td>\n",
       "      <td>Gross domestic expenditure on R &amp; D: as a perc...</td>\n",
       "      <td>1.5</td>\n",
       "      <td>NaN</td>\n",
       "      <td>United Nations Educational, Scientific and Cul...</td>\n",
       "      <td>NaN</td>\n",
       "      <td>NaN</td>\n",
       "      <td>NaN</td>\n",
       "      <td>NaN</td>\n",
       "    </tr>\n",
       "    <tr>\n",
       "      <th>1</th>\n",
       "      <td>1</td>\n",
       "      <td>Total, all countries or areas</td>\n",
       "      <td>2010</td>\n",
       "      <td>Gross domestic expenditure on R &amp; D: as a perc...</td>\n",
       "      <td>1.6</td>\n",
       "      <td>NaN</td>\n",
       "      <td>United Nations Educational, Scientific and Cul...</td>\n",
       "      <td>NaN</td>\n",
       "      <td>NaN</td>\n",
       "      <td>NaN</td>\n",
       "      <td>NaN</td>\n",
       "    </tr>\n",
       "    <tr>\n",
       "      <th>2</th>\n",
       "      <td>1</td>\n",
       "      <td>Total, all countries or areas</td>\n",
       "      <td>2015</td>\n",
       "      <td>Gross domestic expenditure on R &amp; D: as a perc...</td>\n",
       "      <td>1.7</td>\n",
       "      <td>NaN</td>\n",
       "      <td>United Nations Educational, Scientific and Cul...</td>\n",
       "      <td>NaN</td>\n",
       "      <td>NaN</td>\n",
       "      <td>NaN</td>\n",
       "      <td>NaN</td>\n",
       "    </tr>\n",
       "    <tr>\n",
       "      <th>3</th>\n",
       "      <td>1</td>\n",
       "      <td>Total, all countries or areas</td>\n",
       "      <td>2018</td>\n",
       "      <td>Gross domestic expenditure on R &amp; D: as a perc...</td>\n",
       "      <td>1.7</td>\n",
       "      <td>NaN</td>\n",
       "      <td>United Nations Educational, Scientific and Cul...</td>\n",
       "      <td>NaN</td>\n",
       "      <td>NaN</td>\n",
       "      <td>NaN</td>\n",
       "      <td>NaN</td>\n",
       "    </tr>\n",
       "    <tr>\n",
       "      <th>4</th>\n",
       "      <td>15</td>\n",
       "      <td>Northern Africa</td>\n",
       "      <td>2005</td>\n",
       "      <td>Gross domestic expenditure on R &amp; D: as a perc...</td>\n",
       "      <td>0.3</td>\n",
       "      <td>NaN</td>\n",
       "      <td>United Nations Educational, Scientific and Cul...</td>\n",
       "      <td>NaN</td>\n",
       "      <td>NaN</td>\n",
       "      <td>NaN</td>\n",
       "      <td>NaN</td>\n",
       "    </tr>\n",
       "    <tr>\n",
       "      <th>...</th>\n",
       "      <td>...</td>\n",
       "      <td>...</td>\n",
       "      <td>...</td>\n",
       "      <td>...</td>\n",
       "      <td>...</td>\n",
       "      <td>...</td>\n",
       "      <td>...</td>\n",
       "      <td>...</td>\n",
       "      <td>...</td>\n",
       "      <td>...</td>\n",
       "      <td>...</td>\n",
       "    </tr>\n",
       "    <tr>\n",
       "      <th>2556</th>\n",
       "      <td>894</td>\n",
       "      <td>Zambia</td>\n",
       "      <td>2008</td>\n",
       "      <td>Gross domestic expenditure on R &amp; D: as a perc...</td>\n",
       "      <td>0.3</td>\n",
       "      <td>Break in the time series.</td>\n",
       "      <td>United Nations Educational, Scientific and Cul...</td>\n",
       "      <td>NaN</td>\n",
       "      <td>NaN</td>\n",
       "      <td>NaN</td>\n",
       "      <td>NaN</td>\n",
       "    </tr>\n",
       "    <tr>\n",
       "      <th>2557</th>\n",
       "      <td>894</td>\n",
       "      <td>Zambia</td>\n",
       "      <td>2008</td>\n",
       "      <td>Gross domestic expenditure on R &amp; D: Business ...</td>\n",
       "      <td>3.2</td>\n",
       "      <td>Break in the time series.</td>\n",
       "      <td>United Nations Educational, Scientific and Cul...</td>\n",
       "      <td>NaN</td>\n",
       "      <td>NaN</td>\n",
       "      <td>NaN</td>\n",
       "      <td>NaN</td>\n",
       "    </tr>\n",
       "    <tr>\n",
       "      <th>2558</th>\n",
       "      <td>894</td>\n",
       "      <td>Zambia</td>\n",
       "      <td>2008</td>\n",
       "      <td>Gross domestic expenditure on R &amp; D: Governmen...</td>\n",
       "      <td>94.8</td>\n",
       "      <td>Break in the time series.</td>\n",
       "      <td>United Nations Educational, Scientific and Cul...</td>\n",
       "      <td>NaN</td>\n",
       "      <td>NaN</td>\n",
       "      <td>NaN</td>\n",
       "      <td>NaN</td>\n",
       "    </tr>\n",
       "    <tr>\n",
       "      <th>2559</th>\n",
       "      <td>894</td>\n",
       "      <td>Zambia</td>\n",
       "      <td>2008</td>\n",
       "      <td>Gross domestic expenditure on R &amp; D: Private n...</td>\n",
       "      <td>0.3</td>\n",
       "      <td>Break in the time series.</td>\n",
       "      <td>United Nations Educational, Scientific and Cul...</td>\n",
       "      <td>NaN</td>\n",
       "      <td>NaN</td>\n",
       "      <td>NaN</td>\n",
       "      <td>NaN</td>\n",
       "    </tr>\n",
       "    <tr>\n",
       "      <th>2560</th>\n",
       "      <td>894</td>\n",
       "      <td>Zambia</td>\n",
       "      <td>2008</td>\n",
       "      <td>Gross domestic expenditure on R &amp; D: Funds fro...</td>\n",
       "      <td>1.6</td>\n",
       "      <td>Break in the time series.</td>\n",
       "      <td>United Nations Educational, Scientific and Cul...</td>\n",
       "      <td>NaN</td>\n",
       "      <td>NaN</td>\n",
       "      <td>NaN</td>\n",
       "      <td>NaN</td>\n",
       "    </tr>\n",
       "  </tbody>\n",
       "</table>\n",
       "<p>2561 rows × 11 columns</p>\n",
       "</div>"
      ],
      "text/plain": [
       "      Region/Country/Area                     Unnamed: 1  Year  \\\n",
       "0                       1  Total, all countries or areas  2005   \n",
       "1                       1  Total, all countries or areas  2010   \n",
       "2                       1  Total, all countries or areas  2015   \n",
       "3                       1  Total, all countries or areas  2018   \n",
       "4                      15                Northern Africa  2005   \n",
       "...                   ...                            ...   ...   \n",
       "2556                  894                         Zambia  2008   \n",
       "2557                  894                         Zambia  2008   \n",
       "2558                  894                         Zambia  2008   \n",
       "2559                  894                         Zambia  2008   \n",
       "2560                  894                         Zambia  2008   \n",
       "\n",
       "                                                 Series  Value  \\\n",
       "0     Gross domestic expenditure on R & D: as a perc...    1.5   \n",
       "1     Gross domestic expenditure on R & D: as a perc...    1.6   \n",
       "2     Gross domestic expenditure on R & D: as a perc...    1.7   \n",
       "3     Gross domestic expenditure on R & D: as a perc...    1.7   \n",
       "4     Gross domestic expenditure on R & D: as a perc...    0.3   \n",
       "...                                                 ...    ...   \n",
       "2556  Gross domestic expenditure on R & D: as a perc...    0.3   \n",
       "2557  Gross domestic expenditure on R & D: Business ...    3.2   \n",
       "2558  Gross domestic expenditure on R & D: Governmen...   94.8   \n",
       "2559  Gross domestic expenditure on R & D: Private n...    0.3   \n",
       "2560  Gross domestic expenditure on R & D: Funds fro...    1.6   \n",
       "\n",
       "                      Footnotes  \\\n",
       "0                           NaN   \n",
       "1                           NaN   \n",
       "2                           NaN   \n",
       "3                           NaN   \n",
       "4                           NaN   \n",
       "...                         ...   \n",
       "2556  Break in the time series.   \n",
       "2557  Break in the time series.   \n",
       "2558  Break in the time series.   \n",
       "2559  Break in the time series.   \n",
       "2560  Break in the time series.   \n",
       "\n",
       "                                                 Source Unnamed: 7 Unnamed: 8  \\\n",
       "0     United Nations Educational, Scientific and Cul...        NaN        NaN   \n",
       "1     United Nations Educational, Scientific and Cul...        NaN        NaN   \n",
       "2     United Nations Educational, Scientific and Cul...        NaN        NaN   \n",
       "3     United Nations Educational, Scientific and Cul...        NaN        NaN   \n",
       "4     United Nations Educational, Scientific and Cul...        NaN        NaN   \n",
       "...                                                 ...        ...        ...   \n",
       "2556  United Nations Educational, Scientific and Cul...        NaN        NaN   \n",
       "2557  United Nations Educational, Scientific and Cul...        NaN        NaN   \n",
       "2558  United Nations Educational, Scientific and Cul...        NaN        NaN   \n",
       "2559  United Nations Educational, Scientific and Cul...        NaN        NaN   \n",
       "2560  United Nations Educational, Scientific and Cul...        NaN        NaN   \n",
       "\n",
       "     Unnamed: 9 Unnamed: 10  \n",
       "0           NaN         NaN  \n",
       "1           NaN         NaN  \n",
       "2           NaN         NaN  \n",
       "3           NaN         NaN  \n",
       "4           NaN         NaN  \n",
       "...         ...         ...  \n",
       "2556        NaN         NaN  \n",
       "2557        NaN         NaN  \n",
       "2558        NaN         NaN  \n",
       "2559        NaN         NaN  \n",
       "2560        NaN         NaN  \n",
       "\n",
       "[2561 rows x 11 columns]"
      ]
     },
     "execution_count": 4,
     "metadata": {},
     "output_type": "execute_result"
    }
   ],
   "source": [
    "df"
   ]
  },
  {
   "cell_type": "code",
   "execution_count": 5,
   "metadata": {},
   "outputs": [
    {
     "data": {
      "text/plain": [
       "(2561, 11)"
      ]
     },
     "execution_count": 5,
     "metadata": {},
     "output_type": "execute_result"
    }
   ],
   "source": [
    "df.shape"
   ]
  },
  {
   "cell_type": "code",
   "execution_count": 6,
   "metadata": {},
   "outputs": [
    {
     "name": "stdout",
     "output_type": "stream",
     "text": [
      "<class 'pandas.core.frame.DataFrame'>\n",
      "RangeIndex: 2561 entries, 0 to 2560\n",
      "Data columns (total 11 columns):\n",
      " #   Column               Non-Null Count  Dtype  \n",
      "---  ------               --------------  -----  \n",
      " 0   Region/Country/Area  2561 non-null   int64  \n",
      " 1   Unnamed: 1           2561 non-null   object \n",
      " 2   Year                 2561 non-null   int64  \n",
      " 3   Series               2561 non-null   object \n",
      " 4   Value                2561 non-null   float64\n",
      " 5   Footnotes            793 non-null    object \n",
      " 6   Source               2561 non-null   object \n",
      " 7   Unnamed: 7           163 non-null    object \n",
      " 8   Unnamed: 8           33 non-null     object \n",
      " 9   Unnamed: 9           5 non-null      object \n",
      " 10  Unnamed: 10          1 non-null      object \n",
      "dtypes: float64(1), int64(2), object(8)\n",
      "memory usage: 220.2+ KB\n"
     ]
    }
   ],
   "source": [
    "df.info()"
   ]
  },
  {
   "cell_type": "code",
   "execution_count": 7,
   "metadata": {},
   "outputs": [
    {
     "data": {
      "text/html": [
       "<div>\n",
       "<style scoped>\n",
       "    .dataframe tbody tr th:only-of-type {\n",
       "        vertical-align: middle;\n",
       "    }\n",
       "\n",
       "    .dataframe tbody tr th {\n",
       "        vertical-align: top;\n",
       "    }\n",
       "\n",
       "    .dataframe thead th {\n",
       "        text-align: right;\n",
       "    }\n",
       "</style>\n",
       "<table border=\"1\" class=\"dataframe\">\n",
       "  <thead>\n",
       "    <tr style=\"text-align: right;\">\n",
       "      <th></th>\n",
       "      <th>Code</th>\n",
       "      <th>Region/Country/Area</th>\n",
       "      <th>Year</th>\n",
       "      <th>Series</th>\n",
       "      <th>Value</th>\n",
       "      <th>Footnotes</th>\n",
       "      <th>Source</th>\n",
       "      <th>Unnamed: 7</th>\n",
       "      <th>Unnamed: 8</th>\n",
       "      <th>Unnamed: 9</th>\n",
       "      <th>Unnamed: 10</th>\n",
       "    </tr>\n",
       "  </thead>\n",
       "  <tbody>\n",
       "    <tr>\n",
       "      <th>0</th>\n",
       "      <td>1</td>\n",
       "      <td>Total, all countries or areas</td>\n",
       "      <td>2005</td>\n",
       "      <td>Gross domestic expenditure on R &amp; D: as a perc...</td>\n",
       "      <td>1.5</td>\n",
       "      <td>NaN</td>\n",
       "      <td>United Nations Educational, Scientific and Cul...</td>\n",
       "      <td>NaN</td>\n",
       "      <td>NaN</td>\n",
       "      <td>NaN</td>\n",
       "      <td>NaN</td>\n",
       "    </tr>\n",
       "    <tr>\n",
       "      <th>1</th>\n",
       "      <td>1</td>\n",
       "      <td>Total, all countries or areas</td>\n",
       "      <td>2010</td>\n",
       "      <td>Gross domestic expenditure on R &amp; D: as a perc...</td>\n",
       "      <td>1.6</td>\n",
       "      <td>NaN</td>\n",
       "      <td>United Nations Educational, Scientific and Cul...</td>\n",
       "      <td>NaN</td>\n",
       "      <td>NaN</td>\n",
       "      <td>NaN</td>\n",
       "      <td>NaN</td>\n",
       "    </tr>\n",
       "    <tr>\n",
       "      <th>2</th>\n",
       "      <td>1</td>\n",
       "      <td>Total, all countries or areas</td>\n",
       "      <td>2015</td>\n",
       "      <td>Gross domestic expenditure on R &amp; D: as a perc...</td>\n",
       "      <td>1.7</td>\n",
       "      <td>NaN</td>\n",
       "      <td>United Nations Educational, Scientific and Cul...</td>\n",
       "      <td>NaN</td>\n",
       "      <td>NaN</td>\n",
       "      <td>NaN</td>\n",
       "      <td>NaN</td>\n",
       "    </tr>\n",
       "    <tr>\n",
       "      <th>3</th>\n",
       "      <td>1</td>\n",
       "      <td>Total, all countries or areas</td>\n",
       "      <td>2018</td>\n",
       "      <td>Gross domestic expenditure on R &amp; D: as a perc...</td>\n",
       "      <td>1.7</td>\n",
       "      <td>NaN</td>\n",
       "      <td>United Nations Educational, Scientific and Cul...</td>\n",
       "      <td>NaN</td>\n",
       "      <td>NaN</td>\n",
       "      <td>NaN</td>\n",
       "      <td>NaN</td>\n",
       "    </tr>\n",
       "    <tr>\n",
       "      <th>4</th>\n",
       "      <td>15</td>\n",
       "      <td>Northern Africa</td>\n",
       "      <td>2005</td>\n",
       "      <td>Gross domestic expenditure on R &amp; D: as a perc...</td>\n",
       "      <td>0.3</td>\n",
       "      <td>NaN</td>\n",
       "      <td>United Nations Educational, Scientific and Cul...</td>\n",
       "      <td>NaN</td>\n",
       "      <td>NaN</td>\n",
       "      <td>NaN</td>\n",
       "      <td>NaN</td>\n",
       "    </tr>\n",
       "  </tbody>\n",
       "</table>\n",
       "</div>"
      ],
      "text/plain": [
       "   Code            Region/Country/Area  Year  \\\n",
       "0     1  Total, all countries or areas  2005   \n",
       "1     1  Total, all countries or areas  2010   \n",
       "2     1  Total, all countries or areas  2015   \n",
       "3     1  Total, all countries or areas  2018   \n",
       "4    15                Northern Africa  2005   \n",
       "\n",
       "                                              Series  Value Footnotes  \\\n",
       "0  Gross domestic expenditure on R & D: as a perc...    1.5       NaN   \n",
       "1  Gross domestic expenditure on R & D: as a perc...    1.6       NaN   \n",
       "2  Gross domestic expenditure on R & D: as a perc...    1.7       NaN   \n",
       "3  Gross domestic expenditure on R & D: as a perc...    1.7       NaN   \n",
       "4  Gross domestic expenditure on R & D: as a perc...    0.3       NaN   \n",
       "\n",
       "                                              Source Unnamed: 7 Unnamed: 8  \\\n",
       "0  United Nations Educational, Scientific and Cul...        NaN        NaN   \n",
       "1  United Nations Educational, Scientific and Cul...        NaN        NaN   \n",
       "2  United Nations Educational, Scientific and Cul...        NaN        NaN   \n",
       "3  United Nations Educational, Scientific and Cul...        NaN        NaN   \n",
       "4  United Nations Educational, Scientific and Cul...        NaN        NaN   \n",
       "\n",
       "  Unnamed: 9 Unnamed: 10  \n",
       "0        NaN         NaN  \n",
       "1        NaN         NaN  \n",
       "2        NaN         NaN  \n",
       "3        NaN         NaN  \n",
       "4        NaN         NaN  "
      ]
     },
     "execution_count": 7,
     "metadata": {},
     "output_type": "execute_result"
    }
   ],
   "source": [
    "df.rename(columns={'Region/Country/Area': 'Code', \n",
    "                   'Unnamed: 1': 'Region/Country/Area',\n",
    "                   }, inplace=True)\n",
    "\n",
    "df.head()"
   ]
  },
  {
   "cell_type": "code",
   "execution_count": 8,
   "metadata": {},
   "outputs": [
    {
     "data": {
      "text/html": [
       "<div>\n",
       "<style scoped>\n",
       "    .dataframe tbody tr th:only-of-type {\n",
       "        vertical-align: middle;\n",
       "    }\n",
       "\n",
       "    .dataframe tbody tr th {\n",
       "        vertical-align: top;\n",
       "    }\n",
       "\n",
       "    .dataframe thead th {\n",
       "        text-align: right;\n",
       "    }\n",
       "</style>\n",
       "<table border=\"1\" class=\"dataframe\">\n",
       "  <thead>\n",
       "    <tr style=\"text-align: right;\">\n",
       "      <th></th>\n",
       "      <th>Code</th>\n",
       "      <th>Region/Country/Area</th>\n",
       "      <th>Year</th>\n",
       "      <th>Series</th>\n",
       "      <th>Value</th>\n",
       "    </tr>\n",
       "  </thead>\n",
       "  <tbody>\n",
       "    <tr>\n",
       "      <th>0</th>\n",
       "      <td>1</td>\n",
       "      <td>Total, all countries or areas</td>\n",
       "      <td>2005</td>\n",
       "      <td>Gross domestic expenditure on R &amp; D: as a perc...</td>\n",
       "      <td>1.5</td>\n",
       "    </tr>\n",
       "    <tr>\n",
       "      <th>1</th>\n",
       "      <td>1</td>\n",
       "      <td>Total, all countries or areas</td>\n",
       "      <td>2010</td>\n",
       "      <td>Gross domestic expenditure on R &amp; D: as a perc...</td>\n",
       "      <td>1.6</td>\n",
       "    </tr>\n",
       "    <tr>\n",
       "      <th>2</th>\n",
       "      <td>1</td>\n",
       "      <td>Total, all countries or areas</td>\n",
       "      <td>2015</td>\n",
       "      <td>Gross domestic expenditure on R &amp; D: as a perc...</td>\n",
       "      <td>1.7</td>\n",
       "    </tr>\n",
       "    <tr>\n",
       "      <th>3</th>\n",
       "      <td>1</td>\n",
       "      <td>Total, all countries or areas</td>\n",
       "      <td>2018</td>\n",
       "      <td>Gross domestic expenditure on R &amp; D: as a perc...</td>\n",
       "      <td>1.7</td>\n",
       "    </tr>\n",
       "    <tr>\n",
       "      <th>4</th>\n",
       "      <td>15</td>\n",
       "      <td>Northern Africa</td>\n",
       "      <td>2005</td>\n",
       "      <td>Gross domestic expenditure on R &amp; D: as a perc...</td>\n",
       "      <td>0.3</td>\n",
       "    </tr>\n",
       "    <tr>\n",
       "      <th>...</th>\n",
       "      <td>...</td>\n",
       "      <td>...</td>\n",
       "      <td>...</td>\n",
       "      <td>...</td>\n",
       "      <td>...</td>\n",
       "    </tr>\n",
       "    <tr>\n",
       "      <th>2556</th>\n",
       "      <td>894</td>\n",
       "      <td>Zambia</td>\n",
       "      <td>2008</td>\n",
       "      <td>Gross domestic expenditure on R &amp; D: as a perc...</td>\n",
       "      <td>0.3</td>\n",
       "    </tr>\n",
       "    <tr>\n",
       "      <th>2557</th>\n",
       "      <td>894</td>\n",
       "      <td>Zambia</td>\n",
       "      <td>2008</td>\n",
       "      <td>Gross domestic expenditure on R &amp; D: Business ...</td>\n",
       "      <td>3.2</td>\n",
       "    </tr>\n",
       "    <tr>\n",
       "      <th>2558</th>\n",
       "      <td>894</td>\n",
       "      <td>Zambia</td>\n",
       "      <td>2008</td>\n",
       "      <td>Gross domestic expenditure on R &amp; D: Governmen...</td>\n",
       "      <td>94.8</td>\n",
       "    </tr>\n",
       "    <tr>\n",
       "      <th>2559</th>\n",
       "      <td>894</td>\n",
       "      <td>Zambia</td>\n",
       "      <td>2008</td>\n",
       "      <td>Gross domestic expenditure on R &amp; D: Private n...</td>\n",
       "      <td>0.3</td>\n",
       "    </tr>\n",
       "    <tr>\n",
       "      <th>2560</th>\n",
       "      <td>894</td>\n",
       "      <td>Zambia</td>\n",
       "      <td>2008</td>\n",
       "      <td>Gross domestic expenditure on R &amp; D: Funds fro...</td>\n",
       "      <td>1.6</td>\n",
       "    </tr>\n",
       "  </tbody>\n",
       "</table>\n",
       "<p>2561 rows × 5 columns</p>\n",
       "</div>"
      ],
      "text/plain": [
       "      Code            Region/Country/Area  Year  \\\n",
       "0        1  Total, all countries or areas  2005   \n",
       "1        1  Total, all countries or areas  2010   \n",
       "2        1  Total, all countries or areas  2015   \n",
       "3        1  Total, all countries or areas  2018   \n",
       "4       15                Northern Africa  2005   \n",
       "...    ...                            ...   ...   \n",
       "2556   894                         Zambia  2008   \n",
       "2557   894                         Zambia  2008   \n",
       "2558   894                         Zambia  2008   \n",
       "2559   894                         Zambia  2008   \n",
       "2560   894                         Zambia  2008   \n",
       "\n",
       "                                                 Series  Value  \n",
       "0     Gross domestic expenditure on R & D: as a perc...    1.5  \n",
       "1     Gross domestic expenditure on R & D: as a perc...    1.6  \n",
       "2     Gross domestic expenditure on R & D: as a perc...    1.7  \n",
       "3     Gross domestic expenditure on R & D: as a perc...    1.7  \n",
       "4     Gross domestic expenditure on R & D: as a perc...    0.3  \n",
       "...                                                 ...    ...  \n",
       "2556  Gross domestic expenditure on R & D: as a perc...    0.3  \n",
       "2557  Gross domestic expenditure on R & D: Business ...    3.2  \n",
       "2558  Gross domestic expenditure on R & D: Governmen...   94.8  \n",
       "2559  Gross domestic expenditure on R & D: Private n...    0.3  \n",
       "2560  Gross domestic expenditure on R & D: Funds fro...    1.6  \n",
       "\n",
       "[2561 rows x 5 columns]"
      ]
     },
     "execution_count": 8,
     "metadata": {},
     "output_type": "execute_result"
    }
   ],
   "source": [
    "df1 = df[['Code', 'Region/Country/Area', 'Year', 'Series', 'Value']]\n",
    "df1"
   ]
  },
  {
   "cell_type": "code",
   "execution_count": 9,
   "metadata": {},
   "outputs": [
    {
     "data": {
      "text/plain": [
       "(2561, 5)"
      ]
     },
     "execution_count": 9,
     "metadata": {},
     "output_type": "execute_result"
    }
   ],
   "source": [
    "df1.shape"
   ]
  },
  {
   "cell_type": "code",
   "execution_count": 10,
   "metadata": {},
   "outputs": [
    {
     "name": "stdout",
     "output_type": "stream",
     "text": [
      "<class 'pandas.core.frame.DataFrame'>\n",
      "RangeIndex: 2561 entries, 0 to 2560\n",
      "Data columns (total 5 columns):\n",
      " #   Column               Non-Null Count  Dtype  \n",
      "---  ------               --------------  -----  \n",
      " 0   Code                 2561 non-null   int64  \n",
      " 1   Region/Country/Area  2561 non-null   object \n",
      " 2   Year                 2561 non-null   int64  \n",
      " 3   Series               2561 non-null   object \n",
      " 4   Value                2561 non-null   float64\n",
      "dtypes: float64(1), int64(2), object(2)\n",
      "memory usage: 100.2+ KB\n"
     ]
    }
   ],
   "source": [
    "df1.info()"
   ]
  },
  {
   "cell_type": "code",
   "execution_count": 11,
   "metadata": {},
   "outputs": [
    {
     "data": {
      "text/html": [
       "<div>\n",
       "<style scoped>\n",
       "    .dataframe tbody tr th:only-of-type {\n",
       "        vertical-align: middle;\n",
       "    }\n",
       "\n",
       "    .dataframe tbody tr th {\n",
       "        vertical-align: top;\n",
       "    }\n",
       "\n",
       "    .dataframe thead th {\n",
       "        text-align: right;\n",
       "    }\n",
       "</style>\n",
       "<table border=\"1\" class=\"dataframe\">\n",
       "  <thead>\n",
       "    <tr style=\"text-align: right;\">\n",
       "      <th></th>\n",
       "      <th>Region/Country/Area</th>\n",
       "      <th>Series</th>\n",
       "    </tr>\n",
       "  </thead>\n",
       "  <tbody>\n",
       "    <tr>\n",
       "      <th>count</th>\n",
       "      <td>2561</td>\n",
       "      <td>2561</td>\n",
       "    </tr>\n",
       "    <tr>\n",
       "      <th>unique</th>\n",
       "      <td>162</td>\n",
       "      <td>7</td>\n",
       "    </tr>\n",
       "    <tr>\n",
       "      <th>top</th>\n",
       "      <td>Austria</td>\n",
       "      <td>Gross domestic expenditure on R &amp; D: as a perc...</td>\n",
       "    </tr>\n",
       "    <tr>\n",
       "      <th>freq</th>\n",
       "      <td>39</td>\n",
       "      <td>600</td>\n",
       "    </tr>\n",
       "  </tbody>\n",
       "</table>\n",
       "</div>"
      ],
      "text/plain": [
       "       Region/Country/Area                                             Series\n",
       "count                 2561                                               2561\n",
       "unique                 162                                                  7\n",
       "top                Austria  Gross domestic expenditure on R & D: as a perc...\n",
       "freq                    39                                                600"
      ]
     },
     "execution_count": 11,
     "metadata": {},
     "output_type": "execute_result"
    }
   ],
   "source": [
    "df1.describe(include='object')"
   ]
  },
  {
   "cell_type": "code",
   "execution_count": 12,
   "metadata": {},
   "outputs": [
    {
     "data": {
      "text/plain": [
       "Austria                 39\n",
       "Panama                  39\n",
       "Uruguay                 38\n",
       "Azerbaijan              37\n",
       "Mongolia                36\n",
       "                        ..\n",
       "Syrian Arab Republic     1\n",
       "Greenland                1\n",
       "Sudan                    1\n",
       "Jamaica                  1\n",
       "Nepal                    1\n",
       "Name: Region/Country/Area, Length: 162, dtype: int64"
      ]
     },
     "execution_count": 12,
     "metadata": {},
     "output_type": "execute_result"
    }
   ],
   "source": [
    "df1['Region/Country/Area'].value_counts()"
   ]
  },
  {
   "cell_type": "code",
   "execution_count": 13,
   "metadata": {},
   "outputs": [
    {
     "data": {
      "text/plain": [
       "Gross domestic expenditure on R & D: as a percentage of GDP (%)    600\n",
       "Gross domestic expenditure on R & D: Government (%)                434\n",
       "Gross domestic expenditure on R & D: Business enterprises (%)      384\n",
       "Gross domestic expenditure on R & D: Funds from abroad (%)         384\n",
       "Gross domestic expenditure on R & D: Higher education (%)          334\n",
       "Gross domestic expenditure on R & D: Private non-profit (%)        306\n",
       "Gross domestic expenditure on R & D: Not distributed (%)           119\n",
       "Name: Series, dtype: int64"
      ]
     },
     "execution_count": 13,
     "metadata": {},
     "output_type": "execute_result"
    }
   ],
   "source": [
    "df1['Series'].value_counts()"
   ]
  },
  {
   "cell_type": "code",
   "execution_count": 14,
   "metadata": {},
   "outputs": [
    {
     "data": {
      "text/plain": [
       "40     39\n",
       "591    39\n",
       "858    38\n",
       "31     37\n",
       "496    36\n",
       "       ..\n",
       "760     1\n",
       "304     1\n",
       "729     1\n",
       "388     1\n",
       "524     1\n",
       "Name: Code, Length: 162, dtype: int64"
      ]
     },
     "execution_count": 14,
     "metadata": {},
     "output_type": "execute_result"
    }
   ],
   "source": [
    "df1['Code'].value_counts()"
   ]
  },
  {
   "cell_type": "markdown",
   "metadata": {},
   "source": [
    "# Data Cleaning"
   ]
  },
  {
   "cell_type": "code",
   "execution_count": 15,
   "metadata": {},
   "outputs": [
    {
     "data": {
      "text/plain": [
       "array(['Total, all countries or areas', 'Northern Africa',\n",
       "       'Sub-Saharan Africa', 'Northern America',\n",
       "       'Latin America & the Caribbean', 'Central Asia', 'Eastern Asia',\n",
       "       'South-eastern Asia', 'Southern Asia', 'Western Asia', 'Europe',\n",
       "       'Oceania', 'Australia and New Zealand', 'Albania', 'Algeria',\n",
       "       'American Samoa', 'Angola', 'Argentina', 'Armenia', 'Australia',\n",
       "       'Austria', 'Azerbaijan', 'Bahrain', 'Belarus', 'Belgium',\n",
       "       'Bermuda', 'Bolivia (Plurin. State of)', 'Bosnia and Herzegovina',\n",
       "       'Botswana', 'Brazil', 'Brunei Darussalam', 'Bulgaria',\n",
       "       'Burkina Faso', 'Burundi', 'Cabo Verde', 'Cambodia', 'Canada',\n",
       "       'Chad', 'Chile', 'China', 'China, Hong Kong SAR',\n",
       "       'China, Macao SAR', 'Colombia', 'Costa Rica', 'Côte d’Ivoire',\n",
       "       'Croatia', 'Cuba', 'Cyprus', 'Czechia', 'Dem. Rep. of the Congo',\n",
       "       'Denmark', 'Ecuador', 'Egypt', 'El Salvador', 'Estonia',\n",
       "       'Eswatini', 'Ethiopia', 'Faroe Islands', 'Finland', 'France',\n",
       "       'Gabon', 'Gambia', 'Georgia', 'Germany', 'Ghana', 'Greece',\n",
       "       'Greenland', 'Guam', 'Guatemala', 'Honduras', 'Hungary', 'Iceland',\n",
       "       'India', 'Indonesia', 'Iran (Islamic Republic of)', 'Iraq',\n",
       "       'Ireland', 'Israel', 'Italy', 'Jamaica', 'Japan', 'Jordan',\n",
       "       'Kazakhstan', 'Kenya', 'Kuwait', 'Kyrgyzstan',\n",
       "       \"Lao People's Dem. Rep.\", 'Latvia', 'Lesotho', 'Lithuania',\n",
       "       'Luxembourg', 'Madagascar', 'Malaysia', 'Mali', 'Malta',\n",
       "       'Mauritania', 'Mauritius', 'Mexico', 'Monaco', 'Mongolia',\n",
       "       'Montenegro', 'Morocco', 'Mozambique', 'Myanmar', 'Namibia',\n",
       "       'Nepal', 'Netherlands', 'New Zealand', 'Nicaragua', 'Nigeria',\n",
       "       'North Macedonia', 'Norway', 'Oman', 'Pakistan', 'Panama',\n",
       "       'Papua New Guinea', 'Paraguay', 'Peru', 'Philippines', 'Poland',\n",
       "       'Portugal', 'Puerto Rico', 'Qatar', 'Republic of Korea',\n",
       "       'Republic of Moldova', 'Romania', 'Russian Federation', 'Rwanda',\n",
       "       'Saint Vincent & Grenadines', 'Saudi Arabia', 'Senegal', 'Serbia',\n",
       "       'Seychelles', 'Singapore', 'Slovakia', 'Slovenia', 'South Africa',\n",
       "       'Spain', 'Sri Lanka', 'State of Palestine', 'Sudan', 'Sweden',\n",
       "       'Switzerland', 'Syrian Arab Republic', 'Tajikistan', 'Thailand',\n",
       "       'Togo', 'Trinidad and Tobago', 'Tunisia', 'Turkey', 'Uganda',\n",
       "       'Ukraine', 'United Arab Emirates', 'United Kingdom',\n",
       "       'United Rep. of Tanzania', 'United States of America',\n",
       "       'United States Virgin Islands', 'Uruguay', 'Uzbekistan',\n",
       "       'Venezuela (Boliv. Rep. of)', 'Viet Nam', 'Zambia'], dtype=object)"
      ]
     },
     "execution_count": 15,
     "metadata": {},
     "output_type": "execute_result"
    }
   ],
   "source": [
    "df1['Region/Country/Area'].replace(\n",
    "    {'C�te d�Ivoire': \"Côte d’Ivoire\"}, inplace=True)\n",
    "\n",
    "df1['Region/Country/Area'].unique()"
   ]
  },
  {
   "cell_type": "code",
   "execution_count": 16,
   "metadata": {},
   "outputs": [
    {
     "data": {
      "text/plain": [
       "2015    531\n",
       "2010    443\n",
       "2005    416\n",
       "2018    296\n",
       "2017    279\n",
       "Name: Year, dtype: int64"
      ]
     },
     "execution_count": 16,
     "metadata": {},
     "output_type": "execute_result"
    }
   ],
   "source": [
    "df1['Year'].value_counts().head()"
   ]
  },
  {
   "cell_type": "code",
   "execution_count": 17,
   "metadata": {},
   "outputs": [
    {
     "data": {
      "text/plain": [
       "count    2561.000000\n",
       "mean       17.405193\n",
       "std        24.001322\n",
       "min         0.000000\n",
       "25%         0.600000\n",
       "50%         3.500000\n",
       "75%        30.800000\n",
       "max       100.000000\n",
       "Name: Value, dtype: float64"
      ]
     },
     "execution_count": 17,
     "metadata": {},
     "output_type": "execute_result"
    }
   ],
   "source": [
    "df1['Value'].describe()"
   ]
  },
  {
   "cell_type": "markdown",
   "metadata": {},
   "source": [
    "# Missing Values Exploration"
   ]
  },
  {
   "cell_type": "code",
   "execution_count": 18,
   "metadata": {},
   "outputs": [
    {
     "data": {
      "text/plain": [
       "Code                   0\n",
       "Region/Country/Area    0\n",
       "Year                   0\n",
       "Series                 0\n",
       "Value                  0\n",
       "dtype: int64"
      ]
     },
     "execution_count": 18,
     "metadata": {},
     "output_type": "execute_result"
    }
   ],
   "source": [
    "df1.isna().sum()"
   ]
  }
 ],
 "metadata": {
  "interpreter": {
   "hash": "3fe9daace87ea8cb12e037f7452ad9bcd52f59aa894a611255d1461de3a9065e"
  },
  "kernelspec": {
   "display_name": "Python 3.9.7 ('DS')",
   "language": "python",
   "name": "python3"
  },
  "language_info": {
   "codemirror_mode": {
    "name": "ipython",
    "version": 3
   },
   "file_extension": ".py",
   "mimetype": "text/x-python",
   "name": "python",
   "nbconvert_exporter": "python",
   "pygments_lexer": "ipython3",
   "version": "3.9.7"
  },
  "orig_nbformat": 4
 },
 "nbformat": 4,
 "nbformat_minor": 2
}
