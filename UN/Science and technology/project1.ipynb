{
 "cells": [
  {
   "cell_type": "markdown",
   "metadata": {},
   "source": [
    "# Human resources in R & D"
   ]
  },
  {
   "cell_type": "markdown",
   "metadata": {},
   "source": [
    "# Import Libraries"
   ]
  },
  {
   "cell_type": "code",
   "execution_count": 1,
   "metadata": {},
   "outputs": [],
   "source": [
    "import numpy as np\n",
    "import pandas as pd\n",
    "import matplotlib.pyplot as plt\n",
    "import seaborn as sns\n",
    "import os\n",
    "import warnings"
   ]
  },
  {
   "cell_type": "markdown",
   "metadata": {},
   "source": [
    "# Options and Settings"
   ]
  },
  {
   "cell_type": "code",
   "execution_count": 2,
   "metadata": {},
   "outputs": [],
   "source": [
    "%matplotlib inline\n",
    "plt.style.use('ggplot')\n",
    "plt.rcParams['figure.autolayout'] = True\n",
    "plt.rcParams['figure.figsize'] = [12, 9]\n",
    "plt.rcParams['font.size'] = 12\n",
    "path = os.getcwd()                                         # get current working directory\n",
    "warnings.simplefilter('ignore')"
   ]
  },
  {
   "cell_type": "markdown",
   "metadata": {},
   "source": [
    "# Import Data"
   ]
  },
  {
   "cell_type": "code",
   "execution_count": 3,
   "metadata": {},
   "outputs": [],
   "source": [
    "filepath = os.path.join('datasets', 'Research Development Staff.csv')\n",
    "df = pd.read_csv(filepath)"
   ]
  },
  {
   "cell_type": "markdown",
   "metadata": {},
   "source": [
    "# Head and Tail"
   ]
  },
  {
   "cell_type": "code",
   "execution_count": 4,
   "metadata": {},
   "outputs": [
    {
     "data": {
      "text/html": [
       "<div>\n",
       "<style scoped>\n",
       "    .dataframe tbody tr th:only-of-type {\n",
       "        vertical-align: middle;\n",
       "    }\n",
       "\n",
       "    .dataframe tbody tr th {\n",
       "        vertical-align: top;\n",
       "    }\n",
       "\n",
       "    .dataframe thead th {\n",
       "        text-align: right;\n",
       "    }\n",
       "</style>\n",
       "<table border=\"1\" class=\"dataframe\">\n",
       "  <thead>\n",
       "    <tr style=\"text-align: right;\">\n",
       "      <th></th>\n",
       "      <th>Region/Country/Area</th>\n",
       "      <th>Unnamed: 1</th>\n",
       "      <th>Year</th>\n",
       "      <th>Series</th>\n",
       "      <th>Value</th>\n",
       "      <th>Footnotes</th>\n",
       "      <th>Source</th>\n",
       "      <th>Unnamed: 7</th>\n",
       "      <th>Unnamed: 8</th>\n",
       "      <th>Unnamed: 9</th>\n",
       "    </tr>\n",
       "  </thead>\n",
       "  <tbody>\n",
       "    <tr>\n",
       "      <th>0</th>\n",
       "      <td>8</td>\n",
       "      <td>Albania</td>\n",
       "      <td>2008</td>\n",
       "      <td>R &amp; D personnel: Total (number in full-time eq...</td>\n",
       "      <td>779</td>\n",
       "      <td>Partial data.</td>\n",
       "      <td>United Nations Educational, Scientific and Cul...</td>\n",
       "      <td>NaN</td>\n",
       "      <td>NaN</td>\n",
       "      <td>NaN</td>\n",
       "    </tr>\n",
       "    <tr>\n",
       "      <th>1</th>\n",
       "      <td>8</td>\n",
       "      <td>Albania</td>\n",
       "      <td>2008</td>\n",
       "      <td>R &amp; D personnel: Researchers - total (number i...</td>\n",
       "      <td>467</td>\n",
       "      <td>Partial data.</td>\n",
       "      <td>United Nations Educational, Scientific and Cul...</td>\n",
       "      <td>NaN</td>\n",
       "      <td>NaN</td>\n",
       "      <td>NaN</td>\n",
       "    </tr>\n",
       "    <tr>\n",
       "      <th>2</th>\n",
       "      <td>8</td>\n",
       "      <td>Albania</td>\n",
       "      <td>2008</td>\n",
       "      <td>R &amp; D personnel: Researchers - women (number i...</td>\n",
       "      <td>207</td>\n",
       "      <td>Partial data.</td>\n",
       "      <td>United Nations Educational, Scientific and Cul...</td>\n",
       "      <td>NaN</td>\n",
       "      <td>NaN</td>\n",
       "      <td>NaN</td>\n",
       "    </tr>\n",
       "    <tr>\n",
       "      <th>3</th>\n",
       "      <td>8</td>\n",
       "      <td>Albania</td>\n",
       "      <td>2008</td>\n",
       "      <td>R &amp; D personnel: Technicians - total (number i...</td>\n",
       "      <td>120</td>\n",
       "      <td>Partial data.</td>\n",
       "      <td>United Nations Educational, Scientific and Cul...</td>\n",
       "      <td>NaN</td>\n",
       "      <td>NaN</td>\n",
       "      <td>NaN</td>\n",
       "    </tr>\n",
       "    <tr>\n",
       "      <th>4</th>\n",
       "      <td>8</td>\n",
       "      <td>Albania</td>\n",
       "      <td>2008</td>\n",
       "      <td>R &amp; D personnel: Other supporting staff - tota...</td>\n",
       "      <td>192</td>\n",
       "      <td>Partial data.</td>\n",
       "      <td>United Nations Educational, Scientific and Cul...</td>\n",
       "      <td>NaN</td>\n",
       "      <td>NaN</td>\n",
       "      <td>NaN</td>\n",
       "    </tr>\n",
       "    <tr>\n",
       "      <th>...</th>\n",
       "      <td>...</td>\n",
       "      <td>...</td>\n",
       "      <td>...</td>\n",
       "      <td>...</td>\n",
       "      <td>...</td>\n",
       "      <td>...</td>\n",
       "      <td>...</td>\n",
       "      <td>...</td>\n",
       "      <td>...</td>\n",
       "      <td>...</td>\n",
       "    </tr>\n",
       "    <tr>\n",
       "      <th>2567</th>\n",
       "      <td>716</td>\n",
       "      <td>Zimbabwe</td>\n",
       "      <td>2012</td>\n",
       "      <td>R &amp; D personnel: Researchers - women (number i...</td>\n",
       "      <td>332</td>\n",
       "      <td>NaN</td>\n",
       "      <td>United Nations Educational, Scientific and Cul...</td>\n",
       "      <td>NaN</td>\n",
       "      <td>NaN</td>\n",
       "      <td>NaN</td>\n",
       "    </tr>\n",
       "    <tr>\n",
       "      <th>2568</th>\n",
       "      <td>716</td>\n",
       "      <td>Zimbabwe</td>\n",
       "      <td>2012</td>\n",
       "      <td>R &amp; D personnel: Technicians - total (number i...</td>\n",
       "      <td>141</td>\n",
       "      <td>Excluding business enterprise.</td>\n",
       "      <td>United Nations Educational, Scientific and Cul...</td>\n",
       "      <td>NaN</td>\n",
       "      <td>NaN</td>\n",
       "      <td>NaN</td>\n",
       "    </tr>\n",
       "    <tr>\n",
       "      <th>2569</th>\n",
       "      <td>716</td>\n",
       "      <td>Zimbabwe</td>\n",
       "      <td>2012</td>\n",
       "      <td>R &amp; D personnel: Technicians - women (number i...</td>\n",
       "      <td>41</td>\n",
       "      <td>NaN</td>\n",
       "      <td>United Nations Educational, Scientific and Cul...</td>\n",
       "      <td>NaN</td>\n",
       "      <td>NaN</td>\n",
       "      <td>NaN</td>\n",
       "    </tr>\n",
       "    <tr>\n",
       "      <th>2570</th>\n",
       "      <td>716</td>\n",
       "      <td>Zimbabwe</td>\n",
       "      <td>2012</td>\n",
       "      <td>R &amp; D personnel: Other supporting staff - tota...</td>\n",
       "      <td>295</td>\n",
       "      <td>Excluding business enterprise.</td>\n",
       "      <td>United Nations Educational, Scientific and Cul...</td>\n",
       "      <td>NaN</td>\n",
       "      <td>NaN</td>\n",
       "      <td>NaN</td>\n",
       "    </tr>\n",
       "    <tr>\n",
       "      <th>2571</th>\n",
       "      <td>716</td>\n",
       "      <td>Zimbabwe</td>\n",
       "      <td>2012</td>\n",
       "      <td>R &amp; D personnel: Other supporting staff - wome...</td>\n",
       "      <td>100</td>\n",
       "      <td>NaN</td>\n",
       "      <td>United Nations Educational, Scientific and Cul...</td>\n",
       "      <td>NaN</td>\n",
       "      <td>NaN</td>\n",
       "      <td>NaN</td>\n",
       "    </tr>\n",
       "  </tbody>\n",
       "</table>\n",
       "<p>2572 rows × 10 columns</p>\n",
       "</div>"
      ],
      "text/plain": [
       "      Region/Country/Area Unnamed: 1  Year  \\\n",
       "0                       8    Albania  2008   \n",
       "1                       8    Albania  2008   \n",
       "2                       8    Albania  2008   \n",
       "3                       8    Albania  2008   \n",
       "4                       8    Albania  2008   \n",
       "...                   ...        ...   ...   \n",
       "2567                  716   Zimbabwe  2012   \n",
       "2568                  716   Zimbabwe  2012   \n",
       "2569                  716   Zimbabwe  2012   \n",
       "2570                  716   Zimbabwe  2012   \n",
       "2571                  716   Zimbabwe  2012   \n",
       "\n",
       "                                                 Series  Value  \\\n",
       "0     R & D personnel: Total (number in full-time eq...    779   \n",
       "1     R & D personnel: Researchers - total (number i...    467   \n",
       "2     R & D personnel: Researchers - women (number i...    207   \n",
       "3     R & D personnel: Technicians - total (number i...    120   \n",
       "4     R & D personnel: Other supporting staff - tota...    192   \n",
       "...                                                 ...    ...   \n",
       "2567  R & D personnel: Researchers - women (number i...    332   \n",
       "2568  R & D personnel: Technicians - total (number i...    141   \n",
       "2569  R & D personnel: Technicians - women (number i...     41   \n",
       "2570  R & D personnel: Other supporting staff - tota...    295   \n",
       "2571  R & D personnel: Other supporting staff - wome...    100   \n",
       "\n",
       "                           Footnotes  \\\n",
       "0                      Partial data.   \n",
       "1                      Partial data.   \n",
       "2                      Partial data.   \n",
       "3                      Partial data.   \n",
       "4                      Partial data.   \n",
       "...                              ...   \n",
       "2567                             NaN   \n",
       "2568  Excluding business enterprise.   \n",
       "2569                             NaN   \n",
       "2570  Excluding business enterprise.   \n",
       "2571                             NaN   \n",
       "\n",
       "                                                 Source Unnamed: 7 Unnamed: 8  \\\n",
       "0     United Nations Educational, Scientific and Cul...        NaN        NaN   \n",
       "1     United Nations Educational, Scientific and Cul...        NaN        NaN   \n",
       "2     United Nations Educational, Scientific and Cul...        NaN        NaN   \n",
       "3     United Nations Educational, Scientific and Cul...        NaN        NaN   \n",
       "4     United Nations Educational, Scientific and Cul...        NaN        NaN   \n",
       "...                                                 ...        ...        ...   \n",
       "2567  United Nations Educational, Scientific and Cul...        NaN        NaN   \n",
       "2568  United Nations Educational, Scientific and Cul...        NaN        NaN   \n",
       "2569  United Nations Educational, Scientific and Cul...        NaN        NaN   \n",
       "2570  United Nations Educational, Scientific and Cul...        NaN        NaN   \n",
       "2571  United Nations Educational, Scientific and Cul...        NaN        NaN   \n",
       "\n",
       "     Unnamed: 9  \n",
       "0           NaN  \n",
       "1           NaN  \n",
       "2           NaN  \n",
       "3           NaN  \n",
       "4           NaN  \n",
       "...         ...  \n",
       "2567        NaN  \n",
       "2568        NaN  \n",
       "2569        NaN  \n",
       "2570        NaN  \n",
       "2571        NaN  \n",
       "\n",
       "[2572 rows x 10 columns]"
      ]
     },
     "execution_count": 4,
     "metadata": {},
     "output_type": "execute_result"
    }
   ],
   "source": [
    "df"
   ]
  },
  {
   "cell_type": "code",
   "execution_count": 5,
   "metadata": {},
   "outputs": [
    {
     "data": {
      "text/plain": [
       "(2572, 10)"
      ]
     },
     "execution_count": 5,
     "metadata": {},
     "output_type": "execute_result"
    }
   ],
   "source": [
    "df.shape"
   ]
  },
  {
   "cell_type": "code",
   "execution_count": 6,
   "metadata": {},
   "outputs": [
    {
     "name": "stdout",
     "output_type": "stream",
     "text": [
      "<class 'pandas.core.frame.DataFrame'>\n",
      "RangeIndex: 2572 entries, 0 to 2571\n",
      "Data columns (total 10 columns):\n",
      " #   Column               Non-Null Count  Dtype \n",
      "---  ------               --------------  ----- \n",
      " 0   Region/Country/Area  2572 non-null   int64 \n",
      " 1   Unnamed: 1           2572 non-null   object\n",
      " 2   Year                 2572 non-null   int64 \n",
      " 3   Series               2572 non-null   object\n",
      " 4   Value                2572 non-null   int64 \n",
      " 5   Footnotes            1391 non-null   object\n",
      " 6   Source               2572 non-null   object\n",
      " 7   Unnamed: 7           494 non-null    object\n",
      " 8   Unnamed: 8           125 non-null    object\n",
      " 9   Unnamed: 9           31 non-null     object\n",
      "dtypes: int64(3), object(7)\n",
      "memory usage: 201.1+ KB\n"
     ]
    }
   ],
   "source": [
    "df.info()"
   ]
  },
  {
   "cell_type": "code",
   "execution_count": 7,
   "metadata": {},
   "outputs": [
    {
     "data": {
      "text/html": [
       "<div>\n",
       "<style scoped>\n",
       "    .dataframe tbody tr th:only-of-type {\n",
       "        vertical-align: middle;\n",
       "    }\n",
       "\n",
       "    .dataframe tbody tr th {\n",
       "        vertical-align: top;\n",
       "    }\n",
       "\n",
       "    .dataframe thead th {\n",
       "        text-align: right;\n",
       "    }\n",
       "</style>\n",
       "<table border=\"1\" class=\"dataframe\">\n",
       "  <thead>\n",
       "    <tr style=\"text-align: right;\">\n",
       "      <th></th>\n",
       "      <th>Code</th>\n",
       "      <th>Country/Area</th>\n",
       "      <th>Year</th>\n",
       "      <th>Series</th>\n",
       "      <th>Value</th>\n",
       "      <th>Footnotes</th>\n",
       "      <th>Source</th>\n",
       "      <th>Unnamed: 7</th>\n",
       "      <th>Unnamed: 8</th>\n",
       "      <th>Unnamed: 9</th>\n",
       "    </tr>\n",
       "  </thead>\n",
       "  <tbody>\n",
       "    <tr>\n",
       "      <th>0</th>\n",
       "      <td>8</td>\n",
       "      <td>Albania</td>\n",
       "      <td>2008</td>\n",
       "      <td>R &amp; D personnel: Total (number in full-time eq...</td>\n",
       "      <td>779</td>\n",
       "      <td>Partial data.</td>\n",
       "      <td>United Nations Educational, Scientific and Cul...</td>\n",
       "      <td>NaN</td>\n",
       "      <td>NaN</td>\n",
       "      <td>NaN</td>\n",
       "    </tr>\n",
       "    <tr>\n",
       "      <th>1</th>\n",
       "      <td>8</td>\n",
       "      <td>Albania</td>\n",
       "      <td>2008</td>\n",
       "      <td>R &amp; D personnel: Researchers - total (number i...</td>\n",
       "      <td>467</td>\n",
       "      <td>Partial data.</td>\n",
       "      <td>United Nations Educational, Scientific and Cul...</td>\n",
       "      <td>NaN</td>\n",
       "      <td>NaN</td>\n",
       "      <td>NaN</td>\n",
       "    </tr>\n",
       "    <tr>\n",
       "      <th>2</th>\n",
       "      <td>8</td>\n",
       "      <td>Albania</td>\n",
       "      <td>2008</td>\n",
       "      <td>R &amp; D personnel: Researchers - women (number i...</td>\n",
       "      <td>207</td>\n",
       "      <td>Partial data.</td>\n",
       "      <td>United Nations Educational, Scientific and Cul...</td>\n",
       "      <td>NaN</td>\n",
       "      <td>NaN</td>\n",
       "      <td>NaN</td>\n",
       "    </tr>\n",
       "    <tr>\n",
       "      <th>3</th>\n",
       "      <td>8</td>\n",
       "      <td>Albania</td>\n",
       "      <td>2008</td>\n",
       "      <td>R &amp; D personnel: Technicians - total (number i...</td>\n",
       "      <td>120</td>\n",
       "      <td>Partial data.</td>\n",
       "      <td>United Nations Educational, Scientific and Cul...</td>\n",
       "      <td>NaN</td>\n",
       "      <td>NaN</td>\n",
       "      <td>NaN</td>\n",
       "    </tr>\n",
       "    <tr>\n",
       "      <th>4</th>\n",
       "      <td>8</td>\n",
       "      <td>Albania</td>\n",
       "      <td>2008</td>\n",
       "      <td>R &amp; D personnel: Other supporting staff - tota...</td>\n",
       "      <td>192</td>\n",
       "      <td>Partial data.</td>\n",
       "      <td>United Nations Educational, Scientific and Cul...</td>\n",
       "      <td>NaN</td>\n",
       "      <td>NaN</td>\n",
       "      <td>NaN</td>\n",
       "    </tr>\n",
       "  </tbody>\n",
       "</table>\n",
       "</div>"
      ],
      "text/plain": [
       "   Code Country/Area  Year                                             Series  \\\n",
       "0     8      Albania  2008  R & D personnel: Total (number in full-time eq...   \n",
       "1     8      Albania  2008  R & D personnel: Researchers - total (number i...   \n",
       "2     8      Albania  2008  R & D personnel: Researchers - women (number i...   \n",
       "3     8      Albania  2008  R & D personnel: Technicians - total (number i...   \n",
       "4     8      Albania  2008  R & D personnel: Other supporting staff - tota...   \n",
       "\n",
       "   Value      Footnotes                                             Source  \\\n",
       "0    779  Partial data.  United Nations Educational, Scientific and Cul...   \n",
       "1    467  Partial data.  United Nations Educational, Scientific and Cul...   \n",
       "2    207  Partial data.  United Nations Educational, Scientific and Cul...   \n",
       "3    120  Partial data.  United Nations Educational, Scientific and Cul...   \n",
       "4    192  Partial data.  United Nations Educational, Scientific and Cul...   \n",
       "\n",
       "  Unnamed: 7 Unnamed: 8 Unnamed: 9  \n",
       "0        NaN        NaN        NaN  \n",
       "1        NaN        NaN        NaN  \n",
       "2        NaN        NaN        NaN  \n",
       "3        NaN        NaN        NaN  \n",
       "4        NaN        NaN        NaN  "
      ]
     },
     "execution_count": 7,
     "metadata": {},
     "output_type": "execute_result"
    }
   ],
   "source": [
    "df.rename(columns={'Region/Country/Area': 'Code', \n",
    "                   'Unnamed: 1': 'Country/Area',\n",
    "                   }, inplace=True)\n",
    "\n",
    "df.head()"
   ]
  },
  {
   "cell_type": "code",
   "execution_count": 8,
   "metadata": {},
   "outputs": [
    {
     "data": {
      "text/html": [
       "<div>\n",
       "<style scoped>\n",
       "    .dataframe tbody tr th:only-of-type {\n",
       "        vertical-align: middle;\n",
       "    }\n",
       "\n",
       "    .dataframe tbody tr th {\n",
       "        vertical-align: top;\n",
       "    }\n",
       "\n",
       "    .dataframe thead th {\n",
       "        text-align: right;\n",
       "    }\n",
       "</style>\n",
       "<table border=\"1\" class=\"dataframe\">\n",
       "  <thead>\n",
       "    <tr style=\"text-align: right;\">\n",
       "      <th></th>\n",
       "      <th>Code</th>\n",
       "      <th>Country/Area</th>\n",
       "      <th>Year</th>\n",
       "      <th>Series</th>\n",
       "      <th>Value</th>\n",
       "    </tr>\n",
       "  </thead>\n",
       "  <tbody>\n",
       "    <tr>\n",
       "      <th>0</th>\n",
       "      <td>8</td>\n",
       "      <td>Albania</td>\n",
       "      <td>2008</td>\n",
       "      <td>R &amp; D personnel: Total (number in full-time eq...</td>\n",
       "      <td>779</td>\n",
       "    </tr>\n",
       "    <tr>\n",
       "      <th>1</th>\n",
       "      <td>8</td>\n",
       "      <td>Albania</td>\n",
       "      <td>2008</td>\n",
       "      <td>R &amp; D personnel: Researchers - total (number i...</td>\n",
       "      <td>467</td>\n",
       "    </tr>\n",
       "    <tr>\n",
       "      <th>2</th>\n",
       "      <td>8</td>\n",
       "      <td>Albania</td>\n",
       "      <td>2008</td>\n",
       "      <td>R &amp; D personnel: Researchers - women (number i...</td>\n",
       "      <td>207</td>\n",
       "    </tr>\n",
       "    <tr>\n",
       "      <th>3</th>\n",
       "      <td>8</td>\n",
       "      <td>Albania</td>\n",
       "      <td>2008</td>\n",
       "      <td>R &amp; D personnel: Technicians - total (number i...</td>\n",
       "      <td>120</td>\n",
       "    </tr>\n",
       "    <tr>\n",
       "      <th>4</th>\n",
       "      <td>8</td>\n",
       "      <td>Albania</td>\n",
       "      <td>2008</td>\n",
       "      <td>R &amp; D personnel: Other supporting staff - tota...</td>\n",
       "      <td>192</td>\n",
       "    </tr>\n",
       "    <tr>\n",
       "      <th>...</th>\n",
       "      <td>...</td>\n",
       "      <td>...</td>\n",
       "      <td>...</td>\n",
       "      <td>...</td>\n",
       "      <td>...</td>\n",
       "    </tr>\n",
       "    <tr>\n",
       "      <th>2567</th>\n",
       "      <td>716</td>\n",
       "      <td>Zimbabwe</td>\n",
       "      <td>2012</td>\n",
       "      <td>R &amp; D personnel: Researchers - women (number i...</td>\n",
       "      <td>332</td>\n",
       "    </tr>\n",
       "    <tr>\n",
       "      <th>2568</th>\n",
       "      <td>716</td>\n",
       "      <td>Zimbabwe</td>\n",
       "      <td>2012</td>\n",
       "      <td>R &amp; D personnel: Technicians - total (number i...</td>\n",
       "      <td>141</td>\n",
       "    </tr>\n",
       "    <tr>\n",
       "      <th>2569</th>\n",
       "      <td>716</td>\n",
       "      <td>Zimbabwe</td>\n",
       "      <td>2012</td>\n",
       "      <td>R &amp; D personnel: Technicians - women (number i...</td>\n",
       "      <td>41</td>\n",
       "    </tr>\n",
       "    <tr>\n",
       "      <th>2570</th>\n",
       "      <td>716</td>\n",
       "      <td>Zimbabwe</td>\n",
       "      <td>2012</td>\n",
       "      <td>R &amp; D personnel: Other supporting staff - tota...</td>\n",
       "      <td>295</td>\n",
       "    </tr>\n",
       "    <tr>\n",
       "      <th>2571</th>\n",
       "      <td>716</td>\n",
       "      <td>Zimbabwe</td>\n",
       "      <td>2012</td>\n",
       "      <td>R &amp; D personnel: Other supporting staff - wome...</td>\n",
       "      <td>100</td>\n",
       "    </tr>\n",
       "  </tbody>\n",
       "</table>\n",
       "<p>2572 rows × 5 columns</p>\n",
       "</div>"
      ],
      "text/plain": [
       "      Code Country/Area  Year  \\\n",
       "0        8      Albania  2008   \n",
       "1        8      Albania  2008   \n",
       "2        8      Albania  2008   \n",
       "3        8      Albania  2008   \n",
       "4        8      Albania  2008   \n",
       "...    ...          ...   ...   \n",
       "2567   716     Zimbabwe  2012   \n",
       "2568   716     Zimbabwe  2012   \n",
       "2569   716     Zimbabwe  2012   \n",
       "2570   716     Zimbabwe  2012   \n",
       "2571   716     Zimbabwe  2012   \n",
       "\n",
       "                                                 Series  Value  \n",
       "0     R & D personnel: Total (number in full-time eq...    779  \n",
       "1     R & D personnel: Researchers - total (number i...    467  \n",
       "2     R & D personnel: Researchers - women (number i...    207  \n",
       "3     R & D personnel: Technicians - total (number i...    120  \n",
       "4     R & D personnel: Other supporting staff - tota...    192  \n",
       "...                                                 ...    ...  \n",
       "2567  R & D personnel: Researchers - women (number i...    332  \n",
       "2568  R & D personnel: Technicians - total (number i...    141  \n",
       "2569  R & D personnel: Technicians - women (number i...     41  \n",
       "2570  R & D personnel: Other supporting staff - tota...    295  \n",
       "2571  R & D personnel: Other supporting staff - wome...    100  \n",
       "\n",
       "[2572 rows x 5 columns]"
      ]
     },
     "execution_count": 8,
     "metadata": {},
     "output_type": "execute_result"
    }
   ],
   "source": [
    "df1 = df[['Code', 'Country/Area', 'Year', 'Series', 'Value']]\n",
    "df1"
   ]
  },
  {
   "cell_type": "code",
   "execution_count": 9,
   "metadata": {},
   "outputs": [
    {
     "data": {
      "text/plain": [
       "(2572, 5)"
      ]
     },
     "execution_count": 9,
     "metadata": {},
     "output_type": "execute_result"
    }
   ],
   "source": [
    "df1.shape"
   ]
  },
  {
   "cell_type": "code",
   "execution_count": 10,
   "metadata": {},
   "outputs": [
    {
     "name": "stdout",
     "output_type": "stream",
     "text": [
      "<class 'pandas.core.frame.DataFrame'>\n",
      "RangeIndex: 2572 entries, 0 to 2571\n",
      "Data columns (total 5 columns):\n",
      " #   Column        Non-Null Count  Dtype \n",
      "---  ------        --------------  ----- \n",
      " 0   Code          2572 non-null   int64 \n",
      " 1   Country/Area  2572 non-null   object\n",
      " 2   Year          2572 non-null   int64 \n",
      " 3   Series        2572 non-null   object\n",
      " 4   Value         2572 non-null   int64 \n",
      "dtypes: int64(3), object(2)\n",
      "memory usage: 100.6+ KB\n"
     ]
    }
   ],
   "source": [
    "df1.info()"
   ]
  },
  {
   "cell_type": "code",
   "execution_count": 11,
   "metadata": {},
   "outputs": [
    {
     "data": {
      "text/html": [
       "<div>\n",
       "<style scoped>\n",
       "    .dataframe tbody tr th:only-of-type {\n",
       "        vertical-align: middle;\n",
       "    }\n",
       "\n",
       "    .dataframe tbody tr th {\n",
       "        vertical-align: top;\n",
       "    }\n",
       "\n",
       "    .dataframe thead th {\n",
       "        text-align: right;\n",
       "    }\n",
       "</style>\n",
       "<table border=\"1\" class=\"dataframe\">\n",
       "  <thead>\n",
       "    <tr style=\"text-align: right;\">\n",
       "      <th></th>\n",
       "      <th>Country/Area</th>\n",
       "      <th>Series</th>\n",
       "    </tr>\n",
       "  </thead>\n",
       "  <tbody>\n",
       "    <tr>\n",
       "      <th>count</th>\n",
       "      <td>2572</td>\n",
       "      <td>2572</td>\n",
       "    </tr>\n",
       "    <tr>\n",
       "      <th>unique</th>\n",
       "      <td>157</td>\n",
       "      <td>7</td>\n",
       "    </tr>\n",
       "    <tr>\n",
       "      <th>top</th>\n",
       "      <td>Luxembourg</td>\n",
       "      <td>R &amp; D personnel: Researchers - total (number i...</td>\n",
       "    </tr>\n",
       "    <tr>\n",
       "      <th>freq</th>\n",
       "      <td>34</td>\n",
       "      <td>497</td>\n",
       "    </tr>\n",
       "  </tbody>\n",
       "</table>\n",
       "</div>"
      ],
      "text/plain": [
       "       Country/Area                                             Series\n",
       "count          2572                                               2572\n",
       "unique          157                                                  7\n",
       "top      Luxembourg  R & D personnel: Researchers - total (number i...\n",
       "freq             34                                                497"
      ]
     },
     "execution_count": 11,
     "metadata": {},
     "output_type": "execute_result"
    }
   ],
   "source": [
    "df1.describe(include='object')"
   ]
  },
  {
   "cell_type": "code",
   "execution_count": 12,
   "metadata": {},
   "outputs": [
    {
     "data": {
      "text/plain": [
       "Luxembourg                    34\n",
       "Slovenia                      30\n",
       "Ireland                       30\n",
       "Estonia                       30\n",
       "Cyprus                        30\n",
       "                              ..\n",
       "Guam                           1\n",
       "Faroe Islands                  1\n",
       "Saint Vincent & Grenadines     1\n",
       "Benin                          1\n",
       "Greenland                      1\n",
       "Name: Country/Area, Length: 157, dtype: int64"
      ]
     },
     "execution_count": 12,
     "metadata": {},
     "output_type": "execute_result"
    }
   ],
   "source": [
    "df1['Country/Area'].value_counts()"
   ]
  },
  {
   "cell_type": "code",
   "execution_count": 13,
   "metadata": {},
   "outputs": [
    {
     "data": {
      "text/plain": [
       "R & D personnel: Researchers - total (number in full-time equivalent)               497\n",
       "R & D personnel: Total (number in full-time equivalent)                             449\n",
       "R & D personnel: Technicians - total (number in full-time equivalent)               405\n",
       "R & D personnel: Other supporting staff - total (number in full-time equivalent)    380\n",
       "R & D personnel: Researchers - women (number in full-time equivalent)               355\n",
       "R & D personnel: Technicians - women (number in full-time equivalent)               245\n",
       "R & D personnel: Other supporting staff - women (number in full-time equivalent)    241\n",
       "Name: Series, dtype: int64"
      ]
     },
     "execution_count": 13,
     "metadata": {},
     "output_type": "execute_result"
    }
   ],
   "source": [
    "df1['Series'].value_counts()"
   ]
  },
  {
   "cell_type": "code",
   "execution_count": 14,
   "metadata": {},
   "outputs": [
    {
     "data": {
      "text/plain": [
       "442    34\n",
       "705    30\n",
       "372    30\n",
       "233    30\n",
       "196    30\n",
       "       ..\n",
       "316     1\n",
       "234     1\n",
       "670     1\n",
       "204     1\n",
       "304     1\n",
       "Name: Code, Length: 157, dtype: int64"
      ]
     },
     "execution_count": 14,
     "metadata": {},
     "output_type": "execute_result"
    }
   ],
   "source": [
    "df1['Code'].value_counts()"
   ]
  },
  {
   "cell_type": "markdown",
   "metadata": {},
   "source": [
    "# Data Cleaning"
   ]
  },
  {
   "cell_type": "code",
   "execution_count": 15,
   "metadata": {},
   "outputs": [
    {
     "data": {
      "text/plain": [
       "array(['Albania', 'Algeria', 'American Samoa', 'Angola', 'Argentina',\n",
       "       'Armenia', 'Australia', 'Austria', 'Azerbaijan', 'Bahrain',\n",
       "       'Belarus', 'Belgium', 'Benin', 'Bermuda',\n",
       "       'Bolivia (Plurin. State of)', 'Bosnia and Herzegovina', 'Botswana',\n",
       "       'Brazil', 'Brunei Darussalam', 'Bulgaria', 'Burkina Faso',\n",
       "       'Burundi', 'Cabo Verde', 'Cambodia', 'Cameroon', 'Canada',\n",
       "       'Central African Republic', 'Chad', 'Chile', 'China',\n",
       "       'China, Hong Kong SAR', 'China, Macao SAR', 'Colombia', 'Congo',\n",
       "       'Costa Rica', 'Côte d’Ivoire', 'Croatia', 'Cuba', 'Cyprus',\n",
       "       'Czechia', 'Dem. Rep. of the Congo', 'Denmark', 'Ecuador', 'Egypt',\n",
       "       'El Salvador', 'Estonia', 'Eswatini', 'Ethiopia', 'Faroe Islands',\n",
       "       'Finland', 'France', 'Gabon', 'Gambia', 'Georgia', 'Germany',\n",
       "       'Ghana', 'Greece', 'Greenland', 'Guam', 'Guatemala', 'Guinea',\n",
       "       'Honduras', 'Hungary', 'Iceland', 'India', 'Indonesia',\n",
       "       'Iran (Islamic Republic of)', 'Iraq', 'Ireland', 'Israel', 'Italy',\n",
       "       'Japan', 'Jordan', 'Kazakhstan', 'Kenya', 'Kuwait', 'Kyrgyzstan',\n",
       "       'Latvia', 'Lesotho', 'Libya', 'Lithuania', 'Luxembourg',\n",
       "       'Madagascar', 'Malawi', 'Malaysia', 'Mali', 'Malta', 'Mauritania',\n",
       "       'Mauritius', 'Mexico', 'Monaco', 'Mongolia', 'Montenegro',\n",
       "       'Morocco', 'Mozambique', 'Myanmar', 'Namibia', 'Nepal',\n",
       "       'Netherlands', 'New Zealand', 'Niger', 'Nigeria',\n",
       "       'North Macedonia', 'Norway', 'Oman', 'Pakistan', 'Panama',\n",
       "       'Papua New Guinea', 'Paraguay', 'Peru', 'Philippines', 'Poland',\n",
       "       'Portugal', 'Puerto Rico', 'Qatar', 'Republic of Korea',\n",
       "       'Republic of Moldova', 'Romania', 'Russian Federation', 'Rwanda',\n",
       "       'Saint Helena', 'Saint Vincent & Grenadines', 'Saudi Arabia',\n",
       "       'Senegal', 'Serbia', 'Seychelles', 'Singapore', 'Slovakia',\n",
       "       'Slovenia', 'South Africa', 'Spain', 'Sri Lanka',\n",
       "       'State of Palestine', 'Sudan', 'Sudan [former]', 'Sweden',\n",
       "       'Switzerland', 'Syrian Arab Republic', 'Tajikistan', 'Thailand',\n",
       "       'Togo', 'Trinidad and Tobago', 'Tunisia', 'Turkey', 'Uganda',\n",
       "       'Ukraine', 'United Arab Emirates', 'United Kingdom',\n",
       "       'United Rep. of Tanzania', 'United States of America',\n",
       "       'United States Virgin Islands', 'Uruguay', 'Uzbekistan',\n",
       "       'Venezuela (Boliv. Rep. of)', 'Viet Nam', 'Zambia', 'Zimbabwe'],\n",
       "      dtype=object)"
      ]
     },
     "execution_count": 15,
     "metadata": {},
     "output_type": "execute_result"
    }
   ],
   "source": [
    "df1['Country/Area'].replace(\n",
    "    {'C�te d�Ivoire': \"Côte d’Ivoire\"}, inplace=True)\n",
    "\n",
    "df1['Country/Area'].unique()"
   ]
  },
  {
   "cell_type": "code",
   "execution_count": 16,
   "metadata": {},
   "outputs": [
    {
     "data": {
      "text/plain": [
       "2015    548\n",
       "2010    477\n",
       "2005    412\n",
       "2018    354\n",
       "2017    242\n",
       "Name: Year, dtype: int64"
      ]
     },
     "execution_count": 16,
     "metadata": {},
     "output_type": "execute_result"
    }
   ],
   "source": [
    "df1['Year'].value_counts().head()"
   ]
  },
  {
   "cell_type": "code",
   "execution_count": 17,
   "metadata": {},
   "outputs": [
    {
     "data": {
      "text/plain": [
       "count    2.572000e+03\n",
       "mean     3.407669e+04\n",
       "std      1.676496e+05\n",
       "min      1.000000e+00\n",
       "25%      4.020000e+02\n",
       "50%      2.179500e+03\n",
       "75%      1.480400e+04\n",
       "max      4.381444e+06\n",
       "Name: Value, dtype: float64"
      ]
     },
     "execution_count": 17,
     "metadata": {},
     "output_type": "execute_result"
    }
   ],
   "source": [
    "df1['Value'].describe()"
   ]
  },
  {
   "cell_type": "markdown",
   "metadata": {},
   "source": [
    "# Missing Values Exploration"
   ]
  },
  {
   "cell_type": "code",
   "execution_count": 18,
   "metadata": {},
   "outputs": [
    {
     "data": {
      "text/plain": [
       "Code            0\n",
       "Country/Area    0\n",
       "Year            0\n",
       "Series          0\n",
       "Value           0\n",
       "dtype: int64"
      ]
     },
     "execution_count": 18,
     "metadata": {},
     "output_type": "execute_result"
    }
   ],
   "source": [
    "df1.isna().sum()"
   ]
  }
 ],
 "metadata": {
  "interpreter": {
   "hash": "3fe9daace87ea8cb12e037f7452ad9bcd52f59aa894a611255d1461de3a9065e"
  },
  "kernelspec": {
   "display_name": "Python 3.9.7 ('DS')",
   "language": "python",
   "name": "python3"
  },
  "language_info": {
   "codemirror_mode": {
    "name": "ipython",
    "version": 3
   },
   "file_extension": ".py",
   "mimetype": "text/x-python",
   "name": "python",
   "nbconvert_exporter": "python",
   "pygments_lexer": "ipython3",
   "version": "3.9.7"
  },
  "orig_nbformat": 4
 },
 "nbformat": 4,
 "nbformat_minor": 2
}
