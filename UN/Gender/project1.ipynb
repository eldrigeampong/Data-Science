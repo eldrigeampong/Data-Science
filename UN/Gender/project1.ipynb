{
 "cells": [
  {
   "cell_type": "markdown",
   "metadata": {},
   "source": [
    "# Seats held by women in national parliament"
   ]
  },
  {
   "cell_type": "markdown",
   "metadata": {},
   "source": [
    "# Import Libraries"
   ]
  },
  {
   "cell_type": "code",
   "execution_count": 1,
   "metadata": {},
   "outputs": [],
   "source": [
    "import numpy as np\n",
    "import pandas as pd\n",
    "import matplotlib.pyplot as plt\n",
    "import seaborn as sns\n",
    "import os\n",
    "import warnings"
   ]
  },
  {
   "cell_type": "markdown",
   "metadata": {},
   "source": [
    "# Options and Settings"
   ]
  },
  {
   "cell_type": "code",
   "execution_count": 2,
   "metadata": {},
   "outputs": [],
   "source": [
    "%matplotlib inline\n",
    "plt.style.use('ggplot')\n",
    "plt.rcParams['figure.autolayout'] = True\n",
    "plt.rcParams['figure.figsize'] = [12, 9]\n",
    "plt.rcParams['font.size'] = 12\n",
    "path = os.getcwd()                                         # get current working directory\n",
    "warnings.simplefilter('ignore')"
   ]
  },
  {
   "cell_type": "markdown",
   "metadata": {},
   "source": [
    "# Import Data"
   ]
  },
  {
   "cell_type": "code",
   "execution_count": 3,
   "metadata": {},
   "outputs": [],
   "source": [
    "filepath = os.path.join('datasets', 'Seats held by women in Parliament.csv')\n",
    "df = pd.read_csv(filepath)"
   ]
  },
  {
   "cell_type": "markdown",
   "metadata": {},
   "source": [
    "# Head and Tail"
   ]
  },
  {
   "cell_type": "code",
   "execution_count": 4,
   "metadata": {},
   "outputs": [
    {
     "data": {
      "text/html": [
       "<div>\n",
       "<style scoped>\n",
       "    .dataframe tbody tr th:only-of-type {\n",
       "        vertical-align: middle;\n",
       "    }\n",
       "\n",
       "    .dataframe tbody tr th {\n",
       "        vertical-align: top;\n",
       "    }\n",
       "\n",
       "    .dataframe thead th {\n",
       "        text-align: right;\n",
       "    }\n",
       "</style>\n",
       "<table border=\"1\" class=\"dataframe\">\n",
       "  <thead>\n",
       "    <tr style=\"text-align: right;\">\n",
       "      <th></th>\n",
       "      <th>Region/Country/Area</th>\n",
       "      <th>Unnamed: 1</th>\n",
       "      <th>Year</th>\n",
       "      <th>Series</th>\n",
       "      <th>Last Election Date</th>\n",
       "      <th>Last Election Date footnote</th>\n",
       "      <th>Value</th>\n",
       "      <th>Footnotes</th>\n",
       "      <th>Source</th>\n",
       "      <th>Unnamed: 9</th>\n",
       "    </tr>\n",
       "  </thead>\n",
       "  <tbody>\n",
       "    <tr>\n",
       "      <th>0</th>\n",
       "      <td>1</td>\n",
       "      <td>Total, all countries or areas</td>\n",
       "      <td>2000</td>\n",
       "      <td>Seats held by women in national parliament, as...</td>\n",
       "      <td>NaN</td>\n",
       "      <td>NaN</td>\n",
       "      <td>13.3</td>\n",
       "      <td>NaN</td>\n",
       "      <td>Inter-Parliamentary Union (IPU), Geneva, the d...</td>\n",
       "      <td>NaN</td>\n",
       "    </tr>\n",
       "    <tr>\n",
       "      <th>1</th>\n",
       "      <td>1</td>\n",
       "      <td>Total, all countries or areas</td>\n",
       "      <td>2005</td>\n",
       "      <td>Seats held by women in national parliament, as...</td>\n",
       "      <td>NaN</td>\n",
       "      <td>NaN</td>\n",
       "      <td>15.9</td>\n",
       "      <td>NaN</td>\n",
       "      <td>Inter-Parliamentary Union (IPU), Geneva, the d...</td>\n",
       "      <td>NaN</td>\n",
       "    </tr>\n",
       "    <tr>\n",
       "      <th>2</th>\n",
       "      <td>1</td>\n",
       "      <td>Total, all countries or areas</td>\n",
       "      <td>2010</td>\n",
       "      <td>Seats held by women in national parliament, as...</td>\n",
       "      <td>NaN</td>\n",
       "      <td>NaN</td>\n",
       "      <td>19.0</td>\n",
       "      <td>NaN</td>\n",
       "      <td>Inter-Parliamentary Union (IPU), Geneva, the d...</td>\n",
       "      <td>NaN</td>\n",
       "    </tr>\n",
       "    <tr>\n",
       "      <th>3</th>\n",
       "      <td>1</td>\n",
       "      <td>Total, all countries or areas</td>\n",
       "      <td>2015</td>\n",
       "      <td>Seats held by women in national parliament, as...</td>\n",
       "      <td>NaN</td>\n",
       "      <td>NaN</td>\n",
       "      <td>22.3</td>\n",
       "      <td>NaN</td>\n",
       "      <td>Inter-Parliamentary Union (IPU), Geneva, the d...</td>\n",
       "      <td>NaN</td>\n",
       "    </tr>\n",
       "    <tr>\n",
       "      <th>4</th>\n",
       "      <td>1</td>\n",
       "      <td>Total, all countries or areas</td>\n",
       "      <td>2017</td>\n",
       "      <td>Seats held by women in national parliament, as...</td>\n",
       "      <td>NaN</td>\n",
       "      <td>NaN</td>\n",
       "      <td>23.4</td>\n",
       "      <td>NaN</td>\n",
       "      <td>Inter-Parliamentary Union (IPU), Geneva, the d...</td>\n",
       "      <td>NaN</td>\n",
       "    </tr>\n",
       "    <tr>\n",
       "      <th>...</th>\n",
       "      <td>...</td>\n",
       "      <td>...</td>\n",
       "      <td>...</td>\n",
       "      <td>...</td>\n",
       "      <td>...</td>\n",
       "      <td>...</td>\n",
       "      <td>...</td>\n",
       "      <td>...</td>\n",
       "      <td>...</td>\n",
       "      <td>...</td>\n",
       "    </tr>\n",
       "    <tr>\n",
       "      <th>1953</th>\n",
       "      <td>199</td>\n",
       "      <td>LDC�</td>\n",
       "      <td>2017</td>\n",
       "      <td>Seats held by women in national parliament, as...</td>\n",
       "      <td>NaN</td>\n",
       "      <td>NaN</td>\n",
       "      <td>23.2</td>\n",
       "      <td>NaN</td>\n",
       "      <td>Inter-Parliamentary Union (IPU), Geneva, the d...</td>\n",
       "      <td>NaN</td>\n",
       "    </tr>\n",
       "    <tr>\n",
       "      <th>1954</th>\n",
       "      <td>199</td>\n",
       "      <td>LDC�</td>\n",
       "      <td>2018</td>\n",
       "      <td>Seats held by women in national parliament, as...</td>\n",
       "      <td>NaN</td>\n",
       "      <td>NaN</td>\n",
       "      <td>22.1</td>\n",
       "      <td>NaN</td>\n",
       "      <td>Inter-Parliamentary Union (IPU), Geneva, the d...</td>\n",
       "      <td>NaN</td>\n",
       "    </tr>\n",
       "    <tr>\n",
       "      <th>1955</th>\n",
       "      <td>199</td>\n",
       "      <td>LDC�</td>\n",
       "      <td>2019</td>\n",
       "      <td>Seats held by women in national parliament, as...</td>\n",
       "      <td>NaN</td>\n",
       "      <td>NaN</td>\n",
       "      <td>22.9</td>\n",
       "      <td>NaN</td>\n",
       "      <td>Inter-Parliamentary Union (IPU), Geneva, the d...</td>\n",
       "      <td>NaN</td>\n",
       "    </tr>\n",
       "    <tr>\n",
       "      <th>1956</th>\n",
       "      <td>199</td>\n",
       "      <td>LDC�</td>\n",
       "      <td>2020</td>\n",
       "      <td>Seats held by women in national parliament, as...</td>\n",
       "      <td>NaN</td>\n",
       "      <td>NaN</td>\n",
       "      <td>23.1</td>\n",
       "      <td>Data are as at 1 January of reporting year.</td>\n",
       "      <td>Inter-Parliamentary Union (IPU), Geneva, the d...</td>\n",
       "      <td>NaN</td>\n",
       "    </tr>\n",
       "    <tr>\n",
       "      <th>1957</th>\n",
       "      <td>199</td>\n",
       "      <td>LDC�</td>\n",
       "      <td>2021</td>\n",
       "      <td>Seats held by women in national parliament, as...</td>\n",
       "      <td>NaN</td>\n",
       "      <td>NaN</td>\n",
       "      <td>24.3</td>\n",
       "      <td>Data are as at 1 January of reporting year.</td>\n",
       "      <td>Inter-Parliamentary Union (IPU), Geneva, the d...</td>\n",
       "      <td>NaN</td>\n",
       "    </tr>\n",
       "  </tbody>\n",
       "</table>\n",
       "<p>1958 rows × 10 columns</p>\n",
       "</div>"
      ],
      "text/plain": [
       "      Region/Country/Area                     Unnamed: 1  Year  \\\n",
       "0                       1  Total, all countries or areas  2000   \n",
       "1                       1  Total, all countries or areas  2005   \n",
       "2                       1  Total, all countries or areas  2010   \n",
       "3                       1  Total, all countries or areas  2015   \n",
       "4                       1  Total, all countries or areas  2017   \n",
       "...                   ...                            ...   ...   \n",
       "1953                  199                           LDC�  2017   \n",
       "1954                  199                           LDC�  2018   \n",
       "1955                  199                           LDC�  2019   \n",
       "1956                  199                           LDC�  2020   \n",
       "1957                  199                           LDC�  2021   \n",
       "\n",
       "                                                 Series Last Election Date  \\\n",
       "0     Seats held by women in national parliament, as...                NaN   \n",
       "1     Seats held by women in national parliament, as...                NaN   \n",
       "2     Seats held by women in national parliament, as...                NaN   \n",
       "3     Seats held by women in national parliament, as...                NaN   \n",
       "4     Seats held by women in national parliament, as...                NaN   \n",
       "...                                                 ...                ...   \n",
       "1953  Seats held by women in national parliament, as...                NaN   \n",
       "1954  Seats held by women in national parliament, as...                NaN   \n",
       "1955  Seats held by women in national parliament, as...                NaN   \n",
       "1956  Seats held by women in national parliament, as...                NaN   \n",
       "1957  Seats held by women in national parliament, as...                NaN   \n",
       "\n",
       "      Last Election Date footnote  Value  \\\n",
       "0                             NaN   13.3   \n",
       "1                             NaN   15.9   \n",
       "2                             NaN   19.0   \n",
       "3                             NaN   22.3   \n",
       "4                             NaN   23.4   \n",
       "...                           ...    ...   \n",
       "1953                          NaN   23.2   \n",
       "1954                          NaN   22.1   \n",
       "1955                          NaN   22.9   \n",
       "1956                          NaN   23.1   \n",
       "1957                          NaN   24.3   \n",
       "\n",
       "                                        Footnotes  \\\n",
       "0                                             NaN   \n",
       "1                                             NaN   \n",
       "2                                             NaN   \n",
       "3                                             NaN   \n",
       "4                                             NaN   \n",
       "...                                           ...   \n",
       "1953                                          NaN   \n",
       "1954                                          NaN   \n",
       "1955                                          NaN   \n",
       "1956  Data are as at 1 January of reporting year.   \n",
       "1957  Data are as at 1 January of reporting year.   \n",
       "\n",
       "                                                 Source Unnamed: 9  \n",
       "0     Inter-Parliamentary Union (IPU), Geneva, the d...        NaN  \n",
       "1     Inter-Parliamentary Union (IPU), Geneva, the d...        NaN  \n",
       "2     Inter-Parliamentary Union (IPU), Geneva, the d...        NaN  \n",
       "3     Inter-Parliamentary Union (IPU), Geneva, the d...        NaN  \n",
       "4     Inter-Parliamentary Union (IPU), Geneva, the d...        NaN  \n",
       "...                                                 ...        ...  \n",
       "1953  Inter-Parliamentary Union (IPU), Geneva, the d...        NaN  \n",
       "1954  Inter-Parliamentary Union (IPU), Geneva, the d...        NaN  \n",
       "1955  Inter-Parliamentary Union (IPU), Geneva, the d...        NaN  \n",
       "1956  Inter-Parliamentary Union (IPU), Geneva, the d...        NaN  \n",
       "1957  Inter-Parliamentary Union (IPU), Geneva, the d...        NaN  \n",
       "\n",
       "[1958 rows x 10 columns]"
      ]
     },
     "execution_count": 4,
     "metadata": {},
     "output_type": "execute_result"
    }
   ],
   "source": [
    "df"
   ]
  },
  {
   "cell_type": "code",
   "execution_count": 5,
   "metadata": {},
   "outputs": [
    {
     "data": {
      "text/plain": [
       "(1958, 10)"
      ]
     },
     "execution_count": 5,
     "metadata": {},
     "output_type": "execute_result"
    }
   ],
   "source": [
    "df.shape"
   ]
  },
  {
   "cell_type": "code",
   "execution_count": 6,
   "metadata": {},
   "outputs": [
    {
     "name": "stdout",
     "output_type": "stream",
     "text": [
      "<class 'pandas.core.frame.DataFrame'>\n",
      "RangeIndex: 1958 entries, 0 to 1957\n",
      "Data columns (total 10 columns):\n",
      " #   Column                       Non-Null Count  Dtype  \n",
      "---  ------                       --------------  -----  \n",
      " 0   Region/Country/Area          1958 non-null   int64  \n",
      " 1   Unnamed: 1                   1958 non-null   object \n",
      " 2   Year                         1958 non-null   int64  \n",
      " 3   Series                       1958 non-null   object \n",
      " 4   Last Election Date           1680 non-null   object \n",
      " 5   Last Election Date footnote  0 non-null      float64\n",
      " 6   Value                        1958 non-null   float64\n",
      " 7   Footnotes                    441 non-null    object \n",
      " 8   Source                       1958 non-null   object \n",
      " 9   Unnamed: 9                   7 non-null      object \n",
      "dtypes: float64(2), int64(2), object(6)\n",
      "memory usage: 153.1+ KB\n"
     ]
    }
   ],
   "source": [
    "df.info()"
   ]
  },
  {
   "cell_type": "code",
   "execution_count": 7,
   "metadata": {},
   "outputs": [
    {
     "data": {
      "text/html": [
       "<div>\n",
       "<style scoped>\n",
       "    .dataframe tbody tr th:only-of-type {\n",
       "        vertical-align: middle;\n",
       "    }\n",
       "\n",
       "    .dataframe tbody tr th {\n",
       "        vertical-align: top;\n",
       "    }\n",
       "\n",
       "    .dataframe thead th {\n",
       "        text-align: right;\n",
       "    }\n",
       "</style>\n",
       "<table border=\"1\" class=\"dataframe\">\n",
       "  <thead>\n",
       "    <tr style=\"text-align: right;\">\n",
       "      <th></th>\n",
       "      <th>Code</th>\n",
       "      <th>Region/Country/Area</th>\n",
       "      <th>Year</th>\n",
       "      <th>Series</th>\n",
       "      <th>Last Election Date</th>\n",
       "      <th>Last Election Date footnote</th>\n",
       "      <th>Value</th>\n",
       "      <th>Footnotes</th>\n",
       "      <th>Source</th>\n",
       "      <th>Unnamed: 9</th>\n",
       "    </tr>\n",
       "  </thead>\n",
       "  <tbody>\n",
       "    <tr>\n",
       "      <th>0</th>\n",
       "      <td>1</td>\n",
       "      <td>Total, all countries or areas</td>\n",
       "      <td>2000</td>\n",
       "      <td>Seats held by women in national parliament, as...</td>\n",
       "      <td>NaN</td>\n",
       "      <td>NaN</td>\n",
       "      <td>13.3</td>\n",
       "      <td>NaN</td>\n",
       "      <td>Inter-Parliamentary Union (IPU), Geneva, the d...</td>\n",
       "      <td>NaN</td>\n",
       "    </tr>\n",
       "    <tr>\n",
       "      <th>1</th>\n",
       "      <td>1</td>\n",
       "      <td>Total, all countries or areas</td>\n",
       "      <td>2005</td>\n",
       "      <td>Seats held by women in national parliament, as...</td>\n",
       "      <td>NaN</td>\n",
       "      <td>NaN</td>\n",
       "      <td>15.9</td>\n",
       "      <td>NaN</td>\n",
       "      <td>Inter-Parliamentary Union (IPU), Geneva, the d...</td>\n",
       "      <td>NaN</td>\n",
       "    </tr>\n",
       "    <tr>\n",
       "      <th>2</th>\n",
       "      <td>1</td>\n",
       "      <td>Total, all countries or areas</td>\n",
       "      <td>2010</td>\n",
       "      <td>Seats held by women in national parliament, as...</td>\n",
       "      <td>NaN</td>\n",
       "      <td>NaN</td>\n",
       "      <td>19.0</td>\n",
       "      <td>NaN</td>\n",
       "      <td>Inter-Parliamentary Union (IPU), Geneva, the d...</td>\n",
       "      <td>NaN</td>\n",
       "    </tr>\n",
       "    <tr>\n",
       "      <th>3</th>\n",
       "      <td>1</td>\n",
       "      <td>Total, all countries or areas</td>\n",
       "      <td>2015</td>\n",
       "      <td>Seats held by women in national parliament, as...</td>\n",
       "      <td>NaN</td>\n",
       "      <td>NaN</td>\n",
       "      <td>22.3</td>\n",
       "      <td>NaN</td>\n",
       "      <td>Inter-Parliamentary Union (IPU), Geneva, the d...</td>\n",
       "      <td>NaN</td>\n",
       "    </tr>\n",
       "    <tr>\n",
       "      <th>4</th>\n",
       "      <td>1</td>\n",
       "      <td>Total, all countries or areas</td>\n",
       "      <td>2017</td>\n",
       "      <td>Seats held by women in national parliament, as...</td>\n",
       "      <td>NaN</td>\n",
       "      <td>NaN</td>\n",
       "      <td>23.4</td>\n",
       "      <td>NaN</td>\n",
       "      <td>Inter-Parliamentary Union (IPU), Geneva, the d...</td>\n",
       "      <td>NaN</td>\n",
       "    </tr>\n",
       "  </tbody>\n",
       "</table>\n",
       "</div>"
      ],
      "text/plain": [
       "   Code            Region/Country/Area  Year  \\\n",
       "0     1  Total, all countries or areas  2000   \n",
       "1     1  Total, all countries or areas  2005   \n",
       "2     1  Total, all countries or areas  2010   \n",
       "3     1  Total, all countries or areas  2015   \n",
       "4     1  Total, all countries or areas  2017   \n",
       "\n",
       "                                              Series Last Election Date  \\\n",
       "0  Seats held by women in national parliament, as...                NaN   \n",
       "1  Seats held by women in national parliament, as...                NaN   \n",
       "2  Seats held by women in national parliament, as...                NaN   \n",
       "3  Seats held by women in national parliament, as...                NaN   \n",
       "4  Seats held by women in national parliament, as...                NaN   \n",
       "\n",
       "   Last Election Date footnote  Value Footnotes  \\\n",
       "0                          NaN   13.3       NaN   \n",
       "1                          NaN   15.9       NaN   \n",
       "2                          NaN   19.0       NaN   \n",
       "3                          NaN   22.3       NaN   \n",
       "4                          NaN   23.4       NaN   \n",
       "\n",
       "                                              Source Unnamed: 9  \n",
       "0  Inter-Parliamentary Union (IPU), Geneva, the d...        NaN  \n",
       "1  Inter-Parliamentary Union (IPU), Geneva, the d...        NaN  \n",
       "2  Inter-Parliamentary Union (IPU), Geneva, the d...        NaN  \n",
       "3  Inter-Parliamentary Union (IPU), Geneva, the d...        NaN  \n",
       "4  Inter-Parliamentary Union (IPU), Geneva, the d...        NaN  "
      ]
     },
     "execution_count": 7,
     "metadata": {},
     "output_type": "execute_result"
    }
   ],
   "source": [
    "df.rename(columns={'Region/Country/Area': 'Code', \n",
    "                   'Unnamed: 1': 'Region/Country/Area',\n",
    "                   }, inplace=True)\n",
    "\n",
    "df.head()"
   ]
  },
  {
   "cell_type": "code",
   "execution_count": 8,
   "metadata": {},
   "outputs": [
    {
     "data": {
      "text/html": [
       "<div>\n",
       "<style scoped>\n",
       "    .dataframe tbody tr th:only-of-type {\n",
       "        vertical-align: middle;\n",
       "    }\n",
       "\n",
       "    .dataframe tbody tr th {\n",
       "        vertical-align: top;\n",
       "    }\n",
       "\n",
       "    .dataframe thead th {\n",
       "        text-align: right;\n",
       "    }\n",
       "</style>\n",
       "<table border=\"1\" class=\"dataframe\">\n",
       "  <thead>\n",
       "    <tr style=\"text-align: right;\">\n",
       "      <th></th>\n",
       "      <th>Code</th>\n",
       "      <th>Region/Country/Area</th>\n",
       "      <th>Year</th>\n",
       "      <th>Series</th>\n",
       "      <th>Value</th>\n",
       "    </tr>\n",
       "  </thead>\n",
       "  <tbody>\n",
       "    <tr>\n",
       "      <th>0</th>\n",
       "      <td>1</td>\n",
       "      <td>Total, all countries or areas</td>\n",
       "      <td>2000</td>\n",
       "      <td>Seats held by women in national parliament, as...</td>\n",
       "      <td>13.3</td>\n",
       "    </tr>\n",
       "    <tr>\n",
       "      <th>1</th>\n",
       "      <td>1</td>\n",
       "      <td>Total, all countries or areas</td>\n",
       "      <td>2005</td>\n",
       "      <td>Seats held by women in national parliament, as...</td>\n",
       "      <td>15.9</td>\n",
       "    </tr>\n",
       "    <tr>\n",
       "      <th>2</th>\n",
       "      <td>1</td>\n",
       "      <td>Total, all countries or areas</td>\n",
       "      <td>2010</td>\n",
       "      <td>Seats held by women in national parliament, as...</td>\n",
       "      <td>19.0</td>\n",
       "    </tr>\n",
       "    <tr>\n",
       "      <th>3</th>\n",
       "      <td>1</td>\n",
       "      <td>Total, all countries or areas</td>\n",
       "      <td>2015</td>\n",
       "      <td>Seats held by women in national parliament, as...</td>\n",
       "      <td>22.3</td>\n",
       "    </tr>\n",
       "    <tr>\n",
       "      <th>4</th>\n",
       "      <td>1</td>\n",
       "      <td>Total, all countries or areas</td>\n",
       "      <td>2017</td>\n",
       "      <td>Seats held by women in national parliament, as...</td>\n",
       "      <td>23.4</td>\n",
       "    </tr>\n",
       "    <tr>\n",
       "      <th>...</th>\n",
       "      <td>...</td>\n",
       "      <td>...</td>\n",
       "      <td>...</td>\n",
       "      <td>...</td>\n",
       "      <td>...</td>\n",
       "    </tr>\n",
       "    <tr>\n",
       "      <th>1953</th>\n",
       "      <td>199</td>\n",
       "      <td>LDC�</td>\n",
       "      <td>2017</td>\n",
       "      <td>Seats held by women in national parliament, as...</td>\n",
       "      <td>23.2</td>\n",
       "    </tr>\n",
       "    <tr>\n",
       "      <th>1954</th>\n",
       "      <td>199</td>\n",
       "      <td>LDC�</td>\n",
       "      <td>2018</td>\n",
       "      <td>Seats held by women in national parliament, as...</td>\n",
       "      <td>22.1</td>\n",
       "    </tr>\n",
       "    <tr>\n",
       "      <th>1955</th>\n",
       "      <td>199</td>\n",
       "      <td>LDC�</td>\n",
       "      <td>2019</td>\n",
       "      <td>Seats held by women in national parliament, as...</td>\n",
       "      <td>22.9</td>\n",
       "    </tr>\n",
       "    <tr>\n",
       "      <th>1956</th>\n",
       "      <td>199</td>\n",
       "      <td>LDC�</td>\n",
       "      <td>2020</td>\n",
       "      <td>Seats held by women in national parliament, as...</td>\n",
       "      <td>23.1</td>\n",
       "    </tr>\n",
       "    <tr>\n",
       "      <th>1957</th>\n",
       "      <td>199</td>\n",
       "      <td>LDC�</td>\n",
       "      <td>2021</td>\n",
       "      <td>Seats held by women in national parliament, as...</td>\n",
       "      <td>24.3</td>\n",
       "    </tr>\n",
       "  </tbody>\n",
       "</table>\n",
       "<p>1958 rows × 5 columns</p>\n",
       "</div>"
      ],
      "text/plain": [
       "      Code            Region/Country/Area  Year  \\\n",
       "0        1  Total, all countries or areas  2000   \n",
       "1        1  Total, all countries or areas  2005   \n",
       "2        1  Total, all countries or areas  2010   \n",
       "3        1  Total, all countries or areas  2015   \n",
       "4        1  Total, all countries or areas  2017   \n",
       "...    ...                            ...   ...   \n",
       "1953   199                           LDC�  2017   \n",
       "1954   199                           LDC�  2018   \n",
       "1955   199                           LDC�  2019   \n",
       "1956   199                           LDC�  2020   \n",
       "1957   199                           LDC�  2021   \n",
       "\n",
       "                                                 Series  Value  \n",
       "0     Seats held by women in national parliament, as...   13.3  \n",
       "1     Seats held by women in national parliament, as...   15.9  \n",
       "2     Seats held by women in national parliament, as...   19.0  \n",
       "3     Seats held by women in national parliament, as...   22.3  \n",
       "4     Seats held by women in national parliament, as...   23.4  \n",
       "...                                                 ...    ...  \n",
       "1953  Seats held by women in national parliament, as...   23.2  \n",
       "1954  Seats held by women in national parliament, as...   22.1  \n",
       "1955  Seats held by women in national parliament, as...   22.9  \n",
       "1956  Seats held by women in national parliament, as...   23.1  \n",
       "1957  Seats held by women in national parliament, as...   24.3  \n",
       "\n",
       "[1958 rows x 5 columns]"
      ]
     },
     "execution_count": 8,
     "metadata": {},
     "output_type": "execute_result"
    }
   ],
   "source": [
    "df1 = df[['Code', 'Region/Country/Area', 'Year', 'Series', 'Value']]\n",
    "df1"
   ]
  },
  {
   "cell_type": "code",
   "execution_count": 9,
   "metadata": {},
   "outputs": [
    {
     "data": {
      "text/plain": [
       "(1958, 5)"
      ]
     },
     "execution_count": 9,
     "metadata": {},
     "output_type": "execute_result"
    }
   ],
   "source": [
    "df1.shape"
   ]
  },
  {
   "cell_type": "code",
   "execution_count": 10,
   "metadata": {},
   "outputs": [
    {
     "name": "stdout",
     "output_type": "stream",
     "text": [
      "<class 'pandas.core.frame.DataFrame'>\n",
      "RangeIndex: 1958 entries, 0 to 1957\n",
      "Data columns (total 5 columns):\n",
      " #   Column               Non-Null Count  Dtype  \n",
      "---  ------               --------------  -----  \n",
      " 0   Code                 1958 non-null   int64  \n",
      " 1   Region/Country/Area  1958 non-null   object \n",
      " 2   Year                 1958 non-null   int64  \n",
      " 3   Series               1958 non-null   object \n",
      " 4   Value                1958 non-null   float64\n",
      "dtypes: float64(1), int64(2), object(2)\n",
      "memory usage: 76.6+ KB\n"
     ]
    }
   ],
   "source": [
    "df1.info()"
   ]
  },
  {
   "cell_type": "code",
   "execution_count": 11,
   "metadata": {},
   "outputs": [
    {
     "data": {
      "text/html": [
       "<div>\n",
       "<style scoped>\n",
       "    .dataframe tbody tr th:only-of-type {\n",
       "        vertical-align: middle;\n",
       "    }\n",
       "\n",
       "    .dataframe tbody tr th {\n",
       "        vertical-align: top;\n",
       "    }\n",
       "\n",
       "    .dataframe thead th {\n",
       "        text-align: right;\n",
       "    }\n",
       "</style>\n",
       "<table border=\"1\" class=\"dataframe\">\n",
       "  <thead>\n",
       "    <tr style=\"text-align: right;\">\n",
       "      <th></th>\n",
       "      <th>Region/Country/Area</th>\n",
       "      <th>Series</th>\n",
       "    </tr>\n",
       "  </thead>\n",
       "  <tbody>\n",
       "    <tr>\n",
       "      <th>count</th>\n",
       "      <td>1958</td>\n",
       "      <td>1958</td>\n",
       "    </tr>\n",
       "    <tr>\n",
       "      <th>unique</th>\n",
       "      <td>225</td>\n",
       "      <td>1</td>\n",
       "    </tr>\n",
       "    <tr>\n",
       "      <th>top</th>\n",
       "      <td>Total, all countries or areas</td>\n",
       "      <td>Seats held by women in national parliament, as...</td>\n",
       "    </tr>\n",
       "    <tr>\n",
       "      <th>freq</th>\n",
       "      <td>9</td>\n",
       "      <td>1958</td>\n",
       "    </tr>\n",
       "  </tbody>\n",
       "</table>\n",
       "</div>"
      ],
      "text/plain": [
       "                  Region/Country/Area  \\\n",
       "count                            1958   \n",
       "unique                            225   \n",
       "top     Total, all countries or areas   \n",
       "freq                                9   \n",
       "\n",
       "                                                   Series  \n",
       "count                                                1958  \n",
       "unique                                                  1  \n",
       "top     Seats held by women in national parliament, as...  \n",
       "freq                                                 1958  "
      ]
     },
     "execution_count": 11,
     "metadata": {},
     "output_type": "execute_result"
    }
   ],
   "source": [
    "df1.describe(include='object')"
   ]
  },
  {
   "cell_type": "code",
   "execution_count": 12,
   "metadata": {},
   "outputs": [
    {
     "data": {
      "text/plain": [
       "Total, all countries or areas    9\n",
       "Mozambique                       9\n",
       "Mali                             9\n",
       "Malta                            9\n",
       "Marshall Islands                 9\n",
       "                                ..\n",
       "Egypt                            5\n",
       "Brunei Darussalam                5\n",
       "Sudan                            4\n",
       "Sudan [former]                   3\n",
       "Serbia and Monten. [former]      2\n",
       "Name: Region/Country/Area, Length: 225, dtype: int64"
      ]
     },
     "execution_count": 12,
     "metadata": {},
     "output_type": "execute_result"
    }
   ],
   "source": [
    "df1['Region/Country/Area'].value_counts()"
   ]
  },
  {
   "cell_type": "code",
   "execution_count": 13,
   "metadata": {},
   "outputs": [
    {
     "data": {
      "text/plain": [
       "Seats held by women in national parliament, as of February (%)    1958\n",
       "Name: Series, dtype: int64"
      ]
     },
     "execution_count": 13,
     "metadata": {},
     "output_type": "execute_result"
    }
   ],
   "source": [
    "df1['Series'].value_counts()"
   ]
  },
  {
   "cell_type": "code",
   "execution_count": 14,
   "metadata": {},
   "outputs": [
    {
     "data": {
      "text/plain": [
       "1      9\n",
       "508    9\n",
       "466    9\n",
       "470    9\n",
       "584    9\n",
       "      ..\n",
       "818    5\n",
       "96     5\n",
       "729    4\n",
       "736    3\n",
       "891    2\n",
       "Name: Code, Length: 225, dtype: int64"
      ]
     },
     "execution_count": 14,
     "metadata": {},
     "output_type": "execute_result"
    }
   ],
   "source": [
    "df1['Code'].value_counts()"
   ]
  },
  {
   "cell_type": "markdown",
   "metadata": {},
   "source": [
    "# Data Cleaning"
   ]
  },
  {
   "cell_type": "code",
   "execution_count": 15,
   "metadata": {},
   "outputs": [
    {
     "data": {
      "text/plain": [
       "array(['Total, all countries or areas', 'Northern Africa',\n",
       "       'Sub-Saharan Africa', 'Eastern Africa', 'Middle Africa',\n",
       "       'Southern Africa', 'Western Africa', 'Northern America',\n",
       "       'Latin America & the Caribbean', 'Caribbean', 'Central America',\n",
       "       'South America', 'Asia', 'Central Asia', 'Eastern Asia',\n",
       "       'South-eastern Asia', 'Southern Asia', 'Western Asia',\n",
       "       'Caucasus and Central Asia', 'Europe', 'Eastern Europe',\n",
       "       'Northern Europe', 'Southern Europe', 'Western Europe', 'Oceania',\n",
       "       'Australia and New Zealand', 'Melanesia', 'Micronesia',\n",
       "       'Polynesia', 'Afghanistan', 'Albania', 'Algeria', 'Andorra',\n",
       "       'Angola', 'Antigua and Barbuda', 'Argentina', 'Armenia',\n",
       "       'Australia', 'Austria', 'Azerbaijan', 'Bahamas', 'Bahrain',\n",
       "       'Bangladesh', 'Barbados', 'Belarus', 'Belgium', 'Belize', 'Benin',\n",
       "       'Bhutan', 'Bolivia (Plurin. State of)', 'Bosnia and Herzegovina',\n",
       "       'Botswana', 'Brazil', 'Brunei Darussalam', 'Bulgaria',\n",
       "       'Burkina Faso', 'Burundi', 'Cabo Verde', 'Cambodia', 'Cameroon',\n",
       "       'Canada', 'Central African Republic', 'Chad', 'Chile', 'China',\n",
       "       'Colombia', 'Comoros', 'Congo', 'Costa Rica', 'Côte d’Ivoire',\n",
       "       'Croatia', 'Cuba', 'Cyprus', 'Czechia', \"Dem. People's Rep. Korea\",\n",
       "       'Dem. Rep. of the Congo', 'Denmark', 'Djibouti', 'Dominica',\n",
       "       'Dominican Republic', 'Ecuador', 'Egypt', 'El Salvador',\n",
       "       'Equatorial Guinea', 'Eritrea', 'Estonia', 'Eswatini', 'Ethiopia',\n",
       "       'Fiji', 'Finland', 'France', 'Gabon', 'Gambia', 'Georgia',\n",
       "       'Germany', 'Ghana', 'Greece', 'Grenada', 'Guatemala', 'Guinea',\n",
       "       'Guinea-Bissau', 'Guyana', 'Haiti', 'Honduras', 'Hungary',\n",
       "       'Iceland', 'India', 'Indonesia', 'Iran (Islamic Republic of)',\n",
       "       'Iraq', 'Ireland', 'Israel', 'Italy', 'Jamaica', 'Japan', 'Jordan',\n",
       "       'Kazakhstan', 'Kenya', 'Kiribati', 'Kuwait', 'Kyrgyzstan',\n",
       "       \"Lao People's Dem. Rep.\", 'Latvia', 'Lebanon', 'Lesotho',\n",
       "       'Liberia', 'Libya', 'Liechtenstein', 'Lithuania', 'Luxembourg',\n",
       "       'Madagascar', 'Malawi', 'Malaysia', 'Maldives', 'Mali', 'Malta',\n",
       "       'Marshall Islands', 'Mauritania', 'Mauritius', 'Mexico',\n",
       "       'Micronesia (Fed. States of)', 'Monaco', 'Mongolia', 'Montenegro',\n",
       "       'Morocco', 'Mozambique', 'Myanmar', 'Namibia', 'Nauru', 'Nepal',\n",
       "       'Netherlands', 'New Zealand', 'Nicaragua', 'Niger', 'Nigeria',\n",
       "       'North Macedonia', 'Norway', 'Oman', 'Pakistan', 'Palau', 'Panama',\n",
       "       'Papua New Guinea', 'Paraguay', 'Peru', 'Philippines', 'Poland',\n",
       "       'Portugal', 'Qatar', 'Republic of Korea', 'Republic of Moldova',\n",
       "       'Romania', 'Russian Federation', 'Rwanda', 'Saint Kitts and Nevis',\n",
       "       'Saint Lucia', 'Saint Vincent & Grenadines', 'Samoa', 'San Marino',\n",
       "       'Sao Tome and Principe', 'Saudi Arabia', 'Senegal', 'Serbia',\n",
       "       'Serbia and Monten. [former]', 'Seychelles', 'Sierra Leone',\n",
       "       'Singapore', 'Slovakia', 'Slovenia', 'Solomon Islands', 'Somalia',\n",
       "       'South Africa', 'South Sudan', 'Spain', 'Sri Lanka', 'Sudan',\n",
       "       'Sudan [former]', 'Suriname', 'Sweden', 'Switzerland',\n",
       "       'Syrian Arab Republic', 'Tajikistan', 'Thailand', 'Timor-Leste',\n",
       "       'Togo', 'Tonga', 'Trinidad and Tobago', 'Tunisia', 'Turkey',\n",
       "       'Turkmenistan', 'Tuvalu', 'Uganda', 'Ukraine',\n",
       "       'United Arab Emirates', 'United Kingdom',\n",
       "       'United Rep. of Tanzania', 'United States of America', 'Uruguay',\n",
       "       'Uzbekistan', 'Vanuatu', 'Venezuela (Boliv. Rep. of)', 'Viet Nam',\n",
       "       'Yemen', 'Zambia', 'Zimbabwe', 'LDC'], dtype=object)"
      ]
     },
     "execution_count": 15,
     "metadata": {},
     "output_type": "execute_result"
    }
   ],
   "source": [
    "df1['Region/Country/Area'].replace(\n",
    "    {'C�te d�Ivoire': \"Côte d’Ivoire\",\n",
    "     'LDC�': 'LDC'\n",
    "     }, \n",
    "       inplace=True)\n",
    "\n",
    "df1['Region/Country/Area'].unique()"
   ]
  },
  {
   "cell_type": "code",
   "execution_count": 16,
   "metadata": {},
   "outputs": [
    {
     "data": {
      "text/plain": [
       "array(['Seats held by women in national parliament'], dtype=object)"
      ]
     },
     "execution_count": 16,
     "metadata": {},
     "output_type": "execute_result"
    }
   ],
   "source": [
    "df1['Series'] = df1['Series'].str.rstrip(', as of February (%)')                  # right strip string\n",
    "df1['Series'].unique()"
   ]
  },
  {
   "cell_type": "code",
   "execution_count": 17,
   "metadata": {},
   "outputs": [
    {
     "data": {
      "text/plain": [
       "2017    223\n",
       "2018    222\n",
       "2019    222\n",
       "2020    220\n",
       "2021    220\n",
       "Name: Year, dtype: int64"
      ]
     },
     "execution_count": 17,
     "metadata": {},
     "output_type": "execute_result"
    }
   ],
   "source": [
    "df1['Year'].value_counts().head()"
   ]
  },
  {
   "cell_type": "code",
   "execution_count": 18,
   "metadata": {},
   "outputs": [
    {
     "data": {
      "text/plain": [
       "count    1958.000000\n",
       "mean       19.755669\n",
       "std        11.708992\n",
       "min         0.000000\n",
       "25%        10.800000\n",
       "50%        18.650000\n",
       "75%        27.200000\n",
       "max        63.800000\n",
       "Name: Value, dtype: float64"
      ]
     },
     "execution_count": 18,
     "metadata": {},
     "output_type": "execute_result"
    }
   ],
   "source": [
    "df1['Value'].describe()"
   ]
  },
  {
   "cell_type": "code",
   "execution_count": 19,
   "metadata": {},
   "outputs": [
    {
     "data": {
      "text/plain": [
       "<AxesSubplot:xlabel='Value', ylabel='Density'>"
      ]
     },
     "execution_count": 19,
     "metadata": {},
     "output_type": "execute_result"
    },
    {
     "data": {
      "image/png": "[encoded data removed]",
      "text/plain": [
       "<Figure size 864x648 with 1 Axes>"
      ]
     },
     "metadata": {},
     "output_type": "display_data"
    }
   ],
   "source": [
    "sns.kdeplot(data=df1, x='Value', shade=True)"
   ]
  },
  {
   "cell_type": "markdown",
   "metadata": {},
   "source": [
    "# Missing Values Exploration"
   ]
  },
  {
   "cell_type": "code",
   "execution_count": 20,
   "metadata": {},
   "outputs": [
    {
     "data": {
      "text/plain": [
       "Code                   0\n",
       "Region/Country/Area    0\n",
       "Year                   0\n",
       "Series                 0\n",
       "Value                  0\n",
       "dtype: int64"
      ]
     },
     "execution_count": 20,
     "metadata": {},
     "output_type": "execute_result"
    }
   ],
   "source": [
    "df1.isna().sum()"
   ]
  },
  {
   "cell_type": "markdown",
   "metadata": {},
   "source": [
    "# Grouping and Aggregation"
   ]
  },
  {
   "cell_type": "code",
   "execution_count": 21,
   "metadata": {},
   "outputs": [
    {
     "data": {
      "text/html": [
       "<div>\n",
       "<style scoped>\n",
       "    .dataframe tbody tr th:only-of-type {\n",
       "        vertical-align: middle;\n",
       "    }\n",
       "\n",
       "    .dataframe tbody tr th {\n",
       "        vertical-align: top;\n",
       "    }\n",
       "\n",
       "    .dataframe thead th {\n",
       "        text-align: right;\n",
       "    }\n",
       "</style>\n",
       "<table border=\"1\" class=\"dataframe\">\n",
       "  <thead>\n",
       "    <tr style=\"text-align: right;\">\n",
       "      <th></th>\n",
       "      <th>Code</th>\n",
       "      <th>Region/Country/Area</th>\n",
       "      <th>Year</th>\n",
       "      <th>Series</th>\n",
       "      <th>Value</th>\n",
       "    </tr>\n",
       "  </thead>\n",
       "  <tbody>\n",
       "    <tr>\n",
       "      <th>0</th>\n",
       "      <td>1</td>\n",
       "      <td>Total, all countries or areas</td>\n",
       "      <td>2000</td>\n",
       "      <td>Seats held by women in national parliament</td>\n",
       "      <td>13.3</td>\n",
       "    </tr>\n",
       "    <tr>\n",
       "      <th>1</th>\n",
       "      <td>1</td>\n",
       "      <td>Total, all countries or areas</td>\n",
       "      <td>2005</td>\n",
       "      <td>Seats held by women in national parliament</td>\n",
       "      <td>15.9</td>\n",
       "    </tr>\n",
       "    <tr>\n",
       "      <th>2</th>\n",
       "      <td>1</td>\n",
       "      <td>Total, all countries or areas</td>\n",
       "      <td>2010</td>\n",
       "      <td>Seats held by women in national parliament</td>\n",
       "      <td>19.0</td>\n",
       "    </tr>\n",
       "    <tr>\n",
       "      <th>3</th>\n",
       "      <td>1</td>\n",
       "      <td>Total, all countries or areas</td>\n",
       "      <td>2015</td>\n",
       "      <td>Seats held by women in national parliament</td>\n",
       "      <td>22.3</td>\n",
       "    </tr>\n",
       "    <tr>\n",
       "      <th>4</th>\n",
       "      <td>1</td>\n",
       "      <td>Total, all countries or areas</td>\n",
       "      <td>2017</td>\n",
       "      <td>Seats held by women in national parliament</td>\n",
       "      <td>23.4</td>\n",
       "    </tr>\n",
       "    <tr>\n",
       "      <th>...</th>\n",
       "      <td>...</td>\n",
       "      <td>...</td>\n",
       "      <td>...</td>\n",
       "      <td>...</td>\n",
       "      <td>...</td>\n",
       "    </tr>\n",
       "    <tr>\n",
       "      <th>1949</th>\n",
       "      <td>199</td>\n",
       "      <td>LDC</td>\n",
       "      <td>2000</td>\n",
       "      <td>Seats held by women in national parliament</td>\n",
       "      <td>9.3</td>\n",
       "    </tr>\n",
       "    <tr>\n",
       "      <th>1950</th>\n",
       "      <td>199</td>\n",
       "      <td>LDC</td>\n",
       "      <td>2005</td>\n",
       "      <td>Seats held by women in national parliament</td>\n",
       "      <td>13.1</td>\n",
       "    </tr>\n",
       "    <tr>\n",
       "      <th>1951</th>\n",
       "      <td>199</td>\n",
       "      <td>LDC</td>\n",
       "      <td>2010</td>\n",
       "      <td>Seats held by women in national parliament</td>\n",
       "      <td>19.3</td>\n",
       "    </tr>\n",
       "    <tr>\n",
       "      <th>1952</th>\n",
       "      <td>199</td>\n",
       "      <td>LDC</td>\n",
       "      <td>2015</td>\n",
       "      <td>Seats held by women in national parliament</td>\n",
       "      <td>21.7</td>\n",
       "    </tr>\n",
       "    <tr>\n",
       "      <th>1953</th>\n",
       "      <td>199</td>\n",
       "      <td>LDC</td>\n",
       "      <td>2017</td>\n",
       "      <td>Seats held by women in national parliament</td>\n",
       "      <td>23.2</td>\n",
       "    </tr>\n",
       "  </tbody>\n",
       "</table>\n",
       "<p>1119 rows × 5 columns</p>\n",
       "</div>"
      ],
      "text/plain": [
       "      Code            Region/Country/Area  Year  \\\n",
       "0        1  Total, all countries or areas  2000   \n",
       "1        1  Total, all countries or areas  2005   \n",
       "2        1  Total, all countries or areas  2010   \n",
       "3        1  Total, all countries or areas  2015   \n",
       "4        1  Total, all countries or areas  2017   \n",
       "...    ...                            ...   ...   \n",
       "1949   199                            LDC  2000   \n",
       "1950   199                            LDC  2005   \n",
       "1951   199                            LDC  2010   \n",
       "1952   199                            LDC  2015   \n",
       "1953   199                            LDC  2017   \n",
       "\n",
       "                                          Series  Value  \n",
       "0     Seats held by women in national parliament   13.3  \n",
       "1     Seats held by women in national parliament   15.9  \n",
       "2     Seats held by women in national parliament   19.0  \n",
       "3     Seats held by women in national parliament   22.3  \n",
       "4     Seats held by women in national parliament   23.4  \n",
       "...                                          ...    ...  \n",
       "1949  Seats held by women in national parliament    9.3  \n",
       "1950  Seats held by women in national parliament   13.1  \n",
       "1951  Seats held by women in national parliament   19.3  \n",
       "1952  Seats held by women in national parliament   21.7  \n",
       "1953  Seats held by women in national parliament   23.2  \n",
       "\n",
       "[1119 rows x 5 columns]"
      ]
     },
     "execution_count": 21,
     "metadata": {},
     "output_type": "execute_result"
    }
   ],
   "source": [
    "country_or_area_grpd = df1.groupby('Region/Country/Area')\n",
    "country_or_area_grpd.head()"
   ]
  },
  {
   "cell_type": "markdown",
   "metadata": {},
   "source": [
    "# Data Visualization"
   ]
  },
  {
   "cell_type": "markdown",
   "metadata": {},
   "source": [
    "Helper function to visualize individual Regions, Countries or Areas"
   ]
  },
  {
   "cell_type": "code",
   "execution_count": 22,
   "metadata": {},
   "outputs": [],
   "source": [
    "def plot_line(data, x, y, hue=None, size=None, style=None, title=None, xlabel=None, ylabel=None):\n",
    "    # create figure and axis\n",
    "    fig, ax = plt.subplots()\n",
    "    fig.autofmt_xdate()\n",
    "\n",
    "    # plot line chart\n",
    "    sns.lineplot(\n",
    "        data=data,\n",
    "        x=x, y=y,\n",
    "        hue=hue, size=size, style=style,\n",
    "        ax=ax)\n",
    "\n",
    "    # label plot axis\n",
    "    ax.set(title=title, xlabel=xlabel, ylabel=ylabel)\n",
    "\n",
    "    # despine axes\n",
    "    sns.despine(bottom=True, left=True)\n",
    "\n",
    "    return plot_line"
   ]
  },
  {
   "cell_type": "code",
   "execution_count": 23,
   "metadata": {},
   "outputs": [
    {
     "data": {
      "text/plain": [
       "<function __main__.plot_line(data, x, y, hue=None, size=None, style=None, title=None, xlabel=None, ylabel=None)>"
      ]
     },
     "execution_count": 23,
     "metadata": {},
     "output_type": "execute_result"
    },
    {
     "data": {
      "image/png": "[encoded data removed]",
      "text/plain": [
       "<Figure size 864x648 with 1 Axes>"
      ]
     },
     "metadata": {},
     "output_type": "display_data"
    }
   ],
   "source": [
    "plot_line(\n",
    "    data=country_or_area_grpd.get_group('Germany'),\n",
    "    x='Year', y='Value',\n",
    "    hue='Series',\n",
    "    title='Germany', xlabel='Year', ylabel='Value (%)'\n",
    ")"
   ]
  },
  {
   "cell_type": "code",
   "execution_count": 24,
   "metadata": {},
   "outputs": [
    {
     "data": {
      "text/plain": [
       "<function __main__.plot_line(data, x, y, hue=None, size=None, style=None, title=None, xlabel=None, ylabel=None)>"
      ]
     },
     "execution_count": 24,
     "metadata": {},
     "output_type": "execute_result"
    },
    {
     "data": {
      "image/png": "[encoded data removed]",
      "text/plain": [
       "<Figure size 864x648 with 1 Axes>"
      ]
     },
     "metadata": {},
     "output_type": "display_data"
    }
   ],
   "source": [
    "plot_line(\n",
    "    data=country_or_area_grpd.get_group('United States of America'),\n",
    "    x='Year', y='Value',\n",
    "    hue='Series',\n",
    "    title='USA', xlabel='Year', ylabel='Value (%)'\n",
    ")"
   ]
  },
  {
   "cell_type": "code",
   "execution_count": 25,
   "metadata": {},
   "outputs": [
    {
     "data": {
      "text/plain": [
       "<function __main__.plot_line(data, x, y, hue=None, size=None, style=None, title=None, xlabel=None, ylabel=None)>"
      ]
     },
     "execution_count": 25,
     "metadata": {},
     "output_type": "execute_result"
    },
    {
     "data": {
      "image/png": "[encoded data removed]",
      "text/plain": [
       "<Figure size 864x648 with 1 Axes>"
      ]
     },
     "metadata": {},
     "output_type": "display_data"
    }
   ],
   "source": [
    "plot_line(\n",
    "    data=country_or_area_grpd.get_group('China'),\n",
    "    x='Year', y='Value',\n",
    "    hue='Series',\n",
    "    title='China', xlabel='Year', ylabel='Value (%)'\n",
    ")"
   ]
  },
  {
   "cell_type": "code",
   "execution_count": 26,
   "metadata": {},
   "outputs": [
    {
     "data": {
      "text/plain": [
       "<function __main__.plot_line(data, x, y, hue=None, size=None, style=None, title=None, xlabel=None, ylabel=None)>"
      ]
     },
     "execution_count": 26,
     "metadata": {},
     "output_type": "execute_result"
    },
    {
     "data": {
      "image/png": "[encoded data removed]",
      "text/plain": [
       "<Figure size 864x648 with 1 Axes>"
      ]
     },
     "metadata": {},
     "output_type": "display_data"
    }
   ],
   "source": [
    "plot_line(\n",
    "    data=country_or_area_grpd.get_group('Ghana'),\n",
    "    x='Year', y='Value',\n",
    "    hue='Series',\n",
    "    title='Ghana', xlabel='Year', ylabel='Value (%)'\n",
    ")"
   ]
  }
 ],
 "metadata": {
  "interpreter": {
   "hash": "3fe9daace87ea8cb12e037f7452ad9bcd52f59aa894a611255d1461de3a9065e"
  },
  "kernelspec": {
   "display_name": "Python 3.9.7 ('DS')",
   "language": "python",
   "name": "python3"
  },
  "language_info": {
   "codemirror_mode": {
    "name": "ipython",
    "version": 3
   },
   "file_extension": ".py",
   "mimetype": "text/x-python",
   "name": "python",
   "nbconvert_exporter": "python",
   "pygments_lexer": "ipython3",
   "version": "3.9.12"
  },
  "orig_nbformat": 4
 },
 "nbformat": 4,
 "nbformat_minor": 2
}
