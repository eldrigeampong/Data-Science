{
 "cells": [
  {
   "cell_type": "markdown",
   "metadata": {},
   "source": [
    "# Wages and salaries"
   ]
  },
  {
   "cell_type": "markdown",
   "metadata": {},
   "source": [
    "# Import Libraries"
   ]
  },
  {
   "cell_type": "code",
   "execution_count": 1,
   "metadata": {},
   "outputs": [],
   "source": [
    "import numpy as np\n",
    "import pandas as pd\n",
    "import matplotlib.pyplot as plt\n",
    "import seaborn as sns\n",
    "import os\n",
    "import warnings"
   ]
  },
  {
   "cell_type": "markdown",
   "metadata": {},
   "source": [
    "# Options and Settings"
   ]
  },
  {
   "cell_type": "code",
   "execution_count": 2,
   "metadata": {},
   "outputs": [],
   "source": [
    "%matplotlib inline\n",
    "plt.style.use('ggplot')\n",
    "plt.rcParams['figure.autolayout'] = True\n",
    "plt.rcParams['figure.figsize'] = [12, 9]\n",
    "plt.rcParams['font.size'] = 12\n",
    "path = os.getcwd()                                         # get current working directory\n",
    "warnings.simplefilter('ignore')"
   ]
  },
  {
   "cell_type": "markdown",
   "metadata": {},
   "source": [
    "# Import Data"
   ]
  },
  {
   "cell_type": "code",
   "execution_count": 3,
   "metadata": {},
   "outputs": [],
   "source": [
    "filepath = os.path.join(path, 'datasets', 'Wages and salaries.csv')\n",
    "df = pd.read_csv(filepath)"
   ]
  },
  {
   "cell_type": "markdown",
   "metadata": {},
   "source": [
    "# Head and Tail"
   ]
  },
  {
   "cell_type": "code",
   "execution_count": 4,
   "metadata": {},
   "outputs": [
    {
     "data": {
      "text/html": [
       "<div>\n",
       "<style scoped>\n",
       "    .dataframe tbody tr th:only-of-type {\n",
       "        vertical-align: middle;\n",
       "    }\n",
       "\n",
       "    .dataframe tbody tr th {\n",
       "        vertical-align: top;\n",
       "    }\n",
       "\n",
       "    .dataframe thead th {\n",
       "        text-align: right;\n",
       "    }\n",
       "</style>\n",
       "<table border=\"1\" class=\"dataframe\">\n",
       "  <thead>\n",
       "    <tr style=\"text-align: right;\">\n",
       "      <th></th>\n",
       "      <th>Country or Area</th>\n",
       "      <th>Currency</th>\n",
       "      <th>ISIC Rev 3</th>\n",
       "      <th>Year</th>\n",
       "      <th>Measure</th>\n",
       "      <th>Value</th>\n",
       "      <th>Value Footnotes</th>\n",
       "    </tr>\n",
       "  </thead>\n",
       "  <tbody>\n",
       "    <tr>\n",
       "      <th>0</th>\n",
       "      <td>Afghanistan</td>\n",
       "      <td>Afghani</td>\n",
       "      <td>154 Other food products</td>\n",
       "      <td>2011.0</td>\n",
       "      <td>Wages and salaries paid to employees</td>\n",
       "      <td>335228000.0</td>\n",
       "      <td>NaN</td>\n",
       "    </tr>\n",
       "    <tr>\n",
       "      <th>1</th>\n",
       "      <td>Afghanistan</td>\n",
       "      <td>Afghani</td>\n",
       "      <td>154 Other food products</td>\n",
       "      <td>2010.0</td>\n",
       "      <td>Wages and salaries paid to employees</td>\n",
       "      <td>322938000.0</td>\n",
       "      <td>NaN</td>\n",
       "    </tr>\n",
       "    <tr>\n",
       "      <th>2</th>\n",
       "      <td>Afghanistan</td>\n",
       "      <td>Afghani</td>\n",
       "      <td>154 Other food products</td>\n",
       "      <td>2009.0</td>\n",
       "      <td>Wages and salaries paid to employees</td>\n",
       "      <td>343440000.0</td>\n",
       "      <td>NaN</td>\n",
       "    </tr>\n",
       "    <tr>\n",
       "      <th>3</th>\n",
       "      <td>Afghanistan</td>\n",
       "      <td>Afghani</td>\n",
       "      <td>154 Other food products</td>\n",
       "      <td>2008.0</td>\n",
       "      <td>Wages and salaries paid to employees</td>\n",
       "      <td>322376000.0</td>\n",
       "      <td>NaN</td>\n",
       "    </tr>\n",
       "    <tr>\n",
       "      <th>4</th>\n",
       "      <td>Afghanistan</td>\n",
       "      <td>Afghani</td>\n",
       "      <td>154 Other food products</td>\n",
       "      <td>2007.0</td>\n",
       "      <td>Wages and salaries paid to employees</td>\n",
       "      <td>305280000.0</td>\n",
       "      <td>NaN</td>\n",
       "    </tr>\n",
       "    <tr>\n",
       "      <th>...</th>\n",
       "      <td>...</td>\n",
       "      <td>...</td>\n",
       "      <td>...</td>\n",
       "      <td>...</td>\n",
       "      <td>...</td>\n",
       "      <td>...</td>\n",
       "      <td>...</td>\n",
       "    </tr>\n",
       "    <tr>\n",
       "      <th>21801</th>\n",
       "      <td>128</td>\n",
       "      <td>273 includes 2710, 2720</td>\n",
       "      <td>NaN</td>\n",
       "      <td>NaN</td>\n",
       "      <td>NaN</td>\n",
       "      <td>NaN</td>\n",
       "      <td>NaN</td>\n",
       "    </tr>\n",
       "    <tr>\n",
       "      <th>21802</th>\n",
       "      <td>129</td>\n",
       "      <td>359 includes 351, 3520, 3530</td>\n",
       "      <td>NaN</td>\n",
       "      <td>NaN</td>\n",
       "      <td>NaN</td>\n",
       "      <td>NaN</td>\n",
       "      <td>NaN</td>\n",
       "    </tr>\n",
       "    <tr>\n",
       "      <th>21803</th>\n",
       "      <td>130</td>\n",
       "      <td>2021 includes 2022, 2023</td>\n",
       "      <td>NaN</td>\n",
       "      <td>NaN</td>\n",
       "      <td>NaN</td>\n",
       "      <td>NaN</td>\n",
       "      <td>NaN</td>\n",
       "    </tr>\n",
       "    <tr>\n",
       "      <th>21804</th>\n",
       "      <td>131</td>\n",
       "      <td>2211 includes 2213, 2219, 2221, 2222</td>\n",
       "      <td>NaN</td>\n",
       "      <td>NaN</td>\n",
       "      <td>NaN</td>\n",
       "      <td>NaN</td>\n",
       "      <td>NaN</td>\n",
       "    </tr>\n",
       "    <tr>\n",
       "      <th>21805</th>\n",
       "      <td>132</td>\n",
       "      <td>3699 includes 3692, 3693, 3694</td>\n",
       "      <td>NaN</td>\n",
       "      <td>NaN</td>\n",
       "      <td>NaN</td>\n",
       "      <td>NaN</td>\n",
       "      <td>NaN</td>\n",
       "    </tr>\n",
       "  </tbody>\n",
       "</table>\n",
       "<p>21806 rows × 7 columns</p>\n",
       "</div>"
      ],
      "text/plain": [
       "      Country or Area                              Currency  \\\n",
       "0        Afghanistan                                Afghani   \n",
       "1        Afghanistan                                Afghani   \n",
       "2        Afghanistan                                Afghani   \n",
       "3        Afghanistan                                Afghani   \n",
       "4        Afghanistan                                Afghani   \n",
       "...               ...                                   ...   \n",
       "21801             128               273 includes 2710, 2720   \n",
       "21802             129          359 includes 351, 3520, 3530   \n",
       "21803             130              2021 includes 2022, 2023   \n",
       "21804             131  2211 includes 2213, 2219, 2221, 2222   \n",
       "21805             132        3699 includes 3692, 3693, 3694   \n",
       "\n",
       "                    ISIC Rev 3    Year                               Measure  \\\n",
       "0      154 Other food products  2011.0  Wages and salaries paid to employees   \n",
       "1      154 Other food products  2010.0  Wages and salaries paid to employees   \n",
       "2      154 Other food products  2009.0  Wages and salaries paid to employees   \n",
       "3      154 Other food products  2008.0  Wages and salaries paid to employees   \n",
       "4      154 Other food products  2007.0  Wages and salaries paid to employees   \n",
       "...                        ...     ...                                   ...   \n",
       "21801                      NaN     NaN                                   NaN   \n",
       "21802                      NaN     NaN                                   NaN   \n",
       "21803                      NaN     NaN                                   NaN   \n",
       "21804                      NaN     NaN                                   NaN   \n",
       "21805                      NaN     NaN                                   NaN   \n",
       "\n",
       "             Value  Value Footnotes  \n",
       "0      335228000.0              NaN  \n",
       "1      322938000.0              NaN  \n",
       "2      343440000.0              NaN  \n",
       "3      322376000.0              NaN  \n",
       "4      305280000.0              NaN  \n",
       "...            ...              ...  \n",
       "21801          NaN              NaN  \n",
       "21802          NaN              NaN  \n",
       "21803          NaN              NaN  \n",
       "21804          NaN              NaN  \n",
       "21805          NaN              NaN  \n",
       "\n",
       "[21806 rows x 7 columns]"
      ]
     },
     "execution_count": 4,
     "metadata": {},
     "output_type": "execute_result"
    }
   ],
   "source": [
    "df"
   ]
  },
  {
   "cell_type": "code",
   "execution_count": 5,
   "metadata": {},
   "outputs": [
    {
     "data": {
      "text/html": [
       "<div>\n",
       "<style scoped>\n",
       "    .dataframe tbody tr th:only-of-type {\n",
       "        vertical-align: middle;\n",
       "    }\n",
       "\n",
       "    .dataframe tbody tr th {\n",
       "        vertical-align: top;\n",
       "    }\n",
       "\n",
       "    .dataframe thead th {\n",
       "        text-align: right;\n",
       "    }\n",
       "</style>\n",
       "<table border=\"1\" class=\"dataframe\">\n",
       "  <thead>\n",
       "    <tr style=\"text-align: right;\">\n",
       "      <th></th>\n",
       "      <th>Country or Area</th>\n",
       "      <th>Currency</th>\n",
       "      <th>ISIC Rev 3</th>\n",
       "      <th>Year</th>\n",
       "      <th>Measure</th>\n",
       "      <th>Value</th>\n",
       "      <th>Value Footnotes</th>\n",
       "    </tr>\n",
       "  </thead>\n",
       "  <tbody>\n",
       "    <tr>\n",
       "      <th>0</th>\n",
       "      <td>Afghanistan</td>\n",
       "      <td>Afghani</td>\n",
       "      <td>154 Other food products</td>\n",
       "      <td>2011.0</td>\n",
       "      <td>Wages and salaries paid to employees</td>\n",
       "      <td>3.352280e+08</td>\n",
       "      <td>NaN</td>\n",
       "    </tr>\n",
       "    <tr>\n",
       "      <th>1</th>\n",
       "      <td>Afghanistan</td>\n",
       "      <td>Afghani</td>\n",
       "      <td>154 Other food products</td>\n",
       "      <td>2010.0</td>\n",
       "      <td>Wages and salaries paid to employees</td>\n",
       "      <td>3.229380e+08</td>\n",
       "      <td>NaN</td>\n",
       "    </tr>\n",
       "    <tr>\n",
       "      <th>2</th>\n",
       "      <td>Afghanistan</td>\n",
       "      <td>Afghani</td>\n",
       "      <td>154 Other food products</td>\n",
       "      <td>2009.0</td>\n",
       "      <td>Wages and salaries paid to employees</td>\n",
       "      <td>3.434400e+08</td>\n",
       "      <td>NaN</td>\n",
       "    </tr>\n",
       "    <tr>\n",
       "      <th>3</th>\n",
       "      <td>Afghanistan</td>\n",
       "      <td>Afghani</td>\n",
       "      <td>154 Other food products</td>\n",
       "      <td>2008.0</td>\n",
       "      <td>Wages and salaries paid to employees</td>\n",
       "      <td>3.223760e+08</td>\n",
       "      <td>NaN</td>\n",
       "    </tr>\n",
       "    <tr>\n",
       "      <th>4</th>\n",
       "      <td>Afghanistan</td>\n",
       "      <td>Afghani</td>\n",
       "      <td>154 Other food products</td>\n",
       "      <td>2007.0</td>\n",
       "      <td>Wages and salaries paid to employees</td>\n",
       "      <td>3.052800e+08</td>\n",
       "      <td>NaN</td>\n",
       "    </tr>\n",
       "    <tr>\n",
       "      <th>...</th>\n",
       "      <td>...</td>\n",
       "      <td>...</td>\n",
       "      <td>...</td>\n",
       "      <td>...</td>\n",
       "      <td>...</td>\n",
       "      <td>...</td>\n",
       "      <td>...</td>\n",
       "    </tr>\n",
       "    <tr>\n",
       "      <th>21668</th>\n",
       "      <td>Yemen</td>\n",
       "      <td>Rials</td>\n",
       "      <td>3720 Recycling of non-metal waste and scrap</td>\n",
       "      <td>2009.0</td>\n",
       "      <td>Wages and salaries paid to employees</td>\n",
       "      <td>4.332000e+06</td>\n",
       "      <td>NaN</td>\n",
       "    </tr>\n",
       "    <tr>\n",
       "      <th>21669</th>\n",
       "      <td>Yemen</td>\n",
       "      <td>Rials</td>\n",
       "      <td>3720 Recycling of non-metal waste and scrap</td>\n",
       "      <td>2008.0</td>\n",
       "      <td>Wages and salaries paid to employees</td>\n",
       "      <td>1.444000e+06</td>\n",
       "      <td>NaN</td>\n",
       "    </tr>\n",
       "    <tr>\n",
       "      <th>21670</th>\n",
       "      <td>Yemen</td>\n",
       "      <td>Rials</td>\n",
       "      <td>D Total manufacturing</td>\n",
       "      <td>2009.0</td>\n",
       "      <td>Wages and salaries paid to employees</td>\n",
       "      <td>4.845004e+10</td>\n",
       "      <td>NaN</td>\n",
       "    </tr>\n",
       "    <tr>\n",
       "      <th>21671</th>\n",
       "      <td>Yemen</td>\n",
       "      <td>Rials</td>\n",
       "      <td>D Total manufacturing</td>\n",
       "      <td>2008.0</td>\n",
       "      <td>Wages and salaries paid to employees</td>\n",
       "      <td>3.902640e+10</td>\n",
       "      <td>NaN</td>\n",
       "    </tr>\n",
       "    <tr>\n",
       "      <th>21672</th>\n",
       "      <td>Yemen</td>\n",
       "      <td>Rials</td>\n",
       "      <td>D Total manufacturing</td>\n",
       "      <td>2007.0</td>\n",
       "      <td>Wages and salaries paid to employees</td>\n",
       "      <td>3.034300e+10</td>\n",
       "      <td>NaN</td>\n",
       "    </tr>\n",
       "  </tbody>\n",
       "</table>\n",
       "<p>21673 rows × 7 columns</p>\n",
       "</div>"
      ],
      "text/plain": [
       "      Country or Area Currency                                   ISIC Rev 3  \\\n",
       "0        Afghanistan   Afghani                      154 Other food products   \n",
       "1        Afghanistan   Afghani                      154 Other food products   \n",
       "2        Afghanistan   Afghani                      154 Other food products   \n",
       "3        Afghanistan   Afghani                      154 Other food products   \n",
       "4        Afghanistan   Afghani                      154 Other food products   \n",
       "...               ...      ...                                          ...   \n",
       "21668          Yemen     Rials  3720 Recycling of non-metal waste and scrap   \n",
       "21669          Yemen     Rials  3720 Recycling of non-metal waste and scrap   \n",
       "21670          Yemen     Rials                        D Total manufacturing   \n",
       "21671          Yemen     Rials                        D Total manufacturing   \n",
       "21672          Yemen     Rials                        D Total manufacturing   \n",
       "\n",
       "         Year                               Measure         Value  \\\n",
       "0      2011.0  Wages and salaries paid to employees  3.352280e+08   \n",
       "1      2010.0  Wages and salaries paid to employees  3.229380e+08   \n",
       "2      2009.0  Wages and salaries paid to employees  3.434400e+08   \n",
       "3      2008.0  Wages and salaries paid to employees  3.223760e+08   \n",
       "4      2007.0  Wages and salaries paid to employees  3.052800e+08   \n",
       "...       ...                                   ...           ...   \n",
       "21668  2009.0  Wages and salaries paid to employees  4.332000e+06   \n",
       "21669  2008.0  Wages and salaries paid to employees  1.444000e+06   \n",
       "21670  2009.0  Wages and salaries paid to employees  4.845004e+10   \n",
       "21671  2008.0  Wages and salaries paid to employees  3.902640e+10   \n",
       "21672  2007.0  Wages and salaries paid to employees  3.034300e+10   \n",
       "\n",
       "       Value Footnotes  \n",
       "0                  NaN  \n",
       "1                  NaN  \n",
       "2                  NaN  \n",
       "3                  NaN  \n",
       "4                  NaN  \n",
       "...                ...  \n",
       "21668              NaN  \n",
       "21669              NaN  \n",
       "21670              NaN  \n",
       "21671              NaN  \n",
       "21672              NaN  \n",
       "\n",
       "[21673 rows x 7 columns]"
      ]
     },
     "execution_count": 5,
     "metadata": {},
     "output_type": "execute_result"
    }
   ],
   "source": [
    "df1 = df[:21673]                                        # select index position 0-21673\n",
    "df1"
   ]
  },
  {
   "cell_type": "code",
   "execution_count": 6,
   "metadata": {},
   "outputs": [
    {
     "data": {
      "text/html": [
       "<div>\n",
       "<style scoped>\n",
       "    .dataframe tbody tr th:only-of-type {\n",
       "        vertical-align: middle;\n",
       "    }\n",
       "\n",
       "    .dataframe tbody tr th {\n",
       "        vertical-align: top;\n",
       "    }\n",
       "\n",
       "    .dataframe thead th {\n",
       "        text-align: right;\n",
       "    }\n",
       "</style>\n",
       "<table border=\"1\" class=\"dataframe\">\n",
       "  <thead>\n",
       "    <tr style=\"text-align: right;\">\n",
       "      <th></th>\n",
       "      <th>Country or Area</th>\n",
       "      <th>Currency</th>\n",
       "      <th>ISIC Rev 3</th>\n",
       "      <th>Year</th>\n",
       "      <th>Measure</th>\n",
       "      <th>Value</th>\n",
       "      <th>Value Footnotes</th>\n",
       "    </tr>\n",
       "  </thead>\n",
       "  <tbody>\n",
       "    <tr>\n",
       "      <th>0</th>\n",
       "      <td>Afghanistan</td>\n",
       "      <td>Afghani</td>\n",
       "      <td>154 Other food products</td>\n",
       "      <td>2011</td>\n",
       "      <td>Wages and salaries paid to employees</td>\n",
       "      <td>3.352280e+08</td>\n",
       "      <td>NaN</td>\n",
       "    </tr>\n",
       "    <tr>\n",
       "      <th>1</th>\n",
       "      <td>Afghanistan</td>\n",
       "      <td>Afghani</td>\n",
       "      <td>154 Other food products</td>\n",
       "      <td>2010</td>\n",
       "      <td>Wages and salaries paid to employees</td>\n",
       "      <td>3.229380e+08</td>\n",
       "      <td>NaN</td>\n",
       "    </tr>\n",
       "    <tr>\n",
       "      <th>2</th>\n",
       "      <td>Afghanistan</td>\n",
       "      <td>Afghani</td>\n",
       "      <td>154 Other food products</td>\n",
       "      <td>2009</td>\n",
       "      <td>Wages and salaries paid to employees</td>\n",
       "      <td>3.434400e+08</td>\n",
       "      <td>NaN</td>\n",
       "    </tr>\n",
       "    <tr>\n",
       "      <th>3</th>\n",
       "      <td>Afghanistan</td>\n",
       "      <td>Afghani</td>\n",
       "      <td>154 Other food products</td>\n",
       "      <td>2008</td>\n",
       "      <td>Wages and salaries paid to employees</td>\n",
       "      <td>3.223760e+08</td>\n",
       "      <td>NaN</td>\n",
       "    </tr>\n",
       "    <tr>\n",
       "      <th>4</th>\n",
       "      <td>Afghanistan</td>\n",
       "      <td>Afghani</td>\n",
       "      <td>154 Other food products</td>\n",
       "      <td>2007</td>\n",
       "      <td>Wages and salaries paid to employees</td>\n",
       "      <td>3.052800e+08</td>\n",
       "      <td>NaN</td>\n",
       "    </tr>\n",
       "    <tr>\n",
       "      <th>...</th>\n",
       "      <td>...</td>\n",
       "      <td>...</td>\n",
       "      <td>...</td>\n",
       "      <td>...</td>\n",
       "      <td>...</td>\n",
       "      <td>...</td>\n",
       "      <td>...</td>\n",
       "    </tr>\n",
       "    <tr>\n",
       "      <th>21668</th>\n",
       "      <td>Yemen</td>\n",
       "      <td>Rials</td>\n",
       "      <td>3720 Recycling of non-metal waste and scrap</td>\n",
       "      <td>2009</td>\n",
       "      <td>Wages and salaries paid to employees</td>\n",
       "      <td>4.332000e+06</td>\n",
       "      <td>NaN</td>\n",
       "    </tr>\n",
       "    <tr>\n",
       "      <th>21669</th>\n",
       "      <td>Yemen</td>\n",
       "      <td>Rials</td>\n",
       "      <td>3720 Recycling of non-metal waste and scrap</td>\n",
       "      <td>2008</td>\n",
       "      <td>Wages and salaries paid to employees</td>\n",
       "      <td>1.444000e+06</td>\n",
       "      <td>NaN</td>\n",
       "    </tr>\n",
       "    <tr>\n",
       "      <th>21670</th>\n",
       "      <td>Yemen</td>\n",
       "      <td>Rials</td>\n",
       "      <td>D Total manufacturing</td>\n",
       "      <td>2009</td>\n",
       "      <td>Wages and salaries paid to employees</td>\n",
       "      <td>4.845004e+10</td>\n",
       "      <td>NaN</td>\n",
       "    </tr>\n",
       "    <tr>\n",
       "      <th>21671</th>\n",
       "      <td>Yemen</td>\n",
       "      <td>Rials</td>\n",
       "      <td>D Total manufacturing</td>\n",
       "      <td>2008</td>\n",
       "      <td>Wages and salaries paid to employees</td>\n",
       "      <td>3.902640e+10</td>\n",
       "      <td>NaN</td>\n",
       "    </tr>\n",
       "    <tr>\n",
       "      <th>21672</th>\n",
       "      <td>Yemen</td>\n",
       "      <td>Rials</td>\n",
       "      <td>D Total manufacturing</td>\n",
       "      <td>2007</td>\n",
       "      <td>Wages and salaries paid to employees</td>\n",
       "      <td>3.034300e+10</td>\n",
       "      <td>NaN</td>\n",
       "    </tr>\n",
       "  </tbody>\n",
       "</table>\n",
       "<p>21673 rows × 7 columns</p>\n",
       "</div>"
      ],
      "text/plain": [
       "      Country or Area Currency                                   ISIC Rev 3  \\\n",
       "0        Afghanistan   Afghani                      154 Other food products   \n",
       "1        Afghanistan   Afghani                      154 Other food products   \n",
       "2        Afghanistan   Afghani                      154 Other food products   \n",
       "3        Afghanistan   Afghani                      154 Other food products   \n",
       "4        Afghanistan   Afghani                      154 Other food products   \n",
       "...               ...      ...                                          ...   \n",
       "21668          Yemen     Rials  3720 Recycling of non-metal waste and scrap   \n",
       "21669          Yemen     Rials  3720 Recycling of non-metal waste and scrap   \n",
       "21670          Yemen     Rials                        D Total manufacturing   \n",
       "21671          Yemen     Rials                        D Total manufacturing   \n",
       "21672          Yemen     Rials                        D Total manufacturing   \n",
       "\n",
       "       Year                               Measure         Value  \\\n",
       "0      2011  Wages and salaries paid to employees  3.352280e+08   \n",
       "1      2010  Wages and salaries paid to employees  3.229380e+08   \n",
       "2      2009  Wages and salaries paid to employees  3.434400e+08   \n",
       "3      2008  Wages and salaries paid to employees  3.223760e+08   \n",
       "4      2007  Wages and salaries paid to employees  3.052800e+08   \n",
       "...     ...                                   ...           ...   \n",
       "21668  2009  Wages and salaries paid to employees  4.332000e+06   \n",
       "21669  2008  Wages and salaries paid to employees  1.444000e+06   \n",
       "21670  2009  Wages and salaries paid to employees  4.845004e+10   \n",
       "21671  2008  Wages and salaries paid to employees  3.902640e+10   \n",
       "21672  2007  Wages and salaries paid to employees  3.034300e+10   \n",
       "\n",
       "       Value Footnotes  \n",
       "0                  NaN  \n",
       "1                  NaN  \n",
       "2                  NaN  \n",
       "3                  NaN  \n",
       "4                  NaN  \n",
       "...                ...  \n",
       "21668              NaN  \n",
       "21669              NaN  \n",
       "21670              NaN  \n",
       "21671              NaN  \n",
       "21672              NaN  \n",
       "\n",
       "[21673 rows x 7 columns]"
      ]
     },
     "execution_count": 6,
     "metadata": {},
     "output_type": "execute_result"
    }
   ],
   "source": [
    "df1['Year'] = np.int64(df1['Year'])                      # convert year to numpy int64 data type\n",
    "df1"
   ]
  },
  {
   "cell_type": "code",
   "execution_count": 7,
   "metadata": {},
   "outputs": [
    {
     "data": {
      "text/plain": [
       "(21673, 7)"
      ]
     },
     "execution_count": 7,
     "metadata": {},
     "output_type": "execute_result"
    }
   ],
   "source": [
    "df1.shape"
   ]
  },
  {
   "cell_type": "code",
   "execution_count": 8,
   "metadata": {},
   "outputs": [
    {
     "name": "stdout",
     "output_type": "stream",
     "text": [
      "<class 'pandas.core.frame.DataFrame'>\n",
      "RangeIndex: 21673 entries, 0 to 21672\n",
      "Data columns (total 7 columns):\n",
      " #   Column           Non-Null Count  Dtype  \n",
      "---  ------           --------------  -----  \n",
      " 0   Country or Area  21673 non-null  object \n",
      " 1   Currency         21673 non-null  object \n",
      " 2   ISIC Rev 3       21673 non-null  object \n",
      " 3   Year             21673 non-null  int64  \n",
      " 4   Measure          21673 non-null  object \n",
      " 5   Value            21673 non-null  float64\n",
      " 6   Value Footnotes  962 non-null    float64\n",
      "dtypes: float64(2), int64(1), object(4)\n",
      "memory usage: 1.2+ MB\n"
     ]
    }
   ],
   "source": [
    "df1.info()"
   ]
  },
  {
   "cell_type": "code",
   "execution_count": 9,
   "metadata": {},
   "outputs": [
    {
     "data": {
      "text/html": [
       "<div>\n",
       "<style scoped>\n",
       "    .dataframe tbody tr th:only-of-type {\n",
       "        vertical-align: middle;\n",
       "    }\n",
       "\n",
       "    .dataframe tbody tr th {\n",
       "        vertical-align: top;\n",
       "    }\n",
       "\n",
       "    .dataframe thead th {\n",
       "        text-align: right;\n",
       "    }\n",
       "</style>\n",
       "<table border=\"1\" class=\"dataframe\">\n",
       "  <thead>\n",
       "    <tr style=\"text-align: right;\">\n",
       "      <th></th>\n",
       "      <th>Country_or_Area</th>\n",
       "      <th>Currency</th>\n",
       "      <th>ISIC Rev 3</th>\n",
       "      <th>Year</th>\n",
       "      <th>Measure</th>\n",
       "      <th>Value</th>\n",
       "      <th>Value Footnotes</th>\n",
       "    </tr>\n",
       "  </thead>\n",
       "  <tbody>\n",
       "    <tr>\n",
       "      <th>0</th>\n",
       "      <td>Afghanistan</td>\n",
       "      <td>Afghani</td>\n",
       "      <td>154 Other food products</td>\n",
       "      <td>2011</td>\n",
       "      <td>Wages and salaries paid to employees</td>\n",
       "      <td>335228000.0</td>\n",
       "      <td>NaN</td>\n",
       "    </tr>\n",
       "    <tr>\n",
       "      <th>1</th>\n",
       "      <td>Afghanistan</td>\n",
       "      <td>Afghani</td>\n",
       "      <td>154 Other food products</td>\n",
       "      <td>2010</td>\n",
       "      <td>Wages and salaries paid to employees</td>\n",
       "      <td>322938000.0</td>\n",
       "      <td>NaN</td>\n",
       "    </tr>\n",
       "    <tr>\n",
       "      <th>2</th>\n",
       "      <td>Afghanistan</td>\n",
       "      <td>Afghani</td>\n",
       "      <td>154 Other food products</td>\n",
       "      <td>2009</td>\n",
       "      <td>Wages and salaries paid to employees</td>\n",
       "      <td>343440000.0</td>\n",
       "      <td>NaN</td>\n",
       "    </tr>\n",
       "    <tr>\n",
       "      <th>3</th>\n",
       "      <td>Afghanistan</td>\n",
       "      <td>Afghani</td>\n",
       "      <td>154 Other food products</td>\n",
       "      <td>2008</td>\n",
       "      <td>Wages and salaries paid to employees</td>\n",
       "      <td>322376000.0</td>\n",
       "      <td>NaN</td>\n",
       "    </tr>\n",
       "    <tr>\n",
       "      <th>4</th>\n",
       "      <td>Afghanistan</td>\n",
       "      <td>Afghani</td>\n",
       "      <td>154 Other food products</td>\n",
       "      <td>2007</td>\n",
       "      <td>Wages and salaries paid to employees</td>\n",
       "      <td>305280000.0</td>\n",
       "      <td>NaN</td>\n",
       "    </tr>\n",
       "  </tbody>\n",
       "</table>\n",
       "</div>"
      ],
      "text/plain": [
       "  Country_or_Area Currency               ISIC Rev 3  Year  \\\n",
       "0    Afghanistan   Afghani  154 Other food products  2011   \n",
       "1    Afghanistan   Afghani  154 Other food products  2010   \n",
       "2    Afghanistan   Afghani  154 Other food products  2009   \n",
       "3    Afghanistan   Afghani  154 Other food products  2008   \n",
       "4    Afghanistan   Afghani  154 Other food products  2007   \n",
       "\n",
       "                                Measure        Value  Value Footnotes  \n",
       "0  Wages and salaries paid to employees  335228000.0              NaN  \n",
       "1  Wages and salaries paid to employees  322938000.0              NaN  \n",
       "2  Wages and salaries paid to employees  343440000.0              NaN  \n",
       "3  Wages and salaries paid to employees  322376000.0              NaN  \n",
       "4  Wages and salaries paid to employees  305280000.0              NaN  "
      ]
     },
     "execution_count": 9,
     "metadata": {},
     "output_type": "execute_result"
    }
   ],
   "source": [
    "df1.rename(\n",
    "    columns={'Country or Area': 'Country_or_Area'}, inplace=True) \n",
    "\n",
    "df1.head() "
   ]
  },
  {
   "cell_type": "code",
   "execution_count": 10,
   "metadata": {},
   "outputs": [
    {
     "data": {
      "text/html": [
       "<div>\n",
       "<style scoped>\n",
       "    .dataframe tbody tr th:only-of-type {\n",
       "        vertical-align: middle;\n",
       "    }\n",
       "\n",
       "    .dataframe tbody tr th {\n",
       "        vertical-align: top;\n",
       "    }\n",
       "\n",
       "    .dataframe thead th {\n",
       "        text-align: right;\n",
       "    }\n",
       "</style>\n",
       "<table border=\"1\" class=\"dataframe\">\n",
       "  <thead>\n",
       "    <tr style=\"text-align: right;\">\n",
       "      <th></th>\n",
       "      <th>Country_or_Area</th>\n",
       "      <th>Currency</th>\n",
       "      <th>Year</th>\n",
       "      <th>Measure</th>\n",
       "      <th>Value</th>\n",
       "    </tr>\n",
       "  </thead>\n",
       "  <tbody>\n",
       "    <tr>\n",
       "      <th>0</th>\n",
       "      <td>Afghanistan</td>\n",
       "      <td>Afghani</td>\n",
       "      <td>2011</td>\n",
       "      <td>Wages and salaries paid to employees</td>\n",
       "      <td>3.352280e+08</td>\n",
       "    </tr>\n",
       "    <tr>\n",
       "      <th>1</th>\n",
       "      <td>Afghanistan</td>\n",
       "      <td>Afghani</td>\n",
       "      <td>2010</td>\n",
       "      <td>Wages and salaries paid to employees</td>\n",
       "      <td>3.229380e+08</td>\n",
       "    </tr>\n",
       "    <tr>\n",
       "      <th>2</th>\n",
       "      <td>Afghanistan</td>\n",
       "      <td>Afghani</td>\n",
       "      <td>2009</td>\n",
       "      <td>Wages and salaries paid to employees</td>\n",
       "      <td>3.434400e+08</td>\n",
       "    </tr>\n",
       "    <tr>\n",
       "      <th>3</th>\n",
       "      <td>Afghanistan</td>\n",
       "      <td>Afghani</td>\n",
       "      <td>2008</td>\n",
       "      <td>Wages and salaries paid to employees</td>\n",
       "      <td>3.223760e+08</td>\n",
       "    </tr>\n",
       "    <tr>\n",
       "      <th>4</th>\n",
       "      <td>Afghanistan</td>\n",
       "      <td>Afghani</td>\n",
       "      <td>2007</td>\n",
       "      <td>Wages and salaries paid to employees</td>\n",
       "      <td>3.052800e+08</td>\n",
       "    </tr>\n",
       "    <tr>\n",
       "      <th>...</th>\n",
       "      <td>...</td>\n",
       "      <td>...</td>\n",
       "      <td>...</td>\n",
       "      <td>...</td>\n",
       "      <td>...</td>\n",
       "    </tr>\n",
       "    <tr>\n",
       "      <th>21668</th>\n",
       "      <td>Yemen</td>\n",
       "      <td>Rials</td>\n",
       "      <td>2009</td>\n",
       "      <td>Wages and salaries paid to employees</td>\n",
       "      <td>4.332000e+06</td>\n",
       "    </tr>\n",
       "    <tr>\n",
       "      <th>21669</th>\n",
       "      <td>Yemen</td>\n",
       "      <td>Rials</td>\n",
       "      <td>2008</td>\n",
       "      <td>Wages and salaries paid to employees</td>\n",
       "      <td>1.444000e+06</td>\n",
       "    </tr>\n",
       "    <tr>\n",
       "      <th>21670</th>\n",
       "      <td>Yemen</td>\n",
       "      <td>Rials</td>\n",
       "      <td>2009</td>\n",
       "      <td>Wages and salaries paid to employees</td>\n",
       "      <td>4.845004e+10</td>\n",
       "    </tr>\n",
       "    <tr>\n",
       "      <th>21671</th>\n",
       "      <td>Yemen</td>\n",
       "      <td>Rials</td>\n",
       "      <td>2008</td>\n",
       "      <td>Wages and salaries paid to employees</td>\n",
       "      <td>3.902640e+10</td>\n",
       "    </tr>\n",
       "    <tr>\n",
       "      <th>21672</th>\n",
       "      <td>Yemen</td>\n",
       "      <td>Rials</td>\n",
       "      <td>2007</td>\n",
       "      <td>Wages and salaries paid to employees</td>\n",
       "      <td>3.034300e+10</td>\n",
       "    </tr>\n",
       "  </tbody>\n",
       "</table>\n",
       "<p>21673 rows × 5 columns</p>\n",
       "</div>"
      ],
      "text/plain": [
       "      Country_or_Area Currency  Year                               Measure  \\\n",
       "0        Afghanistan   Afghani  2011  Wages and salaries paid to employees   \n",
       "1        Afghanistan   Afghani  2010  Wages and salaries paid to employees   \n",
       "2        Afghanistan   Afghani  2009  Wages and salaries paid to employees   \n",
       "3        Afghanistan   Afghani  2008  Wages and salaries paid to employees   \n",
       "4        Afghanistan   Afghani  2007  Wages and salaries paid to employees   \n",
       "...               ...      ...   ...                                   ...   \n",
       "21668          Yemen     Rials  2009  Wages and salaries paid to employees   \n",
       "21669          Yemen     Rials  2008  Wages and salaries paid to employees   \n",
       "21670          Yemen     Rials  2009  Wages and salaries paid to employees   \n",
       "21671          Yemen     Rials  2008  Wages and salaries paid to employees   \n",
       "21672          Yemen     Rials  2007  Wages and salaries paid to employees   \n",
       "\n",
       "              Value  \n",
       "0      3.352280e+08  \n",
       "1      3.229380e+08  \n",
       "2      3.434400e+08  \n",
       "3      3.223760e+08  \n",
       "4      3.052800e+08  \n",
       "...             ...  \n",
       "21668  4.332000e+06  \n",
       "21669  1.444000e+06  \n",
       "21670  4.845004e+10  \n",
       "21671  3.902640e+10  \n",
       "21672  3.034300e+10  \n",
       "\n",
       "[21673 rows x 5 columns]"
      ]
     },
     "execution_count": 10,
     "metadata": {},
     "output_type": "execute_result"
    }
   ],
   "source": [
    "df2 = df1[['Country_or_Area', 'Currency', 'Year', 'Measure', 'Value']]\n",
    "df2"
   ]
  },
  {
   "cell_type": "code",
   "execution_count": 11,
   "metadata": {},
   "outputs": [
    {
     "data": {
      "text/html": [
       "<div>\n",
       "<style scoped>\n",
       "    .dataframe tbody tr th:only-of-type {\n",
       "        vertical-align: middle;\n",
       "    }\n",
       "\n",
       "    .dataframe tbody tr th {\n",
       "        vertical-align: top;\n",
       "    }\n",
       "\n",
       "    .dataframe thead th {\n",
       "        text-align: right;\n",
       "    }\n",
       "</style>\n",
       "<table border=\"1\" class=\"dataframe\">\n",
       "  <thead>\n",
       "    <tr style=\"text-align: right;\">\n",
       "      <th></th>\n",
       "      <th>Country_or_Area</th>\n",
       "      <th>Currency</th>\n",
       "      <th>Measure</th>\n",
       "    </tr>\n",
       "  </thead>\n",
       "  <tbody>\n",
       "    <tr>\n",
       "      <th>count</th>\n",
       "      <td>21673</td>\n",
       "      <td>21673</td>\n",
       "      <td>21673</td>\n",
       "    </tr>\n",
       "    <tr>\n",
       "      <th>unique</th>\n",
       "      <td>92</td>\n",
       "      <td>49</td>\n",
       "      <td>1</td>\n",
       "    </tr>\n",
       "    <tr>\n",
       "      <th>top</th>\n",
       "      <td>Eritrea</td>\n",
       "      <td>Euros</td>\n",
       "      <td>Wages and salaries paid to employees</td>\n",
       "    </tr>\n",
       "    <tr>\n",
       "      <th>freq</th>\n",
       "      <td>759</td>\n",
       "      <td>3915</td>\n",
       "      <td>21673</td>\n",
       "    </tr>\n",
       "  </tbody>\n",
       "</table>\n",
       "</div>"
      ],
      "text/plain": [
       "       Country_or_Area Currency                               Measure\n",
       "count            21673    21673                                 21673\n",
       "unique              92       49                                     1\n",
       "top           Eritrea     Euros  Wages and salaries paid to employees\n",
       "freq               759     3915                                 21673"
      ]
     },
     "execution_count": 11,
     "metadata": {},
     "output_type": "execute_result"
    }
   ],
   "source": [
    "df2.describe(include='object')"
   ]
  },
  {
   "cell_type": "code",
   "execution_count": 12,
   "metadata": {},
   "outputs": [],
   "source": [
    "df2[['Country_or_Area', 'Currency']] = df2[['Country_or_Area', 'Currency']].applymap(lambda x: str.strip(x))            # strip white spaces"
   ]
  },
  {
   "cell_type": "code",
   "execution_count": 13,
   "metadata": {},
   "outputs": [
    {
     "data": {
      "text/plain": [
       "Eritrea                            759\n",
       "Ukraine                            748\n",
       "The f. Yugosl. Rep of Macedonia    715\n",
       "Russian Federation                 707\n",
       "Jordan                             608\n",
       "                                  ... \n",
       "Tunisia                             17\n",
       "Curaçao                              4\n",
       "Netherlands Antilles                 2\n",
       "Armenia                              2\n",
       "Cook Islands                         1\n",
       "Name: Country_or_Area, Length: 92, dtype: int64"
      ]
     },
     "execution_count": 13,
     "metadata": {},
     "output_type": "execute_result"
    }
   ],
   "source": [
    "df2['Country_or_Area'].value_counts()"
   ]
  },
  {
   "cell_type": "code",
   "execution_count": 14,
   "metadata": {},
   "outputs": [
    {
     "data": {
      "text/plain": [
       "Euros         3915\n",
       "Rials         1167\n",
       "US Dollars    1014\n",
       "Pesos          996\n",
       "Dinars         884\n",
       "Dollars        864\n",
       "Roubles        782\n",
       "Nakfa          759\n",
       "Hryvnias       748\n",
       "Denars         715\n",
       "Name: Currency, dtype: int64"
      ]
     },
     "execution_count": 14,
     "metadata": {},
     "output_type": "execute_result"
    }
   ],
   "source": [
    "df2['Currency'].value_counts().head(10)"
   ]
  },
  {
   "cell_type": "code",
   "execution_count": 15,
   "metadata": {},
   "outputs": [
    {
     "data": {
      "text/plain": [
       "2007    8121\n",
       "2008    6836\n",
       "2009    3167\n",
       "2010    2481\n",
       "2011    1068\n",
       "Name: Year, dtype: int64"
      ]
     },
     "execution_count": 15,
     "metadata": {},
     "output_type": "execute_result"
    }
   ],
   "source": [
    "df2['Year'].value_counts()"
   ]
  },
  {
   "cell_type": "code",
   "execution_count": 16,
   "metadata": {},
   "outputs": [
    {
     "data": {
      "text/plain": [
       "count    2.167300e+04\n",
       "mean     1.448376e+11\n",
       "std      2.430735e+12\n",
       "min      0.000000e+00\n",
       "25%      8.000000e+06\n",
       "50%      1.810000e+08\n",
       "75%      2.061000e+09\n",
       "max      1.647257e+14\n",
       "Name: Value, dtype: float64"
      ]
     },
     "execution_count": 16,
     "metadata": {},
     "output_type": "execute_result"
    }
   ],
   "source": [
    "df2['Value'].describe()"
   ]
  },
  {
   "cell_type": "code",
   "execution_count": 17,
   "metadata": {},
   "outputs": [
    {
     "data": {
      "text/plain": [
       "<AxesSubplot:xlabel='Value', ylabel='Density'>"
      ]
     },
     "execution_count": 17,
     "metadata": {},
     "output_type": "execute_result"
    },
    {
     "data": {
      "image/png": "[encoded data removed]",
      "text/plain": [
       "<Figure size 864x648 with 1 Axes>"
      ]
     },
     "metadata": {},
     "output_type": "display_data"
    }
   ],
   "source": [
    "sns.kdeplot(data=df2, x='Value', hue='Measure')"
   ]
  },
  {
   "cell_type": "markdown",
   "metadata": {},
   "source": [
    "# Missing Values Exploration"
   ]
  },
  {
   "cell_type": "code",
   "execution_count": 18,
   "metadata": {},
   "outputs": [
    {
     "data": {
      "text/plain": [
       "Country_or_Area    0\n",
       "Currency           0\n",
       "Year               0\n",
       "Measure            0\n",
       "Value              0\n",
       "dtype: int64"
      ]
     },
     "execution_count": 18,
     "metadata": {},
     "output_type": "execute_result"
    }
   ],
   "source": [
    "df2.isna().sum()"
   ]
  },
  {
   "cell_type": "markdown",
   "metadata": {},
   "source": [
    "# Grouping and Aggregation"
   ]
  },
  {
   "cell_type": "code",
   "execution_count": 19,
   "metadata": {},
   "outputs": [
    {
     "data": {
      "text/html": [
       "<div>\n",
       "<style scoped>\n",
       "    .dataframe tbody tr th:only-of-type {\n",
       "        vertical-align: middle;\n",
       "    }\n",
       "\n",
       "    .dataframe tbody tr th {\n",
       "        vertical-align: top;\n",
       "    }\n",
       "\n",
       "    .dataframe thead th {\n",
       "        text-align: right;\n",
       "    }\n",
       "</style>\n",
       "<table border=\"1\" class=\"dataframe\">\n",
       "  <thead>\n",
       "    <tr style=\"text-align: right;\">\n",
       "      <th></th>\n",
       "      <th>Country_or_Area</th>\n",
       "      <th>Currency</th>\n",
       "      <th>Year</th>\n",
       "      <th>Measure</th>\n",
       "      <th>Value</th>\n",
       "    </tr>\n",
       "  </thead>\n",
       "  <tbody>\n",
       "    <tr>\n",
       "      <th>0</th>\n",
       "      <td>Afghanistan</td>\n",
       "      <td>Afghani</td>\n",
       "      <td>2011</td>\n",
       "      <td>Wages and salaries paid to employees</td>\n",
       "      <td>3.352280e+08</td>\n",
       "    </tr>\n",
       "    <tr>\n",
       "      <th>1</th>\n",
       "      <td>Afghanistan</td>\n",
       "      <td>Afghani</td>\n",
       "      <td>2010</td>\n",
       "      <td>Wages and salaries paid to employees</td>\n",
       "      <td>3.229380e+08</td>\n",
       "    </tr>\n",
       "    <tr>\n",
       "      <th>2</th>\n",
       "      <td>Afghanistan</td>\n",
       "      <td>Afghani</td>\n",
       "      <td>2009</td>\n",
       "      <td>Wages and salaries paid to employees</td>\n",
       "      <td>3.434400e+08</td>\n",
       "    </tr>\n",
       "    <tr>\n",
       "      <th>3</th>\n",
       "      <td>Afghanistan</td>\n",
       "      <td>Afghani</td>\n",
       "      <td>2008</td>\n",
       "      <td>Wages and salaries paid to employees</td>\n",
       "      <td>3.223760e+08</td>\n",
       "    </tr>\n",
       "    <tr>\n",
       "      <th>4</th>\n",
       "      <td>Afghanistan</td>\n",
       "      <td>Afghani</td>\n",
       "      <td>2007</td>\n",
       "      <td>Wages and salaries paid to employees</td>\n",
       "      <td>3.052800e+08</td>\n",
       "    </tr>\n",
       "    <tr>\n",
       "      <th>...</th>\n",
       "      <td>...</td>\n",
       "      <td>...</td>\n",
       "      <td>...</td>\n",
       "      <td>...</td>\n",
       "      <td>...</td>\n",
       "    </tr>\n",
       "    <tr>\n",
       "      <th>21507</th>\n",
       "      <td>Yemen</td>\n",
       "      <td>Rials</td>\n",
       "      <td>2009</td>\n",
       "      <td>Wages and salaries paid to employees</td>\n",
       "      <td>2.480031e+09</td>\n",
       "    </tr>\n",
       "    <tr>\n",
       "      <th>21508</th>\n",
       "      <td>Yemen</td>\n",
       "      <td>Rials</td>\n",
       "      <td>2008</td>\n",
       "      <td>Wages and salaries paid to employees</td>\n",
       "      <td>1.640823e+09</td>\n",
       "    </tr>\n",
       "    <tr>\n",
       "      <th>21509</th>\n",
       "      <td>Yemen</td>\n",
       "      <td>Rials</td>\n",
       "      <td>2009</td>\n",
       "      <td>Wages and salaries paid to employees</td>\n",
       "      <td>1.975431e+09</td>\n",
       "    </tr>\n",
       "    <tr>\n",
       "      <th>21510</th>\n",
       "      <td>Yemen</td>\n",
       "      <td>Rials</td>\n",
       "      <td>2008</td>\n",
       "      <td>Wages and salaries paid to employees</td>\n",
       "      <td>2.460247e+09</td>\n",
       "    </tr>\n",
       "    <tr>\n",
       "      <th>21511</th>\n",
       "      <td>Yemen</td>\n",
       "      <td>Rials</td>\n",
       "      <td>2009</td>\n",
       "      <td>Wages and salaries paid to employees</td>\n",
       "      <td>2.546891e+09</td>\n",
       "    </tr>\n",
       "  </tbody>\n",
       "</table>\n",
       "<p>889 rows × 5 columns</p>\n",
       "</div>"
      ],
      "text/plain": [
       "      Country_or_Area Currency  Year                               Measure  \\\n",
       "0         Afghanistan  Afghani  2011  Wages and salaries paid to employees   \n",
       "1         Afghanistan  Afghani  2010  Wages and salaries paid to employees   \n",
       "2         Afghanistan  Afghani  2009  Wages and salaries paid to employees   \n",
       "3         Afghanistan  Afghani  2008  Wages and salaries paid to employees   \n",
       "4         Afghanistan  Afghani  2007  Wages and salaries paid to employees   \n",
       "...               ...      ...   ...                                   ...   \n",
       "21507           Yemen    Rials  2009  Wages and salaries paid to employees   \n",
       "21508           Yemen    Rials  2008  Wages and salaries paid to employees   \n",
       "21509           Yemen    Rials  2009  Wages and salaries paid to employees   \n",
       "21510           Yemen    Rials  2008  Wages and salaries paid to employees   \n",
       "21511           Yemen    Rials  2009  Wages and salaries paid to employees   \n",
       "\n",
       "              Value  \n",
       "0      3.352280e+08  \n",
       "1      3.229380e+08  \n",
       "2      3.434400e+08  \n",
       "3      3.223760e+08  \n",
       "4      3.052800e+08  \n",
       "...             ...  \n",
       "21507  2.480031e+09  \n",
       "21508  1.640823e+09  \n",
       "21509  1.975431e+09  \n",
       "21510  2.460247e+09  \n",
       "21511  2.546891e+09  \n",
       "\n",
       "[889 rows x 5 columns]"
      ]
     },
     "execution_count": 19,
     "metadata": {},
     "output_type": "execute_result"
    }
   ],
   "source": [
    "country_area_curr_grpd = df2.groupby(['Country_or_Area', 'Currency'])           # group by country/area and currency\n",
    "country_area_curr_grpd.head(10)"
   ]
  },
  {
   "cell_type": "markdown",
   "metadata": {},
   "source": [
    "# Data Visualization"
   ]
  },
  {
   "cell_type": "code",
   "execution_count": 20,
   "metadata": {},
   "outputs": [],
   "source": [
    "from matplotlib.ticker import FuncFormatter\n",
    "\n",
    "# y-axis formatter functions\n",
    "def trillion(x, pos):\n",
    "    return '%1.1fT' % (x * 1e-12)\n",
    "\n",
    "format_trill = FuncFormatter(trillion)\n",
    "\n",
    "\n",
    "def billion(x, pos):\n",
    "    return '%1.1fB' % (x * 1e-9)\n",
    "\n",
    "format_bill = FuncFormatter(billion)\n",
    "\n",
    "\n",
    "def million(x, pos):\n",
    "    return '%1.1fM' % (x * 1e-6)\n",
    "\n",
    "format_mill = FuncFormatter(million)\n",
    "\n",
    "\n",
    "def thousand(x, pos):\n",
    "    return '%1.1fK' % (x * 1e-3)\n",
    "\n",
    "format_tsd = FuncFormatter(thousand)\n",
    "\n",
    "\n",
    "# bar plot helper function\n",
    "def plot_bar(data, x, y, ci=None, hue=None, title=None, xlabel=None, ylabel=None, formatter=None):\n",
    "    # create figure and axis\n",
    "    fig, ax = plt.subplots()\n",
    "    fig.autofmt_xdate()\n",
    "\n",
    "    # create line chart\n",
    "    sns.barplot(\n",
    "        data=data, \n",
    "        x=x, y=y, ci=ci,\n",
    "        hue=hue, \n",
    "        ax=ax)\n",
    "\n",
    "    # label plot axes\n",
    "    ax.set(title=title, xlabel=xlabel, ylabel=ylabel)\n",
    "\n",
    "    # set y-axis formatter\n",
    "    ax.yaxis.set_major_formatter(formatter=formatter)\n",
    "\n",
    "    # despine plot axes\n",
    "    sns.despine(bottom=True, left=True)\n",
    "\n",
    "    return plot_bar"
   ]
  },
  {
   "cell_type": "code",
   "execution_count": 21,
   "metadata": {},
   "outputs": [
    {
     "data": {
      "text/plain": [
       "<function __main__.plot_bar(data, x, y, ci=None, hue=None, title=None, xlabel=None, ylabel=None, formatter=None)>"
      ]
     },
     "execution_count": 21,
     "metadata": {},
     "output_type": "execute_result"
    },
    {
     "data": {
      "image/png": "[encoded data removed]",
      "text/plain": [
       "<Figure size 864x648 with 1 Axes>"
      ]
     },
     "metadata": {},
     "output_type": "display_data"
    }
   ],
   "source": [
    "plot_bar(\n",
    "    data=country_area_curr_grpd.get_group(('Germany', 'Euros')),\n",
    "    x='Year', y='Value', ci=False,\n",
    "    hue='Currency',\n",
    "    title='Germany', xlabel='Year', ylabel='Wages and salaries paid to employees',\n",
    "    formatter=format_bill\n",
    ")"
   ]
  },
  {
   "cell_type": "code",
   "execution_count": 22,
   "metadata": {},
   "outputs": [
    {
     "data": {
      "text/plain": [
       "<function __main__.plot_bar(data, x, y, ci=None, hue=None, title=None, xlabel=None, ylabel=None, formatter=None)>"
      ]
     },
     "execution_count": 22,
     "metadata": {},
     "output_type": "execute_result"
    },
    {
     "data": {
      "image/png": "[encoded data removed]",
      "text/plain": [
       "<Figure size 864x648 with 1 Axes>"
      ]
     },
     "metadata": {},
     "output_type": "display_data"
    }
   ],
   "source": [
    "plot_bar(\n",
    "    data=country_area_curr_grpd.get_group(('Yemen', 'Rials')),\n",
    "    x='Year', y='Value', ci=False,\n",
    "    hue='Currency',\n",
    "    title='Yemen', xlabel='Year', ylabel='Wages and salaries paid to employees',\n",
    "    formatter=format_bill\n",
    ")"
   ]
  },
  {
   "cell_type": "code",
   "execution_count": 23,
   "metadata": {},
   "outputs": [
    {
     "data": {
      "text/plain": [
       "<function __main__.plot_bar(data, x, y, ci=None, hue=None, title=None, xlabel=None, ylabel=None, formatter=None)>"
      ]
     },
     "execution_count": 23,
     "metadata": {},
     "output_type": "execute_result"
    },
    {
     "data": {
      "image/png": "[encoded data removed]",
      "text/plain": [
       "<Figure size 864x648 with 1 Axes>"
      ]
     },
     "metadata": {},
     "output_type": "display_data"
    }
   ],
   "source": [
    "plot_bar(\n",
    "    data=country_area_curr_grpd.get_group(('Afghanistan', 'Afghani')),\n",
    "    x='Year', y='Value', ci=False,\n",
    "    hue='Currency',\n",
    "    title='Afghanistan', xlabel='Year', ylabel='Wages and salaries paid to employees',\n",
    "    formatter=format_mill\n",
    ")"
   ]
  },
  {
   "cell_type": "code",
   "execution_count": 24,
   "metadata": {},
   "outputs": [
    {
     "data": {
      "text/plain": [
       "<function __main__.plot_bar(data, x, y, ci=None, hue=None, title=None, xlabel=None, ylabel=None, formatter=None)>"
      ]
     },
     "execution_count": 24,
     "metadata": {},
     "output_type": "execute_result"
    },
    {
     "data": {
      "image/png": "[encoded data removed]",
      "text/plain": [
       "<Figure size 864x648 with 1 Axes>"
      ]
     },
     "metadata": {},
     "output_type": "display_data"
    }
   ],
   "source": [
    "plot_bar(\n",
    "    data=country_area_curr_grpd.get_group(('United States of America', 'US Dollars')),\n",
    "    x='Year', y='Value', ci=False,\n",
    "    hue='Currency',\n",
    "    title='USA', xlabel='Year', ylabel='Wages and salaries paid to employees',\n",
    "    formatter=format_bill\n",
    ")"
   ]
  },
  {
   "cell_type": "code",
   "execution_count": 25,
   "metadata": {},
   "outputs": [
    {
     "data": {
      "text/plain": [
       "<function __main__.plot_bar(data, x, y, ci=None, hue=None, title=None, xlabel=None, ylabel=None, formatter=None)>"
      ]
     },
     "execution_count": 25,
     "metadata": {},
     "output_type": "execute_result"
    },
    {
     "data": {
      "image/png": "[encoded data removed]",
      "text/plain": [
       "<Figure size 864x648 with 1 Axes>"
      ]
     },
     "metadata": {},
     "output_type": "display_data"
    }
   ],
   "source": [
    "plot_bar(\n",
    "    data=country_area_curr_grpd.get_group(('United Kingdom', 'Pounds')),\n",
    "    x='Year', y='Value', ci=False,\n",
    "    hue='Currency',\n",
    "    title='United Kingdom', xlabel='Year', ylabel='Wages and salaries paid to employees',\n",
    "    formatter=format_bill\n",
    ")"
   ]
  }
 ],
 "metadata": {
  "interpreter": {
   "hash": "3fe9daace87ea8cb12e037f7452ad9bcd52f59aa894a611255d1461de3a9065e"
  },
  "kernelspec": {
   "display_name": "Python 3.9.7 64-bit ('DS': conda)",
   "language": "python",
   "name": "python3"
  },
  "language_info": {
   "codemirror_mode": {
    "name": "ipython",
    "version": 3
   },
   "file_extension": ".py",
   "mimetype": "text/x-python",
   "name": "python",
   "nbconvert_exporter": "python",
   "pygments_lexer": "ipython3",
   "version": "3.9.12"
  },
  "orig_nbformat": 4
 },
 "nbformat": 4,
 "nbformat_minor": 2
}
