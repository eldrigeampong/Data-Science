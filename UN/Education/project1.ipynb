{
 "cells": [
  {
   "cell_type": "markdown",
   "metadata": {},
   "source": [
    "# Education at the primary, secondary and tertiary levels"
   ]
  },
  {
   "cell_type": "markdown",
   "metadata": {},
   "source": [
    "# Import Libraries"
   ]
  },
  {
   "cell_type": "code",
   "execution_count": 1,
   "metadata": {},
   "outputs": [],
   "source": [
    "import numpy as np\n",
    "import pandas as pd\n",
    "import matplotlib.pyplot as plt\n",
    "import seaborn as sns\n",
    "import os\n",
    "import warnings"
   ]
  },
  {
   "cell_type": "markdown",
   "metadata": {},
   "source": [
    "# Options and Settings"
   ]
  },
  {
   "cell_type": "code",
   "execution_count": 2,
   "metadata": {},
   "outputs": [],
   "source": [
    "%matplotlib inline\n",
    "plt.style.use('ggplot')\n",
    "plt.rcParams['figure.autolayout'] = True\n",
    "plt.rcParams['figure.figsize'] = [12, 9]\n",
    "plt.rcParams['font.size'] = 12\n",
    "path = os.getcwd()                                         # get current working directory\n",
    "warnings.simplefilter('ignore')"
   ]
  },
  {
   "cell_type": "markdown",
   "metadata": {},
   "source": [
    "# Import Data"
   ]
  },
  {
   "cell_type": "code",
   "execution_count": 3,
   "metadata": {},
   "outputs": [],
   "source": [
    "filepath = os.path.join('datasets', 'Education.csv')\n",
    "df = pd.read_csv(filepath, encoding='latin-1')"
   ]
  },
  {
   "cell_type": "markdown",
   "metadata": {},
   "source": [
    "# Head and Tail"
   ]
  },
  {
   "cell_type": "code",
   "execution_count": 4,
   "metadata": {},
   "outputs": [
    {
     "data": {
      "text/html": [
       "<div>\n",
       "<style scoped>\n",
       "    .dataframe tbody tr th:only-of-type {\n",
       "        vertical-align: middle;\n",
       "    }\n",
       "\n",
       "    .dataframe tbody tr th {\n",
       "        vertical-align: top;\n",
       "    }\n",
       "\n",
       "    .dataframe thead th {\n",
       "        text-align: right;\n",
       "    }\n",
       "</style>\n",
       "<table border=\"1\" class=\"dataframe\">\n",
       "  <thead>\n",
       "    <tr style=\"text-align: right;\">\n",
       "      <th></th>\n",
       "      <th>Region/Country/Area</th>\n",
       "      <th>Unnamed: 1</th>\n",
       "      <th>Year</th>\n",
       "      <th>Series</th>\n",
       "      <th>Value</th>\n",
       "      <th>Footnotes</th>\n",
       "      <th>Source</th>\n",
       "    </tr>\n",
       "  </thead>\n",
       "  <tbody>\n",
       "    <tr>\n",
       "      <th>0</th>\n",
       "      <td>1</td>\n",
       "      <td>Total, all countries or areas</td>\n",
       "      <td>2005</td>\n",
       "      <td>Students enrolled in primary education (thousa...</td>\n",
       "      <td>679013.0</td>\n",
       "      <td>NaN</td>\n",
       "      <td>United Nations Educational, Scientific and Cul...</td>\n",
       "    </tr>\n",
       "    <tr>\n",
       "      <th>1</th>\n",
       "      <td>1</td>\n",
       "      <td>Total, all countries or areas</td>\n",
       "      <td>2005</td>\n",
       "      <td>Gross enrollment ratio - Primary (male)</td>\n",
       "      <td>104.5</td>\n",
       "      <td>NaN</td>\n",
       "      <td>United Nations Educational, Scientific and Cul...</td>\n",
       "    </tr>\n",
       "    <tr>\n",
       "      <th>2</th>\n",
       "      <td>1</td>\n",
       "      <td>Total, all countries or areas</td>\n",
       "      <td>2005</td>\n",
       "      <td>Gross enrollment ratio - Primary (female)</td>\n",
       "      <td>99.7</td>\n",
       "      <td>NaN</td>\n",
       "      <td>United Nations Educational, Scientific and Cul...</td>\n",
       "    </tr>\n",
       "    <tr>\n",
       "      <th>3</th>\n",
       "      <td>1</td>\n",
       "      <td>Total, all countries or areas</td>\n",
       "      <td>2005</td>\n",
       "      <td>Students enrolled in secondary education (thou...</td>\n",
       "      <td>509274.0</td>\n",
       "      <td>NaN</td>\n",
       "      <td>United Nations Educational, Scientific and Cul...</td>\n",
       "    </tr>\n",
       "    <tr>\n",
       "      <th>4</th>\n",
       "      <td>1</td>\n",
       "      <td>Total, all countries or areas</td>\n",
       "      <td>2005</td>\n",
       "      <td>Gross enrollment ratio - Secondary (male)</td>\n",
       "      <td>65.8</td>\n",
       "      <td>NaN</td>\n",
       "      <td>United Nations Educational, Scientific and Cul...</td>\n",
       "    </tr>\n",
       "    <tr>\n",
       "      <th>...</th>\n",
       "      <td>...</td>\n",
       "      <td>...</td>\n",
       "      <td>...</td>\n",
       "      <td>...</td>\n",
       "      <td>...</td>\n",
       "      <td>...</td>\n",
       "      <td>...</td>\n",
       "    </tr>\n",
       "    <tr>\n",
       "      <th>6935</th>\n",
       "      <td>716</td>\n",
       "      <td>Zimbabwe</td>\n",
       "      <td>2013</td>\n",
       "      <td>Gross enrollment ratio - Secondary (male)</td>\n",
       "      <td>53.5</td>\n",
       "      <td>NaN</td>\n",
       "      <td>United Nations Educational, Scientific and Cul...</td>\n",
       "    </tr>\n",
       "    <tr>\n",
       "      <th>6936</th>\n",
       "      <td>716</td>\n",
       "      <td>Zimbabwe</td>\n",
       "      <td>2013</td>\n",
       "      <td>Gross enrollment ratio - Secondary (female)</td>\n",
       "      <td>51.3</td>\n",
       "      <td>NaN</td>\n",
       "      <td>United Nations Educational, Scientific and Cul...</td>\n",
       "    </tr>\n",
       "    <tr>\n",
       "      <th>6937</th>\n",
       "      <td>716</td>\n",
       "      <td>Zimbabwe</td>\n",
       "      <td>2013</td>\n",
       "      <td>Students enrolled in upper secondary education...</td>\n",
       "      <td>491.0</td>\n",
       "      <td>NaN</td>\n",
       "      <td>United Nations Educational, Scientific and Cul...</td>\n",
       "    </tr>\n",
       "    <tr>\n",
       "      <th>6938</th>\n",
       "      <td>716</td>\n",
       "      <td>Zimbabwe</td>\n",
       "      <td>2013</td>\n",
       "      <td>Gross enrollment ratio - Upper secondary level...</td>\n",
       "      <td>43.2</td>\n",
       "      <td>NaN</td>\n",
       "      <td>United Nations Educational, Scientific and Cul...</td>\n",
       "    </tr>\n",
       "    <tr>\n",
       "      <th>6939</th>\n",
       "      <td>716</td>\n",
       "      <td>Zimbabwe</td>\n",
       "      <td>2013</td>\n",
       "      <td>Gross enrollment ratio - Upper secondary level...</td>\n",
       "      <td>38.9</td>\n",
       "      <td>NaN</td>\n",
       "      <td>United Nations Educational, Scientific and Cul...</td>\n",
       "    </tr>\n",
       "  </tbody>\n",
       "</table>\n",
       "<p>6940 rows × 7 columns</p>\n",
       "</div>"
      ],
      "text/plain": [
       "      Region/Country/Area                     Unnamed: 1  Year  \\\n",
       "0                       1  Total, all countries or areas  2005   \n",
       "1                       1  Total, all countries or areas  2005   \n",
       "2                       1  Total, all countries or areas  2005   \n",
       "3                       1  Total, all countries or areas  2005   \n",
       "4                       1  Total, all countries or areas  2005   \n",
       "...                   ...                            ...   ...   \n",
       "6935                  716                       Zimbabwe  2013   \n",
       "6936                  716                       Zimbabwe  2013   \n",
       "6937                  716                       Zimbabwe  2013   \n",
       "6938                  716                       Zimbabwe  2013   \n",
       "6939                  716                       Zimbabwe  2013   \n",
       "\n",
       "                                                 Series     Value Footnotes  \\\n",
       "0     Students enrolled in primary education (thousa...  679013.0       NaN   \n",
       "1               Gross enrollment ratio - Primary (male)     104.5       NaN   \n",
       "2             Gross enrollment ratio - Primary (female)      99.7       NaN   \n",
       "3     Students enrolled in secondary education (thou...  509274.0       NaN   \n",
       "4             Gross enrollment ratio - Secondary (male)      65.8       NaN   \n",
       "...                                                 ...       ...       ...   \n",
       "6935          Gross enrollment ratio - Secondary (male)      53.5       NaN   \n",
       "6936        Gross enrollment ratio - Secondary (female)      51.3       NaN   \n",
       "6937  Students enrolled in upper secondary education...     491.0       NaN   \n",
       "6938  Gross enrollment ratio - Upper secondary level...      43.2       NaN   \n",
       "6939  Gross enrollment ratio - Upper secondary level...      38.9       NaN   \n",
       "\n",
       "                                                 Source  \n",
       "0     United Nations Educational, Scientific and Cul...  \n",
       "1     United Nations Educational, Scientific and Cul...  \n",
       "2     United Nations Educational, Scientific and Cul...  \n",
       "3     United Nations Educational, Scientific and Cul...  \n",
       "4     United Nations Educational, Scientific and Cul...  \n",
       "...                                                 ...  \n",
       "6935  United Nations Educational, Scientific and Cul...  \n",
       "6936  United Nations Educational, Scientific and Cul...  \n",
       "6937  United Nations Educational, Scientific and Cul...  \n",
       "6938  United Nations Educational, Scientific and Cul...  \n",
       "6939  United Nations Educational, Scientific and Cul...  \n",
       "\n",
       "[6940 rows x 7 columns]"
      ]
     },
     "execution_count": 4,
     "metadata": {},
     "output_type": "execute_result"
    }
   ],
   "source": [
    "df"
   ]
  },
  {
   "cell_type": "code",
   "execution_count": 5,
   "metadata": {},
   "outputs": [
    {
     "data": {
      "text/plain": [
       "(6940, 7)"
      ]
     },
     "execution_count": 5,
     "metadata": {},
     "output_type": "execute_result"
    }
   ],
   "source": [
    "df.shape"
   ]
  },
  {
   "cell_type": "code",
   "execution_count": 6,
   "metadata": {},
   "outputs": [
    {
     "name": "stdout",
     "output_type": "stream",
     "text": [
      "<class 'pandas.core.frame.DataFrame'>\n",
      "RangeIndex: 6940 entries, 0 to 6939\n",
      "Data columns (total 7 columns):\n",
      " #   Column               Non-Null Count  Dtype  \n",
      "---  ------               --------------  -----  \n",
      " 0   Region/Country/Area  6940 non-null   int64  \n",
      " 1   Unnamed: 1           6940 non-null   object \n",
      " 2   Year                 6940 non-null   int64  \n",
      " 3   Series               6940 non-null   object \n",
      " 4   Value                6940 non-null   float64\n",
      " 5   Footnotes            631 non-null    object \n",
      " 6   Source               6940 non-null   object \n",
      "dtypes: float64(1), int64(2), object(4)\n",
      "memory usage: 379.7+ KB\n"
     ]
    }
   ],
   "source": [
    "df.info()"
   ]
  },
  {
   "cell_type": "code",
   "execution_count": 7,
   "metadata": {},
   "outputs": [
    {
     "data": {
      "text/html": [
       "<div>\n",
       "<style scoped>\n",
       "    .dataframe tbody tr th:only-of-type {\n",
       "        vertical-align: middle;\n",
       "    }\n",
       "\n",
       "    .dataframe tbody tr th {\n",
       "        vertical-align: top;\n",
       "    }\n",
       "\n",
       "    .dataframe thead th {\n",
       "        text-align: right;\n",
       "    }\n",
       "</style>\n",
       "<table border=\"1\" class=\"dataframe\">\n",
       "  <thead>\n",
       "    <tr style=\"text-align: right;\">\n",
       "      <th></th>\n",
       "      <th>Code</th>\n",
       "      <th>Region/Country/Area</th>\n",
       "      <th>Year</th>\n",
       "      <th>Series</th>\n",
       "      <th>Value</th>\n",
       "      <th>Footnotes</th>\n",
       "      <th>Source</th>\n",
       "    </tr>\n",
       "  </thead>\n",
       "  <tbody>\n",
       "    <tr>\n",
       "      <th>0</th>\n",
       "      <td>1</td>\n",
       "      <td>Total, all countries or areas</td>\n",
       "      <td>2005</td>\n",
       "      <td>Students enrolled in primary education (thousa...</td>\n",
       "      <td>679013.0</td>\n",
       "      <td>NaN</td>\n",
       "      <td>United Nations Educational, Scientific and Cul...</td>\n",
       "    </tr>\n",
       "    <tr>\n",
       "      <th>1</th>\n",
       "      <td>1</td>\n",
       "      <td>Total, all countries or areas</td>\n",
       "      <td>2005</td>\n",
       "      <td>Gross enrollment ratio - Primary (male)</td>\n",
       "      <td>104.5</td>\n",
       "      <td>NaN</td>\n",
       "      <td>United Nations Educational, Scientific and Cul...</td>\n",
       "    </tr>\n",
       "    <tr>\n",
       "      <th>2</th>\n",
       "      <td>1</td>\n",
       "      <td>Total, all countries or areas</td>\n",
       "      <td>2005</td>\n",
       "      <td>Gross enrollment ratio - Primary (female)</td>\n",
       "      <td>99.7</td>\n",
       "      <td>NaN</td>\n",
       "      <td>United Nations Educational, Scientific and Cul...</td>\n",
       "    </tr>\n",
       "    <tr>\n",
       "      <th>3</th>\n",
       "      <td>1</td>\n",
       "      <td>Total, all countries or areas</td>\n",
       "      <td>2005</td>\n",
       "      <td>Students enrolled in secondary education (thou...</td>\n",
       "      <td>509274.0</td>\n",
       "      <td>NaN</td>\n",
       "      <td>United Nations Educational, Scientific and Cul...</td>\n",
       "    </tr>\n",
       "    <tr>\n",
       "      <th>4</th>\n",
       "      <td>1</td>\n",
       "      <td>Total, all countries or areas</td>\n",
       "      <td>2005</td>\n",
       "      <td>Gross enrollment ratio - Secondary (male)</td>\n",
       "      <td>65.8</td>\n",
       "      <td>NaN</td>\n",
       "      <td>United Nations Educational, Scientific and Cul...</td>\n",
       "    </tr>\n",
       "    <tr>\n",
       "      <th>...</th>\n",
       "      <td>...</td>\n",
       "      <td>...</td>\n",
       "      <td>...</td>\n",
       "      <td>...</td>\n",
       "      <td>...</td>\n",
       "      <td>...</td>\n",
       "      <td>...</td>\n",
       "    </tr>\n",
       "    <tr>\n",
       "      <th>6935</th>\n",
       "      <td>716</td>\n",
       "      <td>Zimbabwe</td>\n",
       "      <td>2013</td>\n",
       "      <td>Gross enrollment ratio - Secondary (male)</td>\n",
       "      <td>53.5</td>\n",
       "      <td>NaN</td>\n",
       "      <td>United Nations Educational, Scientific and Cul...</td>\n",
       "    </tr>\n",
       "    <tr>\n",
       "      <th>6936</th>\n",
       "      <td>716</td>\n",
       "      <td>Zimbabwe</td>\n",
       "      <td>2013</td>\n",
       "      <td>Gross enrollment ratio - Secondary (female)</td>\n",
       "      <td>51.3</td>\n",
       "      <td>NaN</td>\n",
       "      <td>United Nations Educational, Scientific and Cul...</td>\n",
       "    </tr>\n",
       "    <tr>\n",
       "      <th>6937</th>\n",
       "      <td>716</td>\n",
       "      <td>Zimbabwe</td>\n",
       "      <td>2013</td>\n",
       "      <td>Students enrolled in upper secondary education...</td>\n",
       "      <td>491.0</td>\n",
       "      <td>NaN</td>\n",
       "      <td>United Nations Educational, Scientific and Cul...</td>\n",
       "    </tr>\n",
       "    <tr>\n",
       "      <th>6938</th>\n",
       "      <td>716</td>\n",
       "      <td>Zimbabwe</td>\n",
       "      <td>2013</td>\n",
       "      <td>Gross enrollment ratio - Upper secondary level...</td>\n",
       "      <td>43.2</td>\n",
       "      <td>NaN</td>\n",
       "      <td>United Nations Educational, Scientific and Cul...</td>\n",
       "    </tr>\n",
       "    <tr>\n",
       "      <th>6939</th>\n",
       "      <td>716</td>\n",
       "      <td>Zimbabwe</td>\n",
       "      <td>2013</td>\n",
       "      <td>Gross enrollment ratio - Upper secondary level...</td>\n",
       "      <td>38.9</td>\n",
       "      <td>NaN</td>\n",
       "      <td>United Nations Educational, Scientific and Cul...</td>\n",
       "    </tr>\n",
       "  </tbody>\n",
       "</table>\n",
       "<p>6940 rows × 7 columns</p>\n",
       "</div>"
      ],
      "text/plain": [
       "      Code            Region/Country/Area  Year  \\\n",
       "0        1  Total, all countries or areas  2005   \n",
       "1        1  Total, all countries or areas  2005   \n",
       "2        1  Total, all countries or areas  2005   \n",
       "3        1  Total, all countries or areas  2005   \n",
       "4        1  Total, all countries or areas  2005   \n",
       "...    ...                            ...   ...   \n",
       "6935   716                       Zimbabwe  2013   \n",
       "6936   716                       Zimbabwe  2013   \n",
       "6937   716                       Zimbabwe  2013   \n",
       "6938   716                       Zimbabwe  2013   \n",
       "6939   716                       Zimbabwe  2013   \n",
       "\n",
       "                                                 Series     Value Footnotes  \\\n",
       "0     Students enrolled in primary education (thousa...  679013.0       NaN   \n",
       "1               Gross enrollment ratio - Primary (male)     104.5       NaN   \n",
       "2             Gross enrollment ratio - Primary (female)      99.7       NaN   \n",
       "3     Students enrolled in secondary education (thou...  509274.0       NaN   \n",
       "4             Gross enrollment ratio - Secondary (male)      65.8       NaN   \n",
       "...                                                 ...       ...       ...   \n",
       "6935          Gross enrollment ratio - Secondary (male)      53.5       NaN   \n",
       "6936        Gross enrollment ratio - Secondary (female)      51.3       NaN   \n",
       "6937  Students enrolled in upper secondary education...     491.0       NaN   \n",
       "6938  Gross enrollment ratio - Upper secondary level...      43.2       NaN   \n",
       "6939  Gross enrollment ratio - Upper secondary level...      38.9       NaN   \n",
       "\n",
       "                                                 Source  \n",
       "0     United Nations Educational, Scientific and Cul...  \n",
       "1     United Nations Educational, Scientific and Cul...  \n",
       "2     United Nations Educational, Scientific and Cul...  \n",
       "3     United Nations Educational, Scientific and Cul...  \n",
       "4     United Nations Educational, Scientific and Cul...  \n",
       "...                                                 ...  \n",
       "6935  United Nations Educational, Scientific and Cul...  \n",
       "6936  United Nations Educational, Scientific and Cul...  \n",
       "6937  United Nations Educational, Scientific and Cul...  \n",
       "6938  United Nations Educational, Scientific and Cul...  \n",
       "6939  United Nations Educational, Scientific and Cul...  \n",
       "\n",
       "[6940 rows x 7 columns]"
      ]
     },
     "execution_count": 7,
     "metadata": {},
     "output_type": "execute_result"
    }
   ],
   "source": [
    "df.rename(columns={\n",
    "    'Region/Country/Area': 'Code',\n",
    "    'Unnamed: 1': 'Region/Country/Area',\n",
    "}, inplace=True)\n",
    "\n",
    "df"
   ]
  },
  {
   "cell_type": "code",
   "execution_count": 8,
   "metadata": {},
   "outputs": [
    {
     "data": {
      "text/html": [
       "<div>\n",
       "<style scoped>\n",
       "    .dataframe tbody tr th:only-of-type {\n",
       "        vertical-align: middle;\n",
       "    }\n",
       "\n",
       "    .dataframe tbody tr th {\n",
       "        vertical-align: top;\n",
       "    }\n",
       "\n",
       "    .dataframe thead th {\n",
       "        text-align: right;\n",
       "    }\n",
       "</style>\n",
       "<table border=\"1\" class=\"dataframe\">\n",
       "  <thead>\n",
       "    <tr style=\"text-align: right;\">\n",
       "      <th></th>\n",
       "      <th>Code</th>\n",
       "      <th>Region/Country/Area</th>\n",
       "      <th>Year</th>\n",
       "      <th>Series</th>\n",
       "      <th>Value</th>\n",
       "    </tr>\n",
       "  </thead>\n",
       "  <tbody>\n",
       "    <tr>\n",
       "      <th>0</th>\n",
       "      <td>1</td>\n",
       "      <td>Total, all countries or areas</td>\n",
       "      <td>2005</td>\n",
       "      <td>Students enrolled in primary education (thousa...</td>\n",
       "      <td>679013.0</td>\n",
       "    </tr>\n",
       "    <tr>\n",
       "      <th>1</th>\n",
       "      <td>1</td>\n",
       "      <td>Total, all countries or areas</td>\n",
       "      <td>2005</td>\n",
       "      <td>Gross enrollment ratio - Primary (male)</td>\n",
       "      <td>104.5</td>\n",
       "    </tr>\n",
       "    <tr>\n",
       "      <th>2</th>\n",
       "      <td>1</td>\n",
       "      <td>Total, all countries or areas</td>\n",
       "      <td>2005</td>\n",
       "      <td>Gross enrollment ratio - Primary (female)</td>\n",
       "      <td>99.7</td>\n",
       "    </tr>\n",
       "    <tr>\n",
       "      <th>3</th>\n",
       "      <td>1</td>\n",
       "      <td>Total, all countries or areas</td>\n",
       "      <td>2005</td>\n",
       "      <td>Students enrolled in secondary education (thou...</td>\n",
       "      <td>509274.0</td>\n",
       "    </tr>\n",
       "    <tr>\n",
       "      <th>4</th>\n",
       "      <td>1</td>\n",
       "      <td>Total, all countries or areas</td>\n",
       "      <td>2005</td>\n",
       "      <td>Gross enrollment ratio - Secondary (male)</td>\n",
       "      <td>65.8</td>\n",
       "    </tr>\n",
       "    <tr>\n",
       "      <th>...</th>\n",
       "      <td>...</td>\n",
       "      <td>...</td>\n",
       "      <td>...</td>\n",
       "      <td>...</td>\n",
       "      <td>...</td>\n",
       "    </tr>\n",
       "    <tr>\n",
       "      <th>6935</th>\n",
       "      <td>716</td>\n",
       "      <td>Zimbabwe</td>\n",
       "      <td>2013</td>\n",
       "      <td>Gross enrollment ratio - Secondary (male)</td>\n",
       "      <td>53.5</td>\n",
       "    </tr>\n",
       "    <tr>\n",
       "      <th>6936</th>\n",
       "      <td>716</td>\n",
       "      <td>Zimbabwe</td>\n",
       "      <td>2013</td>\n",
       "      <td>Gross enrollment ratio - Secondary (female)</td>\n",
       "      <td>51.3</td>\n",
       "    </tr>\n",
       "    <tr>\n",
       "      <th>6937</th>\n",
       "      <td>716</td>\n",
       "      <td>Zimbabwe</td>\n",
       "      <td>2013</td>\n",
       "      <td>Students enrolled in upper secondary education...</td>\n",
       "      <td>491.0</td>\n",
       "    </tr>\n",
       "    <tr>\n",
       "      <th>6938</th>\n",
       "      <td>716</td>\n",
       "      <td>Zimbabwe</td>\n",
       "      <td>2013</td>\n",
       "      <td>Gross enrollment ratio - Upper secondary level...</td>\n",
       "      <td>43.2</td>\n",
       "    </tr>\n",
       "    <tr>\n",
       "      <th>6939</th>\n",
       "      <td>716</td>\n",
       "      <td>Zimbabwe</td>\n",
       "      <td>2013</td>\n",
       "      <td>Gross enrollment ratio - Upper secondary level...</td>\n",
       "      <td>38.9</td>\n",
       "    </tr>\n",
       "  </tbody>\n",
       "</table>\n",
       "<p>6940 rows × 5 columns</p>\n",
       "</div>"
      ],
      "text/plain": [
       "      Code            Region/Country/Area  Year  \\\n",
       "0        1  Total, all countries or areas  2005   \n",
       "1        1  Total, all countries or areas  2005   \n",
       "2        1  Total, all countries or areas  2005   \n",
       "3        1  Total, all countries or areas  2005   \n",
       "4        1  Total, all countries or areas  2005   \n",
       "...    ...                            ...   ...   \n",
       "6935   716                       Zimbabwe  2013   \n",
       "6936   716                       Zimbabwe  2013   \n",
       "6937   716                       Zimbabwe  2013   \n",
       "6938   716                       Zimbabwe  2013   \n",
       "6939   716                       Zimbabwe  2013   \n",
       "\n",
       "                                                 Series     Value  \n",
       "0     Students enrolled in primary education (thousa...  679013.0  \n",
       "1               Gross enrollment ratio - Primary (male)     104.5  \n",
       "2             Gross enrollment ratio - Primary (female)      99.7  \n",
       "3     Students enrolled in secondary education (thou...  509274.0  \n",
       "4             Gross enrollment ratio - Secondary (male)      65.8  \n",
       "...                                                 ...       ...  \n",
       "6935          Gross enrollment ratio - Secondary (male)      53.5  \n",
       "6936        Gross enrollment ratio - Secondary (female)      51.3  \n",
       "6937  Students enrolled in upper secondary education...     491.0  \n",
       "6938  Gross enrollment ratio - Upper secondary level...      43.2  \n",
       "6939  Gross enrollment ratio - Upper secondary level...      38.9  \n",
       "\n",
       "[6940 rows x 5 columns]"
      ]
     },
     "execution_count": 8,
     "metadata": {},
     "output_type": "execute_result"
    }
   ],
   "source": [
    "df1 = df[['Code', 'Region/Country/Area', 'Year', 'Series', 'Value']]\n",
    "df1"
   ]
  },
  {
   "cell_type": "code",
   "execution_count": 9,
   "metadata": {},
   "outputs": [
    {
     "data": {
      "text/plain": [
       "(6940, 5)"
      ]
     },
     "execution_count": 9,
     "metadata": {},
     "output_type": "execute_result"
    }
   ],
   "source": [
    "df1.shape"
   ]
  },
  {
   "cell_type": "code",
   "execution_count": 10,
   "metadata": {},
   "outputs": [
    {
     "name": "stdout",
     "output_type": "stream",
     "text": [
      "<class 'pandas.core.frame.DataFrame'>\n",
      "RangeIndex: 6940 entries, 0 to 6939\n",
      "Data columns (total 5 columns):\n",
      " #   Column               Non-Null Count  Dtype  \n",
      "---  ------               --------------  -----  \n",
      " 0   Code                 6940 non-null   int64  \n",
      " 1   Region/Country/Area  6940 non-null   object \n",
      " 2   Year                 6940 non-null   int64  \n",
      " 3   Series               6940 non-null   object \n",
      " 4   Value                6940 non-null   float64\n",
      "dtypes: float64(1), int64(2), object(2)\n",
      "memory usage: 271.2+ KB\n"
     ]
    }
   ],
   "source": [
    "df1.info()"
   ]
  },
  {
   "cell_type": "code",
   "execution_count": 11,
   "metadata": {},
   "outputs": [
    {
     "data": {
      "text/html": [
       "<div>\n",
       "<style scoped>\n",
       "    .dataframe tbody tr th:only-of-type {\n",
       "        vertical-align: middle;\n",
       "    }\n",
       "\n",
       "    .dataframe tbody tr th {\n",
       "        vertical-align: top;\n",
       "    }\n",
       "\n",
       "    .dataframe thead th {\n",
       "        text-align: right;\n",
       "    }\n",
       "</style>\n",
       "<table border=\"1\" class=\"dataframe\">\n",
       "  <thead>\n",
       "    <tr style=\"text-align: right;\">\n",
       "      <th></th>\n",
       "      <th>Region/Country/Area</th>\n",
       "      <th>Series</th>\n",
       "    </tr>\n",
       "  </thead>\n",
       "  <tbody>\n",
       "    <tr>\n",
       "      <th>count</th>\n",
       "      <td>6940</td>\n",
       "      <td>6940</td>\n",
       "    </tr>\n",
       "    <tr>\n",
       "      <th>unique</th>\n",
       "      <td>222</td>\n",
       "      <td>9</td>\n",
       "    </tr>\n",
       "    <tr>\n",
       "      <th>top</th>\n",
       "      <td>Senegal</td>\n",
       "      <td>Students enrolled in primary education (thousa...</td>\n",
       "    </tr>\n",
       "    <tr>\n",
       "      <th>freq</th>\n",
       "      <td>47</td>\n",
       "      <td>869</td>\n",
       "    </tr>\n",
       "  </tbody>\n",
       "</table>\n",
       "</div>"
      ],
      "text/plain": [
       "       Region/Country/Area                                             Series\n",
       "count                 6940                                               6940\n",
       "unique                 222                                                  9\n",
       "top                Senegal  Students enrolled in primary education (thousa...\n",
       "freq                    47                                                869"
      ]
     },
     "execution_count": 11,
     "metadata": {},
     "output_type": "execute_result"
    }
   ],
   "source": [
    "df1.describe(include='object')"
   ]
  },
  {
   "cell_type": "code",
   "execution_count": 12,
   "metadata": {},
   "outputs": [
    {
     "data": {
      "text/plain": [
       "Senegal                47\n",
       "Tunisia                44\n",
       "Georgia                44\n",
       "Saint Lucia            43\n",
       "Bahrain                42\n",
       "                       ..\n",
       "South Sudan             9\n",
       "Guinea-Bissau           8\n",
       "Trinidad and Tobago     6\n",
       "Sudan [former]          6\n",
       "Gabon                   3\n",
       "Name: Region/Country/Area, Length: 222, dtype: int64"
      ]
     },
     "execution_count": 12,
     "metadata": {},
     "output_type": "execute_result"
    }
   ],
   "source": [
    "df1['Region/Country/Area'].value_counts()"
   ]
  },
  {
   "cell_type": "code",
   "execution_count": 13,
   "metadata": {},
   "outputs": [
    {
     "data": {
      "text/plain": [
       "Students enrolled in primary education (thousands)            869\n",
       "Gross enrollment ratio - Primary (male)                       824\n",
       "Gross enrollment ratio - Primary (female)                     824\n",
       "Students enrolled in secondary education (thousands)          768\n",
       "Students enrolled in upper secondary education (thousands)    761\n",
       "Gross enrollment ratio - Secondary (male)                     724\n",
       "Gross enrollment ratio - Secondary (female)                   724\n",
       "Gross enrollment ratio - Upper secondary level (male)         723\n",
       "Gross enrollment ratio - Upper secondary level (female)       723\n",
       "Name: Series, dtype: int64"
      ]
     },
     "execution_count": 13,
     "metadata": {},
     "output_type": "execute_result"
    }
   ],
   "source": [
    "df1['Series'].value_counts()"
   ]
  },
  {
   "cell_type": "markdown",
   "metadata": {},
   "source": [
    "# Data Cleaning"
   ]
  },
  {
   "cell_type": "code",
   "execution_count": 14,
   "metadata": {},
   "outputs": [
    {
     "data": {
      "text/plain": [
       "array(['Total, all countries or areas', 'Northern Africa',\n",
       "       'Sub-Saharan Africa', 'Northern America',\n",
       "       'Latin America & the Caribbean', 'Central Asia', 'Eastern Asia',\n",
       "       'South-eastern Asia', 'Southern Asia', 'Western Asia', 'Europe',\n",
       "       'Oceania', 'Afghanistan', 'Albania', 'Algeria', 'Andorra',\n",
       "       'Angola', 'Anguilla', 'Antigua and Barbuda', 'Argentina',\n",
       "       'Armenia', 'Aruba', 'Australia', 'Austria', 'Azerbaijan',\n",
       "       'Bahamas', 'Bahrain', 'Bangladesh', 'Barbados', 'Belarus',\n",
       "       'Belgium', 'Belize', 'Benin', 'Bermuda', 'Bhutan',\n",
       "       'Bolivia (Plurin. State of)', 'Bosnia and Herzegovina', 'Botswana',\n",
       "       'Brazil', 'British Virgin Islands', 'Brunei Darussalam',\n",
       "       'Bulgaria', 'Burkina Faso', 'Burundi', 'Cabo Verde', 'Cambodia',\n",
       "       'Cameroon', 'Canada', 'Cayman Islands', 'Central African Republic',\n",
       "       'Chad', 'Chile', 'China', 'China, Hong Kong SAR',\n",
       "       'China, Macao SAR', 'Colombia', 'Comoros', 'Congo', 'Cook Islands',\n",
       "       'Costa Rica', 'Côte d’Ivoire', 'Croatia', 'Cuba', 'Curaï¿½ao',\n",
       "       'Cyprus', 'Czechia', \"Dem. People's Rep. Korea\",\n",
       "       'Dem. Rep. of the Congo', 'Denmark', 'Djibouti', 'Dominica',\n",
       "       'Dominican Republic', 'Ecuador', 'Egypt', 'El Salvador',\n",
       "       'Equatorial Guinea', 'Eritrea', 'Estonia', 'Eswatini', 'Ethiopia',\n",
       "       'Fiji', 'Finland', 'France', 'Gabon', 'Gambia', 'Georgia',\n",
       "       'Germany', 'Ghana', 'Gibraltar', 'Greece', 'Grenada', 'Guatemala',\n",
       "       'Guinea', 'Guinea-Bissau', 'Guyana', 'Honduras', 'Hungary',\n",
       "       'Iceland', 'India', 'Indonesia', 'Iran (Islamic Republic of)',\n",
       "       'Iraq', 'Ireland', 'Israel', 'Italy', 'Jamaica', 'Japan', 'Jordan',\n",
       "       'Kazakhstan', 'Kenya', 'Kiribati', 'Kuwait', 'Kyrgyzstan',\n",
       "       \"Lao People's Dem. Rep.\", 'Latvia', 'Lebanon', 'Lesotho',\n",
       "       'Liberia', 'Libya', 'Liechtenstein', 'Lithuania', 'Luxembourg',\n",
       "       'Madagascar', 'Malawi', 'Malaysia', 'Maldives', 'Mali', 'Malta',\n",
       "       'Marshall Islands', 'Mauritania', 'Mauritius', 'Mexico',\n",
       "       'Micronesia (Fed. States of)', 'Monaco', 'Mongolia', 'Montenegro',\n",
       "       'Montserrat', 'Morocco', 'Mozambique', 'Myanmar', 'Namibia',\n",
       "       'Nauru', 'Nepal', 'Netherlands', 'New Zealand', 'Nicaragua',\n",
       "       'Niger', 'Nigeria', 'Niue', 'North Macedonia', 'Norway', 'Oman',\n",
       "       'Pakistan', 'Palau', 'Panama', 'Papua New Guinea', 'Paraguay',\n",
       "       'Peru', 'Philippines', 'Poland', 'Portugal', 'Puerto Rico',\n",
       "       'Qatar', 'Republic of Korea', 'Republic of Moldova', 'Romania',\n",
       "       'Russian Federation', 'Rwanda', 'Saint Kitts and Nevis',\n",
       "       'Saint Lucia', 'Saint Vincent & Grenadines', 'Samoa', 'San Marino',\n",
       "       'Sao Tome and Principe', 'Saudi Arabia', 'Senegal', 'Serbia',\n",
       "       'Seychelles', 'Sierra Leone', 'Singapore',\n",
       "       'Sint Maarten (Dutch part)', 'Slovakia', 'Slovenia',\n",
       "       'Solomon Islands', 'Somalia', 'South Africa', 'South Sudan',\n",
       "       'Spain', 'Sri Lanka', 'State of Palestine', 'Sudan',\n",
       "       'Sudan [former]', 'Suriname', 'Sweden', 'Switzerland',\n",
       "       'Syrian Arab Republic', 'Tajikistan', 'Thailand', 'Timor-Leste',\n",
       "       'Togo', 'Tokelau', 'Tonga', 'Trinidad and Tobago', 'Tunisia',\n",
       "       'Turkey', 'Turkmenistan', 'Turks and Caicos Islands', 'Tuvalu',\n",
       "       'Uganda', 'Ukraine', 'United Arab Emirates', 'United Kingdom',\n",
       "       'United Rep. of Tanzania', 'United States of America', 'Uruguay',\n",
       "       'Uzbekistan', 'Vanuatu', 'Venezuela (Boliv. Rep. of)', 'Viet Nam',\n",
       "       'Yemen', 'Zambia', 'Zimbabwe'], dtype=object)"
      ]
     },
     "execution_count": 14,
     "metadata": {},
     "output_type": "execute_result"
    }
   ],
   "source": [
    "df1['Region/Country/Area'].replace(\n",
    "    {'Cï¿½te dï¿½Ivoire': \"Côte d’Ivoire\"}, inplace=True\n",
    ")\n",
    "\n",
    "df1['Region/Country/Area'].unique()"
   ]
  },
  {
   "cell_type": "code",
   "execution_count": 15,
   "metadata": {},
   "outputs": [
    {
     "data": {
      "text/plain": [
       "686    47\n",
       "788    44\n",
       "268    44\n",
       "662    43\n",
       "48     42\n",
       "       ..\n",
       "728     9\n",
       "624     8\n",
       "780     6\n",
       "736     6\n",
       "266     3\n",
       "Name: Code, Length: 222, dtype: int64"
      ]
     },
     "execution_count": 15,
     "metadata": {},
     "output_type": "execute_result"
    }
   ],
   "source": [
    "df1['Code'].value_counts()"
   ]
  },
  {
   "cell_type": "code",
   "execution_count": 16,
   "metadata": {},
   "outputs": [
    {
     "data": {
      "text/plain": [
       "2005    1572\n",
       "2010    1480\n",
       "2015    1463\n",
       "2019     810\n",
       "2018     643\n",
       "2009     171\n",
       "2014     138\n",
       "2016     116\n",
       "2017     111\n",
       "2012      99\n",
       "2013      82\n",
       "2008      81\n",
       "2007      80\n",
       "2006      50\n",
       "2011      44\n",
       "Name: Year, dtype: int64"
      ]
     },
     "execution_count": 16,
     "metadata": {},
     "output_type": "execute_result"
    }
   ],
   "source": [
    "df1['Year'].value_counts()"
   ]
  },
  {
   "cell_type": "code",
   "execution_count": 17,
   "metadata": {},
   "outputs": [
    {
     "data": {
      "text/plain": [
       "count      6940.000000\n",
       "mean       2605.001196\n",
       "std       24780.663561\n",
       "min           0.000000\n",
       "25%          74.600000\n",
       "50%         100.500000\n",
       "75%         135.825000\n",
       "max      739447.000000\n",
       "Name: Value, dtype: float64"
      ]
     },
     "execution_count": 17,
     "metadata": {},
     "output_type": "execute_result"
    }
   ],
   "source": [
    "df1['Value'].describe()"
   ]
  },
  {
   "cell_type": "markdown",
   "metadata": {},
   "source": [
    "# Missing Values Exploration"
   ]
  },
  {
   "cell_type": "code",
   "execution_count": 18,
   "metadata": {},
   "outputs": [
    {
     "data": {
      "text/plain": [
       "Code                   0\n",
       "Region/Country/Area    0\n",
       "Year                   0\n",
       "Series                 0\n",
       "Value                  0\n",
       "dtype: int64"
      ]
     },
     "execution_count": 18,
     "metadata": {},
     "output_type": "execute_result"
    }
   ],
   "source": [
    "df1.isna().sum()"
   ]
  },
  {
   "cell_type": "markdown",
   "metadata": {},
   "source": [
    "# Grouping and Aggregation"
   ]
  },
  {
   "cell_type": "markdown",
   "metadata": {},
   "source": [
    "Filter By Region"
   ]
  },
  {
   "cell_type": "code",
   "execution_count": 19,
   "metadata": {},
   "outputs": [
    {
     "data": {
      "text/html": [
       "<div>\n",
       "<style scoped>\n",
       "    .dataframe tbody tr th:only-of-type {\n",
       "        vertical-align: middle;\n",
       "    }\n",
       "\n",
       "    .dataframe tbody tr th {\n",
       "        vertical-align: top;\n",
       "    }\n",
       "\n",
       "    .dataframe thead th {\n",
       "        text-align: right;\n",
       "    }\n",
       "</style>\n",
       "<table border=\"1\" class=\"dataframe\">\n",
       "  <thead>\n",
       "    <tr style=\"text-align: right;\">\n",
       "      <th></th>\n",
       "      <th>Code</th>\n",
       "      <th>Region/Country/Area</th>\n",
       "      <th>Year</th>\n",
       "      <th>Series</th>\n",
       "      <th>Value</th>\n",
       "    </tr>\n",
       "  </thead>\n",
       "  <tbody>\n",
       "    <tr>\n",
       "      <th>36</th>\n",
       "      <td>15</td>\n",
       "      <td>Northern Africa</td>\n",
       "      <td>2005</td>\n",
       "      <td>Students enrolled in primary education (thousa...</td>\n",
       "      <td>23023.0</td>\n",
       "    </tr>\n",
       "    <tr>\n",
       "      <th>37</th>\n",
       "      <td>15</td>\n",
       "      <td>Northern Africa</td>\n",
       "      <td>2005</td>\n",
       "      <td>Gross enrollment ratio - Primary (male)</td>\n",
       "      <td>96.9</td>\n",
       "    </tr>\n",
       "    <tr>\n",
       "      <th>38</th>\n",
       "      <td>15</td>\n",
       "      <td>Northern Africa</td>\n",
       "      <td>2005</td>\n",
       "      <td>Gross enrollment ratio - Primary (female)</td>\n",
       "      <td>89.9</td>\n",
       "    </tr>\n",
       "    <tr>\n",
       "      <th>39</th>\n",
       "      <td>15</td>\n",
       "      <td>Northern Africa</td>\n",
       "      <td>2005</td>\n",
       "      <td>Students enrolled in secondary education (thou...</td>\n",
       "      <td>16897.0</td>\n",
       "    </tr>\n",
       "    <tr>\n",
       "      <th>40</th>\n",
       "      <td>15</td>\n",
       "      <td>Northern Africa</td>\n",
       "      <td>2005</td>\n",
       "      <td>Gross enrollment ratio - Secondary (male)</td>\n",
       "      <td>69.8</td>\n",
       "    </tr>\n",
       "    <tr>\n",
       "      <th>...</th>\n",
       "      <td>...</td>\n",
       "      <td>...</td>\n",
       "      <td>...</td>\n",
       "      <td>...</td>\n",
       "      <td>...</td>\n",
       "    </tr>\n",
       "    <tr>\n",
       "      <th>430</th>\n",
       "      <td>9</td>\n",
       "      <td>Oceania</td>\n",
       "      <td>2019</td>\n",
       "      <td>Gross enrollment ratio - Secondary (male)</td>\n",
       "      <td>102.9</td>\n",
       "    </tr>\n",
       "    <tr>\n",
       "      <th>431</th>\n",
       "      <td>9</td>\n",
       "      <td>Oceania</td>\n",
       "      <td>2019</td>\n",
       "      <td>Gross enrollment ratio - Secondary (female)</td>\n",
       "      <td>95.9</td>\n",
       "    </tr>\n",
       "    <tr>\n",
       "      <th>432</th>\n",
       "      <td>9</td>\n",
       "      <td>Oceania</td>\n",
       "      <td>2019</td>\n",
       "      <td>Students enrolled in upper secondary education...</td>\n",
       "      <td>1640.0</td>\n",
       "    </tr>\n",
       "    <tr>\n",
       "      <th>433</th>\n",
       "      <td>9</td>\n",
       "      <td>Oceania</td>\n",
       "      <td>2019</td>\n",
       "      <td>Gross enrollment ratio - Upper secondary level...</td>\n",
       "      <td>100.9</td>\n",
       "    </tr>\n",
       "    <tr>\n",
       "      <th>434</th>\n",
       "      <td>9</td>\n",
       "      <td>Oceania</td>\n",
       "      <td>2019</td>\n",
       "      <td>Gross enrollment ratio - Upper secondary level...</td>\n",
       "      <td>94.9</td>\n",
       "    </tr>\n",
       "  </tbody>\n",
       "</table>\n",
       "<p>399 rows × 5 columns</p>\n",
       "</div>"
      ],
      "text/plain": [
       "     Code Region/Country/Area  Year  \\\n",
       "36     15     Northern Africa  2005   \n",
       "37     15     Northern Africa  2005   \n",
       "38     15     Northern Africa  2005   \n",
       "39     15     Northern Africa  2005   \n",
       "40     15     Northern Africa  2005   \n",
       "..    ...                 ...   ...   \n",
       "430     9             Oceania  2019   \n",
       "431     9             Oceania  2019   \n",
       "432     9             Oceania  2019   \n",
       "433     9             Oceania  2019   \n",
       "434     9             Oceania  2019   \n",
       "\n",
       "                                                Series    Value  \n",
       "36   Students enrolled in primary education (thousa...  23023.0  \n",
       "37             Gross enrollment ratio - Primary (male)     96.9  \n",
       "38           Gross enrollment ratio - Primary (female)     89.9  \n",
       "39   Students enrolled in secondary education (thou...  16897.0  \n",
       "40           Gross enrollment ratio - Secondary (male)     69.8  \n",
       "..                                                 ...      ...  \n",
       "430          Gross enrollment ratio - Secondary (male)    102.9  \n",
       "431        Gross enrollment ratio - Secondary (female)     95.9  \n",
       "432  Students enrolled in upper secondary education...   1640.0  \n",
       "433  Gross enrollment ratio - Upper secondary level...    100.9  \n",
       "434  Gross enrollment ratio - Upper secondary level...     94.9  \n",
       "\n",
       "[399 rows x 5 columns]"
      ]
     },
     "execution_count": 19,
     "metadata": {},
     "output_type": "execute_result"
    }
   ],
   "source": [
    "regions = ['Africa', 'Northern Africa', 'Sub-Saharan Africa', 'Eastern Africa', 'Middle Africa', 'Southern Africa', 'Western Africa', \n",
    "           'Americas', 'Northern America', 'Latin America & the Caribbean', 'Caribbean', 'Central America', 'South America', 'Asia', \n",
    "           'Central Asia', 'Eastern Asia', 'South-central Asia', 'South-eastern Asia', 'Southern Asia', 'Western Asia', 'Europe', \n",
    "           'Eastern Europe', 'Northern Europe', 'Southern Europe', 'Western Europe', 'Oceania', 'Australia and New Zealand', 'Melanesia']\n",
    "\n",
    "df_reg_filt = df1[df1['Region/Country/Area'].isin(regions)]\n",
    "df_reg_filt\n"
   ]
  },
  {
   "cell_type": "code",
   "execution_count": 20,
   "metadata": {},
   "outputs": [
    {
     "data": {
      "text/html": [
       "<div>\n",
       "<style scoped>\n",
       "    .dataframe tbody tr th:only-of-type {\n",
       "        vertical-align: middle;\n",
       "    }\n",
       "\n",
       "    .dataframe tbody tr th {\n",
       "        vertical-align: top;\n",
       "    }\n",
       "\n",
       "    .dataframe thead th {\n",
       "        text-align: right;\n",
       "    }\n",
       "</style>\n",
       "<table border=\"1\" class=\"dataframe\">\n",
       "  <thead>\n",
       "    <tr style=\"text-align: right;\">\n",
       "      <th></th>\n",
       "      <th>Code</th>\n",
       "      <th>Region</th>\n",
       "      <th>Year</th>\n",
       "      <th>Series</th>\n",
       "      <th>Value</th>\n",
       "    </tr>\n",
       "  </thead>\n",
       "  <tbody>\n",
       "    <tr>\n",
       "      <th>36</th>\n",
       "      <td>15</td>\n",
       "      <td>Northern Africa</td>\n",
       "      <td>2005</td>\n",
       "      <td>Students enrolled in primary education (thousa...</td>\n",
       "      <td>23023.0</td>\n",
       "    </tr>\n",
       "    <tr>\n",
       "      <th>37</th>\n",
       "      <td>15</td>\n",
       "      <td>Northern Africa</td>\n",
       "      <td>2005</td>\n",
       "      <td>Gross enrollment ratio - Primary (male)</td>\n",
       "      <td>96.9</td>\n",
       "    </tr>\n",
       "    <tr>\n",
       "      <th>38</th>\n",
       "      <td>15</td>\n",
       "      <td>Northern Africa</td>\n",
       "      <td>2005</td>\n",
       "      <td>Gross enrollment ratio - Primary (female)</td>\n",
       "      <td>89.9</td>\n",
       "    </tr>\n",
       "    <tr>\n",
       "      <th>39</th>\n",
       "      <td>15</td>\n",
       "      <td>Northern Africa</td>\n",
       "      <td>2005</td>\n",
       "      <td>Students enrolled in secondary education (thou...</td>\n",
       "      <td>16897.0</td>\n",
       "    </tr>\n",
       "    <tr>\n",
       "      <th>40</th>\n",
       "      <td>15</td>\n",
       "      <td>Northern Africa</td>\n",
       "      <td>2005</td>\n",
       "      <td>Gross enrollment ratio - Secondary (male)</td>\n",
       "      <td>69.8</td>\n",
       "    </tr>\n",
       "    <tr>\n",
       "      <th>...</th>\n",
       "      <td>...</td>\n",
       "      <td>...</td>\n",
       "      <td>...</td>\n",
       "      <td>...</td>\n",
       "      <td>...</td>\n",
       "    </tr>\n",
       "    <tr>\n",
       "      <th>430</th>\n",
       "      <td>9</td>\n",
       "      <td>Oceania</td>\n",
       "      <td>2019</td>\n",
       "      <td>Gross enrollment ratio - Secondary (male)</td>\n",
       "      <td>102.9</td>\n",
       "    </tr>\n",
       "    <tr>\n",
       "      <th>431</th>\n",
       "      <td>9</td>\n",
       "      <td>Oceania</td>\n",
       "      <td>2019</td>\n",
       "      <td>Gross enrollment ratio - Secondary (female)</td>\n",
       "      <td>95.9</td>\n",
       "    </tr>\n",
       "    <tr>\n",
       "      <th>432</th>\n",
       "      <td>9</td>\n",
       "      <td>Oceania</td>\n",
       "      <td>2019</td>\n",
       "      <td>Students enrolled in upper secondary education...</td>\n",
       "      <td>1640.0</td>\n",
       "    </tr>\n",
       "    <tr>\n",
       "      <th>433</th>\n",
       "      <td>9</td>\n",
       "      <td>Oceania</td>\n",
       "      <td>2019</td>\n",
       "      <td>Gross enrollment ratio - Upper secondary level...</td>\n",
       "      <td>100.9</td>\n",
       "    </tr>\n",
       "    <tr>\n",
       "      <th>434</th>\n",
       "      <td>9</td>\n",
       "      <td>Oceania</td>\n",
       "      <td>2019</td>\n",
       "      <td>Gross enrollment ratio - Upper secondary level...</td>\n",
       "      <td>94.9</td>\n",
       "    </tr>\n",
       "  </tbody>\n",
       "</table>\n",
       "<p>399 rows × 5 columns</p>\n",
       "</div>"
      ],
      "text/plain": [
       "     Code           Region  Year  \\\n",
       "36     15  Northern Africa  2005   \n",
       "37     15  Northern Africa  2005   \n",
       "38     15  Northern Africa  2005   \n",
       "39     15  Northern Africa  2005   \n",
       "40     15  Northern Africa  2005   \n",
       "..    ...              ...   ...   \n",
       "430     9          Oceania  2019   \n",
       "431     9          Oceania  2019   \n",
       "432     9          Oceania  2019   \n",
       "433     9          Oceania  2019   \n",
       "434     9          Oceania  2019   \n",
       "\n",
       "                                                Series    Value  \n",
       "36   Students enrolled in primary education (thousa...  23023.0  \n",
       "37             Gross enrollment ratio - Primary (male)     96.9  \n",
       "38           Gross enrollment ratio - Primary (female)     89.9  \n",
       "39   Students enrolled in secondary education (thou...  16897.0  \n",
       "40           Gross enrollment ratio - Secondary (male)     69.8  \n",
       "..                                                 ...      ...  \n",
       "430          Gross enrollment ratio - Secondary (male)    102.9  \n",
       "431        Gross enrollment ratio - Secondary (female)     95.9  \n",
       "432  Students enrolled in upper secondary education...   1640.0  \n",
       "433  Gross enrollment ratio - Upper secondary level...    100.9  \n",
       "434  Gross enrollment ratio - Upper secondary level...     94.9  \n",
       "\n",
       "[399 rows x 5 columns]"
      ]
     },
     "execution_count": 20,
     "metadata": {},
     "output_type": "execute_result"
    }
   ],
   "source": [
    "df_reg_filt.rename(columns={\n",
    "    'Region/Country/Area': 'Region'\n",
    "}, inplace=True)\n",
    "\n",
    "df_reg_filt"
   ]
  },
  {
   "cell_type": "markdown",
   "metadata": {},
   "source": [
    "Filter By Continents"
   ]
  },
  {
   "cell_type": "code",
   "execution_count": 21,
   "metadata": {},
   "outputs": [
    {
     "data": {
      "text/html": [
       "<div>\n",
       "<style scoped>\n",
       "    .dataframe tbody tr th:only-of-type {\n",
       "        vertical-align: middle;\n",
       "    }\n",
       "\n",
       "    .dataframe tbody tr th {\n",
       "        vertical-align: top;\n",
       "    }\n",
       "\n",
       "    .dataframe thead th {\n",
       "        text-align: right;\n",
       "    }\n",
       "</style>\n",
       "<table border=\"1\" class=\"dataframe\">\n",
       "  <thead>\n",
       "    <tr style=\"text-align: right;\">\n",
       "      <th></th>\n",
       "      <th>Code</th>\n",
       "      <th>Region</th>\n",
       "      <th>Year</th>\n",
       "      <th>Series</th>\n",
       "      <th>Value</th>\n",
       "    </tr>\n",
       "  </thead>\n",
       "  <tbody>\n",
       "    <tr>\n",
       "      <th>363</th>\n",
       "      <td>150</td>\n",
       "      <td>Europe</td>\n",
       "      <td>2005</td>\n",
       "      <td>Students enrolled in primary education (thousa...</td>\n",
       "      <td>38467.0</td>\n",
       "    </tr>\n",
       "    <tr>\n",
       "      <th>364</th>\n",
       "      <td>150</td>\n",
       "      <td>Europe</td>\n",
       "      <td>2005</td>\n",
       "      <td>Gross enrollment ratio - Primary (male)</td>\n",
       "      <td>102.1</td>\n",
       "    </tr>\n",
       "    <tr>\n",
       "      <th>365</th>\n",
       "      <td>150</td>\n",
       "      <td>Europe</td>\n",
       "      <td>2005</td>\n",
       "      <td>Gross enrollment ratio - Primary (female)</td>\n",
       "      <td>101.3</td>\n",
       "    </tr>\n",
       "    <tr>\n",
       "      <th>366</th>\n",
       "      <td>150</td>\n",
       "      <td>Europe</td>\n",
       "      <td>2005</td>\n",
       "      <td>Students enrolled in secondary education (thou...</td>\n",
       "      <td>65272.0</td>\n",
       "    </tr>\n",
       "    <tr>\n",
       "      <th>367</th>\n",
       "      <td>150</td>\n",
       "      <td>Europe</td>\n",
       "      <td>2005</td>\n",
       "      <td>Gross enrollment ratio - Secondary (male)</td>\n",
       "      <td>97.7</td>\n",
       "    </tr>\n",
       "    <tr>\n",
       "      <th>...</th>\n",
       "      <td>...</td>\n",
       "      <td>...</td>\n",
       "      <td>...</td>\n",
       "      <td>...</td>\n",
       "      <td>...</td>\n",
       "    </tr>\n",
       "    <tr>\n",
       "      <th>430</th>\n",
       "      <td>9</td>\n",
       "      <td>Oceania</td>\n",
       "      <td>2019</td>\n",
       "      <td>Gross enrollment ratio - Secondary (male)</td>\n",
       "      <td>102.9</td>\n",
       "    </tr>\n",
       "    <tr>\n",
       "      <th>431</th>\n",
       "      <td>9</td>\n",
       "      <td>Oceania</td>\n",
       "      <td>2019</td>\n",
       "      <td>Gross enrollment ratio - Secondary (female)</td>\n",
       "      <td>95.9</td>\n",
       "    </tr>\n",
       "    <tr>\n",
       "      <th>432</th>\n",
       "      <td>9</td>\n",
       "      <td>Oceania</td>\n",
       "      <td>2019</td>\n",
       "      <td>Students enrolled in upper secondary education...</td>\n",
       "      <td>1640.0</td>\n",
       "    </tr>\n",
       "    <tr>\n",
       "      <th>433</th>\n",
       "      <td>9</td>\n",
       "      <td>Oceania</td>\n",
       "      <td>2019</td>\n",
       "      <td>Gross enrollment ratio - Upper secondary level...</td>\n",
       "      <td>100.9</td>\n",
       "    </tr>\n",
       "    <tr>\n",
       "      <th>434</th>\n",
       "      <td>9</td>\n",
       "      <td>Oceania</td>\n",
       "      <td>2019</td>\n",
       "      <td>Gross enrollment ratio - Upper secondary level...</td>\n",
       "      <td>94.9</td>\n",
       "    </tr>\n",
       "  </tbody>\n",
       "</table>\n",
       "<p>72 rows × 5 columns</p>\n",
       "</div>"
      ],
      "text/plain": [
       "     Code   Region  Year                                             Series  \\\n",
       "363   150   Europe  2005  Students enrolled in primary education (thousa...   \n",
       "364   150   Europe  2005            Gross enrollment ratio - Primary (male)   \n",
       "365   150   Europe  2005          Gross enrollment ratio - Primary (female)   \n",
       "366   150   Europe  2005  Students enrolled in secondary education (thou...   \n",
       "367   150   Europe  2005          Gross enrollment ratio - Secondary (male)   \n",
       "..    ...      ...   ...                                                ...   \n",
       "430     9  Oceania  2019          Gross enrollment ratio - Secondary (male)   \n",
       "431     9  Oceania  2019        Gross enrollment ratio - Secondary (female)   \n",
       "432     9  Oceania  2019  Students enrolled in upper secondary education...   \n",
       "433     9  Oceania  2019  Gross enrollment ratio - Upper secondary level...   \n",
       "434     9  Oceania  2019  Gross enrollment ratio - Upper secondary level...   \n",
       "\n",
       "       Value  \n",
       "363  38467.0  \n",
       "364    102.1  \n",
       "365    101.3  \n",
       "366  65272.0  \n",
       "367     97.7  \n",
       "..       ...  \n",
       "430    102.9  \n",
       "431     95.9  \n",
       "432   1640.0  \n",
       "433    100.9  \n",
       "434     94.9  \n",
       "\n",
       "[72 rows x 5 columns]"
      ]
     },
     "execution_count": 21,
     "metadata": {},
     "output_type": "execute_result"
    }
   ],
   "source": [
    "continents = ['Africa', 'Americas', 'Asia', 'Australia and New Zealand', 'Oceania', 'Europe']\n",
    "\n",
    "df_reg_filt_cont = df_reg_filt[df_reg_filt['Region'].isin(continents)]\n",
    "df_reg_filt_cont"
   ]
  },
  {
   "cell_type": "markdown",
   "metadata": {},
   "source": [
    "# Data Visualization"
   ]
  },
  {
   "cell_type": "markdown",
   "metadata": {},
   "source": [
    "Functions for Plotting"
   ]
  },
  {
   "cell_type": "code",
   "execution_count": 22,
   "metadata": {},
   "outputs": [],
   "source": [
    "# helper function for formatting plot y-axis\n",
    "from matplotlib.ticker import FuncFormatter\n",
    "def thousand(x, pos):\n",
    "    'The two args are the value and tick position'\n",
    "    return '%1.1fK' % (x * 1e-3)\n",
    "\n",
    "format_tsd = FuncFormatter(thousand)\n",
    "\n",
    "# helper function for formatting plot y-axis\n",
    "from matplotlib.ticker import FuncFormatter\n",
    "def percentage(x, pos):\n",
    "    'The two args are the value and tick position'\n",
    "    return '%1.1f' % (x * 100)\n",
    "\n",
    "format_pct = FuncFormatter(percentage)\n",
    "\n",
    "\n",
    "# bar plot helper function\n",
    "def plot_bar(df, x, y, hue, xlabel=None, ylabel=None, title=None):\n",
    "\n",
    "    # set plot theme\n",
    "    sns.set_theme(style='white', context='talk')\n",
    "\n",
    "    # Initialize the matplotlib figure\n",
    "    fig, ax = plt.subplots()\n",
    "    fig.autofmt_xdate()\n",
    "\n",
    "    # plot bar chart\n",
    "    sns.barplot(\n",
    "        x=x, y=y, \n",
    "        hue=hue, data=df, ci=None, \n",
    "        ax=ax\n",
    "    )\n",
    "\n",
    "    # despine axes\n",
    "    sns.despine(left=True, bottom=True)\n",
    "\n",
    "    # matplotlib axis label\n",
    "    ax.set(xlabel=xlabel, ylabel=ylabel, title=title)\n",
    "\n",
    "    return plot_bar"
   ]
  },
  {
   "cell_type": "markdown",
   "metadata": {},
   "source": [
    "Student enrolled filtering and exploration"
   ]
  },
  {
   "cell_type": "code",
   "execution_count": 23,
   "metadata": {},
   "outputs": [
    {
     "data": {
      "text/html": [
       "<div>\n",
       "<style scoped>\n",
       "    .dataframe tbody tr th:only-of-type {\n",
       "        vertical-align: middle;\n",
       "    }\n",
       "\n",
       "    .dataframe tbody tr th {\n",
       "        vertical-align: top;\n",
       "    }\n",
       "\n",
       "    .dataframe thead th {\n",
       "        text-align: right;\n",
       "    }\n",
       "</style>\n",
       "<table border=\"1\" class=\"dataframe\">\n",
       "  <thead>\n",
       "    <tr style=\"text-align: right;\">\n",
       "      <th></th>\n",
       "      <th>Code</th>\n",
       "      <th>Region</th>\n",
       "      <th>Year</th>\n",
       "      <th>Series</th>\n",
       "      <th>Value</th>\n",
       "    </tr>\n",
       "  </thead>\n",
       "  <tbody>\n",
       "    <tr>\n",
       "      <th>363</th>\n",
       "      <td>150</td>\n",
       "      <td>Europe</td>\n",
       "      <td>2005</td>\n",
       "      <td>Students enrolled in primary education (thousa...</td>\n",
       "      <td>38467.0</td>\n",
       "    </tr>\n",
       "    <tr>\n",
       "      <th>366</th>\n",
       "      <td>150</td>\n",
       "      <td>Europe</td>\n",
       "      <td>2005</td>\n",
       "      <td>Students enrolled in secondary education (thou...</td>\n",
       "      <td>65272.0</td>\n",
       "    </tr>\n",
       "    <tr>\n",
       "      <th>369</th>\n",
       "      <td>150</td>\n",
       "      <td>Europe</td>\n",
       "      <td>2005</td>\n",
       "      <td>Students enrolled in upper secondary education...</td>\n",
       "      <td>28988.0</td>\n",
       "    </tr>\n",
       "    <tr>\n",
       "      <th>372</th>\n",
       "      <td>150</td>\n",
       "      <td>Europe</td>\n",
       "      <td>2010</td>\n",
       "      <td>Students enrolled in primary education (thousa...</td>\n",
       "      <td>36752.0</td>\n",
       "    </tr>\n",
       "    <tr>\n",
       "      <th>375</th>\n",
       "      <td>150</td>\n",
       "      <td>Europe</td>\n",
       "      <td>2010</td>\n",
       "      <td>Students enrolled in secondary education (thou...</td>\n",
       "      <td>58635.0</td>\n",
       "    </tr>\n",
       "  </tbody>\n",
       "</table>\n",
       "</div>"
      ],
      "text/plain": [
       "     Code  Region  Year                                             Series  \\\n",
       "363   150  Europe  2005  Students enrolled in primary education (thousa...   \n",
       "366   150  Europe  2005  Students enrolled in secondary education (thou...   \n",
       "369   150  Europe  2005  Students enrolled in upper secondary education...   \n",
       "372   150  Europe  2010  Students enrolled in primary education (thousa...   \n",
       "375   150  Europe  2010  Students enrolled in secondary education (thou...   \n",
       "\n",
       "       Value  \n",
       "363  38467.0  \n",
       "366  65272.0  \n",
       "369  28988.0  \n",
       "372  36752.0  \n",
       "375  58635.0  "
      ]
     },
     "execution_count": 23,
     "metadata": {},
     "output_type": "execute_result"
    }
   ],
   "source": [
    "std_enrol = ['Students enrolled in primary education (thousands)',\n",
    "             'Students enrolled in secondary education (thousands)',\n",
    "             'Students enrolled in upper secondary education (thousands)']\n",
    "\n",
    "df_reg_filt_stdenrol = df_reg_filt_cont[df_reg_filt_cont['Series'].isin(std_enrol)]\n",
    "df_reg_filt_stdenrol.head()"
   ]
  },
  {
   "cell_type": "markdown",
   "metadata": {},
   "source": [
    "Student enrollment by Region"
   ]
  },
  {
   "cell_type": "code",
   "execution_count": 24,
   "metadata": {},
   "outputs": [
    {
     "data": {
      "text/plain": [
       "<function __main__.plot_bar(df, x, y, hue, xlabel=None, ylabel=None, title=None)>"
      ]
     },
     "execution_count": 24,
     "metadata": {},
     "output_type": "execute_result"
    },
    {
     "data": {
      "image/png": "[encoded data removed]",
      "text/plain": [
       "<Figure size 864x648 with 1 Axes>"
      ]
     },
     "metadata": {},
     "output_type": "display_data"
    }
   ],
   "source": [
    "plot_bar(df=df_reg_filt_stdenrol,\n",
    "         x='Year', y='Value', hue='Region', \n",
    "         xlabel='Year', ylabel='Students enrolled (thousands)')"
   ]
  },
  {
   "cell_type": "markdown",
   "metadata": {},
   "source": [
    "Student enrollment by Series"
   ]
  },
  {
   "cell_type": "code",
   "execution_count": 25,
   "metadata": {},
   "outputs": [
    {
     "data": {
      "text/plain": [
       "<matplotlib.legend.Legend at 0x1ef32927070>"
      ]
     },
     "execution_count": 25,
     "metadata": {},
     "output_type": "execute_result"
    },
    {
     "data": {
      "image/png": "[encoded data removed]",
      "text/plain": [
       "<Figure size 864x648 with 1 Axes>"
      ]
     },
     "metadata": {},
     "output_type": "display_data"
    }
   ],
   "source": [
    "# initiate matplotlib figure\n",
    "fig, ax = plt.subplots()\n",
    "fig.autofmt_xdate()\n",
    "\n",
    "# set plot theme\n",
    "sns.set_theme(style='white', context='talk')\n",
    "\n",
    "# plot bar charts\n",
    "sns.barplot(\n",
    "    x='Year', y='Value', hue='Series',\n",
    "    data=df_reg_filt_stdenrol, ci=None, ax=ax,\n",
    ")\n",
    "\n",
    "# despine axes\n",
    "sns.despine(left=True, bottom=True)\n",
    "\n",
    "# matplotlib axis label\n",
    "ax.set(xlabel='Year', ylabel='Students enrolled (thousands)')\n",
    "\n",
    "# set y-axis formatter\n",
    "ax.yaxis.set_major_formatter(format_tsd)\n",
    "\n",
    "# add legend\n",
    "ax.legend(loc=1)"
   ]
  },
  {
   "cell_type": "markdown",
   "metadata": {},
   "source": [
    "Filter gross enrollment ratio and explore"
   ]
  },
  {
   "cell_type": "code",
   "execution_count": 26,
   "metadata": {},
   "outputs": [
    {
     "data": {
      "text/html": [
       "<div>\n",
       "<style scoped>\n",
       "    .dataframe tbody tr th:only-of-type {\n",
       "        vertical-align: middle;\n",
       "    }\n",
       "\n",
       "    .dataframe tbody tr th {\n",
       "        vertical-align: top;\n",
       "    }\n",
       "\n",
       "    .dataframe thead th {\n",
       "        text-align: right;\n",
       "    }\n",
       "</style>\n",
       "<table border=\"1\" class=\"dataframe\">\n",
       "  <thead>\n",
       "    <tr style=\"text-align: right;\">\n",
       "      <th></th>\n",
       "      <th>Code</th>\n",
       "      <th>Region</th>\n",
       "      <th>Year</th>\n",
       "      <th>Series</th>\n",
       "      <th>Value</th>\n",
       "    </tr>\n",
       "  </thead>\n",
       "  <tbody>\n",
       "    <tr>\n",
       "      <th>364</th>\n",
       "      <td>150</td>\n",
       "      <td>Europe</td>\n",
       "      <td>2005</td>\n",
       "      <td>Gross enrollment ratio - Primary (male)</td>\n",
       "      <td>102.1</td>\n",
       "    </tr>\n",
       "    <tr>\n",
       "      <th>365</th>\n",
       "      <td>150</td>\n",
       "      <td>Europe</td>\n",
       "      <td>2005</td>\n",
       "      <td>Gross enrollment ratio - Primary (female)</td>\n",
       "      <td>101.3</td>\n",
       "    </tr>\n",
       "    <tr>\n",
       "      <th>367</th>\n",
       "      <td>150</td>\n",
       "      <td>Europe</td>\n",
       "      <td>2005</td>\n",
       "      <td>Gross enrollment ratio - Secondary (male)</td>\n",
       "      <td>97.7</td>\n",
       "    </tr>\n",
       "    <tr>\n",
       "      <th>368</th>\n",
       "      <td>150</td>\n",
       "      <td>Europe</td>\n",
       "      <td>2005</td>\n",
       "      <td>Gross enrollment ratio - Secondary (female)</td>\n",
       "      <td>97.5</td>\n",
       "    </tr>\n",
       "    <tr>\n",
       "      <th>370</th>\n",
       "      <td>150</td>\n",
       "      <td>Europe</td>\n",
       "      <td>2005</td>\n",
       "      <td>Gross enrollment ratio - Upper secondary level...</td>\n",
       "      <td>98.1</td>\n",
       "    </tr>\n",
       "  </tbody>\n",
       "</table>\n",
       "</div>"
      ],
      "text/plain": [
       "     Code  Region  Year                                             Series  \\\n",
       "364   150  Europe  2005            Gross enrollment ratio - Primary (male)   \n",
       "365   150  Europe  2005          Gross enrollment ratio - Primary (female)   \n",
       "367   150  Europe  2005          Gross enrollment ratio - Secondary (male)   \n",
       "368   150  Europe  2005        Gross enrollment ratio - Secondary (female)   \n",
       "370   150  Europe  2005  Gross enrollment ratio - Upper secondary level...   \n",
       "\n",
       "     Value  \n",
       "364  102.1  \n",
       "365  101.3  \n",
       "367   97.7  \n",
       "368   97.5  \n",
       "370   98.1  "
      ]
     },
     "execution_count": 26,
     "metadata": {},
     "output_type": "execute_result"
    }
   ],
   "source": [
    "std_enrol_rat = ['Gross enrollment ratio - Primary (male)',\n",
    "                 'Gross enrollment ratio - Primary (female)',\n",
    "                 'Gross enrollment ratio - Secondary (male)',\n",
    "                 'Gross enrollment ratio - Secondary (female)',\n",
    "                 'Gross enrollment ratio - Upper secondary level (male)',\n",
    "                 'Gross enrollment ratio - Upper secondary level (female)']\n",
    "\n",
    "df_reg_filt_stdenrolrat = df_reg_filt_cont[df_reg_filt_cont['Series'].isin(std_enrol_rat)]\n",
    "df_reg_filt_stdenrolrat.head()"
   ]
  },
  {
   "cell_type": "markdown",
   "metadata": {},
   "source": [
    "Gross enrollment ratio by Region"
   ]
  },
  {
   "cell_type": "code",
   "execution_count": 27,
   "metadata": {},
   "outputs": [
    {
     "data": {
      "text/plain": [
       "<function __main__.plot_bar(df, x, y, hue, xlabel=None, ylabel=None, title=None)>"
      ]
     },
     "execution_count": 27,
     "metadata": {},
     "output_type": "execute_result"
    },
    {
     "data": {
      "image/png": "[encoded data removed]",
      "text/plain": [
       "<Figure size 864x648 with 1 Axes>"
      ]
     },
     "metadata": {},
     "output_type": "display_data"
    }
   ],
   "source": [
    "plot_bar(\n",
    "    df=df_reg_filt_stdenrolrat,\n",
    "    x='Year', y='Value', hue='Region',\n",
    "    xlabel='Year', ylabel='Gross enrollment ratio'\n",
    ")"
   ]
  },
  {
   "cell_type": "markdown",
   "metadata": {},
   "source": [
    "Gross enrollment ratio"
   ]
  },
  {
   "cell_type": "code",
   "execution_count": 28,
   "metadata": {},
   "outputs": [
    {
     "data": {
      "text/plain": [
       "<matplotlib.legend.Legend at 0x1ef32a157f0>"
      ]
     },
     "execution_count": 28,
     "metadata": {},
     "output_type": "execute_result"
    },
    {
     "data": {
      "image/png": "[encoded data removed]",
      "text/plain": [
       "<Figure size 1440x720 with 1 Axes>"
      ]
     },
     "metadata": {},
     "output_type": "display_data"
    }
   ],
   "source": [
    "# initiate matplot figure\n",
    "fig2, ax2 = plt.subplots(figsize=(20, 10))\n",
    "fig2.autofmt_xdate()\n",
    "\n",
    " # set plot theme\n",
    "sns.set_theme(style='white', context='talk')\n",
    "\n",
    "# plot bar chart\n",
    "sns.barplot(\n",
    "    x='Year', y='Value', \n",
    "    hue='Series', ci=None,\n",
    "    data=df_reg_filt_stdenrolrat)\n",
    "\n",
    "# label plot axis\n",
    "ax2.set(xlabel='Year', ylabel='Gross enrollment ratio')\n",
    "\n",
    " # despine axes\n",
    "sns.despine(left=True, bottom=True)\n",
    "\n",
    "# plot and label legend\n",
    "plt.legend(title='Series', loc=1, labels=['Primary (male)', 'Primary (female)', \n",
    "                                          'Secondary (male)', 'Secondary (female)', \n",
    "                                          'Upper secondary level (male)', 'Upper secondary level (female)'], fontsize=15)"
   ]
  }
 ],
 "metadata": {
  "interpreter": {
   "hash": "3fe9daace87ea8cb12e037f7452ad9bcd52f59aa894a611255d1461de3a9065e"
  },
  "kernelspec": {
   "display_name": "Python 3.9.7 ('DS')",
   "language": "python",
   "name": "python3"
  },
  "language_info": {
   "codemirror_mode": {
    "name": "ipython",
    "version": 3
   },
   "file_extension": ".py",
   "mimetype": "text/x-python",
   "name": "python",
   "nbconvert_exporter": "python",
   "pygments_lexer": "ipython3",
   "version": "3.9.7"
  },
  "orig_nbformat": 4
 },
 "nbformat": 4,
 "nbformat_minor": 2
}
