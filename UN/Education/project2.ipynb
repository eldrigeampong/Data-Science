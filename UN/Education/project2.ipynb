{
 "cells": [
  {
   "cell_type": "markdown",
   "metadata": {},
   "source": [
    "# Public expenditure on education"
   ]
  },
  {
   "cell_type": "markdown",
   "metadata": {},
   "source": [
    "# Import Libraries"
   ]
  },
  {
   "cell_type": "code",
   "execution_count": 1,
   "metadata": {},
   "outputs": [],
   "source": [
    "import numpy as np\n",
    "import pandas as pd\n",
    "import matplotlib.pyplot as plt\n",
    "import seaborn as sns\n",
    "import os\n",
    "import warnings"
   ]
  },
  {
   "cell_type": "markdown",
   "metadata": {},
   "source": [
    "# Options and Settings"
   ]
  },
  {
   "cell_type": "code",
   "execution_count": 2,
   "metadata": {},
   "outputs": [],
   "source": [
    "%matplotlib inline\n",
    "plt.style.use('ggplot')\n",
    "plt.rcParams['figure.autolayout'] = True\n",
    "plt.rcParams['figure.figsize'] = [12, 9]\n",
    "plt.rcParams['font.size'] = 12\n",
    "path = os.getcwd()                                         # get current working directory\n",
    "warnings.simplefilter('ignore')"
   ]
  },
  {
   "cell_type": "markdown",
   "metadata": {},
   "source": [
    "# Import Data"
   ]
  },
  {
   "cell_type": "code",
   "execution_count": 3,
   "metadata": {},
   "outputs": [],
   "source": [
    "filepath = os.path.join('datasets', 'Public expenditure on education.csv')\n",
    "df = pd.read_csv(filepath)"
   ]
  },
  {
   "cell_type": "markdown",
   "metadata": {},
   "source": [
    "# Head and Tail"
   ]
  },
  {
   "cell_type": "code",
   "execution_count": 4,
   "metadata": {},
   "outputs": [
    {
     "data": {
      "text/html": [
       "<div>\n",
       "<style scoped>\n",
       "    .dataframe tbody tr th:only-of-type {\n",
       "        vertical-align: middle;\n",
       "    }\n",
       "\n",
       "    .dataframe tbody tr th {\n",
       "        vertical-align: top;\n",
       "    }\n",
       "\n",
       "    .dataframe thead th {\n",
       "        text-align: right;\n",
       "    }\n",
       "</style>\n",
       "<table border=\"1\" class=\"dataframe\">\n",
       "  <thead>\n",
       "    <tr style=\"text-align: right;\">\n",
       "      <th></th>\n",
       "      <th>Region/Country/Area</th>\n",
       "      <th>Unnamed: 1</th>\n",
       "      <th>Year</th>\n",
       "      <th>Series</th>\n",
       "      <th>Value</th>\n",
       "      <th>Footnotes</th>\n",
       "      <th>Source</th>\n",
       "    </tr>\n",
       "  </thead>\n",
       "  <tbody>\n",
       "    <tr>\n",
       "      <th>0</th>\n",
       "      <td>4</td>\n",
       "      <td>Afghanistan</td>\n",
       "      <td>2010</td>\n",
       "      <td>Current expenditure other than staff compensat...</td>\n",
       "      <td>9.3</td>\n",
       "      <td>NaN</td>\n",
       "      <td>United Nations Educational, Scientific and Cul...</td>\n",
       "    </tr>\n",
       "    <tr>\n",
       "      <th>1</th>\n",
       "      <td>4</td>\n",
       "      <td>Afghanistan</td>\n",
       "      <td>2010</td>\n",
       "      <td>All staff compensation as % of total expenditu...</td>\n",
       "      <td>72.4</td>\n",
       "      <td>NaN</td>\n",
       "      <td>United Nations Educational, Scientific and Cul...</td>\n",
       "    </tr>\n",
       "    <tr>\n",
       "      <th>2</th>\n",
       "      <td>4</td>\n",
       "      <td>Afghanistan</td>\n",
       "      <td>2010</td>\n",
       "      <td>Capital expenditure as % of total expenditure ...</td>\n",
       "      <td>18.3</td>\n",
       "      <td>NaN</td>\n",
       "      <td>United Nations Educational, Scientific and Cul...</td>\n",
       "    </tr>\n",
       "    <tr>\n",
       "      <th>3</th>\n",
       "      <td>4</td>\n",
       "      <td>Afghanistan</td>\n",
       "      <td>2010</td>\n",
       "      <td>Public expenditure on education (% of GDP)</td>\n",
       "      <td>3.5</td>\n",
       "      <td>NaN</td>\n",
       "      <td>United Nations Educational, Scientific and Cul...</td>\n",
       "    </tr>\n",
       "    <tr>\n",
       "      <th>4</th>\n",
       "      <td>4</td>\n",
       "      <td>Afghanistan</td>\n",
       "      <td>2015</td>\n",
       "      <td>Current expenditure other than staff compensat...</td>\n",
       "      <td>9.0</td>\n",
       "      <td>NaN</td>\n",
       "      <td>United Nations Educational, Scientific and Cul...</td>\n",
       "    </tr>\n",
       "    <tr>\n",
       "      <th>...</th>\n",
       "      <td>...</td>\n",
       "      <td>...</td>\n",
       "      <td>...</td>\n",
       "      <td>...</td>\n",
       "      <td>...</td>\n",
       "      <td>...</td>\n",
       "      <td>...</td>\n",
       "    </tr>\n",
       "    <tr>\n",
       "      <th>2776</th>\n",
       "      <td>894</td>\n",
       "      <td>Zambia</td>\n",
       "      <td>2017</td>\n",
       "      <td>Public expenditure on education (% of GDP)</td>\n",
       "      <td>3.7</td>\n",
       "      <td>NaN</td>\n",
       "      <td>United Nations Educational, Scientific and Cul...</td>\n",
       "    </tr>\n",
       "    <tr>\n",
       "      <th>2777</th>\n",
       "      <td>894</td>\n",
       "      <td>Zambia</td>\n",
       "      <td>2018</td>\n",
       "      <td>Public expenditure on education (% of GDP)</td>\n",
       "      <td>4.6</td>\n",
       "      <td>Estimate.</td>\n",
       "      <td>United Nations Educational, Scientific and Cul...</td>\n",
       "    </tr>\n",
       "    <tr>\n",
       "      <th>2778</th>\n",
       "      <td>716</td>\n",
       "      <td>Zimbabwe</td>\n",
       "      <td>2010</td>\n",
       "      <td>Public expenditure on education (% of GDP)</td>\n",
       "      <td>1.5</td>\n",
       "      <td>NaN</td>\n",
       "      <td>United Nations Educational, Scientific and Cul...</td>\n",
       "    </tr>\n",
       "    <tr>\n",
       "      <th>2779</th>\n",
       "      <td>716</td>\n",
       "      <td>Zimbabwe</td>\n",
       "      <td>2014</td>\n",
       "      <td>Public expenditure on education (% of GDP)</td>\n",
       "      <td>6.1</td>\n",
       "      <td>NaN</td>\n",
       "      <td>United Nations Educational, Scientific and Cul...</td>\n",
       "    </tr>\n",
       "    <tr>\n",
       "      <th>2780</th>\n",
       "      <td>716</td>\n",
       "      <td>Zimbabwe</td>\n",
       "      <td>2018</td>\n",
       "      <td>Public expenditure on education (% of GDP)</td>\n",
       "      <td>5.9</td>\n",
       "      <td>Estimate.</td>\n",
       "      <td>United Nations Educational, Scientific and Cul...</td>\n",
       "    </tr>\n",
       "  </tbody>\n",
       "</table>\n",
       "<p>2781 rows × 7 columns</p>\n",
       "</div>"
      ],
      "text/plain": [
       "      Region/Country/Area   Unnamed: 1  Year  \\\n",
       "0                       4  Afghanistan  2010   \n",
       "1                       4  Afghanistan  2010   \n",
       "2                       4  Afghanistan  2010   \n",
       "3                       4  Afghanistan  2010   \n",
       "4                       4  Afghanistan  2015   \n",
       "...                   ...          ...   ...   \n",
       "2776                  894       Zambia  2017   \n",
       "2777                  894       Zambia  2018   \n",
       "2778                  716     Zimbabwe  2010   \n",
       "2779                  716     Zimbabwe  2014   \n",
       "2780                  716     Zimbabwe  2018   \n",
       "\n",
       "                                                 Series  Value  Footnotes  \\\n",
       "0     Current expenditure other than staff compensat...    9.3        NaN   \n",
       "1     All staff compensation as % of total expenditu...   72.4        NaN   \n",
       "2     Capital expenditure as % of total expenditure ...   18.3        NaN   \n",
       "3            Public expenditure on education (% of GDP)    3.5        NaN   \n",
       "4     Current expenditure other than staff compensat...    9.0        NaN   \n",
       "...                                                 ...    ...        ...   \n",
       "2776         Public expenditure on education (% of GDP)    3.7        NaN   \n",
       "2777         Public expenditure on education (% of GDP)    4.6  Estimate.   \n",
       "2778         Public expenditure on education (% of GDP)    1.5        NaN   \n",
       "2779         Public expenditure on education (% of GDP)    6.1        NaN   \n",
       "2780         Public expenditure on education (% of GDP)    5.9  Estimate.   \n",
       "\n",
       "                                                 Source  \n",
       "0     United Nations Educational, Scientific and Cul...  \n",
       "1     United Nations Educational, Scientific and Cul...  \n",
       "2     United Nations Educational, Scientific and Cul...  \n",
       "3     United Nations Educational, Scientific and Cul...  \n",
       "4     United Nations Educational, Scientific and Cul...  \n",
       "...                                                 ...  \n",
       "2776  United Nations Educational, Scientific and Cul...  \n",
       "2777  United Nations Educational, Scientific and Cul...  \n",
       "2778  United Nations Educational, Scientific and Cul...  \n",
       "2779  United Nations Educational, Scientific and Cul...  \n",
       "2780  United Nations Educational, Scientific and Cul...  \n",
       "\n",
       "[2781 rows x 7 columns]"
      ]
     },
     "execution_count": 4,
     "metadata": {},
     "output_type": "execute_result"
    }
   ],
   "source": [
    "df"
   ]
  },
  {
   "cell_type": "code",
   "execution_count": 5,
   "metadata": {},
   "outputs": [
    {
     "data": {
      "text/plain": [
       "(2781, 7)"
      ]
     },
     "execution_count": 5,
     "metadata": {},
     "output_type": "execute_result"
    }
   ],
   "source": [
    "df.shape"
   ]
  },
  {
   "cell_type": "code",
   "execution_count": 6,
   "metadata": {},
   "outputs": [
    {
     "name": "stdout",
     "output_type": "stream",
     "text": [
      "<class 'pandas.core.frame.DataFrame'>\n",
      "RangeIndex: 2781 entries, 0 to 2780\n",
      "Data columns (total 7 columns):\n",
      " #   Column               Non-Null Count  Dtype  \n",
      "---  ------               --------------  -----  \n",
      " 0   Region/Country/Area  2781 non-null   int64  \n",
      " 1   Unnamed: 1           2781 non-null   object \n",
      " 2   Year                 2781 non-null   int64  \n",
      " 3   Series               2781 non-null   object \n",
      " 4   Value                2781 non-null   float64\n",
      " 5   Footnotes            97 non-null     object \n",
      " 6   Source               2781 non-null   object \n",
      "dtypes: float64(1), int64(2), object(4)\n",
      "memory usage: 152.2+ KB\n"
     ]
    }
   ],
   "source": [
    "df.info()"
   ]
  },
  {
   "cell_type": "code",
   "execution_count": 7,
   "metadata": {},
   "outputs": [
    {
     "data": {
      "text/html": [
       "<div>\n",
       "<style scoped>\n",
       "    .dataframe tbody tr th:only-of-type {\n",
       "        vertical-align: middle;\n",
       "    }\n",
       "\n",
       "    .dataframe tbody tr th {\n",
       "        vertical-align: top;\n",
       "    }\n",
       "\n",
       "    .dataframe thead th {\n",
       "        text-align: right;\n",
       "    }\n",
       "</style>\n",
       "<table border=\"1\" class=\"dataframe\">\n",
       "  <thead>\n",
       "    <tr style=\"text-align: right;\">\n",
       "      <th></th>\n",
       "      <th>Code</th>\n",
       "      <th>Region/Country/Area</th>\n",
       "      <th>Year</th>\n",
       "      <th>Series</th>\n",
       "      <th>Value</th>\n",
       "      <th>Footnotes</th>\n",
       "      <th>Source</th>\n",
       "    </tr>\n",
       "  </thead>\n",
       "  <tbody>\n",
       "    <tr>\n",
       "      <th>0</th>\n",
       "      <td>4</td>\n",
       "      <td>Afghanistan</td>\n",
       "      <td>2010</td>\n",
       "      <td>Current expenditure other than staff compensat...</td>\n",
       "      <td>9.3</td>\n",
       "      <td>NaN</td>\n",
       "      <td>United Nations Educational, Scientific and Cul...</td>\n",
       "    </tr>\n",
       "    <tr>\n",
       "      <th>1</th>\n",
       "      <td>4</td>\n",
       "      <td>Afghanistan</td>\n",
       "      <td>2010</td>\n",
       "      <td>All staff compensation as % of total expenditu...</td>\n",
       "      <td>72.4</td>\n",
       "      <td>NaN</td>\n",
       "      <td>United Nations Educational, Scientific and Cul...</td>\n",
       "    </tr>\n",
       "    <tr>\n",
       "      <th>2</th>\n",
       "      <td>4</td>\n",
       "      <td>Afghanistan</td>\n",
       "      <td>2010</td>\n",
       "      <td>Capital expenditure as % of total expenditure ...</td>\n",
       "      <td>18.3</td>\n",
       "      <td>NaN</td>\n",
       "      <td>United Nations Educational, Scientific and Cul...</td>\n",
       "    </tr>\n",
       "    <tr>\n",
       "      <th>3</th>\n",
       "      <td>4</td>\n",
       "      <td>Afghanistan</td>\n",
       "      <td>2010</td>\n",
       "      <td>Public expenditure on education (% of GDP)</td>\n",
       "      <td>3.5</td>\n",
       "      <td>NaN</td>\n",
       "      <td>United Nations Educational, Scientific and Cul...</td>\n",
       "    </tr>\n",
       "    <tr>\n",
       "      <th>4</th>\n",
       "      <td>4</td>\n",
       "      <td>Afghanistan</td>\n",
       "      <td>2015</td>\n",
       "      <td>Current expenditure other than staff compensat...</td>\n",
       "      <td>9.0</td>\n",
       "      <td>NaN</td>\n",
       "      <td>United Nations Educational, Scientific and Cul...</td>\n",
       "    </tr>\n",
       "    <tr>\n",
       "      <th>...</th>\n",
       "      <td>...</td>\n",
       "      <td>...</td>\n",
       "      <td>...</td>\n",
       "      <td>...</td>\n",
       "      <td>...</td>\n",
       "      <td>...</td>\n",
       "      <td>...</td>\n",
       "    </tr>\n",
       "    <tr>\n",
       "      <th>2776</th>\n",
       "      <td>894</td>\n",
       "      <td>Zambia</td>\n",
       "      <td>2017</td>\n",
       "      <td>Public expenditure on education (% of GDP)</td>\n",
       "      <td>3.7</td>\n",
       "      <td>NaN</td>\n",
       "      <td>United Nations Educational, Scientific and Cul...</td>\n",
       "    </tr>\n",
       "    <tr>\n",
       "      <th>2777</th>\n",
       "      <td>894</td>\n",
       "      <td>Zambia</td>\n",
       "      <td>2018</td>\n",
       "      <td>Public expenditure on education (% of GDP)</td>\n",
       "      <td>4.6</td>\n",
       "      <td>Estimate.</td>\n",
       "      <td>United Nations Educational, Scientific and Cul...</td>\n",
       "    </tr>\n",
       "    <tr>\n",
       "      <th>2778</th>\n",
       "      <td>716</td>\n",
       "      <td>Zimbabwe</td>\n",
       "      <td>2010</td>\n",
       "      <td>Public expenditure on education (% of GDP)</td>\n",
       "      <td>1.5</td>\n",
       "      <td>NaN</td>\n",
       "      <td>United Nations Educational, Scientific and Cul...</td>\n",
       "    </tr>\n",
       "    <tr>\n",
       "      <th>2779</th>\n",
       "      <td>716</td>\n",
       "      <td>Zimbabwe</td>\n",
       "      <td>2014</td>\n",
       "      <td>Public expenditure on education (% of GDP)</td>\n",
       "      <td>6.1</td>\n",
       "      <td>NaN</td>\n",
       "      <td>United Nations Educational, Scientific and Cul...</td>\n",
       "    </tr>\n",
       "    <tr>\n",
       "      <th>2780</th>\n",
       "      <td>716</td>\n",
       "      <td>Zimbabwe</td>\n",
       "      <td>2018</td>\n",
       "      <td>Public expenditure on education (% of GDP)</td>\n",
       "      <td>5.9</td>\n",
       "      <td>Estimate.</td>\n",
       "      <td>United Nations Educational, Scientific and Cul...</td>\n",
       "    </tr>\n",
       "  </tbody>\n",
       "</table>\n",
       "<p>2781 rows × 7 columns</p>\n",
       "</div>"
      ],
      "text/plain": [
       "      Code Region/Country/Area  Year  \\\n",
       "0        4         Afghanistan  2010   \n",
       "1        4         Afghanistan  2010   \n",
       "2        4         Afghanistan  2010   \n",
       "3        4         Afghanistan  2010   \n",
       "4        4         Afghanistan  2015   \n",
       "...    ...                 ...   ...   \n",
       "2776   894              Zambia  2017   \n",
       "2777   894              Zambia  2018   \n",
       "2778   716            Zimbabwe  2010   \n",
       "2779   716            Zimbabwe  2014   \n",
       "2780   716            Zimbabwe  2018   \n",
       "\n",
       "                                                 Series  Value  Footnotes  \\\n",
       "0     Current expenditure other than staff compensat...    9.3        NaN   \n",
       "1     All staff compensation as % of total expenditu...   72.4        NaN   \n",
       "2     Capital expenditure as % of total expenditure ...   18.3        NaN   \n",
       "3            Public expenditure on education (% of GDP)    3.5        NaN   \n",
       "4     Current expenditure other than staff compensat...    9.0        NaN   \n",
       "...                                                 ...    ...        ...   \n",
       "2776         Public expenditure on education (% of GDP)    3.7        NaN   \n",
       "2777         Public expenditure on education (% of GDP)    4.6  Estimate.   \n",
       "2778         Public expenditure on education (% of GDP)    1.5        NaN   \n",
       "2779         Public expenditure on education (% of GDP)    6.1        NaN   \n",
       "2780         Public expenditure on education (% of GDP)    5.9  Estimate.   \n",
       "\n",
       "                                                 Source  \n",
       "0     United Nations Educational, Scientific and Cul...  \n",
       "1     United Nations Educational, Scientific and Cul...  \n",
       "2     United Nations Educational, Scientific and Cul...  \n",
       "3     United Nations Educational, Scientific and Cul...  \n",
       "4     United Nations Educational, Scientific and Cul...  \n",
       "...                                                 ...  \n",
       "2776  United Nations Educational, Scientific and Cul...  \n",
       "2777  United Nations Educational, Scientific and Cul...  \n",
       "2778  United Nations Educational, Scientific and Cul...  \n",
       "2779  United Nations Educational, Scientific and Cul...  \n",
       "2780  United Nations Educational, Scientific and Cul...  \n",
       "\n",
       "[2781 rows x 7 columns]"
      ]
     },
     "execution_count": 7,
     "metadata": {},
     "output_type": "execute_result"
    }
   ],
   "source": [
    "df.rename(columns={\n",
    "    'Region/Country/Area': 'Code',\n",
    "    'Unnamed: 1': 'Region/Country/Area',\n",
    "}, inplace=True)\n",
    "\n",
    "df"
   ]
  },
  {
   "cell_type": "code",
   "execution_count": 8,
   "metadata": {},
   "outputs": [
    {
     "data": {
      "text/html": [
       "<div>\n",
       "<style scoped>\n",
       "    .dataframe tbody tr th:only-of-type {\n",
       "        vertical-align: middle;\n",
       "    }\n",
       "\n",
       "    .dataframe tbody tr th {\n",
       "        vertical-align: top;\n",
       "    }\n",
       "\n",
       "    .dataframe thead th {\n",
       "        text-align: right;\n",
       "    }\n",
       "</style>\n",
       "<table border=\"1\" class=\"dataframe\">\n",
       "  <thead>\n",
       "    <tr style=\"text-align: right;\">\n",
       "      <th></th>\n",
       "      <th>Code</th>\n",
       "      <th>Region/Country/Area</th>\n",
       "      <th>Year</th>\n",
       "      <th>Series</th>\n",
       "      <th>Value</th>\n",
       "    </tr>\n",
       "  </thead>\n",
       "  <tbody>\n",
       "    <tr>\n",
       "      <th>0</th>\n",
       "      <td>4</td>\n",
       "      <td>Afghanistan</td>\n",
       "      <td>2010</td>\n",
       "      <td>Current expenditure other than staff compensat...</td>\n",
       "      <td>9.3</td>\n",
       "    </tr>\n",
       "    <tr>\n",
       "      <th>1</th>\n",
       "      <td>4</td>\n",
       "      <td>Afghanistan</td>\n",
       "      <td>2010</td>\n",
       "      <td>All staff compensation as % of total expenditu...</td>\n",
       "      <td>72.4</td>\n",
       "    </tr>\n",
       "    <tr>\n",
       "      <th>2</th>\n",
       "      <td>4</td>\n",
       "      <td>Afghanistan</td>\n",
       "      <td>2010</td>\n",
       "      <td>Capital expenditure as % of total expenditure ...</td>\n",
       "      <td>18.3</td>\n",
       "    </tr>\n",
       "    <tr>\n",
       "      <th>3</th>\n",
       "      <td>4</td>\n",
       "      <td>Afghanistan</td>\n",
       "      <td>2010</td>\n",
       "      <td>Public expenditure on education (% of GDP)</td>\n",
       "      <td>3.5</td>\n",
       "    </tr>\n",
       "    <tr>\n",
       "      <th>4</th>\n",
       "      <td>4</td>\n",
       "      <td>Afghanistan</td>\n",
       "      <td>2015</td>\n",
       "      <td>Current expenditure other than staff compensat...</td>\n",
       "      <td>9.0</td>\n",
       "    </tr>\n",
       "  </tbody>\n",
       "</table>\n",
       "</div>"
      ],
      "text/plain": [
       "   Code Region/Country/Area  Year  \\\n",
       "0     4         Afghanistan  2010   \n",
       "1     4         Afghanistan  2010   \n",
       "2     4         Afghanistan  2010   \n",
       "3     4         Afghanistan  2010   \n",
       "4     4         Afghanistan  2015   \n",
       "\n",
       "                                              Series  Value  \n",
       "0  Current expenditure other than staff compensat...    9.3  \n",
       "1  All staff compensation as % of total expenditu...   72.4  \n",
       "2  Capital expenditure as % of total expenditure ...   18.3  \n",
       "3         Public expenditure on education (% of GDP)    3.5  \n",
       "4  Current expenditure other than staff compensat...    9.0  "
      ]
     },
     "execution_count": 8,
     "metadata": {},
     "output_type": "execute_result"
    }
   ],
   "source": [
    "df1 = df[['Code', 'Region/Country/Area', 'Year', 'Series', 'Value']]\n",
    "df1.head()"
   ]
  },
  {
   "cell_type": "code",
   "execution_count": 9,
   "metadata": {},
   "outputs": [
    {
     "data": {
      "text/plain": [
       "(2781, 5)"
      ]
     },
     "execution_count": 9,
     "metadata": {},
     "output_type": "execute_result"
    }
   ],
   "source": [
    "df1.shape"
   ]
  },
  {
   "cell_type": "code",
   "execution_count": 10,
   "metadata": {},
   "outputs": [
    {
     "name": "stdout",
     "output_type": "stream",
     "text": [
      "<class 'pandas.core.frame.DataFrame'>\n",
      "RangeIndex: 2781 entries, 0 to 2780\n",
      "Data columns (total 5 columns):\n",
      " #   Column               Non-Null Count  Dtype  \n",
      "---  ------               --------------  -----  \n",
      " 0   Code                 2781 non-null   int64  \n",
      " 1   Region/Country/Area  2781 non-null   object \n",
      " 2   Year                 2781 non-null   int64  \n",
      " 3   Series               2781 non-null   object \n",
      " 4   Value                2781 non-null   float64\n",
      "dtypes: float64(1), int64(2), object(2)\n",
      "memory usage: 108.8+ KB\n"
     ]
    }
   ],
   "source": [
    "df1.info()"
   ]
  },
  {
   "cell_type": "code",
   "execution_count": 11,
   "metadata": {},
   "outputs": [
    {
     "data": {
      "text/html": [
       "<div>\n",
       "<style scoped>\n",
       "    .dataframe tbody tr th:only-of-type {\n",
       "        vertical-align: middle;\n",
       "    }\n",
       "\n",
       "    .dataframe tbody tr th {\n",
       "        vertical-align: top;\n",
       "    }\n",
       "\n",
       "    .dataframe thead th {\n",
       "        text-align: right;\n",
       "    }\n",
       "</style>\n",
       "<table border=\"1\" class=\"dataframe\">\n",
       "  <thead>\n",
       "    <tr style=\"text-align: right;\">\n",
       "      <th></th>\n",
       "      <th>Region/Country/Area</th>\n",
       "      <th>Series</th>\n",
       "    </tr>\n",
       "  </thead>\n",
       "  <tbody>\n",
       "    <tr>\n",
       "      <th>count</th>\n",
       "      <td>2781</td>\n",
       "      <td>2781</td>\n",
       "    </tr>\n",
       "    <tr>\n",
       "      <th>unique</th>\n",
       "      <td>201</td>\n",
       "      <td>7</td>\n",
       "    </tr>\n",
       "    <tr>\n",
       "      <th>top</th>\n",
       "      <td>Estonia</td>\n",
       "      <td>Public expenditure on education (% of GDP)</td>\n",
       "    </tr>\n",
       "    <tr>\n",
       "      <th>freq</th>\n",
       "      <td>38</td>\n",
       "      <td>742</td>\n",
       "    </tr>\n",
       "  </tbody>\n",
       "</table>\n",
       "</div>"
      ],
      "text/plain": [
       "       Region/Country/Area                                      Series\n",
       "count                 2781                                        2781\n",
       "unique                 201                                           7\n",
       "top                Estonia  Public expenditure on education (% of GDP)\n",
       "freq                    38                                         742"
      ]
     },
     "execution_count": 11,
     "metadata": {},
     "output_type": "execute_result"
    }
   ],
   "source": [
    "df1.describe(include='object')"
   ]
  },
  {
   "cell_type": "code",
   "execution_count": 12,
   "metadata": {},
   "outputs": [
    {
     "data": {
      "text/plain": [
       "Estonia                38\n",
       "Malaysia               37\n",
       "Jamaica                34\n",
       "Argentina              34\n",
       "Slovenia               32\n",
       "                       ..\n",
       "Papua New Guinea        1\n",
       "Palau                   1\n",
       "Trinidad and Tobago     1\n",
       "Tonga                   1\n",
       "Algeria                 1\n",
       "Name: Region/Country/Area, Length: 201, dtype: int64"
      ]
     },
     "execution_count": 12,
     "metadata": {},
     "output_type": "execute_result"
    }
   ],
   "source": [
    "df1['Region/Country/Area'].value_counts()"
   ]
  },
  {
   "cell_type": "code",
   "execution_count": 13,
   "metadata": {},
   "outputs": [
    {
     "data": {
      "text/plain": [
       "Public expenditure on education (% of GDP)                                                                742\n",
       "Capital expenditure as % of total expenditure in public institutions (%)                                  486\n",
       "All staff compensation as % of total expenditure in public institutions (%)                               467\n",
       "Current expenditure other than staff compensation as % of total expenditure in public institutions (%)    461\n",
       "Basic access to computers by level of education: Upper secondary                                          209\n",
       "Basic access to computers by level of education: Primary                                                  209\n",
       "Basic access to computers by level of education: Lower secondary                                          207\n",
       "Name: Series, dtype: int64"
      ]
     },
     "execution_count": 13,
     "metadata": {},
     "output_type": "execute_result"
    }
   ],
   "source": [
    "df1['Series'].value_counts()"
   ]
  },
  {
   "cell_type": "markdown",
   "metadata": {},
   "source": [
    "# Data Cleaning"
   ]
  },
  {
   "cell_type": "code",
   "execution_count": 14,
   "metadata": {},
   "outputs": [
    {
     "data": {
      "text/plain": [
       "array(['Afghanistan', 'Albania', 'Algeria', 'American Samoa', 'Andorra',\n",
       "       'Angola', 'Anguilla', 'Antigua and Barbuda', 'Argentina',\n",
       "       'Armenia', 'Aruba', 'Australia', 'Austria', 'Azerbaijan',\n",
       "       'Bahamas', 'Bahrain', 'Bangladesh', 'Barbados', 'Belarus',\n",
       "       'Belgium', 'Belize', 'Benin', 'Bermuda', 'Bhutan',\n",
       "       'Bolivia (Plurin. State of)', 'Botswana', 'Brazil',\n",
       "       'British Virgin Islands', 'Brunei Darussalam', 'Bulgaria',\n",
       "       'Burkina Faso', 'Burundi', 'Cabo Verde', 'Cambodia', 'Cameroon',\n",
       "       'Canada', 'Cayman Islands', 'Central African Republic', 'Chad',\n",
       "       'Chile', 'China', 'China, Hong Kong SAR', 'China, Macao SAR',\n",
       "       'Colombia', 'Comoros', 'Congo', 'Cook Islands', 'Costa Rica',\n",
       "       'Côte d’Ivoire', 'Croatia', 'Cuba', 'Curaçao', 'Cyprus', 'Czechia',\n",
       "       'Dem. Rep. of the Congo', 'Denmark', 'Djibouti', 'Dominica',\n",
       "       'Dominican Republic', 'Ecuador', 'Egypt', 'El Salvador', 'Eritrea',\n",
       "       'Estonia', 'Eswatini', 'Ethiopia', 'Fiji', 'Finland', 'France',\n",
       "       'Gabon', 'Gambia', 'Georgia', 'Germany', 'Ghana', 'Gibraltar',\n",
       "       'Greece', 'Grenada', 'Guatemala', 'Guinea', 'Guinea-Bissau',\n",
       "       'Guyana', 'Haiti', 'Honduras', 'Hungary', 'Iceland', 'India',\n",
       "       'Indonesia', 'Iran (Islamic Republic of)', 'Ireland', 'Israel',\n",
       "       'Italy', 'Jamaica', 'Japan', 'Jordan', 'Kazakhstan', 'Kenya',\n",
       "       'Kiribati', 'Kuwait', 'Kyrgyzstan', \"Lao People's Dem. Rep.\",\n",
       "       'Latvia', 'Lebanon', 'Lesotho', 'Liberia', 'Liechtenstein',\n",
       "       'Lithuania', 'Luxembourg', 'Madagascar', 'Malawi', 'Malaysia',\n",
       "       'Maldives', 'Mali', 'Malta', 'Marshall Islands', 'Mauritania',\n",
       "       'Mauritius', 'Mexico', 'Micronesia (Fed. States of)', 'Monaco',\n",
       "       'Mongolia', 'Montserrat', 'Morocco', 'Mozambique', 'Myanmar',\n",
       "       'Namibia', 'Nauru', 'Nepal', 'Netherlands', 'New Zealand',\n",
       "       'Nicaragua', 'Niger', 'Niue', 'North Macedonia', 'Norway', 'Oman',\n",
       "       'Pakistan', 'Palau', 'Panama', 'Papua New Guinea', 'Paraguay',\n",
       "       'Peru', 'Philippines', 'Poland', 'Portugal', 'Puerto Rico',\n",
       "       'Qatar', 'Republic of Korea', 'Republic of Moldova', 'Romania',\n",
       "       'Russian Federation', 'Rwanda', 'Saint Kitts and Nevis',\n",
       "       'Saint Lucia', 'Saint Vincent & Grenadines', 'Samoa', 'San Marino',\n",
       "       'Sao Tome and Principe', 'Saudi Arabia', 'Senegal', 'Serbia',\n",
       "       'Seychelles', 'Sierra Leone', 'Singapore',\n",
       "       'Sint Maarten (Dutch part)', 'Slovakia', 'Slovenia',\n",
       "       'Solomon Islands', 'South Africa', 'South Sudan', 'Spain',\n",
       "       'Sri Lanka', 'State of Palestine', 'Sudan', 'Sweden',\n",
       "       'Switzerland', 'Syrian Arab Republic', 'Tajikistan', 'Thailand',\n",
       "       'Timor-Leste', 'Togo', 'Tonga', 'Trinidad and Tobago', 'Tunisia',\n",
       "       'Turkey', 'Turkmenistan', 'Turks and Caicos Islands', 'Tuvalu',\n",
       "       'Uganda', 'Ukraine', 'United Arab Emirates', 'United Kingdom',\n",
       "       'United Rep. of Tanzania', 'United States of America', 'Uruguay',\n",
       "       'Uzbekistan', 'Vanuatu', 'Venezuela (Boliv. Rep. of)', 'Viet Nam',\n",
       "       'Yemen', 'Zambia', 'Zimbabwe'], dtype=object)"
      ]
     },
     "execution_count": 14,
     "metadata": {},
     "output_type": "execute_result"
    }
   ],
   "source": [
    "df1['Region/Country/Area'].replace(\n",
    "    {'C�te d�Ivoire': \"Côte d’Ivoire\",\n",
    "    'Cura�ao': 'Curaçao'}, inplace=True\n",
    ")\n",
    "\n",
    "df1['Region/Country/Area'].unique()"
   ]
  },
  {
   "cell_type": "code",
   "execution_count": 15,
   "metadata": {},
   "outputs": [
    {
     "data": {
      "text/plain": [
       "233    38\n",
       "458    37\n",
       "388    34\n",
       "32     34\n",
       "705    32\n",
       "       ..\n",
       "598     1\n",
       "585     1\n",
       "780     1\n",
       "776     1\n",
       "12      1\n",
       "Name: Code, Length: 201, dtype: int64"
      ]
     },
     "execution_count": 15,
     "metadata": {},
     "output_type": "execute_result"
    }
   ],
   "source": [
    "df1['Code'].value_counts()"
   ]
  },
  {
   "cell_type": "code",
   "execution_count": 16,
   "metadata": {},
   "outputs": [
    {
     "data": {
      "text/plain": [
       "2010    459\n",
       "2015    404\n",
       "2017    334\n",
       "2005    316\n",
       "2018    301\n",
       "2016    217\n",
       "2019     96\n",
       "2014     91\n",
       "2013     86\n",
       "2004     85\n",
       "2009     71\n",
       "2011     56\n",
       "2008     45\n",
       "2012     44\n",
       "2002     42\n",
       "2006     36\n",
       "2000     34\n",
       "2007     24\n",
       "2003     20\n",
       "2001     20\n",
       "Name: Year, dtype: int64"
      ]
     },
     "execution_count": 16,
     "metadata": {},
     "output_type": "execute_result"
    }
   ],
   "source": [
    "df1['Year'].value_counts()"
   ]
  },
  {
   "cell_type": "code",
   "execution_count": 17,
   "metadata": {},
   "outputs": [
    {
     "data": {
      "text/plain": [
       "count    2781.000000\n",
       "mean       36.685257\n",
       "std        37.020624\n",
       "min         0.000000\n",
       "25%         5.000000\n",
       "50%        16.900000\n",
       "75%        71.700000\n",
       "max       100.000000\n",
       "Name: Value, dtype: float64"
      ]
     },
     "execution_count": 17,
     "metadata": {},
     "output_type": "execute_result"
    }
   ],
   "source": [
    "df1['Value'].describe()"
   ]
  },
  {
   "cell_type": "markdown",
   "metadata": {},
   "source": [
    "# Missing Values Exploration"
   ]
  },
  {
   "cell_type": "code",
   "execution_count": 18,
   "metadata": {},
   "outputs": [
    {
     "data": {
      "text/plain": [
       "Code                   0\n",
       "Region/Country/Area    0\n",
       "Year                   0\n",
       "Series                 0\n",
       "Value                  0\n",
       "dtype: int64"
      ]
     },
     "execution_count": 18,
     "metadata": {},
     "output_type": "execute_result"
    }
   ],
   "source": [
    "df1.isna().sum()"
   ]
  },
  {
   "cell_type": "code",
   "execution_count": 19,
   "metadata": {},
   "outputs": [
    {
     "data": {
      "text/html": [
       "<div>\n",
       "<style scoped>\n",
       "    .dataframe tbody tr th:only-of-type {\n",
       "        vertical-align: middle;\n",
       "    }\n",
       "\n",
       "    .dataframe tbody tr th {\n",
       "        vertical-align: top;\n",
       "    }\n",
       "\n",
       "    .dataframe thead th {\n",
       "        text-align: right;\n",
       "    }\n",
       "</style>\n",
       "<table border=\"1\" class=\"dataframe\">\n",
       "  <thead>\n",
       "    <tr style=\"text-align: right;\">\n",
       "      <th></th>\n",
       "      <th>Code</th>\n",
       "      <th>Country/Area</th>\n",
       "      <th>Year</th>\n",
       "      <th>Series</th>\n",
       "      <th>Value</th>\n",
       "    </tr>\n",
       "  </thead>\n",
       "  <tbody>\n",
       "    <tr>\n",
       "      <th>0</th>\n",
       "      <td>4</td>\n",
       "      <td>Afghanistan</td>\n",
       "      <td>2010</td>\n",
       "      <td>Current expenditure other than staff compensat...</td>\n",
       "      <td>9.3</td>\n",
       "    </tr>\n",
       "    <tr>\n",
       "      <th>1</th>\n",
       "      <td>4</td>\n",
       "      <td>Afghanistan</td>\n",
       "      <td>2010</td>\n",
       "      <td>All staff compensation as % of total expenditu...</td>\n",
       "      <td>72.4</td>\n",
       "    </tr>\n",
       "    <tr>\n",
       "      <th>2</th>\n",
       "      <td>4</td>\n",
       "      <td>Afghanistan</td>\n",
       "      <td>2010</td>\n",
       "      <td>Capital expenditure as % of total expenditure ...</td>\n",
       "      <td>18.3</td>\n",
       "    </tr>\n",
       "    <tr>\n",
       "      <th>3</th>\n",
       "      <td>4</td>\n",
       "      <td>Afghanistan</td>\n",
       "      <td>2010</td>\n",
       "      <td>Public expenditure on education (% of GDP)</td>\n",
       "      <td>3.5</td>\n",
       "    </tr>\n",
       "    <tr>\n",
       "      <th>4</th>\n",
       "      <td>4</td>\n",
       "      <td>Afghanistan</td>\n",
       "      <td>2015</td>\n",
       "      <td>Current expenditure other than staff compensat...</td>\n",
       "      <td>9.0</td>\n",
       "    </tr>\n",
       "    <tr>\n",
       "      <th>...</th>\n",
       "      <td>...</td>\n",
       "      <td>...</td>\n",
       "      <td>...</td>\n",
       "      <td>...</td>\n",
       "      <td>...</td>\n",
       "    </tr>\n",
       "    <tr>\n",
       "      <th>2776</th>\n",
       "      <td>894</td>\n",
       "      <td>Zambia</td>\n",
       "      <td>2017</td>\n",
       "      <td>Public expenditure on education (% of GDP)</td>\n",
       "      <td>3.7</td>\n",
       "    </tr>\n",
       "    <tr>\n",
       "      <th>2777</th>\n",
       "      <td>894</td>\n",
       "      <td>Zambia</td>\n",
       "      <td>2018</td>\n",
       "      <td>Public expenditure on education (% of GDP)</td>\n",
       "      <td>4.6</td>\n",
       "    </tr>\n",
       "    <tr>\n",
       "      <th>2778</th>\n",
       "      <td>716</td>\n",
       "      <td>Zimbabwe</td>\n",
       "      <td>2010</td>\n",
       "      <td>Public expenditure on education (% of GDP)</td>\n",
       "      <td>1.5</td>\n",
       "    </tr>\n",
       "    <tr>\n",
       "      <th>2779</th>\n",
       "      <td>716</td>\n",
       "      <td>Zimbabwe</td>\n",
       "      <td>2014</td>\n",
       "      <td>Public expenditure on education (% of GDP)</td>\n",
       "      <td>6.1</td>\n",
       "    </tr>\n",
       "    <tr>\n",
       "      <th>2780</th>\n",
       "      <td>716</td>\n",
       "      <td>Zimbabwe</td>\n",
       "      <td>2018</td>\n",
       "      <td>Public expenditure on education (% of GDP)</td>\n",
       "      <td>5.9</td>\n",
       "    </tr>\n",
       "  </tbody>\n",
       "</table>\n",
       "<p>2781 rows × 5 columns</p>\n",
       "</div>"
      ],
      "text/plain": [
       "      Code Country/Area  Year  \\\n",
       "0        4  Afghanistan  2010   \n",
       "1        4  Afghanistan  2010   \n",
       "2        4  Afghanistan  2010   \n",
       "3        4  Afghanistan  2010   \n",
       "4        4  Afghanistan  2015   \n",
       "...    ...          ...   ...   \n",
       "2776   894       Zambia  2017   \n",
       "2777   894       Zambia  2018   \n",
       "2778   716     Zimbabwe  2010   \n",
       "2779   716     Zimbabwe  2014   \n",
       "2780   716     Zimbabwe  2018   \n",
       "\n",
       "                                                 Series  Value  \n",
       "0     Current expenditure other than staff compensat...    9.3  \n",
       "1     All staff compensation as % of total expenditu...   72.4  \n",
       "2     Capital expenditure as % of total expenditure ...   18.3  \n",
       "3            Public expenditure on education (% of GDP)    3.5  \n",
       "4     Current expenditure other than staff compensat...    9.0  \n",
       "...                                                 ...    ...  \n",
       "2776         Public expenditure on education (% of GDP)    3.7  \n",
       "2777         Public expenditure on education (% of GDP)    4.6  \n",
       "2778         Public expenditure on education (% of GDP)    1.5  \n",
       "2779         Public expenditure on education (% of GDP)    6.1  \n",
       "2780         Public expenditure on education (% of GDP)    5.9  \n",
       "\n",
       "[2781 rows x 5 columns]"
      ]
     },
     "execution_count": 19,
     "metadata": {},
     "output_type": "execute_result"
    }
   ],
   "source": [
    "df1.rename(columns={\n",
    "    'Region/Country/Area': 'Country/Area'\n",
    "}, inplace=True)\n",
    "\n",
    "df1"
   ]
  },
  {
   "cell_type": "markdown",
   "metadata": {},
   "source": [
    "# Grouping and Aggregation"
   ]
  },
  {
   "cell_type": "markdown",
   "metadata": {},
   "source": [
    "Group By Country or Area and Series"
   ]
  },
  {
   "cell_type": "code",
   "execution_count": 20,
   "metadata": {},
   "outputs": [
    {
     "data": {
      "text/html": [
       "<div>\n",
       "<style scoped>\n",
       "    .dataframe tbody tr th:only-of-type {\n",
       "        vertical-align: middle;\n",
       "    }\n",
       "\n",
       "    .dataframe tbody tr th {\n",
       "        vertical-align: top;\n",
       "    }\n",
       "\n",
       "    .dataframe thead th {\n",
       "        text-align: right;\n",
       "    }\n",
       "</style>\n",
       "<table border=\"1\" class=\"dataframe\">\n",
       "  <thead>\n",
       "    <tr style=\"text-align: right;\">\n",
       "      <th></th>\n",
       "      <th>Code</th>\n",
       "      <th>Country/Area</th>\n",
       "      <th>Year</th>\n",
       "      <th>Series</th>\n",
       "      <th>Value</th>\n",
       "    </tr>\n",
       "  </thead>\n",
       "  <tbody>\n",
       "    <tr>\n",
       "      <th>0</th>\n",
       "      <td>4</td>\n",
       "      <td>Afghanistan</td>\n",
       "      <td>2010</td>\n",
       "      <td>Current expenditure other than staff compensat...</td>\n",
       "      <td>9.3</td>\n",
       "    </tr>\n",
       "    <tr>\n",
       "      <th>1</th>\n",
       "      <td>4</td>\n",
       "      <td>Afghanistan</td>\n",
       "      <td>2010</td>\n",
       "      <td>All staff compensation as % of total expenditu...</td>\n",
       "      <td>72.4</td>\n",
       "    </tr>\n",
       "    <tr>\n",
       "      <th>2</th>\n",
       "      <td>4</td>\n",
       "      <td>Afghanistan</td>\n",
       "      <td>2010</td>\n",
       "      <td>Capital expenditure as % of total expenditure ...</td>\n",
       "      <td>18.3</td>\n",
       "    </tr>\n",
       "    <tr>\n",
       "      <th>3</th>\n",
       "      <td>4</td>\n",
       "      <td>Afghanistan</td>\n",
       "      <td>2010</td>\n",
       "      <td>Public expenditure on education (% of GDP)</td>\n",
       "      <td>3.5</td>\n",
       "    </tr>\n",
       "    <tr>\n",
       "      <th>4</th>\n",
       "      <td>4</td>\n",
       "      <td>Afghanistan</td>\n",
       "      <td>2015</td>\n",
       "      <td>Current expenditure other than staff compensat...</td>\n",
       "      <td>9.0</td>\n",
       "    </tr>\n",
       "    <tr>\n",
       "      <th>...</th>\n",
       "      <td>...</td>\n",
       "      <td>...</td>\n",
       "      <td>...</td>\n",
       "      <td>...</td>\n",
       "      <td>...</td>\n",
       "    </tr>\n",
       "    <tr>\n",
       "      <th>2763</th>\n",
       "      <td>894</td>\n",
       "      <td>Zambia</td>\n",
       "      <td>2004</td>\n",
       "      <td>Public expenditure on education (% of GDP)</td>\n",
       "      <td>2.5</td>\n",
       "    </tr>\n",
       "    <tr>\n",
       "      <th>2764</th>\n",
       "      <td>894</td>\n",
       "      <td>Zambia</td>\n",
       "      <td>2005</td>\n",
       "      <td>Public expenditure on education (% of GDP)</td>\n",
       "      <td>1.7</td>\n",
       "    </tr>\n",
       "    <tr>\n",
       "      <th>2778</th>\n",
       "      <td>716</td>\n",
       "      <td>Zimbabwe</td>\n",
       "      <td>2010</td>\n",
       "      <td>Public expenditure on education (% of GDP)</td>\n",
       "      <td>1.5</td>\n",
       "    </tr>\n",
       "    <tr>\n",
       "      <th>2779</th>\n",
       "      <td>716</td>\n",
       "      <td>Zimbabwe</td>\n",
       "      <td>2014</td>\n",
       "      <td>Public expenditure on education (% of GDP)</td>\n",
       "      <td>6.1</td>\n",
       "    </tr>\n",
       "    <tr>\n",
       "      <th>2780</th>\n",
       "      <td>716</td>\n",
       "      <td>Zimbabwe</td>\n",
       "      <td>2018</td>\n",
       "      <td>Public expenditure on education (% of GDP)</td>\n",
       "      <td>5.9</td>\n",
       "    </tr>\n",
       "  </tbody>\n",
       "</table>\n",
       "<p>937 rows × 5 columns</p>\n",
       "</div>"
      ],
      "text/plain": [
       "      Code Country/Area  Year  \\\n",
       "0        4  Afghanistan  2010   \n",
       "1        4  Afghanistan  2010   \n",
       "2        4  Afghanistan  2010   \n",
       "3        4  Afghanistan  2010   \n",
       "4        4  Afghanistan  2015   \n",
       "...    ...          ...   ...   \n",
       "2763   894       Zambia  2004   \n",
       "2764   894       Zambia  2005   \n",
       "2778   716     Zimbabwe  2010   \n",
       "2779   716     Zimbabwe  2014   \n",
       "2780   716     Zimbabwe  2018   \n",
       "\n",
       "                                                 Series  Value  \n",
       "0     Current expenditure other than staff compensat...    9.3  \n",
       "1     All staff compensation as % of total expenditu...   72.4  \n",
       "2     Capital expenditure as % of total expenditure ...   18.3  \n",
       "3            Public expenditure on education (% of GDP)    3.5  \n",
       "4     Current expenditure other than staff compensat...    9.0  \n",
       "...                                                 ...    ...  \n",
       "2763         Public expenditure on education (% of GDP)    2.5  \n",
       "2764         Public expenditure on education (% of GDP)    1.7  \n",
       "2778         Public expenditure on education (% of GDP)    1.5  \n",
       "2779         Public expenditure on education (% of GDP)    6.1  \n",
       "2780         Public expenditure on education (% of GDP)    5.9  \n",
       "\n",
       "[937 rows x 5 columns]"
      ]
     },
     "execution_count": 20,
     "metadata": {},
     "output_type": "execute_result"
    }
   ],
   "source": [
    "df1_gpd = df1.groupby('Country/Area')\n",
    "df1_gpd.head()"
   ]
  },
  {
   "cell_type": "markdown",
   "metadata": {},
   "source": [
    "# Data Visualization"
   ]
  },
  {
   "cell_type": "markdown",
   "metadata": {},
   "source": [
    "Germany, India and South Africa"
   ]
  },
  {
   "cell_type": "markdown",
   "metadata": {},
   "source": [
    "# Germany Exploration"
   ]
  },
  {
   "cell_type": "code",
   "execution_count": 21,
   "metadata": {},
   "outputs": [
    {
     "data": {
      "text/html": [
       "<div>\n",
       "<style scoped>\n",
       "    .dataframe tbody tr th:only-of-type {\n",
       "        vertical-align: middle;\n",
       "    }\n",
       "\n",
       "    .dataframe tbody tr th {\n",
       "        vertical-align: top;\n",
       "    }\n",
       "\n",
       "    .dataframe thead th {\n",
       "        text-align: right;\n",
       "    }\n",
       "</style>\n",
       "<table border=\"1\" class=\"dataframe\">\n",
       "  <thead>\n",
       "    <tr style=\"text-align: right;\">\n",
       "      <th></th>\n",
       "      <th>Code</th>\n",
       "      <th>Country/Area</th>\n",
       "      <th>Year</th>\n",
       "      <th>Series</th>\n",
       "      <th>Value</th>\n",
       "    </tr>\n",
       "  </thead>\n",
       "  <tbody>\n",
       "    <tr>\n",
       "      <th>996</th>\n",
       "      <td>276</td>\n",
       "      <td>Germany</td>\n",
       "      <td>2010</td>\n",
       "      <td>Current expenditure other than staff compensat...</td>\n",
       "      <td>19.8</td>\n",
       "    </tr>\n",
       "    <tr>\n",
       "      <th>997</th>\n",
       "      <td>276</td>\n",
       "      <td>Germany</td>\n",
       "      <td>2010</td>\n",
       "      <td>All staff compensation as % of total expenditu...</td>\n",
       "      <td>70.6</td>\n",
       "    </tr>\n",
       "    <tr>\n",
       "      <th>998</th>\n",
       "      <td>276</td>\n",
       "      <td>Germany</td>\n",
       "      <td>2010</td>\n",
       "      <td>Capital expenditure as % of total expenditure ...</td>\n",
       "      <td>9.6</td>\n",
       "    </tr>\n",
       "    <tr>\n",
       "      <th>999</th>\n",
       "      <td>276</td>\n",
       "      <td>Germany</td>\n",
       "      <td>2010</td>\n",
       "      <td>Public expenditure on education (% of GDP)</td>\n",
       "      <td>4.9</td>\n",
       "    </tr>\n",
       "    <tr>\n",
       "      <th>1000</th>\n",
       "      <td>276</td>\n",
       "      <td>Germany</td>\n",
       "      <td>2015</td>\n",
       "      <td>Current expenditure other than staff compensat...</td>\n",
       "      <td>20.1</td>\n",
       "    </tr>\n",
       "  </tbody>\n",
       "</table>\n",
       "</div>"
      ],
      "text/plain": [
       "      Code Country/Area  Year  \\\n",
       "996    276      Germany  2010   \n",
       "997    276      Germany  2010   \n",
       "998    276      Germany  2010   \n",
       "999    276      Germany  2010   \n",
       "1000   276      Germany  2015   \n",
       "\n",
       "                                                 Series  Value  \n",
       "996   Current expenditure other than staff compensat...   19.8  \n",
       "997   All staff compensation as % of total expenditu...   70.6  \n",
       "998   Capital expenditure as % of total expenditure ...    9.6  \n",
       "999          Public expenditure on education (% of GDP)    4.9  \n",
       "1000  Current expenditure other than staff compensat...   20.1  "
      ]
     },
     "execution_count": 21,
     "metadata": {},
     "output_type": "execute_result"
    }
   ],
   "source": [
    "ger_df_gpd = df1_gpd.get_group('Germany')\n",
    "ger_df_gpd.head()"
   ]
  },
  {
   "cell_type": "code",
   "execution_count": 22,
   "metadata": {},
   "outputs": [],
   "source": [
    "# define a helper function\n",
    "def plot_bar(df, x, y, hue, xlabel=None, ylabel=None, title=None):\n",
    "    \n",
    "    # initiate a matplotlib figure\n",
    "    fig, ax = plt.subplots()\n",
    "    fig.autofmt_xdate()\n",
    "\n",
    "    # plot bar chart\n",
    "    sns.barplot(\n",
    "        x=x, y=y, \n",
    "        hue=hue, data=df, ci=None\n",
    "    )\n",
    "\n",
    "    # despine axes\n",
    "    sns.despine(left=True, bottom=True)\n",
    "\n",
    "    # matplotlib axis label\n",
    "    ax.set(xlabel=xlabel, ylabel=ylabel, title=title)\n",
    "\n",
    "    return plot_bar"
   ]
  },
  {
   "cell_type": "code",
   "execution_count": 23,
   "metadata": {},
   "outputs": [
    {
     "data": {
      "text/plain": [
       "<function __main__.plot_bar(df, x, y, hue, xlabel=None, ylabel=None, title=None)>"
      ]
     },
     "execution_count": 23,
     "metadata": {},
     "output_type": "execute_result"
    },
    {
     "data": {
      "image/png": "[encoded data removed]",
      "text/plain": [
       "<Figure size 864x648 with 1 Axes>"
      ]
     },
     "metadata": {},
     "output_type": "display_data"
    }
   ],
   "source": [
    "plot_bar(\n",
    "    df=ger_df_gpd, \n",
    "    x='Year', y='Value', hue='Series',\n",
    "    xlabel='Year', ylabel='Value (percentage)',\n",
    ")"
   ]
  },
  {
   "cell_type": "markdown",
   "metadata": {},
   "source": [
    "# India Exploration"
   ]
  },
  {
   "cell_type": "code",
   "execution_count": 24,
   "metadata": {},
   "outputs": [
    {
     "data": {
      "text/html": [
       "<div>\n",
       "<style scoped>\n",
       "    .dataframe tbody tr th:only-of-type {\n",
       "        vertical-align: middle;\n",
       "    }\n",
       "\n",
       "    .dataframe tbody tr th {\n",
       "        vertical-align: top;\n",
       "    }\n",
       "\n",
       "    .dataframe thead th {\n",
       "        text-align: right;\n",
       "    }\n",
       "</style>\n",
       "<table border=\"1\" class=\"dataframe\">\n",
       "  <thead>\n",
       "    <tr style=\"text-align: right;\">\n",
       "      <th></th>\n",
       "      <th>Code</th>\n",
       "      <th>Country/Area</th>\n",
       "      <th>Year</th>\n",
       "      <th>Series</th>\n",
       "      <th>Value</th>\n",
       "    </tr>\n",
       "  </thead>\n",
       "  <tbody>\n",
       "    <tr>\n",
       "      <th>1169</th>\n",
       "      <td>356</td>\n",
       "      <td>India</td>\n",
       "      <td>2005</td>\n",
       "      <td>Current expenditure other than staff compensat...</td>\n",
       "      <td>9.0</td>\n",
       "    </tr>\n",
       "    <tr>\n",
       "      <th>1170</th>\n",
       "      <td>356</td>\n",
       "      <td>India</td>\n",
       "      <td>2005</td>\n",
       "      <td>All staff compensation as % of total expenditu...</td>\n",
       "      <td>86.2</td>\n",
       "    </tr>\n",
       "    <tr>\n",
       "      <th>1171</th>\n",
       "      <td>356</td>\n",
       "      <td>India</td>\n",
       "      <td>2005</td>\n",
       "      <td>Capital expenditure as % of total expenditure ...</td>\n",
       "      <td>4.8</td>\n",
       "    </tr>\n",
       "    <tr>\n",
       "      <th>1172</th>\n",
       "      <td>356</td>\n",
       "      <td>India</td>\n",
       "      <td>2005</td>\n",
       "      <td>Public expenditure on education (% of GDP)</td>\n",
       "      <td>3.2</td>\n",
       "    </tr>\n",
       "    <tr>\n",
       "      <th>1173</th>\n",
       "      <td>356</td>\n",
       "      <td>India</td>\n",
       "      <td>2010</td>\n",
       "      <td>Public expenditure on education (% of GDP)</td>\n",
       "      <td>3.4</td>\n",
       "    </tr>\n",
       "  </tbody>\n",
       "</table>\n",
       "</div>"
      ],
      "text/plain": [
       "      Code Country/Area  Year  \\\n",
       "1169   356        India  2005   \n",
       "1170   356        India  2005   \n",
       "1171   356        India  2005   \n",
       "1172   356        India  2005   \n",
       "1173   356        India  2010   \n",
       "\n",
       "                                                 Series  Value  \n",
       "1169  Current expenditure other than staff compensat...    9.0  \n",
       "1170  All staff compensation as % of total expenditu...   86.2  \n",
       "1171  Capital expenditure as % of total expenditure ...    4.8  \n",
       "1172         Public expenditure on education (% of GDP)    3.2  \n",
       "1173         Public expenditure on education (% of GDP)    3.4  "
      ]
     },
     "execution_count": 24,
     "metadata": {},
     "output_type": "execute_result"
    }
   ],
   "source": [
    "ind_df_gpd = df1_gpd.get_group('India')\n",
    "ind_df_gpd.head()"
   ]
  },
  {
   "cell_type": "code",
   "execution_count": 25,
   "metadata": {},
   "outputs": [
    {
     "data": {
      "text/plain": [
       "<function __main__.plot_bar(df, x, y, hue, xlabel=None, ylabel=None, title=None)>"
      ]
     },
     "execution_count": 25,
     "metadata": {},
     "output_type": "execute_result"
    },
    {
     "data": {
      "image/png": "[encoded data removed]",
      "text/plain": [
       "<Figure size 864x648 with 1 Axes>"
      ]
     },
     "metadata": {},
     "output_type": "display_data"
    }
   ],
   "source": [
    "plot_bar(\n",
    "    df=ind_df_gpd, \n",
    "    x='Year', y='Value', hue='Series',\n",
    "    xlabel='Year', ylabel='Value (percentage)',\n",
    ")"
   ]
  },
  {
   "cell_type": "markdown",
   "metadata": {},
   "source": [
    "# South Africa"
   ]
  },
  {
   "cell_type": "code",
   "execution_count": 26,
   "metadata": {},
   "outputs": [
    {
     "data": {
      "text/html": [
       "<div>\n",
       "<style scoped>\n",
       "    .dataframe tbody tr th:only-of-type {\n",
       "        vertical-align: middle;\n",
       "    }\n",
       "\n",
       "    .dataframe tbody tr th {\n",
       "        vertical-align: top;\n",
       "    }\n",
       "\n",
       "    .dataframe thead th {\n",
       "        text-align: right;\n",
       "    }\n",
       "</style>\n",
       "<table border=\"1\" class=\"dataframe\">\n",
       "  <thead>\n",
       "    <tr style=\"text-align: right;\">\n",
       "      <th></th>\n",
       "      <th>Code</th>\n",
       "      <th>Country/Area</th>\n",
       "      <th>Year</th>\n",
       "      <th>Series</th>\n",
       "      <th>Value</th>\n",
       "    </tr>\n",
       "  </thead>\n",
       "  <tbody>\n",
       "    <tr>\n",
       "      <th>2396</th>\n",
       "      <td>710</td>\n",
       "      <td>South Africa</td>\n",
       "      <td>2005</td>\n",
       "      <td>Current expenditure other than staff compensat...</td>\n",
       "      <td>20.9</td>\n",
       "    </tr>\n",
       "    <tr>\n",
       "      <th>2397</th>\n",
       "      <td>710</td>\n",
       "      <td>South Africa</td>\n",
       "      <td>2005</td>\n",
       "      <td>All staff compensation as % of total expenditu...</td>\n",
       "      <td>66.3</td>\n",
       "    </tr>\n",
       "    <tr>\n",
       "      <th>2398</th>\n",
       "      <td>710</td>\n",
       "      <td>South Africa</td>\n",
       "      <td>2005</td>\n",
       "      <td>Capital expenditure as % of total expenditure ...</td>\n",
       "      <td>2.9</td>\n",
       "    </tr>\n",
       "    <tr>\n",
       "      <th>2399</th>\n",
       "      <td>710</td>\n",
       "      <td>South Africa</td>\n",
       "      <td>2005</td>\n",
       "      <td>Public expenditure on education (% of GDP)</td>\n",
       "      <td>5.1</td>\n",
       "    </tr>\n",
       "    <tr>\n",
       "      <th>2400</th>\n",
       "      <td>710</td>\n",
       "      <td>South Africa</td>\n",
       "      <td>2006</td>\n",
       "      <td>All staff compensation as % of total expenditu...</td>\n",
       "      <td>69.8</td>\n",
       "    </tr>\n",
       "  </tbody>\n",
       "</table>\n",
       "</div>"
      ],
      "text/plain": [
       "      Code  Country/Area  Year  \\\n",
       "2396   710  South Africa  2005   \n",
       "2397   710  South Africa  2005   \n",
       "2398   710  South Africa  2005   \n",
       "2399   710  South Africa  2005   \n",
       "2400   710  South Africa  2006   \n",
       "\n",
       "                                                 Series  Value  \n",
       "2396  Current expenditure other than staff compensat...   20.9  \n",
       "2397  All staff compensation as % of total expenditu...   66.3  \n",
       "2398  Capital expenditure as % of total expenditure ...    2.9  \n",
       "2399         Public expenditure on education (% of GDP)    5.1  \n",
       "2400  All staff compensation as % of total expenditu...   69.8  "
      ]
     },
     "execution_count": 26,
     "metadata": {},
     "output_type": "execute_result"
    }
   ],
   "source": [
    "sa_df_gpd = df1_gpd.get_group('South Africa')\n",
    "sa_df_gpd.head()"
   ]
  },
  {
   "cell_type": "code",
   "execution_count": 27,
   "metadata": {},
   "outputs": [
    {
     "data": {
      "text/plain": [
       "<function __main__.plot_bar(df, x, y, hue, xlabel=None, ylabel=None, title=None)>"
      ]
     },
     "execution_count": 27,
     "metadata": {},
     "output_type": "execute_result"
    },
    {
     "data": {
      "image/png": "[encoded data removed]",
      "text/plain": [
       "<Figure size 864x648 with 1 Axes>"
      ]
     },
     "metadata": {},
     "output_type": "display_data"
    }
   ],
   "source": [
    "plot_bar(\n",
    "    df=sa_df_gpd, \n",
    "    x='Year', y='Value', hue='Series',\n",
    "    xlabel='Year', ylabel='Value (percentage)',\n",
    ")"
   ]
  }
 ],
 "metadata": {
  "interpreter": {
   "hash": "3fe9daace87ea8cb12e037f7452ad9bcd52f59aa894a611255d1461de3a9065e"
  },
  "kernelspec": {
   "display_name": "Python 3.9.7 ('DS')",
   "language": "python",
   "name": "python3"
  },
  "language_info": {
   "codemirror_mode": {
    "name": "ipython",
    "version": 3
   },
   "file_extension": ".py",
   "mimetype": "text/x-python",
   "name": "python",
   "nbconvert_exporter": "python",
   "pygments_lexer": "ipython3",
   "version": "3.9.7"
  },
  "orig_nbformat": 4
 },
 "nbformat": 4,
 "nbformat_minor": 2
}
