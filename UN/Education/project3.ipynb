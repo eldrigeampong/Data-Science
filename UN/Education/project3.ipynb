{
 "cells": [
  {
   "cell_type": "markdown",
   "metadata": {},
   "source": [
    "# Teaching staff at the primary, secondary and tertiary levels"
   ]
  },
  {
   "cell_type": "markdown",
   "metadata": {},
   "source": [
    "# Import Libraries"
   ]
  },
  {
   "cell_type": "code",
   "execution_count": 1,
   "metadata": {},
   "outputs": [],
   "source": [
    "import numpy as np\n",
    "import pandas as pd\n",
    "import matplotlib.pyplot as plt\n",
    "import seaborn as sns\n",
    "import os\n",
    "import warnings"
   ]
  },
  {
   "cell_type": "markdown",
   "metadata": {},
   "source": [
    "# Options and Settings"
   ]
  },
  {
   "cell_type": "code",
   "execution_count": 2,
   "metadata": {},
   "outputs": [],
   "source": [
    "%matplotlib inline\n",
    "plt.style.use('ggplot')\n",
    "plt.rcParams['figure.autolayout'] = True\n",
    "plt.rcParams['figure.figsize'] = [12, 9]\n",
    "plt.rcParams['font.size'] = 12\n",
    "path = os.getcwd()                                         # get current working directory\n",
    "warnings.simplefilter('ignore')"
   ]
  },
  {
   "cell_type": "markdown",
   "metadata": {},
   "source": [
    "# Import Data"
   ]
  },
  {
   "cell_type": "code",
   "execution_count": 3,
   "metadata": {},
   "outputs": [],
   "source": [
    "filepath = os.path.join('datasets', 'Teaching Staff in education.csv')\n",
    "df = pd.read_csv(filepath)"
   ]
  },
  {
   "cell_type": "markdown",
   "metadata": {},
   "source": [
    "# Head and Tail"
   ]
  },
  {
   "cell_type": "code",
   "execution_count": 4,
   "metadata": {},
   "outputs": [
    {
     "data": {
      "text/html": [
       "<div>\n",
       "<style scoped>\n",
       "    .dataframe tbody tr th:only-of-type {\n",
       "        vertical-align: middle;\n",
       "    }\n",
       "\n",
       "    .dataframe tbody tr th {\n",
       "        vertical-align: top;\n",
       "    }\n",
       "\n",
       "    .dataframe thead th {\n",
       "        text-align: right;\n",
       "    }\n",
       "</style>\n",
       "<table border=\"1\" class=\"dataframe\">\n",
       "  <thead>\n",
       "    <tr style=\"text-align: right;\">\n",
       "      <th></th>\n",
       "      <th>Region/Country/Area</th>\n",
       "      <th>Unnamed: 1</th>\n",
       "      <th>Year</th>\n",
       "      <th>Series</th>\n",
       "      <th>Value</th>\n",
       "      <th>Footnotes</th>\n",
       "      <th>Source</th>\n",
       "    </tr>\n",
       "  </thead>\n",
       "  <tbody>\n",
       "    <tr>\n",
       "      <th>0</th>\n",
       "      <td>1</td>\n",
       "      <td>Total, all countries or areas</td>\n",
       "      <td>2005</td>\n",
       "      <td>Teachers at primary level (thousands)</td>\n",
       "      <td>26899.0</td>\n",
       "      <td>Estimate.</td>\n",
       "      <td>United Nations Educational, Scientific and Cul...</td>\n",
       "    </tr>\n",
       "    <tr>\n",
       "      <th>1</th>\n",
       "      <td>1</td>\n",
       "      <td>Total, all countries or areas</td>\n",
       "      <td>2005</td>\n",
       "      <td>Teachers at secondary level (thousands)</td>\n",
       "      <td>28485.0</td>\n",
       "      <td>Estimate.</td>\n",
       "      <td>United Nations Educational, Scientific and Cul...</td>\n",
       "    </tr>\n",
       "    <tr>\n",
       "      <th>2</th>\n",
       "      <td>1</td>\n",
       "      <td>Total, all countries or areas</td>\n",
       "      <td>2005</td>\n",
       "      <td>Teachers at upper secondary level (thousands)</td>\n",
       "      <td>11834.0</td>\n",
       "      <td>Estimate.</td>\n",
       "      <td>United Nations Educational, Scientific and Cul...</td>\n",
       "    </tr>\n",
       "    <tr>\n",
       "      <th>3</th>\n",
       "      <td>1</td>\n",
       "      <td>Total, all countries or areas</td>\n",
       "      <td>2010</td>\n",
       "      <td>Teachers at primary level (thousands)</td>\n",
       "      <td>28679.0</td>\n",
       "      <td>NaN</td>\n",
       "      <td>United Nations Educational, Scientific and Cul...</td>\n",
       "    </tr>\n",
       "    <tr>\n",
       "      <th>4</th>\n",
       "      <td>1</td>\n",
       "      <td>Total, all countries or areas</td>\n",
       "      <td>2010</td>\n",
       "      <td>Teachers at secondary level (thousands)</td>\n",
       "      <td>32197.0</td>\n",
       "      <td>NaN</td>\n",
       "      <td>United Nations Educational, Scientific and Cul...</td>\n",
       "    </tr>\n",
       "    <tr>\n",
       "      <th>...</th>\n",
       "      <td>...</td>\n",
       "      <td>...</td>\n",
       "      <td>...</td>\n",
       "      <td>...</td>\n",
       "      <td>...</td>\n",
       "      <td>...</td>\n",
       "      <td>...</td>\n",
       "    </tr>\n",
       "    <tr>\n",
       "      <th>3289</th>\n",
       "      <td>199</td>\n",
       "      <td>LDC�</td>\n",
       "      <td>2015</td>\n",
       "      <td>Teachers with minimum required qualifications ...</td>\n",
       "      <td>58.7</td>\n",
       "      <td>NaN</td>\n",
       "      <td>United Nations Educational, Scientific and Cul...</td>\n",
       "    </tr>\n",
       "    <tr>\n",
       "      <th>3290</th>\n",
       "      <td>199</td>\n",
       "      <td>LDC�</td>\n",
       "      <td>2015</td>\n",
       "      <td>Teachers with minimum required qualifications ...</td>\n",
       "      <td>54.2</td>\n",
       "      <td>NaN</td>\n",
       "      <td>United Nations Educational, Scientific and Cul...</td>\n",
       "    </tr>\n",
       "    <tr>\n",
       "      <th>3291</th>\n",
       "      <td>199</td>\n",
       "      <td>LDC�</td>\n",
       "      <td>2019</td>\n",
       "      <td>Teachers with minimum required qualifications ...</td>\n",
       "      <td>73.9</td>\n",
       "      <td>NaN</td>\n",
       "      <td>United Nations Educational, Scientific and Cul...</td>\n",
       "    </tr>\n",
       "    <tr>\n",
       "      <th>3292</th>\n",
       "      <td>199</td>\n",
       "      <td>LDC�</td>\n",
       "      <td>2019</td>\n",
       "      <td>Teachers with minimum required qualifications ...</td>\n",
       "      <td>56.1</td>\n",
       "      <td>NaN</td>\n",
       "      <td>United Nations Educational, Scientific and Cul...</td>\n",
       "    </tr>\n",
       "    <tr>\n",
       "      <th>3293</th>\n",
       "      <td>199</td>\n",
       "      <td>LDC�</td>\n",
       "      <td>2019</td>\n",
       "      <td>Teachers with minimum required qualifications ...</td>\n",
       "      <td>52.4</td>\n",
       "      <td>NaN</td>\n",
       "      <td>United Nations Educational, Scientific and Cul...</td>\n",
       "    </tr>\n",
       "  </tbody>\n",
       "</table>\n",
       "<p>3294 rows × 7 columns</p>\n",
       "</div>"
      ],
      "text/plain": [
       "      Region/Country/Area                     Unnamed: 1  Year  \\\n",
       "0                       1  Total, all countries or areas  2005   \n",
       "1                       1  Total, all countries or areas  2005   \n",
       "2                       1  Total, all countries or areas  2005   \n",
       "3                       1  Total, all countries or areas  2010   \n",
       "4                       1  Total, all countries or areas  2010   \n",
       "...                   ...                            ...   ...   \n",
       "3289                  199                           LDC�  2015   \n",
       "3290                  199                           LDC�  2015   \n",
       "3291                  199                           LDC�  2019   \n",
       "3292                  199                           LDC�  2019   \n",
       "3293                  199                           LDC�  2019   \n",
       "\n",
       "                                                 Series    Value  Footnotes  \\\n",
       "0                 Teachers at primary level (thousands)  26899.0  Estimate.   \n",
       "1               Teachers at secondary level (thousands)  28485.0  Estimate.   \n",
       "2         Teachers at upper secondary level (thousands)  11834.0  Estimate.   \n",
       "3                 Teachers at primary level (thousands)  28679.0        NaN   \n",
       "4               Teachers at secondary level (thousands)  32197.0        NaN   \n",
       "...                                                 ...      ...        ...   \n",
       "3289  Teachers with minimum required qualifications ...     58.7        NaN   \n",
       "3290  Teachers with minimum required qualifications ...     54.2        NaN   \n",
       "3291  Teachers with minimum required qualifications ...     73.9        NaN   \n",
       "3292  Teachers with minimum required qualifications ...     56.1        NaN   \n",
       "3293  Teachers with minimum required qualifications ...     52.4        NaN   \n",
       "\n",
       "                                                 Source  \n",
       "0     United Nations Educational, Scientific and Cul...  \n",
       "1     United Nations Educational, Scientific and Cul...  \n",
       "2     United Nations Educational, Scientific and Cul...  \n",
       "3     United Nations Educational, Scientific and Cul...  \n",
       "4     United Nations Educational, Scientific and Cul...  \n",
       "...                                                 ...  \n",
       "3289  United Nations Educational, Scientific and Cul...  \n",
       "3290  United Nations Educational, Scientific and Cul...  \n",
       "3291  United Nations Educational, Scientific and Cul...  \n",
       "3292  United Nations Educational, Scientific and Cul...  \n",
       "3293  United Nations Educational, Scientific and Cul...  \n",
       "\n",
       "[3294 rows x 7 columns]"
      ]
     },
     "execution_count": 4,
     "metadata": {},
     "output_type": "execute_result"
    }
   ],
   "source": [
    "df"
   ]
  },
  {
   "cell_type": "code",
   "execution_count": 5,
   "metadata": {},
   "outputs": [
    {
     "data": {
      "text/plain": [
       "(3294, 7)"
      ]
     },
     "execution_count": 5,
     "metadata": {},
     "output_type": "execute_result"
    }
   ],
   "source": [
    "df.shape"
   ]
  },
  {
   "cell_type": "code",
   "execution_count": 6,
   "metadata": {},
   "outputs": [
    {
     "name": "stdout",
     "output_type": "stream",
     "text": [
      "<class 'pandas.core.frame.DataFrame'>\n",
      "RangeIndex: 3294 entries, 0 to 3293\n",
      "Data columns (total 7 columns):\n",
      " #   Column               Non-Null Count  Dtype  \n",
      "---  ------               --------------  -----  \n",
      " 0   Region/Country/Area  3294 non-null   int64  \n",
      " 1   Unnamed: 1           3294 non-null   object \n",
      " 2   Year                 3294 non-null   int64  \n",
      " 3   Series               3294 non-null   object \n",
      " 4   Value                3294 non-null   float64\n",
      " 5   Footnotes            225 non-null    object \n",
      " 6   Source               3294 non-null   object \n",
      "dtypes: float64(1), int64(2), object(4)\n",
      "memory usage: 180.3+ KB\n"
     ]
    }
   ],
   "source": [
    "df.info()"
   ]
  },
  {
   "cell_type": "code",
   "execution_count": 7,
   "metadata": {},
   "outputs": [
    {
     "data": {
      "text/html": [
       "<div>\n",
       "<style scoped>\n",
       "    .dataframe tbody tr th:only-of-type {\n",
       "        vertical-align: middle;\n",
       "    }\n",
       "\n",
       "    .dataframe tbody tr th {\n",
       "        vertical-align: top;\n",
       "    }\n",
       "\n",
       "    .dataframe thead th {\n",
       "        text-align: right;\n",
       "    }\n",
       "</style>\n",
       "<table border=\"1\" class=\"dataframe\">\n",
       "  <thead>\n",
       "    <tr style=\"text-align: right;\">\n",
       "      <th></th>\n",
       "      <th>Code</th>\n",
       "      <th>Region/Country/Area</th>\n",
       "      <th>Year</th>\n",
       "      <th>Series</th>\n",
       "      <th>Value</th>\n",
       "      <th>Footnotes</th>\n",
       "      <th>Source</th>\n",
       "    </tr>\n",
       "  </thead>\n",
       "  <tbody>\n",
       "    <tr>\n",
       "      <th>0</th>\n",
       "      <td>1</td>\n",
       "      <td>Total, all countries or areas</td>\n",
       "      <td>2005</td>\n",
       "      <td>Teachers at primary level (thousands)</td>\n",
       "      <td>26899.0</td>\n",
       "      <td>Estimate.</td>\n",
       "      <td>United Nations Educational, Scientific and Cul...</td>\n",
       "    </tr>\n",
       "    <tr>\n",
       "      <th>1</th>\n",
       "      <td>1</td>\n",
       "      <td>Total, all countries or areas</td>\n",
       "      <td>2005</td>\n",
       "      <td>Teachers at secondary level (thousands)</td>\n",
       "      <td>28485.0</td>\n",
       "      <td>Estimate.</td>\n",
       "      <td>United Nations Educational, Scientific and Cul...</td>\n",
       "    </tr>\n",
       "    <tr>\n",
       "      <th>2</th>\n",
       "      <td>1</td>\n",
       "      <td>Total, all countries or areas</td>\n",
       "      <td>2005</td>\n",
       "      <td>Teachers at upper secondary level (thousands)</td>\n",
       "      <td>11834.0</td>\n",
       "      <td>Estimate.</td>\n",
       "      <td>United Nations Educational, Scientific and Cul...</td>\n",
       "    </tr>\n",
       "    <tr>\n",
       "      <th>3</th>\n",
       "      <td>1</td>\n",
       "      <td>Total, all countries or areas</td>\n",
       "      <td>2010</td>\n",
       "      <td>Teachers at primary level (thousands)</td>\n",
       "      <td>28679.0</td>\n",
       "      <td>NaN</td>\n",
       "      <td>United Nations Educational, Scientific and Cul...</td>\n",
       "    </tr>\n",
       "    <tr>\n",
       "      <th>4</th>\n",
       "      <td>1</td>\n",
       "      <td>Total, all countries or areas</td>\n",
       "      <td>2010</td>\n",
       "      <td>Teachers at secondary level (thousands)</td>\n",
       "      <td>32197.0</td>\n",
       "      <td>NaN</td>\n",
       "      <td>United Nations Educational, Scientific and Cul...</td>\n",
       "    </tr>\n",
       "    <tr>\n",
       "      <th>...</th>\n",
       "      <td>...</td>\n",
       "      <td>...</td>\n",
       "      <td>...</td>\n",
       "      <td>...</td>\n",
       "      <td>...</td>\n",
       "      <td>...</td>\n",
       "      <td>...</td>\n",
       "    </tr>\n",
       "    <tr>\n",
       "      <th>3289</th>\n",
       "      <td>199</td>\n",
       "      <td>LDC�</td>\n",
       "      <td>2015</td>\n",
       "      <td>Teachers with minimum required qualifications ...</td>\n",
       "      <td>58.7</td>\n",
       "      <td>NaN</td>\n",
       "      <td>United Nations Educational, Scientific and Cul...</td>\n",
       "    </tr>\n",
       "    <tr>\n",
       "      <th>3290</th>\n",
       "      <td>199</td>\n",
       "      <td>LDC�</td>\n",
       "      <td>2015</td>\n",
       "      <td>Teachers with minimum required qualifications ...</td>\n",
       "      <td>54.2</td>\n",
       "      <td>NaN</td>\n",
       "      <td>United Nations Educational, Scientific and Cul...</td>\n",
       "    </tr>\n",
       "    <tr>\n",
       "      <th>3291</th>\n",
       "      <td>199</td>\n",
       "      <td>LDC�</td>\n",
       "      <td>2019</td>\n",
       "      <td>Teachers with minimum required qualifications ...</td>\n",
       "      <td>73.9</td>\n",
       "      <td>NaN</td>\n",
       "      <td>United Nations Educational, Scientific and Cul...</td>\n",
       "    </tr>\n",
       "    <tr>\n",
       "      <th>3292</th>\n",
       "      <td>199</td>\n",
       "      <td>LDC�</td>\n",
       "      <td>2019</td>\n",
       "      <td>Teachers with minimum required qualifications ...</td>\n",
       "      <td>56.1</td>\n",
       "      <td>NaN</td>\n",
       "      <td>United Nations Educational, Scientific and Cul...</td>\n",
       "    </tr>\n",
       "    <tr>\n",
       "      <th>3293</th>\n",
       "      <td>199</td>\n",
       "      <td>LDC�</td>\n",
       "      <td>2019</td>\n",
       "      <td>Teachers with minimum required qualifications ...</td>\n",
       "      <td>52.4</td>\n",
       "      <td>NaN</td>\n",
       "      <td>United Nations Educational, Scientific and Cul...</td>\n",
       "    </tr>\n",
       "  </tbody>\n",
       "</table>\n",
       "<p>3294 rows × 7 columns</p>\n",
       "</div>"
      ],
      "text/plain": [
       "      Code            Region/Country/Area  Year  \\\n",
       "0        1  Total, all countries or areas  2005   \n",
       "1        1  Total, all countries or areas  2005   \n",
       "2        1  Total, all countries or areas  2005   \n",
       "3        1  Total, all countries or areas  2010   \n",
       "4        1  Total, all countries or areas  2010   \n",
       "...    ...                            ...   ...   \n",
       "3289   199                           LDC�  2015   \n",
       "3290   199                           LDC�  2015   \n",
       "3291   199                           LDC�  2019   \n",
       "3292   199                           LDC�  2019   \n",
       "3293   199                           LDC�  2019   \n",
       "\n",
       "                                                 Series    Value  Footnotes  \\\n",
       "0                 Teachers at primary level (thousands)  26899.0  Estimate.   \n",
       "1               Teachers at secondary level (thousands)  28485.0  Estimate.   \n",
       "2         Teachers at upper secondary level (thousands)  11834.0  Estimate.   \n",
       "3                 Teachers at primary level (thousands)  28679.0        NaN   \n",
       "4               Teachers at secondary level (thousands)  32197.0        NaN   \n",
       "...                                                 ...      ...        ...   \n",
       "3289  Teachers with minimum required qualifications ...     58.7        NaN   \n",
       "3290  Teachers with minimum required qualifications ...     54.2        NaN   \n",
       "3291  Teachers with minimum required qualifications ...     73.9        NaN   \n",
       "3292  Teachers with minimum required qualifications ...     56.1        NaN   \n",
       "3293  Teachers with minimum required qualifications ...     52.4        NaN   \n",
       "\n",
       "                                                 Source  \n",
       "0     United Nations Educational, Scientific and Cul...  \n",
       "1     United Nations Educational, Scientific and Cul...  \n",
       "2     United Nations Educational, Scientific and Cul...  \n",
       "3     United Nations Educational, Scientific and Cul...  \n",
       "4     United Nations Educational, Scientific and Cul...  \n",
       "...                                                 ...  \n",
       "3289  United Nations Educational, Scientific and Cul...  \n",
       "3290  United Nations Educational, Scientific and Cul...  \n",
       "3291  United Nations Educational, Scientific and Cul...  \n",
       "3292  United Nations Educational, Scientific and Cul...  \n",
       "3293  United Nations Educational, Scientific and Cul...  \n",
       "\n",
       "[3294 rows x 7 columns]"
      ]
     },
     "execution_count": 7,
     "metadata": {},
     "output_type": "execute_result"
    }
   ],
   "source": [
    "df.rename(columns={\n",
    "    'Region/Country/Area': 'Code',\n",
    "    'Unnamed: 1': 'Region/Country/Area',\n",
    "}, inplace=True)\n",
    "\n",
    "df"
   ]
  },
  {
   "cell_type": "code",
   "execution_count": 8,
   "metadata": {},
   "outputs": [
    {
     "data": {
      "text/html": [
       "<div>\n",
       "<style scoped>\n",
       "    .dataframe tbody tr th:only-of-type {\n",
       "        vertical-align: middle;\n",
       "    }\n",
       "\n",
       "    .dataframe tbody tr th {\n",
       "        vertical-align: top;\n",
       "    }\n",
       "\n",
       "    .dataframe thead th {\n",
       "        text-align: right;\n",
       "    }\n",
       "</style>\n",
       "<table border=\"1\" class=\"dataframe\">\n",
       "  <thead>\n",
       "    <tr style=\"text-align: right;\">\n",
       "      <th></th>\n",
       "      <th>Code</th>\n",
       "      <th>Region/Country/Area</th>\n",
       "      <th>Year</th>\n",
       "      <th>Series</th>\n",
       "      <th>Value</th>\n",
       "    </tr>\n",
       "  </thead>\n",
       "  <tbody>\n",
       "    <tr>\n",
       "      <th>0</th>\n",
       "      <td>1</td>\n",
       "      <td>Total, all countries or areas</td>\n",
       "      <td>2005</td>\n",
       "      <td>Teachers at primary level (thousands)</td>\n",
       "      <td>26899.0</td>\n",
       "    </tr>\n",
       "    <tr>\n",
       "      <th>1</th>\n",
       "      <td>1</td>\n",
       "      <td>Total, all countries or areas</td>\n",
       "      <td>2005</td>\n",
       "      <td>Teachers at secondary level (thousands)</td>\n",
       "      <td>28485.0</td>\n",
       "    </tr>\n",
       "    <tr>\n",
       "      <th>2</th>\n",
       "      <td>1</td>\n",
       "      <td>Total, all countries or areas</td>\n",
       "      <td>2005</td>\n",
       "      <td>Teachers at upper secondary level (thousands)</td>\n",
       "      <td>11834.0</td>\n",
       "    </tr>\n",
       "    <tr>\n",
       "      <th>3</th>\n",
       "      <td>1</td>\n",
       "      <td>Total, all countries or areas</td>\n",
       "      <td>2010</td>\n",
       "      <td>Teachers at primary level (thousands)</td>\n",
       "      <td>28679.0</td>\n",
       "    </tr>\n",
       "    <tr>\n",
       "      <th>4</th>\n",
       "      <td>1</td>\n",
       "      <td>Total, all countries or areas</td>\n",
       "      <td>2010</td>\n",
       "      <td>Teachers at secondary level (thousands)</td>\n",
       "      <td>32197.0</td>\n",
       "    </tr>\n",
       "  </tbody>\n",
       "</table>\n",
       "</div>"
      ],
      "text/plain": [
       "   Code            Region/Country/Area  Year  \\\n",
       "0     1  Total, all countries or areas  2005   \n",
       "1     1  Total, all countries or areas  2005   \n",
       "2     1  Total, all countries or areas  2005   \n",
       "3     1  Total, all countries or areas  2010   \n",
       "4     1  Total, all countries or areas  2010   \n",
       "\n",
       "                                          Series    Value  \n",
       "0          Teachers at primary level (thousands)  26899.0  \n",
       "1        Teachers at secondary level (thousands)  28485.0  \n",
       "2  Teachers at upper secondary level (thousands)  11834.0  \n",
       "3          Teachers at primary level (thousands)  28679.0  \n",
       "4        Teachers at secondary level (thousands)  32197.0  "
      ]
     },
     "execution_count": 8,
     "metadata": {},
     "output_type": "execute_result"
    }
   ],
   "source": [
    "df1 = df[['Code', 'Region/Country/Area', 'Year', 'Series', 'Value']]\n",
    "df1.head()"
   ]
  },
  {
   "cell_type": "code",
   "execution_count": 9,
   "metadata": {},
   "outputs": [
    {
     "data": {
      "text/plain": [
       "(3294, 5)"
      ]
     },
     "execution_count": 9,
     "metadata": {},
     "output_type": "execute_result"
    }
   ],
   "source": [
    "df1.shape"
   ]
  },
  {
   "cell_type": "code",
   "execution_count": 10,
   "metadata": {},
   "outputs": [
    {
     "name": "stdout",
     "output_type": "stream",
     "text": [
      "<class 'pandas.core.frame.DataFrame'>\n",
      "RangeIndex: 3294 entries, 0 to 3293\n",
      "Data columns (total 5 columns):\n",
      " #   Column               Non-Null Count  Dtype  \n",
      "---  ------               --------------  -----  \n",
      " 0   Code                 3294 non-null   int64  \n",
      " 1   Region/Country/Area  3294 non-null   object \n",
      " 2   Year                 3294 non-null   int64  \n",
      " 3   Series               3294 non-null   object \n",
      " 4   Value                3294 non-null   float64\n",
      "dtypes: float64(1), int64(2), object(2)\n",
      "memory usage: 128.8+ KB\n"
     ]
    }
   ],
   "source": [
    "df1.info()"
   ]
  },
  {
   "cell_type": "code",
   "execution_count": 11,
   "metadata": {},
   "outputs": [
    {
     "data": {
      "text/html": [
       "<div>\n",
       "<style scoped>\n",
       "    .dataframe tbody tr th:only-of-type {\n",
       "        vertical-align: middle;\n",
       "    }\n",
       "\n",
       "    .dataframe tbody tr th {\n",
       "        vertical-align: top;\n",
       "    }\n",
       "\n",
       "    .dataframe thead th {\n",
       "        text-align: right;\n",
       "    }\n",
       "</style>\n",
       "<table border=\"1\" class=\"dataframe\">\n",
       "  <thead>\n",
       "    <tr style=\"text-align: right;\">\n",
       "      <th></th>\n",
       "      <th>Region/Country/Area</th>\n",
       "      <th>Series</th>\n",
       "    </tr>\n",
       "  </thead>\n",
       "  <tbody>\n",
       "    <tr>\n",
       "      <th>count</th>\n",
       "      <td>3294</td>\n",
       "      <td>3294</td>\n",
       "    </tr>\n",
       "    <tr>\n",
       "      <th>unique</th>\n",
       "      <td>221</td>\n",
       "      <td>6</td>\n",
       "    </tr>\n",
       "    <tr>\n",
       "      <th>top</th>\n",
       "      <td>Sub-Saharan Africa</td>\n",
       "      <td>Teachers at primary level (thousands)</td>\n",
       "    </tr>\n",
       "    <tr>\n",
       "      <th>freq</th>\n",
       "      <td>36</td>\n",
       "      <td>876</td>\n",
       "    </tr>\n",
       "  </tbody>\n",
       "</table>\n",
       "</div>"
      ],
      "text/plain": [
       "       Region/Country/Area                                 Series\n",
       "count                 3294                                   3294\n",
       "unique                 221                                      6\n",
       "top     Sub-Saharan Africa  Teachers at primary level (thousands)\n",
       "freq                    36                                    876"
      ]
     },
     "execution_count": 11,
     "metadata": {},
     "output_type": "execute_result"
    }
   ],
   "source": [
    "df1.describe(include='object')"
   ]
  },
  {
   "cell_type": "code",
   "execution_count": 12,
   "metadata": {},
   "outputs": [
    {
     "data": {
      "text/plain": [
       "Sub-Saharan Africa           36\n",
       "Mozambique                   34\n",
       "Dominica                     32\n",
       "Bangladesh                   32\n",
       "Serbia                       30\n",
       "                             ..\n",
       "Sint Maarten (Dutch part)     3\n",
       "Gabon                         2\n",
       "Libya                         2\n",
       "Montenegro                    2\n",
       "Marshall Islands              1\n",
       "Name: Region/Country/Area, Length: 221, dtype: int64"
      ]
     },
     "execution_count": 12,
     "metadata": {},
     "output_type": "execute_result"
    }
   ],
   "source": [
    "df1['Region/Country/Area'].value_counts()"
   ]
  },
  {
   "cell_type": "code",
   "execution_count": 13,
   "metadata": {},
   "outputs": [
    {
     "data": {
      "text/plain": [
       "Teachers at primary level (thousands)                                     876\n",
       "Teachers at secondary level (thousands)                                   720\n",
       "Teachers at upper secondary level (thousands)                             569\n",
       "Teachers with minimum required qualifications at primary level            529\n",
       "Teachers with minimum required qualifications at secondary level          350\n",
       "Teachers with minimum required qualifications at upper secondary level    250\n",
       "Name: Series, dtype: int64"
      ]
     },
     "execution_count": 13,
     "metadata": {},
     "output_type": "execute_result"
    }
   ],
   "source": [
    "df1['Series'].value_counts()"
   ]
  },
  {
   "cell_type": "markdown",
   "metadata": {},
   "source": [
    "# Data Cleaning"
   ]
  },
  {
   "cell_type": "code",
   "execution_count": 14,
   "metadata": {},
   "outputs": [
    {
     "data": {
      "text/plain": [
       "array(['Total, all countries or areas', 'Northern Africa',\n",
       "       'Sub-Saharan Africa', 'Northern America',\n",
       "       'Latin America & the Caribbean', 'Central Asia', 'Eastern Asia',\n",
       "       'South-central Asia', 'South-eastern Asia', 'Southern Asia',\n",
       "       'Western Asia', 'Europe', 'Oceania', 'Afghanistan', 'Albania',\n",
       "       'Algeria', 'Andorra', 'Angola', 'Anguilla', 'Antigua and Barbuda',\n",
       "       'Argentina', 'Armenia', 'Aruba', 'Austria', 'Azerbaijan',\n",
       "       'Bahamas', 'Bahrain', 'Bangladesh', 'Barbados', 'Belarus',\n",
       "       'Belgium', 'Belize', 'Benin', 'Bermuda', 'Bhutan',\n",
       "       'Bolivia (Plurin. State of)', 'Bosnia and Herzegovina', 'Botswana',\n",
       "       'Brazil', 'British Virgin Islands', 'Brunei Darussalam',\n",
       "       'Bulgaria', 'Burkina Faso', 'Burundi', 'Cabo Verde', 'Cambodia',\n",
       "       'Cameroon', 'Canada', 'Cayman Islands', 'Central African Republic',\n",
       "       'Chad', 'Chile', 'China', 'China, Hong Kong SAR',\n",
       "       'China, Macao SAR', 'Colombia', 'Comoros', 'Congo', 'Cook Islands',\n",
       "       'Costa Rica', 'Côte d’Ivoire', 'Croatia', 'Cuba', 'Cyprus',\n",
       "       'Czechia', \"Dem. People's Rep. Korea\", 'Dem. Rep. of the Congo',\n",
       "       'Denmark', 'Djibouti', 'Dominica', 'Dominican Republic', 'Ecuador',\n",
       "       'Egypt', 'El Salvador', 'Equatorial Guinea', 'Eritrea', 'Estonia',\n",
       "       'Eswatini', 'Ethiopia', 'Fiji', 'Finland', 'France', 'Gabon',\n",
       "       'Gambia', 'Georgia', 'Germany', 'Ghana', 'Gibraltar', 'Greece',\n",
       "       'Grenada', 'Guatemala', 'Guinea', 'Guinea-Bissau', 'Guyana',\n",
       "       'Holy See', 'Honduras', 'Hungary', 'Iceland', 'India', 'Indonesia',\n",
       "       'Iran (Islamic Republic of)', 'Iraq', 'Ireland', 'Israel', 'Italy',\n",
       "       'Jamaica', 'Japan', 'Jordan', 'Kazakhstan', 'Kenya', 'Kiribati',\n",
       "       'Kuwait', 'Kyrgyzstan', \"Lao People's Dem. Rep.\", 'Latvia',\n",
       "       'Lebanon', 'Lesotho', 'Liberia', 'Libya', 'Liechtenstein',\n",
       "       'Lithuania', 'Luxembourg', 'Madagascar', 'Malawi', 'Malaysia',\n",
       "       'Maldives', 'Mali', 'Malta', 'Marshall Islands', 'Mauritania',\n",
       "       'Mauritius', 'Mexico', 'Micronesia (Fed. States of)', 'Monaco',\n",
       "       'Mongolia', 'Montenegro', 'Montserrat', 'Morocco', 'Mozambique',\n",
       "       'Myanmar', 'Namibia', 'Nauru', 'Nepal', 'Netherlands',\n",
       "       'New Zealand', 'Nicaragua', 'Niger', 'Nigeria', 'Niue',\n",
       "       'North Macedonia', 'Norway', 'Oman', 'Pakistan', 'Panama',\n",
       "       'Papua New Guinea', 'Paraguay', 'Peru', 'Philippines', 'Poland',\n",
       "       'Portugal', 'Puerto Rico', 'Qatar', 'Republic of Korea',\n",
       "       'Republic of Moldova', 'Romania', 'Russian Federation', 'Rwanda',\n",
       "       'Saint Kitts and Nevis', 'Saint Lucia',\n",
       "       'Saint Vincent & Grenadines', 'Samoa', 'San Marino',\n",
       "       'Sao Tome and Principe', 'Saudi Arabia', 'Senegal', 'Serbia',\n",
       "       'Seychelles', 'Sierra Leone', 'Singapore',\n",
       "       'Sint Maarten (Dutch part)', 'Slovakia', 'Slovenia',\n",
       "       'Solomon Islands', 'Somalia', 'South Africa', 'South Sudan',\n",
       "       'Spain', 'Sri Lanka', 'State of Palestine', 'Sudan',\n",
       "       'Sudan [former]', 'Suriname', 'Sweden', 'Switzerland',\n",
       "       'Syrian Arab Republic', 'Tajikistan', 'Thailand', 'Timor-Leste',\n",
       "       'Togo', 'Tokelau', 'Tonga', 'Trinidad and Tobago', 'Tunisia',\n",
       "       'Turkey', 'Turkmenistan', 'Turks and Caicos Islands', 'Tuvalu',\n",
       "       'Uganda', 'Ukraine', 'United Arab Emirates', 'United Kingdom',\n",
       "       'United Rep. of Tanzania', 'United States of America', 'Uruguay',\n",
       "       'Uzbekistan', 'Vanuatu', 'Viet Nam', 'Yemen', 'Zambia', 'Zimbabwe',\n",
       "       'LDC§'], dtype=object)"
      ]
     },
     "execution_count": 14,
     "metadata": {},
     "output_type": "execute_result"
    }
   ],
   "source": [
    "df1['Region/Country/Area'].replace(\n",
    "    {'C�te d�Ivoire': \"Côte d’Ivoire\",\n",
    "    'LDC�': 'LDC§'}, inplace=True\n",
    ")\n",
    "\n",
    "df1['Region/Country/Area'].unique()"
   ]
  },
  {
   "cell_type": "code",
   "execution_count": 15,
   "metadata": {},
   "outputs": [
    {
     "data": {
      "text/plain": [
       "202    36\n",
       "508    34\n",
       "212    32\n",
       "50     32\n",
       "688    30\n",
       "       ..\n",
       "534     3\n",
       "266     2\n",
       "434     2\n",
       "499     2\n",
       "584     1\n",
       "Name: Code, Length: 221, dtype: int64"
      ]
     },
     "execution_count": 15,
     "metadata": {},
     "output_type": "execute_result"
    }
   ],
   "source": [
    "df1['Code'].value_counts()"
   ]
  },
  {
   "cell_type": "code",
   "execution_count": 16,
   "metadata": {},
   "outputs": [
    {
     "data": {
      "text/plain": [
       "2015    599\n",
       "2005    501\n",
       "2010    500\n",
       "2019    424\n",
       "2018    290\n",
       "Name: Year, dtype: int64"
      ]
     },
     "execution_count": 16,
     "metadata": {},
     "output_type": "execute_result"
    }
   ],
   "source": [
    "df1['Year'].value_counts().head()"
   ]
  },
  {
   "cell_type": "code",
   "execution_count": 17,
   "metadata": {},
   "outputs": [
    {
     "data": {
      "text/plain": [
       "count     3294.000000\n",
       "mean       306.363570\n",
       "std       1763.193201\n",
       "min          0.000000\n",
       "25%         14.000000\n",
       "50%         65.000000\n",
       "75%        100.000000\n",
       "max      36526.000000\n",
       "Name: Value, dtype: float64"
      ]
     },
     "execution_count": 17,
     "metadata": {},
     "output_type": "execute_result"
    }
   ],
   "source": [
    "df1['Value'].describe()"
   ]
  },
  {
   "cell_type": "code",
   "execution_count": 18,
   "metadata": {},
   "outputs": [
    {
     "data": {
      "text/plain": [
       "<AxesSubplot:xlabel='Value', ylabel='Density'>"
      ]
     },
     "execution_count": 18,
     "metadata": {},
     "output_type": "execute_result"
    },
    {
     "data": {
      "image/png": "[encoded data removed]",
      "text/plain": [
       "<Figure size 864x648 with 1 Axes>"
      ]
     },
     "metadata": {},
     "output_type": "display_data"
    }
   ],
   "source": [
    "sns.kdeplot(data=df1, x='Value')"
   ]
  },
  {
   "cell_type": "markdown",
   "metadata": {},
   "source": [
    "# Missing Values Exploration"
   ]
  },
  {
   "cell_type": "code",
   "execution_count": 19,
   "metadata": {},
   "outputs": [
    {
     "data": {
      "text/plain": [
       "Code                   0\n",
       "Region/Country/Area    0\n",
       "Year                   0\n",
       "Series                 0\n",
       "Value                  0\n",
       "dtype: int64"
      ]
     },
     "execution_count": 19,
     "metadata": {},
     "output_type": "execute_result"
    }
   ],
   "source": [
    "df1.isna().sum()"
   ]
  },
  {
   "cell_type": "markdown",
   "metadata": {},
   "source": [
    "# Grouping and Aggregation"
   ]
  },
  {
   "cell_type": "markdown",
   "metadata": {},
   "source": [
    "Filter By Region"
   ]
  },
  {
   "cell_type": "code",
   "execution_count": 20,
   "metadata": {},
   "outputs": [
    {
     "data": {
      "text/html": [
       "<div>\n",
       "<style scoped>\n",
       "    .dataframe tbody tr th:only-of-type {\n",
       "        vertical-align: middle;\n",
       "    }\n",
       "\n",
       "    .dataframe tbody tr th {\n",
       "        vertical-align: top;\n",
       "    }\n",
       "\n",
       "    .dataframe thead th {\n",
       "        text-align: right;\n",
       "    }\n",
       "</style>\n",
       "<table border=\"1\" class=\"dataframe\">\n",
       "  <thead>\n",
       "    <tr style=\"text-align: right;\">\n",
       "      <th></th>\n",
       "      <th>Code</th>\n",
       "      <th>Region/Country/Area</th>\n",
       "      <th>Year</th>\n",
       "      <th>Series</th>\n",
       "      <th>Value</th>\n",
       "    </tr>\n",
       "  </thead>\n",
       "  <tbody>\n",
       "    <tr>\n",
       "      <th>15</th>\n",
       "      <td>15</td>\n",
       "      <td>Northern Africa</td>\n",
       "      <td>2005</td>\n",
       "      <td>Teachers at primary level (thousands)</td>\n",
       "      <td>944.0</td>\n",
       "    </tr>\n",
       "    <tr>\n",
       "      <th>16</th>\n",
       "      <td>15</td>\n",
       "      <td>Northern Africa</td>\n",
       "      <td>2005</td>\n",
       "      <td>Teachers with minimum required qualifications ...</td>\n",
       "      <td>98.2</td>\n",
       "    </tr>\n",
       "    <tr>\n",
       "      <th>17</th>\n",
       "      <td>15</td>\n",
       "      <td>Northern Africa</td>\n",
       "      <td>2005</td>\n",
       "      <td>Teachers at secondary level (thousands)</td>\n",
       "      <td>993.0</td>\n",
       "    </tr>\n",
       "    <tr>\n",
       "      <th>18</th>\n",
       "      <td>15</td>\n",
       "      <td>Northern Africa</td>\n",
       "      <td>2005</td>\n",
       "      <td>Teachers at upper secondary level (thousands)</td>\n",
       "      <td>495.0</td>\n",
       "    </tr>\n",
       "    <tr>\n",
       "      <th>19</th>\n",
       "      <td>15</td>\n",
       "      <td>Northern Africa</td>\n",
       "      <td>2007</td>\n",
       "      <td>Teachers at primary level (thousands)</td>\n",
       "      <td>952.0</td>\n",
       "    </tr>\n",
       "    <tr>\n",
       "      <th>...</th>\n",
       "      <td>...</td>\n",
       "      <td>...</td>\n",
       "      <td>...</td>\n",
       "      <td>...</td>\n",
       "      <td>...</td>\n",
       "    </tr>\n",
       "    <tr>\n",
       "      <th>220</th>\n",
       "      <td>150</td>\n",
       "      <td>Europe</td>\n",
       "      <td>2019</td>\n",
       "      <td>Teachers at upper secondary level (thousands)</td>\n",
       "      <td>2297.0</td>\n",
       "    </tr>\n",
       "    <tr>\n",
       "      <th>221</th>\n",
       "      <td>9</td>\n",
       "      <td>Oceania</td>\n",
       "      <td>2005</td>\n",
       "      <td>Teachers at primary level (thousands)</td>\n",
       "      <td>159.0</td>\n",
       "    </tr>\n",
       "    <tr>\n",
       "      <th>222</th>\n",
       "      <td>9</td>\n",
       "      <td>Oceania</td>\n",
       "      <td>2010</td>\n",
       "      <td>Teachers at primary level (thousands)</td>\n",
       "      <td>175.0</td>\n",
       "    </tr>\n",
       "    <tr>\n",
       "      <th>223</th>\n",
       "      <td>9</td>\n",
       "      <td>Oceania</td>\n",
       "      <td>2015</td>\n",
       "      <td>Teachers at primary level (thousands)</td>\n",
       "      <td>195.0</td>\n",
       "    </tr>\n",
       "    <tr>\n",
       "      <th>224</th>\n",
       "      <td>9</td>\n",
       "      <td>Oceania</td>\n",
       "      <td>2017</td>\n",
       "      <td>Teachers at primary level (thousands)</td>\n",
       "      <td>202.0</td>\n",
       "    </tr>\n",
       "  </tbody>\n",
       "</table>\n",
       "<p>210 rows × 5 columns</p>\n",
       "</div>"
      ],
      "text/plain": [
       "     Code Region/Country/Area  Year  \\\n",
       "15     15     Northern Africa  2005   \n",
       "16     15     Northern Africa  2005   \n",
       "17     15     Northern Africa  2005   \n",
       "18     15     Northern Africa  2005   \n",
       "19     15     Northern Africa  2007   \n",
       "..    ...                 ...   ...   \n",
       "220   150              Europe  2019   \n",
       "221     9             Oceania  2005   \n",
       "222     9             Oceania  2010   \n",
       "223     9             Oceania  2015   \n",
       "224     9             Oceania  2017   \n",
       "\n",
       "                                                Series   Value  \n",
       "15               Teachers at primary level (thousands)   944.0  \n",
       "16   Teachers with minimum required qualifications ...    98.2  \n",
       "17             Teachers at secondary level (thousands)   993.0  \n",
       "18       Teachers at upper secondary level (thousands)   495.0  \n",
       "19               Teachers at primary level (thousands)   952.0  \n",
       "..                                                 ...     ...  \n",
       "220      Teachers at upper secondary level (thousands)  2297.0  \n",
       "221              Teachers at primary level (thousands)   159.0  \n",
       "222              Teachers at primary level (thousands)   175.0  \n",
       "223              Teachers at primary level (thousands)   195.0  \n",
       "224              Teachers at primary level (thousands)   202.0  \n",
       "\n",
       "[210 rows x 5 columns]"
      ]
     },
     "execution_count": 20,
     "metadata": {},
     "output_type": "execute_result"
    }
   ],
   "source": [
    "regions = ['Africa', 'Northern Africa', 'Sub-Saharan Africa', 'Eastern Africa', 'Middle Africa', 'Southern Africa', 'Western Africa', \n",
    "           'Americas', 'Northern America', 'Latin America & the Caribbean', 'Caribbean', 'Central America', 'South America', 'Asia', \n",
    "           'Central Asia', 'Eastern Asia', 'South-central Asia', 'South-eastern Asia', 'Southern Asia', 'Western Asia', 'Europe', \n",
    "           'Eastern Europe', 'Northern Europe', 'Southern Europe', 'Western Europe', 'Oceania', 'Australia and New Zealand', 'Melanesia']\n",
    "\n",
    "df_reg_filt = df1[df1['Region/Country/Area'].isin(regions)]\n",
    "df_reg_filt"
   ]
  },
  {
   "cell_type": "code",
   "execution_count": 21,
   "metadata": {},
   "outputs": [
    {
     "data": {
      "text/html": [
       "<div>\n",
       "<style scoped>\n",
       "    .dataframe tbody tr th:only-of-type {\n",
       "        vertical-align: middle;\n",
       "    }\n",
       "\n",
       "    .dataframe tbody tr th {\n",
       "        vertical-align: top;\n",
       "    }\n",
       "\n",
       "    .dataframe thead th {\n",
       "        text-align: right;\n",
       "    }\n",
       "</style>\n",
       "<table border=\"1\" class=\"dataframe\">\n",
       "  <thead>\n",
       "    <tr style=\"text-align: right;\">\n",
       "      <th></th>\n",
       "      <th>Code</th>\n",
       "      <th>Region</th>\n",
       "      <th>Year</th>\n",
       "      <th>Series</th>\n",
       "      <th>Value</th>\n",
       "    </tr>\n",
       "  </thead>\n",
       "  <tbody>\n",
       "    <tr>\n",
       "      <th>15</th>\n",
       "      <td>15</td>\n",
       "      <td>Northern Africa</td>\n",
       "      <td>2005</td>\n",
       "      <td>Teachers at primary level (thousands)</td>\n",
       "      <td>944.0</td>\n",
       "    </tr>\n",
       "    <tr>\n",
       "      <th>16</th>\n",
       "      <td>15</td>\n",
       "      <td>Northern Africa</td>\n",
       "      <td>2005</td>\n",
       "      <td>Teachers with minimum required qualifications ...</td>\n",
       "      <td>98.2</td>\n",
       "    </tr>\n",
       "    <tr>\n",
       "      <th>17</th>\n",
       "      <td>15</td>\n",
       "      <td>Northern Africa</td>\n",
       "      <td>2005</td>\n",
       "      <td>Teachers at secondary level (thousands)</td>\n",
       "      <td>993.0</td>\n",
       "    </tr>\n",
       "    <tr>\n",
       "      <th>18</th>\n",
       "      <td>15</td>\n",
       "      <td>Northern Africa</td>\n",
       "      <td>2005</td>\n",
       "      <td>Teachers at upper secondary level (thousands)</td>\n",
       "      <td>495.0</td>\n",
       "    </tr>\n",
       "    <tr>\n",
       "      <th>19</th>\n",
       "      <td>15</td>\n",
       "      <td>Northern Africa</td>\n",
       "      <td>2007</td>\n",
       "      <td>Teachers at primary level (thousands)</td>\n",
       "      <td>952.0</td>\n",
       "    </tr>\n",
       "    <tr>\n",
       "      <th>...</th>\n",
       "      <td>...</td>\n",
       "      <td>...</td>\n",
       "      <td>...</td>\n",
       "      <td>...</td>\n",
       "      <td>...</td>\n",
       "    </tr>\n",
       "    <tr>\n",
       "      <th>220</th>\n",
       "      <td>150</td>\n",
       "      <td>Europe</td>\n",
       "      <td>2019</td>\n",
       "      <td>Teachers at upper secondary level (thousands)</td>\n",
       "      <td>2297.0</td>\n",
       "    </tr>\n",
       "    <tr>\n",
       "      <th>221</th>\n",
       "      <td>9</td>\n",
       "      <td>Oceania</td>\n",
       "      <td>2005</td>\n",
       "      <td>Teachers at primary level (thousands)</td>\n",
       "      <td>159.0</td>\n",
       "    </tr>\n",
       "    <tr>\n",
       "      <th>222</th>\n",
       "      <td>9</td>\n",
       "      <td>Oceania</td>\n",
       "      <td>2010</td>\n",
       "      <td>Teachers at primary level (thousands)</td>\n",
       "      <td>175.0</td>\n",
       "    </tr>\n",
       "    <tr>\n",
       "      <th>223</th>\n",
       "      <td>9</td>\n",
       "      <td>Oceania</td>\n",
       "      <td>2015</td>\n",
       "      <td>Teachers at primary level (thousands)</td>\n",
       "      <td>195.0</td>\n",
       "    </tr>\n",
       "    <tr>\n",
       "      <th>224</th>\n",
       "      <td>9</td>\n",
       "      <td>Oceania</td>\n",
       "      <td>2017</td>\n",
       "      <td>Teachers at primary level (thousands)</td>\n",
       "      <td>202.0</td>\n",
       "    </tr>\n",
       "  </tbody>\n",
       "</table>\n",
       "<p>210 rows × 5 columns</p>\n",
       "</div>"
      ],
      "text/plain": [
       "     Code           Region  Year  \\\n",
       "15     15  Northern Africa  2005   \n",
       "16     15  Northern Africa  2005   \n",
       "17     15  Northern Africa  2005   \n",
       "18     15  Northern Africa  2005   \n",
       "19     15  Northern Africa  2007   \n",
       "..    ...              ...   ...   \n",
       "220   150           Europe  2019   \n",
       "221     9          Oceania  2005   \n",
       "222     9          Oceania  2010   \n",
       "223     9          Oceania  2015   \n",
       "224     9          Oceania  2017   \n",
       "\n",
       "                                                Series   Value  \n",
       "15               Teachers at primary level (thousands)   944.0  \n",
       "16   Teachers with minimum required qualifications ...    98.2  \n",
       "17             Teachers at secondary level (thousands)   993.0  \n",
       "18       Teachers at upper secondary level (thousands)   495.0  \n",
       "19               Teachers at primary level (thousands)   952.0  \n",
       "..                                                 ...     ...  \n",
       "220      Teachers at upper secondary level (thousands)  2297.0  \n",
       "221              Teachers at primary level (thousands)   159.0  \n",
       "222              Teachers at primary level (thousands)   175.0  \n",
       "223              Teachers at primary level (thousands)   195.0  \n",
       "224              Teachers at primary level (thousands)   202.0  \n",
       "\n",
       "[210 rows x 5 columns]"
      ]
     },
     "execution_count": 21,
     "metadata": {},
     "output_type": "execute_result"
    }
   ],
   "source": [
    "df_reg_filt.rename(columns={\n",
    "    'Region/Country/Area': 'Region'\n",
    "}, inplace=True)\n",
    "\n",
    "df_reg_filt"
   ]
  },
  {
   "cell_type": "markdown",
   "metadata": {},
   "source": [
    "# Data Visualization"
   ]
  },
  {
   "cell_type": "code",
   "execution_count": 22,
   "metadata": {},
   "outputs": [],
   "source": [
    "from matplotlib.ticker import FuncFormatter\n",
    "\n",
    "# helper function to format y-axis\n",
    "def thousand(x, pos):\n",
    "    return '%1.1fK' % (x * 1e-3)\n",
    "\n",
    "format_tsd = FuncFormatter(thousand)\n",
    "\n",
    "# percentage function for formatting y-axis\n",
    "def percentage(x, pos):\n",
    "    return '%1.1f' % (x * 1)\n",
    "\n",
    "format_pct = FuncFormatter(percentage)\n",
    "\n",
    "# bar plot helper function\n",
    "def plot_bar(data, x, y, ci=None, hue=None, xlabel=None, ylabel=None, title=None, formatter=None):\n",
    "\n",
    "    # set plot theme\n",
    "    sns.set_theme(style='white', context='talk')\n",
    "\n",
    "    # Initialize the matplotlib figure\n",
    "    fig, ax = plt.subplots()\n",
    "    fig.autofmt_xdate()\n",
    "\n",
    "    # plot bar chart\n",
    "    sns.barplot(\n",
    "        data=data,\n",
    "        x=x, y=y, ci=None,\n",
    "        hue=hue)\n",
    "\n",
    "    # despine axes\n",
    "    sns.despine(left=True, bottom=True)\n",
    "\n",
    "    # label axis\n",
    "    ax.set(xlabel=xlabel, ylabel=ylabel, title=title)\n",
    "\n",
    "    # set y-axis formatter\n",
    "    ax.yaxis.set_major_formatter(formatter=formatter)\n",
    "\n",
    "    return plot_bar"
   ]
  },
  {
   "cell_type": "markdown",
   "metadata": {},
   "source": [
    "Filter teachers at different educational levels"
   ]
  },
  {
   "cell_type": "code",
   "execution_count": 23,
   "metadata": {},
   "outputs": [
    {
     "data": {
      "text/html": [
       "<div>\n",
       "<style scoped>\n",
       "    .dataframe tbody tr th:only-of-type {\n",
       "        vertical-align: middle;\n",
       "    }\n",
       "\n",
       "    .dataframe tbody tr th {\n",
       "        vertical-align: top;\n",
       "    }\n",
       "\n",
       "    .dataframe thead th {\n",
       "        text-align: right;\n",
       "    }\n",
       "</style>\n",
       "<table border=\"1\" class=\"dataframe\">\n",
       "  <thead>\n",
       "    <tr style=\"text-align: right;\">\n",
       "      <th></th>\n",
       "      <th>Code</th>\n",
       "      <th>Region</th>\n",
       "      <th>Year</th>\n",
       "      <th>Series</th>\n",
       "      <th>Value</th>\n",
       "    </tr>\n",
       "  </thead>\n",
       "  <tbody>\n",
       "    <tr>\n",
       "      <th>15</th>\n",
       "      <td>15</td>\n",
       "      <td>Northern Africa</td>\n",
       "      <td>2005</td>\n",
       "      <td>Teachers at primary level (thousands)</td>\n",
       "      <td>944.0</td>\n",
       "    </tr>\n",
       "    <tr>\n",
       "      <th>17</th>\n",
       "      <td>15</td>\n",
       "      <td>Northern Africa</td>\n",
       "      <td>2005</td>\n",
       "      <td>Teachers at secondary level (thousands)</td>\n",
       "      <td>993.0</td>\n",
       "    </tr>\n",
       "    <tr>\n",
       "      <th>18</th>\n",
       "      <td>15</td>\n",
       "      <td>Northern Africa</td>\n",
       "      <td>2005</td>\n",
       "      <td>Teachers at upper secondary level (thousands)</td>\n",
       "      <td>495.0</td>\n",
       "    </tr>\n",
       "    <tr>\n",
       "      <th>19</th>\n",
       "      <td>15</td>\n",
       "      <td>Northern Africa</td>\n",
       "      <td>2007</td>\n",
       "      <td>Teachers at primary level (thousands)</td>\n",
       "      <td>952.0</td>\n",
       "    </tr>\n",
       "    <tr>\n",
       "      <th>21</th>\n",
       "      <td>15</td>\n",
       "      <td>Northern Africa</td>\n",
       "      <td>2007</td>\n",
       "      <td>Teachers at secondary level (thousands)</td>\n",
       "      <td>1037.0</td>\n",
       "    </tr>\n",
       "    <tr>\n",
       "      <th>...</th>\n",
       "      <td>...</td>\n",
       "      <td>...</td>\n",
       "      <td>...</td>\n",
       "      <td>...</td>\n",
       "      <td>...</td>\n",
       "    </tr>\n",
       "    <tr>\n",
       "      <th>220</th>\n",
       "      <td>150</td>\n",
       "      <td>Europe</td>\n",
       "      <td>2019</td>\n",
       "      <td>Teachers at upper secondary level (thousands)</td>\n",
       "      <td>2297.0</td>\n",
       "    </tr>\n",
       "    <tr>\n",
       "      <th>221</th>\n",
       "      <td>9</td>\n",
       "      <td>Oceania</td>\n",
       "      <td>2005</td>\n",
       "      <td>Teachers at primary level (thousands)</td>\n",
       "      <td>159.0</td>\n",
       "    </tr>\n",
       "    <tr>\n",
       "      <th>222</th>\n",
       "      <td>9</td>\n",
       "      <td>Oceania</td>\n",
       "      <td>2010</td>\n",
       "      <td>Teachers at primary level (thousands)</td>\n",
       "      <td>175.0</td>\n",
       "    </tr>\n",
       "    <tr>\n",
       "      <th>223</th>\n",
       "      <td>9</td>\n",
       "      <td>Oceania</td>\n",
       "      <td>2015</td>\n",
       "      <td>Teachers at primary level (thousands)</td>\n",
       "      <td>195.0</td>\n",
       "    </tr>\n",
       "    <tr>\n",
       "      <th>224</th>\n",
       "      <td>9</td>\n",
       "      <td>Oceania</td>\n",
       "      <td>2017</td>\n",
       "      <td>Teachers at primary level (thousands)</td>\n",
       "      <td>202.0</td>\n",
       "    </tr>\n",
       "  </tbody>\n",
       "</table>\n",
       "<p>148 rows × 5 columns</p>\n",
       "</div>"
      ],
      "text/plain": [
       "     Code           Region  Year  \\\n",
       "15     15  Northern Africa  2005   \n",
       "17     15  Northern Africa  2005   \n",
       "18     15  Northern Africa  2005   \n",
       "19     15  Northern Africa  2007   \n",
       "21     15  Northern Africa  2007   \n",
       "..    ...              ...   ...   \n",
       "220   150           Europe  2019   \n",
       "221     9          Oceania  2005   \n",
       "222     9          Oceania  2010   \n",
       "223     9          Oceania  2015   \n",
       "224     9          Oceania  2017   \n",
       "\n",
       "                                            Series   Value  \n",
       "15           Teachers at primary level (thousands)   944.0  \n",
       "17         Teachers at secondary level (thousands)   993.0  \n",
       "18   Teachers at upper secondary level (thousands)   495.0  \n",
       "19           Teachers at primary level (thousands)   952.0  \n",
       "21         Teachers at secondary level (thousands)  1037.0  \n",
       "..                                             ...     ...  \n",
       "220  Teachers at upper secondary level (thousands)  2297.0  \n",
       "221          Teachers at primary level (thousands)   159.0  \n",
       "222          Teachers at primary level (thousands)   175.0  \n",
       "223          Teachers at primary level (thousands)   195.0  \n",
       "224          Teachers at primary level (thousands)   202.0  \n",
       "\n",
       "[148 rows x 5 columns]"
      ]
     },
     "execution_count": 23,
     "metadata": {},
     "output_type": "execute_result"
    }
   ],
   "source": [
    "edu_lev = ['Teachers at primary level (thousands)', \n",
    "              'Teachers at secondary level (thousands)',\n",
    "              'Teachers at upper secondary level (thousands)']\n",
    "\n",
    "df_reg_filt_edulev = df_reg_filt[df_reg_filt['Series'].isin(edu_lev)]\n",
    "df_reg_filt_edulev"
   ]
  },
  {
   "cell_type": "code",
   "execution_count": 24,
   "metadata": {},
   "outputs": [
    {
     "data": {
      "text/plain": [
       "<function __main__.plot_bar(data, x, y, ci=None, hue=None, xlabel=None, ylabel=None, title=None, formatter=None)>"
      ]
     },
     "execution_count": 24,
     "metadata": {},
     "output_type": "execute_result"
    },
    {
     "data": {
      "image/png": "[encoded data removed]",
      "text/plain": [
       "<Figure size 864x648 with 1 Axes>"
      ]
     },
     "metadata": {},
     "output_type": "display_data"
    }
   ],
   "source": [
    "plot_bar(\n",
    "    data=df_reg_filt_edulev,\n",
    "    x='Year', y='Value',\n",
    "    hue='Series',\n",
    "    formatter=format_tsd\n",
    ")"
   ]
  },
  {
   "cell_type": "markdown",
   "metadata": {},
   "source": [
    "Filter Teachers with minimum required qualifications"
   ]
  },
  {
   "cell_type": "code",
   "execution_count": 25,
   "metadata": {},
   "outputs": [
    {
     "data": {
      "text/html": [
       "<div>\n",
       "<style scoped>\n",
       "    .dataframe tbody tr th:only-of-type {\n",
       "        vertical-align: middle;\n",
       "    }\n",
       "\n",
       "    .dataframe tbody tr th {\n",
       "        vertical-align: top;\n",
       "    }\n",
       "\n",
       "    .dataframe thead th {\n",
       "        text-align: right;\n",
       "    }\n",
       "</style>\n",
       "<table border=\"1\" class=\"dataframe\">\n",
       "  <thead>\n",
       "    <tr style=\"text-align: right;\">\n",
       "      <th></th>\n",
       "      <th>Code</th>\n",
       "      <th>Region</th>\n",
       "      <th>Year</th>\n",
       "      <th>Series</th>\n",
       "      <th>Value</th>\n",
       "    </tr>\n",
       "  </thead>\n",
       "  <tbody>\n",
       "    <tr>\n",
       "      <th>16</th>\n",
       "      <td>15</td>\n",
       "      <td>Northern Africa</td>\n",
       "      <td>2005</td>\n",
       "      <td>Teachers with minimum required qualifications ...</td>\n",
       "      <td>98.2</td>\n",
       "    </tr>\n",
       "    <tr>\n",
       "      <th>20</th>\n",
       "      <td>15</td>\n",
       "      <td>Northern Africa</td>\n",
       "      <td>2007</td>\n",
       "      <td>Teachers with minimum required qualifications ...</td>\n",
       "      <td>98.0</td>\n",
       "    </tr>\n",
       "    <tr>\n",
       "      <th>27</th>\n",
       "      <td>15</td>\n",
       "      <td>Northern Africa</td>\n",
       "      <td>2015</td>\n",
       "      <td>Teachers with minimum required qualifications ...</td>\n",
       "      <td>87.0</td>\n",
       "    </tr>\n",
       "    <tr>\n",
       "      <th>29</th>\n",
       "      <td>15</td>\n",
       "      <td>Northern Africa</td>\n",
       "      <td>2015</td>\n",
       "      <td>Teachers with minimum required qualifications ...</td>\n",
       "      <td>80.3</td>\n",
       "    </tr>\n",
       "    <tr>\n",
       "      <th>31</th>\n",
       "      <td>15</td>\n",
       "      <td>Northern Africa</td>\n",
       "      <td>2015</td>\n",
       "      <td>Teachers with minimum required qualifications ...</td>\n",
       "      <td>78.6</td>\n",
       "    </tr>\n",
       "    <tr>\n",
       "      <th>...</th>\n",
       "      <td>...</td>\n",
       "      <td>...</td>\n",
       "      <td>...</td>\n",
       "      <td>...</td>\n",
       "      <td>...</td>\n",
       "    </tr>\n",
       "    <tr>\n",
       "      <th>188</th>\n",
       "      <td>34</td>\n",
       "      <td>Southern Asia</td>\n",
       "      <td>2019</td>\n",
       "      <td>Teachers with minimum required qualifications ...</td>\n",
       "      <td>76.6</td>\n",
       "    </tr>\n",
       "    <tr>\n",
       "      <th>190</th>\n",
       "      <td>34</td>\n",
       "      <td>Southern Asia</td>\n",
       "      <td>2019</td>\n",
       "      <td>Teachers with minimum required qualifications ...</td>\n",
       "      <td>80.7</td>\n",
       "    </tr>\n",
       "    <tr>\n",
       "      <th>191</th>\n",
       "      <td>145</td>\n",
       "      <td>Western Asia</td>\n",
       "      <td>2003</td>\n",
       "      <td>Teachers with minimum required qualifications ...</td>\n",
       "      <td>94.1</td>\n",
       "    </tr>\n",
       "    <tr>\n",
       "      <th>199</th>\n",
       "      <td>145</td>\n",
       "      <td>Western Asia</td>\n",
       "      <td>2015</td>\n",
       "      <td>Teachers with minimum required qualifications ...</td>\n",
       "      <td>87.1</td>\n",
       "    </tr>\n",
       "    <tr>\n",
       "      <th>203</th>\n",
       "      <td>145</td>\n",
       "      <td>Western Asia</td>\n",
       "      <td>2016</td>\n",
       "      <td>Teachers with minimum required qualifications ...</td>\n",
       "      <td>86.4</td>\n",
       "    </tr>\n",
       "  </tbody>\n",
       "</table>\n",
       "<p>62 rows × 5 columns</p>\n",
       "</div>"
      ],
      "text/plain": [
       "     Code           Region  Year  \\\n",
       "16     15  Northern Africa  2005   \n",
       "20     15  Northern Africa  2007   \n",
       "27     15  Northern Africa  2015   \n",
       "29     15  Northern Africa  2015   \n",
       "31     15  Northern Africa  2015   \n",
       "..    ...              ...   ...   \n",
       "188    34    Southern Asia  2019   \n",
       "190    34    Southern Asia  2019   \n",
       "191   145     Western Asia  2003   \n",
       "199   145     Western Asia  2015   \n",
       "203   145     Western Asia  2016   \n",
       "\n",
       "                                                Series  Value  \n",
       "16   Teachers with minimum required qualifications ...   98.2  \n",
       "20   Teachers with minimum required qualifications ...   98.0  \n",
       "27   Teachers with minimum required qualifications ...   87.0  \n",
       "29   Teachers with minimum required qualifications ...   80.3  \n",
       "31   Teachers with minimum required qualifications ...   78.6  \n",
       "..                                                 ...    ...  \n",
       "188  Teachers with minimum required qualifications ...   76.6  \n",
       "190  Teachers with minimum required qualifications ...   80.7  \n",
       "191  Teachers with minimum required qualifications ...   94.1  \n",
       "199  Teachers with minimum required qualifications ...   87.1  \n",
       "203  Teachers with minimum required qualifications ...   86.4  \n",
       "\n",
       "[62 rows x 5 columns]"
      ]
     },
     "execution_count": 25,
     "metadata": {},
     "output_type": "execute_result"
    }
   ],
   "source": [
    "min_qua = ['Teachers with minimum required qualifications at primary level', \n",
    "           'Teachers with minimum required qualifications at secondary level',\n",
    "           'Teachers with minimum required qualifications at upper secondary level']\n",
    "\n",
    "df_reg_filt_minqua = df_reg_filt[df_reg_filt['Series'].isin(min_qua)]\n",
    "df_reg_filt_minqua"
   ]
  },
  {
   "cell_type": "code",
   "execution_count": 26,
   "metadata": {},
   "outputs": [
    {
     "data": {
      "text/plain": [
       "<function __main__.plot_bar(data, x, y, ci=None, hue=None, xlabel=None, ylabel=None, title=None, formatter=None)>"
      ]
     },
     "execution_count": 26,
     "metadata": {},
     "output_type": "execute_result"
    },
    {
     "data": {
      "image/png": "[encoded data removed]",
      "text/plain": [
       "<Figure size 864x648 with 1 Axes>"
      ]
     },
     "metadata": {},
     "output_type": "display_data"
    }
   ],
   "source": [
    "plot_bar(\n",
    "    data=df_reg_filt_minqua,\n",
    "    x='Year', y='Value',\n",
    "    hue='Series',\n",
    "    formatter=format_pct\n",
    ")"
   ]
  },
  {
   "cell_type": "code",
   "execution_count": 27,
   "metadata": {},
   "outputs": [
    {
     "data": {
      "text/plain": [
       "<function __main__.plot_bar(data, x, y, ci=None, hue=None, xlabel=None, ylabel=None, title=None, formatter=None)>"
      ]
     },
     "execution_count": 27,
     "metadata": {},
     "output_type": "execute_result"
    },
    {
     "data": {
      "image/png": "[encoded data removed]",
      "text/plain": [
       "<Figure size 864x648 with 1 Axes>"
      ]
     },
     "metadata": {},
     "output_type": "display_data"
    }
   ],
   "source": [
    "plot_bar(data=df_reg_filt_minqua,\n",
    "         x='Year', y='Value', hue='Series', \n",
    "         xlabel='Year', ylabel='Teachers with minimum required qualifications',\n",
    "         formatter=format_pct\n",
    "         )"
   ]
  }
 ],
 "metadata": {
  "interpreter": {
   "hash": "3fe9daace87ea8cb12e037f7452ad9bcd52f59aa894a611255d1461de3a9065e"
  },
  "kernelspec": {
   "display_name": "Python 3.9.7 ('DS')",
   "language": "python",
   "name": "python3"
  },
  "language_info": {
   "codemirror_mode": {
    "name": "ipython",
    "version": 3
   },
   "file_extension": ".py",
   "mimetype": "text/x-python",
   "name": "python",
   "nbconvert_exporter": "python",
   "pygments_lexer": "ipython3",
   "version": "3.9.12"
  },
  "orig_nbformat": 4
 },
 "nbformat": 4,
 "nbformat_minor": 2
}
