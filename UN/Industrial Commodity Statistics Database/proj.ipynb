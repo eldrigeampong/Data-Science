{
 "cells": [
  {
   "cell_type": "markdown",
   "metadata": {},
   "source": [
    "# Fish, fish fillets, other fish meat and fish livers and roes, frozen"
   ]
  },
  {
   "cell_type": "markdown",
   "metadata": {},
   "source": [
    "# Import Libraries"
   ]
  },
  {
   "cell_type": "code",
   "execution_count": 1,
   "metadata": {},
   "outputs": [],
   "source": [
    "import numpy as np\n",
    "import pandas as pd\n",
    "import matplotlib.pyplot as plt\n",
    "import seaborn as sns\n",
    "import os\n",
    "import warnings"
   ]
  },
  {
   "cell_type": "markdown",
   "metadata": {},
   "source": [
    "# Options and Settings"
   ]
  },
  {
   "cell_type": "code",
   "execution_count": 2,
   "metadata": {},
   "outputs": [],
   "source": [
    "%matplotlib inline\n",
    "plt.style.use('ggplot')\n",
    "plt.rcParams['figure.autolayout'] = True\n",
    "plt.rcParams['font.size'] = 12\n",
    "path = os.getcwd()                                  # get current working directory\n",
    "warnings.simplefilter('ignore')"
   ]
  },
  {
   "cell_type": "markdown",
   "metadata": {},
   "source": [
    "# Import Data"
   ]
  },
  {
   "cell_type": "code",
   "execution_count": 3,
   "metadata": {},
   "outputs": [],
   "source": [
    "filepath = os.path.join(path, 'datasets', 'Fish, fish fillets, other fish meat and fish livers and roes, frozen.csv')\n",
    "df = pd.read_csv(filepath)"
   ]
  },
  {
   "cell_type": "markdown",
   "metadata": {},
   "source": [
    "# Head and Tail"
   ]
  },
  {
   "cell_type": "code",
   "execution_count": 4,
   "metadata": {},
   "outputs": [
    {
     "data": {
      "text/html": [
       "<div>\n",
       "<style scoped>\n",
       "    .dataframe tbody tr th:only-of-type {\n",
       "        vertical-align: middle;\n",
       "    }\n",
       "\n",
       "    .dataframe tbody tr th {\n",
       "        vertical-align: top;\n",
       "    }\n",
       "\n",
       "    .dataframe thead th {\n",
       "        text-align: right;\n",
       "    }\n",
       "</style>\n",
       "<table border=\"1\" class=\"dataframe\">\n",
       "  <thead>\n",
       "    <tr style=\"text-align: right;\">\n",
       "      <th></th>\n",
       "      <th>Country or Area</th>\n",
       "      <th>Year</th>\n",
       "      <th>Unit</th>\n",
       "      <th>Value</th>\n",
       "      <th>Value Footnotes</th>\n",
       "    </tr>\n",
       "  </thead>\n",
       "  <tbody>\n",
       "    <tr>\n",
       "      <th>0</th>\n",
       "      <td>Albania</td>\n",
       "      <td>2003</td>\n",
       "      <td>Thousand metric tons</td>\n",
       "      <td>0.000</td>\n",
       "      <td>NaN</td>\n",
       "    </tr>\n",
       "    <tr>\n",
       "      <th>1</th>\n",
       "      <td>Albania</td>\n",
       "      <td>2002</td>\n",
       "      <td>Thousand metric tons</td>\n",
       "      <td>0.000</td>\n",
       "      <td>NaN</td>\n",
       "    </tr>\n",
       "    <tr>\n",
       "      <th>2</th>\n",
       "      <td>Albania</td>\n",
       "      <td>2001</td>\n",
       "      <td>Thousand metric tons</td>\n",
       "      <td>0.200</td>\n",
       "      <td>1,2</td>\n",
       "    </tr>\n",
       "    <tr>\n",
       "      <th>3</th>\n",
       "      <td>Albania</td>\n",
       "      <td>2000</td>\n",
       "      <td>Thousand metric tons</td>\n",
       "      <td>0.206</td>\n",
       "      <td>1,2</td>\n",
       "    </tr>\n",
       "    <tr>\n",
       "      <th>4</th>\n",
       "      <td>Albania</td>\n",
       "      <td>1999</td>\n",
       "      <td>Thousand metric tons</td>\n",
       "      <td>0.450</td>\n",
       "      <td>1,2</td>\n",
       "    </tr>\n",
       "    <tr>\n",
       "      <th>...</th>\n",
       "      <td>...</td>\n",
       "      <td>...</td>\n",
       "      <td>...</td>\n",
       "      <td>...</td>\n",
       "      <td>...</td>\n",
       "    </tr>\n",
       "    <tr>\n",
       "      <th>2128</th>\n",
       "      <td>Zimbabwe</td>\n",
       "      <td>1999</td>\n",
       "      <td>Thousand metric tons</td>\n",
       "      <td>1.250</td>\n",
       "      <td>1,2</td>\n",
       "    </tr>\n",
       "    <tr>\n",
       "      <th>2129</th>\n",
       "      <td>Zimbabwe</td>\n",
       "      <td>1998</td>\n",
       "      <td>Thousand metric tons</td>\n",
       "      <td>1.600</td>\n",
       "      <td>1,2</td>\n",
       "    </tr>\n",
       "    <tr>\n",
       "      <th>2130</th>\n",
       "      <td>Zimbabwe</td>\n",
       "      <td>1997</td>\n",
       "      <td>Thousand metric tons</td>\n",
       "      <td>1.800</td>\n",
       "      <td>1,2</td>\n",
       "    </tr>\n",
       "    <tr>\n",
       "      <th>2131</th>\n",
       "      <td>Zimbabwe</td>\n",
       "      <td>1996</td>\n",
       "      <td>Thousand metric tons</td>\n",
       "      <td>1.600</td>\n",
       "      <td>1,2</td>\n",
       "    </tr>\n",
       "    <tr>\n",
       "      <th>2132</th>\n",
       "      <td>Zimbabwe</td>\n",
       "      <td>1995</td>\n",
       "      <td>Thousand metric tons</td>\n",
       "      <td>1.700</td>\n",
       "      <td>1,2</td>\n",
       "    </tr>\n",
       "  </tbody>\n",
       "</table>\n",
       "<p>2133 rows × 5 columns</p>\n",
       "</div>"
      ],
      "text/plain": [
       "     Country or Area  Year                  Unit  Value Value Footnotes\n",
       "0            Albania  2003  Thousand metric tons  0.000             NaN\n",
       "1            Albania  2002  Thousand metric tons  0.000             NaN\n",
       "2            Albania  2001  Thousand metric tons  0.200             1,2\n",
       "3            Albania  2000  Thousand metric tons  0.206             1,2\n",
       "4            Albania  1999  Thousand metric tons  0.450             1,2\n",
       "...              ...   ...                   ...    ...             ...\n",
       "2128        Zimbabwe  1999  Thousand metric tons  1.250             1,2\n",
       "2129        Zimbabwe  1998  Thousand metric tons  1.600             1,2\n",
       "2130        Zimbabwe  1997  Thousand metric tons  1.800             1,2\n",
       "2131        Zimbabwe  1996  Thousand metric tons  1.600             1,2\n",
       "2132        Zimbabwe  1995  Thousand metric tons  1.700             1,2\n",
       "\n",
       "[2133 rows x 5 columns]"
      ]
     },
     "execution_count": 4,
     "metadata": {},
     "output_type": "execute_result"
    }
   ],
   "source": [
    "df = df[:2133]                                   # select index position 0-2133\n",
    "df"
   ]
  },
  {
   "cell_type": "code",
   "execution_count": 5,
   "metadata": {},
   "outputs": [
    {
     "data": {
      "text/plain": [
       "(2133, 5)"
      ]
     },
     "execution_count": 5,
     "metadata": {},
     "output_type": "execute_result"
    }
   ],
   "source": [
    "df.shape"
   ]
  },
  {
   "cell_type": "code",
   "execution_count": 6,
   "metadata": {},
   "outputs": [
    {
     "name": "stdout",
     "output_type": "stream",
     "text": [
      "<class 'pandas.core.frame.DataFrame'>\n",
      "RangeIndex: 2133 entries, 0 to 2132\n",
      "Data columns (total 5 columns):\n",
      " #   Column           Non-Null Count  Dtype  \n",
      "---  ------           --------------  -----  \n",
      " 0   Country or Area  2133 non-null   object \n",
      " 1   Year             2133 non-null   object \n",
      " 2   Unit             2133 non-null   object \n",
      " 3   Value            2133 non-null   float64\n",
      " 4   Value Footnotes  784 non-null    object \n",
      "dtypes: float64(1), object(4)\n",
      "memory usage: 83.4+ KB\n"
     ]
    }
   ],
   "source": [
    "df.info()"
   ]
  },
  {
   "cell_type": "code",
   "execution_count": 7,
   "metadata": {},
   "outputs": [
    {
     "data": {
      "text/html": [
       "<div>\n",
       "<style scoped>\n",
       "    .dataframe tbody tr th:only-of-type {\n",
       "        vertical-align: middle;\n",
       "    }\n",
       "\n",
       "    .dataframe tbody tr th {\n",
       "        vertical-align: top;\n",
       "    }\n",
       "\n",
       "    .dataframe thead th {\n",
       "        text-align: right;\n",
       "    }\n",
       "</style>\n",
       "<table border=\"1\" class=\"dataframe\">\n",
       "  <thead>\n",
       "    <tr style=\"text-align: right;\">\n",
       "      <th></th>\n",
       "      <th>Country_or_Area</th>\n",
       "      <th>Year</th>\n",
       "      <th>Unit</th>\n",
       "      <th>Value</th>\n",
       "      <th>Value Footnotes</th>\n",
       "    </tr>\n",
       "  </thead>\n",
       "  <tbody>\n",
       "    <tr>\n",
       "      <th>0</th>\n",
       "      <td>Albania</td>\n",
       "      <td>2003</td>\n",
       "      <td>Thousand metric tons</td>\n",
       "      <td>0.000</td>\n",
       "      <td>NaN</td>\n",
       "    </tr>\n",
       "    <tr>\n",
       "      <th>1</th>\n",
       "      <td>Albania</td>\n",
       "      <td>2002</td>\n",
       "      <td>Thousand metric tons</td>\n",
       "      <td>0.000</td>\n",
       "      <td>NaN</td>\n",
       "    </tr>\n",
       "    <tr>\n",
       "      <th>2</th>\n",
       "      <td>Albania</td>\n",
       "      <td>2001</td>\n",
       "      <td>Thousand metric tons</td>\n",
       "      <td>0.200</td>\n",
       "      <td>1,2</td>\n",
       "    </tr>\n",
       "    <tr>\n",
       "      <th>3</th>\n",
       "      <td>Albania</td>\n",
       "      <td>2000</td>\n",
       "      <td>Thousand metric tons</td>\n",
       "      <td>0.206</td>\n",
       "      <td>1,2</td>\n",
       "    </tr>\n",
       "    <tr>\n",
       "      <th>4</th>\n",
       "      <td>Albania</td>\n",
       "      <td>1999</td>\n",
       "      <td>Thousand metric tons</td>\n",
       "      <td>0.450</td>\n",
       "      <td>1,2</td>\n",
       "    </tr>\n",
       "  </tbody>\n",
       "</table>\n",
       "</div>"
      ],
      "text/plain": [
       "  Country_or_Area  Year                  Unit  Value Value Footnotes\n",
       "0         Albania  2003  Thousand metric tons  0.000             NaN\n",
       "1         Albania  2002  Thousand metric tons  0.000             NaN\n",
       "2         Albania  2001  Thousand metric tons  0.200             1,2\n",
       "3         Albania  2000  Thousand metric tons  0.206             1,2\n",
       "4         Albania  1999  Thousand metric tons  0.450             1,2"
      ]
     },
     "execution_count": 7,
     "metadata": {},
     "output_type": "execute_result"
    }
   ],
   "source": [
    "df.rename(columns={'Country or Area': 'Country_or_Area'}, inplace=True) \n",
    "df.head() "
   ]
  },
  {
   "cell_type": "code",
   "execution_count": 8,
   "metadata": {},
   "outputs": [
    {
     "data": {
      "text/html": [
       "<div>\n",
       "<style scoped>\n",
       "    .dataframe tbody tr th:only-of-type {\n",
       "        vertical-align: middle;\n",
       "    }\n",
       "\n",
       "    .dataframe tbody tr th {\n",
       "        vertical-align: top;\n",
       "    }\n",
       "\n",
       "    .dataframe thead th {\n",
       "        text-align: right;\n",
       "    }\n",
       "</style>\n",
       "<table border=\"1\" class=\"dataframe\">\n",
       "  <thead>\n",
       "    <tr style=\"text-align: right;\">\n",
       "      <th></th>\n",
       "      <th>Country_or_Area</th>\n",
       "      <th>Year</th>\n",
       "      <th>Unit</th>\n",
       "      <th>Value</th>\n",
       "    </tr>\n",
       "  </thead>\n",
       "  <tbody>\n",
       "    <tr>\n",
       "      <th>0</th>\n",
       "      <td>Albania</td>\n",
       "      <td>2003</td>\n",
       "      <td>Thousand metric tons</td>\n",
       "      <td>0.000</td>\n",
       "    </tr>\n",
       "    <tr>\n",
       "      <th>1</th>\n",
       "      <td>Albania</td>\n",
       "      <td>2002</td>\n",
       "      <td>Thousand metric tons</td>\n",
       "      <td>0.000</td>\n",
       "    </tr>\n",
       "    <tr>\n",
       "      <th>2</th>\n",
       "      <td>Albania</td>\n",
       "      <td>2001</td>\n",
       "      <td>Thousand metric tons</td>\n",
       "      <td>0.200</td>\n",
       "    </tr>\n",
       "    <tr>\n",
       "      <th>3</th>\n",
       "      <td>Albania</td>\n",
       "      <td>2000</td>\n",
       "      <td>Thousand metric tons</td>\n",
       "      <td>0.206</td>\n",
       "    </tr>\n",
       "    <tr>\n",
       "      <th>4</th>\n",
       "      <td>Albania</td>\n",
       "      <td>1999</td>\n",
       "      <td>Thousand metric tons</td>\n",
       "      <td>0.450</td>\n",
       "    </tr>\n",
       "  </tbody>\n",
       "</table>\n",
       "</div>"
      ],
      "text/plain": [
       "  Country_or_Area  Year                  Unit  Value\n",
       "0         Albania  2003  Thousand metric tons  0.000\n",
       "1         Albania  2002  Thousand metric tons  0.000\n",
       "2         Albania  2001  Thousand metric tons  0.200\n",
       "3         Albania  2000  Thousand metric tons  0.206\n",
       "4         Albania  1999  Thousand metric tons  0.450"
      ]
     },
     "execution_count": 8,
     "metadata": {},
     "output_type": "execute_result"
    }
   ],
   "source": [
    "df1 = df[['Country_or_Area', 'Year', 'Unit', 'Value']]\n",
    "df1.head()"
   ]
  },
  {
   "cell_type": "code",
   "execution_count": 9,
   "metadata": {},
   "outputs": [
    {
     "data": {
      "text/html": [
       "<div>\n",
       "<style scoped>\n",
       "    .dataframe tbody tr th:only-of-type {\n",
       "        vertical-align: middle;\n",
       "    }\n",
       "\n",
       "    .dataframe tbody tr th {\n",
       "        vertical-align: top;\n",
       "    }\n",
       "\n",
       "    .dataframe thead th {\n",
       "        text-align: right;\n",
       "    }\n",
       "</style>\n",
       "<table border=\"1\" class=\"dataframe\">\n",
       "  <thead>\n",
       "    <tr style=\"text-align: right;\">\n",
       "      <th></th>\n",
       "      <th>Country_or_Area</th>\n",
       "      <th>Unit</th>\n",
       "    </tr>\n",
       "  </thead>\n",
       "  <tbody>\n",
       "    <tr>\n",
       "      <th>count</th>\n",
       "      <td>2133</td>\n",
       "      <td>2133</td>\n",
       "    </tr>\n",
       "    <tr>\n",
       "      <th>unique</th>\n",
       "      <td>168</td>\n",
       "      <td>2</td>\n",
       "    </tr>\n",
       "    <tr>\n",
       "      <th>top</th>\n",
       "      <td>Mexico</td>\n",
       "      <td>Thousand metric tons</td>\n",
       "    </tr>\n",
       "    <tr>\n",
       "      <th>freq</th>\n",
       "      <td>44</td>\n",
       "      <td>1660</td>\n",
       "    </tr>\n",
       "  </tbody>\n",
       "</table>\n",
       "</div>"
      ],
      "text/plain": [
       "       Country_or_Area                  Unit\n",
       "count             2133                  2133\n",
       "unique             168                     2\n",
       "top             Mexico  Thousand metric tons\n",
       "freq                44                  1660"
      ]
     },
     "execution_count": 9,
     "metadata": {},
     "output_type": "execute_result"
    }
   ],
   "source": [
    "df1[['Country_or_Area', 'Unit']].describe()"
   ]
  },
  {
   "cell_type": "code",
   "execution_count": 10,
   "metadata": {},
   "outputs": [
    {
     "data": {
      "text/plain": [
       "Mexico        44\n",
       "Portugal      44\n",
       "Denmark       44\n",
       "Sweden        43\n",
       "Lithuania     42\n",
       "              ..\n",
       "Montenegro     2\n",
       "Austria        1\n",
       "Niger          1\n",
       "Mozambique     1\n",
       "Israel         1\n",
       "Name: Country_or_Area, Length: 168, dtype: int64"
      ]
     },
     "execution_count": 10,
     "metadata": {},
     "output_type": "execute_result"
    }
   ],
   "source": [
    "df1['Country_or_Area'].value_counts()"
   ]
  },
  {
   "cell_type": "code",
   "execution_count": 11,
   "metadata": {},
   "outputs": [
    {
     "data": {
      "text/plain": [
       "count    2133.000000\n",
       "mean      174.956787\n",
       "std       580.866011\n",
       "min         0.000000\n",
       "25%         1.727000\n",
       "50%        15.465000\n",
       "75%        68.395841\n",
       "max      5675.672000\n",
       "Name: Value, dtype: float64"
      ]
     },
     "execution_count": 11,
     "metadata": {},
     "output_type": "execute_result"
    }
   ],
   "source": [
    "df1['Value'].describe()"
   ]
  },
  {
   "cell_type": "markdown",
   "metadata": {},
   "source": [
    "# Missing Values Exploration"
   ]
  },
  {
   "cell_type": "code",
   "execution_count": 12,
   "metadata": {},
   "outputs": [
    {
     "data": {
      "text/plain": [
       "Country_or_Area    0\n",
       "Year               0\n",
       "Unit               0\n",
       "Value              0\n",
       "dtype: int64"
      ]
     },
     "execution_count": 12,
     "metadata": {},
     "output_type": "execute_result"
    }
   ],
   "source": [
    "df1.isna().sum()"
   ]
  },
  {
   "cell_type": "markdown",
   "metadata": {},
   "source": [
    "# Grouping and Aggregation"
   ]
  },
  {
   "cell_type": "code",
   "execution_count": 13,
   "metadata": {},
   "outputs": [
    {
     "data": {
      "text/html": [
       "<div>\n",
       "<style scoped>\n",
       "    .dataframe tbody tr th:only-of-type {\n",
       "        vertical-align: middle;\n",
       "    }\n",
       "\n",
       "    .dataframe tbody tr th {\n",
       "        vertical-align: top;\n",
       "    }\n",
       "\n",
       "    .dataframe thead th {\n",
       "        text-align: right;\n",
       "    }\n",
       "</style>\n",
       "<table border=\"1\" class=\"dataframe\">\n",
       "  <thead>\n",
       "    <tr style=\"text-align: right;\">\n",
       "      <th></th>\n",
       "      <th>Country_or_Area</th>\n",
       "      <th>Year</th>\n",
       "      <th>Unit</th>\n",
       "      <th>Value</th>\n",
       "    </tr>\n",
       "  </thead>\n",
       "  <tbody>\n",
       "    <tr>\n",
       "      <th>0</th>\n",
       "      <td>Albania</td>\n",
       "      <td>2003</td>\n",
       "      <td>Thousand metric tons</td>\n",
       "      <td>0.000</td>\n",
       "    </tr>\n",
       "    <tr>\n",
       "      <th>1</th>\n",
       "      <td>Albania</td>\n",
       "      <td>2002</td>\n",
       "      <td>Thousand metric tons</td>\n",
       "      <td>0.000</td>\n",
       "    </tr>\n",
       "    <tr>\n",
       "      <th>2</th>\n",
       "      <td>Albania</td>\n",
       "      <td>2001</td>\n",
       "      <td>Thousand metric tons</td>\n",
       "      <td>0.200</td>\n",
       "    </tr>\n",
       "    <tr>\n",
       "      <th>3</th>\n",
       "      <td>Albania</td>\n",
       "      <td>2000</td>\n",
       "      <td>Thousand metric tons</td>\n",
       "      <td>0.206</td>\n",
       "    </tr>\n",
       "    <tr>\n",
       "      <th>4</th>\n",
       "      <td>Albania</td>\n",
       "      <td>1999</td>\n",
       "      <td>Thousand metric tons</td>\n",
       "      <td>0.450</td>\n",
       "    </tr>\n",
       "    <tr>\n",
       "      <th>...</th>\n",
       "      <td>...</td>\n",
       "      <td>...</td>\n",
       "      <td>...</td>\n",
       "      <td>...</td>\n",
       "    </tr>\n",
       "    <tr>\n",
       "      <th>2128</th>\n",
       "      <td>Zimbabwe</td>\n",
       "      <td>1999</td>\n",
       "      <td>Thousand metric tons</td>\n",
       "      <td>1.250</td>\n",
       "    </tr>\n",
       "    <tr>\n",
       "      <th>2129</th>\n",
       "      <td>Zimbabwe</td>\n",
       "      <td>1998</td>\n",
       "      <td>Thousand metric tons</td>\n",
       "      <td>1.600</td>\n",
       "    </tr>\n",
       "    <tr>\n",
       "      <th>2130</th>\n",
       "      <td>Zimbabwe</td>\n",
       "      <td>1997</td>\n",
       "      <td>Thousand metric tons</td>\n",
       "      <td>1.800</td>\n",
       "    </tr>\n",
       "    <tr>\n",
       "      <th>2131</th>\n",
       "      <td>Zimbabwe</td>\n",
       "      <td>1996</td>\n",
       "      <td>Thousand metric tons</td>\n",
       "      <td>1.600</td>\n",
       "    </tr>\n",
       "    <tr>\n",
       "      <th>2132</th>\n",
       "      <td>Zimbabwe</td>\n",
       "      <td>1995</td>\n",
       "      <td>Thousand metric tons</td>\n",
       "      <td>1.700</td>\n",
       "    </tr>\n",
       "  </tbody>\n",
       "</table>\n",
       "<p>1245 rows × 4 columns</p>\n",
       "</div>"
      ],
      "text/plain": [
       "     Country_or_Area  Year                  Unit  Value\n",
       "0            Albania  2003  Thousand metric tons  0.000\n",
       "1            Albania  2002  Thousand metric tons  0.000\n",
       "2            Albania  2001  Thousand metric tons  0.200\n",
       "3            Albania  2000  Thousand metric tons  0.206\n",
       "4            Albania  1999  Thousand metric tons  0.450\n",
       "...              ...   ...                   ...    ...\n",
       "2128        Zimbabwe  1999  Thousand metric tons  1.250\n",
       "2129        Zimbabwe  1998  Thousand metric tons  1.600\n",
       "2130        Zimbabwe  1997  Thousand metric tons  1.800\n",
       "2131        Zimbabwe  1996  Thousand metric tons  1.600\n",
       "2132        Zimbabwe  1995  Thousand metric tons  1.700\n",
       "\n",
       "[1245 rows x 4 columns]"
      ]
     },
     "execution_count": 13,
     "metadata": {},
     "output_type": "execute_result"
    }
   ],
   "source": [
    "country_area_grouped = df1.groupby('Country_or_Area')\n",
    "country_area_grouped.head(10)"
   ]
  },
  {
   "cell_type": "code",
   "execution_count": 14,
   "metadata": {},
   "outputs": [
    {
     "data": {
      "text/html": [
       "<div>\n",
       "<style scoped>\n",
       "    .dataframe tbody tr th:only-of-type {\n",
       "        vertical-align: middle;\n",
       "    }\n",
       "\n",
       "    .dataframe tbody tr th {\n",
       "        vertical-align: top;\n",
       "    }\n",
       "\n",
       "    .dataframe thead th {\n",
       "        text-align: right;\n",
       "    }\n",
       "</style>\n",
       "<table border=\"1\" class=\"dataframe\">\n",
       "  <thead>\n",
       "    <tr style=\"text-align: right;\">\n",
       "      <th></th>\n",
       "      <th>min_value</th>\n",
       "      <th>mean_value</th>\n",
       "      <th>max_value</th>\n",
       "      <th>total_value</th>\n",
       "    </tr>\n",
       "    <tr>\n",
       "      <th>Country_or_Area</th>\n",
       "      <th></th>\n",
       "      <th></th>\n",
       "      <th></th>\n",
       "      <th></th>\n",
       "    </tr>\n",
       "  </thead>\n",
       "  <tbody>\n",
       "    <tr>\n",
       "      <th>Albania</th>\n",
       "      <td>0.000000</td>\n",
       "      <td>0.325000</td>\n",
       "      <td>0.685</td>\n",
       "      <td>2.925000</td>\n",
       "    </tr>\n",
       "    <tr>\n",
       "      <th>Algeria</th>\n",
       "      <td>0.000000</td>\n",
       "      <td>0.000000</td>\n",
       "      <td>0.000</td>\n",
       "      <td>0.000000</td>\n",
       "    </tr>\n",
       "    <tr>\n",
       "      <th>Angola</th>\n",
       "      <td>1.188612</td>\n",
       "      <td>16.371891</td>\n",
       "      <td>56.197</td>\n",
       "      <td>360.181612</td>\n",
       "    </tr>\n",
       "    <tr>\n",
       "      <th>Antigua and Barbuda</th>\n",
       "      <td>1.022000</td>\n",
       "      <td>1.112500</td>\n",
       "      <td>1.203</td>\n",
       "      <td>2.225000</td>\n",
       "    </tr>\n",
       "    <tr>\n",
       "      <th>Argentina</th>\n",
       "      <td>223.510000</td>\n",
       "      <td>288.664111</td>\n",
       "      <td>373.833</td>\n",
       "      <td>2597.977000</td>\n",
       "    </tr>\n",
       "    <tr>\n",
       "      <th>...</th>\n",
       "      <td>...</td>\n",
       "      <td>...</td>\n",
       "      <td>...</td>\n",
       "      <td>...</td>\n",
       "    </tr>\n",
       "    <tr>\n",
       "      <th>Venezuela (Bolivarian Republic of)</th>\n",
       "      <td>10.598000</td>\n",
       "      <td>22.684333</td>\n",
       "      <td>41.509</td>\n",
       "      <td>204.159000</td>\n",
       "    </tr>\n",
       "    <tr>\n",
       "      <th>Viet Nam</th>\n",
       "      <td>4.534743</td>\n",
       "      <td>701.352018</td>\n",
       "      <td>1763.100</td>\n",
       "      <td>16832.448430</td>\n",
       "    </tr>\n",
       "    <tr>\n",
       "      <th>Yemen</th>\n",
       "      <td>2.000000</td>\n",
       "      <td>2.600000</td>\n",
       "      <td>4.000</td>\n",
       "      <td>23.400000</td>\n",
       "    </tr>\n",
       "    <tr>\n",
       "      <th>Zambia</th>\n",
       "      <td>0.000000</td>\n",
       "      <td>0.000000</td>\n",
       "      <td>0.000</td>\n",
       "      <td>0.000000</td>\n",
       "    </tr>\n",
       "    <tr>\n",
       "      <th>Zimbabwe</th>\n",
       "      <td>1.250000</td>\n",
       "      <td>1.461111</td>\n",
       "      <td>1.800</td>\n",
       "      <td>13.150000</td>\n",
       "    </tr>\n",
       "  </tbody>\n",
       "</table>\n",
       "<p>168 rows × 4 columns</p>\n",
       "</div>"
      ],
      "text/plain": [
       "                                     min_value  mean_value  max_value  \\\n",
       "Country_or_Area                                                         \n",
       "Albania                               0.000000    0.325000      0.685   \n",
       "Algeria                               0.000000    0.000000      0.000   \n",
       "Angola                                1.188612   16.371891     56.197   \n",
       "Antigua and Barbuda                   1.022000    1.112500      1.203   \n",
       "Argentina                           223.510000  288.664111    373.833   \n",
       "...                                        ...         ...        ...   \n",
       "Venezuela (Bolivarian Republic of)   10.598000   22.684333     41.509   \n",
       "Viet Nam                              4.534743  701.352018   1763.100   \n",
       "Yemen                                 2.000000    2.600000      4.000   \n",
       "Zambia                                0.000000    0.000000      0.000   \n",
       "Zimbabwe                              1.250000    1.461111      1.800   \n",
       "\n",
       "                                     total_value  \n",
       "Country_or_Area                                   \n",
       "Albania                                 2.925000  \n",
       "Algeria                                 0.000000  \n",
       "Angola                                360.181612  \n",
       "Antigua and Barbuda                     2.225000  \n",
       "Argentina                            2597.977000  \n",
       "...                                          ...  \n",
       "Venezuela (Bolivarian Republic of)    204.159000  \n",
       "Viet Nam                            16832.448430  \n",
       "Yemen                                  23.400000  \n",
       "Zambia                                  0.000000  \n",
       "Zimbabwe                               13.150000  \n",
       "\n",
       "[168 rows x 4 columns]"
      ]
     },
     "execution_count": 14,
     "metadata": {},
     "output_type": "execute_result"
    }
   ],
   "source": [
    "agg_value_stats = country_area_grouped.agg(\n",
    "    min_value = pd.NamedAgg('Value', np.min),\n",
    "    mean_value = pd.NamedAgg('Value', np.mean),\n",
    "    max_value = pd.NamedAgg('Value', np.max),\n",
    "    total_value = pd.NamedAgg('Value', np.sum)\n",
    ")\n",
    "\n",
    "agg_value_stats"
   ]
  },
  {
   "cell_type": "code",
   "execution_count": 15,
   "metadata": {},
   "outputs": [
    {
     "data": {
      "text/plain": [
       "Country_or_Area\n",
       "Russian Federation          68483.107940\n",
       "United States of America    63957.354000\n",
       "Japan                       37486.333000\n",
       "China                       36517.465000\n",
       "Norway                      17516.066789\n",
       "Chile                       17101.446266\n",
       "Viet Nam                    16832.448430\n",
       "Iceland                     15849.055957\n",
       "United Kingdom               7915.550996\n",
       "India                        6937.211589\n",
       "Name: total_value, dtype: float64"
      ]
     },
     "execution_count": 15,
     "metadata": {},
     "output_type": "execute_result"
    }
   ],
   "source": [
    "agg_value_stats['total_value'].sort_values(ascending=False).head(10)        # top ten country or area with the highest total value"
   ]
  },
  {
   "cell_type": "code",
   "execution_count": 16,
   "metadata": {},
   "outputs": [],
   "source": [
    "# helper function for formatting plot y-axis\n",
    "from matplotlib.ticker import FuncFormatter\n",
    "\n",
    "def thousand(x, pos):\n",
    "    'The two args are the value and tick position'\n",
    "    return '%1.1fK' % (x * 1e-3)\n",
    "\n",
    "formatter = FuncFormatter(thousand)\n",
    "\n",
    "\n",
    "# helper function to plot horizontal bar chart \n",
    "def plot_hbar(y, width, align='center', xlabel=None, ylabel=None, title=None, color=None):\n",
    "\n",
    "    # Initialize the matplotlib figure\n",
    "    fig, ax = plt.subplots(figsize=(12, 9))\n",
    "\n",
    "    # plot bar chart\n",
    "    ax.barh(\n",
    "        y=y, width=width,\n",
    "        align=align\n",
    "    )\n",
    "\n",
    "    # Add informative axis label\n",
    "    ax.set(xlabel=xlabel, ylabel=ylabel, title=title)\n",
    "\n",
    "    # labels read top-to-bottom\n",
    "    ax.invert_yaxis()  \n",
    "\n",
    "    # set axis formatter\n",
    "    ax.xaxis.set_major_formatter(formatter)\n",
    "\n",
    "    # despine x-axis and y-axis\n",
    "    sns.despine(left=True, bottom=True)  "
   ]
  },
  {
   "cell_type": "code",
   "execution_count": 17,
   "metadata": {},
   "outputs": [
    {
     "data": {
      "image/png": "[encoded data removed]",
      "text/plain": [
       "<Figure size 864x648 with 1 Axes>"
      ]
     },
     "metadata": {},
     "output_type": "display_data"
    }
   ],
   "source": [
    "top_10_value = agg_value_stats['total_value'].sort_values(ascending=False).head(10)\n",
    "\n",
    "plot_hbar(y=top_10_value.keys(), width=top_10_value.values,\n",
    "          xlabel='Value in Thousand metric tons', ylabel='Country or Area', \n",
    "          title='Fish, fish fillets, other fish meat and fish livers and roes, frozen by Country or Area')"
   ]
  },
  {
   "cell_type": "code",
   "execution_count": 18,
   "metadata": {},
   "outputs": [
    {
     "data": {
      "text/plain": [
       "Country_or_Area\n",
       "Malta                                        0.0\n",
       "Algeria                                      0.0\n",
       "Dominican Republic                           0.0\n",
       "Slovenia                                     0.0\n",
       "Austria                                      0.0\n",
       "Malawi                                       0.0\n",
       "Montenegro                                   0.0\n",
       "Luxembourg                                   0.0\n",
       "Zambia                                       0.0\n",
       "The former Yugoslav Republic of Macedonia    0.0\n",
       "Name: total_value, dtype: float64"
      ]
     },
     "execution_count": 18,
     "metadata": {},
     "output_type": "execute_result"
    }
   ],
   "source": [
    "agg_value_stats['total_value'].sort_values(ascending=True).head(10)        # top ten country or area with the lowest total value"
   ]
  },
  {
   "cell_type": "markdown",
   "metadata": {},
   "source": [
    "# Country or Area Exploration"
   ]
  },
  {
   "cell_type": "code",
   "execution_count": 19,
   "metadata": {},
   "outputs": [
    {
     "data": {
      "text/html": [
       "<div>\n",
       "<style scoped>\n",
       "    .dataframe tbody tr th:only-of-type {\n",
       "        vertical-align: middle;\n",
       "    }\n",
       "\n",
       "    .dataframe tbody tr th {\n",
       "        vertical-align: top;\n",
       "    }\n",
       "\n",
       "    .dataframe thead th {\n",
       "        text-align: right;\n",
       "    }\n",
       "</style>\n",
       "<table border=\"1\" class=\"dataframe\">\n",
       "  <thead>\n",
       "    <tr style=\"text-align: right;\">\n",
       "      <th></th>\n",
       "      <th>Country_or_Area</th>\n",
       "      <th>Year</th>\n",
       "      <th>Unit</th>\n",
       "      <th>Value</th>\n",
       "    </tr>\n",
       "  </thead>\n",
       "  <tbody>\n",
       "    <tr>\n",
       "      <th>1569</th>\n",
       "      <td>Russian Federation</td>\n",
       "      <td>2016</td>\n",
       "      <td>Thousand metric tons</td>\n",
       "      <td>4028.65779</td>\n",
       "    </tr>\n",
       "    <tr>\n",
       "      <th>1570</th>\n",
       "      <td>Russian Federation</td>\n",
       "      <td>2015</td>\n",
       "      <td>Thousand metric tons</td>\n",
       "      <td>3829.43390</td>\n",
       "    </tr>\n",
       "    <tr>\n",
       "      <th>1571</th>\n",
       "      <td>Russian Federation</td>\n",
       "      <td>2014</td>\n",
       "      <td>Thousand metric tons</td>\n",
       "      <td>3725.38341</td>\n",
       "    </tr>\n",
       "    <tr>\n",
       "      <th>1572</th>\n",
       "      <td>Russian Federation</td>\n",
       "      <td>2013</td>\n",
       "      <td>Thousand metric tons</td>\n",
       "      <td>3788.75764</td>\n",
       "    </tr>\n",
       "    <tr>\n",
       "      <th>1573</th>\n",
       "      <td>Russian Federation</td>\n",
       "      <td>2012</td>\n",
       "      <td>Thousand metric tons</td>\n",
       "      <td>3689.05720</td>\n",
       "    </tr>\n",
       "    <tr>\n",
       "      <th>1574</th>\n",
       "      <td>Russian Federation</td>\n",
       "      <td>2011</td>\n",
       "      <td>Thousand metric tons</td>\n",
       "      <td>3642.43390</td>\n",
       "    </tr>\n",
       "    <tr>\n",
       "      <th>1575</th>\n",
       "      <td>Russian Federation</td>\n",
       "      <td>2010</td>\n",
       "      <td>Thousand metric tons</td>\n",
       "      <td>3555.83010</td>\n",
       "    </tr>\n",
       "    <tr>\n",
       "      <th>1576</th>\n",
       "      <td>Russian Federation</td>\n",
       "      <td>2009</td>\n",
       "      <td>Thousand metric tons</td>\n",
       "      <td>3632.29200</td>\n",
       "    </tr>\n",
       "    <tr>\n",
       "      <th>1577</th>\n",
       "      <td>Russian Federation</td>\n",
       "      <td>2008</td>\n",
       "      <td>Thousand metric tons</td>\n",
       "      <td>3401.33600</td>\n",
       "    </tr>\n",
       "    <tr>\n",
       "      <th>1578</th>\n",
       "      <td>Russian Federation</td>\n",
       "      <td>2007</td>\n",
       "      <td>Thousand metric tons</td>\n",
       "      <td>3499.72500</td>\n",
       "    </tr>\n",
       "  </tbody>\n",
       "</table>\n",
       "</div>"
      ],
      "text/plain": [
       "         Country_or_Area  Year                  Unit       Value\n",
       "1569  Russian Federation  2016  Thousand metric tons  4028.65779\n",
       "1570  Russian Federation  2015  Thousand metric tons  3829.43390\n",
       "1571  Russian Federation  2014  Thousand metric tons  3725.38341\n",
       "1572  Russian Federation  2013  Thousand metric tons  3788.75764\n",
       "1573  Russian Federation  2012  Thousand metric tons  3689.05720\n",
       "1574  Russian Federation  2011  Thousand metric tons  3642.43390\n",
       "1575  Russian Federation  2010  Thousand metric tons  3555.83010\n",
       "1576  Russian Federation  2009  Thousand metric tons  3632.29200\n",
       "1577  Russian Federation  2008  Thousand metric tons  3401.33600\n",
       "1578  Russian Federation  2007  Thousand metric tons  3499.72500"
      ]
     },
     "execution_count": 19,
     "metadata": {},
     "output_type": "execute_result"
    }
   ],
   "source": [
    "russia_df = country_area_grouped.get_group('Russian Federation')\n",
    "russia_df.head(10)"
   ]
  },
  {
   "cell_type": "code",
   "execution_count": 20,
   "metadata": {},
   "outputs": [
    {
     "data": {
      "text/plain": [
       "[Text(0, 0.5, 'Thousand metric tons'),\n",
       " Text(0.5, 1.0, 'Fish, fish fillets, other fish meat and fish livers and roes, frozen in Russia')]"
      ]
     },
     "execution_count": 20,
     "metadata": {},
     "output_type": "execute_result"
    },
    {
     "data": {
      "image/png": "[encoded data removed]",
      "text/plain": [
       "<Figure size 864x648 with 1 Axes>"
      ]
     },
     "metadata": {},
     "output_type": "display_data"
    }
   ],
   "source": [
    "fig1, ax1 = plt.subplots(figsize=(12, 9))\n",
    "fig1.autofmt_xdate()\n",
    "\n",
    "sns.lineplot(\n",
    "    x='Year', y='Value',\n",
    "    data=russia_df, ax=ax1\n",
    ")\n",
    "\n",
    "# set y-axis major formatter\n",
    "ax1.yaxis.set_major_formatter(formatter)\n",
    "\n",
    "# label plot\n",
    "ax1.set(ylabel='Thousand metric tons', title='Fish, fish fillets, other fish meat and fish livers and roes, frozen in Russia')"
   ]
  }
 ],
 "metadata": {
  "interpreter": {
   "hash": "3fe9daace87ea8cb12e037f7452ad9bcd52f59aa894a611255d1461de3a9065e"
  },
  "kernelspec": {
   "display_name": "Python 3.9.7 64-bit ('DS': conda)",
   "language": "python",
   "name": "python3"
  },
  "language_info": {
   "codemirror_mode": {
    "name": "ipython",
    "version": 3
   },
   "file_extension": ".py",
   "mimetype": "text/x-python",
   "name": "python",
   "nbconvert_exporter": "python",
   "pygments_lexer": "ipython3",
   "version": "3.9.7"
  },
  "orig_nbformat": 4
 },
 "nbformat": 4,
 "nbformat_minor": 2
}
