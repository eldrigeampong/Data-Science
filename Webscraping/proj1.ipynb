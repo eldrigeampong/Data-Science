{
 "cells": [
  {
   "cell_type": "markdown",
   "metadata": {},
   "source": [
    "# Import Libraries"
   ]
  },
  {
   "cell_type": "code",
   "execution_count": 1,
   "metadata": {},
   "outputs": [],
   "source": [
    "import requests\n",
    "import numpy as np\n",
    "import pandas as pd\n",
    "import seaborn as sns"
   ]
  },
  {
   "cell_type": "markdown",
   "metadata": {},
   "source": [
    "# Fetch Data"
   ]
  },
  {
   "cell_type": "code",
   "execution_count": 2,
   "metadata": {},
   "outputs": [
    {
     "name": "stdout",
     "output_type": "stream",
     "text": [
      "Status Code: 200; Content-type: application/json; charset=utf-8; Encoding: utf-8\n"
     ]
    }
   ],
   "source": [
    "url = 'https://randomuser.me/api/?seed=foobar'\n",
    "\n",
    "r = requests.get(url)\n",
    "\n",
    "print(f\"Status Code: {r.status_code}; Content-type: {r.headers['content-type']}; Encoding: {r.encoding}\")"
   ]
  },
  {
   "cell_type": "code",
   "execution_count": 3,
   "metadata": {},
   "outputs": [
    {
     "data": {
      "text/plain": [
       "{'results': [{'gender': 'female',\n",
       "   'name': {'title': 'Miss', 'first': 'Britney', 'last': 'Sims'},\n",
       "   'location': {'street': {'number': 9617, 'name': 'Tara Street'},\n",
       "    'city': 'Dublin',\n",
       "    'state': 'Westmeath',\n",
       "    'country': 'Ireland',\n",
       "    'postcode': 66909,\n",
       "    'coordinates': {'latitude': '17.2334', 'longitude': '88.9196'},\n",
       "    'timezone': {'offset': '+4:30', 'description': 'Kabul'}},\n",
       "   'email': 'britney.sims@example.com',\n",
       "   'login': {'uuid': '2d5afd5e-a598-469f-9933-4edba18bcefb',\n",
       "    'username': 'blueelephant921',\n",
       "    'password': 'ccccccc',\n",
       "    'salt': 'uJHyJ9ZL',\n",
       "    'md5': '5724c4fbd97e5155d19f71a44f12cc48',\n",
       "    'sha1': '85dff52890cee9977409fc6ae332a7e2326d6aa4',\n",
       "    'sha256': 'ab62d511f943bfca48935cb4620b3b2007f8d1b9c1e04a04ea76ea95cd099d5f'},\n",
       "   'dob': {'date': '1989-11-17T21:56:57.779Z', 'age': 33},\n",
       "   'registered': {'date': '2014-05-20T20:54:39.692Z', 'age': 8},\n",
       "   'phone': '011-578-8963',\n",
       "   'cell': '081-136-4597',\n",
       "   'id': {'name': 'PPS', 'value': '8705633T'},\n",
       "   'picture': {'large': 'https://randomuser.me/api/portraits/women/62.jpg',\n",
       "    'medium': 'https://randomuser.me/api/portraits/med/women/62.jpg',\n",
       "    'thumbnail': 'https://randomuser.me/api/portraits/thumb/women/62.jpg'},\n",
       "   'nat': 'IE'}],\n",
       " 'info': {'seed': 'foobar', 'results': 1, 'page': 1, 'version': '1.3'}}"
      ]
     },
     "execution_count": 3,
     "metadata": {},
     "output_type": "execute_result"
    }
   ],
   "source": [
    "r.json()"
   ]
  },
  {
   "cell_type": "code",
   "execution_count": 4,
   "metadata": {},
   "outputs": [],
   "source": [
    "gender = r.json()['results'][0]['gender']\n",
    "first_name = r.json()['results'][0]['name']['first']\n",
    "last_name = r.json()['results'][0]['name']['last']\n",
    "street_number = r.json()['results'][0]['location']['street']['number']\n",
    "street_name = r.json()['results'][0]['location']['street']['name']\n",
    "city = r.json()['results'][0]['location']['city']\n",
    "state = r.json()['results'][0]['location']['state']\n",
    "country = r.json()['results'][0]['location']['country']\n",
    "post_code = r.json()['results'][0]['location']['postcode']\n",
    "latitude = r.json()['results'][0]['location']['coordinates']['latitude']\n",
    "longitude = r.json()['results'][0]['location']['coordinates']['longitude']\n",
    "email = r.json()['results'][0]['email']\n",
    "phone = r.json()['results'][0]['phone']\n",
    "cell = r.json()['results'][0]['cell']\n",
    "age = r.json()['results'][0]['dob']['age']\n",
    "picture = r.json()['results'][0]['picture']['large']"
   ]
  },
  {
   "cell_type": "code",
   "execution_count": 5,
   "metadata": {},
   "outputs": [
    {
     "data": {
      "text/plain": [
       "('female',\n",
       " 'Britney',\n",
       " 'Sims',\n",
       " 9617,\n",
       " 'Tara Street',\n",
       " 'Dublin',\n",
       " 'Westmeath',\n",
       " 'Ireland',\n",
       " 66909,\n",
       " '17.2334',\n",
       " '88.9196',\n",
       " 'britney.sims@example.com',\n",
       " '011-578-8963',\n",
       " '081-136-4597',\n",
       " 33,\n",
       " 'https://randomuser.me/api/portraits/women/62.jpg')"
      ]
     },
     "execution_count": 5,
     "metadata": {},
     "output_type": "execute_result"
    }
   ],
   "source": [
    "gender, first_name, last_name, street_number, street_name, city, state, country, post_code, latitude, longitude, email, phone, cell, age, picture"
   ]
  }
 ],
 "metadata": {
  "interpreter": {
   "hash": "30c5ac37d0d4bc195f18668291cab0166f8e9ebfaa98d682fbdf81c02debeab6"
  },
  "kernelspec": {
   "display_name": "Python 3.10.4 ('base')",
   "language": "python",
   "name": "python3"
  },
  "language_info": {
   "codemirror_mode": {
    "name": "ipython",
    "version": 3
   },
   "file_extension": ".py",
   "mimetype": "text/x-python",
   "name": "python",
   "nbconvert_exporter": "python",
   "pygments_lexer": "ipython3",
   "version": "3.10.4"
  },
  "orig_nbformat": 4
 },
 "nbformat": 4,
 "nbformat_minor": 2
}
