{
 "cells": [
  {
   "cell_type": "markdown",
   "metadata": {},
   "source": [
    "# GDP by Country"
   ]
  },
  {
   "cell_type": "markdown",
   "metadata": {},
   "source": [
    "Latest official GDP figures published by the World Bank. Population figures based on United Nations data.\n",
    "World's GDP is $80,934,771,028,340 (nominal, 2017)."
   ]
  },
  {
   "cell_type": "markdown",
   "metadata": {},
   "source": [
    "# Import Libraries"
   ]
  },
  {
   "cell_type": "code",
   "execution_count": 1,
   "metadata": {},
   "outputs": [],
   "source": [
    "import requests\n",
    "import numpy as np\n",
    "import pandas as pd\n",
    "import seaborn as sns\n",
    "import matplotlib.pyplot as plt\n",
    "from bs4 import BeautifulSoup"
   ]
  },
  {
   "cell_type": "markdown",
   "metadata": {},
   "source": [
    "# Fetch Data"
   ]
  },
  {
   "cell_type": "code",
   "execution_count": 2,
   "metadata": {},
   "outputs": [
    {
     "name": "stdout",
     "output_type": "stream",
     "text": [
      "Status Code: 200 -- Content-Type: text/html; charset=UTF-8 -- Encoding: UTF-8\n"
     ]
    }
   ],
   "source": [
    "url = 'https://www.worldometers.info/gdp/gdp-by-country/'\n",
    "\n",
    "r = requests.get(url)\n",
    "\n",
    "print(f\"Status Code: {r.status_code} -- Content-Type: {r.headers['Content-Type']} -- Encoding: {r.encoding}\")"
   ]
  },
  {
   "cell_type": "markdown",
   "metadata": {},
   "source": [
    "# Parse HTML Document"
   ]
  },
  {
   "cell_type": "code",
   "execution_count": 3,
   "metadata": {},
   "outputs": [],
   "source": [
    "soup = BeautifulSoup(r.text, 'html.parser')"
   ]
  },
  {
   "cell_type": "markdown",
   "metadata": {},
   "source": [
    "# Navigate The Data Structure"
   ]
  },
  {
   "cell_type": "code",
   "execution_count": 4,
   "metadata": {},
   "outputs": [],
   "source": [
    "tbody = soup.find('tbody')\n",
    "trs = tbody.find_all('tr')\n",
    "\n",
    "index = []\n",
    "country = []\n",
    "nominal_gdp = []\n",
    "gdp_abbrev = []\n",
    "gdp_growth = []\n",
    "population = []\n",
    "\n",
    "\n",
    "for td in trs:\n",
    "    idx = index.append(td.find_all('td')[0].string)\n",
    "    ctry = country.append(td.find_all('td')[1].find_all('a')[0].string)\n",
    "    nom_gdp = nominal_gdp.append(td.find_all('td')[2].string) \n",
    "    abbrev_gdp = gdp_abbrev.append(td.find_all('td')[3].string)\n",
    "    gdpg = gdp_growth.append(td.find_all('td')[4].string)\n",
    "    pop = population.append(td.find_all('td')[5].string)"
   ]
  },
  {
   "cell_type": "markdown",
   "metadata": {},
   "source": [
    "# Create DataFrame"
   ]
  },
  {
   "cell_type": "code",
   "execution_count": 5,
   "metadata": {},
   "outputs": [],
   "source": [
    "data = {\n",
    "    'Index': index,\n",
    "    'Country': country,\n",
    "    'Nominal_GDP_($)': nominal_gdp,\n",
    "    'GDP_Abbrev_($)': gdp_abbrev,\n",
    "    'GDP_Growth_(%)': gdp_growth,\n",
    "    'Population': population\n",
    "}\n",
    "\n",
    "df = pd.DataFrame(data=data)"
   ]
  },
  {
   "cell_type": "markdown",
   "metadata": {},
   "source": [
    "# Head and Tail"
   ]
  },
  {
   "cell_type": "code",
   "execution_count": 6,
   "metadata": {},
   "outputs": [
    {
     "data": {
      "text/html": [
       "<div>\n",
       "<style scoped>\n",
       "    .dataframe tbody tr th:only-of-type {\n",
       "        vertical-align: middle;\n",
       "    }\n",
       "\n",
       "    .dataframe tbody tr th {\n",
       "        vertical-align: top;\n",
       "    }\n",
       "\n",
       "    .dataframe thead th {\n",
       "        text-align: right;\n",
       "    }\n",
       "</style>\n",
       "<table border=\"1\" class=\"dataframe\">\n",
       "  <thead>\n",
       "    <tr style=\"text-align: right;\">\n",
       "      <th></th>\n",
       "      <th>Index</th>\n",
       "      <th>Country</th>\n",
       "      <th>Nominal_GDP_($)</th>\n",
       "      <th>GDP_Abbrev_($)</th>\n",
       "      <th>GDP_Growth_(%)</th>\n",
       "      <th>Population</th>\n",
       "    </tr>\n",
       "  </thead>\n",
       "  <tbody>\n",
       "    <tr>\n",
       "      <th>0</th>\n",
       "      <td>1</td>\n",
       "      <td>United States</td>\n",
       "      <td>$19,485,394,000,000</td>\n",
       "      <td>$19.485 trillion</td>\n",
       "      <td>2.27%</td>\n",
       "      <td>325,084,756</td>\n",
       "    </tr>\n",
       "    <tr>\n",
       "      <th>1</th>\n",
       "      <td>2</td>\n",
       "      <td>China</td>\n",
       "      <td>$12,237,700,479,375</td>\n",
       "      <td>$12.238 trillion</td>\n",
       "      <td>6.90%</td>\n",
       "      <td>1,421,021,791</td>\n",
       "    </tr>\n",
       "    <tr>\n",
       "      <th>2</th>\n",
       "      <td>3</td>\n",
       "      <td>Japan</td>\n",
       "      <td>$4,872,415,104,315</td>\n",
       "      <td>$4.872 trillion</td>\n",
       "      <td>1.71%</td>\n",
       "      <td>127,502,725</td>\n",
       "    </tr>\n",
       "    <tr>\n",
       "      <th>3</th>\n",
       "      <td>4</td>\n",
       "      <td>Germany</td>\n",
       "      <td>$3,693,204,332,230</td>\n",
       "      <td>$3.693 trillion</td>\n",
       "      <td>2.22%</td>\n",
       "      <td>82,658,409</td>\n",
       "    </tr>\n",
       "    <tr>\n",
       "      <th>4</th>\n",
       "      <td>5</td>\n",
       "      <td>India</td>\n",
       "      <td>$2,650,725,335,364</td>\n",
       "      <td>$2.651 trillion</td>\n",
       "      <td>6.68%</td>\n",
       "      <td>1,338,676,785</td>\n",
       "    </tr>\n",
       "    <tr>\n",
       "      <th>...</th>\n",
       "      <td>...</td>\n",
       "      <td>...</td>\n",
       "      <td>...</td>\n",
       "      <td>...</td>\n",
       "      <td>...</td>\n",
       "      <td>...</td>\n",
       "    </tr>\n",
       "    <tr>\n",
       "      <th>185</th>\n",
       "      <td>186</td>\n",
       "      <td>Micronesia</td>\n",
       "      <td>$336,427,500</td>\n",
       "      <td>$336 million</td>\n",
       "      <td>3.20%</td>\n",
       "      <td>532,899</td>\n",
       "    </tr>\n",
       "    <tr>\n",
       "      <th>186</th>\n",
       "      <td>187</td>\n",
       "      <td>Palau</td>\n",
       "      <td>$289,823,500</td>\n",
       "      <td>$290 million</td>\n",
       "      <td>-3.57%</td>\n",
       "      <td>17,808</td>\n",
       "    </tr>\n",
       "    <tr>\n",
       "      <th>187</th>\n",
       "      <td>188</td>\n",
       "      <td>Marshall Islands</td>\n",
       "      <td>$204,173,430</td>\n",
       "      <td>$204 million</td>\n",
       "      <td>3.60%</td>\n",
       "      <td>58,058</td>\n",
       "    </tr>\n",
       "    <tr>\n",
       "      <th>188</th>\n",
       "      <td>189</td>\n",
       "      <td>Kiribati</td>\n",
       "      <td>$185,572,502</td>\n",
       "      <td>$186 million</td>\n",
       "      <td>0.33%</td>\n",
       "      <td>114,158</td>\n",
       "    </tr>\n",
       "    <tr>\n",
       "      <th>189</th>\n",
       "      <td>190</td>\n",
       "      <td>Tuvalu</td>\n",
       "      <td>$39,731,317</td>\n",
       "      <td>$40 million</td>\n",
       "      <td>3.24%</td>\n",
       "      <td>11,370</td>\n",
       "    </tr>\n",
       "  </tbody>\n",
       "</table>\n",
       "<p>190 rows × 6 columns</p>\n",
       "</div>"
      ],
      "text/plain": [
       "    Index           Country      Nominal_GDP_($)    GDP_Abbrev_($)  \\\n",
       "0       1     United States  $19,485,394,000,000  $19.485 trillion   \n",
       "1       2             China  $12,237,700,479,375  $12.238 trillion   \n",
       "2       3             Japan   $4,872,415,104,315   $4.872 trillion   \n",
       "3       4           Germany   $3,693,204,332,230   $3.693 trillion   \n",
       "4       5             India   $2,650,725,335,364   $2.651 trillion   \n",
       "..    ...               ...                  ...               ...   \n",
       "185   186        Micronesia         $336,427,500      $336 million   \n",
       "186   187             Palau         $289,823,500      $290 million   \n",
       "187   188  Marshall Islands         $204,173,430      $204 million   \n",
       "188   189          Kiribati         $185,572,502      $186 million   \n",
       "189   190            Tuvalu          $39,731,317       $40 million   \n",
       "\n",
       "    GDP_Growth_(%)     Population  \n",
       "0            2.27%    325,084,756  \n",
       "1            6.90%  1,421,021,791  \n",
       "2            1.71%    127,502,725  \n",
       "3            2.22%     82,658,409  \n",
       "4            6.68%  1,338,676,785  \n",
       "..             ...            ...  \n",
       "185          3.20%        532,899  \n",
       "186         -3.57%         17,808  \n",
       "187          3.60%         58,058  \n",
       "188          0.33%        114,158  \n",
       "189          3.24%         11,370  \n",
       "\n",
       "[190 rows x 6 columns]"
      ]
     },
     "execution_count": 6,
     "metadata": {},
     "output_type": "execute_result"
    }
   ],
   "source": [
    "df"
   ]
  },
  {
   "cell_type": "code",
   "execution_count": 7,
   "metadata": {},
   "outputs": [],
   "source": [
    "df.drop(columns=['Index', 'GDP_Abbrev_($)'], inplace=True)                                 # drop index and abbreviated gdp columns"
   ]
  },
  {
   "cell_type": "code",
   "execution_count": 8,
   "metadata": {},
   "outputs": [
    {
     "data": {
      "text/html": [
       "<div>\n",
       "<style scoped>\n",
       "    .dataframe tbody tr th:only-of-type {\n",
       "        vertical-align: middle;\n",
       "    }\n",
       "\n",
       "    .dataframe tbody tr th {\n",
       "        vertical-align: top;\n",
       "    }\n",
       "\n",
       "    .dataframe thead th {\n",
       "        text-align: right;\n",
       "    }\n",
       "</style>\n",
       "<table border=\"1\" class=\"dataframe\">\n",
       "  <thead>\n",
       "    <tr style=\"text-align: right;\">\n",
       "      <th></th>\n",
       "      <th>Country</th>\n",
       "      <th>Nominal_GDP_($)</th>\n",
       "      <th>GDP_Growth_(%)</th>\n",
       "      <th>Population</th>\n",
       "    </tr>\n",
       "  </thead>\n",
       "  <tbody>\n",
       "    <tr>\n",
       "      <th>0</th>\n",
       "      <td>United States</td>\n",
       "      <td>$19,485,394,000,000</td>\n",
       "      <td>2.27%</td>\n",
       "      <td>325,084,756</td>\n",
       "    </tr>\n",
       "    <tr>\n",
       "      <th>1</th>\n",
       "      <td>China</td>\n",
       "      <td>$12,237,700,479,375</td>\n",
       "      <td>6.90%</td>\n",
       "      <td>1,421,021,791</td>\n",
       "    </tr>\n",
       "    <tr>\n",
       "      <th>2</th>\n",
       "      <td>Japan</td>\n",
       "      <td>$4,872,415,104,315</td>\n",
       "      <td>1.71%</td>\n",
       "      <td>127,502,725</td>\n",
       "    </tr>\n",
       "    <tr>\n",
       "      <th>3</th>\n",
       "      <td>Germany</td>\n",
       "      <td>$3,693,204,332,230</td>\n",
       "      <td>2.22%</td>\n",
       "      <td>82,658,409</td>\n",
       "    </tr>\n",
       "    <tr>\n",
       "      <th>4</th>\n",
       "      <td>India</td>\n",
       "      <td>$2,650,725,335,364</td>\n",
       "      <td>6.68%</td>\n",
       "      <td>1,338,676,785</td>\n",
       "    </tr>\n",
       "    <tr>\n",
       "      <th>...</th>\n",
       "      <td>...</td>\n",
       "      <td>...</td>\n",
       "      <td>...</td>\n",
       "      <td>...</td>\n",
       "    </tr>\n",
       "    <tr>\n",
       "      <th>185</th>\n",
       "      <td>Micronesia</td>\n",
       "      <td>$336,427,500</td>\n",
       "      <td>3.20%</td>\n",
       "      <td>532,899</td>\n",
       "    </tr>\n",
       "    <tr>\n",
       "      <th>186</th>\n",
       "      <td>Palau</td>\n",
       "      <td>$289,823,500</td>\n",
       "      <td>-3.57%</td>\n",
       "      <td>17,808</td>\n",
       "    </tr>\n",
       "    <tr>\n",
       "      <th>187</th>\n",
       "      <td>Marshall Islands</td>\n",
       "      <td>$204,173,430</td>\n",
       "      <td>3.60%</td>\n",
       "      <td>58,058</td>\n",
       "    </tr>\n",
       "    <tr>\n",
       "      <th>188</th>\n",
       "      <td>Kiribati</td>\n",
       "      <td>$185,572,502</td>\n",
       "      <td>0.33%</td>\n",
       "      <td>114,158</td>\n",
       "    </tr>\n",
       "    <tr>\n",
       "      <th>189</th>\n",
       "      <td>Tuvalu</td>\n",
       "      <td>$39,731,317</td>\n",
       "      <td>3.24%</td>\n",
       "      <td>11,370</td>\n",
       "    </tr>\n",
       "  </tbody>\n",
       "</table>\n",
       "<p>190 rows × 4 columns</p>\n",
       "</div>"
      ],
      "text/plain": [
       "              Country      Nominal_GDP_($) GDP_Growth_(%)     Population\n",
       "0       United States  $19,485,394,000,000          2.27%    325,084,756\n",
       "1               China  $12,237,700,479,375          6.90%  1,421,021,791\n",
       "2               Japan   $4,872,415,104,315          1.71%    127,502,725\n",
       "3             Germany   $3,693,204,332,230          2.22%     82,658,409\n",
       "4               India   $2,650,725,335,364          6.68%  1,338,676,785\n",
       "..                ...                  ...            ...            ...\n",
       "185        Micronesia         $336,427,500          3.20%        532,899\n",
       "186             Palau         $289,823,500         -3.57%         17,808\n",
       "187  Marshall Islands         $204,173,430          3.60%         58,058\n",
       "188          Kiribati         $185,572,502          0.33%        114,158\n",
       "189            Tuvalu          $39,731,317          3.24%         11,370\n",
       "\n",
       "[190 rows x 4 columns]"
      ]
     },
     "execution_count": 8,
     "metadata": {},
     "output_type": "execute_result"
    }
   ],
   "source": [
    "df"
   ]
  },
  {
   "cell_type": "markdown",
   "metadata": {},
   "source": [
    "# Data Cleaning"
   ]
  },
  {
   "cell_type": "code",
   "execution_count": 9,
   "metadata": {},
   "outputs": [],
   "source": [
    "df['Nominal_GDP_($)'] = df['Nominal_GDP_($)'].str.lstrip('$').str.replace(',', '')     # strip dollar signs and commas from Nominal GDP"
   ]
  },
  {
   "cell_type": "code",
   "execution_count": 10,
   "metadata": {},
   "outputs": [
    {
     "data": {
      "text/html": [
       "<div>\n",
       "<style scoped>\n",
       "    .dataframe tbody tr th:only-of-type {\n",
       "        vertical-align: middle;\n",
       "    }\n",
       "\n",
       "    .dataframe tbody tr th {\n",
       "        vertical-align: top;\n",
       "    }\n",
       "\n",
       "    .dataframe thead th {\n",
       "        text-align: right;\n",
       "    }\n",
       "</style>\n",
       "<table border=\"1\" class=\"dataframe\">\n",
       "  <thead>\n",
       "    <tr style=\"text-align: right;\">\n",
       "      <th></th>\n",
       "      <th>Country</th>\n",
       "      <th>Nominal_GDP_($)</th>\n",
       "      <th>GDP_Growth_(%)</th>\n",
       "      <th>Population</th>\n",
       "    </tr>\n",
       "  </thead>\n",
       "  <tbody>\n",
       "    <tr>\n",
       "      <th>0</th>\n",
       "      <td>United States</td>\n",
       "      <td>19485394000000</td>\n",
       "      <td>2.27%</td>\n",
       "      <td>325,084,756</td>\n",
       "    </tr>\n",
       "    <tr>\n",
       "      <th>1</th>\n",
       "      <td>China</td>\n",
       "      <td>12237700479375</td>\n",
       "      <td>6.90%</td>\n",
       "      <td>1,421,021,791</td>\n",
       "    </tr>\n",
       "    <tr>\n",
       "      <th>2</th>\n",
       "      <td>Japan</td>\n",
       "      <td>4872415104315</td>\n",
       "      <td>1.71%</td>\n",
       "      <td>127,502,725</td>\n",
       "    </tr>\n",
       "    <tr>\n",
       "      <th>3</th>\n",
       "      <td>Germany</td>\n",
       "      <td>3693204332230</td>\n",
       "      <td>2.22%</td>\n",
       "      <td>82,658,409</td>\n",
       "    </tr>\n",
       "    <tr>\n",
       "      <th>4</th>\n",
       "      <td>India</td>\n",
       "      <td>2650725335364</td>\n",
       "      <td>6.68%</td>\n",
       "      <td>1,338,676,785</td>\n",
       "    </tr>\n",
       "  </tbody>\n",
       "</table>\n",
       "</div>"
      ],
      "text/plain": [
       "         Country Nominal_GDP_($) GDP_Growth_(%)     Population\n",
       "0  United States  19485394000000          2.27%    325,084,756\n",
       "1          China  12237700479375          6.90%  1,421,021,791\n",
       "2          Japan   4872415104315          1.71%    127,502,725\n",
       "3        Germany   3693204332230          2.22%     82,658,409\n",
       "4          India   2650725335364          6.68%  1,338,676,785"
      ]
     },
     "execution_count": 10,
     "metadata": {},
     "output_type": "execute_result"
    }
   ],
   "source": [
    "df.head()"
   ]
  },
  {
   "cell_type": "code",
   "execution_count": 11,
   "metadata": {},
   "outputs": [],
   "source": [
    "df['GDP_Growth_(%)'] = df['GDP_Growth_(%)'].str.rstrip('%')                             # right strip percentage signs"
   ]
  },
  {
   "cell_type": "code",
   "execution_count": 12,
   "metadata": {},
   "outputs": [
    {
     "data": {
      "text/html": [
       "<div>\n",
       "<style scoped>\n",
       "    .dataframe tbody tr th:only-of-type {\n",
       "        vertical-align: middle;\n",
       "    }\n",
       "\n",
       "    .dataframe tbody tr th {\n",
       "        vertical-align: top;\n",
       "    }\n",
       "\n",
       "    .dataframe thead th {\n",
       "        text-align: right;\n",
       "    }\n",
       "</style>\n",
       "<table border=\"1\" class=\"dataframe\">\n",
       "  <thead>\n",
       "    <tr style=\"text-align: right;\">\n",
       "      <th></th>\n",
       "      <th>Country</th>\n",
       "      <th>Nominal_GDP_($)</th>\n",
       "      <th>GDP_Growth_(%)</th>\n",
       "      <th>Population</th>\n",
       "    </tr>\n",
       "  </thead>\n",
       "  <tbody>\n",
       "    <tr>\n",
       "      <th>0</th>\n",
       "      <td>United States</td>\n",
       "      <td>19485394000000</td>\n",
       "      <td>2.27</td>\n",
       "      <td>325,084,756</td>\n",
       "    </tr>\n",
       "    <tr>\n",
       "      <th>1</th>\n",
       "      <td>China</td>\n",
       "      <td>12237700479375</td>\n",
       "      <td>6.90</td>\n",
       "      <td>1,421,021,791</td>\n",
       "    </tr>\n",
       "    <tr>\n",
       "      <th>2</th>\n",
       "      <td>Japan</td>\n",
       "      <td>4872415104315</td>\n",
       "      <td>1.71</td>\n",
       "      <td>127,502,725</td>\n",
       "    </tr>\n",
       "    <tr>\n",
       "      <th>3</th>\n",
       "      <td>Germany</td>\n",
       "      <td>3693204332230</td>\n",
       "      <td>2.22</td>\n",
       "      <td>82,658,409</td>\n",
       "    </tr>\n",
       "    <tr>\n",
       "      <th>4</th>\n",
       "      <td>India</td>\n",
       "      <td>2650725335364</td>\n",
       "      <td>6.68</td>\n",
       "      <td>1,338,676,785</td>\n",
       "    </tr>\n",
       "  </tbody>\n",
       "</table>\n",
       "</div>"
      ],
      "text/plain": [
       "         Country Nominal_GDP_($) GDP_Growth_(%)     Population\n",
       "0  United States  19485394000000           2.27    325,084,756\n",
       "1          China  12237700479375           6.90  1,421,021,791\n",
       "2          Japan   4872415104315           1.71    127,502,725\n",
       "3        Germany   3693204332230           2.22     82,658,409\n",
       "4          India   2650725335364           6.68  1,338,676,785"
      ]
     },
     "execution_count": 12,
     "metadata": {},
     "output_type": "execute_result"
    }
   ],
   "source": [
    "df.head()"
   ]
  },
  {
   "cell_type": "code",
   "execution_count": 13,
   "metadata": {},
   "outputs": [
    {
     "data": {
      "text/html": [
       "<div>\n",
       "<style scoped>\n",
       "    .dataframe tbody tr th:only-of-type {\n",
       "        vertical-align: middle;\n",
       "    }\n",
       "\n",
       "    .dataframe tbody tr th {\n",
       "        vertical-align: top;\n",
       "    }\n",
       "\n",
       "    .dataframe thead th {\n",
       "        text-align: right;\n",
       "    }\n",
       "</style>\n",
       "<table border=\"1\" class=\"dataframe\">\n",
       "  <thead>\n",
       "    <tr style=\"text-align: right;\">\n",
       "      <th></th>\n",
       "      <th>Country</th>\n",
       "      <th>Nominal_GDP_($)</th>\n",
       "      <th>GDP_Growth_(%)</th>\n",
       "      <th>Population</th>\n",
       "    </tr>\n",
       "  </thead>\n",
       "  <tbody>\n",
       "    <tr>\n",
       "      <th>0</th>\n",
       "      <td>United States</td>\n",
       "      <td>19485394000000</td>\n",
       "      <td>2.27</td>\n",
       "      <td>325084756</td>\n",
       "    </tr>\n",
       "    <tr>\n",
       "      <th>1</th>\n",
       "      <td>China</td>\n",
       "      <td>12237700479375</td>\n",
       "      <td>6.90</td>\n",
       "      <td>1421021791</td>\n",
       "    </tr>\n",
       "    <tr>\n",
       "      <th>2</th>\n",
       "      <td>Japan</td>\n",
       "      <td>4872415104315</td>\n",
       "      <td>1.71</td>\n",
       "      <td>127502725</td>\n",
       "    </tr>\n",
       "    <tr>\n",
       "      <th>3</th>\n",
       "      <td>Germany</td>\n",
       "      <td>3693204332230</td>\n",
       "      <td>2.22</td>\n",
       "      <td>82658409</td>\n",
       "    </tr>\n",
       "    <tr>\n",
       "      <th>4</th>\n",
       "      <td>India</td>\n",
       "      <td>2650725335364</td>\n",
       "      <td>6.68</td>\n",
       "      <td>1338676785</td>\n",
       "    </tr>\n",
       "  </tbody>\n",
       "</table>\n",
       "</div>"
      ],
      "text/plain": [
       "         Country Nominal_GDP_($) GDP_Growth_(%)  Population\n",
       "0  United States  19485394000000           2.27   325084756\n",
       "1          China  12237700479375           6.90  1421021791\n",
       "2          Japan   4872415104315           1.71   127502725\n",
       "3        Germany   3693204332230           2.22    82658409\n",
       "4          India   2650725335364           6.68  1338676785"
      ]
     },
     "execution_count": 13,
     "metadata": {},
     "output_type": "execute_result"
    }
   ],
   "source": [
    "df['Population'] = df['Population'].str.replace(',', '')                                 # remove commas from population\n",
    "df.head()"
   ]
  },
  {
   "cell_type": "code",
   "execution_count": 14,
   "metadata": {},
   "outputs": [
    {
     "name": "stdout",
     "output_type": "stream",
     "text": [
      "<class 'pandas.core.series.Series'>\n",
      "RangeIndex: 190 entries, 0 to 189\n",
      "Series name: GDP_Growth_(%)\n",
      "Non-Null Count  Dtype  \n",
      "--------------  -----  \n",
      "190 non-null    float64\n",
      "dtypes: float64(1)\n",
      "memory usage: 1.6 KB\n"
     ]
    }
   ],
   "source": [
    "df['GDP_Growth_(%)'] = df['GDP_Growth_(%)'].astype(np.float64)                            # change gdp growth to float\n",
    "df['GDP_Growth_(%)'].info()"
   ]
  },
  {
   "cell_type": "code",
   "execution_count": 15,
   "metadata": {},
   "outputs": [
    {
     "name": "stdout",
     "output_type": "stream",
     "text": [
      "<class 'pandas.core.frame.DataFrame'>\n",
      "RangeIndex: 190 entries, 0 to 189\n",
      "Data columns (total 4 columns):\n",
      " #   Column           Non-Null Count  Dtype  \n",
      "---  ------           --------------  -----  \n",
      " 0   Country          190 non-null    object \n",
      " 1   Nominal_GDP_($)  190 non-null    int64  \n",
      " 2   GDP_Growth_(%)   190 non-null    float64\n",
      " 3   Population       190 non-null    int64  \n",
      "dtypes: float64(1), int64(2), object(1)\n",
      "memory usage: 6.1+ KB\n"
     ]
    }
   ],
   "source": [
    "df[['Nominal_GDP_($)', 'Population']] = df[['Nominal_GDP_($)', 'Population']].applymap(lambda x: np.int64(x))  # change data type to integer\n",
    "df.info()"
   ]
  },
  {
   "cell_type": "markdown",
   "metadata": {},
   "source": [
    "# Data Exploration"
   ]
  },
  {
   "cell_type": "code",
   "execution_count": 16,
   "metadata": {},
   "outputs": [
    {
     "data": {
      "text/plain": [
       "(190, 4)"
      ]
     },
     "execution_count": 16,
     "metadata": {},
     "output_type": "execute_result"
    }
   ],
   "source": [
    "df.shape                                                                                        # return the dimensions of the dataframe"
   ]
  },
  {
   "cell_type": "code",
   "execution_count": 17,
   "metadata": {},
   "outputs": [
    {
     "data": {
      "text/plain": [
       "190"
      ]
     },
     "execution_count": 17,
     "metadata": {},
     "output_type": "execute_result"
    }
   ],
   "source": [
    "df['Country'].nunique()                                                                          # count unique countries"
   ]
  },
  {
   "cell_type": "code",
   "execution_count": 18,
   "metadata": {},
   "outputs": [
    {
     "data": {
      "text/html": [
       "<div>\n",
       "<style scoped>\n",
       "    .dataframe tbody tr th:only-of-type {\n",
       "        vertical-align: middle;\n",
       "    }\n",
       "\n",
       "    .dataframe tbody tr th {\n",
       "        vertical-align: top;\n",
       "    }\n",
       "\n",
       "    .dataframe thead th {\n",
       "        text-align: right;\n",
       "    }\n",
       "</style>\n",
       "<table border=\"1\" class=\"dataframe\">\n",
       "  <thead>\n",
       "    <tr style=\"text-align: right;\">\n",
       "      <th></th>\n",
       "      <th>Nominal_GDP_($)</th>\n",
       "      <th>Population</th>\n",
       "    </tr>\n",
       "  </thead>\n",
       "  <tbody>\n",
       "    <tr>\n",
       "      <th>count</th>\n",
       "      <td>1.900000e+02</td>\n",
       "      <td>1.900000e+02</td>\n",
       "    </tr>\n",
       "    <tr>\n",
       "      <th>mean</th>\n",
       "      <td>4.188098e+11</td>\n",
       "      <td>3.902765e+07</td>\n",
       "    </tr>\n",
       "    <tr>\n",
       "      <th>std</th>\n",
       "      <td>1.755006e+12</td>\n",
       "      <td>1.461575e+08</td>\n",
       "    </tr>\n",
       "    <tr>\n",
       "      <th>min</th>\n",
       "      <td>3.973132e+07</td>\n",
       "      <td>1.137000e+04</td>\n",
       "    </tr>\n",
       "    <tr>\n",
       "      <th>25%</th>\n",
       "      <td>8.121906e+09</td>\n",
       "      <td>1.858883e+06</td>\n",
       "    </tr>\n",
       "    <tr>\n",
       "      <th>50%</th>\n",
       "      <td>3.639298e+10</td>\n",
       "      <td>7.971161e+06</td>\n",
       "    </tr>\n",
       "    <tr>\n",
       "      <th>75%</th>\n",
       "      <td>2.117603e+11</td>\n",
       "      <td>2.778428e+07</td>\n",
       "    </tr>\n",
       "    <tr>\n",
       "      <th>max</th>\n",
       "      <td>1.948539e+13</td>\n",
       "      <td>1.421022e+09</td>\n",
       "    </tr>\n",
       "  </tbody>\n",
       "</table>\n",
       "</div>"
      ],
      "text/plain": [
       "       Nominal_GDP_($)    Population\n",
       "count     1.900000e+02  1.900000e+02\n",
       "mean      4.188098e+11  3.902765e+07\n",
       "std       1.755006e+12  1.461575e+08\n",
       "min       3.973132e+07  1.137000e+04\n",
       "25%       8.121906e+09  1.858883e+06\n",
       "50%       3.639298e+10  7.971161e+06\n",
       "75%       2.117603e+11  2.778428e+07\n",
       "max       1.948539e+13  1.421022e+09"
      ]
     },
     "execution_count": 18,
     "metadata": {},
     "output_type": "execute_result"
    }
   ],
   "source": [
    "df[['Nominal_GDP_($)', 'Population']].describe()                                                 # generate descriptive statistics"
   ]
  },
  {
   "cell_type": "code",
   "execution_count": 19,
   "metadata": {},
   "outputs": [
    {
     "data": {
      "text/plain": [
       "<AxesSubplot:xlabel='Nominal_GDP_($)', ylabel='Density'>"
      ]
     },
     "execution_count": 19,
     "metadata": {},
     "output_type": "execute_result"
    },
    {
     "data": {
      "image/png": "[encoded data removed]",
      "text/plain": [
       "<Figure size 432x288 with 1 Axes>"
      ]
     },
     "metadata": {
      "needs_background": "light"
     },
     "output_type": "display_data"
    }
   ],
   "source": [
    "sns.kdeplot(data=df, x='Nominal_GDP_($)', shade=True)"
   ]
  },
  {
   "cell_type": "code",
   "execution_count": 20,
   "metadata": {},
   "outputs": [
    {
     "data": {
      "text/plain": [
       "<AxesSubplot:xlabel='Population', ylabel='Density'>"
      ]
     },
     "execution_count": 20,
     "metadata": {},
     "output_type": "execute_result"
    },
    {
     "data": {
      "image/png": "[encoded data removed]",
      "text/plain": [
       "<Figure size 432x288 with 1 Axes>"
      ]
     },
     "metadata": {
      "needs_background": "light"
     },
     "output_type": "display_data"
    }
   ],
   "source": [
    "sns.kdeplot(data=df, x='Population', shade=True)"
   ]
  }
 ],
 "metadata": {
  "interpreter": {
   "hash": "30c5ac37d0d4bc195f18668291cab0166f8e9ebfaa98d682fbdf81c02debeab6"
  },
  "kernelspec": {
   "display_name": "Python 3.10.4 ('base')",
   "language": "python",
   "name": "python3"
  },
  "language_info": {
   "codemirror_mode": {
    "name": "ipython",
    "version": 3
   },
   "file_extension": ".py",
   "mimetype": "text/x-python",
   "name": "python",
   "nbconvert_exporter": "python",
   "pygments_lexer": "ipython3",
   "version": "3.10.4"
  },
  "orig_nbformat": 4
 },
 "nbformat": 4,
 "nbformat_minor": 2
}
