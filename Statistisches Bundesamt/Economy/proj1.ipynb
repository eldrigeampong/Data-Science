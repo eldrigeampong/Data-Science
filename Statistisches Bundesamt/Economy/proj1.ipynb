{
 "cells": [
  {
   "cell_type": "markdown",
   "metadata": {},
   "source": [
    "# Foreign Trade - Overall development in foreign trade since 1950"
   ]
  },
  {
   "cell_type": "code",
   "execution_count": 1,
   "metadata": {},
   "outputs": [],
   "source": [
    "import numpy as np\n",
    "import pandas as pd\n",
    "import matplotlib.pyplot as plt\n",
    "import seaborn as sns\n",
    "import os\n",
    "import warnings"
   ]
  },
  {
   "cell_type": "markdown",
   "metadata": {},
   "source": [
    "# Options and Settings"
   ]
  },
  {
   "cell_type": "code",
   "execution_count": 2,
   "metadata": {},
   "outputs": [],
   "source": [
    "%matplotlib inline\n",
    "sns.set_theme(style='dark')\n",
    "plt.rcParams['figure.autolayout'] = True\n",
    "plt.rcParams['font.size'] = 14\n",
    "path = os.getcwd()                                                  # get current working directory\n",
    "warnings.simplefilter('ignore')"
   ]
  },
  {
   "cell_type": "markdown",
   "metadata": {},
   "source": [
    "# Import Data"
   ]
  },
  {
   "cell_type": "code",
   "execution_count": 3,
   "metadata": {},
   "outputs": [],
   "source": [
    "filepath = os.path.join('datasets', 'Overall development in foreign trade in million Euro.xlsx')\n",
    "\n",
    "df = pd.read_excel(filepath)"
   ]
  },
  {
   "cell_type": "markdown",
   "metadata": {},
   "source": [
    "# Head and Tail"
   ]
  },
  {
   "cell_type": "code",
   "execution_count": 4,
   "metadata": {},
   "outputs": [
    {
     "data": {
      "text/html": [
       "<div>\n",
       "<style scoped>\n",
       "    .dataframe tbody tr th:only-of-type {\n",
       "        vertical-align: middle;\n",
       "    }\n",
       "\n",
       "    .dataframe tbody tr th {\n",
       "        vertical-align: top;\n",
       "    }\n",
       "\n",
       "    .dataframe thead th {\n",
       "        text-align: right;\n",
       "    }\n",
       "</style>\n",
       "<table border=\"1\" class=\"dataframe\">\n",
       "  <thead>\n",
       "    <tr style=\"text-align: right;\">\n",
       "      <th></th>\n",
       "      <th>Year</th>\n",
       "      <th>Exports</th>\n",
       "      <th>Imports</th>\n",
       "      <th>Exports_Pct</th>\n",
       "      <th>Imports_Pct</th>\n",
       "    </tr>\n",
       "  </thead>\n",
       "  <tbody>\n",
       "    <tr>\n",
       "      <th>0</th>\n",
       "      <td>1950</td>\n",
       "      <td>4 275</td>\n",
       "      <td>5 815</td>\n",
       "      <td>NaN</td>\n",
       "      <td>NaN</td>\n",
       "    </tr>\n",
       "    <tr>\n",
       "      <th>1</th>\n",
       "      <td>1951</td>\n",
       "      <td>7 453</td>\n",
       "      <td>7 529</td>\n",
       "      <td>74.3</td>\n",
       "      <td>29.5</td>\n",
       "    </tr>\n",
       "    <tr>\n",
       "      <th>2</th>\n",
       "      <td>1952</td>\n",
       "      <td>8 645</td>\n",
       "      <td>8 284</td>\n",
       "      <td>16.0</td>\n",
       "      <td>10.0</td>\n",
       "    </tr>\n",
       "    <tr>\n",
       "      <th>3</th>\n",
       "      <td>1953</td>\n",
       "      <td>9 472</td>\n",
       "      <td>8 186</td>\n",
       "      <td>9.6</td>\n",
       "      <td>1.2</td>\n",
       "    </tr>\n",
       "    <tr>\n",
       "      <th>4</th>\n",
       "      <td>1954</td>\n",
       "      <td>11 266</td>\n",
       "      <td>9 887</td>\n",
       "      <td>18.9</td>\n",
       "      <td>20.8</td>\n",
       "    </tr>\n",
       "    <tr>\n",
       "      <th>...</th>\n",
       "      <td>...</td>\n",
       "      <td>...</td>\n",
       "      <td>...</td>\n",
       "      <td>...</td>\n",
       "      <td>...</td>\n",
       "    </tr>\n",
       "    <tr>\n",
       "      <th>66</th>\n",
       "      <td>2016</td>\n",
       "      <td>1 203 833</td>\n",
       "      <td>954 917</td>\n",
       "      <td>0.9</td>\n",
       "      <td>0.6</td>\n",
       "    </tr>\n",
       "    <tr>\n",
       "      <th>67</th>\n",
       "      <td>2017</td>\n",
       "      <td>1 278 958</td>\n",
       "      <td>1 031 013</td>\n",
       "      <td>6.2</td>\n",
       "      <td>8.0</td>\n",
       "    </tr>\n",
       "    <tr>\n",
       "      <th>68</th>\n",
       "      <td>2018</td>\n",
       "      <td>1 317 440</td>\n",
       "      <td>1 088 720</td>\n",
       "      <td>3.0</td>\n",
       "      <td>5.6</td>\n",
       "    </tr>\n",
       "    <tr>\n",
       "      <th>69</th>\n",
       "      <td>2019</td>\n",
       "      <td>1 328 152</td>\n",
       "      <td>1 104 141</td>\n",
       "      <td>0.8</td>\n",
       "      <td>1.4</td>\n",
       "    </tr>\n",
       "    <tr>\n",
       "      <th>70</th>\n",
       "      <td>2020</td>\n",
       "      <td>1 206 928</td>\n",
       "      <td>1 026 502</td>\n",
       "      <td>9.1</td>\n",
       "      <td>7.0</td>\n",
       "    </tr>\n",
       "  </tbody>\n",
       "</table>\n",
       "<p>71 rows × 5 columns</p>\n",
       "</div>"
      ],
      "text/plain": [
       "    Year    Exports    Imports  Exports_Pct  Imports_Pct\n",
       "0   1950      4 275      5 815          NaN          NaN\n",
       "1   1951      7 453      7 529         74.3         29.5\n",
       "2   1952      8 645      8 284         16.0         10.0\n",
       "3   1953      9 472      8 186          9.6          1.2\n",
       "4   1954     11 266      9 887         18.9         20.8\n",
       "..   ...        ...        ...          ...          ...\n",
       "66  2016  1 203 833    954 917          0.9          0.6\n",
       "67  2017  1 278 958  1 031 013          6.2          8.0\n",
       "68  2018  1 317 440  1 088 720          3.0          5.6\n",
       "69  2019  1 328 152  1 104 141          0.8          1.4\n",
       "70  2020  1 206 928  1 026 502          9.1          7.0\n",
       "\n",
       "[71 rows x 5 columns]"
      ]
     },
     "execution_count": 4,
     "metadata": {},
     "output_type": "execute_result"
    }
   ],
   "source": [
    "df"
   ]
  },
  {
   "cell_type": "code",
   "execution_count": 5,
   "metadata": {},
   "outputs": [
    {
     "data": {
      "text/plain": [
       "(71, 5)"
      ]
     },
     "execution_count": 5,
     "metadata": {},
     "output_type": "execute_result"
    }
   ],
   "source": [
    "df.shape     "
   ]
  },
  {
   "cell_type": "code",
   "execution_count": 6,
   "metadata": {},
   "outputs": [
    {
     "name": "stdout",
     "output_type": "stream",
     "text": [
      "<class 'pandas.core.frame.DataFrame'>\n",
      "RangeIndex: 71 entries, 0 to 70\n",
      "Data columns (total 5 columns):\n",
      " #   Column       Non-Null Count  Dtype  \n",
      "---  ------       --------------  -----  \n",
      " 0   Year         71 non-null     int64  \n",
      " 1   Exports      71 non-null     object \n",
      " 2   Imports      71 non-null     object \n",
      " 3   Exports_Pct  70 non-null     float64\n",
      " 4   Imports_Pct  70 non-null     float64\n",
      "dtypes: float64(2), int64(1), object(2)\n",
      "memory usage: 2.9+ KB\n"
     ]
    }
   ],
   "source": [
    "df.info()"
   ]
  },
  {
   "cell_type": "code",
   "execution_count": 7,
   "metadata": {},
   "outputs": [],
   "source": [
    "df['Exports'] = df['Exports'].str.replace(' ', '')                        # remove white spaces between exports\n",
    "df['Imports'] = df['Imports'].str.replace(' ', '')                        # remove white spaces between imports"
   ]
  },
  {
   "cell_type": "code",
   "execution_count": 8,
   "metadata": {},
   "outputs": [
    {
     "data": {
      "text/html": [
       "<div>\n",
       "<style scoped>\n",
       "    .dataframe tbody tr th:only-of-type {\n",
       "        vertical-align: middle;\n",
       "    }\n",
       "\n",
       "    .dataframe tbody tr th {\n",
       "        vertical-align: top;\n",
       "    }\n",
       "\n",
       "    .dataframe thead th {\n",
       "        text-align: right;\n",
       "    }\n",
       "</style>\n",
       "<table border=\"1\" class=\"dataframe\">\n",
       "  <thead>\n",
       "    <tr style=\"text-align: right;\">\n",
       "      <th></th>\n",
       "      <th>Year</th>\n",
       "      <th>Exports</th>\n",
       "      <th>Imports</th>\n",
       "      <th>Exports_Pct</th>\n",
       "      <th>Imports_Pct</th>\n",
       "    </tr>\n",
       "  </thead>\n",
       "  <tbody>\n",
       "    <tr>\n",
       "      <th>0</th>\n",
       "      <td>1950</td>\n",
       "      <td>4275</td>\n",
       "      <td>5815</td>\n",
       "      <td>NaN</td>\n",
       "      <td>NaN</td>\n",
       "    </tr>\n",
       "    <tr>\n",
       "      <th>1</th>\n",
       "      <td>1951</td>\n",
       "      <td>7453</td>\n",
       "      <td>7529</td>\n",
       "      <td>74.3</td>\n",
       "      <td>29.5</td>\n",
       "    </tr>\n",
       "    <tr>\n",
       "      <th>2</th>\n",
       "      <td>1952</td>\n",
       "      <td>8645</td>\n",
       "      <td>8284</td>\n",
       "      <td>16.0</td>\n",
       "      <td>10.0</td>\n",
       "    </tr>\n",
       "    <tr>\n",
       "      <th>3</th>\n",
       "      <td>1953</td>\n",
       "      <td>9472</td>\n",
       "      <td>8186</td>\n",
       "      <td>9.6</td>\n",
       "      <td>1.2</td>\n",
       "    </tr>\n",
       "    <tr>\n",
       "      <th>4</th>\n",
       "      <td>1954</td>\n",
       "      <td>11266</td>\n",
       "      <td>9887</td>\n",
       "      <td>18.9</td>\n",
       "      <td>20.8</td>\n",
       "    </tr>\n",
       "    <tr>\n",
       "      <th>...</th>\n",
       "      <td>...</td>\n",
       "      <td>...</td>\n",
       "      <td>...</td>\n",
       "      <td>...</td>\n",
       "      <td>...</td>\n",
       "    </tr>\n",
       "    <tr>\n",
       "      <th>66</th>\n",
       "      <td>2016</td>\n",
       "      <td>1203833</td>\n",
       "      <td>954917</td>\n",
       "      <td>0.9</td>\n",
       "      <td>0.6</td>\n",
       "    </tr>\n",
       "    <tr>\n",
       "      <th>67</th>\n",
       "      <td>2017</td>\n",
       "      <td>1278958</td>\n",
       "      <td>1031013</td>\n",
       "      <td>6.2</td>\n",
       "      <td>8.0</td>\n",
       "    </tr>\n",
       "    <tr>\n",
       "      <th>68</th>\n",
       "      <td>2018</td>\n",
       "      <td>1317440</td>\n",
       "      <td>1088720</td>\n",
       "      <td>3.0</td>\n",
       "      <td>5.6</td>\n",
       "    </tr>\n",
       "    <tr>\n",
       "      <th>69</th>\n",
       "      <td>2019</td>\n",
       "      <td>1328152</td>\n",
       "      <td>1104141</td>\n",
       "      <td>0.8</td>\n",
       "      <td>1.4</td>\n",
       "    </tr>\n",
       "    <tr>\n",
       "      <th>70</th>\n",
       "      <td>2020</td>\n",
       "      <td>1206928</td>\n",
       "      <td>1026502</td>\n",
       "      <td>9.1</td>\n",
       "      <td>7.0</td>\n",
       "    </tr>\n",
       "  </tbody>\n",
       "</table>\n",
       "<p>71 rows × 5 columns</p>\n",
       "</div>"
      ],
      "text/plain": [
       "    Year  Exports  Imports  Exports_Pct  Imports_Pct\n",
       "0   1950     4275     5815          NaN          NaN\n",
       "1   1951     7453     7529         74.3         29.5\n",
       "2   1952     8645     8284         16.0         10.0\n",
       "3   1953     9472     8186          9.6          1.2\n",
       "4   1954    11266     9887         18.9         20.8\n",
       "..   ...      ...      ...          ...          ...\n",
       "66  2016  1203833   954917          0.9          0.6\n",
       "67  2017  1278958  1031013          6.2          8.0\n",
       "68  2018  1317440  1088720          3.0          5.6\n",
       "69  2019  1328152  1104141          0.8          1.4\n",
       "70  2020  1206928  1026502          9.1          7.0\n",
       "\n",
       "[71 rows x 5 columns]"
      ]
     },
     "execution_count": 8,
     "metadata": {},
     "output_type": "execute_result"
    }
   ],
   "source": [
    "df['Exports'] = df['Exports'].astype('int')                               # change exports datatype to integer\n",
    "df['Imports'] = df['Imports'].astype('int')                               # change imports datatype to integer\n",
    "df"
   ]
  },
  {
   "cell_type": "code",
   "execution_count": 9,
   "metadata": {},
   "outputs": [
    {
     "name": "stdout",
     "output_type": "stream",
     "text": [
      "<class 'pandas.core.frame.DataFrame'>\n",
      "RangeIndex: 71 entries, 0 to 70\n",
      "Data columns (total 5 columns):\n",
      " #   Column       Non-Null Count  Dtype  \n",
      "---  ------       --------------  -----  \n",
      " 0   Year         71 non-null     int64  \n",
      " 1   Exports      71 non-null     int32  \n",
      " 2   Imports      71 non-null     int32  \n",
      " 3   Exports_Pct  70 non-null     float64\n",
      " 4   Imports_Pct  70 non-null     float64\n",
      "dtypes: float64(2), int32(2), int64(1)\n",
      "memory usage: 2.3 KB\n"
     ]
    }
   ],
   "source": [
    "df.info()"
   ]
  },
  {
   "cell_type": "code",
   "execution_count": 10,
   "metadata": {},
   "outputs": [
    {
     "data": {
      "text/html": [
       "<div>\n",
       "<style scoped>\n",
       "    .dataframe tbody tr th:only-of-type {\n",
       "        vertical-align: middle;\n",
       "    }\n",
       "\n",
       "    .dataframe tbody tr th {\n",
       "        vertical-align: top;\n",
       "    }\n",
       "\n",
       "    .dataframe thead th {\n",
       "        text-align: right;\n",
       "    }\n",
       "</style>\n",
       "<table border=\"1\" class=\"dataframe\">\n",
       "  <thead>\n",
       "    <tr style=\"text-align: right;\">\n",
       "      <th></th>\n",
       "      <th>Year</th>\n",
       "      <th>Exports</th>\n",
       "      <th>Imports</th>\n",
       "      <th>Exports_Pct</th>\n",
       "      <th>Imports_Pct</th>\n",
       "      <th>Exp_Imp_Chg</th>\n",
       "    </tr>\n",
       "  </thead>\n",
       "  <tbody>\n",
       "    <tr>\n",
       "      <th>0</th>\n",
       "      <td>1950</td>\n",
       "      <td>4275</td>\n",
       "      <td>5815</td>\n",
       "      <td>NaN</td>\n",
       "      <td>NaN</td>\n",
       "      <td>-1540</td>\n",
       "    </tr>\n",
       "    <tr>\n",
       "      <th>1</th>\n",
       "      <td>1951</td>\n",
       "      <td>7453</td>\n",
       "      <td>7529</td>\n",
       "      <td>74.3</td>\n",
       "      <td>29.5</td>\n",
       "      <td>-76</td>\n",
       "    </tr>\n",
       "    <tr>\n",
       "      <th>2</th>\n",
       "      <td>1952</td>\n",
       "      <td>8645</td>\n",
       "      <td>8284</td>\n",
       "      <td>16.0</td>\n",
       "      <td>10.0</td>\n",
       "      <td>361</td>\n",
       "    </tr>\n",
       "    <tr>\n",
       "      <th>3</th>\n",
       "      <td>1953</td>\n",
       "      <td>9472</td>\n",
       "      <td>8186</td>\n",
       "      <td>9.6</td>\n",
       "      <td>1.2</td>\n",
       "      <td>1286</td>\n",
       "    </tr>\n",
       "    <tr>\n",
       "      <th>4</th>\n",
       "      <td>1954</td>\n",
       "      <td>11266</td>\n",
       "      <td>9887</td>\n",
       "      <td>18.9</td>\n",
       "      <td>20.8</td>\n",
       "      <td>1379</td>\n",
       "    </tr>\n",
       "    <tr>\n",
       "      <th>...</th>\n",
       "      <td>...</td>\n",
       "      <td>...</td>\n",
       "      <td>...</td>\n",
       "      <td>...</td>\n",
       "      <td>...</td>\n",
       "      <td>...</td>\n",
       "    </tr>\n",
       "    <tr>\n",
       "      <th>66</th>\n",
       "      <td>2016</td>\n",
       "      <td>1203833</td>\n",
       "      <td>954917</td>\n",
       "      <td>0.9</td>\n",
       "      <td>0.6</td>\n",
       "      <td>248916</td>\n",
       "    </tr>\n",
       "    <tr>\n",
       "      <th>67</th>\n",
       "      <td>2017</td>\n",
       "      <td>1278958</td>\n",
       "      <td>1031013</td>\n",
       "      <td>6.2</td>\n",
       "      <td>8.0</td>\n",
       "      <td>247945</td>\n",
       "    </tr>\n",
       "    <tr>\n",
       "      <th>68</th>\n",
       "      <td>2018</td>\n",
       "      <td>1317440</td>\n",
       "      <td>1088720</td>\n",
       "      <td>3.0</td>\n",
       "      <td>5.6</td>\n",
       "      <td>228720</td>\n",
       "    </tr>\n",
       "    <tr>\n",
       "      <th>69</th>\n",
       "      <td>2019</td>\n",
       "      <td>1328152</td>\n",
       "      <td>1104141</td>\n",
       "      <td>0.8</td>\n",
       "      <td>1.4</td>\n",
       "      <td>224011</td>\n",
       "    </tr>\n",
       "    <tr>\n",
       "      <th>70</th>\n",
       "      <td>2020</td>\n",
       "      <td>1206928</td>\n",
       "      <td>1026502</td>\n",
       "      <td>9.1</td>\n",
       "      <td>7.0</td>\n",
       "      <td>180426</td>\n",
       "    </tr>\n",
       "  </tbody>\n",
       "</table>\n",
       "<p>71 rows × 6 columns</p>\n",
       "</div>"
      ],
      "text/plain": [
       "    Year  Exports  Imports  Exports_Pct  Imports_Pct  Exp_Imp_Chg\n",
       "0   1950     4275     5815          NaN          NaN        -1540\n",
       "1   1951     7453     7529         74.3         29.5          -76\n",
       "2   1952     8645     8284         16.0         10.0          361\n",
       "3   1953     9472     8186          9.6          1.2         1286\n",
       "4   1954    11266     9887         18.9         20.8         1379\n",
       "..   ...      ...      ...          ...          ...          ...\n",
       "66  2016  1203833   954917          0.9          0.6       248916\n",
       "67  2017  1278958  1031013          6.2          8.0       247945\n",
       "68  2018  1317440  1088720          3.0          5.6       228720\n",
       "69  2019  1328152  1104141          0.8          1.4       224011\n",
       "70  2020  1206928  1026502          9.1          7.0       180426\n",
       "\n",
       "[71 rows x 6 columns]"
      ]
     },
     "execution_count": 10,
     "metadata": {},
     "output_type": "execute_result"
    }
   ],
   "source": [
    "exp = df['Exports']\n",
    "imp = df['Imports']\n",
    "\n",
    "# helper function to calculate export and import change\n",
    "def difference(df, x, y):                                       \n",
    "    'return the differnce between two series'\n",
    "    return (x - y)\n",
    "\n",
    "df['Exp_Imp_Chg'] = difference(df, exp, imp)\n",
    "df"
   ]
  },
  {
   "cell_type": "code",
   "execution_count": 11,
   "metadata": {},
   "outputs": [
    {
     "data": {
      "text/html": [
       "<div>\n",
       "<style scoped>\n",
       "    .dataframe tbody tr th:only-of-type {\n",
       "        vertical-align: middle;\n",
       "    }\n",
       "\n",
       "    .dataframe tbody tr th {\n",
       "        vertical-align: top;\n",
       "    }\n",
       "\n",
       "    .dataframe thead th {\n",
       "        text-align: right;\n",
       "    }\n",
       "</style>\n",
       "<table border=\"1\" class=\"dataframe\">\n",
       "  <thead>\n",
       "    <tr style=\"text-align: right;\">\n",
       "      <th></th>\n",
       "      <th>Year</th>\n",
       "      <th>Exports</th>\n",
       "      <th>Imports</th>\n",
       "      <th>Exports_Pct</th>\n",
       "      <th>Imports_Pct</th>\n",
       "      <th>Exp_Imp_Chg</th>\n",
       "    </tr>\n",
       "  </thead>\n",
       "  <tbody>\n",
       "    <tr>\n",
       "      <th>count</th>\n",
       "      <td>71.000000</td>\n",
       "      <td>7.100000e+01</td>\n",
       "      <td>7.100000e+01</td>\n",
       "      <td>70.000000</td>\n",
       "      <td>70.000000</td>\n",
       "      <td>71.000000</td>\n",
       "    </tr>\n",
       "    <tr>\n",
       "      <th>mean</th>\n",
       "      <td>1985.000000</td>\n",
       "      <td>4.030955e+05</td>\n",
       "      <td>3.364823e+05</td>\n",
       "      <td>10.077143</td>\n",
       "      <td>9.781429</td>\n",
       "      <td>66613.169014</td>\n",
       "    </tr>\n",
       "    <tr>\n",
       "      <th>std</th>\n",
       "      <td>20.639767</td>\n",
       "      <td>4.161218e+05</td>\n",
       "      <td>3.398854e+05</td>\n",
       "      <td>9.771923</td>\n",
       "      <td>7.080803</td>\n",
       "      <td>78399.931232</td>\n",
       "    </tr>\n",
       "    <tr>\n",
       "      <th>min</th>\n",
       "      <td>1950.000000</td>\n",
       "      <td>4.275000e+03</td>\n",
       "      <td>5.815000e+03</td>\n",
       "      <td>0.200000</td>\n",
       "      <td>0.300000</td>\n",
       "      <td>-1540.000000</td>\n",
       "    </tr>\n",
       "    <tr>\n",
       "      <th>25%</th>\n",
       "      <td>1967.500000</td>\n",
       "      <td>4.770250e+04</td>\n",
       "      <td>3.933100e+04</td>\n",
       "      <td>4.175000</td>\n",
       "      <td>3.825000</td>\n",
       "      <td>6272.000000</td>\n",
       "    </tr>\n",
       "    <tr>\n",
       "      <th>50%</th>\n",
       "      <td>1985.000000</td>\n",
       "      <td>2.691250e+05</td>\n",
       "      <td>2.115440e+05</td>\n",
       "      <td>8.850000</td>\n",
       "      <td>8.050000</td>\n",
       "      <td>26218.000000</td>\n",
       "    </tr>\n",
       "    <tr>\n",
       "      <th>75%</th>\n",
       "      <td>2002.500000</td>\n",
       "      <td>6.578875e+05</td>\n",
       "      <td>5.405425e+05</td>\n",
       "      <td>12.900000</td>\n",
       "      <td>14.050000</td>\n",
       "      <td>131354.500000</td>\n",
       "    </tr>\n",
       "    <tr>\n",
       "      <th>max</th>\n",
       "      <td>2020.000000</td>\n",
       "      <td>1.328152e+06</td>\n",
       "      <td>1.104141e+06</td>\n",
       "      <td>74.300000</td>\n",
       "      <td>29.500000</td>\n",
       "      <td>248916.000000</td>\n",
       "    </tr>\n",
       "  </tbody>\n",
       "</table>\n",
       "</div>"
      ],
      "text/plain": [
       "              Year       Exports       Imports  Exports_Pct  Imports_Pct  \\\n",
       "count    71.000000  7.100000e+01  7.100000e+01    70.000000    70.000000   \n",
       "mean   1985.000000  4.030955e+05  3.364823e+05    10.077143     9.781429   \n",
       "std      20.639767  4.161218e+05  3.398854e+05     9.771923     7.080803   \n",
       "min    1950.000000  4.275000e+03  5.815000e+03     0.200000     0.300000   \n",
       "25%    1967.500000  4.770250e+04  3.933100e+04     4.175000     3.825000   \n",
       "50%    1985.000000  2.691250e+05  2.115440e+05     8.850000     8.050000   \n",
       "75%    2002.500000  6.578875e+05  5.405425e+05    12.900000    14.050000   \n",
       "max    2020.000000  1.328152e+06  1.104141e+06    74.300000    29.500000   \n",
       "\n",
       "         Exp_Imp_Chg  \n",
       "count      71.000000  \n",
       "mean    66613.169014  \n",
       "std     78399.931232  \n",
       "min     -1540.000000  \n",
       "25%      6272.000000  \n",
       "50%     26218.000000  \n",
       "75%    131354.500000  \n",
       "max    248916.000000  "
      ]
     },
     "execution_count": 11,
     "metadata": {},
     "output_type": "execute_result"
    }
   ],
   "source": [
    "df.describe()"
   ]
  },
  {
   "cell_type": "markdown",
   "metadata": {},
   "source": [
    "# Missing Values Exploration"
   ]
  },
  {
   "cell_type": "code",
   "execution_count": 12,
   "metadata": {},
   "outputs": [
    {
     "data": {
      "text/plain": [
       "Year           0\n",
       "Exports        0\n",
       "Imports        0\n",
       "Exports_Pct    1\n",
       "Imports_Pct    1\n",
       "Exp_Imp_Chg    0\n",
       "dtype: int64"
      ]
     },
     "execution_count": 12,
     "metadata": {},
     "output_type": "execute_result"
    }
   ],
   "source": [
    "df.isna().sum()"
   ]
  },
  {
   "cell_type": "code",
   "execution_count": 13,
   "metadata": {},
   "outputs": [
    {
     "data": {
      "text/html": [
       "<div>\n",
       "<style scoped>\n",
       "    .dataframe tbody tr th:only-of-type {\n",
       "        vertical-align: middle;\n",
       "    }\n",
       "\n",
       "    .dataframe tbody tr th {\n",
       "        vertical-align: top;\n",
       "    }\n",
       "\n",
       "    .dataframe thead th {\n",
       "        text-align: right;\n",
       "    }\n",
       "</style>\n",
       "<table border=\"1\" class=\"dataframe\">\n",
       "  <thead>\n",
       "    <tr style=\"text-align: right;\">\n",
       "      <th></th>\n",
       "      <th>Year</th>\n",
       "      <th>Exports</th>\n",
       "      <th>Imports</th>\n",
       "      <th>Exports_Pct</th>\n",
       "      <th>Imports_Pct</th>\n",
       "      <th>Exp_Imp_Chg</th>\n",
       "    </tr>\n",
       "  </thead>\n",
       "  <tbody>\n",
       "    <tr>\n",
       "      <th>0</th>\n",
       "      <td>1950</td>\n",
       "      <td>4275</td>\n",
       "      <td>5815</td>\n",
       "      <td>NaN</td>\n",
       "      <td>NaN</td>\n",
       "      <td>-1540</td>\n",
       "    </tr>\n",
       "  </tbody>\n",
       "</table>\n",
       "</div>"
      ],
      "text/plain": [
       "   Year  Exports  Imports  Exports_Pct  Imports_Pct  Exp_Imp_Chg\n",
       "0  1950     4275     5815          NaN          NaN        -1540"
      ]
     },
     "execution_count": 13,
     "metadata": {},
     "output_type": "execute_result"
    }
   ],
   "source": [
    "idx = df.index[df['Exports_Pct'].isna()]                         # filter index position with missing value for exports percentage change\n",
    "df.iloc[idx]"
   ]
  },
  {
   "cell_type": "code",
   "execution_count": 14,
   "metadata": {},
   "outputs": [
    {
     "data": {
      "text/html": [
       "<div>\n",
       "<style scoped>\n",
       "    .dataframe tbody tr th:only-of-type {\n",
       "        vertical-align: middle;\n",
       "    }\n",
       "\n",
       "    .dataframe tbody tr th {\n",
       "        vertical-align: top;\n",
       "    }\n",
       "\n",
       "    .dataframe thead th {\n",
       "        text-align: right;\n",
       "    }\n",
       "</style>\n",
       "<table border=\"1\" class=\"dataframe\">\n",
       "  <thead>\n",
       "    <tr style=\"text-align: right;\">\n",
       "      <th></th>\n",
       "      <th>Year</th>\n",
       "      <th>Exports</th>\n",
       "      <th>Imports</th>\n",
       "      <th>Exports_Pct</th>\n",
       "      <th>Imports_Pct</th>\n",
       "      <th>Exp_Imp_Chg</th>\n",
       "    </tr>\n",
       "  </thead>\n",
       "  <tbody>\n",
       "    <tr>\n",
       "      <th>0</th>\n",
       "      <td>1950</td>\n",
       "      <td>4275</td>\n",
       "      <td>5815</td>\n",
       "      <td>NaN</td>\n",
       "      <td>NaN</td>\n",
       "      <td>-1540</td>\n",
       "    </tr>\n",
       "  </tbody>\n",
       "</table>\n",
       "</div>"
      ],
      "text/plain": [
       "   Year  Exports  Imports  Exports_Pct  Imports_Pct  Exp_Imp_Chg\n",
       "0  1950     4275     5815          NaN          NaN        -1540"
      ]
     },
     "execution_count": 14,
     "metadata": {},
     "output_type": "execute_result"
    }
   ],
   "source": [
    "idx1 = df.index[df['Imports_Pct'].isna()]                         # filter index position with missing value for imports percentage change\n",
    "df.iloc[idx1]"
   ]
  },
  {
   "cell_type": "code",
   "execution_count": 15,
   "metadata": {},
   "outputs": [],
   "source": [
    "# helper function for formatting plot y-axis\n",
    "from matplotlib.ticker import FuncFormatter\n",
    "\n",
    "def million(x, pos):\n",
    "    'The two args are the value and tick position'\n",
    "    return '%1.1fM' % (x * 1e-6)\n",
    "\n",
    "formatter = FuncFormatter(million)"
   ]
  },
  {
   "cell_type": "markdown",
   "metadata": {},
   "source": [
    "# Data Visualization"
   ]
  },
  {
   "cell_type": "code",
   "execution_count": 16,
   "metadata": {},
   "outputs": [
    {
     "data": {
      "image/png": "[encoded data removed]",
      "text/plain": [
       "<Figure size 864x648 with 3 Axes>"
      ]
     },
     "metadata": {},
     "output_type": "display_data"
    }
   ],
   "source": [
    "# set plot theme\n",
    "sns.set_theme(style='whitegrid')\n",
    "\n",
    "\n",
    "# initialize the matplotlib figure\n",
    "fig, (ax1, ax2, ax3) = plt.subplots(3, 1, figsize=(12, 9), sharex=True)\n",
    "fig.suptitle('Overall development in foreign trade 1950 - 2020 in Germany')\n",
    "fig.supxlabel('Year')\n",
    "fig.supylabel('Trade in Million Euros')\n",
    "\n",
    "\n",
    "# plot exports trade\n",
    "sns.lineplot(\n",
    "    x='Year', y='Exports', \n",
    "    data=df, \n",
    "    ax=ax1\n",
    ")\n",
    "ax1.set(title='Overall Export Trade in Germany (1950 - 2020)', xlabel='', ylabel='')\n",
    "ax1.yaxis.set_major_formatter(formatter)\n",
    "\n",
    "\n",
    "# plot imports trade\n",
    "sns.lineplot(\n",
    "    x='Year', y='Imports', \n",
    "    data=df, \n",
    "    ax=ax2\n",
    ")\n",
    "ax2.set(title='Overall Imports Trade in Germany (1950 - 2020)', xlabel='', ylabel='')\n",
    "ax2.yaxis.set_major_formatter(formatter)\n",
    "\n",
    "\n",
    "# plot change in export and import trade\n",
    "sns.lineplot(\n",
    "    x='Year', y='Exp_Imp_Chg', \n",
    "    data=df, \n",
    "    ax=ax3\n",
    ")\n",
    "ax3.set(title='Overall Change in Exports and Imports Trade for Germany (1950 - 2020)', xlabel='', ylabel='')\n",
    "ax3.yaxis.set_major_formatter(formatter)"
   ]
  },
  {
   "cell_type": "code",
   "execution_count": 17,
   "metadata": {},
   "outputs": [
    {
     "data": {
      "text/plain": [
       "<matplotlib.legend.Legend at 0x2a4b39b5f70>"
      ]
     },
     "execution_count": 17,
     "metadata": {},
     "output_type": "execute_result"
    },
    {
     "data": {
      "image/png": "[encoded data removed]",
      "text/plain": [
       "<Figure size 864x432 with 1 Axes>"
      ]
     },
     "metadata": {},
     "output_type": "display_data"
    }
   ],
   "source": [
    "# initialize the matplotlib figure\n",
    "fig1, ax1 = plt.subplots(1, 1, figsize=(12, 6))\n",
    "\n",
    "\n",
    "# percentage change in exports and imports\n",
    "ax1.plot(df['Year'], df['Exports_Pct'], label='Exports', linewidth=2)\n",
    "ax1.plot(df['Year'], df['Imports_Pct'], label='Imports', linewidth=2)\n",
    "ax1.set(title='Percentage change in exports and imports for Germany (1950 - 2020)', xlabel='Year', ylabel='Increase/decrease from previous year in percent')\n",
    "ax1.set_ylim(0, 100)\n",
    "ax1.legend(loc='upper right')"
   ]
  }
 ],
 "metadata": {
  "interpreter": {
   "hash": "3fe9daace87ea8cb12e037f7452ad9bcd52f59aa894a611255d1461de3a9065e"
  },
  "kernelspec": {
   "display_name": "Python 3.9.7 64-bit ('DS': conda)",
   "language": "python",
   "name": "python3"
  },
  "language_info": {
   "codemirror_mode": {
    "name": "ipython",
    "version": 3
   },
   "file_extension": ".py",
   "mimetype": "text/x-python",
   "name": "python",
   "nbconvert_exporter": "python",
   "pygments_lexer": "ipython3",
   "version": "3.9.7"
  },
  "orig_nbformat": 4
 },
 "nbformat": 4,
 "nbformat_minor": 2
}
