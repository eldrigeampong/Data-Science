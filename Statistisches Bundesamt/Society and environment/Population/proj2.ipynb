{
 "cells": [
  {
   "cell_type": "markdown",
   "metadata": {},
   "source": [
    "# Migration between Germany and foreign countries 1991 to 2021"
   ]
  },
  {
   "cell_type": "markdown",
   "metadata": {},
   "source": [
    "https://www.destatis.de/EN/Themes/Society-Environment/Population/Migration/Tables/migration-total.html"
   ]
  },
  {
   "cell_type": "markdown",
   "metadata": {},
   "source": [
    "# Import Libraries"
   ]
  },
  {
   "cell_type": "code",
   "execution_count": 1,
   "metadata": {},
   "outputs": [],
   "source": [
    "import requests\n",
    "import numpy as np\n",
    "import pandas as pd\n",
    "import seaborn as sns\n",
    "import matplotlib.pyplot as plt\n",
    "import os\n",
    "\n",
    "import warnings\n",
    "import requests\n",
    "from bs4 import BeautifulSoup"
   ]
  },
  {
   "cell_type": "markdown",
   "metadata": {},
   "source": [
    "# Options and Settings"
   ]
  },
  {
   "cell_type": "code",
   "execution_count": 2,
   "metadata": {},
   "outputs": [],
   "source": [
    "%matplotlib inline\n",
    "plt.style.use('ggplot')\n",
    "plt.rcParams['figure.autolayout'] = True\n",
    "plt.rcParams['figure.figsize'] = [12, 9]\n",
    "plt.rcParams['font.size'] = 10\n",
    "path = os.getcwd()                                         # get current working directory\n",
    "warnings.simplefilter('ignore')"
   ]
  },
  {
   "cell_type": "markdown",
   "metadata": {},
   "source": [
    "# Fetch Data"
   ]
  },
  {
   "cell_type": "code",
   "execution_count": 3,
   "metadata": {},
   "outputs": [
    {
     "name": "stdout",
     "output_type": "stream",
     "text": [
      "Status Code: 200 -- Content-Type: text/html;charset=utf-8 -- Encoding: utf-8\n"
     ]
    }
   ],
   "source": [
    "url = 'https://www.destatis.de/EN/Themes/Society-Environment/Population/Migration/Tables/migration-total.html'\n",
    "\n",
    "r = requests.get(url)\n",
    "\n",
    "print(f\"Status Code: {r.status_code} -- Content-Type: {r.headers['Content-Type']} -- Encoding: {r.encoding}\")"
   ]
  },
  {
   "cell_type": "markdown",
   "metadata": {},
   "source": [
    "# Parse HTML Document"
   ]
  },
  {
   "cell_type": "code",
   "execution_count": 4,
   "metadata": {},
   "outputs": [],
   "source": [
    "soup = BeautifulSoup(r.text, 'html.parser')"
   ]
  },
  {
   "cell_type": "markdown",
   "metadata": {},
   "source": [
    "# Navigate The Data Structure"
   ]
  },
  {
   "cell_type": "code",
   "execution_count": 5,
   "metadata": {},
   "outputs": [],
   "source": [
    "tbody = soup.find('tbody')\n",
    "trs = tbody.find_all('tr')\n",
    "\n",
    "year = []\n",
    "totarr = []\n",
    "totdepart = []\n",
    "totbal = []\n",
    "natarr = []\n",
    "natdepart = []\n",
    "natbal = []\n",
    "forarr = []\n",
    "fordepart = []\n",
    "forbal = []\n",
    "\n",
    "\n",
    "for td in trs:\n",
    "  year.append(td.findAll('td')[0].string)\n",
    "  totarr.append(td.findAll('td')[1].string)\n",
    "  totdepart.append(td.find_all('td')[2].string)\n",
    "  totbal.append(td.find_all('td')[3].string)\n",
    "  natarr.append(td.find_all('td')[4].string)\n",
    "  natdepart.append(td.find_all('td')[5].string)\n",
    "  natbal.append(td.find_all('td')[6].string)\n",
    "  forarr.append(td.find_all('td')[7].string)\n",
    "  fordepart.append(td.find_all('td')[8].string)\n",
    "  forbal.append(td.find_all('td')[9].string)"
   ]
  },
  {
   "cell_type": "markdown",
   "metadata": {},
   "source": [
    "# Create DataFrame"
   ]
  },
  {
   "cell_type": "code",
   "execution_count": 6,
   "metadata": {},
   "outputs": [],
   "source": [
    "data = {\n",
    "    'Year': year,\n",
    "    'TotalArrivals': totarr,\n",
    "    'TotalDepartures': totdepart,\n",
    "    'TotalBalance': totbal,\n",
    "    'NationalsArrivals': natarr,\n",
    "    'NationalsDepartures': natdepart,\n",
    "    'NationalsBalance': natbal,\n",
    "    'ForeignersArrivals': natarr,\n",
    "    'ForeignersDepartures': fordepart,\n",
    "    'ForeignersBalance': forbal  \n",
    "}\n",
    "\n",
    "df = pd.DataFrame(data=data)"
   ]
  },
  {
   "cell_type": "markdown",
   "metadata": {},
   "source": [
    "# Head and Tail"
   ]
  },
  {
   "cell_type": "code",
   "execution_count": 7,
   "metadata": {},
   "outputs": [
    {
     "data": {
      "text/html": [
       "<div>\n",
       "<style scoped>\n",
       "    .dataframe tbody tr th:only-of-type {\n",
       "        vertical-align: middle;\n",
       "    }\n",
       "\n",
       "    .dataframe tbody tr th {\n",
       "        vertical-align: top;\n",
       "    }\n",
       "\n",
       "    .dataframe thead th {\n",
       "        text-align: right;\n",
       "    }\n",
       "</style>\n",
       "<table border=\"1\" class=\"dataframe\">\n",
       "  <thead>\n",
       "    <tr style=\"text-align: right;\">\n",
       "      <th></th>\n",
       "      <th>Year</th>\n",
       "      <th>TotalArrivals</th>\n",
       "      <th>TotalDepartures</th>\n",
       "      <th>TotalBalance</th>\n",
       "      <th>NationalsArrivals</th>\n",
       "      <th>NationalsDepartures</th>\n",
       "      <th>NationalsBalance</th>\n",
       "      <th>ForeignersArrivals</th>\n",
       "      <th>ForeignersDepartures</th>\n",
       "      <th>ForeignersBalance</th>\n",
       "    </tr>\n",
       "  </thead>\n",
       "  <tbody>\n",
       "    <tr>\n",
       "      <th>0</th>\n",
       "      <td>2021</td>\n",
       "      <td>1 323 466</td>\n",
       "      <td>994 303</td>\n",
       "      <td>329 163</td>\n",
       "      <td>183 650</td>\n",
       "      <td>247 829</td>\n",
       "      <td>-64 179</td>\n",
       "      <td>183 650</td>\n",
       "      <td>746 474</td>\n",
       "      <td>393 342</td>\n",
       "    </tr>\n",
       "    <tr>\n",
       "      <th>1</th>\n",
       "      <td>2020</td>\n",
       "      <td>1 186 702</td>\n",
       "      <td>966 451</td>\n",
       "      <td>220 251</td>\n",
       "      <td>191 883</td>\n",
       "      <td>220 239</td>\n",
       "      <td>-28 356</td>\n",
       "      <td>191 883</td>\n",
       "      <td>746 212</td>\n",
       "      <td>248 607</td>\n",
       "    </tr>\n",
       "    <tr>\n",
       "      <th>2</th>\n",
       "      <td>2019</td>\n",
       "      <td>1 558 612</td>\n",
       "      <td>1 231 552</td>\n",
       "      <td>327 060</td>\n",
       "      <td>212 669</td>\n",
       "      <td>270 294</td>\n",
       "      <td>-57 625</td>\n",
       "      <td>212 669</td>\n",
       "      <td>961 258</td>\n",
       "      <td>384 685</td>\n",
       "    </tr>\n",
       "    <tr>\n",
       "      <th>3</th>\n",
       "      <td>2018</td>\n",
       "      <td>1 585 112</td>\n",
       "      <td>1 185 432</td>\n",
       "      <td>399 680</td>\n",
       "      <td>201 531</td>\n",
       "      <td>261 851</td>\n",
       "      <td>-60 320</td>\n",
       "      <td>201 531</td>\n",
       "      <td>923 581</td>\n",
       "      <td>460 000</td>\n",
       "    </tr>\n",
       "    <tr>\n",
       "      <th>4</th>\n",
       "      <td>2017</td>\n",
       "      <td>1 550 721</td>\n",
       "      <td>1 134 641</td>\n",
       "      <td>416 080</td>\n",
       "      <td>166 703</td>\n",
       "      <td>249 181</td>\n",
       "      <td>-82 478</td>\n",
       "      <td>166 703</td>\n",
       "      <td>885 460</td>\n",
       "      <td>498 558</td>\n",
       "    </tr>\n",
       "  </tbody>\n",
       "</table>\n",
       "</div>"
      ],
      "text/plain": [
       "   Year TotalArrivals TotalDepartures TotalBalance NationalsArrivals  \\\n",
       "0  2021    1 323 466          994 303     329 163           183 650    \n",
       "1  2020     1 186 702         966 451      220 251           191 883   \n",
       "2  2019     1 558 612       1 231 552      327 060           212 669   \n",
       "3  2018     1 585 112       1 185 432      399 680           201 531   \n",
       "4  2017     1 550 721       1 134 641      416 080           166 703   \n",
       "\n",
       "  NationalsDepartures NationalsBalance ForeignersArrivals  \\\n",
       "0             247 829          -64 179           183 650    \n",
       "1             220 239          -28 356            191 883   \n",
       "2             270 294          -57 625            212 669   \n",
       "3             261 851          -60 320            201 531   \n",
       "4             249 181          -82 478            166 703   \n",
       "\n",
       "  ForeignersDepartures ForeignersBalance  \n",
       "0              746 474           393 342  \n",
       "1              746 212           248 607  \n",
       "2              961 258           384 685  \n",
       "3              923 581           460 000  \n",
       "4              885 460           498 558  "
      ]
     },
     "execution_count": 7,
     "metadata": {},
     "output_type": "execute_result"
    }
   ],
   "source": [
    "df.head()"
   ]
  },
  {
   "cell_type": "code",
   "execution_count": 8,
   "metadata": {},
   "outputs": [
    {
     "data": {
      "text/html": [
       "<div>\n",
       "<style scoped>\n",
       "    .dataframe tbody tr th:only-of-type {\n",
       "        vertical-align: middle;\n",
       "    }\n",
       "\n",
       "    .dataframe tbody tr th {\n",
       "        vertical-align: top;\n",
       "    }\n",
       "\n",
       "    .dataframe thead th {\n",
       "        text-align: right;\n",
       "    }\n",
       "</style>\n",
       "<table border=\"1\" class=\"dataframe\">\n",
       "  <thead>\n",
       "    <tr style=\"text-align: right;\">\n",
       "      <th></th>\n",
       "      <th>Year</th>\n",
       "      <th>TotalArrivals</th>\n",
       "      <th>TotalDepartures</th>\n",
       "      <th>TotalBalance</th>\n",
       "      <th>NationalsArrivals</th>\n",
       "      <th>NationalsDepartures</th>\n",
       "      <th>NationalsBalance</th>\n",
       "      <th>ForeignersArrivals</th>\n",
       "      <th>ForeignersDepartures</th>\n",
       "      <th>ForeignersBalance</th>\n",
       "    </tr>\n",
       "  </thead>\n",
       "  <tbody>\n",
       "    <tr>\n",
       "      <th>26</th>\n",
       "      <td>1995</td>\n",
       "      <td>1 096 048</td>\n",
       "      <td>698 113</td>\n",
       "      <td>397 935</td>\n",
       "      <td>303 347</td>\n",
       "      <td>130 672</td>\n",
       "      <td>172 675</td>\n",
       "      <td>303 347</td>\n",
       "      <td>567 441</td>\n",
       "      <td>225 260</td>\n",
       "    </tr>\n",
       "    <tr>\n",
       "      <th>27</th>\n",
       "      <td>1994</td>\n",
       "      <td>1 082 553</td>\n",
       "      <td>767 555</td>\n",
       "      <td>314 998</td>\n",
       "      <td>305 037</td>\n",
       "      <td>138 280</td>\n",
       "      <td>166 757</td>\n",
       "      <td>305 037</td>\n",
       "      <td>629 275</td>\n",
       "      <td>148 241</td>\n",
       "    </tr>\n",
       "    <tr>\n",
       "      <th>28</th>\n",
       "      <td>1993</td>\n",
       "      <td>1 277 408</td>\n",
       "      <td>815 312</td>\n",
       "      <td>462 096</td>\n",
       "      <td>287 561</td>\n",
       "      <td>104 653</td>\n",
       "      <td>182 908</td>\n",
       "      <td>287 561</td>\n",
       "      <td>710 659</td>\n",
       "      <td>279 188</td>\n",
       "    </tr>\n",
       "    <tr>\n",
       "      <th>29</th>\n",
       "      <td>1992</td>\n",
       "      <td>1 502 198</td>\n",
       "      <td>720 127</td>\n",
       "      <td>782 071</td>\n",
       "      <td>290 850</td>\n",
       "      <td>105 171</td>\n",
       "      <td>185 679</td>\n",
       "      <td>290 850</td>\n",
       "      <td>614 956</td>\n",
       "      <td>596 392</td>\n",
       "    </tr>\n",
       "    <tr>\n",
       "      <th>30</th>\n",
       "      <td>1991</td>\n",
       "      <td>1 198 978</td>\n",
       "      <td>596 455</td>\n",
       "      <td>602 523</td>\n",
       "      <td>273 633</td>\n",
       "      <td>98 915</td>\n",
       "      <td>174 718</td>\n",
       "      <td>273 633</td>\n",
       "      <td>497 540</td>\n",
       "      <td>427 80</td>\n",
       "    </tr>\n",
       "  </tbody>\n",
       "</table>\n",
       "</div>"
      ],
      "text/plain": [
       "    Year TotalArrivals TotalDepartures TotalBalance NationalsArrivals  \\\n",
       "26  1995     1 096 048         698 113      397 935           303 347   \n",
       "27  1994     1 082 553         767 555      314 998           305 037   \n",
       "28  1993     1 277 408         815 312      462 096           287 561   \n",
       "29  1992     1 502 198         720 127      782 071           290 850   \n",
       "30  1991     1 198 978         596 455      602 523           273 633   \n",
       "\n",
       "   NationalsDepartures NationalsBalance ForeignersArrivals  \\\n",
       "26             130 672          172 675            303 347   \n",
       "27             138 280          166 757            305 037   \n",
       "28             104 653          182 908            287 561   \n",
       "29             105 171          185 679            290 850   \n",
       "30              98 915          174 718            273 633   \n",
       "\n",
       "   ForeignersDepartures ForeignersBalance  \n",
       "26              567 441           225 260  \n",
       "27              629 275           148 241  \n",
       "28              710 659           279 188  \n",
       "29              614 956           596 392  \n",
       "30              497 540            427 80  "
      ]
     },
     "execution_count": 8,
     "metadata": {},
     "output_type": "execute_result"
    }
   ],
   "source": [
    "df.tail()"
   ]
  },
  {
   "cell_type": "code",
   "execution_count": 9,
   "metadata": {},
   "outputs": [
    {
     "data": {
      "text/html": [
       "<div>\n",
       "<style scoped>\n",
       "    .dataframe tbody tr th:only-of-type {\n",
       "        vertical-align: middle;\n",
       "    }\n",
       "\n",
       "    .dataframe tbody tr th {\n",
       "        vertical-align: top;\n",
       "    }\n",
       "\n",
       "    .dataframe thead th {\n",
       "        text-align: right;\n",
       "    }\n",
       "</style>\n",
       "<table border=\"1\" class=\"dataframe\">\n",
       "  <thead>\n",
       "    <tr style=\"text-align: right;\">\n",
       "      <th></th>\n",
       "      <th>Year</th>\n",
       "      <th>TotalArrivals</th>\n",
       "      <th>TotalDepartures</th>\n",
       "      <th>TotalBalance</th>\n",
       "      <th>NationalsArrivals</th>\n",
       "      <th>NationalsDepartures</th>\n",
       "      <th>NationalsBalance</th>\n",
       "      <th>ForeignersArrivals</th>\n",
       "      <th>ForeignersDepartures</th>\n",
       "      <th>ForeignersBalance</th>\n",
       "    </tr>\n",
       "  </thead>\n",
       "  <tbody>\n",
       "    <tr>\n",
       "      <th>5</th>\n",
       "      <td>None</td>\n",
       "      <td>1 865 122</td>\n",
       "      <td>1 365 178</td>\n",
       "      <td>499,944</td>\n",
       "      <td>146 047</td>\n",
       "      <td>281 411</td>\n",
       "      <td>-135 364</td>\n",
       "      <td>146 047</td>\n",
       "      <td>1 083 767</td>\n",
       "      <td>635 308</td>\n",
       "    </tr>\n",
       "    <tr>\n",
       "      <th>11</th>\n",
       "      <td>None</td>\n",
       "      <td>798 282</td>\n",
       "      <td>670 605</td>\n",
       "      <td>127 677</td>\n",
       "      <td>114,752</td>\n",
       "      <td>141 000</td>\n",
       "      <td>-26 248</td>\n",
       "      <td>114,752</td>\n",
       "      <td>529 605</td>\n",
       "      <td>153 925</td>\n",
       "    </tr>\n",
       "    <tr>\n",
       "      <th>12</th>\n",
       "      <td>None</td>\n",
       "      <td>721 014</td>\n",
       "      <td>733 796</td>\n",
       "      <td>-12 782</td>\n",
       "      <td>114,700</td>\n",
       "      <td>154 988</td>\n",
       "      <td>-40 288</td>\n",
       "      <td>114,700</td>\n",
       "      <td>578 808</td>\n",
       "      <td>27 506</td>\n",
       "    </tr>\n",
       "    <tr>\n",
       "      <th>13</th>\n",
       "      <td>None</td>\n",
       "      <td>682 146</td>\n",
       "      <td>737 889</td>\n",
       "      <td>-55,743</td>\n",
       "      <td>108 331</td>\n",
       "      <td>174 759</td>\n",
       "      <td>-66 428</td>\n",
       "      <td>108 331</td>\n",
       "      <td>563 130</td>\n",
       "      <td>10 685</td>\n",
       "    </tr>\n",
       "  </tbody>\n",
       "</table>\n",
       "</div>"
      ],
      "text/plain": [
       "    Year TotalArrivals TotalDepartures TotalBalance NationalsArrivals  \\\n",
       "5   None     1 865 122       1 365 178      499,944           146 047   \n",
       "11  None       798 282         670 605      127 677           114,752   \n",
       "12  None       721 014         733 796      -12 782           114,700   \n",
       "13  None       682 146         737 889      -55,743           108 331   \n",
       "\n",
       "   NationalsDepartures NationalsBalance ForeignersArrivals  \\\n",
       "5              281 411         -135 364            146 047   \n",
       "11             141 000          -26 248            114,752   \n",
       "12             154 988          -40 288            114,700   \n",
       "13             174 759          -66 428            108 331   \n",
       "\n",
       "   ForeignersDepartures ForeignersBalance  \n",
       "5             1 083 767           635 308  \n",
       "11              529 605           153 925  \n",
       "12              578 808            27 506  \n",
       "13              563 130            10 685  "
      ]
     },
     "execution_count": 9,
     "metadata": {},
     "output_type": "execute_result"
    }
   ],
   "source": [
    "df.loc[df['Year'].isnull()]"
   ]
  },
  {
   "cell_type": "code",
   "execution_count": 10,
   "metadata": {},
   "outputs": [],
   "source": [
    "# set index location 5, 11, 12 & 13 for year column to 2016, 2010, 2009, 2008\n",
    "df['Year'].iat[5], df['Year'].iat[11], df['Year'].iat[12], df['Year'].iat[13] = 2016, 2010, 2009, 2008"
   ]
  },
  {
   "cell_type": "code",
   "execution_count": 11,
   "metadata": {},
   "outputs": [
    {
     "data": {
      "text/plain": [
       "0"
      ]
     },
     "execution_count": 11,
     "metadata": {},
     "output_type": "execute_result"
    }
   ],
   "source": [
    "df['Year'].isnull().sum()                         "
   ]
  },
  {
   "cell_type": "code",
   "execution_count": 12,
   "metadata": {},
   "outputs": [
    {
     "data": {
      "text/plain": [
       "(31, 10)"
      ]
     },
     "execution_count": 12,
     "metadata": {},
     "output_type": "execute_result"
    }
   ],
   "source": [
    "df.shape"
   ]
  },
  {
   "cell_type": "code",
   "execution_count": 13,
   "metadata": {},
   "outputs": [
    {
     "name": "stdout",
     "output_type": "stream",
     "text": [
      "<class 'pandas.core.frame.DataFrame'>\n",
      "RangeIndex: 31 entries, 0 to 30\n",
      "Data columns (total 10 columns):\n",
      " #   Column                Non-Null Count  Dtype \n",
      "---  ------                --------------  ----- \n",
      " 0   Year                  31 non-null     object\n",
      " 1   TotalArrivals         31 non-null     object\n",
      " 2   TotalDepartures       31 non-null     object\n",
      " 3   TotalBalance          31 non-null     object\n",
      " 4   NationalsArrivals     31 non-null     object\n",
      " 5   NationalsDepartures   31 non-null     object\n",
      " 6   NationalsBalance      31 non-null     object\n",
      " 7   ForeignersArrivals    31 non-null     object\n",
      " 8   ForeignersDepartures  31 non-null     object\n",
      " 9   ForeignersBalance     31 non-null     object\n",
      "dtypes: object(10)\n",
      "memory usage: 2.5+ KB\n"
     ]
    }
   ],
   "source": [
    "df.info()"
   ]
  },
  {
   "cell_type": "code",
   "execution_count": 14,
   "metadata": {},
   "outputs": [
    {
     "data": {
      "text/plain": [
       "object    10\n",
       "dtype: int64"
      ]
     },
     "execution_count": 14,
     "metadata": {},
     "output_type": "execute_result"
    }
   ],
   "source": [
    "df.dtypes.value_counts()"
   ]
  }
 ],
 "metadata": {
  "kernelspec": {
   "display_name": "Python 3.10.4 ('DS')",
   "language": "python",
   "name": "python3"
  },
  "language_info": {
   "codemirror_mode": {
    "name": "ipython",
    "version": 3
   },
   "file_extension": ".py",
   "mimetype": "text/x-python",
   "name": "python",
   "nbconvert_exporter": "python",
   "pygments_lexer": "ipython3",
   "version": "3.10.4"
  },
  "orig_nbformat": 4,
  "vscode": {
   "interpreter": {
    "hash": "30c5ac37d0d4bc195f18668291cab0166f8e9ebfaa98d682fbdf81c02debeab6"
   }
  }
 },
 "nbformat": 4,
 "nbformat_minor": 2
}
