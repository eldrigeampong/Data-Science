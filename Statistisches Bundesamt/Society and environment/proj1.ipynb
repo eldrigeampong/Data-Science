{
 "cells": [
  {
   "cell_type": "markdown",
   "metadata": {},
   "source": [
    "# Current population of Germany"
   ]
  },
  {
   "cell_type": "code",
   "execution_count": null,
   "metadata": {},
   "outputs": [],
   "source": [
    "import numpy as np\n",
    "import pandas as pd\n",
    "import matplotlib.pyplot as plt\n",
    "import seaborn as sns\n",
    "import os\n",
    "import warnings\n",
    "import datetime"
   ]
  },
  {
   "cell_type": "markdown",
   "metadata": {},
   "source": [
    "# Options and Settings"
   ]
  },
  {
   "cell_type": "code",
   "execution_count": null,
   "metadata": {},
   "outputs": [],
   "source": [
    "%matplotlib inline\n",
    "sns.set_theme(style='dark')\n",
    "plt.rcParams['figure.autolayout'] = True\n",
    "plt.rcParams['font.size'] = 14\n",
    "path = os.getcwd()                                                  # get current working directory\n",
    "warnings.simplefilter('ignore')"
   ]
  },
  {
   "cell_type": "markdown",
   "metadata": {},
   "source": [
    "# Import Data"
   ]
  },
  {
   "cell_type": "code",
   "execution_count": null,
   "metadata": {},
   "outputs": [],
   "source": [
    "filepath = os.path.join('datasets', 'Population Germany, reference date.csv')\n",
    "\n",
    "df = pd.read_csv(filepath)"
   ]
  },
  {
   "cell_type": "markdown",
   "metadata": {},
   "source": [
    "# Head and Tail"
   ]
  },
  {
   "cell_type": "code",
   "execution_count": null,
   "metadata": {},
   "outputs": [],
   "source": [
    "df"
   ]
  },
  {
   "cell_type": "code",
   "execution_count": null,
   "metadata": {},
   "outputs": [],
   "source": [
    "df.shape                 "
   ]
  },
  {
   "cell_type": "code",
   "execution_count": null,
   "metadata": {},
   "outputs": [],
   "source": [
    "df.info()"
   ]
  },
  {
   "cell_type": "code",
   "execution_count": null,
   "metadata": {},
   "outputs": [],
   "source": [
    "df['Date'] = pd.to_datetime(df['Date'])                                 # convert date series to datetime\n",
    "df.info()"
   ]
  },
  {
   "cell_type": "code",
   "execution_count": null,
   "metadata": {},
   "outputs": [],
   "source": [
    "df['Year'] = pd.DatetimeIndex(df['Date']).year                         # extract year\n",
    "df['Month'] = pd.DatetimeIndex(df['Date']).month                       # extract month\n",
    "df['Day'] = pd.DatetimeIndex(df['Date']).day                           # extract day\n",
    "\n",
    "df"
   ]
  },
  {
   "cell_type": "code",
   "execution_count": null,
   "metadata": {},
   "outputs": [],
   "source": [
    "# helper function for formatting plot y-axis\n",
    "from matplotlib.ticker import FuncFormatter\n",
    "def millions(x, pos):\n",
    "    'The two args are the value and tick position'\n",
    "    return '%1.1fM' % (x * 1e-6)\n",
    "\n",
    "formatter = FuncFormatter(millions)"
   ]
  },
  {
   "cell_type": "markdown",
   "metadata": {},
   "source": [
    "# Year Grouping"
   ]
  },
  {
   "cell_type": "code",
   "execution_count": null,
   "metadata": {},
   "outputs": [],
   "source": [
    "df                                                    # year 1950 - 2020\n",
    "df1 = df.iloc[:21]                                    # year 1950 - 1970\n",
    "df2 = df.iloc[21:51]                                  # year 1971 - 2000\n",
    "df3 = df.iloc[51:]                                    # year 2000 upwards"
   ]
  },
  {
   "cell_type": "code",
   "execution_count": null,
   "metadata": {},
   "outputs": [],
   "source": [
    "import seaborn as sns\n",
    "\n",
    "sns.set_theme(style='dark')\n",
    "\n",
    "fig, axs = plt.subplots(2, 2, figsize=(12, 6))\n",
    "\n",
    "plt.suptitle('Germany Current Population')\n",
    "fig.supxlabel('Year')\n",
    "fig.supylabel('Population in million')\n",
    "\n",
    "\n",
    "# population growth between 1950 - 1970\n",
    "sns.lineplot(\n",
    "    data=df1,\n",
    "    x=df1['Date'], y='Population',\n",
    "    ax=axs[0, 0], linewidth=2\n",
    ")\n",
    "axs[0, 0].set(title='Germany Population (1950 - 1970)', xlabel='', ylabel='')\n",
    "axs[0, 0].yaxis.set_major_formatter(formatter)\n",
    "\n",
    "\n",
    "# population growth between 1950 - 1970\n",
    "sns.lineplot(\n",
    "    data=df2,\n",
    "    x=df2['Date'], y='Population',\n",
    "    ax=axs[0, 1], linewidth=2\n",
    ")\n",
    "axs[0, 1].set(title='Germany Population (1971 - 2000)', xlabel='', ylabel='')\n",
    "axs[0, 1].yaxis.set_major_formatter(formatter)\n",
    "\n",
    "\n",
    "# population growth between 2001 - 2020\n",
    "sns.lineplot(\n",
    "    data=df3,\n",
    "    x=df3['Date'], y='Population',\n",
    "    ax=axs[1, 0], linewidth=2\n",
    ")\n",
    "axs[1, 0].set(title='Germany Population (2001 - 2020)', xlabel='', ylabel='')\n",
    "axs[1, 0].yaxis.set_major_formatter(formatter)\n",
    "\n",
    "\n",
    "# population growth between 1950 - 2020\n",
    "sns.lineplot(\n",
    "    data=df,\n",
    "    x=df['Date'], y='Population',\n",
    "    ax=axs[1, 1], linewidth=2\n",
    ")\n",
    "axs[1, 1].set(title='Germany Population (1950 - 2020)', xlabel='', ylabel='')\n",
    "axs[1, 1].yaxis.set_major_formatter(formatter)"
   ]
  }
 ],
 "metadata": {
  "interpreter": {
   "hash": "3fe9daace87ea8cb12e037f7452ad9bcd52f59aa894a611255d1461de3a9065e"
  },
  "kernelspec": {
   "display_name": "Python 3.9.7 64-bit ('DS': conda)",
   "language": "python",
   "name": "python3"
  },
  "language_info": {
   "codemirror_mode": {
    "name": "ipython",
    "version": 3
   },
   "file_extension": ".py",
   "mimetype": "text/x-python",
   "name": "python",
   "nbconvert_exporter": "python",
   "pygments_lexer": "ipython3",
   "version": "3.9.7"
  },
  "orig_nbformat": 4
 },
 "nbformat": 4,
 "nbformat_minor": 2
}
