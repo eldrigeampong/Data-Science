{
 "cells": [
  {
   "cell_type": "markdown",
   "metadata": {},
   "source": [
    "# Current population of Germany by Nationality"
   ]
  },
  {
   "cell_type": "code",
   "execution_count": 1,
   "metadata": {},
   "outputs": [],
   "source": [
    "import numpy as np\n",
    "import pandas as pd\n",
    "import matplotlib.pyplot as plt\n",
    "import seaborn as sns\n",
    "import os\n",
    "import warnings\n",
    "import datetime"
   ]
  },
  {
   "cell_type": "markdown",
   "metadata": {},
   "source": [
    "# Options and Settings"
   ]
  },
  {
   "cell_type": "code",
   "execution_count": 2,
   "metadata": {},
   "outputs": [],
   "source": [
    "%matplotlib inline\n",
    "sns.set_theme(style='dark')\n",
    "plt.rcParams['figure.autolayout'] = True\n",
    "plt.rcParams['font.size'] = 14\n",
    "path = os.getcwd()                                                  # get current working directory\n",
    "warnings.simplefilter('ignore')"
   ]
  },
  {
   "cell_type": "markdown",
   "metadata": {},
   "source": [
    "# Import Data"
   ]
  },
  {
   "cell_type": "code",
   "execution_count": 3,
   "metadata": {},
   "outputs": [],
   "source": [
    "filepath = os.path.join('datasets', 'Population Germany, reference date, nationality.csv')\n",
    "df = pd.read_csv(filepath)"
   ]
  },
  {
   "cell_type": "markdown",
   "metadata": {},
   "source": [
    "# Head and Tail"
   ]
  },
  {
   "cell_type": "code",
   "execution_count": 4,
   "metadata": {},
   "outputs": [
    {
     "data": {
      "text/html": [
       "<div>\n",
       "<style scoped>\n",
       "    .dataframe tbody tr th:only-of-type {\n",
       "        vertical-align: middle;\n",
       "    }\n",
       "\n",
       "    .dataframe tbody tr th {\n",
       "        vertical-align: top;\n",
       "    }\n",
       "\n",
       "    .dataframe thead th {\n",
       "        text-align: right;\n",
       "    }\n",
       "</style>\n",
       "<table border=\"1\" class=\"dataframe\">\n",
       "  <thead>\n",
       "    <tr style=\"text-align: right;\">\n",
       "      <th></th>\n",
       "      <th>ReferenceDate</th>\n",
       "      <th>Germans</th>\n",
       "      <th>Foreigners</th>\n",
       "      <th>Total</th>\n",
       "    </tr>\n",
       "  </thead>\n",
       "  <tbody>\n",
       "    <tr>\n",
       "      <th>0</th>\n",
       "      <td>1970-12-31</td>\n",
       "      <td>58263259</td>\n",
       "      <td>2737905</td>\n",
       "      <td>61001164</td>\n",
       "    </tr>\n",
       "    <tr>\n",
       "      <th>1</th>\n",
       "      <td>1971-12-31</td>\n",
       "      <td>58314646</td>\n",
       "      <td>3187857</td>\n",
       "      <td>61502503</td>\n",
       "    </tr>\n",
       "    <tr>\n",
       "      <th>2</th>\n",
       "      <td>1972-12-31</td>\n",
       "      <td>58255300</td>\n",
       "      <td>3554078</td>\n",
       "      <td>61809378</td>\n",
       "    </tr>\n",
       "    <tr>\n",
       "      <th>3</th>\n",
       "      <td>1973-12-31</td>\n",
       "      <td>58110017</td>\n",
       "      <td>3991352</td>\n",
       "      <td>62101369</td>\n",
       "    </tr>\n",
       "    <tr>\n",
       "      <th>4</th>\n",
       "      <td>1974-12-31</td>\n",
       "      <td>57940513</td>\n",
       "      <td>4050962</td>\n",
       "      <td>61991475</td>\n",
       "    </tr>\n",
       "  </tbody>\n",
       "</table>\n",
       "</div>"
      ],
      "text/plain": [
       "  ReferenceDate   Germans  Foreigners     Total\n",
       "0    1970-12-31  58263259     2737905  61001164\n",
       "1    1971-12-31  58314646     3187857  61502503\n",
       "2    1972-12-31  58255300     3554078  61809378\n",
       "3    1973-12-31  58110017     3991352  62101369\n",
       "4    1974-12-31  57940513     4050962  61991475"
      ]
     },
     "execution_count": 4,
     "metadata": {},
     "output_type": "execute_result"
    }
   ],
   "source": [
    "df.head()"
   ]
  },
  {
   "cell_type": "code",
   "execution_count": 5,
   "metadata": {},
   "outputs": [
    {
     "data": {
      "text/html": [
       "<div>\n",
       "<style scoped>\n",
       "    .dataframe tbody tr th:only-of-type {\n",
       "        vertical-align: middle;\n",
       "    }\n",
       "\n",
       "    .dataframe tbody tr th {\n",
       "        vertical-align: top;\n",
       "    }\n",
       "\n",
       "    .dataframe thead th {\n",
       "        text-align: right;\n",
       "    }\n",
       "</style>\n",
       "<table border=\"1\" class=\"dataframe\">\n",
       "  <thead>\n",
       "    <tr style=\"text-align: right;\">\n",
       "      <th></th>\n",
       "      <th>ReferenceDate</th>\n",
       "      <th>Germans</th>\n",
       "      <th>Foreigners</th>\n",
       "      <th>Total</th>\n",
       "    </tr>\n",
       "  </thead>\n",
       "  <tbody>\n",
       "    <tr>\n",
       "      <th>46</th>\n",
       "      <td>2016-12-31</td>\n",
       "      <td>73301664</td>\n",
       "      <td>9219989</td>\n",
       "      <td>82521653</td>\n",
       "    </tr>\n",
       "    <tr>\n",
       "      <th>47</th>\n",
       "      <td>2017-12-31</td>\n",
       "      <td>73113483</td>\n",
       "      <td>9678868</td>\n",
       "      <td>82792351</td>\n",
       "    </tr>\n",
       "    <tr>\n",
       "      <th>48</th>\n",
       "      <td>2018-12-31</td>\n",
       "      <td>72929921</td>\n",
       "      <td>10089292</td>\n",
       "      <td>83019213</td>\n",
       "    </tr>\n",
       "    <tr>\n",
       "      <th>49</th>\n",
       "      <td>2019-12-31</td>\n",
       "      <td>72768689</td>\n",
       "      <td>10398022</td>\n",
       "      <td>83166711</td>\n",
       "    </tr>\n",
       "    <tr>\n",
       "      <th>50</th>\n",
       "      <td>2020-12-31</td>\n",
       "      <td>72569978</td>\n",
       "      <td>10585053</td>\n",
       "      <td>83155031</td>\n",
       "    </tr>\n",
       "  </tbody>\n",
       "</table>\n",
       "</div>"
      ],
      "text/plain": [
       "   ReferenceDate   Germans  Foreigners     Total\n",
       "46    2016-12-31  73301664     9219989  82521653\n",
       "47    2017-12-31  73113483     9678868  82792351\n",
       "48    2018-12-31  72929921    10089292  83019213\n",
       "49    2019-12-31  72768689    10398022  83166711\n",
       "50    2020-12-31  72569978    10585053  83155031"
      ]
     },
     "execution_count": 5,
     "metadata": {},
     "output_type": "execute_result"
    }
   ],
   "source": [
    "df.tail()"
   ]
  },
  {
   "cell_type": "code",
   "execution_count": 6,
   "metadata": {},
   "outputs": [
    {
     "data": {
      "text/plain": [
       "(51, 4)"
      ]
     },
     "execution_count": 6,
     "metadata": {},
     "output_type": "execute_result"
    }
   ],
   "source": [
    "df.shape                  "
   ]
  },
  {
   "cell_type": "code",
   "execution_count": 7,
   "metadata": {},
   "outputs": [
    {
     "name": "stdout",
     "output_type": "stream",
     "text": [
      "<class 'pandas.core.frame.DataFrame'>\n",
      "RangeIndex: 51 entries, 0 to 50\n",
      "Data columns (total 4 columns):\n",
      " #   Column         Non-Null Count  Dtype \n",
      "---  ------         --------------  ----- \n",
      " 0   ReferenceDate  51 non-null     object\n",
      " 1   Germans        51 non-null     int64 \n",
      " 2   Foreigners     51 non-null     int64 \n",
      " 3   Total          51 non-null     int64 \n",
      "dtypes: int64(3), object(1)\n",
      "memory usage: 1.7+ KB\n"
     ]
    }
   ],
   "source": [
    "df.info()"
   ]
  },
  {
   "cell_type": "code",
   "execution_count": 8,
   "metadata": {},
   "outputs": [
    {
     "name": "stdout",
     "output_type": "stream",
     "text": [
      "<class 'pandas.core.frame.DataFrame'>\n",
      "RangeIndex: 51 entries, 0 to 50\n",
      "Data columns (total 4 columns):\n",
      " #   Column         Non-Null Count  Dtype         \n",
      "---  ------         --------------  -----         \n",
      " 0   ReferenceDate  51 non-null     datetime64[ns]\n",
      " 1   Germans        51 non-null     int64         \n",
      " 2   Foreigners     51 non-null     int64         \n",
      " 3   Total          51 non-null     int64         \n",
      "dtypes: datetime64[ns](1), int64(3)\n",
      "memory usage: 1.7 KB\n"
     ]
    }
   ],
   "source": [
    "df['ReferenceDate'] = pd.to_datetime(df['ReferenceDate'])                      # convert ReferenceDate series to datetime\n",
    "df.info()"
   ]
  },
  {
   "cell_type": "code",
   "execution_count": 9,
   "metadata": {},
   "outputs": [
    {
     "data": {
      "text/html": [
       "<div>\n",
       "<style scoped>\n",
       "    .dataframe tbody tr th:only-of-type {\n",
       "        vertical-align: middle;\n",
       "    }\n",
       "\n",
       "    .dataframe tbody tr th {\n",
       "        vertical-align: top;\n",
       "    }\n",
       "\n",
       "    .dataframe thead th {\n",
       "        text-align: right;\n",
       "    }\n",
       "</style>\n",
       "<table border=\"1\" class=\"dataframe\">\n",
       "  <thead>\n",
       "    <tr style=\"text-align: right;\">\n",
       "      <th></th>\n",
       "      <th>ReferenceDate</th>\n",
       "      <th>Germans</th>\n",
       "      <th>Foreigners</th>\n",
       "      <th>Total</th>\n",
       "      <th>Year</th>\n",
       "      <th>Month</th>\n",
       "      <th>Day</th>\n",
       "    </tr>\n",
       "  </thead>\n",
       "  <tbody>\n",
       "    <tr>\n",
       "      <th>0</th>\n",
       "      <td>1970-12-31</td>\n",
       "      <td>58263259</td>\n",
       "      <td>2737905</td>\n",
       "      <td>61001164</td>\n",
       "      <td>1970</td>\n",
       "      <td>12</td>\n",
       "      <td>31</td>\n",
       "    </tr>\n",
       "    <tr>\n",
       "      <th>1</th>\n",
       "      <td>1971-12-31</td>\n",
       "      <td>58314646</td>\n",
       "      <td>3187857</td>\n",
       "      <td>61502503</td>\n",
       "      <td>1971</td>\n",
       "      <td>12</td>\n",
       "      <td>31</td>\n",
       "    </tr>\n",
       "    <tr>\n",
       "      <th>2</th>\n",
       "      <td>1972-12-31</td>\n",
       "      <td>58255300</td>\n",
       "      <td>3554078</td>\n",
       "      <td>61809378</td>\n",
       "      <td>1972</td>\n",
       "      <td>12</td>\n",
       "      <td>31</td>\n",
       "    </tr>\n",
       "    <tr>\n",
       "      <th>3</th>\n",
       "      <td>1973-12-31</td>\n",
       "      <td>58110017</td>\n",
       "      <td>3991352</td>\n",
       "      <td>62101369</td>\n",
       "      <td>1973</td>\n",
       "      <td>12</td>\n",
       "      <td>31</td>\n",
       "    </tr>\n",
       "    <tr>\n",
       "      <th>4</th>\n",
       "      <td>1974-12-31</td>\n",
       "      <td>57940513</td>\n",
       "      <td>4050962</td>\n",
       "      <td>61991475</td>\n",
       "      <td>1974</td>\n",
       "      <td>12</td>\n",
       "      <td>31</td>\n",
       "    </tr>\n",
       "    <tr>\n",
       "      <th>5</th>\n",
       "      <td>1975-12-31</td>\n",
       "      <td>57744140</td>\n",
       "      <td>3900484</td>\n",
       "      <td>61644624</td>\n",
       "      <td>1975</td>\n",
       "      <td>12</td>\n",
       "      <td>31</td>\n",
       "    </tr>\n",
       "    <tr>\n",
       "      <th>6</th>\n",
       "      <td>1976-12-31</td>\n",
       "      <td>57589814</td>\n",
       "      <td>3852182</td>\n",
       "      <td>61441996</td>\n",
       "      <td>1976</td>\n",
       "      <td>12</td>\n",
       "      <td>31</td>\n",
       "    </tr>\n",
       "    <tr>\n",
       "      <th>7</th>\n",
       "      <td>1977-12-31</td>\n",
       "      <td>57460519</td>\n",
       "      <td>3892226</td>\n",
       "      <td>61352745</td>\n",
       "      <td>1977</td>\n",
       "      <td>12</td>\n",
       "      <td>31</td>\n",
       "    </tr>\n",
       "    <tr>\n",
       "      <th>8</th>\n",
       "      <td>1978-12-31</td>\n",
       "      <td>57315844</td>\n",
       "      <td>4005819</td>\n",
       "      <td>61321663</td>\n",
       "      <td>1978</td>\n",
       "      <td>12</td>\n",
       "      <td>31</td>\n",
       "    </tr>\n",
       "    <tr>\n",
       "      <th>9</th>\n",
       "      <td>1979-12-31</td>\n",
       "      <td>57188694</td>\n",
       "      <td>4250648</td>\n",
       "      <td>61439342</td>\n",
       "      <td>1979</td>\n",
       "      <td>12</td>\n",
       "      <td>31</td>\n",
       "    </tr>\n",
       "  </tbody>\n",
       "</table>\n",
       "</div>"
      ],
      "text/plain": [
       "  ReferenceDate   Germans  Foreigners     Total  Year  Month  Day\n",
       "0    1970-12-31  58263259     2737905  61001164  1970     12   31\n",
       "1    1971-12-31  58314646     3187857  61502503  1971     12   31\n",
       "2    1972-12-31  58255300     3554078  61809378  1972     12   31\n",
       "3    1973-12-31  58110017     3991352  62101369  1973     12   31\n",
       "4    1974-12-31  57940513     4050962  61991475  1974     12   31\n",
       "5    1975-12-31  57744140     3900484  61644624  1975     12   31\n",
       "6    1976-12-31  57589814     3852182  61441996  1976     12   31\n",
       "7    1977-12-31  57460519     3892226  61352745  1977     12   31\n",
       "8    1978-12-31  57315844     4005819  61321663  1978     12   31\n",
       "9    1979-12-31  57188694     4250648  61439342  1979     12   31"
      ]
     },
     "execution_count": 9,
     "metadata": {},
     "output_type": "execute_result"
    }
   ],
   "source": [
    "df['Year'] = pd.DatetimeIndex(df['ReferenceDate']).year                        # extract year\n",
    "df['Month'] = pd.DatetimeIndex(df['ReferenceDate']).month                      # extract month\n",
    "df['Day'] = pd.DatetimeIndex(df['ReferenceDate']).day                          # extract day\n",
    "\n",
    "df.head(10)"
   ]
  },
  {
   "cell_type": "code",
   "execution_count": 10,
   "metadata": {},
   "outputs": [
    {
     "data": {
      "text/html": [
       "<div>\n",
       "<style scoped>\n",
       "    .dataframe tbody tr th:only-of-type {\n",
       "        vertical-align: middle;\n",
       "    }\n",
       "\n",
       "    .dataframe tbody tr th {\n",
       "        vertical-align: top;\n",
       "    }\n",
       "\n",
       "    .dataframe thead th {\n",
       "        text-align: right;\n",
       "    }\n",
       "</style>\n",
       "<table border=\"1\" class=\"dataframe\">\n",
       "  <thead>\n",
       "    <tr style=\"text-align: right;\">\n",
       "      <th></th>\n",
       "      <th>ReferenceDate</th>\n",
       "      <th>Germans</th>\n",
       "      <th>Foreigners</th>\n",
       "      <th>Total</th>\n",
       "      <th>Year</th>\n",
       "      <th>Month</th>\n",
       "      <th>Day</th>\n",
       "      <th>GermansPct</th>\n",
       "      <th>ForeignersPct</th>\n",
       "    </tr>\n",
       "  </thead>\n",
       "  <tbody>\n",
       "    <tr>\n",
       "      <th>0</th>\n",
       "      <td>1970-12-31</td>\n",
       "      <td>58263259</td>\n",
       "      <td>2737905</td>\n",
       "      <td>61001164</td>\n",
       "      <td>1970</td>\n",
       "      <td>12</td>\n",
       "      <td>31</td>\n",
       "      <td>0.96</td>\n",
       "      <td>0.04</td>\n",
       "    </tr>\n",
       "    <tr>\n",
       "      <th>1</th>\n",
       "      <td>1971-12-31</td>\n",
       "      <td>58314646</td>\n",
       "      <td>3187857</td>\n",
       "      <td>61502503</td>\n",
       "      <td>1971</td>\n",
       "      <td>12</td>\n",
       "      <td>31</td>\n",
       "      <td>0.95</td>\n",
       "      <td>0.05</td>\n",
       "    </tr>\n",
       "    <tr>\n",
       "      <th>2</th>\n",
       "      <td>1972-12-31</td>\n",
       "      <td>58255300</td>\n",
       "      <td>3554078</td>\n",
       "      <td>61809378</td>\n",
       "      <td>1972</td>\n",
       "      <td>12</td>\n",
       "      <td>31</td>\n",
       "      <td>0.94</td>\n",
       "      <td>0.06</td>\n",
       "    </tr>\n",
       "    <tr>\n",
       "      <th>3</th>\n",
       "      <td>1973-12-31</td>\n",
       "      <td>58110017</td>\n",
       "      <td>3991352</td>\n",
       "      <td>62101369</td>\n",
       "      <td>1973</td>\n",
       "      <td>12</td>\n",
       "      <td>31</td>\n",
       "      <td>0.94</td>\n",
       "      <td>0.06</td>\n",
       "    </tr>\n",
       "    <tr>\n",
       "      <th>4</th>\n",
       "      <td>1974-12-31</td>\n",
       "      <td>57940513</td>\n",
       "      <td>4050962</td>\n",
       "      <td>61991475</td>\n",
       "      <td>1974</td>\n",
       "      <td>12</td>\n",
       "      <td>31</td>\n",
       "      <td>0.93</td>\n",
       "      <td>0.07</td>\n",
       "    </tr>\n",
       "  </tbody>\n",
       "</table>\n",
       "</div>"
      ],
      "text/plain": [
       "  ReferenceDate   Germans  Foreigners     Total  Year  Month  Day  GermansPct  \\\n",
       "0    1970-12-31  58263259     2737905  61001164  1970     12   31        0.96   \n",
       "1    1971-12-31  58314646     3187857  61502503  1971     12   31        0.95   \n",
       "2    1972-12-31  58255300     3554078  61809378  1972     12   31        0.94   \n",
       "3    1973-12-31  58110017     3991352  62101369  1973     12   31        0.94   \n",
       "4    1974-12-31  57940513     4050962  61991475  1974     12   31        0.93   \n",
       "\n",
       "   ForeignersPct  \n",
       "0           0.04  \n",
       "1           0.05  \n",
       "2           0.06  \n",
       "3           0.06  \n",
       "4           0.07  "
      ]
     },
     "execution_count": 10,
     "metadata": {},
     "output_type": "execute_result"
    }
   ],
   "source": [
    "# helper function to calculate the population proportions \n",
    "def ratio(dataframe, series1, series2):\n",
    "    'return the ratio between two series'                   \n",
    "    return series1 / series2\n",
    "\n",
    "df['GermansPct'] = np.round(ratio(df, df['Germans'], df['Total']), 2)\n",
    "df['ForeignersPct'] = np.round(ratio(df, df['Foreigners'], df['Total']), 2)\n",
    "\n",
    "df.head()"
   ]
  },
  {
   "cell_type": "markdown",
   "metadata": {},
   "source": [
    "# Year Grouping"
   ]
  },
  {
   "cell_type": "code",
   "execution_count": 11,
   "metadata": {},
   "outputs": [],
   "source": [
    "df                                                    # year 1970 - 2020\n",
    "df1 = df.iloc[:16]                                    # year 1970 - 1985\n",
    "df2 = df.iloc[16:31]                                  # year 1986 - 2000\n",
    "df3 = df.iloc[31:]                                    # year 2000 upwards"
   ]
  },
  {
   "cell_type": "code",
   "execution_count": 12,
   "metadata": {},
   "outputs": [],
   "source": [
    "# helper function for formatting plot y-axis\n",
    "from matplotlib.ticker import FuncFormatter\n",
    "def millions(x, pos):\n",
    "    'The two args are the value and tick position'\n",
    "    return '%1.1fM' % (x * 1e-6)\n",
    "\n",
    "formatter = FuncFormatter(millions)"
   ]
  },
  {
   "cell_type": "markdown",
   "metadata": {},
   "source": [
    "# Data Visualization"
   ]
  },
  {
   "cell_type": "code",
   "execution_count": 13,
   "metadata": {},
   "outputs": [
    {
     "data": {
      "text/plain": [
       "<matplotlib.legend.Legend at 0x1561786e1c0>"
      ]
     },
     "execution_count": 13,
     "metadata": {},
     "output_type": "execute_result"
    },
    {
     "data": {
      "image/png": "[encoded data removed]",
      "text/plain": [
       "<Figure size 864x432 with 4 Axes>"
      ]
     },
     "metadata": {},
     "output_type": "display_data"
    }
   ],
   "source": [
    "# initialize the matplotlib figure\n",
    "fig, axs = plt.subplots(2, 2, figsize=(12, 6))\n",
    "plt.suptitle('Germany Population by Nationality (1970 - 2020)')\n",
    "fig.supxlabel('Year')\n",
    "fig.supylabel('Population in million')\n",
    "\n",
    "# population growth by Nationality between 1970 - 1985\n",
    "axs[0, 0].plot(df1['ReferenceDate'], df1['Germans'], label='Germans', linewidth=2)\n",
    "axs[0, 0].plot(df1['ReferenceDate'], df1['Foreigners'], label='Foreigners', linewidth=2)\n",
    "axs[0, 0].plot(df1['ReferenceDate'], df1['Total'], label='Total', linewidth=2)\n",
    "axs[0, 0].set(title='Germany Population by Nationality (1970 - 1985)', xlabel='', ylabel='')\n",
    "axs[0, 0].yaxis.set_major_formatter(formatter)\n",
    "axs[0, 0].legend(loc='center right')\n",
    "\n",
    "# population growth by Nationality between 1986 - 2000\n",
    "axs[0, 1].plot(df2['ReferenceDate'], df2['Germans'], label='Germans', linewidth=2)\n",
    "axs[0, 1].plot(df2['ReferenceDate'], df2['Foreigners'], label='Foreigners', linewidth=2)\n",
    "axs[0, 1].plot(df2['ReferenceDate'], df2['Total'], label='Total', linewidth=2)\n",
    "axs[0, 1].set(title='Germany Population by Nationality (1986 - 2000)', xlabel='', ylabel='')\n",
    "axs[0, 1].yaxis.set_major_formatter(formatter)\n",
    "axs[0, 1].legend(loc='center right')\n",
    "\n",
    "# population growth by Nationality between 2001 - 2020\n",
    "axs[1, 0].plot(df3['ReferenceDate'], df3['Germans'], label='Germans', linewidth=2)\n",
    "axs[1, 0].plot(df3['ReferenceDate'], df3['Foreigners'], label='Foreigners', linewidth=2)\n",
    "axs[1, 0].plot(df3['ReferenceDate'], df3['Total'], label='Total', linewidth=2)\n",
    "axs[1, 0].set(title='Germany Population by Nationality (2001 - 2020)', xlabel='', ylabel='')\n",
    "axs[1, 0].yaxis.set_major_formatter(formatter)\n",
    "axs[1, 0].legend(loc='center right')\n",
    "\n",
    "# population growth by Nationality between 1970 - 2020\n",
    "axs[1, 1].plot(df['ReferenceDate'], df['Germans'], label='Germans', linewidth=2)\n",
    "axs[1, 1].plot(df['ReferenceDate'], df['Foreigners'], label='Foreigners', linewidth=2)\n",
    "axs[1, 1].plot(df['ReferenceDate'], df['Total'], label='Total', linewidth=2)\n",
    "axs[1, 1].set(title='Germany Population by Nationality (1970 - 2020)', xlabel='', ylabel='')\n",
    "axs[1, 1].yaxis.set_major_formatter(formatter)\n",
    "axs[1, 1].legend(loc='center right')"
   ]
  },
  {
   "cell_type": "code",
   "execution_count": 14,
   "metadata": {},
   "outputs": [],
   "source": [
    "# helper function for formatting plot y-axis\n",
    "from matplotlib.ticker import FuncFormatter\n",
    "def percentage(x, pos):\n",
    "    'The two args are the value and tick position'\n",
    "    return '%1.1f' % (x * 100)\n",
    "\n",
    "formatter1 = FuncFormatter(percentage)"
   ]
  },
  {
   "cell_type": "code",
   "execution_count": 15,
   "metadata": {},
   "outputs": [
    {
     "data": {
      "text/plain": [
       "<matplotlib.legend.Legend at 0x15618720ee0>"
      ]
     },
     "execution_count": 15,
     "metadata": {},
     "output_type": "execute_result"
    },
    {
     "data": {
      "image/png": "[encoded data removed]",
      "text/plain": [
       "<Figure size 864x432 with 1 Axes>"
      ]
     },
     "metadata": {},
     "output_type": "display_data"
    }
   ],
   "source": [
    "# initialize the matplotlib figure\n",
    "fig1, ax1 = plt.subplots(1, 1, figsize=(12, 6))\n",
    "fig.autofmt_xdate()\n",
    "\n",
    "# population growth by Nationality between 1970 - 2020\n",
    "ax1.plot(df['ReferenceDate'], df['GermansPct'], label='Germans', linewidth=2)\n",
    "ax1.plot(df['ReferenceDate'], df['ForeignersPct'], label='Foreigners', linewidth=2)\n",
    "\n",
    "# label plot\n",
    "ax1.set(title='Germany Population Proportion by Nationality (1970 - 2020)', \n",
    "        xlabel='Year', ylabel='Population Proportion in Percentage')\n",
    "\n",
    "# apply y-axis formatter and legend \n",
    "ax1.yaxis.set_major_formatter(formatter1)\n",
    "ax1.legend(loc='center right')"
   ]
  }
 ],
 "metadata": {
  "interpreter": {
   "hash": "3fe9daace87ea8cb12e037f7452ad9bcd52f59aa894a611255d1461de3a9065e"
  },
  "kernelspec": {
   "display_name": "Python 3.9.7 64-bit ('DS': conda)",
   "language": "python",
   "name": "python3"
  },
  "language_info": {
   "codemirror_mode": {
    "name": "ipython",
    "version": 3
   },
   "file_extension": ".py",
   "mimetype": "text/x-python",
   "name": "python",
   "nbconvert_exporter": "python",
   "pygments_lexer": "ipython3",
   "version": "3.9.7"
  },
  "orig_nbformat": 4
 },
 "nbformat": 4,
 "nbformat_minor": 2
}
