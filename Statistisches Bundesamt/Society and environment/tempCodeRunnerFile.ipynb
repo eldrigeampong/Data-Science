# initialize the matplotlib figure
fig, axs = plt.subplots(2, 2, figsize=(12, 6))
plt.suptitle('Germany Current Population')
fig.supxlabel('Year')
fig.supylabel('Population in million')