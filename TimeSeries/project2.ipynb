{
 "cells": [
  {
   "cell_type": "markdown",
   "metadata": {},
   "source": [
    "# Metro-Bike-Share"
   ]
  },
  {
   "cell_type": "markdown",
   "metadata": {},
   "source": [
    "Data Source: https://bikeshare.metro.net/about/data/"
   ]
  },
  {
   "cell_type": "markdown",
   "metadata": {},
   "source": [
    "# Import Libraries"
   ]
  },
  {
   "cell_type": "code",
   "execution_count": 1,
   "metadata": {},
   "outputs": [],
   "source": [
    "import numpy as np\n",
    "import pandas as pd\n",
    "import matplotlib.pyplot as plt\n",
    "import seaborn as sns\n",
    "import datetime\n",
    "import os\n",
    "import warnings"
   ]
  },
  {
   "cell_type": "markdown",
   "metadata": {},
   "source": [
    "# Options and Settings"
   ]
  },
  {
   "cell_type": "code",
   "execution_count": 2,
   "metadata": {},
   "outputs": [],
   "source": [
    "%matplotlib inline\n",
    "plt.style.use('ggplot')\n",
    "plt.rcParams['figure.autolayout'] = True\n",
    "plt.rcParams['figure.figsize'] = [12, 9]\n",
    "plt.rcParams['font.size'] = 12\n",
    "path = os.getcwd()                                         # get current working directory\n",
    "warnings.simplefilter('ignore')"
   ]
  },
  {
   "cell_type": "markdown",
   "metadata": {},
   "source": [
    "# Import Data"
   ]
  },
  {
   "cell_type": "code",
   "execution_count": 3,
   "metadata": {},
   "outputs": [],
   "source": [
    "filepath = os.path.join('datasets', 'metro-trips-2021.csv')\n",
    "df = pd.read_csv(filepath)"
   ]
  },
  {
   "cell_type": "markdown",
   "metadata": {},
   "source": [
    "# Head and Tail"
   ]
  },
  {
   "cell_type": "code",
   "execution_count": 4,
   "metadata": {},
   "outputs": [
    {
     "data": {
      "text/html": [
       "<div>\n",
       "<style scoped>\n",
       "    .dataframe tbody tr th:only-of-type {\n",
       "        vertical-align: middle;\n",
       "    }\n",
       "\n",
       "    .dataframe tbody tr th {\n",
       "        vertical-align: top;\n",
       "    }\n",
       "\n",
       "    .dataframe thead th {\n",
       "        text-align: right;\n",
       "    }\n",
       "</style>\n",
       "<table border=\"1\" class=\"dataframe\">\n",
       "  <thead>\n",
       "    <tr style=\"text-align: right;\">\n",
       "      <th></th>\n",
       "      <th>trip_id</th>\n",
       "      <th>duration</th>\n",
       "      <th>start_time</th>\n",
       "      <th>end_time</th>\n",
       "      <th>start_station</th>\n",
       "      <th>start_lat</th>\n",
       "      <th>start_lon</th>\n",
       "      <th>end_station</th>\n",
       "      <th>end_lat</th>\n",
       "      <th>end_lon</th>\n",
       "      <th>bike_id</th>\n",
       "      <th>plan_duration</th>\n",
       "      <th>trip_route_category</th>\n",
       "      <th>passholder_type</th>\n",
       "      <th>bike_type</th>\n",
       "    </tr>\n",
       "  </thead>\n",
       "  <tbody>\n",
       "    <tr>\n",
       "      <th>0</th>\n",
       "      <td>151713183</td>\n",
       "      <td>17</td>\n",
       "      <td>1/1/2021 1:45</td>\n",
       "      <td>1/1/2021 2:02</td>\n",
       "      <td>3005</td>\n",
       "      <td>34.048500</td>\n",
       "      <td>-118.258537</td>\n",
       "      <td>4304</td>\n",
       "      <td>34.062580</td>\n",
       "      <td>-118.290092</td>\n",
       "      <td>5894</td>\n",
       "      <td>1</td>\n",
       "      <td>One Way</td>\n",
       "      <td>Walk-up</td>\n",
       "      <td>standard</td>\n",
       "    </tr>\n",
       "    <tr>\n",
       "      <th>1</th>\n",
       "      <td>151713983</td>\n",
       "      <td>7</td>\n",
       "      <td>1/1/2021 2:35</td>\n",
       "      <td>1/1/2021 2:42</td>\n",
       "      <td>4390</td>\n",
       "      <td>34.069271</td>\n",
       "      <td>-118.296593</td>\n",
       "      <td>4456</td>\n",
       "      <td>34.052429</td>\n",
       "      <td>-118.302017</td>\n",
       "      <td>16901</td>\n",
       "      <td>365</td>\n",
       "      <td>One Way</td>\n",
       "      <td>Annual Pass</td>\n",
       "      <td>electric</td>\n",
       "    </tr>\n",
       "    <tr>\n",
       "      <th>2</th>\n",
       "      <td>151716483</td>\n",
       "      <td>8</td>\n",
       "      <td>1/1/2021 4:28</td>\n",
       "      <td>1/1/2021 4:36</td>\n",
       "      <td>3052</td>\n",
       "      <td>34.051102</td>\n",
       "      <td>-118.264557</td>\n",
       "      <td>4314</td>\n",
       "      <td>34.057709</td>\n",
       "      <td>-118.279762</td>\n",
       "      <td>6005</td>\n",
       "      <td>30</td>\n",
       "      <td>One Way</td>\n",
       "      <td>Monthly Pass</td>\n",
       "      <td>standard</td>\n",
       "    </tr>\n",
       "    <tr>\n",
       "      <th>3</th>\n",
       "      <td>151721185</td>\n",
       "      <td>208</td>\n",
       "      <td>1/1/2021 4:43</td>\n",
       "      <td>1/1/2021 8:11</td>\n",
       "      <td>3034</td>\n",
       "      <td>34.042061</td>\n",
       "      <td>-118.263382</td>\n",
       "      <td>3031</td>\n",
       "      <td>34.044701</td>\n",
       "      <td>-118.252441</td>\n",
       "      <td>5852</td>\n",
       "      <td>1</td>\n",
       "      <td>One Way</td>\n",
       "      <td>Walk-up</td>\n",
       "      <td>standard</td>\n",
       "    </tr>\n",
       "    <tr>\n",
       "      <th>4</th>\n",
       "      <td>151720984</td>\n",
       "      <td>129</td>\n",
       "      <td>1/1/2021 5:53</td>\n",
       "      <td>1/1/2021 8:02</td>\n",
       "      <td>4446</td>\n",
       "      <td>34.053230</td>\n",
       "      <td>-118.278419</td>\n",
       "      <td>4446</td>\n",
       "      <td>34.053230</td>\n",
       "      <td>-118.278419</td>\n",
       "      <td>12075</td>\n",
       "      <td>1</td>\n",
       "      <td>Round Trip</td>\n",
       "      <td>Walk-up</td>\n",
       "      <td>standard</td>\n",
       "    </tr>\n",
       "    <tr>\n",
       "      <th>...</th>\n",
       "      <td>...</td>\n",
       "      <td>...</td>\n",
       "      <td>...</td>\n",
       "      <td>...</td>\n",
       "      <td>...</td>\n",
       "      <td>...</td>\n",
       "      <td>...</td>\n",
       "      <td>...</td>\n",
       "      <td>...</td>\n",
       "      <td>...</td>\n",
       "      <td>...</td>\n",
       "      <td>...</td>\n",
       "      <td>...</td>\n",
       "      <td>...</td>\n",
       "      <td>...</td>\n",
       "    </tr>\n",
       "    <tr>\n",
       "      <th>220992</th>\n",
       "      <td>179408277</td>\n",
       "      <td>19</td>\n",
       "      <td>12/31/2021 23:29</td>\n",
       "      <td>12/31/2021 23:48</td>\n",
       "      <td>3033</td>\n",
       "      <td>34.040989</td>\n",
       "      <td>-118.255798</td>\n",
       "      <td>3011</td>\n",
       "      <td>34.041130</td>\n",
       "      <td>-118.267982</td>\n",
       "      <td>14027</td>\n",
       "      <td>1</td>\n",
       "      <td>One Way</td>\n",
       "      <td>One Day Pass</td>\n",
       "      <td>standard</td>\n",
       "    </tr>\n",
       "    <tr>\n",
       "      <th>220993</th>\n",
       "      <td>179408276</td>\n",
       "      <td>8</td>\n",
       "      <td>12/31/2021 23:40</td>\n",
       "      <td>12/31/2021 23:48</td>\n",
       "      <td>3031</td>\n",
       "      <td>34.044701</td>\n",
       "      <td>-118.252441</td>\n",
       "      <td>3030</td>\n",
       "      <td>34.051941</td>\n",
       "      <td>-118.243530</td>\n",
       "      <td>20006</td>\n",
       "      <td>365</td>\n",
       "      <td>One Way</td>\n",
       "      <td>Annual Pass</td>\n",
       "      <td>standard</td>\n",
       "    </tr>\n",
       "    <tr>\n",
       "      <th>220994</th>\n",
       "      <td>179409877</td>\n",
       "      <td>43</td>\n",
       "      <td>12/31/2021 23:47</td>\n",
       "      <td>1/1/2022 0:30</td>\n",
       "      <td>3031</td>\n",
       "      <td>34.044701</td>\n",
       "      <td>-118.252441</td>\n",
       "      <td>3031</td>\n",
       "      <td>34.044701</td>\n",
       "      <td>-118.252441</td>\n",
       "      <td>16214</td>\n",
       "      <td>1</td>\n",
       "      <td>Round Trip</td>\n",
       "      <td>Walk-up</td>\n",
       "      <td>standard</td>\n",
       "    </tr>\n",
       "    <tr>\n",
       "      <th>220995</th>\n",
       "      <td>179409876</td>\n",
       "      <td>42</td>\n",
       "      <td>12/31/2021 23:48</td>\n",
       "      <td>1/1/2022 0:30</td>\n",
       "      <td>3031</td>\n",
       "      <td>34.044701</td>\n",
       "      <td>-118.252441</td>\n",
       "      <td>3031</td>\n",
       "      <td>34.044701</td>\n",
       "      <td>-118.252441</td>\n",
       "      <td>13336</td>\n",
       "      <td>1</td>\n",
       "      <td>Round Trip</td>\n",
       "      <td>Walk-up</td>\n",
       "      <td>standard</td>\n",
       "    </tr>\n",
       "    <tr>\n",
       "      <th>220996</th>\n",
       "      <td>179492474</td>\n",
       "      <td>1440</td>\n",
       "      <td>12/31/2021 23:48</td>\n",
       "      <td>1/2/2022 12:56</td>\n",
       "      <td>3030</td>\n",
       "      <td>34.051941</td>\n",
       "      <td>-118.243530</td>\n",
       "      <td>4491</td>\n",
       "      <td>34.047440</td>\n",
       "      <td>-118.247940</td>\n",
       "      <td>6117</td>\n",
       "      <td>1</td>\n",
       "      <td>One Way</td>\n",
       "      <td>One Day Pass</td>\n",
       "      <td>standard</td>\n",
       "    </tr>\n",
       "  </tbody>\n",
       "</table>\n",
       "<p>220997 rows × 15 columns</p>\n",
       "</div>"
      ],
      "text/plain": [
       "          trip_id  duration        start_time          end_time  \\\n",
       "0       151713183        17     1/1/2021 1:45     1/1/2021 2:02   \n",
       "1       151713983         7     1/1/2021 2:35     1/1/2021 2:42   \n",
       "2       151716483         8     1/1/2021 4:28     1/1/2021 4:36   \n",
       "3       151721185       208     1/1/2021 4:43     1/1/2021 8:11   \n",
       "4       151720984       129     1/1/2021 5:53     1/1/2021 8:02   \n",
       "...           ...       ...               ...               ...   \n",
       "220992  179408277        19  12/31/2021 23:29  12/31/2021 23:48   \n",
       "220993  179408276         8  12/31/2021 23:40  12/31/2021 23:48   \n",
       "220994  179409877        43  12/31/2021 23:47     1/1/2022 0:30   \n",
       "220995  179409876        42  12/31/2021 23:48     1/1/2022 0:30   \n",
       "220996  179492474      1440  12/31/2021 23:48    1/2/2022 12:56   \n",
       "\n",
       "        start_station  start_lat   start_lon  end_station    end_lat  \\\n",
       "0                3005  34.048500 -118.258537         4304  34.062580   \n",
       "1                4390  34.069271 -118.296593         4456  34.052429   \n",
       "2                3052  34.051102 -118.264557         4314  34.057709   \n",
       "3                3034  34.042061 -118.263382         3031  34.044701   \n",
       "4                4446  34.053230 -118.278419         4446  34.053230   \n",
       "...               ...        ...         ...          ...        ...   \n",
       "220992           3033  34.040989 -118.255798         3011  34.041130   \n",
       "220993           3031  34.044701 -118.252441         3030  34.051941   \n",
       "220994           3031  34.044701 -118.252441         3031  34.044701   \n",
       "220995           3031  34.044701 -118.252441         3031  34.044701   \n",
       "220996           3030  34.051941 -118.243530         4491  34.047440   \n",
       "\n",
       "           end_lon bike_id  plan_duration trip_route_category passholder_type  \\\n",
       "0      -118.290092    5894              1             One Way         Walk-up   \n",
       "1      -118.302017   16901            365             One Way     Annual Pass   \n",
       "2      -118.279762    6005             30             One Way    Monthly Pass   \n",
       "3      -118.252441    5852              1             One Way         Walk-up   \n",
       "4      -118.278419   12075              1          Round Trip         Walk-up   \n",
       "...            ...     ...            ...                 ...             ...   \n",
       "220992 -118.267982   14027              1             One Way    One Day Pass   \n",
       "220993 -118.243530   20006            365             One Way     Annual Pass   \n",
       "220994 -118.252441   16214              1          Round Trip         Walk-up   \n",
       "220995 -118.252441   13336              1          Round Trip         Walk-up   \n",
       "220996 -118.247940    6117              1             One Way    One Day Pass   \n",
       "\n",
       "       bike_type  \n",
       "0       standard  \n",
       "1       electric  \n",
       "2       standard  \n",
       "3       standard  \n",
       "4       standard  \n",
       "...          ...  \n",
       "220992  standard  \n",
       "220993  standard  \n",
       "220994  standard  \n",
       "220995  standard  \n",
       "220996  standard  \n",
       "\n",
       "[220997 rows x 15 columns]"
      ]
     },
     "execution_count": 4,
     "metadata": {},
     "output_type": "execute_result"
    }
   ],
   "source": [
    "df"
   ]
  },
  {
   "cell_type": "code",
   "execution_count": 5,
   "metadata": {},
   "outputs": [
    {
     "data": {
      "text/plain": [
       "(220997, 15)"
      ]
     },
     "execution_count": 5,
     "metadata": {},
     "output_type": "execute_result"
    }
   ],
   "source": [
    "df.shape"
   ]
  },
  {
   "cell_type": "code",
   "execution_count": 6,
   "metadata": {},
   "outputs": [
    {
     "name": "stdout",
     "output_type": "stream",
     "text": [
      "<class 'pandas.core.frame.DataFrame'>\n",
      "RangeIndex: 220997 entries, 0 to 220996\n",
      "Data columns (total 15 columns):\n",
      " #   Column               Non-Null Count   Dtype  \n",
      "---  ------               --------------   -----  \n",
      " 0   trip_id              220997 non-null  int64  \n",
      " 1   duration             220997 non-null  int64  \n",
      " 2   start_time           220997 non-null  object \n",
      " 3   end_time             220997 non-null  object \n",
      " 4   start_station        220997 non-null  int64  \n",
      " 5   start_lat            220770 non-null  float64\n",
      " 6   start_lon            220770 non-null  float64\n",
      " 7   end_station          220997 non-null  int64  \n",
      " 8   end_lat              215391 non-null  float64\n",
      " 9   end_lon              215391 non-null  float64\n",
      " 10  bike_id              220997 non-null  object \n",
      " 11  plan_duration        220997 non-null  int64  \n",
      " 12  trip_route_category  220997 non-null  object \n",
      " 13  passholder_type      220996 non-null  object \n",
      " 14  bike_type            220997 non-null  object \n",
      "dtypes: float64(4), int64(5), object(6)\n",
      "memory usage: 25.3+ MB\n"
     ]
    }
   ],
   "source": [
    "df.info()"
   ]
  },
  {
   "cell_type": "code",
   "execution_count": 7,
   "metadata": {},
   "outputs": [],
   "source": [
    "df[['start_time', 'end_time']] = df[['start_time', 'end_time']].apply(pd.to_datetime)   # convert dates to pandas datetime"
   ]
  },
  {
   "cell_type": "code",
   "execution_count": 8,
   "metadata": {},
   "outputs": [],
   "source": [
    "df['day_name'] = df['start_time'].dt.day_name()                                         # add day name    "
   ]
  },
  {
   "cell_type": "code",
   "execution_count": 9,
   "metadata": {},
   "outputs": [
    {
     "name": "stdout",
     "output_type": "stream",
     "text": [
      "<class 'pandas.core.frame.DataFrame'>\n",
      "RangeIndex: 220997 entries, 0 to 220996\n",
      "Data columns (total 16 columns):\n",
      " #   Column               Non-Null Count   Dtype         \n",
      "---  ------               --------------   -----         \n",
      " 0   trip_id              220997 non-null  int64         \n",
      " 1   duration             220997 non-null  int64         \n",
      " 2   start_time           220997 non-null  datetime64[ns]\n",
      " 3   end_time             220997 non-null  datetime64[ns]\n",
      " 4   start_station        220997 non-null  int64         \n",
      " 5   start_lat            220770 non-null  float64       \n",
      " 6   start_lon            220770 non-null  float64       \n",
      " 7   end_station          220997 non-null  int64         \n",
      " 8   end_lat              215391 non-null  float64       \n",
      " 9   end_lon              215391 non-null  float64       \n",
      " 10  bike_id              220997 non-null  object        \n",
      " 11  plan_duration        220997 non-null  int64         \n",
      " 12  trip_route_category  220997 non-null  object        \n",
      " 13  passholder_type      220996 non-null  object        \n",
      " 14  bike_type            220997 non-null  object        \n",
      " 15  day_name             220997 non-null  object        \n",
      "dtypes: datetime64[ns](2), float64(4), int64(5), object(5)\n",
      "memory usage: 27.0+ MB\n"
     ]
    }
   ],
   "source": [
    "df.info()"
   ]
  },
  {
   "cell_type": "markdown",
   "metadata": {},
   "source": [
    "# Missing Data Exploration"
   ]
  },
  {
   "cell_type": "code",
   "execution_count": 10,
   "metadata": {},
   "outputs": [
    {
     "data": {
      "text/plain": [
       "trip_id                   0\n",
       "duration                  0\n",
       "start_time                0\n",
       "end_time                  0\n",
       "start_station             0\n",
       "start_lat               227\n",
       "start_lon               227\n",
       "end_station               0\n",
       "end_lat                5606\n",
       "end_lon                5606\n",
       "bike_id                   0\n",
       "plan_duration             0\n",
       "trip_route_category       0\n",
       "passholder_type           1\n",
       "bike_type                 0\n",
       "day_name                  0\n",
       "dtype: int64"
      ]
     },
     "execution_count": 10,
     "metadata": {},
     "output_type": "execute_result"
    }
   ],
   "source": [
    "df.isna().sum()                                               # less than 1% missing data in (longitute and latitude) columns"
   ]
  },
  {
   "cell_type": "code",
   "execution_count": 11,
   "metadata": {},
   "outputs": [
    {
     "data": {
      "text/html": [
       "<div>\n",
       "<style scoped>\n",
       "    .dataframe tbody tr th:only-of-type {\n",
       "        vertical-align: middle;\n",
       "    }\n",
       "\n",
       "    .dataframe tbody tr th {\n",
       "        vertical-align: top;\n",
       "    }\n",
       "\n",
       "    .dataframe thead th {\n",
       "        text-align: right;\n",
       "    }\n",
       "</style>\n",
       "<table border=\"1\" class=\"dataframe\">\n",
       "  <thead>\n",
       "    <tr style=\"text-align: right;\">\n",
       "      <th></th>\n",
       "      <th>trip_id</th>\n",
       "      <th>duration</th>\n",
       "      <th>start_time</th>\n",
       "      <th>end_time</th>\n",
       "      <th>start_station</th>\n",
       "      <th>start_lat</th>\n",
       "      <th>start_lon</th>\n",
       "      <th>end_station</th>\n",
       "      <th>end_lat</th>\n",
       "      <th>end_lon</th>\n",
       "      <th>bike_id</th>\n",
       "      <th>plan_duration</th>\n",
       "      <th>trip_route_category</th>\n",
       "      <th>passholder_type</th>\n",
       "      <th>bike_type</th>\n",
       "      <th>day_name</th>\n",
       "    </tr>\n",
       "  </thead>\n",
       "  <tbody>\n",
       "    <tr>\n",
       "      <th>0</th>\n",
       "      <td>151713183</td>\n",
       "      <td>17</td>\n",
       "      <td>2021-01-01 01:45:00</td>\n",
       "      <td>2021-01-01 02:02:00</td>\n",
       "      <td>3005</td>\n",
       "      <td>34.048500</td>\n",
       "      <td>-118.258537</td>\n",
       "      <td>4304</td>\n",
       "      <td>34.062580</td>\n",
       "      <td>-118.290092</td>\n",
       "      <td>5894</td>\n",
       "      <td>1</td>\n",
       "      <td>One Way</td>\n",
       "      <td>Walk-up</td>\n",
       "      <td>standard</td>\n",
       "      <td>Friday</td>\n",
       "    </tr>\n",
       "    <tr>\n",
       "      <th>1</th>\n",
       "      <td>151713983</td>\n",
       "      <td>7</td>\n",
       "      <td>2021-01-01 02:35:00</td>\n",
       "      <td>2021-01-01 02:42:00</td>\n",
       "      <td>4390</td>\n",
       "      <td>34.069271</td>\n",
       "      <td>-118.296593</td>\n",
       "      <td>4456</td>\n",
       "      <td>34.052429</td>\n",
       "      <td>-118.302017</td>\n",
       "      <td>16901</td>\n",
       "      <td>365</td>\n",
       "      <td>One Way</td>\n",
       "      <td>Annual Pass</td>\n",
       "      <td>electric</td>\n",
       "      <td>Friday</td>\n",
       "    </tr>\n",
       "    <tr>\n",
       "      <th>2</th>\n",
       "      <td>151716483</td>\n",
       "      <td>8</td>\n",
       "      <td>2021-01-01 04:28:00</td>\n",
       "      <td>2021-01-01 04:36:00</td>\n",
       "      <td>3052</td>\n",
       "      <td>34.051102</td>\n",
       "      <td>-118.264557</td>\n",
       "      <td>4314</td>\n",
       "      <td>34.057709</td>\n",
       "      <td>-118.279762</td>\n",
       "      <td>6005</td>\n",
       "      <td>30</td>\n",
       "      <td>One Way</td>\n",
       "      <td>Monthly Pass</td>\n",
       "      <td>standard</td>\n",
       "      <td>Friday</td>\n",
       "    </tr>\n",
       "    <tr>\n",
       "      <th>3</th>\n",
       "      <td>151721185</td>\n",
       "      <td>208</td>\n",
       "      <td>2021-01-01 04:43:00</td>\n",
       "      <td>2021-01-01 08:11:00</td>\n",
       "      <td>3034</td>\n",
       "      <td>34.042061</td>\n",
       "      <td>-118.263382</td>\n",
       "      <td>3031</td>\n",
       "      <td>34.044701</td>\n",
       "      <td>-118.252441</td>\n",
       "      <td>5852</td>\n",
       "      <td>1</td>\n",
       "      <td>One Way</td>\n",
       "      <td>Walk-up</td>\n",
       "      <td>standard</td>\n",
       "      <td>Friday</td>\n",
       "    </tr>\n",
       "    <tr>\n",
       "      <th>4</th>\n",
       "      <td>151720984</td>\n",
       "      <td>129</td>\n",
       "      <td>2021-01-01 05:53:00</td>\n",
       "      <td>2021-01-01 08:02:00</td>\n",
       "      <td>4446</td>\n",
       "      <td>34.053230</td>\n",
       "      <td>-118.278419</td>\n",
       "      <td>4446</td>\n",
       "      <td>34.053230</td>\n",
       "      <td>-118.278419</td>\n",
       "      <td>12075</td>\n",
       "      <td>1</td>\n",
       "      <td>Round Trip</td>\n",
       "      <td>Walk-up</td>\n",
       "      <td>standard</td>\n",
       "      <td>Friday</td>\n",
       "    </tr>\n",
       "  </tbody>\n",
       "</table>\n",
       "</div>"
      ],
      "text/plain": [
       "     trip_id  duration          start_time            end_time  start_station  \\\n",
       "0  151713183        17 2021-01-01 01:45:00 2021-01-01 02:02:00           3005   \n",
       "1  151713983         7 2021-01-01 02:35:00 2021-01-01 02:42:00           4390   \n",
       "2  151716483         8 2021-01-01 04:28:00 2021-01-01 04:36:00           3052   \n",
       "3  151721185       208 2021-01-01 04:43:00 2021-01-01 08:11:00           3034   \n",
       "4  151720984       129 2021-01-01 05:53:00 2021-01-01 08:02:00           4446   \n",
       "\n",
       "   start_lat   start_lon  end_station    end_lat     end_lon bike_id  \\\n",
       "0  34.048500 -118.258537         4304  34.062580 -118.290092    5894   \n",
       "1  34.069271 -118.296593         4456  34.052429 -118.302017   16901   \n",
       "2  34.051102 -118.264557         4314  34.057709 -118.279762    6005   \n",
       "3  34.042061 -118.263382         3031  34.044701 -118.252441    5852   \n",
       "4  34.053230 -118.278419         4446  34.053230 -118.278419   12075   \n",
       "\n",
       "   plan_duration trip_route_category passholder_type bike_type day_name  \n",
       "0              1             One Way         Walk-up  standard   Friday  \n",
       "1            365             One Way     Annual Pass  electric   Friday  \n",
       "2             30             One Way    Monthly Pass  standard   Friday  \n",
       "3              1             One Way         Walk-up  standard   Friday  \n",
       "4              1          Round Trip         Walk-up  standard   Friday  "
      ]
     },
     "execution_count": 11,
     "metadata": {},
     "output_type": "execute_result"
    }
   ],
   "source": [
    "df_drop = df.dropna()                                           # drop missing values\n",
    "df_drop.head()"
   ]
  },
  {
   "cell_type": "code",
   "execution_count": 12,
   "metadata": {},
   "outputs": [
    {
     "data": {
      "text/plain": [
       "trip_id                0\n",
       "duration               0\n",
       "start_time             0\n",
       "end_time               0\n",
       "start_station          0\n",
       "start_lat              0\n",
       "start_lon              0\n",
       "end_station            0\n",
       "end_lat                0\n",
       "end_lon                0\n",
       "bike_id                0\n",
       "plan_duration          0\n",
       "trip_route_category    0\n",
       "passholder_type        0\n",
       "bike_type              0\n",
       "day_name               0\n",
       "dtype: int64"
      ]
     },
     "execution_count": 12,
     "metadata": {},
     "output_type": "execute_result"
    }
   ],
   "source": [
    "df_drop.isna().sum()"
   ]
  },
  {
   "cell_type": "code",
   "execution_count": 13,
   "metadata": {},
   "outputs": [
    {
     "data": {
      "text/html": [
       "<div>\n",
       "<style scoped>\n",
       "    .dataframe tbody tr th:only-of-type {\n",
       "        vertical-align: middle;\n",
       "    }\n",
       "\n",
       "    .dataframe tbody tr th {\n",
       "        vertical-align: top;\n",
       "    }\n",
       "\n",
       "    .dataframe thead th {\n",
       "        text-align: right;\n",
       "    }\n",
       "</style>\n",
       "<table border=\"1\" class=\"dataframe\">\n",
       "  <thead>\n",
       "    <tr style=\"text-align: right;\">\n",
       "      <th></th>\n",
       "      <th>bike_id</th>\n",
       "      <th>trip_route_category</th>\n",
       "      <th>passholder_type</th>\n",
       "      <th>bike_type</th>\n",
       "      <th>day_name</th>\n",
       "    </tr>\n",
       "  </thead>\n",
       "  <tbody>\n",
       "    <tr>\n",
       "      <th>count</th>\n",
       "      <td>215242</td>\n",
       "      <td>215242</td>\n",
       "      <td>215242</td>\n",
       "      <td>215242</td>\n",
       "      <td>215242</td>\n",
       "    </tr>\n",
       "    <tr>\n",
       "      <th>unique</th>\n",
       "      <td>3095</td>\n",
       "      <td>2</td>\n",
       "      <td>5</td>\n",
       "      <td>3</td>\n",
       "      <td>7</td>\n",
       "    </tr>\n",
       "    <tr>\n",
       "      <th>top</th>\n",
       "      <td>17174</td>\n",
       "      <td>One Way</td>\n",
       "      <td>Monthly Pass</td>\n",
       "      <td>standard</td>\n",
       "      <td>Saturday</td>\n",
       "    </tr>\n",
       "    <tr>\n",
       "      <th>freq</th>\n",
       "      <td>758</td>\n",
       "      <td>165780</td>\n",
       "      <td>101397</td>\n",
       "      <td>161299</td>\n",
       "      <td>36860</td>\n",
       "    </tr>\n",
       "  </tbody>\n",
       "</table>\n",
       "</div>"
      ],
      "text/plain": [
       "       bike_id trip_route_category passholder_type bike_type  day_name\n",
       "count   215242              215242          215242    215242    215242\n",
       "unique    3095                   2               5         3         7\n",
       "top      17174             One Way    Monthly Pass  standard  Saturday\n",
       "freq       758              165780          101397    161299     36860"
      ]
     },
     "execution_count": 13,
     "metadata": {},
     "output_type": "execute_result"
    }
   ],
   "source": [
    "df_drop.describe(include='object')"
   ]
  },
  {
   "cell_type": "code",
   "execution_count": 14,
   "metadata": {},
   "outputs": [
    {
     "data": {
      "text/plain": [
       "17174    758\n",
       "16600    736\n",
       "19112    627\n",
       "16914    624\n",
       "16992    623\n",
       "        ... \n",
       "14054      1\n",
       "15941      1\n",
       "13700      1\n",
       "13420      1\n",
       "15244      1\n",
       "Name: bike_id, Length: 3095, dtype: int64"
      ]
     },
     "execution_count": 14,
     "metadata": {},
     "output_type": "execute_result"
    }
   ],
   "source": [
    "df_drop['bike_id'].value_counts()"
   ]
  },
  {
   "cell_type": "code",
   "execution_count": 15,
   "metadata": {},
   "outputs": [
    {
     "data": {
      "text/plain": [
       "One Way       165780\n",
       "Round Trip     49462\n",
       "Name: trip_route_category, dtype: int64"
      ]
     },
     "execution_count": 15,
     "metadata": {},
     "output_type": "execute_result"
    }
   ],
   "source": [
    "df_drop['trip_route_category'].value_counts()"
   ]
  },
  {
   "cell_type": "code",
   "execution_count": 16,
   "metadata": {},
   "outputs": [
    {
     "data": {
      "text/plain": [
       "Monthly Pass    101397\n",
       "Walk-up          67435\n",
       "One Day Pass     25663\n",
       "Annual Pass      20746\n",
       "Testing              1\n",
       "Name: passholder_type, dtype: int64"
      ]
     },
     "execution_count": 16,
     "metadata": {},
     "output_type": "execute_result"
    }
   ],
   "source": [
    "df_drop['passholder_type'].value_counts()"
   ]
  },
  {
   "cell_type": "code",
   "execution_count": 17,
   "metadata": {},
   "outputs": [
    {
     "data": {
      "text/plain": [
       "standard    161299\n",
       "electric     52225\n",
       "smart         1718\n",
       "Name: bike_type, dtype: int64"
      ]
     },
     "execution_count": 17,
     "metadata": {},
     "output_type": "execute_result"
    }
   ],
   "source": [
    "df_drop['bike_type'].value_counts()"
   ]
  },
  {
   "cell_type": "code",
   "execution_count": 18,
   "metadata": {},
   "outputs": [
    {
     "data": {
      "text/plain": [
       "Saturday     36860\n",
       "Sunday       35966\n",
       "Friday       31298\n",
       "Thursday     28488\n",
       "Tuesday      28165\n",
       "Wednesday    27997\n",
       "Monday       26468\n",
       "Name: day_name, dtype: int64"
      ]
     },
     "execution_count": 18,
     "metadata": {},
     "output_type": "execute_result"
    }
   ],
   "source": [
    "df_drop['day_name'].value_counts()"
   ]
  },
  {
   "cell_type": "code",
   "execution_count": 19,
   "metadata": {},
   "outputs": [
    {
     "data": {
      "text/plain": [
       "count    215242.000000\n",
       "mean         40.369705\n",
       "std          99.009098\n",
       "min           1.000000\n",
       "25%           9.000000\n",
       "50%          19.000000\n",
       "75%          35.000000\n",
       "max        1440.000000\n",
       "Name: duration, dtype: float64"
      ]
     },
     "execution_count": 19,
     "metadata": {},
     "output_type": "execute_result"
    }
   ],
   "source": [
    "df_drop['duration'].describe()"
   ]
  },
  {
   "cell_type": "code",
   "execution_count": 20,
   "metadata": {},
   "outputs": [
    {
     "data": {
      "text/html": [
       "<div>\n",
       "<style scoped>\n",
       "    .dataframe tbody tr th:only-of-type {\n",
       "        vertical-align: middle;\n",
       "    }\n",
       "\n",
       "    .dataframe tbody tr th {\n",
       "        vertical-align: top;\n",
       "    }\n",
       "\n",
       "    .dataframe thead th {\n",
       "        text-align: right;\n",
       "    }\n",
       "</style>\n",
       "<table border=\"1\" class=\"dataframe\">\n",
       "  <thead>\n",
       "    <tr style=\"text-align: right;\">\n",
       "      <th></th>\n",
       "      <th>trip_id</th>\n",
       "      <th>duration</th>\n",
       "      <th>start_time</th>\n",
       "      <th>end_time</th>\n",
       "      <th>start_station</th>\n",
       "      <th>start_lat</th>\n",
       "      <th>start_lon</th>\n",
       "      <th>end_station</th>\n",
       "      <th>end_lat</th>\n",
       "      <th>end_lon</th>\n",
       "      <th>bike_id</th>\n",
       "      <th>plan_duration</th>\n",
       "      <th>trip_route_category</th>\n",
       "      <th>passholder_type</th>\n",
       "      <th>bike_type</th>\n",
       "      <th>day_name</th>\n",
       "    </tr>\n",
       "  </thead>\n",
       "  <tbody>\n",
       "    <tr>\n",
       "      <th>0</th>\n",
       "      <td>151713183</td>\n",
       "      <td>17</td>\n",
       "      <td>2021-01-01 01:45:00</td>\n",
       "      <td>2021-01-01 02:02:00</td>\n",
       "      <td>3005</td>\n",
       "      <td>34.048500</td>\n",
       "      <td>-118.258537</td>\n",
       "      <td>4304</td>\n",
       "      <td>34.062580</td>\n",
       "      <td>-118.290092</td>\n",
       "      <td>5894</td>\n",
       "      <td>1</td>\n",
       "      <td>One Way</td>\n",
       "      <td>Walk-up</td>\n",
       "      <td>standard</td>\n",
       "      <td>Friday</td>\n",
       "    </tr>\n",
       "    <tr>\n",
       "      <th>1</th>\n",
       "      <td>151713983</td>\n",
       "      <td>7</td>\n",
       "      <td>2021-01-01 02:35:00</td>\n",
       "      <td>2021-01-01 02:42:00</td>\n",
       "      <td>4390</td>\n",
       "      <td>34.069271</td>\n",
       "      <td>-118.296593</td>\n",
       "      <td>4456</td>\n",
       "      <td>34.052429</td>\n",
       "      <td>-118.302017</td>\n",
       "      <td>16901</td>\n",
       "      <td>365</td>\n",
       "      <td>One Way</td>\n",
       "      <td>Annual Pass</td>\n",
       "      <td>electric</td>\n",
       "      <td>Friday</td>\n",
       "    </tr>\n",
       "    <tr>\n",
       "      <th>2</th>\n",
       "      <td>151716483</td>\n",
       "      <td>8</td>\n",
       "      <td>2021-01-01 04:28:00</td>\n",
       "      <td>2021-01-01 04:36:00</td>\n",
       "      <td>3052</td>\n",
       "      <td>34.051102</td>\n",
       "      <td>-118.264557</td>\n",
       "      <td>4314</td>\n",
       "      <td>34.057709</td>\n",
       "      <td>-118.279762</td>\n",
       "      <td>6005</td>\n",
       "      <td>30</td>\n",
       "      <td>One Way</td>\n",
       "      <td>Monthly Pass</td>\n",
       "      <td>standard</td>\n",
       "      <td>Friday</td>\n",
       "    </tr>\n",
       "    <tr>\n",
       "      <th>3</th>\n",
       "      <td>151721185</td>\n",
       "      <td>208</td>\n",
       "      <td>2021-01-01 04:43:00</td>\n",
       "      <td>2021-01-01 08:11:00</td>\n",
       "      <td>3034</td>\n",
       "      <td>34.042061</td>\n",
       "      <td>-118.263382</td>\n",
       "      <td>3031</td>\n",
       "      <td>34.044701</td>\n",
       "      <td>-118.252441</td>\n",
       "      <td>5852</td>\n",
       "      <td>1</td>\n",
       "      <td>One Way</td>\n",
       "      <td>Walk-up</td>\n",
       "      <td>standard</td>\n",
       "      <td>Friday</td>\n",
       "    </tr>\n",
       "    <tr>\n",
       "      <th>4</th>\n",
       "      <td>151720984</td>\n",
       "      <td>129</td>\n",
       "      <td>2021-01-01 05:53:00</td>\n",
       "      <td>2021-01-01 08:02:00</td>\n",
       "      <td>4446</td>\n",
       "      <td>34.053230</td>\n",
       "      <td>-118.278419</td>\n",
       "      <td>4446</td>\n",
       "      <td>34.053230</td>\n",
       "      <td>-118.278419</td>\n",
       "      <td>12075</td>\n",
       "      <td>1</td>\n",
       "      <td>Round Trip</td>\n",
       "      <td>Walk-up</td>\n",
       "      <td>standard</td>\n",
       "      <td>Friday</td>\n",
       "    </tr>\n",
       "  </tbody>\n",
       "</table>\n",
       "</div>"
      ],
      "text/plain": [
       "     trip_id  duration          start_time            end_time  start_station  \\\n",
       "0  151713183        17 2021-01-01 01:45:00 2021-01-01 02:02:00           3005   \n",
       "1  151713983         7 2021-01-01 02:35:00 2021-01-01 02:42:00           4390   \n",
       "2  151716483         8 2021-01-01 04:28:00 2021-01-01 04:36:00           3052   \n",
       "3  151721185       208 2021-01-01 04:43:00 2021-01-01 08:11:00           3034   \n",
       "4  151720984       129 2021-01-01 05:53:00 2021-01-01 08:02:00           4446   \n",
       "\n",
       "   start_lat   start_lon  end_station    end_lat     end_lon bike_id  \\\n",
       "0  34.048500 -118.258537         4304  34.062580 -118.290092    5894   \n",
       "1  34.069271 -118.296593         4456  34.052429 -118.302017   16901   \n",
       "2  34.051102 -118.264557         4314  34.057709 -118.279762    6005   \n",
       "3  34.042061 -118.263382         3031  34.044701 -118.252441    5852   \n",
       "4  34.053230 -118.278419         4446  34.053230 -118.278419   12075   \n",
       "\n",
       "   plan_duration trip_route_category passholder_type bike_type day_name  \n",
       "0              1             One Way         Walk-up  standard   Friday  \n",
       "1            365             One Way     Annual Pass  electric   Friday  \n",
       "2             30             One Way    Monthly Pass  standard   Friday  \n",
       "3              1             One Way         Walk-up  standard   Friday  \n",
       "4              1          Round Trip         Walk-up  standard   Friday  "
      ]
     },
     "execution_count": 20,
     "metadata": {},
     "output_type": "execute_result"
    }
   ],
   "source": [
    "df_drop.head()"
   ]
  }
 ],
 "metadata": {
  "interpreter": {
   "hash": "3fe9daace87ea8cb12e037f7452ad9bcd52f59aa894a611255d1461de3a9065e"
  },
  "kernelspec": {
   "display_name": "Python 3.9.7 ('DS')",
   "language": "python",
   "name": "python3"
  },
  "language_info": {
   "codemirror_mode": {
    "name": "ipython",
    "version": 3
   },
   "file_extension": ".py",
   "mimetype": "text/x-python",
   "name": "python",
   "nbconvert_exporter": "python",
   "pygments_lexer": "ipython3",
   "version": "3.9.7"
  },
  "orig_nbformat": 4
 },
 "nbformat": 4,
 "nbformat_minor": 2
}
